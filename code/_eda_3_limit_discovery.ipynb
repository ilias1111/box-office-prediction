{
 "cells": [
  {
   "cell_type": "markdown",
   "metadata": {},
   "source": [
    "# Set up"
   ]
  },
  {
   "cell_type": "code",
   "execution_count": 8,
   "metadata": {},
   "outputs": [],
   "source": [
    "import duckdb\n",
    "import pandas as pd\n",
    "from IPython.display import display\n",
    "import numpy as np\n",
    "import plotly.express as px\n",
    "import plotly.graph_objects as go\n",
    "from plotly.subplots import make_subplots\n",
    "\n",
    "from eda_support_functions import *\n",
    "\n",
    "# Suppress all warnings\n",
    "import warnings\n",
    "\n",
    "warnings.filterwarnings('ignore')"
   ]
  },
  {
   "cell_type": "code",
   "execution_count": 9,
   "metadata": {},
   "outputs": [],
   "source": [
    "full__regression__no_outliers__none = pd.read_csv('../data/ml_ready_data/full__regression__no_outliers__none.csv')"
   ]
  },
  {
   "cell_type": "code",
   "execution_count": 10,
   "metadata": {},
   "outputs": [],
   "source": [
    "full__regression__with_outliers__none = pd.read_csv('../data/ml_ready_data/full__regression__with_outliers__none.csv')"
   ]
  },
  {
   "cell_type": "code",
   "execution_count": 11,
   "metadata": {},
   "outputs": [],
   "source": [
    "full__regression__no_outliers__none.rename(columns={'budget_usd_adj': 'budget', \"revenue_usd_adj\": \"revenue\"}, inplace=True)\n",
    "full__regression__with_outliers__none.rename(columns={'budget_usd_adj': 'budget', \"revenue_usd_adj\": \"revenue\"}, inplace=True)"
   ]
  },
  {
   "cell_type": "code",
   "execution_count": 12,
   "metadata": {},
   "outputs": [
    {
     "data": {
      "text/html": [
       "<style type=\"text/css\">\n",
       "</style>\n",
       "<table id=\"T_111fb\">\n",
       "  <thead>\n",
       "    <tr>\n",
       "      <th class=\"blank level0\" >&nbsp;</th>\n",
       "      <th id=\"T_111fb_level0_col0\" class=\"col_heading level0 col0\" >budget</th>\n",
       "      <th id=\"T_111fb_level0_col1\" class=\"col_heading level0 col1\" >revenue</th>\n",
       "    </tr>\n",
       "  </thead>\n",
       "  <tbody>\n",
       "    <tr>\n",
       "      <th id=\"T_111fb_level0_row0\" class=\"row_heading level0 row0\" >count</th>\n",
       "      <td id=\"T_111fb_row0_col0\" class=\"data row0 col0\" >$7,053</td>\n",
       "      <td id=\"T_111fb_row0_col1\" class=\"data row0 col1\" >$7,053</td>\n",
       "    </tr>\n",
       "    <tr>\n",
       "      <th id=\"T_111fb_level0_row1\" class=\"row_heading level0 row1\" >mean</th>\n",
       "      <td id=\"T_111fb_row1_col0\" class=\"data row1 col0\" >$41,068,872</td>\n",
       "      <td id=\"T_111fb_row1_col1\" class=\"data row1 col1\" >$97,263,313</td>\n",
       "    </tr>\n",
       "    <tr>\n",
       "      <th id=\"T_111fb_level0_row2\" class=\"row_heading level0 row2\" >std</th>\n",
       "      <td id=\"T_111fb_row2_col0\" class=\"data row2 col0\" >$48,081,659</td>\n",
       "      <td id=\"T_111fb_row2_col1\" class=\"data row2 col1\" >$199,139,368</td>\n",
       "    </tr>\n",
       "    <tr>\n",
       "      <th id=\"T_111fb_level0_row3\" class=\"row_heading level0 row3\" >min</th>\n",
       "      <td id=\"T_111fb_row3_col0\" class=\"data row3 col0\" >$35,568</td>\n",
       "      <td id=\"T_111fb_row3_col1\" class=\"data row3 col1\" >$28,233</td>\n",
       "    </tr>\n",
       "    <tr>\n",
       "      <th id=\"T_111fb_level0_row4\" class=\"row_heading level0 row4\" >25%</th>\n",
       "      <td id=\"T_111fb_row4_col0\" class=\"data row4 col0\" >$10,543,322</td>\n",
       "      <td id=\"T_111fb_row4_col1\" class=\"data row4 col1\" >$8,902,603</td>\n",
       "    </tr>\n",
       "    <tr>\n",
       "      <th id=\"T_111fb_level0_row5\" class=\"row_heading level0 row5\" >50%</th>\n",
       "      <td id=\"T_111fb_row5_col0\" class=\"data row5 col0\" >$25,737,369</td>\n",
       "      <td id=\"T_111fb_row5_col1\" class=\"data row5 col1\" >$32,610,539</td>\n",
       "    </tr>\n",
       "    <tr>\n",
       "      <th id=\"T_111fb_level0_row6\" class=\"row_heading level0 row6\" >75%</th>\n",
       "      <td id=\"T_111fb_row6_col0\" class=\"data row6 col0\" >$51,422,809</td>\n",
       "      <td id=\"T_111fb_row6_col1\" class=\"data row6 col1\" >$99,679,465</td>\n",
       "    </tr>\n",
       "    <tr>\n",
       "      <th id=\"T_111fb_level0_row7\" class=\"row_heading level0 row7\" >max</th>\n",
       "      <td id=\"T_111fb_row7_col0\" class=\"data row7 col0\" >$513,392,778</td>\n",
       "      <td id=\"T_111fb_row7_col1\" class=\"data row7 col1\" >$4,298,409,952</td>\n",
       "    </tr>\n",
       "  </tbody>\n",
       "</table>\n"
      ],
      "text/plain": [
       "<pandas.io.formats.style.Styler at 0x11faa7a40>"
      ]
     },
     "metadata": {},
     "output_type": "display_data"
    }
   ],
   "source": [
    "display(full__regression__no_outliers__none[['budget', 'revenue']].describe().style.format({'budget': \"${:,.0f}\",'revenue': \"${:,.0f}\"}))"
   ]
  },
  {
   "cell_type": "code",
   "execution_count": 13,
   "metadata": {},
   "outputs": [],
   "source": [
    "import pandas as pd\n",
    "import numpy as np\n",
    "\n",
    "def flexible_budget_grouping(df, n_groups, flexibility=0.1):\n",
    "    # Sort the dataframe by budget\n",
    "    df_sorted = df.sort_values('budget')\n",
    "    \n",
    "    # Calculate the ideal size for each group\n",
    "    ideal_size = len(df) / n_groups\n",
    "    \n",
    "    # Initialize groups\n",
    "    groups = []\n",
    "    current_group = []\n",
    "    current_size = 0\n",
    "    \n",
    "    for _, movie in df_sorted.iterrows():\n",
    "        current_group.append(movie)\n",
    "        current_size += 1\n",
    "        \n",
    "        # Check if we should start a new group\n",
    "        if current_size >= ideal_size * (1 - flexibility) and len(groups) < n_groups - 1:\n",
    "            # If we're close to the ideal size or over it, and we're not on the last group\n",
    "            groups.append(current_group)\n",
    "            current_group = []\n",
    "            current_size = 0\n",
    "    \n",
    "    # Add the last group\n",
    "    groups.append(current_group)\n",
    "    \n",
    "    # Assign group labels\n",
    "    df['group'] = 0\n",
    "    for i, group in enumerate(groups):\n",
    "        for movie in group:\n",
    "            df.loc[movie.name, 'group'] = i\n",
    "    \n",
    "    # Print group statistics\n",
    "    for i in range(n_groups):\n",
    "        group_data = df[df['group'] == i]\n",
    "        print(f\"Group {i}:\")\n",
    "        print(f\"  Budget range: {group_data['budget'].min():,.0f} - {group_data['budget'].max():,.0f}\")\n",
    "        # Print budget std\n",
    "        print(f\"  Budget std: {group_data['budget'].std():,.0f}\")\n",
    "        # Print normalized budget std\n",
    "        print(f\"  Normalized budget std: {group_data['budget'].std() / group_data['budget'].mean():.2f}\")\n",
    "        print(f\"  Revenue range: {group_data['revenue'].min():,.0f} - {group_data['revenue'].max():,.0f}\")\n",
    "        print(f\"  Number of movies: {len(group_data)}\")\n",
    "        display(group_data[['budget', 'revenue']].describe().style.format({'budget': \"${:,.0f}\",'revenue': \"${:,.0f}\"}))"
   ]
  },
  {
   "cell_type": "code",
   "execution_count": 14,
   "metadata": {},
   "outputs": [
    {
     "name": "stdout",
     "output_type": "stream",
     "text": [
      "Group 0:\n",
      "  Budget range: 35,568 - 13,079,753\n",
      "  Budget std: 3,780,787\n",
      "  Normalized budget std: 0.62\n",
      "  Revenue range: 28,233 - 152,742,645\n",
      "  Number of movies: 2116\n"
     ]
    },
    {
     "data": {
      "text/html": [
       "<style type=\"text/css\">\n",
       "</style>\n",
       "<table id=\"T_30525\">\n",
       "  <thead>\n",
       "    <tr>\n",
       "      <th class=\"blank level0\" >&nbsp;</th>\n",
       "      <th id=\"T_30525_level0_col0\" class=\"col_heading level0 col0\" >budget</th>\n",
       "      <th id=\"T_30525_level0_col1\" class=\"col_heading level0 col1\" >revenue</th>\n",
       "    </tr>\n",
       "  </thead>\n",
       "  <tbody>\n",
       "    <tr>\n",
       "      <th id=\"T_30525_level0_row0\" class=\"row_heading level0 row0\" >count</th>\n",
       "      <td id=\"T_30525_row0_col0\" class=\"data row0 col0\" >$2,116</td>\n",
       "      <td id=\"T_30525_row0_col1\" class=\"data row0 col1\" >$2,116</td>\n",
       "    </tr>\n",
       "    <tr>\n",
       "      <th id=\"T_30525_level0_row1\" class=\"row_heading level0 row1\" >mean</th>\n",
       "      <td id=\"T_30525_row1_col0\" class=\"data row1 col0\" >$6,146,895</td>\n",
       "      <td id=\"T_30525_row1_col1\" class=\"data row1 col1\" >$13,944,135</td>\n",
       "    </tr>\n",
       "    <tr>\n",
       "      <th id=\"T_30525_level0_row2\" class=\"row_heading level0 row2\" >std</th>\n",
       "      <td id=\"T_30525_row2_col0\" class=\"data row2 col0\" >$3,780,787</td>\n",
       "      <td id=\"T_30525_row2_col1\" class=\"data row2 col1\" >$19,656,405</td>\n",
       "    </tr>\n",
       "    <tr>\n",
       "      <th id=\"T_30525_level0_row3\" class=\"row_heading level0 row3\" >min</th>\n",
       "      <td id=\"T_30525_row3_col0\" class=\"data row3 col0\" >$35,568</td>\n",
       "      <td id=\"T_30525_row3_col1\" class=\"data row3 col1\" >$28,233</td>\n",
       "    </tr>\n",
       "    <tr>\n",
       "      <th id=\"T_30525_level0_row4\" class=\"row_heading level0 row4\" >25%</th>\n",
       "      <td id=\"T_30525_row4_col0\" class=\"data row4 col0\" >$2,813,243</td>\n",
       "      <td id=\"T_30525_row4_col1\" class=\"data row4 col1\" >$1,984,480</td>\n",
       "    </tr>\n",
       "    <tr>\n",
       "      <th id=\"T_30525_level0_row5\" class=\"row_heading level0 row5\" >50%</th>\n",
       "      <td id=\"T_30525_row5_col0\" class=\"data row5 col0\" >$5,944,886</td>\n",
       "      <td id=\"T_30525_row5_col1\" class=\"data row5 col1\" >$6,259,178</td>\n",
       "    </tr>\n",
       "    <tr>\n",
       "      <th id=\"T_30525_level0_row6\" class=\"row_heading level0 row6\" >75%</th>\n",
       "      <td id=\"T_30525_row6_col0\" class=\"data row6 col0\" >$9,346,687</td>\n",
       "      <td id=\"T_30525_row6_col1\" class=\"data row6 col1\" >$17,544,814</td>\n",
       "    </tr>\n",
       "    <tr>\n",
       "      <th id=\"T_30525_level0_row7\" class=\"row_heading level0 row7\" >max</th>\n",
       "      <td id=\"T_30525_row7_col0\" class=\"data row7 col0\" >$13,079,753</td>\n",
       "      <td id=\"T_30525_row7_col1\" class=\"data row7 col1\" >$152,742,645</td>\n",
       "    </tr>\n",
       "  </tbody>\n",
       "</table>\n"
      ],
      "text/plain": [
       "<pandas.io.formats.style.Styler at 0x11fae1a00>"
      ]
     },
     "metadata": {},
     "output_type": "display_data"
    },
    {
     "name": "stdout",
     "output_type": "stream",
     "text": [
      "Group 1:\n",
      "  Budget range: 13,079,753 - 33,874,597\n",
      "  Budget std: 6,050,905\n",
      "  Normalized budget std: 0.27\n",
      "  Revenue range: 1,140,106 - 392,419,542\n",
      "  Number of movies: 2116\n"
     ]
    },
    {
     "data": {
      "text/html": [
       "<style type=\"text/css\">\n",
       "</style>\n",
       "<table id=\"T_0e4b4\">\n",
       "  <thead>\n",
       "    <tr>\n",
       "      <th class=\"blank level0\" >&nbsp;</th>\n",
       "      <th id=\"T_0e4b4_level0_col0\" class=\"col_heading level0 col0\" >budget</th>\n",
       "      <th id=\"T_0e4b4_level0_col1\" class=\"col_heading level0 col1\" >revenue</th>\n",
       "    </tr>\n",
       "  </thead>\n",
       "  <tbody>\n",
       "    <tr>\n",
       "      <th id=\"T_0e4b4_level0_row0\" class=\"row_heading level0 row0\" >count</th>\n",
       "      <td id=\"T_0e4b4_row0_col0\" class=\"data row0 col0\" >$2,116</td>\n",
       "      <td id=\"T_0e4b4_row0_col1\" class=\"data row0 col1\" >$2,116</td>\n",
       "    </tr>\n",
       "    <tr>\n",
       "      <th id=\"T_0e4b4_level0_row1\" class=\"row_heading level0 row1\" >mean</th>\n",
       "      <td id=\"T_0e4b4_row1_col0\" class=\"data row1 col0\" >$22,662,014</td>\n",
       "      <td id=\"T_0e4b4_row1_col1\" class=\"data row1 col1\" >$49,782,350</td>\n",
       "    </tr>\n",
       "    <tr>\n",
       "      <th id=\"T_0e4b4_level0_row2\" class=\"row_heading level0 row2\" >std</th>\n",
       "      <td id=\"T_0e4b4_row2_col0\" class=\"data row2 col0\" >$6,050,905</td>\n",
       "      <td id=\"T_0e4b4_row2_col1\" class=\"data row2 col1\" >$56,406,308</td>\n",
       "    </tr>\n",
       "    <tr>\n",
       "      <th id=\"T_0e4b4_level0_row3\" class=\"row_heading level0 row3\" >min</th>\n",
       "      <td id=\"T_0e4b4_row3_col0\" class=\"data row3 col0\" >$13,079,753</td>\n",
       "      <td id=\"T_0e4b4_row3_col1\" class=\"data row3 col1\" >$1,140,106</td>\n",
       "    </tr>\n",
       "    <tr>\n",
       "      <th id=\"T_0e4b4_level0_row4\" class=\"row_heading level0 row4\" >25%</th>\n",
       "      <td id=\"T_0e4b4_row4_col0\" class=\"data row4 col0\" >$17,205,082</td>\n",
       "      <td id=\"T_0e4b4_row4_col1\" class=\"data row4 col1\" >$11,429,125</td>\n",
       "    </tr>\n",
       "    <tr>\n",
       "      <th id=\"T_0e4b4_level0_row5\" class=\"row_heading level0 row5\" >50%</th>\n",
       "      <td id=\"T_0e4b4_row5_col0\" class=\"data row5 col0\" >$22,496,663</td>\n",
       "      <td id=\"T_0e4b4_row5_col1\" class=\"data row5 col1\" >$29,627,174</td>\n",
       "    </tr>\n",
       "    <tr>\n",
       "      <th id=\"T_0e4b4_level0_row6\" class=\"row_heading level0 row6\" >75%</th>\n",
       "      <td id=\"T_0e4b4_row6_col0\" class=\"data row6 col0\" >$27,975,700</td>\n",
       "      <td id=\"T_0e4b4_row6_col1\" class=\"data row6 col1\" >$67,388,407</td>\n",
       "    </tr>\n",
       "    <tr>\n",
       "      <th id=\"T_0e4b4_level0_row7\" class=\"row_heading level0 row7\" >max</th>\n",
       "      <td id=\"T_0e4b4_row7_col0\" class=\"data row7 col0\" >$33,874,597</td>\n",
       "      <td id=\"T_0e4b4_row7_col1\" class=\"data row7 col1\" >$392,419,542</td>\n",
       "    </tr>\n",
       "  </tbody>\n",
       "</table>\n"
      ],
      "text/plain": [
       "<pandas.io.formats.style.Styler at 0x12a654e00>"
      ]
     },
     "metadata": {},
     "output_type": "display_data"
    },
    {
     "name": "stdout",
     "output_type": "stream",
     "text": [
      "Group 2:\n",
      "  Budget range: 33,874,597 - 513,392,778\n",
      "  Budget std: 54,525,936\n",
      "  Normalized budget std: 0.67\n",
      "  Revenue range: 3,162,564 - 4,298,409,952\n",
      "  Number of movies: 2821\n"
     ]
    },
    {
     "data": {
      "text/html": [
       "<style type=\"text/css\">\n",
       "</style>\n",
       "<table id=\"T_44da4\">\n",
       "  <thead>\n",
       "    <tr>\n",
       "      <th class=\"blank level0\" >&nbsp;</th>\n",
       "      <th id=\"T_44da4_level0_col0\" class=\"col_heading level0 col0\" >budget</th>\n",
       "      <th id=\"T_44da4_level0_col1\" class=\"col_heading level0 col1\" >revenue</th>\n",
       "    </tr>\n",
       "  </thead>\n",
       "  <tbody>\n",
       "    <tr>\n",
       "      <th id=\"T_44da4_level0_row0\" class=\"row_heading level0 row0\" >count</th>\n",
       "      <td id=\"T_44da4_row0_col0\" class=\"data row0 col0\" >$2,821</td>\n",
       "      <td id=\"T_44da4_row0_col1\" class=\"data row0 col1\" >$2,821</td>\n",
       "    </tr>\n",
       "    <tr>\n",
       "      <th id=\"T_44da4_level0_row1\" class=\"row_heading level0 row1\" >mean</th>\n",
       "      <td id=\"T_44da4_row1_col0\" class=\"data row1 col0\" >$81,070,224</td>\n",
       "      <td id=\"T_44da4_row1_col1\" class=\"data row1 col1\" >$195,375,010</td>\n",
       "    </tr>\n",
       "    <tr>\n",
       "      <th id=\"T_44da4_level0_row2\" class=\"row_heading level0 row2\" >std</th>\n",
       "      <td id=\"T_44da4_row2_col0\" class=\"data row2 col0\" >$54,525,936</td>\n",
       "      <td id=\"T_44da4_row2_col1\" class=\"data row2 col1\" >$282,777,890</td>\n",
       "    </tr>\n",
       "    <tr>\n",
       "      <th id=\"T_44da4_level0_row3\" class=\"row_heading level0 row3\" >min</th>\n",
       "      <td id=\"T_44da4_row3_col0\" class=\"data row3 col0\" >$33,874,597</td>\n",
       "      <td id=\"T_44da4_row3_col1\" class=\"data row3 col1\" >$3,162,564</td>\n",
       "    </tr>\n",
       "    <tr>\n",
       "      <th id=\"T_44da4_level0_row4\" class=\"row_heading level0 row4\" >25%</th>\n",
       "      <td id=\"T_44da4_row4_col0\" class=\"data row4 col0\" >$44,743,319</td>\n",
       "      <td id=\"T_44da4_row4_col1\" class=\"data row4 col1\" >$40,713,827</td>\n",
       "    </tr>\n",
       "    <tr>\n",
       "      <th id=\"T_44da4_level0_row5\" class=\"row_heading level0 row5\" >50%</th>\n",
       "      <td id=\"T_44da4_row5_col0\" class=\"data row5 col0\" >$60,846,790</td>\n",
       "      <td id=\"T_44da4_row5_col1\" class=\"data row5 col1\" >$101,763,697</td>\n",
       "    </tr>\n",
       "    <tr>\n",
       "      <th id=\"T_44da4_level0_row6\" class=\"row_heading level0 row6\" >75%</th>\n",
       "      <td id=\"T_44da4_row6_col0\" class=\"data row6 col0\" >$97,320,616</td>\n",
       "      <td id=\"T_44da4_row6_col1\" class=\"data row6 col1\" >$238,155,583</td>\n",
       "    </tr>\n",
       "    <tr>\n",
       "      <th id=\"T_44da4_level0_row7\" class=\"row_heading level0 row7\" >max</th>\n",
       "      <td id=\"T_44da4_row7_col0\" class=\"data row7 col0\" >$513,392,778</td>\n",
       "      <td id=\"T_44da4_row7_col1\" class=\"data row7 col1\" >$4,298,409,952</td>\n",
       "    </tr>\n",
       "  </tbody>\n",
       "</table>\n"
      ],
      "text/plain": [
       "<pandas.io.formats.style.Styler at 0x11fae1910>"
      ]
     },
     "metadata": {},
     "output_type": "display_data"
    }
   ],
   "source": [
    "# Usage\n",
    "n_groups = 3  # You can change this to 2 if you prefer\n",
    "df = flexible_budget_grouping(full__regression__no_outliers__none, n_groups, flexibility=0.1)"
   ]
  },
  {
   "cell_type": "code",
   "execution_count": null,
   "metadata": {},
   "outputs": [],
   "source": []
  },
  {
   "cell_type": "code",
   "execution_count": null,
   "metadata": {},
   "outputs": [],
   "source": []
  },
  {
   "cell_type": "code",
   "execution_count": null,
   "metadata": {},
   "outputs": [],
   "source": []
  },
  {
   "cell_type": "code",
   "execution_count": null,
   "metadata": {},
   "outputs": [],
   "source": []
  }
 ],
 "metadata": {
  "kernelspec": {
   "display_name": "thesis",
   "language": "python",
   "name": "python3"
  },
  "language_info": {
   "codemirror_mode": {
    "name": "ipython",
    "version": 3
   },
   "file_extension": ".py",
   "mimetype": "text/x-python",
   "name": "python",
   "nbconvert_exporter": "python",
   "pygments_lexer": "ipython3",
   "version": "3.12.3"
  }
 },
 "nbformat": 4,
 "nbformat_minor": 2
}
