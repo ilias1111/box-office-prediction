{
 "cells": [
  {
   "cell_type": "markdown",
   "metadata": {},
   "source": [
    "# Set up"
   ]
  },
  {
   "cell_type": "code",
   "execution_count": 10,
   "metadata": {},
   "outputs": [],
   "source": [
    "import duckdb\n",
    "import pandas as pd\n",
    "from IPython.display import display\n",
    "import numpy as np\n",
    "import plotly.express as px\n",
    "import plotly.graph_objects as go\n",
    "from plotly.subplots import make_subplots\n",
    "\n",
    "from eda_support_functions import *\n",
    "\n",
    "# Suppress all warnings\n",
    "import warnings\n",
    "\n",
    "warnings.filterwarnings('ignore')"
   ]
  },
  {
   "cell_type": "code",
   "execution_count": 11,
   "metadata": {},
   "outputs": [],
   "source": [
    "full__regression__no_outliers__none = pd.read_csv('../data/ml_ready_data/full__regression__no_outliers__none.csv')"
   ]
  },
  {
   "cell_type": "code",
   "execution_count": 12,
   "metadata": {},
   "outputs": [],
   "source": [
    "full__regression__with_outliers__none = pd.read_csv('../data/ml_ready_data/full__regression__with_outliers__none.csv')"
   ]
  },
  {
   "cell_type": "code",
   "execution_count": 13,
   "metadata": {},
   "outputs": [],
   "source": [
    "import numpy as np\n",
    "from scipy.optimize import minimize\n",
    "\n",
    "def revenue_deviation(split_points, budgets, revenues):\n",
    "    # Ensure split points are sorted\n",
    "    split_points = np.sort(split_points)\n",
    "    \n",
    "    # Add min and max budget as boundaries\n",
    "    boundaries = np.concatenate(([min(budgets)], split_points, [max(budgets)]))\n",
    "    \n",
    "    total_deviation = 0\n",
    "    for i in range(len(boundaries) - 1):\n",
    "        # Get movies in this budget range\n",
    "        mask = (budgets >= boundaries[i]) & (budgets < boundaries[i+1])\n",
    "        group_revenues = revenues[mask]\n",
    "        \n",
    "        if len(group_revenues) > 0:\n",
    "            # Calculate deviation as sum of squared differences from mean\n",
    "            mean_revenue = np.mean(group_revenues)\n",
    "            deviation = np.sum((group_revenues - mean_revenue)**2)\n",
    "            total_deviation += deviation\n",
    "    \n",
    "    return total_deviation"
   ]
  },
  {
   "cell_type": "code",
   "execution_count": 14,
   "metadata": {},
   "outputs": [],
   "source": [
    "def find_optimal_splits(budgets, revenues, n_splits):\n",
    "    # Initial guess: evenly spaced split points\n",
    "    initial_guess = np.linspace(min(budgets), max(budgets), n_splits + 2)[1:-1]\n",
    "    \n",
    "    # Define bounds for split points\n",
    "    bounds = [(min(budgets), max(budgets)) for _ in range(n_splits)]\n",
    "    \n",
    "    # Optimize\n",
    "    result = minimize(\n",
    "        revenue_deviation,\n",
    "        initial_guess,\n",
    "        args=(budgets, revenues),\n",
    "        method='L-BFGS-B',\n",
    "        bounds=bounds\n",
    "    )\n",
    "    \n",
    "    return np.sort(result.x)\n",
    "\n"
   ]
  },
  {
   "cell_type": "code",
   "execution_count": 15,
   "metadata": {},
   "outputs": [],
   "source": [
    "def main(df):\n",
    "    # Usage\n",
    "    n_splits = 1  # for 3 groups\n",
    "    optimal_splits = find_optimal_splits(df['budget'].values, df['revenue'].values, n_splits)\n",
    "\n",
    "    # Create groups based on optimal splits\n",
    "    df['group'] = pd.cut(df['budget'], \n",
    "                        bins=[-np.inf] + list(optimal_splits) + [np.inf], \n",
    "                        labels=['low', 'high'])\n",
    "\n",
    "    for group in df['group'].unique():\n",
    "        group_data = df[df['group'] == group]\n",
    "        print(f\"Group: {group}\")\n",
    "        print(f\"  Budget range: {group_data['budget'].min()} - {group_data['budget'].max()}\")\n",
    "        print(f\"  Revenue range: {group_data['revenue'].min()} - {group_data['revenue'].max()}\")\n",
    "        print(f\"  Number of movies: {len(group_data)}\")\n",
    "        print(f\"  Revenue standard deviation: {group_data['revenue'].std()}\")\n",
    "        print()"
   ]
  },
  {
   "cell_type": "code",
   "execution_count": 16,
   "metadata": {},
   "outputs": [
    {
     "name": "stdout",
     "output_type": "stream",
     "text": [
      "Group: low\n",
      "  Budget range: 38086.63913969176 - 255055181.85759604\n",
      "  Revenue range: 31601.469109008303 - 2148878781.951033\n",
      "  Number of movies: 5259\n",
      "  Revenue standard deviation: 181798562.15072462\n",
      "\n",
      "Group: high\n",
      "  Budget range: 257033895.70552143 - 513392777.597482\n",
      "  Revenue range: 256291676.55371317 - 4298409951.924026\n",
      "  Number of movies: 48\n",
      "  Revenue standard deviation: 859028731.5824009\n",
      "\n"
     ]
    }
   ],
   "source": [
    "full__regression__no_outliers__none['budget'] = full__regression__no_outliers__none['budget_usd_adj']\n",
    "full__regression__no_outliers__none['revenue'] = full__regression__no_outliers__none['revenue_usd_adj']\n",
    "main(full__regression__no_outliers__none)"
   ]
  },
  {
   "cell_type": "code",
   "execution_count": 17,
   "metadata": {},
   "outputs": [
    {
     "name": "stdout",
     "output_type": "stream",
     "text": [
      "Group: low\n",
      "  Budget range: 1.7205081874647092 - 255055181.85759604\n",
      "  Revenue range: 1.2134349102175566 - 3898767714.998581\n",
      "  Number of movies: 7585\n",
      "  Revenue standard deviation: 202466403.4665562\n",
      "\n",
      "Group: high\n",
      "  Budget range: 257033895.70552143 - 513392777.597482\n",
      "  Revenue range: 256291676.55371317 - 4298409951.924026\n",
      "  Number of movies: 58\n",
      "  Revenue standard deviation: 797470319.5153462\n",
      "\n"
     ]
    }
   ],
   "source": [
    "full__regression__with_outliers__none['budget'] = full__regression__with_outliers__none['budget_usd_adj']\n",
    "full__regression__with_outliers__none['revenue'] = full__regression__with_outliers__none['revenue_usd_adj']\n",
    "main(full__regression__with_outliers__none)"
   ]
  },
  {
   "cell_type": "code",
   "execution_count": 26,
   "metadata": {},
   "outputs": [
    {
     "data": {
      "text/html": [
       "<style type=\"text/css\">\n",
       "</style>\n",
       "<table id=\"T_e7b3a\">\n",
       "  <thead>\n",
       "    <tr>\n",
       "      <th class=\"blank level0\" >&nbsp;</th>\n",
       "      <th id=\"T_e7b3a_level0_col0\" class=\"col_heading level0 col0\" >budget</th>\n",
       "      <th id=\"T_e7b3a_level0_col1\" class=\"col_heading level0 col1\" >revenue</th>\n",
       "    </tr>\n",
       "  </thead>\n",
       "  <tbody>\n",
       "    <tr>\n",
       "      <th id=\"T_e7b3a_level0_row0\" class=\"row_heading level0 row0\" >count</th>\n",
       "      <td id=\"T_e7b3a_row0_col0\" class=\"data row0 col0\" >$5,307</td>\n",
       "      <td id=\"T_e7b3a_row0_col1\" class=\"data row0 col1\" >$5,307</td>\n",
       "    </tr>\n",
       "    <tr>\n",
       "      <th id=\"T_e7b3a_level0_row1\" class=\"row_heading level0 row1\" >mean</th>\n",
       "      <td id=\"T_e7b3a_row1_col0\" class=\"data row1 col0\" >$48,835,346</td>\n",
       "      <td id=\"T_e7b3a_row1_col1\" class=\"data row1 col1\" >$122,355,702</td>\n",
       "    </tr>\n",
       "    <tr>\n",
       "      <th id=\"T_e7b3a_level0_row2\" class=\"row_heading level0 row2\" >std</th>\n",
       "      <td id=\"T_e7b3a_row2_col0\" class=\"data row2 col0\" >$52,301,470</td>\n",
       "      <td id=\"T_e7b3a_row2_col1\" class=\"data row2 col1\" >$223,810,968</td>\n",
       "    </tr>\n",
       "    <tr>\n",
       "      <th id=\"T_e7b3a_level0_row3\" class=\"row_heading level0 row3\" >min</th>\n",
       "      <td id=\"T_e7b3a_row3_col0\" class=\"data row3 col0\" >$38,087</td>\n",
       "      <td id=\"T_e7b3a_row3_col1\" class=\"data row3 col1\" >$31,601</td>\n",
       "    </tr>\n",
       "    <tr>\n",
       "      <th id=\"T_e7b3a_level0_row4\" class=\"row_heading level0 row4\" >25%</th>\n",
       "      <td id=\"T_e7b3a_row4_col0\" class=\"data row4 col0\" >$14,545,681</td>\n",
       "      <td id=\"T_e7b3a_row4_col1\" class=\"data row4 col1\" >$15,125,960</td>\n",
       "    </tr>\n",
       "    <tr>\n",
       "      <th id=\"T_e7b3a_level0_row5\" class=\"row_heading level0 row5\" >50%</th>\n",
       "      <td id=\"T_e7b3a_row5_col0\" class=\"data row5 col0\" >$32,282,554</td>\n",
       "      <td id=\"T_e7b3a_row5_col1\" class=\"data row5 col1\" >$48,174,229</td>\n",
       "    </tr>\n",
       "    <tr>\n",
       "      <th id=\"T_e7b3a_level0_row6\" class=\"row_heading level0 row6\" >75%</th>\n",
       "      <td id=\"T_e7b3a_row6_col0\" class=\"data row6 col0\" >$62,872,163</td>\n",
       "      <td id=\"T_e7b3a_row6_col1\" class=\"data row6 col1\" >$133,050,676</td>\n",
       "    </tr>\n",
       "    <tr>\n",
       "      <th id=\"T_e7b3a_level0_row7\" class=\"row_heading level0 row7\" >max</th>\n",
       "      <td id=\"T_e7b3a_row7_col0\" class=\"data row7 col0\" >$513,392,778</td>\n",
       "      <td id=\"T_e7b3a_row7_col1\" class=\"data row7 col1\" >$4,298,409,952</td>\n",
       "    </tr>\n",
       "  </tbody>\n",
       "</table>\n"
      ],
      "text/plain": [
       "<pandas.io.formats.style.Styler at 0x17671f950>"
      ]
     },
     "metadata": {},
     "output_type": "display_data"
    }
   ],
   "source": [
    "display(full__regression__no_outliers__none[['budget', 'revenue']].describe().style.format({'budget': \"${:,.0f}\",'revenue': \"${:,.0f}\"}))"
   ]
  },
  {
   "cell_type": "code",
   "execution_count": 25,
   "metadata": {},
   "outputs": [
    {
     "name": "stdout",
     "output_type": "stream",
     "text": [
      "Group 0:\n",
      "  Budget range: 38,087 - 15,454,032\n",
      "  Revenue range: 31,601 - 178,821,608\n",
      "  Number of movies: 1416\n"
     ]
    },
    {
     "data": {
      "text/html": [
       "<style type=\"text/css\">\n",
       "</style>\n",
       "<table id=\"T_eff73\">\n",
       "  <thead>\n",
       "    <tr>\n",
       "      <th class=\"blank level0\" >&nbsp;</th>\n",
       "      <th id=\"T_eff73_level0_col0\" class=\"col_heading level0 col0\" >budget</th>\n",
       "      <th id=\"T_eff73_level0_col1\" class=\"col_heading level0 col1\" >revenue</th>\n",
       "    </tr>\n",
       "  </thead>\n",
       "  <tbody>\n",
       "    <tr>\n",
       "      <th id=\"T_eff73_level0_row0\" class=\"row_heading level0 row0\" >count</th>\n",
       "      <td id=\"T_eff73_row0_col0\" class=\"data row0 col0\" >$1,416</td>\n",
       "      <td id=\"T_eff73_row0_col1\" class=\"data row0 col1\" >$1,416</td>\n",
       "    </tr>\n",
       "    <tr>\n",
       "      <th id=\"T_eff73_level0_row1\" class=\"row_heading level0 row1\" >mean</th>\n",
       "      <td id=\"T_eff73_row1_col0\" class=\"data row1 col0\" >$7,613,304</td>\n",
       "      <td id=\"T_eff73_row1_col1\" class=\"data row1 col1\" >$20,311,061</td>\n",
       "    </tr>\n",
       "    <tr>\n",
       "      <th id=\"T_eff73_level0_row2\" class=\"row_heading level0 row2\" >std</th>\n",
       "      <td id=\"T_eff73_row2_col0\" class=\"data row2 col0\" >$4,438,099</td>\n",
       "      <td id=\"T_eff73_row2_col1\" class=\"data row2 col1\" >$26,280,585</td>\n",
       "    </tr>\n",
       "    <tr>\n",
       "      <th id=\"T_eff73_level0_row3\" class=\"row_heading level0 row3\" >min</th>\n",
       "      <td id=\"T_eff73_row3_col0\" class=\"data row3 col0\" >$38,087</td>\n",
       "      <td id=\"T_eff73_row3_col1\" class=\"data row3 col1\" >$31,601</td>\n",
       "    </tr>\n",
       "    <tr>\n",
       "      <th id=\"T_eff73_level0_row4\" class=\"row_heading level0 row4\" >25%</th>\n",
       "      <td id=\"T_eff73_row4_col0\" class=\"data row4 col0\" >$3,823,269</td>\n",
       "      <td id=\"T_eff73_row4_col1\" class=\"data row4 col1\" >$2,650,607</td>\n",
       "    </tr>\n",
       "    <tr>\n",
       "      <th id=\"T_eff73_level0_row5\" class=\"row_heading level0 row5\" >50%</th>\n",
       "      <td id=\"T_eff73_row5_col0\" class=\"data row5 col0\" >$7,320,218</td>\n",
       "      <td id=\"T_eff73_row5_col1\" class=\"data row5 col1\" >$9,703,978</td>\n",
       "    </tr>\n",
       "    <tr>\n",
       "      <th id=\"T_eff73_level0_row6\" class=\"row_heading level0 row6\" >75%</th>\n",
       "      <td id=\"T_eff73_row6_col0\" class=\"data row6 col0\" >$11,591,924</td>\n",
       "      <td id=\"T_eff73_row6_col1\" class=\"data row6 col1\" >$27,348,189</td>\n",
       "    </tr>\n",
       "    <tr>\n",
       "      <th id=\"T_eff73_level0_row7\" class=\"row_heading level0 row7\" >max</th>\n",
       "      <td id=\"T_eff73_row7_col0\" class=\"data row7 col0\" >$15,454,032</td>\n",
       "      <td id=\"T_eff73_row7_col1\" class=\"data row7 col1\" >$178,821,608</td>\n",
       "    </tr>\n",
       "  </tbody>\n",
       "</table>\n"
      ],
      "text/plain": [
       "<pandas.io.formats.style.Styler at 0x33c278380>"
      ]
     },
     "metadata": {},
     "output_type": "display_data"
    },
    {
     "name": "stdout",
     "output_type": "stream",
     "text": [
      "Group 1:\n",
      "  Budget range: 15,454,032 - 35,847,294\n",
      "  Revenue range: 580,004 - 445,972,927\n",
      "  Number of movies: 1416\n"
     ]
    },
    {
     "data": {
      "text/html": [
       "<style type=\"text/css\">\n",
       "</style>\n",
       "<table id=\"T_301b6\">\n",
       "  <thead>\n",
       "    <tr>\n",
       "      <th class=\"blank level0\" >&nbsp;</th>\n",
       "      <th id=\"T_301b6_level0_col0\" class=\"col_heading level0 col0\" >budget</th>\n",
       "      <th id=\"T_301b6_level0_col1\" class=\"col_heading level0 col1\" >revenue</th>\n",
       "    </tr>\n",
       "  </thead>\n",
       "  <tbody>\n",
       "    <tr>\n",
       "      <th id=\"T_301b6_level0_row0\" class=\"row_heading level0 row0\" >count</th>\n",
       "      <td id=\"T_301b6_row0_col0\" class=\"data row0 col0\" >$1,416</td>\n",
       "      <td id=\"T_301b6_row0_col1\" class=\"data row0 col1\" >$1,416</td>\n",
       "    </tr>\n",
       "    <tr>\n",
       "      <th id=\"T_301b6_level0_row1\" class=\"row_heading level0 row1\" >mean</th>\n",
       "      <td id=\"T_301b6_row1_col0\" class=\"data row1 col0\" >$25,073,689</td>\n",
       "      <td id=\"T_301b6_row1_col1\" class=\"data row1 col1\" >$62,028,373</td>\n",
       "    </tr>\n",
       "    <tr>\n",
       "      <th id=\"T_301b6_level0_row2\" class=\"row_heading level0 row2\" >std</th>\n",
       "      <td id=\"T_301b6_row2_col0\" class=\"data row2 col0\" >$5,689,114</td>\n",
       "      <td id=\"T_301b6_row2_col1\" class=\"data row2 col1\" >$66,120,185</td>\n",
       "    </tr>\n",
       "    <tr>\n",
       "      <th id=\"T_301b6_level0_row3\" class=\"row_heading level0 row3\" >min</th>\n",
       "      <td id=\"T_301b6_row3_col0\" class=\"data row3 col0\" >$15,454,032</td>\n",
       "      <td id=\"T_301b6_row3_col1\" class=\"data row3 col1\" >$580,004</td>\n",
       "    </tr>\n",
       "    <tr>\n",
       "      <th id=\"T_301b6_level0_row4\" class=\"row_heading level0 row4\" >25%</th>\n",
       "      <td id=\"T_301b6_row4_col0\" class=\"data row4 col0\" >$20,082,650</td>\n",
       "      <td id=\"T_301b6_row4_col1\" class=\"data row4 col1\" >$16,563,547</td>\n",
       "    </tr>\n",
       "    <tr>\n",
       "      <th id=\"T_301b6_level0_row5\" class=\"row_heading level0 row5\" >50%</th>\n",
       "      <td id=\"T_301b6_row5_col0\" class=\"data row5 col0\" >$24,941,462</td>\n",
       "      <td id=\"T_301b6_row5_col1\" class=\"data row5 col1\" >$40,272,437</td>\n",
       "    </tr>\n",
       "    <tr>\n",
       "      <th id=\"T_301b6_level0_row6\" class=\"row_heading level0 row6\" >75%</th>\n",
       "      <td id=\"T_301b6_row6_col0\" class=\"data row6 col0\" >$29,686,022</td>\n",
       "      <td id=\"T_301b6_row6_col1\" class=\"data row6 col1\" >$84,547,659</td>\n",
       "    </tr>\n",
       "    <tr>\n",
       "      <th id=\"T_301b6_level0_row7\" class=\"row_heading level0 row7\" >max</th>\n",
       "      <td id=\"T_301b6_row7_col0\" class=\"data row7 col0\" >$35,847,294</td>\n",
       "      <td id=\"T_301b6_row7_col1\" class=\"data row7 col1\" >$445,972,927</td>\n",
       "    </tr>\n",
       "  </tbody>\n",
       "</table>\n"
      ],
      "text/plain": [
       "<pandas.io.formats.style.Styler at 0x1771febd0>"
      ]
     },
     "metadata": {},
     "output_type": "display_data"
    },
    {
     "name": "stdout",
     "output_type": "stream",
     "text": [
      "Group 2:\n",
      "  Budget range: 35,878,794 - 513,392,778\n",
      "  Revenue range: 1,184,356 - 4,298,409,952\n",
      "  Number of movies: 2475\n"
     ]
    },
    {
     "data": {
      "text/html": [
       "<style type=\"text/css\">\n",
       "</style>\n",
       "<table id=\"T_b1c7a\">\n",
       "  <thead>\n",
       "    <tr>\n",
       "      <th class=\"blank level0\" >&nbsp;</th>\n",
       "      <th id=\"T_b1c7a_level0_col0\" class=\"col_heading level0 col0\" >budget</th>\n",
       "      <th id=\"T_b1c7a_level0_col1\" class=\"col_heading level0 col1\" >revenue</th>\n",
       "    </tr>\n",
       "  </thead>\n",
       "  <tbody>\n",
       "    <tr>\n",
       "      <th id=\"T_b1c7a_level0_row0\" class=\"row_heading level0 row0\" >count</th>\n",
       "      <td id=\"T_b1c7a_row0_col0\" class=\"data row0 col0\" >$2,475</td>\n",
       "      <td id=\"T_b1c7a_row0_col1\" class=\"data row0 col1\" >$2,475</td>\n",
       "    </tr>\n",
       "    <tr>\n",
       "      <th id=\"T_b1c7a_level0_row1\" class=\"row_heading level0 row1\" >mean</th>\n",
       "      <td id=\"T_b1c7a_row1_col0\" class=\"data row1 col0\" >$86,013,898</td>\n",
       "      <td id=\"T_b1c7a_row1_col1\" class=\"data row1 col1\" >$215,252,151</td>\n",
       "    </tr>\n",
       "    <tr>\n",
       "      <th id=\"T_b1c7a_level0_row2\" class=\"row_heading level0 row2\" >std</th>\n",
       "      <td id=\"T_b1c7a_row2_col0\" class=\"data row2 col0\" >$56,199,696</td>\n",
       "      <td id=\"T_b1c7a_row2_col1\" class=\"data row2 col1\" >$296,410,913</td>\n",
       "    </tr>\n",
       "    <tr>\n",
       "      <th id=\"T_b1c7a_level0_row3\" class=\"row_heading level0 row3\" >min</th>\n",
       "      <td id=\"T_b1c7a_row3_col0\" class=\"data row3 col0\" >$35,878,794</td>\n",
       "      <td id=\"T_b1c7a_row3_col1\" class=\"data row3 col1\" >$1,184,356</td>\n",
       "    </tr>\n",
       "    <tr>\n",
       "      <th id=\"T_b1c7a_level0_row4\" class=\"row_heading level0 row4\" >25%</th>\n",
       "      <td id=\"T_b1c7a_row4_col0\" class=\"data row4 col0\" >$47,461,371</td>\n",
       "      <td id=\"T_b1c7a_row4_col1\" class=\"data row4 col1\" >$47,993,813</td>\n",
       "    </tr>\n",
       "    <tr>\n",
       "      <th id=\"T_b1c7a_level0_row5\" class=\"row_heading level0 row5\" >50%</th>\n",
       "      <td id=\"T_b1c7a_row5_col0\" class=\"data row5 col0\" >$66,356,699</td>\n",
       "      <td id=\"T_b1c7a_row5_col1\" class=\"data row5 col1\" >$120,028,784</td>\n",
       "    </tr>\n",
       "    <tr>\n",
       "      <th id=\"T_b1c7a_level0_row6\" class=\"row_heading level0 row6\" >75%</th>\n",
       "      <td id=\"T_b1c7a_row6_col0\" class=\"data row6 col0\" >$104,847,168</td>\n",
       "      <td id=\"T_b1c7a_row6_col1\" class=\"data row6 col1\" >$261,579,157</td>\n",
       "    </tr>\n",
       "    <tr>\n",
       "      <th id=\"T_b1c7a_level0_row7\" class=\"row_heading level0 row7\" >max</th>\n",
       "      <td id=\"T_b1c7a_row7_col0\" class=\"data row7 col0\" >$513,392,778</td>\n",
       "      <td id=\"T_b1c7a_row7_col1\" class=\"data row7 col1\" >$4,298,409,952</td>\n",
       "    </tr>\n",
       "  </tbody>\n",
       "</table>\n"
      ],
      "text/plain": [
       "<pandas.io.formats.style.Styler at 0x1771febd0>"
      ]
     },
     "metadata": {},
     "output_type": "display_data"
    }
   ],
   "source": [
    "import pandas as pd\n",
    "import numpy as np\n",
    "\n",
    "def flexible_budget_grouping(df, n_groups, flexibility=0.1):\n",
    "    # Sort the dataframe by budget\n",
    "    df_sorted = df.sort_values('budget')\n",
    "    \n",
    "    # Calculate the ideal size for each group\n",
    "    ideal_size = len(df) / n_groups\n",
    "    \n",
    "    # Initialize groups\n",
    "    groups = []\n",
    "    current_group = []\n",
    "    current_size = 0\n",
    "    \n",
    "    for _, movie in df_sorted.iterrows():\n",
    "        current_group.append(movie)\n",
    "        current_size += 1\n",
    "        \n",
    "        # Check if we should start a new group\n",
    "        if current_size >= ideal_size * (1 - flexibility) and len(groups) < n_groups - 1:\n",
    "            # If we're close to the ideal size or over it, and we're not on the last group\n",
    "            groups.append(current_group)\n",
    "            current_group = []\n",
    "            current_size = 0\n",
    "    \n",
    "    # Add the last group\n",
    "    groups.append(current_group)\n",
    "    \n",
    "    # Assign group labels\n",
    "    df['group'] = 0\n",
    "    for i, group in enumerate(groups):\n",
    "        for movie in group:\n",
    "            df.loc[movie.name, 'group'] = i\n",
    "    \n",
    "    # Print group statistics\n",
    "    for i in range(n_groups):\n",
    "        group_data = df[df['group'] == i]\n",
    "        print(f\"Group {i}:\")\n",
    "        print(f\"  Budget range: {group_data['budget'].min():,.0f} - {group_data['budget'].max():,.0f}\")\n",
    "        print(f\"  Revenue range: {group_data['revenue'].min():,.0f} - {group_data['revenue'].max():,.0f}\")\n",
    "        print(f\"  Number of movies: {len(group_data)}\")\n",
    "        display(group_data[['budget', 'revenue']].describe().style.format({'budget': \"${:,.0f}\",'revenue': \"${:,.0f}\"}))\n",
    "\n",
    "\n",
    "# Usage\n",
    "n_groups = 3  # You can change this to 2 if you prefer\n",
    "df = flexible_budget_grouping(full__regression__no_outliers__none, n_groups, flexibility=0.2)\n",
    "\n",
    "# # Optionally, create separate datasets\n",
    "# datasets = [df[df['group'] == i] for i in range(n_groups)]"
   ]
  },
  {
   "cell_type": "code",
   "execution_count": null,
   "metadata": {},
   "outputs": [],
   "source": []
  }
 ],
 "metadata": {
  "kernelspec": {
   "display_name": "thesis",
   "language": "python",
   "name": "python3"
  },
  "language_info": {
   "codemirror_mode": {
    "name": "ipython",
    "version": 3
   },
   "file_extension": ".py",
   "mimetype": "text/x-python",
   "name": "python",
   "nbconvert_exporter": "python",
   "pygments_lexer": "ipython3",
   "version": "3.12.3"
  }
 },
 "nbformat": 4,
 "nbformat_minor": 2
}
