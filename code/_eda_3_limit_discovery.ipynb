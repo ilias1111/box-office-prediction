{
 "cells": [
  {
   "cell_type": "markdown",
   "metadata": {},
   "source": [
    "# Set up"
   ]
  },
  {
   "cell_type": "code",
   "execution_count": 1,
   "metadata": {},
   "outputs": [],
   "source": [
    "import duckdb\n",
    "import pandas as pd\n",
    "from IPython.display import display\n",
    "import numpy as np\n",
    "import plotly.express as px\n",
    "import plotly.graph_objects as go\n",
    "from plotly.subplots import make_subplots\n",
    "\n",
    "from eda_support_functions import *\n",
    "\n",
    "# Suppress all warnings\n",
    "import warnings\n",
    "\n",
    "warnings.filterwarnings('ignore')"
   ]
  },
  {
   "cell_type": "code",
   "execution_count": 2,
   "metadata": {},
   "outputs": [],
   "source": [
    "full__regression__no_outliers__none = pd.read_csv('../data/ml_ready_data/full__regression__no_outliers__none.csv')"
   ]
  },
  {
   "cell_type": "code",
   "execution_count": 3,
   "metadata": {},
   "outputs": [],
   "source": [
    "full__regression__with_outliers__none = pd.read_csv('../data/ml_ready_data/full__regression__with_outliers__none.csv')"
   ]
  },
  {
   "cell_type": "code",
   "execution_count": 4,
   "metadata": {},
   "outputs": [],
   "source": [
    "full__regression__no_outliers__none.rename(columns={'budget_usd_adj': 'budget', \"revenue_usd_adj\": \"revenue\"}, inplace=True)\n",
    "full__regression__with_outliers__none.rename(columns={'budget_usd_adj': 'budget', \"revenue_usd_adj\": \"revenue\"}, inplace=True)"
   ]
  },
  {
   "cell_type": "code",
   "execution_count": 5,
   "metadata": {},
   "outputs": [
    {
     "data": {
      "text/html": [
       "<style type=\"text/css\">\n",
       "</style>\n",
       "<table id=\"T_0d899\">\n",
       "  <thead>\n",
       "    <tr>\n",
       "      <th class=\"blank level0\" >&nbsp;</th>\n",
       "      <th id=\"T_0d899_level0_col0\" class=\"col_heading level0 col0\" >budget</th>\n",
       "      <th id=\"T_0d899_level0_col1\" class=\"col_heading level0 col1\" >revenue</th>\n",
       "    </tr>\n",
       "  </thead>\n",
       "  <tbody>\n",
       "    <tr>\n",
       "      <th id=\"T_0d899_level0_row0\" class=\"row_heading level0 row0\" >count</th>\n",
       "      <td id=\"T_0d899_row0_col0\" class=\"data row0 col0\" >$6,661</td>\n",
       "      <td id=\"T_0d899_row0_col1\" class=\"data row0 col1\" >$6,661</td>\n",
       "    </tr>\n",
       "    <tr>\n",
       "      <th id=\"T_0d899_level0_row1\" class=\"row_heading level0 row1\" >mean</th>\n",
       "      <td id=\"T_0d899_row1_col0\" class=\"data row1 col0\" >$41,608,183</td>\n",
       "      <td id=\"T_0d899_row1_col1\" class=\"data row1 col1\" >$85,552,314</td>\n",
       "    </tr>\n",
       "    <tr>\n",
       "      <th id=\"T_0d899_level0_row2\" class=\"row_heading level0 row2\" >std</th>\n",
       "      <td id=\"T_0d899_row2_col0\" class=\"data row2 col0\" >$48,008,905</td>\n",
       "      <td id=\"T_0d899_row2_col1\" class=\"data row2 col1\" >$163,480,900</td>\n",
       "    </tr>\n",
       "    <tr>\n",
       "      <th id=\"T_0d899_level0_row3\" class=\"row_heading level0 row3\" >min</th>\n",
       "      <td id=\"T_0d899_row3_col0\" class=\"data row3 col0\" >$36,579</td>\n",
       "      <td id=\"T_0d899_row3_col1\" class=\"data row3 col1\" >$28,233</td>\n",
       "    </tr>\n",
       "    <tr>\n",
       "      <th id=\"T_0d899_level0_row4\" class=\"row_heading level0 row4\" >25%</th>\n",
       "      <td id=\"T_0d899_row4_col0\" class=\"data row4 col0\" >$10,858,945</td>\n",
       "      <td id=\"T_0d899_row4_col1\" class=\"data row4 col1\" >$8,229,440</td>\n",
       "    </tr>\n",
       "    <tr>\n",
       "      <th id=\"T_0d899_level0_row5\" class=\"row_heading level0 row5\" >50%</th>\n",
       "      <td id=\"T_0d899_row5_col0\" class=\"data row5 col0\" >$26,452,123</td>\n",
       "      <td id=\"T_0d899_row5_col1\" class=\"data row5 col1\" >$29,733,018</td>\n",
       "    </tr>\n",
       "    <tr>\n",
       "      <th id=\"T_0d899_level0_row6\" class=\"row_heading level0 row6\" >75%</th>\n",
       "      <td id=\"T_0d899_row6_col0\" class=\"data row6 col0\" >$52,319,012</td>\n",
       "      <td id=\"T_0d899_row6_col1\" class=\"data row6 col1\" >$89,716,894</td>\n",
       "    </tr>\n",
       "    <tr>\n",
       "      <th id=\"T_0d899_level0_row7\" class=\"row_heading level0 row7\" >max</th>\n",
       "      <td id=\"T_0d899_row7_col0\" class=\"data row7 col0\" >$513,392,778</td>\n",
       "      <td id=\"T_0d899_row7_col1\" class=\"data row7 col1\" >$2,490,472,059</td>\n",
       "    </tr>\n",
       "  </tbody>\n",
       "</table>\n"
      ],
      "text/plain": [
       "<pandas.io.formats.style.Styler at 0x11b01ea20>"
      ]
     },
     "metadata": {},
     "output_type": "display_data"
    }
   ],
   "source": [
    "display(full__regression__no_outliers__none[['budget', 'revenue']].describe().style.format({'budget': \"${:,.0f}\",'revenue': \"${:,.0f}\"}))"
   ]
  },
  {
   "cell_type": "code",
   "execution_count": 6,
   "metadata": {},
   "outputs": [],
   "source": [
    "import pandas as pd\n",
    "import numpy as np\n",
    "\n",
    "def flexible_budget_grouping(df, n_groups, flexibility=0.1):\n",
    "    # Sort the dataframe by budget\n",
    "    df_sorted = df.sort_values('budget')\n",
    "    \n",
    "    # Calculate the ideal size for each group\n",
    "    ideal_size = len(df) / n_groups\n",
    "    \n",
    "    # Initialize groups\n",
    "    groups = []\n",
    "    current_group = []\n",
    "    current_size = 0\n",
    "    \n",
    "    for _, movie in df_sorted.iterrows():\n",
    "        current_group.append(movie)\n",
    "        current_size += 1\n",
    "        \n",
    "        # Check if we should start a new group\n",
    "        if current_size >= ideal_size * (1 - flexibility) and len(groups) < n_groups - 1:\n",
    "            # If we're close to the ideal size or over it, and we're not on the last group\n",
    "            groups.append(current_group)\n",
    "            current_group = []\n",
    "            current_size = 0\n",
    "    \n",
    "    # Add the last group\n",
    "    groups.append(current_group)\n",
    "    \n",
    "    # Assign group labels\n",
    "    df['group'] = 0\n",
    "    for i, group in enumerate(groups):\n",
    "        for movie in group:\n",
    "            df.loc[movie.name, 'group'] = i\n",
    "    \n",
    "    # Print group statistics\n",
    "    for i in range(n_groups):\n",
    "        group_data = df[df['group'] == i]\n",
    "        print(f\"Group {i}:\")\n",
    "        print(f\"  Budget range: {group_data['budget'].min():,.0f} - {group_data['budget'].max():,.0f}\")\n",
    "        # Print budget std\n",
    "        print(f\"  Budget std: {group_data['budget'].std():,.0f}\")\n",
    "        # Print normalized budget std\n",
    "        print(f\"  Normalized budget std: {group_data['budget'].std() / group_data['budget'].mean():.2f}\")\n",
    "        print(f\"  Revenue range: {group_data['revenue'].min():,.0f} - {group_data['revenue'].max():,.0f}\")\n",
    "        print(f\"  Number of movies: {len(group_data)}\")\n",
    "        display(group_data[['budget', 'revenue']].describe().style.format({'budget': \"${:,.0f}\",'revenue': \"${:,.0f}\"}))"
   ]
  },
  {
   "cell_type": "code",
   "execution_count": 8,
   "metadata": {},
   "outputs": [
    {
     "name": "stdout",
     "output_type": "stream",
     "text": [
      "Group 0:\n",
      "  Budget range: 36,579 - 10,858,945\n",
      "  Budget std: 3,107,032\n",
      "  Normalized budget std: 0.60\n",
      "  Revenue range: 28,233 - 76,992,804\n",
      "  Number of movies: 1666\n"
     ]
    },
    {
     "data": {
      "text/html": [
       "<style type=\"text/css\">\n",
       "</style>\n",
       "<table id=\"T_9062b\">\n",
       "  <thead>\n",
       "    <tr>\n",
       "      <th class=\"blank level0\" >&nbsp;</th>\n",
       "      <th id=\"T_9062b_level0_col0\" class=\"col_heading level0 col0\" >budget</th>\n",
       "      <th id=\"T_9062b_level0_col1\" class=\"col_heading level0 col1\" >revenue</th>\n",
       "    </tr>\n",
       "  </thead>\n",
       "  <tbody>\n",
       "    <tr>\n",
       "      <th id=\"T_9062b_level0_row0\" class=\"row_heading level0 row0\" >count</th>\n",
       "      <td id=\"T_9062b_row0_col0\" class=\"data row0 col0\" >$1,666</td>\n",
       "      <td id=\"T_9062b_row0_col1\" class=\"data row0 col1\" >$1,666</td>\n",
       "    </tr>\n",
       "    <tr>\n",
       "      <th id=\"T_9062b_level0_row1\" class=\"row_heading level0 row1\" >mean</th>\n",
       "      <td id=\"T_9062b_row1_col0\" class=\"data row1 col0\" >$5,202,735</td>\n",
       "      <td id=\"T_9062b_row1_col1\" class=\"data row1 col1\" >$9,353,674</td>\n",
       "    </tr>\n",
       "    <tr>\n",
       "      <th id=\"T_9062b_level0_row2\" class=\"row_heading level0 row2\" >std</th>\n",
       "      <td id=\"T_9062b_row2_col0\" class=\"data row2 col0\" >$3,107,032</td>\n",
       "      <td id=\"T_9062b_row2_col1\" class=\"data row2 col1\" >$11,702,093</td>\n",
       "    </tr>\n",
       "    <tr>\n",
       "      <th id=\"T_9062b_level0_row3\" class=\"row_heading level0 row3\" >min</th>\n",
       "      <td id=\"T_9062b_row3_col0\" class=\"data row3 col0\" >$36,579</td>\n",
       "      <td id=\"T_9062b_row3_col1\" class=\"data row3 col1\" >$28,233</td>\n",
       "    </tr>\n",
       "    <tr>\n",
       "      <th id=\"T_9062b_level0_row4\" class=\"row_heading level0 row4\" >25%</th>\n",
       "      <td id=\"T_9062b_row4_col0\" class=\"data row4 col0\" >$2,523,859</td>\n",
       "      <td id=\"T_9062b_row4_col1\" class=\"data row4 col1\" >$1,583,376</td>\n",
       "    </tr>\n",
       "    <tr>\n",
       "      <th id=\"T_9062b_level0_row5\" class=\"row_heading level0 row5\" >50%</th>\n",
       "      <td id=\"T_9062b_row5_col0\" class=\"data row5 col0\" >$5,133,894</td>\n",
       "      <td id=\"T_9062b_row5_col1\" class=\"data row5 col1\" >$4,761,449</td>\n",
       "    </tr>\n",
       "    <tr>\n",
       "      <th id=\"T_9062b_level0_row6\" class=\"row_heading level0 row6\" >75%</th>\n",
       "      <td id=\"T_9062b_row6_col0\" class=\"data row6 col0\" >$7,727,016</td>\n",
       "      <td id=\"T_9062b_row6_col1\" class=\"data row6 col1\" >$12,567,588</td>\n",
       "    </tr>\n",
       "    <tr>\n",
       "      <th id=\"T_9062b_level0_row7\" class=\"row_heading level0 row7\" >max</th>\n",
       "      <td id=\"T_9062b_row7_col0\" class=\"data row7 col0\" >$10,858,945</td>\n",
       "      <td id=\"T_9062b_row7_col1\" class=\"data row7 col1\" >$76,992,804</td>\n",
       "    </tr>\n",
       "  </tbody>\n",
       "</table>\n"
      ],
      "text/plain": [
       "<pandas.io.formats.style.Styler at 0x12ab7f080>"
      ]
     },
     "metadata": {},
     "output_type": "display_data"
    },
    {
     "name": "stdout",
     "output_type": "stream",
     "text": [
      "Group 1:\n",
      "  Budget range: 10,858,945 - 26,452,123\n",
      "  Budget std: 4,567,613\n",
      "  Normalized budget std: 0.25\n",
      "  Revenue range: 1,071,701 - 179,631,482\n",
      "  Number of movies: 1666\n"
     ]
    },
    {
     "data": {
      "text/html": [
       "<style type=\"text/css\">\n",
       "</style>\n",
       "<table id=\"T_b203b\">\n",
       "  <thead>\n",
       "    <tr>\n",
       "      <th class=\"blank level0\" >&nbsp;</th>\n",
       "      <th id=\"T_b203b_level0_col0\" class=\"col_heading level0 col0\" >budget</th>\n",
       "      <th id=\"T_b203b_level0_col1\" class=\"col_heading level0 col1\" >revenue</th>\n",
       "    </tr>\n",
       "  </thead>\n",
       "  <tbody>\n",
       "    <tr>\n",
       "      <th id=\"T_b203b_level0_row0\" class=\"row_heading level0 row0\" >count</th>\n",
       "      <td id=\"T_b203b_row0_col0\" class=\"data row0 col0\" >$1,666</td>\n",
       "      <td id=\"T_b203b_row0_col1\" class=\"data row0 col1\" >$1,666</td>\n",
       "    </tr>\n",
       "    <tr>\n",
       "      <th id=\"T_b203b_level0_row1\" class=\"row_heading level0 row1\" >mean</th>\n",
       "      <td id=\"T_b203b_row1_col0\" class=\"data row1 col0\" >$18,133,498</td>\n",
       "      <td id=\"T_b203b_row1_col1\" class=\"data row1 col1\" >$32,247,757</td>\n",
       "    </tr>\n",
       "    <tr>\n",
       "      <th id=\"T_b203b_level0_row2\" class=\"row_heading level0 row2\" >std</th>\n",
       "      <td id=\"T_b203b_row2_col0\" class=\"data row2 col0\" >$4,567,613</td>\n",
       "      <td id=\"T_b203b_row2_col1\" class=\"data row2 col1\" >$32,164,380</td>\n",
       "    </tr>\n",
       "    <tr>\n",
       "      <th id=\"T_b203b_level0_row3\" class=\"row_heading level0 row3\" >min</th>\n",
       "      <td id=\"T_b203b_row3_col0\" class=\"data row3 col0\" >$10,858,945</td>\n",
       "      <td id=\"T_b203b_row3_col1\" class=\"data row3 col1\" >$1,071,701</td>\n",
       "    </tr>\n",
       "    <tr>\n",
       "      <th id=\"T_b203b_level0_row4\" class=\"row_heading level0 row4\" >25%</th>\n",
       "      <td id=\"T_b203b_row4_col0\" class=\"data row4 col0\" >$14,041,772</td>\n",
       "      <td id=\"T_b203b_row4_col1\" class=\"data row4 col1\" >$7,722,662</td>\n",
       "    </tr>\n",
       "    <tr>\n",
       "      <th id=\"T_b203b_level0_row5\" class=\"row_heading level0 row5\" >50%</th>\n",
       "      <td id=\"T_b203b_row5_col0\" class=\"data row5 col0\" >$17,694,657</td>\n",
       "      <td id=\"T_b203b_row5_col1\" class=\"data row5 col1\" >$21,187,581</td>\n",
       "    </tr>\n",
       "    <tr>\n",
       "      <th id=\"T_b203b_level0_row6\" class=\"row_heading level0 row6\" >75%</th>\n",
       "      <td id=\"T_b203b_row6_col0\" class=\"data row6 col0\" >$22,187,039</td>\n",
       "      <td id=\"T_b203b_row6_col1\" class=\"data row6 col1\" >$46,154,312</td>\n",
       "    </tr>\n",
       "    <tr>\n",
       "      <th id=\"T_b203b_level0_row7\" class=\"row_heading level0 row7\" >max</th>\n",
       "      <td id=\"T_b203b_row7_col0\" class=\"data row7 col0\" >$26,452,123</td>\n",
       "      <td id=\"T_b203b_row7_col1\" class=\"data row7 col1\" >$179,631,482</td>\n",
       "    </tr>\n",
       "  </tbody>\n",
       "</table>\n"
      ],
      "text/plain": [
       "<pandas.io.formats.style.Styler at 0x12ab7ee10>"
      ]
     },
     "metadata": {},
     "output_type": "display_data"
    },
    {
     "name": "stdout",
     "output_type": "stream",
     "text": [
      "Group 2:\n",
      "  Budget range: 26,452,123 - 513,392,778\n",
      "  Budget std: 52,531,729\n",
      "  Normalized budget std: 0.73\n",
      "  Revenue range: 2,530,555 - 2,490,472,059\n",
      "  Number of movies: 3329\n"
     ]
    },
    {
     "data": {
      "text/html": [
       "<style type=\"text/css\">\n",
       "</style>\n",
       "<table id=\"T_433d9\">\n",
       "  <thead>\n",
       "    <tr>\n",
       "      <th class=\"blank level0\" >&nbsp;</th>\n",
       "      <th id=\"T_433d9_level0_col0\" class=\"col_heading level0 col0\" >budget</th>\n",
       "      <th id=\"T_433d9_level0_col1\" class=\"col_heading level0 col1\" >revenue</th>\n",
       "    </tr>\n",
       "  </thead>\n",
       "  <tbody>\n",
       "    <tr>\n",
       "      <th id=\"T_433d9_level0_row0\" class=\"row_heading level0 row0\" >count</th>\n",
       "      <td id=\"T_433d9_row0_col0\" class=\"data row0 col0\" >$3,329</td>\n",
       "      <td id=\"T_433d9_row0_col1\" class=\"data row0 col1\" >$3,329</td>\n",
       "    </tr>\n",
       "    <tr>\n",
       "      <th id=\"T_433d9_level0_row1\" class=\"row_heading level0 row1\" >mean</th>\n",
       "      <td id=\"T_433d9_row1_col0\" class=\"data row1 col0\" >$71,575,231</td>\n",
       "      <td id=\"T_433d9_row1_col1\" class=\"data row1 col1\" >$150,362,265</td>\n",
       "    </tr>\n",
       "    <tr>\n",
       "      <th id=\"T_433d9_level0_row2\" class=\"row_heading level0 row2\" >std</th>\n",
       "      <td id=\"T_433d9_row2_col0\" class=\"data row2 col0\" >$52,531,729</td>\n",
       "      <td id=\"T_433d9_row2_col1\" class=\"data row2 col1\" >$210,635,808</td>\n",
       "    </tr>\n",
       "    <tr>\n",
       "      <th id=\"T_433d9_level0_row3\" class=\"row_heading level0 row3\" >min</th>\n",
       "      <td id=\"T_433d9_row3_col0\" class=\"data row3 col0\" >$26,452,123</td>\n",
       "      <td id=\"T_433d9_row3_col1\" class=\"data row3 col1\" >$2,530,555</td>\n",
       "    </tr>\n",
       "    <tr>\n",
       "      <th id=\"T_433d9_level0_row4\" class=\"row_heading level0 row4\" >25%</th>\n",
       "      <td id=\"T_433d9_row4_col0\" class=\"data row4 col0\" >$37,292,183</td>\n",
       "      <td id=\"T_433d9_row4_col1\" class=\"data row4 col1\" >$32,517,605</td>\n",
       "    </tr>\n",
       "    <tr>\n",
       "      <th id=\"T_433d9_level0_row5\" class=\"row_heading level0 row5\" >50%</th>\n",
       "      <td id=\"T_433d9_row5_col0\" class=\"data row5 col0\" >$52,319,012</td>\n",
       "      <td id=\"T_433d9_row5_col1\" class=\"data row5 col1\" >$79,394,100</td>\n",
       "    </tr>\n",
       "    <tr>\n",
       "      <th id=\"T_433d9_level0_row6\" class=\"row_heading level0 row6\" >75%</th>\n",
       "      <td id=\"T_433d9_row6_col0\" class=\"data row6 col0\" >$86,025,409</td>\n",
       "      <td id=\"T_433d9_row6_col1\" class=\"data row6 col1\" >$181,016,540</td>\n",
       "    </tr>\n",
       "    <tr>\n",
       "      <th id=\"T_433d9_level0_row7\" class=\"row_heading level0 row7\" >max</th>\n",
       "      <td id=\"T_433d9_row7_col0\" class=\"data row7 col0\" >$513,392,778</td>\n",
       "      <td id=\"T_433d9_row7_col1\" class=\"data row7 col1\" >$2,490,472,059</td>\n",
       "    </tr>\n",
       "  </tbody>\n",
       "</table>\n"
      ],
      "text/plain": [
       "<pandas.io.formats.style.Styler at 0x12ab7ef30>"
      ]
     },
     "metadata": {},
     "output_type": "display_data"
    }
   ],
   "source": [
    "# Usage\n",
    "n_groups = 3  # You can change this to 2 if you prefer\n",
    "df = flexible_budget_grouping(full__regression__no_outliers__none, n_groups, flexibility=0.25)"
   ]
  },
  {
   "cell_type": "code",
   "execution_count": null,
   "metadata": {},
   "outputs": [],
   "source": []
  },
  {
   "cell_type": "code",
   "execution_count": null,
   "metadata": {},
   "outputs": [],
   "source": []
  },
  {
   "cell_type": "code",
   "execution_count": null,
   "metadata": {},
   "outputs": [],
   "source": []
  },
  {
   "cell_type": "code",
   "execution_count": null,
   "metadata": {},
   "outputs": [],
   "source": []
  }
 ],
 "metadata": {
  "kernelspec": {
   "display_name": "thesis",
   "language": "python",
   "name": "python3"
  },
  "language_info": {
   "codemirror_mode": {
    "name": "ipython",
    "version": 3
   },
   "file_extension": ".py",
   "mimetype": "text/x-python",
   "name": "python",
   "nbconvert_exporter": "python",
   "pygments_lexer": "ipython3",
   "version": "3.12.3"
  }
 },
 "nbformat": 4,
 "nbformat_minor": 2
}
