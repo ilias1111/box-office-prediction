{
 "cells": [
  {
   "cell_type": "markdown",
   "metadata": {},
   "source": [
    "# Set up"
   ]
  },
  {
   "cell_type": "code",
   "execution_count": 32,
   "metadata": {},
   "outputs": [],
   "source": [
    "import duckdb\n",
    "import pandas as pd\n",
    "from IPython.display import display\n",
    "import numpy as np\n",
    "import plotly.express as px\n",
    "import plotly.graph_objects as go\n",
    "from plotly.subplots import make_subplots\n",
    "\n",
    "from eda_support_functions import *\n",
    "\n",
    "# Suppress all warnings\n",
    "import warnings\n",
    "\n",
    "warnings.filterwarnings('ignore')"
   ]
  },
  {
   "cell_type": "code",
   "execution_count": 33,
   "metadata": {},
   "outputs": [],
   "source": [
    "full__regression__no_outliers__none = pd.read_csv('../data/ml_ready_data/full__regression__no_outliers__none.csv')"
   ]
  },
  {
   "cell_type": "code",
   "execution_count": 34,
   "metadata": {},
   "outputs": [],
   "source": [
    "full__regression__with_outliers__none = pd.read_csv('../data/ml_ready_data/full__regression__with_outliers__none.csv')"
   ]
  },
  {
   "cell_type": "code",
   "execution_count": 35,
   "metadata": {},
   "outputs": [],
   "source": [
    "import numpy as np\n",
    "from scipy.optimize import minimize\n",
    "\n",
    "def revenue_deviation(split_points, budgets, revenues):\n",
    "    # Ensure split points are sorted\n",
    "    split_points = np.sort(split_points)\n",
    "    \n",
    "    # Add min and max budget as boundaries\n",
    "    boundaries = np.concatenate(([min(budgets)], split_points, [max(budgets)]))\n",
    "    \n",
    "    total_deviation = 0\n",
    "    for i in range(len(boundaries) - 1):\n",
    "        # Get movies in this budget range\n",
    "        mask = (budgets >= boundaries[i]) & (budgets < boundaries[i+1])\n",
    "        group_revenues = revenues[mask]\n",
    "        \n",
    "        if len(group_revenues) > 0:\n",
    "            # Calculate deviation as sum of squared differences from mean\n",
    "            mean_revenue = np.mean(group_revenues)\n",
    "            deviation = np.sum((group_revenues - mean_revenue)**2)\n",
    "            total_deviation += deviation\n",
    "    \n",
    "    return total_deviation"
   ]
  },
  {
   "cell_type": "code",
   "execution_count": 36,
   "metadata": {},
   "outputs": [],
   "source": [
    "def find_optimal_splits(budgets, revenues, n_splits):\n",
    "    # Initial guess: evenly spaced split points\n",
    "    initial_guess = np.linspace(min(budgets), max(budgets), n_splits + 2)[1:-1]\n",
    "    \n",
    "    # Define bounds for split points\n",
    "    bounds = [(min(budgets), max(budgets)) for _ in range(n_splits)]\n",
    "    \n",
    "    # Optimize\n",
    "    result = minimize(\n",
    "        revenue_deviation,\n",
    "        initial_guess,\n",
    "        args=(budgets, revenues),\n",
    "        method='L-BFGS-B',\n",
    "        bounds=bounds\n",
    "    )\n",
    "    \n",
    "    return np.sort(result.x)\n",
    "\n"
   ]
  },
  {
   "cell_type": "code",
   "execution_count": 37,
   "metadata": {},
   "outputs": [],
   "source": [
    "def main(df):\n",
    "    # Usage\n",
    "    n_splits = 1  # for 3 groups\n",
    "    optimal_splits = find_optimal_splits(df['budget'].values, df['revenue'].values, n_splits)\n",
    "\n",
    "    # Create groups based on optimal splits\n",
    "    df['group'] = pd.cut(df['budget'], \n",
    "                        bins=[-np.inf] + list(optimal_splits) + [np.inf], \n",
    "                        labels=['low', 'high'])\n",
    "\n",
    "    for group in df['group'].unique():\n",
    "        group_data = df[df['group'] == group]\n",
    "        print(f\"Group: {group}\")\n",
    "        print(f\"  Budget range: {group_data['budget'].min()} - {group_data['budget'].max()}\")\n",
    "        print(f\"  Revenue range: {group_data['revenue'].min()} - {group_data['revenue'].max()}\")\n",
    "        print(f\"  Number of movies: {len(group_data)}\")\n",
    "        print(f\"  Revenue standard deviation: {group_data['revenue'].std()}\")\n",
    "        print()"
   ]
  },
  {
   "cell_type": "code",
   "execution_count": 38,
   "metadata": {},
   "outputs": [
    {
     "name": "stdout",
     "output_type": "stream",
     "text": [
      "Group: low\n",
      "  Budget range: 27091.967155539947 - 255055181.85759604\n",
      "  Revenue range: 28577.961554021313 - 2148878781.951033\n",
      "  Number of movies: 5854\n",
      "  Revenue standard deviation: 176348862.11730936\n",
      "\n",
      "Group: high\n",
      "  Budget range: 257033895.70552143 - 513392777.597482\n",
      "  Revenue range: 256291676.55371317 - 4298409951.924026\n",
      "  Number of movies: 48\n",
      "  Revenue standard deviation: 859028731.5824009\n",
      "\n"
     ]
    }
   ],
   "source": [
    "full__regression__no_outliers__none['budget'] = full__regression__no_outliers__none['budget_usd_adj']\n",
    "full__regression__no_outliers__none['revenue'] = full__regression__no_outliers__none['revenue_usd_adj']\n",
    "main(full__regression__no_outliers__none)"
   ]
  },
  {
   "cell_type": "code",
   "execution_count": 39,
   "metadata": {},
   "outputs": [
    {
     "name": "stdout",
     "output_type": "stream",
     "text": [
      "Group: low\n",
      "  Budget range: 1.7205081874647092 - 255055181.85759604\n",
      "  Revenue range: 2.5711404667175772 - 3898767714.998581\n",
      "  Number of movies: 7576\n",
      "  Revenue standard deviation: 202567626.69117427\n",
      "\n",
      "Group: high\n",
      "  Budget range: 257033895.70552143 - 513392777.597482\n",
      "  Revenue range: 256291676.55371317 - 4298409951.924026\n",
      "  Number of movies: 58\n",
      "  Revenue standard deviation: 797470319.5153462\n",
      "\n"
     ]
    }
   ],
   "source": [
    "full__regression__with_outliers__none['budget'] = full__regression__with_outliers__none['budget_usd_adj']\n",
    "full__regression__with_outliers__none['revenue'] = full__regression__with_outliers__none['revenue_usd_adj']\n",
    "main(full__regression__with_outliers__none)"
   ]
  },
  {
   "cell_type": "code",
   "execution_count": 41,
   "metadata": {},
   "outputs": [
    {
     "name": "stdout",
     "output_type": "stream",
     "text": [
      "Group 0:\n",
      "  Budget range: 27,092 - 21,717,890\n",
      "  Revenue range: 28,578 - 229,835,047\n",
      "  Number of movies: 2361\n",
      "  Median budget: 9,061,770\n",
      "  Median revenue: 11,032,188\n",
      "\n",
      "Group 1:\n",
      "  Budget range: 21,717,890 - 513,392,778\n",
      "  Revenue range: 1,233,353 - 4,298,409,952\n",
      "  Number of movies: 3541\n",
      "  Median budget: 49,876,815\n",
      "  Median revenue: 88,433,111\n",
      "\n"
     ]
    }
   ],
   "source": [
    "import pandas as pd\n",
    "import numpy as np\n",
    "\n",
    "def flexible_budget_grouping(df, n_groups, flexibility=0.1):\n",
    "    # Sort the dataframe by budget\n",
    "    df_sorted = df.sort_values('budget')\n",
    "    \n",
    "    # Calculate the ideal size for each group\n",
    "    ideal_size = len(df) / n_groups\n",
    "    \n",
    "    # Initialize groups\n",
    "    groups = []\n",
    "    current_group = []\n",
    "    current_size = 0\n",
    "    \n",
    "    for _, movie in df_sorted.iterrows():\n",
    "        current_group.append(movie)\n",
    "        current_size += 1\n",
    "        \n",
    "        # Check if we should start a new group\n",
    "        if current_size >= ideal_size * (1 - flexibility) and len(groups) < n_groups - 1:\n",
    "            # If we're close to the ideal size or over it, and we're not on the last group\n",
    "            groups.append(current_group)\n",
    "            current_group = []\n",
    "            current_size = 0\n",
    "    \n",
    "    # Add the last group\n",
    "    groups.append(current_group)\n",
    "    \n",
    "    # Assign group labels\n",
    "    df['group'] = 0\n",
    "    for i, group in enumerate(groups):\n",
    "        for movie in group:\n",
    "            df.loc[movie.name, 'group'] = i\n",
    "    \n",
    "    # Print group statistics\n",
    "    for i in range(n_groups):\n",
    "        group_data = df[df['group'] == i]\n",
    "        print(f\"Group {i}:\")\n",
    "        print(f\"  Budget range: {group_data['budget'].min():,.0f} - {group_data['budget'].max():,.0f}\")\n",
    "        print(f\"  Revenue range: {group_data['revenue'].min():,.0f} - {group_data['revenue'].max():,.0f}\")\n",
    "        print(f\"  Number of movies: {len(group_data)}\")\n",
    "        print(f\"  Median budget: {group_data['budget'].median():,.0f}\")\n",
    "        print(f\"  Median revenue: {group_data['revenue'].median():,.0f}\")\n",
    "        print()\n",
    "    \n",
    "    return df\n",
    "\n",
    "# Usage\n",
    "n_groups = 2  # You can change this to 2 if you prefer\n",
    "df = flexible_budget_grouping(full__regression__no_outliers__none, n_groups, flexibility=0.2)\n",
    "\n",
    "# Optionally, create separate datasets\n",
    "datasets = [df[df['group'] == i] for i in range(n_groups)]"
   ]
  },
  {
   "cell_type": "code",
   "execution_count": null,
   "metadata": {},
   "outputs": [],
   "source": []
  }
 ],
 "metadata": {
  "kernelspec": {
   "display_name": "thesis",
   "language": "python",
   "name": "python3"
  },
  "language_info": {
   "codemirror_mode": {
    "name": "ipython",
    "version": 3
   },
   "file_extension": ".py",
   "mimetype": "text/x-python",
   "name": "python",
   "nbconvert_exporter": "python",
   "pygments_lexer": "ipython3",
   "version": "3.12.3"
  }
 },
 "nbformat": 4,
 "nbformat_minor": 2
}
