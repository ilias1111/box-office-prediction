{
 "cells": [
  {
   "cell_type": "code",
   "execution_count": 2,
   "metadata": {},
   "outputs": [],
   "source": [
    "import duckdb\n",
    "import pandas as pd\n",
    "from IPython.display import display"
   ]
  },
  {
   "cell_type": "code",
   "execution_count": 3,
   "metadata": {},
   "outputs": [],
   "source": [
    "movie = pd.read_csv('/Users/iliasx/Documents/GitHub/box-office-prediction/data/retrieved_data/movie.csv')\n",
    "genre_mapping = pd.read_csv('/Users/iliasx/Documents/GitHub/box-office-prediction/data/retrieved_data/genre_mapping.csv')\n",
    "keyword_mapping = pd.read_csv('/Users/iliasx/Documents/GitHub/box-office-prediction/data/retrieved_data/keyword_mapping.csv')\n",
    "cast_mapping = pd.read_csv('/Users/iliasx/Documents/GitHub/box-office-prediction/data/retrieved_data/cast_mapping.csv')\n",
    "collection_mapping = pd.read_csv('/Users/iliasx/Documents/GitHub/box-office-prediction/data/retrieved_data/collection_mapping.csv')\n",
    "production_mapping = pd.read_csv('/Users/iliasx/Documents/GitHub/box-office-prediction/data/retrieved_data/production_mapping.csv')\n",
    "\n",
    "keyword = pd.read_csv('/Users/iliasx/Documents/GitHub/box-office-prediction/data/retrieved_data/keyword.csv')\n",
    "production = pd.read_csv('/Users/iliasx/Documents/GitHub/box-office-prediction/data/retrieved_data/production.csv')\n",
    "collection = pd.read_csv('/Users/iliasx/Documents/GitHub/box-office-prediction/data/retrieved_data/collection.csv')\n",
    "\n",
    "movies_with_sequel = pd.read_csv('/Users/iliasx/Documents/GitHub/box-office-prediction/data/retrieved_data/movies_with_sequel.csv')\n",
    "\n",
    "movie_release_dates = pd.read_csv('/Users/iliasx/Documents/GitHub/box-office-prediction/data/processed_data/movie_release_dates.csv')"
   ]
  },
  {
   "cell_type": "code",
   "execution_count": 4,
   "metadata": {},
   "outputs": [
    {
     "data": {
      "text/html": [
       "<div>\n",
       "<style scoped>\n",
       "    .dataframe tbody tr th:only-of-type {\n",
       "        vertical-align: middle;\n",
       "    }\n",
       "\n",
       "    .dataframe tbody tr th {\n",
       "        vertical-align: top;\n",
       "    }\n",
       "\n",
       "    .dataframe thead th {\n",
       "        text-align: right;\n",
       "    }\n",
       "</style>\n",
       "<table border=\"1\" class=\"dataframe\">\n",
       "  <thead>\n",
       "    <tr style=\"text-align: right;\">\n",
       "      <th></th>\n",
       "      <th>company_id</th>\n",
       "      <th>movie_id</th>\n",
       "    </tr>\n",
       "  </thead>\n",
       "  <tbody>\n",
       "    <tr>\n",
       "      <th>0</th>\n",
       "      <td>288</td>\n",
       "      <td>512</td>\n",
       "    </tr>\n",
       "    <tr>\n",
       "      <th>1</th>\n",
       "      <td>290</td>\n",
       "      <td>512</td>\n",
       "    </tr>\n",
       "    <tr>\n",
       "      <th>2</th>\n",
       "      <td>291</td>\n",
       "      <td>512</td>\n",
       "    </tr>\n",
       "    <tr>\n",
       "      <th>3</th>\n",
       "      <td>7316</td>\n",
       "      <td>512</td>\n",
       "    </tr>\n",
       "    <tr>\n",
       "      <th>4</th>\n",
       "      <td>136057</td>\n",
       "      <td>512</td>\n",
       "    </tr>\n",
       "  </tbody>\n",
       "</table>\n",
       "</div>"
      ],
      "text/plain": [
       "   company_id  movie_id\n",
       "0         288       512\n",
       "1         290       512\n",
       "2         291       512\n",
       "3        7316       512\n",
       "4      136057       512"
      ]
     },
     "execution_count": 4,
     "metadata": {},
     "output_type": "execute_result"
    }
   ],
   "source": [
    "duckdb.sql('SELECT * FROM production_mapping LIMIT 5').to_df()"
   ]
  },
  {
   "cell_type": "code",
   "execution_count": 4,
   "metadata": {},
   "outputs": [],
   "source": [
    "df = duckdb.sql('SELECT movie_id,original_language, runtime, revenue_world FROM movie LIMIT 5').to_df()"
   ]
  },
  {
   "cell_type": "code",
   "execution_count": 5,
   "metadata": {},
   "outputs": [
    {
     "data": {
      "text/plain": [
       "┌───────────────────────────┐\n",
       "│ count(DISTINCT person_id) │\n",
       "│           int64           │\n",
       "├───────────────────────────┤\n",
       "│                    144946 │\n",
       "└───────────────────────────┘"
      ]
     },
     "execution_count": 5,
     "metadata": {},
     "output_type": "execute_result"
    }
   ],
   "source": [
    "duckdb.sql('SELECT COUNT(DISTINCT person_id) FROM cast_mapping')"
   ]
  },
  {
   "cell_type": "code",
   "execution_count": 6,
   "metadata": {},
   "outputs": [
    {
     "data": {
      "text/plain": [
       "┌──────────────────────────┐\n",
       "│ count(DISTINCT genre_id) │\n",
       "│          int64           │\n",
       "├──────────────────────────┤\n",
       "│                       19 │\n",
       "└──────────────────────────┘"
      ]
     },
     "execution_count": 6,
     "metadata": {},
     "output_type": "execute_result"
    }
   ],
   "source": [
    "duckdb.sql('SELECT COUNT(DISTINCT genre_id) FROM genre_mapping LIMIT 5')"
   ]
  },
  {
   "cell_type": "code",
   "execution_count": 8,
   "metadata": {},
   "outputs": [
    {
     "data": {
      "text/plain": [
       "┌──────────────────────────────────────────────┐\n",
       "│ count(DISTINCT movie_release_dates.movie_id) │\n",
       "│                    int64                     │\n",
       "├──────────────────────────────────────────────┤\n",
       "│                                        12411 │\n",
       "└──────────────────────────────────────────────┘"
      ]
     },
     "execution_count": 8,
     "metadata": {},
     "output_type": "execute_result"
    }
   ],
   "source": [
    "duckdb.sql('SELECT COUNT(DISTINCT movie_release_dates.movie_id) FROM movie_release_dates')"
   ]
  },
  {
   "cell_type": "code",
   "execution_count": null,
   "metadata": {},
   "outputs": [],
   "source": []
  },
  {
   "cell_type": "code",
   "execution_count": null,
   "metadata": {},
   "outputs": [],
   "source": []
  },
  {
   "cell_type": "code",
   "execution_count": null,
   "metadata": {},
   "outputs": [],
   "source": []
  },
  {
   "cell_type": "code",
   "execution_count": null,
   "metadata": {},
   "outputs": [],
   "source": []
  }
 ],
 "metadata": {
  "kernelspec": {
   "display_name": "thesis",
   "language": "python",
   "name": "python3"
  },
  "language_info": {
   "codemirror_mode": {
    "name": "ipython",
    "version": 3
   },
   "file_extension": ".py",
   "mimetype": "text/x-python",
   "name": "python",
   "nbconvert_exporter": "python",
   "pygments_lexer": "ipython3",
   "version": "3.12.3"
  }
 },
 "nbformat": 4,
 "nbformat_minor": 2
}
