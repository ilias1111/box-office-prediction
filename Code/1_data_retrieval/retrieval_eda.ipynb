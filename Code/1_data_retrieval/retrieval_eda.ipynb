{
 "cells": [
  {
   "cell_type": "code",
   "execution_count": 1,
   "metadata": {},
   "outputs": [],
   "source": [
    "import duckdb\n",
    "import pandas as pd\n",
    "from IPython.display import display"
   ]
  },
  {
   "cell_type": "code",
   "execution_count": 3,
   "metadata": {},
   "outputs": [],
   "source": [
    "movie = pd.read_csv('/Users/iliasx/Documents/GitHub/box-office-prediction/data/retrieved_data/movie.csv')\n",
    "genre_mapping = pd.read_csv('/Users/iliasx/Documents/GitHub/box-office-prediction/data/retrieved_data/genre_mapping.csv')\n",
    "keyword_mapping = pd.read_csv('/Users/iliasx/Documents/GitHub/box-office-prediction/data/retrieved_data/keyword_mapping.csv')\n",
    "cast_mapping = pd.read_csv('/Users/iliasx/Documents/GitHub/box-office-prediction/data/retrieved_data/cast_mapping.csv')\n",
    "collection_mapping = pd.read_csv('/Users/iliasx/Documents/GitHub/box-office-prediction/data/retrieved_data/collection_mapping.csv')\n",
    "production_mapping = pd.read_csv('/Users/iliasx/Documents/GitHub/box-office-prediction/data/retrieved_data/production_mapping.csv')\n",
    "\n",
    "keyword = pd.read_csv('/Users/iliasx/Documents/GitHub/box-office-prediction/data/retrieved_data/keyword.csv')\n",
    "production = pd.read_csv('/Users/iliasx/Documents/GitHub/box-office-prediction/data/retrieved_data/production.csv')\n",
    "collection = pd.read_csv('/Users/iliasx/Documents/GitHub/box-office-prediction/data/retrieved_data/collection.csv')\n",
    "\n",
    "movies_with_sequel = pd.read_csv('/Users/iliasx/Documents/GitHub/box-office-prediction/data/retrieved_data/movies_with_sequel.csv')\n",
    "\n",
    "movie_release_dates = pd.read_csv('/Users/iliasx/Documents/GitHub/box-office-prediction/data/processed_data/movie_release_dates.csv')"
   ]
  },
  {
   "cell_type": "code",
   "execution_count": 4,
   "metadata": {},
   "outputs": [
    {
     "ename": "CatalogException",
     "evalue": "Catalog Error: Table with name movies does not exist!\nDid you mean \"pg_views\"?",
     "output_type": "error",
     "traceback": [
      "\u001b[0;31m---------------------------------------------------------------------------\u001b[0m",
      "\u001b[0;31mCatalogException\u001b[0m                          Traceback (most recent call last)",
      "Cell \u001b[0;32mIn[4], line 1\u001b[0m\n\u001b[0;32m----> 1\u001b[0m df \u001b[38;5;241m=\u001b[39m \u001b[43mduckdb\u001b[49m\u001b[38;5;241;43m.\u001b[39;49m\u001b[43msql\u001b[49m\u001b[43m(\u001b[49m\u001b[38;5;124;43m'\u001b[39;49m\u001b[38;5;124;43mSELECT movie_id,original_language, runtime, revenue_world FROM movies LIMIT 5\u001b[39;49m\u001b[38;5;124;43m'\u001b[39;49m\u001b[43m)\u001b[49m\u001b[38;5;241m.\u001b[39mto_df()\n",
      "\u001b[0;31mCatalogException\u001b[0m: Catalog Error: Table with name movies does not exist!\nDid you mean \"pg_views\"?"
     ]
    }
   ],
   "source": [
    "df = duckdb.sql('SELECT movie_id,original_language, runtime, revenue_world FROM movies LIMIT 5').to_df()"
   ]
  },
  {
   "cell_type": "code",
   "execution_count": 5,
   "metadata": {},
   "outputs": [
    {
     "data": {
      "text/plain": [
       "┌───────────────────────────┐\n",
       "│ count(DISTINCT person_id) │\n",
       "│           int64           │\n",
       "├───────────────────────────┤\n",
       "│                    144946 │\n",
       "└───────────────────────────┘"
      ]
     },
     "execution_count": 5,
     "metadata": {},
     "output_type": "execute_result"
    }
   ],
   "source": [
    "duckdb.sql('SELECT COUNT(DISTINCT person_id) FROM cast_mapping')"
   ]
  },
  {
   "cell_type": "code",
   "execution_count": 6,
   "metadata": {},
   "outputs": [
    {
     "data": {
      "text/plain": [
       "┌──────────────────────────┐\n",
       "│ count(DISTINCT genre_id) │\n",
       "│          int64           │\n",
       "├──────────────────────────┤\n",
       "│                       19 │\n",
       "└──────────────────────────┘"
      ]
     },
     "execution_count": 6,
     "metadata": {},
     "output_type": "execute_result"
    }
   ],
   "source": [
    "duckdb.sql('SELECT COUNT(DISTINCT genre_id) FROM genre_mapping LIMIT 5')"
   ]
  },
  {
   "cell_type": "code",
   "execution_count": 9,
   "metadata": {},
   "outputs": [
    {
     "data": {
      "text/plain": [
       "┌────────────────────────────┐\n",
       "│ count(DISTINCT \"Movie ID\") │\n",
       "│           int64            │\n",
       "├────────────────────────────┤\n",
       "│                      12411 │\n",
       "└────────────────────────────┘"
      ]
     },
     "execution_count": 9,
     "metadata": {},
     "output_type": "execute_result"
    }
   ],
   "source": [
    "duckdb.sql('SELECT COUNT(DISTINCT \"Movie ID\") FROM movie_release_dates')"
   ]
  },
  {
   "cell_type": "code",
   "execution_count": null,
   "metadata": {},
   "outputs": [],
   "source": []
  }
 ],
 "metadata": {
  "kernelspec": {
   "display_name": "thesis",
   "language": "python",
   "name": "python3"
  },
  "language_info": {
   "codemirror_mode": {
    "name": "ipython",
    "version": 3
   },
   "file_extension": ".py",
   "mimetype": "text/x-python",
   "name": "python",
   "nbconvert_exporter": "python",
   "pygments_lexer": "ipython3",
   "version": "3.9.18"
  }
 },
 "nbformat": 4,
 "nbformat_minor": 2
}
