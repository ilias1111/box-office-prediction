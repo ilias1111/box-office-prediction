{
 "cells": [
  {
   "cell_type": "code",
   "execution_count": 16,
   "metadata": {},
   "outputs": [],
   "source": [
    "import duckdb\n",
    "import pandas as pd\n",
    "from IPython.display import display\n",
    "import plotly.express as px\n",
    "from eda_support_functions import *\n"
   ]
  },
  {
   "cell_type": "code",
   "execution_count": 17,
   "metadata": {},
   "outputs": [],
   "source": [
    "pd.set_option('display.max_columns', None)\n",
    "pd.set_option('display.max_rows', 200)"
   ]
  },
  {
   "cell_type": "code",
   "execution_count": 18,
   "metadata": {},
   "outputs": [],
   "source": [
    "wikipedia_movie_financial_data = pd.read_csv('../data/retrieved_data/wikipedia/movie_financial_data.csv').drop(columns='Unnamed: 0')\n",
    "wikipedia_movie_financial_data_usd = pd.read_csv('../data/retrieved_data/wikipedia/movie_financial_data_usd.csv')\n",
    "# make sure we are \n",
    "\n",
    "\n",
    "movie = pd.read_csv('../data/retrieved_data/tmdb/movies.csv')\n",
    "mojo = pd.read_csv('../data/manual_data/parsed_mojo.csv')\n",
    "mojo = mojov"
   ]
  },
  {
   "cell_type": "code",
   "execution_count": 19,
   "metadata": {},
   "outputs": [],
   "source": [
    "manual_adjustments = pd.read_csv('../data/manual_data/manual_adjustments.csv')\n"
   ]
  },
  {
   "cell_type": "code",
   "execution_count": 20,
   "metadata": {},
   "outputs": [],
   "source": [
    "manual_adjustments = manual_adjustments[[\"movie_id\", \"revenue_fix\",\"budget_fix\"]].fillna(0)"
   ]
  },
  {
   "cell_type": "code",
   "execution_count": 21,
   "metadata": {},
   "outputs": [
    {
     "data": {
      "text/html": [
       "<div>\n",
       "<style scoped>\n",
       "    .dataframe tbody tr th:only-of-type {\n",
       "        vertical-align: middle;\n",
       "    }\n",
       "\n",
       "    .dataframe tbody tr th {\n",
       "        vertical-align: top;\n",
       "    }\n",
       "\n",
       "    .dataframe thead th {\n",
       "        text-align: right;\n",
       "    }\n",
       "</style>\n",
       "<table border=\"1\" class=\"dataframe\">\n",
       "  <thead>\n",
       "    <tr style=\"text-align: right;\">\n",
       "      <th></th>\n",
       "      <th>movie_id</th>\n",
       "      <th>revenue_fix</th>\n",
       "      <th>budget_fix</th>\n",
       "    </tr>\n",
       "  </thead>\n",
       "  <tbody>\n",
       "    <tr>\n",
       "      <th>0</th>\n",
       "      <td>280106</td>\n",
       "      <td>1607846.0</td>\n",
       "      <td>0.0</td>\n",
       "    </tr>\n",
       "    <tr>\n",
       "      <th>1</th>\n",
       "      <td>21435</td>\n",
       "      <td>84200000.0</td>\n",
       "      <td>35000000.0</td>\n",
       "    </tr>\n",
       "    <tr>\n",
       "      <th>2</th>\n",
       "      <td>13748</td>\n",
       "      <td>5600000.0</td>\n",
       "      <td>0.0</td>\n",
       "    </tr>\n",
       "    <tr>\n",
       "      <th>3</th>\n",
       "      <td>37905</td>\n",
       "      <td>688225.0</td>\n",
       "      <td>0.0</td>\n",
       "    </tr>\n",
       "    <tr>\n",
       "      <th>4</th>\n",
       "      <td>10407</td>\n",
       "      <td>0.0</td>\n",
       "      <td>26000000.0</td>\n",
       "    </tr>\n",
       "    <tr>\n",
       "      <th>...</th>\n",
       "      <td>...</td>\n",
       "      <td>...</td>\n",
       "      <td>...</td>\n",
       "    </tr>\n",
       "    <tr>\n",
       "      <th>9413</th>\n",
       "      <td>341742</td>\n",
       "      <td>21100000.0</td>\n",
       "      <td>10000000.0</td>\n",
       "    </tr>\n",
       "    <tr>\n",
       "      <th>9414</th>\n",
       "      <td>14424</td>\n",
       "      <td>0.0</td>\n",
       "      <td>5000000.0</td>\n",
       "    </tr>\n",
       "    <tr>\n",
       "      <th>9415</th>\n",
       "      <td>32834</td>\n",
       "      <td>0.0</td>\n",
       "      <td>4500000.0</td>\n",
       "    </tr>\n",
       "    <tr>\n",
       "      <th>9416</th>\n",
       "      <td>280422</td>\n",
       "      <td>0.0</td>\n",
       "      <td>0.0</td>\n",
       "    </tr>\n",
       "    <tr>\n",
       "      <th>9417</th>\n",
       "      <td>114903</td>\n",
       "      <td>0.0</td>\n",
       "      <td>1000000.0</td>\n",
       "    </tr>\n",
       "  </tbody>\n",
       "</table>\n",
       "<p>9418 rows × 3 columns</p>\n",
       "</div>"
      ],
      "text/plain": [
       "      movie_id  revenue_fix  budget_fix\n",
       "0       280106    1607846.0         0.0\n",
       "1        21435   84200000.0  35000000.0\n",
       "2        13748    5600000.0         0.0\n",
       "3        37905     688225.0         0.0\n",
       "4        10407          0.0  26000000.0\n",
       "...        ...          ...         ...\n",
       "9413    341742   21100000.0  10000000.0\n",
       "9414     14424          0.0   5000000.0\n",
       "9415     32834          0.0   4500000.0\n",
       "9416    280422          0.0         0.0\n",
       "9417    114903          0.0   1000000.0\n",
       "\n",
       "[9418 rows x 3 columns]"
      ]
     },
     "execution_count": 21,
     "metadata": {},
     "output_type": "execute_result"
    }
   ],
   "source": [
    "manual_adjustments"
   ]
  },
  {
   "cell_type": "code",
   "execution_count": 22,
   "metadata": {},
   "outputs": [
    {
     "name": "stdout",
     "output_type": "stream",
     "text": [
      "Number of movies in wikipedia_movie_financial_data: 43355\n",
      "Number of unique imdb_ids in wikipedia_movie_financial_data: 43355\n"
     ]
    }
   ],
   "source": [
    "# Print how many movies in wikipedia_movie_financial_data\n",
    "print(f'Number of movies in wikipedia_movie_financial_data: {len(wikipedia_movie_financial_data)}')\n",
    "unique_imdb_ids = wikipedia_movie_financial_data['tmdb_id'].unique()\n",
    "print(f'Number of unique imdb_ids in wikipedia_movie_financial_data: {len(unique_imdb_ids)}')\n"
   ]
  },
  {
   "cell_type": "code",
   "execution_count": 23,
   "metadata": {},
   "outputs": [],
   "source": [
    "# #load json from url into dataframe\n",
    "# import requests\n",
    "# import json\n",
    "# url = 'https://ffbe7889f116f85ae79fd90903cf7cccfd41509ca2fe525c2cbda26-apidata.googleusercontent.com/download/storage/v1/b/movie-dataset-291206-movie-data-results/o/20240714_094035_aggregated_results.json?jk=AYBlUPBJApueiHReA-hfruhHxgh8ghoMyS56g-SXJFQSLSg4fymkM4dgnxV6XZyyLQuP54YFFyIEjVmx_Q4oG5jGu3cxPMi2UMXB2FR_DARj-6blknNhuXaBHp6tCXf0HYtxwrC7yklq7U2a8NBQFFf9sLik7i5I1JNWLEe7tDOrU1rAKTNmstj9T9EAWAkX8ULAKB51HFE_mf1TN6NsCEnt_wvWpnY7kufRoI2c-NiLrckk5RGoUnXIiwQF5PP1BIRyIMTHrPm_qeE9s8hnSViNFc0rfhHO0BsIe559FqnDEdIhux07QUfh2DARX8dXKo0Mmb_YHCx368SaexGNydOzAGkfPwhLV9T914KDMwOOOp-H2BPm1kKFKyUc9zdzVQx-dA4RSzvvZn7Ti6n5xPpDhHfgMQe-zI0aRezkwpS6UvdCilkarNR5Mz-5M9Pst9Mqil25h-_2D88ALyROA5090E-iyursRs8smId5NE21LkTHcIBZb1-L9XMhsaJw701dzR7AaKZO2vdh0IouEiBJyWCFTmjDiZ2QJXlM6ssEWyMEQZGl5f17BiXTI2RzO-XnuaWPgJ3uulaOa7OijKsMQYt9mZg6G5usx7B8oDwV2TtkTepqBJvMztVC1iVJ2HgE3VR-tPNkP3TXvsELbYcX4OM1XlOJ-ombTOamS-nQsbH7NKLUCxF3yhOGtFbtMaHt7A9Uv6jr0XKkXiw3YrW9H-AdVMrzqbHKzU5PrWJV0NC_JVkI6fK8t_XweMN_Du--nZOTtdsYLkeiR3iZ2LeBxneKkxgbnAwKBnv0gVRtcrP54C55EwKWkdrf7yAnl6DQBBRZRCZCcZwliv01gHXG4AcKbYLCl3dPotdBR_VvGMEkq6MZ1GQI639GSYhl_38fUBix884nosRXiog4V5m8c__hz1boaESxkpo89QO8Y-IFgFYm1_uMfzxxwHAn0hkRjD692jfEowJcn_2p7i3lN-6CnM6aZONYoYCfTVMIfFm8IuZKWyCHYABunDXgDd5iquPYOrLFFFOFPcqd9RF-jQJQ_P49NoA_ITCEGQK44veox7bbpI0Pbju6zHpTswIFEESbyLbHFmFjLiVMQGVCP51J5Do79r-aT7DkKNTskdrm4mzSpLN9aPEN5CxgqB_cNj9xaxB8W36AIximjr08S9_6un6P4dxUFFmconT0bWxel1kcQZV-zyvt6mSGuhegE-fXPFY8bVaI4dYtQYURdhf2RVC8&isca=1'\n",
    "# response = requests.get(url)\n",
    "# data = response.json()\n",
    "# # print(data)\n",
    "# mojo = pd.read_json(json.dumps(data), orient='index')\n",
    "\n",
    "# mojo.to_csv('../data/manual_data/parsed_mojo.csv')"
   ]
  },
  {
   "cell_type": "markdown",
   "metadata": {},
   "source": [
    "# Wikipedia"
   ]
  },
  {
   "cell_type": "code",
   "execution_count": 24,
   "metadata": {},
   "outputs": [
    {
     "data": {
      "text/html": [
       "<div>\n",
       "<style scoped>\n",
       "    .dataframe tbody tr th:only-of-type {\n",
       "        vertical-align: middle;\n",
       "    }\n",
       "\n",
       "    .dataframe tbody tr th {\n",
       "        vertical-align: top;\n",
       "    }\n",
       "\n",
       "    .dataframe thead th {\n",
       "        text-align: right;\n",
       "    }\n",
       "</style>\n",
       "<table border=\"1\" class=\"dataframe\">\n",
       "  <thead>\n",
       "    <tr style=\"text-align: right;\">\n",
       "      <th></th>\n",
       "      <th>url</th>\n",
       "      <th>tmdb_id</th>\n",
       "      <th>budget_original_string</th>\n",
       "      <th>budget_currency</th>\n",
       "      <th>budget_min</th>\n",
       "      <th>budget_max</th>\n",
       "      <th>budget_avg</th>\n",
       "      <th>budget_error</th>\n",
       "      <th>box_office_original_string</th>\n",
       "      <th>box_office_currency</th>\n",
       "      <th>box office_min</th>\n",
       "      <th>box_office_max</th>\n",
       "      <th>box_office_avg</th>\n",
       "      <th>box_office_error</th>\n",
       "      <th>external_links</th>\n",
       "      <th>error</th>\n",
       "      <th>box_office_min</th>\n",
       "    </tr>\n",
       "  </thead>\n",
       "  <tbody>\n",
       "  </tbody>\n",
       "</table>\n",
       "</div>"
      ],
      "text/plain": [
       "Empty DataFrame\n",
       "Columns: [url, tmdb_id, budget_original_string, budget_currency, budget_min, budget_max, budget_avg, budget_error, box_office_original_string, box_office_currency, box office_min, box_office_max, box_office_avg, box_office_error, external_links, error, box_office_min]\n",
       "Index: []"
      ]
     },
     "metadata": {},
     "output_type": "display_data"
    },
    {
     "name": "stdout",
     "output_type": "stream",
     "text": [
      "0\n"
     ]
    }
   ],
   "source": [
    "# Check wikipedia_movie_financial_data for duplicates on tmdb_id\n",
    "display(wikipedia_movie_financial_data[wikipedia_movie_financial_data.duplicated(subset=['tmdb_id'], keep=False)])\n",
    "\n",
    "# How many unique tmdb_ids are duplicated?\n",
    "print(wikipedia_movie_financial_data[wikipedia_movie_financial_data.duplicated(subset=['tmdb_id'], keep=False)]['tmdb_id'].nunique())\n",
    "\n"
   ]
  },
  {
   "cell_type": "code",
   "execution_count": 25,
   "metadata": {},
   "outputs": [
    {
     "data": {
      "text/plain": [
       "budget_currency\n",
       "USD    10518\n",
       "INR      828\n",
       "EUR      601\n",
       "GBP      447\n",
       "AUD      217\n",
       "CAD      110\n",
       "BRL      106\n",
       "JPY       79\n",
       "SEK       54\n",
       "KRW       44\n",
       "RUB       43\n",
       "HKD       39\n",
       "CZK       31\n",
       "DEM       28\n",
       "ESP       27\n",
       "PHP       24\n",
       "NOK       19\n",
       "NGN       16\n",
       "DKK       14\n",
       "CHF       14\n",
       "dtype: int64"
      ]
     },
     "execution_count": 25,
     "metadata": {},
     "output_type": "execute_result"
    }
   ],
   "source": [
    "wikipedia_movie_financial_data.groupby(by=['budget_currency']).size().sort_values(ascending=False).head(20)"
   ]
  },
  {
   "cell_type": "code",
   "execution_count": 26,
   "metadata": {},
   "outputs": [
    {
     "data": {
      "text/plain": [
       "box_office_currency\n",
       "USD    13193\n",
       "INR      919\n",
       "HKD      290\n",
       "JPY      254\n",
       "AUD      176\n",
       "GBP      167\n",
       "EUR      123\n",
       "ITL      115\n",
       "BRL       86\n",
       "PHP       57\n",
       "SEK       32\n",
       "RUB       31\n",
       "ESP       28\n",
       "NGN       24\n",
       "CHF       23\n",
       "CZK       18\n",
       "CAD       17\n",
       "DEM       10\n",
       "TRY       10\n",
       "KRW        9\n",
       "dtype: int64"
      ]
     },
     "execution_count": 26,
     "metadata": {},
     "output_type": "execute_result"
    }
   ],
   "source": [
    "wikipedia_movie_financial_data.groupby(by=['box_office_currency']).size().sort_values(ascending=False).head(20)"
   ]
  },
  {
   "cell_type": "code",
   "execution_count": 27,
   "metadata": {},
   "outputs": [
    {
     "data": {
      "text/plain": [
       "budget_original_string\n",
       "Unknown                                                               8\n",
       "IL3 million                                                           7\n",
       "P208,120,000                                                          2\n",
       "MYR 2.5 million                                                       2\n",
       "ƒ 5 million                                                           1\n",
       "MYR 3 million                                                         1\n",
       "-                                                                     1\n",
       "Rs 1,50,000                                                           1\n",
       "Undisclosed                                                           1\n",
       "Kadr Film                                                             1\n",
       "7.6 million [1]                                                       1\n",
       "3 million[1]                                                          1\n",
       "12 million FF                                                         1\n",
       "Rp. 80 million                                                        1\n",
       "NT250 million                                                         1\n",
       "2,000,000 Sk                                                          1\n",
       "36 million Kč[1]                                                      1\n",
       "MVR 100,000                                                           1\n",
       "1.8 million leva                                                      1\n",
       "TBA                                                                   1\n",
       "EGP 5.5 million                                                       1\n",
       "21 million lei[1]                                                     1\n",
       "Kickstarter                                                           1\n",
       "4.7 Crores                                                            1\n",
       "20 million Kč                                                         1\n",
       "NZD 2,250,000                                                         1\n",
       "FIM 3,3 million                                                       1\n",
       "28 Million KČs[1]                                                     1\n",
       "Rp 2 billion                                                          1\n",
       "10,000,000 kn                                                         1\n",
       "1.5 Crores                                                            1\n",
       "IL500,000[1]                                                          1\n",
       "FIM 2,9 million[1]                                                    1\n",
       "35 million[2]                                                         1\n",
       "2m                                                                    1\n",
       "million                                                               1\n",
       "FIM6,275,088                                                          1\n",
       "LVL 2.2 million[1]                                                    1\n",
       "MYR 2.40 million[citation needed]                                     1\n",
       "Rs 3,500,000                                                          1\n",
       "~NIS 10 million                                                       1\n",
       "HRK 3.7 million[1]                                                    1\n",
       "MYR 4 million                                                         1\n",
       "ƒ 300,000                                                             1\n",
       "FIM 13,1 million[1]                                                   1\n",
       "MYR 2.2 million[1]                                                    1\n",
       "MYR 2.3 million (estimated)                                           1\n",
       "MYR 1.4 million                                                       1\n",
       "MYR1.56 million[1]                                                    1\n",
       "Rs 6 crore                                                            1\n",
       "P2 million                                                            1\n",
       "RMB 12 million                                                        1\n",
       "28 billion đồng[1]                                                    1\n",
       "रु 3.5 Crore                                                          1\n",
       "872 639 leva                                                          1\n",
       "250,000 HRK[1]                                                        1\n",
       "2 Crore                                                               1\n",
       "LGBT Human Rights Project Gayrussia.ru was the sponsor of the film    1\n",
       "31 million ₴                                                          1\n",
       "Rp 620 million[1]                                                     1\n",
       "MYR 6 million                                                         1\n",
       "MYR 2.5 million                                                       1\n",
       "रु 2 Crore                                                            1\n",
       "450 million tickets                                                   1\n",
       "MYR 10 million[1]                                                     1\n",
       "EGP1,000,000[1]                                                       1\n",
       "Rls.8 billion[2]                                                      1\n",
       "Rs. 5.00 Cr                                                           1\n",
       "6 crores                                                              1\n",
       "5.000.000 MAD                                                         1\n",
       "Name: count, dtype: int64"
      ]
     },
     "execution_count": 27,
     "metadata": {},
     "output_type": "execute_result"
    }
   ],
   "source": [
    "wikipedia_movie_financial_data[(wikipedia_movie_financial_data['budget_currency'].isnull()) & (wikipedia_movie_financial_data['budget_original_string'].notnull())]['budget_original_string'].value_counts()[:70]"
   ]
  },
  {
   "cell_type": "code",
   "execution_count": 28,
   "metadata": {},
   "outputs": [
    {
     "name": "stdout",
     "output_type": "stream",
     "text": [
      "Number of revenue_mojo columns not with 0 values: 5931\n",
      "Number of cases with error: 23\n"
     ]
    }
   ],
   "source": [
    "print(f\"Number of revenue_mojo columns not with 0 values: {(mojo['revenue_mojo'] != 0).sum()}\")\n",
    "print(f\"Number of cases with error: {(~mojo['error'].isna()).sum()}\")\n",
    "\n"
   ]
  },
  {
   "cell_type": "code",
   "execution_count": 29,
   "metadata": {},
   "outputs": [],
   "source": [
    "mojo = mojo[['imdb_id', 'revenue_mojo', 'error']]\n",
    "movie = movie.merge(mojo, on='imdb_id', how='left')\n",
    "movie['revenue_mojo'] = movie['revenue_mojo'].fillna(0)\n",
    "\n",
    "wikipedia_movie_financial_data_usd_raw = wikipedia_movie_financial_data_usd.copy()\n",
    "wikipedia_movie_financial_data_usd = wikipedia_movie_financial_data_usd[['movie_id', 'budget_avg_usd', 'box_office_avg_usd', 'url']].rename(columns={'budget_avg_usd': 'budget_wiki', 'box_office_avg_usd': 'revenue_wiki','url' : 'url_wiki'})\n",
    "movie = movie.merge(wikipedia_movie_financial_data_usd, on='movie_id', how='left')\n",
    "movie = movie.merge(manual_adjustments, on='movie_id', how='left')\n",
    "movie['budget_wiki'] = movie['budget_wiki'].fillna(0).astype(int)\n",
    "movie['revenue_wiki'] = movie['revenue_wiki'].fillna(0).astype(int)\n",
    "movie['revenue_fix'] = movie['revenue_fix'].fillna(0).astype(int)\n",
    "movie['budget_fix'] = movie['budget_fix'].fillna(0).astype(int)\n",
    "\n",
    "\n"
   ]
  },
  {
   "cell_type": "code",
   "execution_count": 30,
   "metadata": {},
   "outputs": [],
   "source": [
    "# Replace the 0 values with the values from the wikipedia dataset\n",
    "movie['budget_synthetic'] = movie['budget_fix'].replace(0, np.nan)\n",
    "movie['budget_synthetic'] = movie['budget_synthetic'].fillna(movie['budget']).replace(0, np.nan)\n",
    "movie['budget_synthetic'] = movie['budget_synthetic'].fillna(movie['budget_wiki']).fillna(0).astype(int)\n",
    "\n",
    "# Create synthetic box office\n",
    "movie['revenue_synthetic'] = movie['revenue_fix'].replace(0, np.nan)\n",
    "movie['revenue_synthetic'] = movie['revenue_synthetic'].fillna(movie['revenue_mojo']).replace(0, np.nan)\n",
    "movie['revenue_synthetic'] = movie['revenue_synthetic'].fillna(movie['revenue']).replace(0, np.nan)\n",
    "movie['revenue_synthetic'] = movie['revenue_synthetic'].fillna(movie['revenue_wiki']).fillna(0).astype(int)"
   ]
  },
  {
   "cell_type": "code",
   "execution_count": 31,
   "metadata": {},
   "outputs": [
    {
     "name": "stdout",
     "output_type": "stream",
     "text": [
      "TMDB Data\n",
      "Number of tmdb revenue column not 0: 11499\n",
      "Number of tmdb budget column not 0: 11700\n",
      "Number of revenue and budget not 0 : 7634\n",
      "Mojo Enriched\n",
      "Number of mojo revenue column not 0: 5908\n",
      "Number of revenue not 0: 14594\n",
      "Number of revenue and budget not 0 : 7987\n",
      "Wikipedia Enriched\n",
      "Number of revenue column not 0: 19784\n",
      "Number of budget column not 0: 16558\n",
      "Number of revenue and budget not 0 : 12183\n"
     ]
    }
   ],
   "source": [
    "print(\"TMDB Data\")\n",
    "print(f\"Number of tmdb revenue column not 0: {(movie['revenue'] != 0).sum()}\")\n",
    "print(f\"Number of tmdb budget column not 0: {(movie['budget'] != 0).sum()}\")\n",
    "print(f\"Number of revenue and budget not 0 : {((movie['revenue'] != 0) & (movie['budget'] != 0)).sum()}\")\n",
    "\n",
    "print(\"Mojo Enriched\")\n",
    "print(f\"Number of mojo revenue column not 0: {(movie['revenue_mojo'] != 0).sum()}\")\n",
    "print(f\"Number of revenue not 0: {((movie['revenue'] != 0) | (movie['revenue_mojo'] != 0)).sum()}\")\n",
    "print(f\"Number of revenue and budget not 0 : {(((movie['revenue'] != 0) | (movie['revenue_mojo'] != 0)) & (movie['budget'] != 0)).sum()}\")\n",
    "\n",
    "print(\"Wikipedia Enriched\")\n",
    "print(f\"Number of revenue column not 0: {(movie['revenue_synthetic'] != 0).sum()}\")\n",
    "print(f\"Number of budget column not 0: {(movie['budget_synthetic'] != 0).sum()}\")\n",
    "print(f\"Number of revenue and budget not 0 : {((movie['revenue_synthetic'] != 0) & (movie['budget_synthetic'] != 0)).sum()}\")\n"
   ]
  },
  {
   "cell_type": "code",
   "execution_count": 32,
   "metadata": {},
   "outputs": [
    {
     "data": {
      "text/html": [
       "<div>\n",
       "<style scoped>\n",
       "    .dataframe tbody tr th:only-of-type {\n",
       "        vertical-align: middle;\n",
       "    }\n",
       "\n",
       "    .dataframe tbody tr th {\n",
       "        vertical-align: top;\n",
       "    }\n",
       "\n",
       "    .dataframe thead th {\n",
       "        text-align: right;\n",
       "    }\n",
       "</style>\n",
       "<table border=\"1\" class=\"dataframe\">\n",
       "  <thead>\n",
       "    <tr style=\"text-align: right;\">\n",
       "      <th></th>\n",
       "      <th>imdb_id</th>\n",
       "      <th>revenue</th>\n",
       "      <th>revenue_mojo</th>\n",
       "      <th>revenue_diff</th>\n",
       "      <th>revenue_ratio</th>\n",
       "      <th>revenue_diff_ratio</th>\n",
       "    </tr>\n",
       "  </thead>\n",
       "  <tbody>\n",
       "    <tr>\n",
       "      <th>61908</th>\n",
       "      <td>tt0080516</td>\n",
       "      <td>12000000</td>\n",
       "      <td>147.0</td>\n",
       "      <td>11999853.0</td>\n",
       "      <td>81632.653061</td>\n",
       "      <td>81631.653061</td>\n",
       "    </tr>\n",
       "    <tr>\n",
       "      <th>46271</th>\n",
       "      <td>tt0066769</td>\n",
       "      <td>12376563</td>\n",
       "      <td>430.0</td>\n",
       "      <td>12376133.0</td>\n",
       "      <td>28782.704651</td>\n",
       "      <td>28781.704651</td>\n",
       "    </tr>\n",
       "    <tr>\n",
       "      <th>55997</th>\n",
       "      <td>tt0070723</td>\n",
       "      <td>3600000</td>\n",
       "      <td>210.0</td>\n",
       "      <td>3599790.0</td>\n",
       "      <td>17142.857143</td>\n",
       "      <td>17141.857143</td>\n",
       "    </tr>\n",
       "    <tr>\n",
       "      <th>62881</th>\n",
       "      <td>tt0080310</td>\n",
       "      <td>8200000</td>\n",
       "      <td>948.0</td>\n",
       "      <td>8199052.0</td>\n",
       "      <td>8649.789030</td>\n",
       "      <td>8648.789030</td>\n",
       "    </tr>\n",
       "    <tr>\n",
       "      <th>48623</th>\n",
       "      <td>tt0074695</td>\n",
       "      <td>1509000</td>\n",
       "      <td>201.0</td>\n",
       "      <td>1508799.0</td>\n",
       "      <td>7507.462687</td>\n",
       "      <td>7506.462687</td>\n",
       "    </tr>\n",
       "    <tr>\n",
       "      <th>27475</th>\n",
       "      <td>tt0068638</td>\n",
       "      <td>36734619</td>\n",
       "      <td>9588.0</td>\n",
       "      <td>36725031.0</td>\n",
       "      <td>3831.311952</td>\n",
       "      <td>3830.311952</td>\n",
       "    </tr>\n",
       "    <tr>\n",
       "      <th>5116</th>\n",
       "      <td>tt0082464</td>\n",
       "      <td>1400000</td>\n",
       "      <td>394.0</td>\n",
       "      <td>1399606.0</td>\n",
       "      <td>3553.299492</td>\n",
       "      <td>3552.299492</td>\n",
       "    </tr>\n",
       "    <tr>\n",
       "      <th>23584</th>\n",
       "      <td>tt5125414</td>\n",
       "      <td>7082000</td>\n",
       "      <td>3403.0</td>\n",
       "      <td>7078597.0</td>\n",
       "      <td>2081.104907</td>\n",
       "      <td>2080.104907</td>\n",
       "    </tr>\n",
       "    <tr>\n",
       "      <th>4298</th>\n",
       "      <td>tt0080117</td>\n",
       "      <td>23000000</td>\n",
       "      <td>14492.0</td>\n",
       "      <td>22985508.0</td>\n",
       "      <td>1587.082528</td>\n",
       "      <td>1586.082528</td>\n",
       "    </tr>\n",
       "    <tr>\n",
       "      <th>8320</th>\n",
       "      <td>tt0071222</td>\n",
       "      <td>4000000</td>\n",
       "      <td>2686.0</td>\n",
       "      <td>3997314.0</td>\n",
       "      <td>1489.203276</td>\n",
       "      <td>1488.203276</td>\n",
       "    </tr>\n",
       "  </tbody>\n",
       "</table>\n",
       "</div>"
      ],
      "text/plain": [
       "         imdb_id   revenue  revenue_mojo  revenue_diff  revenue_ratio  \\\n",
       "61908  tt0080516  12000000         147.0    11999853.0   81632.653061   \n",
       "46271  tt0066769  12376563         430.0    12376133.0   28782.704651   \n",
       "55997  tt0070723   3600000         210.0     3599790.0   17142.857143   \n",
       "62881  tt0080310   8200000         948.0     8199052.0    8649.789030   \n",
       "48623  tt0074695   1509000         201.0     1508799.0    7507.462687   \n",
       "27475  tt0068638  36734619        9588.0    36725031.0    3831.311952   \n",
       "5116   tt0082464   1400000         394.0     1399606.0    3553.299492   \n",
       "23584  tt5125414   7082000        3403.0     7078597.0    2081.104907   \n",
       "4298   tt0080117  23000000       14492.0    22985508.0    1587.082528   \n",
       "8320   tt0071222   4000000        2686.0     3997314.0    1489.203276   \n",
       "\n",
       "       revenue_diff_ratio  \n",
       "61908        81631.653061  \n",
       "46271        28781.704651  \n",
       "55997        17141.857143  \n",
       "62881         8648.789030  \n",
       "48623         7506.462687  \n",
       "27475         3830.311952  \n",
       "5116          3552.299492  \n",
       "23584         2080.104907  \n",
       "4298          1586.082528  \n",
       "8320          1488.203276  "
      ]
     },
     "metadata": {},
     "output_type": "display_data"
    },
    {
     "data": {
      "text/html": [
       "<style type=\"text/css\">\n",
       "</style>\n",
       "<table id=\"T_deaf7\">\n",
       "  <thead>\n",
       "    <tr>\n",
       "      <th class=\"blank level0\" >&nbsp;</th>\n",
       "      <th id=\"T_deaf7_level0_col0\" class=\"col_heading level0 col0\" >revenue_diff_ratio</th>\n",
       "      <th id=\"T_deaf7_level0_col1\" class=\"col_heading level0 col1\" >revenue_ratio</th>\n",
       "      <th id=\"T_deaf7_level0_col2\" class=\"col_heading level0 col2\" >revenue_diff</th>\n",
       "    </tr>\n",
       "  </thead>\n",
       "  <tbody>\n",
       "    <tr>\n",
       "      <th id=\"T_deaf7_level0_row0\" class=\"row_heading level0 row0\" >count</th>\n",
       "      <td id=\"T_deaf7_row0_col0\" class=\"data row0 col0\" >2813.00</td>\n",
       "      <td id=\"T_deaf7_row0_col1\" class=\"data row0 col1\" >2813.00</td>\n",
       "      <td id=\"T_deaf7_row0_col2\" class=\"data row0 col2\" >2813.00</td>\n",
       "    </tr>\n",
       "    <tr>\n",
       "      <th id=\"T_deaf7_level0_row1\" class=\"row_heading level0 row1\" >mean</th>\n",
       "      <td id=\"T_deaf7_row1_col0\" class=\"data row1 col0\" >57.87</td>\n",
       "      <td id=\"T_deaf7_row1_col1\" class=\"data row1 col1\" >58.87</td>\n",
       "      <td id=\"T_deaf7_row1_col2\" class=\"data row1 col2\" >82323.88</td>\n",
       "    </tr>\n",
       "    <tr>\n",
       "      <th id=\"T_deaf7_level0_row2\" class=\"row_heading level0 row2\" >std</th>\n",
       "      <td id=\"T_deaf7_row2_col0\" class=\"data row2 col0\" >1681.24</td>\n",
       "      <td id=\"T_deaf7_row2_col1\" class=\"data row2 col1\" >1681.24</td>\n",
       "      <td id=\"T_deaf7_row2_col2\" class=\"data row2 col2\" >9841623.61</td>\n",
       "    </tr>\n",
       "    <tr>\n",
       "      <th id=\"T_deaf7_level0_row3\" class=\"row_heading level0 row3\" >min</th>\n",
       "      <td id=\"T_deaf7_row3_col0\" class=\"data row3 col0\" >-1.00</td>\n",
       "      <td id=\"T_deaf7_row3_col1\" class=\"data row3 col1\" >0.00</td>\n",
       "      <td id=\"T_deaf7_row3_col2\" class=\"data row3 col2\" >-231142888.00</td>\n",
       "    </tr>\n",
       "    <tr>\n",
       "      <th id=\"T_deaf7_level0_row4\" class=\"row_heading level0 row4\" >1%</th>\n",
       "      <td id=\"T_deaf7_row4_col0\" class=\"data row4 col0\" >-1.00</td>\n",
       "      <td id=\"T_deaf7_row4_col1\" class=\"data row4 col1\" >0.00</td>\n",
       "      <td id=\"T_deaf7_row4_col2\" class=\"data row4 col2\" >-21120563.00</td>\n",
       "    </tr>\n",
       "    <tr>\n",
       "      <th id=\"T_deaf7_level0_row5\" class=\"row_heading level0 row5\" >5%</th>\n",
       "      <td id=\"T_deaf7_row5_col0\" class=\"data row5 col0\" >-0.65</td>\n",
       "      <td id=\"T_deaf7_row5_col1\" class=\"data row5 col1\" >0.35</td>\n",
       "      <td id=\"T_deaf7_row5_col2\" class=\"data row5 col2\" >-3324037.80</td>\n",
       "    </tr>\n",
       "    <tr>\n",
       "      <th id=\"T_deaf7_level0_row6\" class=\"row_heading level0 row6\" >10%</th>\n",
       "      <td id=\"T_deaf7_row6_col0\" class=\"data row6 col0\" >-0.26</td>\n",
       "      <td id=\"T_deaf7_row6_col1\" class=\"data row6 col1\" >0.74</td>\n",
       "      <td id=\"T_deaf7_row6_col2\" class=\"data row6 col2\" >-1073131.80</td>\n",
       "    </tr>\n",
       "    <tr>\n",
       "      <th id=\"T_deaf7_level0_row7\" class=\"row_heading level0 row7\" >25%</th>\n",
       "      <td id=\"T_deaf7_row7_col0\" class=\"data row7 col0\" >-0.01</td>\n",
       "      <td id=\"T_deaf7_row7_col1\" class=\"data row7 col1\" >0.99</td>\n",
       "      <td id=\"T_deaf7_row7_col2\" class=\"data row7 col2\" >-37633.00</td>\n",
       "    </tr>\n",
       "    <tr>\n",
       "      <th id=\"T_deaf7_level0_row8\" class=\"row_heading level0 row8\" >50%</th>\n",
       "      <td id=\"T_deaf7_row8_col0\" class=\"data row8 col0\" >0.00</td>\n",
       "      <td id=\"T_deaf7_row8_col1\" class=\"data row8 col1\" >1.00</td>\n",
       "      <td id=\"T_deaf7_row8_col2\" class=\"data row8 col2\" >0.00</td>\n",
       "    </tr>\n",
       "    <tr>\n",
       "      <th id=\"T_deaf7_level0_row9\" class=\"row_heading level0 row9\" >75%</th>\n",
       "      <td id=\"T_deaf7_row9_col0\" class=\"data row9 col0\" >0.00</td>\n",
       "      <td id=\"T_deaf7_row9_col1\" class=\"data row9 col1\" >1.00</td>\n",
       "      <td id=\"T_deaf7_row9_col2\" class=\"data row9 col2\" >0.00</td>\n",
       "    </tr>\n",
       "    <tr>\n",
       "      <th id=\"T_deaf7_level0_row10\" class=\"row_heading level0 row10\" >90%</th>\n",
       "      <td id=\"T_deaf7_row10_col0\" class=\"data row10 col0\" >0.00</td>\n",
       "      <td id=\"T_deaf7_row10_col1\" class=\"data row10 col1\" >1.00</td>\n",
       "      <td id=\"T_deaf7_row10_col2\" class=\"data row10 col2\" >42440.00</td>\n",
       "    </tr>\n",
       "    <tr>\n",
       "      <th id=\"T_deaf7_level0_row11\" class=\"row_heading level0 row11\" >95%</th>\n",
       "      <td id=\"T_deaf7_row11_col0\" class=\"data row11 col0\" >0.35</td>\n",
       "      <td id=\"T_deaf7_row11_col1\" class=\"data row11 col1\" >1.35</td>\n",
       "      <td id=\"T_deaf7_row11_col2\" class=\"data row11 col2\" >2160444.20</td>\n",
       "    </tr>\n",
       "    <tr>\n",
       "      <th id=\"T_deaf7_level0_row12\" class=\"row_heading level0 row12\" >97%</th>\n",
       "      <td id=\"T_deaf7_row12_col0\" class=\"data row12 col0\" >1.45</td>\n",
       "      <td id=\"T_deaf7_row12_col1\" class=\"data row12 col1\" >2.45</td>\n",
       "      <td id=\"T_deaf7_row12_col2\" class=\"data row12 col2\" >7691450.56</td>\n",
       "    </tr>\n",
       "    <tr>\n",
       "      <th id=\"T_deaf7_level0_row13\" class=\"row_heading level0 row13\" >98%</th>\n",
       "      <td id=\"T_deaf7_row13_col0\" class=\"data row13 col0\" >3.68</td>\n",
       "      <td id=\"T_deaf7_row13_col1\" class=\"data row13 col1\" >4.68</td>\n",
       "      <td id=\"T_deaf7_row13_col2\" class=\"data row13 col2\" >18415509.20</td>\n",
       "    </tr>\n",
       "    <tr>\n",
       "      <th id=\"T_deaf7_level0_row14\" class=\"row_heading level0 row14\" >99%</th>\n",
       "      <td id=\"T_deaf7_row14_col0\" class=\"data row14 col0\" >41.72</td>\n",
       "      <td id=\"T_deaf7_row14_col1\" class=\"data row14 col1\" >42.72</td>\n",
       "      <td id=\"T_deaf7_row14_col2\" class=\"data row14 col2\" >32465470.84</td>\n",
       "    </tr>\n",
       "    <tr>\n",
       "      <th id=\"T_deaf7_level0_row15\" class=\"row_heading level0 row15\" >max</th>\n",
       "      <td id=\"T_deaf7_row15_col0\" class=\"data row15 col0\" >81631.65</td>\n",
       "      <td id=\"T_deaf7_row15_col1\" class=\"data row15 col1\" >81632.65</td>\n",
       "      <td id=\"T_deaf7_row15_col2\" class=\"data row15 col2\" >108046816.00</td>\n",
       "    </tr>\n",
       "  </tbody>\n",
       "</table>\n"
      ],
      "text/plain": [
       "<pandas.io.formats.style.Styler at 0x333df2600>"
      ]
     },
     "execution_count": 32,
     "metadata": {},
     "output_type": "execute_result"
    }
   ],
   "source": [
    "compare = movie[(movie['revenue'] != 0) & (movie['revenue_mojo'] != 0)].copy()\n",
    "compare['revenue_diff'] = compare['revenue'] - compare['revenue_mojo']\n",
    "\n",
    "# Calulate metrics\n",
    "compare['revenue_diff'] = compare['revenue'] - compare['revenue_mojo']\n",
    "compare['revenue_ratio'] = compare['revenue'] / compare['revenue_mojo']\n",
    "compare['revenue_diff_ratio'] = compare['revenue_diff'] / compare['revenue_mojo']\n",
    "\n",
    "# Display\n",
    "display(compare[['imdb_id', 'revenue', 'revenue_mojo', 'revenue_diff', 'revenue_ratio', 'revenue_diff_ratio']].sort_values(by='revenue_diff_ratio', ascending=False).head(10))\n",
    "\n",
    "# Describe\n",
    "compare[['revenue_diff_ratio','revenue_ratio', 'revenue_diff']].describe(percentiles=[0.01, 0.05, 0.1, 0.25, 0.5, 0.75, 0.9, 0.95, 0.97, 0.98, 0.99]).style.format(\"{:.2f}\")"
   ]
  },
  {
   "cell_type": "code",
   "execution_count": 33,
   "metadata": {},
   "outputs": [
    {
     "name": "stdout",
     "output_type": "stream",
     "text": [
      "                   Null Percentage  Zero Percentage\n",
      "movie_id                  0.000000         0.000000\n",
      "title                     0.000000         0.000000\n",
      "original_title            0.000000         0.000000\n",
      "original_language         0.000000         0.000000\n",
      "overview                  5.789014         0.000000\n",
      "tagline                  64.095087         0.000000\n",
      "release_date              0.241271         0.000000\n",
      "runtime                   0.000000         5.578827\n",
      "budget                    0.000000        82.681804\n",
      "revenue                   0.000000        82.979322\n",
      "poster_path               3.608698         0.000000\n",
      "imdb_id                   0.458858         0.000000\n",
      "facebook_id              95.760742         0.000000\n",
      "instagram_id             98.291863         0.000000\n",
      "twitter_id               97.945499         0.000000\n",
      "wikidata_id              88.629198         0.000000\n",
      "revenue_mojo              0.000000        91.255051\n",
      "error                    99.965956         0.000000\n",
      "budget_wiki               0.000000        81.038796\n",
      "revenue_wiki              0.000000        77.505588\n",
      "url_wiki                 73.489839         0.000000\n",
      "revenue_fix               0.000000        99.887506\n",
      "budget_fix                0.000000        99.931911\n",
      "budget_synthetic          0.000000        75.491052\n",
      "revenue_synthetic         0.000000        70.715967\n"
     ]
    }
   ],
   "source": [
    "null_percentage_all = movie.isnull().mean() * 100\n",
    "\n",
    "zero_percentage_all = (movie == 0).mean() * 100\n",
    "\n",
    "null_zero_percentage_all = pd.DataFrame({'Null Percentage': null_percentage_all, 'Zero Percentage': zero_percentage_all})\n",
    "print(null_zero_percentage_all)"
   ]
  },
  {
   "cell_type": "code",
   "execution_count": 34,
   "metadata": {},
   "outputs": [],
   "source": [
    "movie = movie[(movie['revenue_synthetic'] != 0) & (movie['budget_synthetic'] != 0)]"
   ]
  },
  {
   "cell_type": "code",
   "execution_count": 35,
   "metadata": {},
   "outputs": [
    {
     "data": {
      "text/html": [
       "<style type=\"text/css\">\n",
       "</style>\n",
       "<table id=\"T_e9680\">\n",
       "  <thead>\n",
       "    <tr>\n",
       "      <th class=\"blank level0\" >&nbsp;</th>\n",
       "      <th id=\"T_e9680_level0_col0\" class=\"col_heading level0 col0\" >budget</th>\n",
       "      <th id=\"T_e9680_level0_col1\" class=\"col_heading level0 col1\" >budget_wiki</th>\n",
       "      <th id=\"T_e9680_level0_col2\" class=\"col_heading level0 col2\" >budget_synthetic</th>\n",
       "      <th id=\"T_e9680_level0_col3\" class=\"col_heading level0 col3\" >revenue</th>\n",
       "      <th id=\"T_e9680_level0_col4\" class=\"col_heading level0 col4\" >revenue_mojo</th>\n",
       "      <th id=\"T_e9680_level0_col5\" class=\"col_heading level0 col5\" >revenue_wiki</th>\n",
       "      <th id=\"T_e9680_level0_col6\" class=\"col_heading level0 col6\" >revenue_synthetic</th>\n",
       "    </tr>\n",
       "  </thead>\n",
       "  <tbody>\n",
       "    <tr>\n",
       "      <th id=\"T_e9680_level0_row0\" class=\"row_heading level0 row0\" >mean</th>\n",
       "      <td id=\"T_e9680_row0_col0\" class=\"data row0 col0\" >$15,765,264</td>\n",
       "      <td id=\"T_e9680_row0_col1\" class=\"data row0 col1\" >$16,492,973</td>\n",
       "      <td id=\"T_e9680_row0_col2\" class=\"data row0 col2\" >$17,900,084</td>\n",
       "      <td id=\"T_e9680_row0_col3\" class=\"data row0 col3\" >$41,711,358</td>\n",
       "      <td id=\"T_e9680_row0_col4\" class=\"data row0 col4\" >$11,753,012</td>\n",
       "      <td id=\"T_e9680_row0_col5\" class=\"data row0 col5\" >$45,109,829</td>\n",
       "      <td id=\"T_e9680_row0_col6\" class=\"data row0 col6\" >$43,922,431</td>\n",
       "    </tr>\n",
       "    <tr>\n",
       "      <th id=\"T_e9680_level0_row1\" class=\"row_heading level0 row1\" >std</th>\n",
       "      <td id=\"T_e9680_row1_col0\" class=\"data row1 col0\" >$29,279,919</td>\n",
       "      <td id=\"T_e9680_row1_col1\" class=\"data row1 col1\" >$30,882,198</td>\n",
       "      <td id=\"T_e9680_row1_col2\" class=\"data row1 col2\" >$29,500,371</td>\n",
       "      <td id=\"T_e9680_row1_col3\" class=\"data row1 col3\" >$118,984,042</td>\n",
       "      <td id=\"T_e9680_row1_col4\" class=\"data row1 col4\" >$64,961,723</td>\n",
       "      <td id=\"T_e9680_row1_col5\" class=\"data row1 col5\" >$122,449,255</td>\n",
       "      <td id=\"T_e9680_row1_col6\" class=\"data row1 col6\" >$119,119,185</td>\n",
       "    </tr>\n",
       "    <tr>\n",
       "      <th id=\"T_e9680_level0_row2\" class=\"row_heading level0 row2\" >min</th>\n",
       "      <td id=\"T_e9680_row2_col0\" class=\"data row2 col0\" >$0</td>\n",
       "      <td id=\"T_e9680_row2_col1\" class=\"data row2 col1\" >$0</td>\n",
       "      <td id=\"T_e9680_row2_col2\" class=\"data row2 col2\" >$1</td>\n",
       "      <td id=\"T_e9680_row2_col3\" class=\"data row2 col3\" >$0</td>\n",
       "      <td id=\"T_e9680_row2_col4\" class=\"data row2 col4\" >$0</td>\n",
       "      <td id=\"T_e9680_row2_col5\" class=\"data row2 col5\" >$0</td>\n",
       "      <td id=\"T_e9680_row2_col6\" class=\"data row2 col6\" >$2</td>\n",
       "    </tr>\n",
       "    <tr>\n",
       "      <th id=\"T_e9680_level0_row3\" class=\"row_heading level0 row3\" >25%</th>\n",
       "      <td id=\"T_e9680_row3_col0\" class=\"data row3 col0\" >$0</td>\n",
       "      <td id=\"T_e9680_row3_col1\" class=\"data row3 col1\" >$1,721,240</td>\n",
       "      <td id=\"T_e9680_row3_col2\" class=\"data row3 col2\" >$3,000,000</td>\n",
       "      <td id=\"T_e9680_row3_col3\" class=\"data row3 col3\" >$0</td>\n",
       "      <td id=\"T_e9680_row3_col4\" class=\"data row3 col4\" >$0</td>\n",
       "      <td id=\"T_e9680_row3_col5\" class=\"data row3 col5\" >$1,022,820</td>\n",
       "      <td id=\"T_e9680_row3_col6\" class=\"data row3 col6\" >$1,354,824</td>\n",
       "    </tr>\n",
       "    <tr>\n",
       "      <th id=\"T_e9680_level0_row4\" class=\"row_heading level0 row4\" >50%</th>\n",
       "      <td id=\"T_e9680_row4_col0\" class=\"data row4 col0\" >$5,000,000</td>\n",
       "      <td id=\"T_e9680_row4_col1\" class=\"data row4 col1\" >$7,000,000</td>\n",
       "      <td id=\"T_e9680_row4_col2\" class=\"data row4 col2\" >$8,000,000</td>\n",
       "      <td id=\"T_e9680_row4_col3\" class=\"data row4 col3\" >$3,764,219</td>\n",
       "      <td id=\"T_e9680_row4_col4\" class=\"data row4 col4\" >$0</td>\n",
       "      <td id=\"T_e9680_row4_col5\" class=\"data row4 col5\" >$7,800,000</td>\n",
       "      <td id=\"T_e9680_row4_col6\" class=\"data row4 col6\" >$7,800,000</td>\n",
       "    </tr>\n",
       "    <tr>\n",
       "      <th id=\"T_e9680_level0_row5\" class=\"row_heading level0 row5\" >75%</th>\n",
       "      <td id=\"T_e9680_row5_col0\" class=\"data row5 col0\" >$19,000,000</td>\n",
       "      <td id=\"T_e9680_row5_col1\" class=\"data row5 col1\" >$19,775,000</td>\n",
       "      <td id=\"T_e9680_row5_col2\" class=\"data row5 col2\" >$20,000,000</td>\n",
       "      <td id=\"T_e9680_row5_col3\" class=\"data row5 col3\" >$30,673,624</td>\n",
       "      <td id=\"T_e9680_row5_col4\" class=\"data row5 col4\" >$7,755</td>\n",
       "      <td id=\"T_e9680_row5_col5\" class=\"data row5 col5\" >$35,800,000</td>\n",
       "      <td id=\"T_e9680_row5_col6\" class=\"data row5 col6\" >$33,298,228</td>\n",
       "    </tr>\n",
       "    <tr>\n",
       "      <th id=\"T_e9680_level0_row6\" class=\"row_heading level0 row6\" >max</th>\n",
       "      <td id=\"T_e9680_row6_col0\" class=\"data row6 col0\" >$379,000,000</td>\n",
       "      <td id=\"T_e9680_row6_col1\" class=\"data row6 col1\" >$1,107,215,353</td>\n",
       "      <td id=\"T_e9680_row6_col2\" class=\"data row6 col2\" >$500,000,000</td>\n",
       "      <td id=\"T_e9680_row6_col3\" class=\"data row6 col3\" >$2,923,706,026</td>\n",
       "      <td id=\"T_e9680_row6_col4\" class=\"data row6 col4\" >$2,923,706,026</td>\n",
       "      <td id=\"T_e9680_row6_col5\" class=\"data row6 col5\" >$2,923,000,000</td>\n",
       "      <td id=\"T_e9680_row6_col6\" class=\"data row6 col6\" >$2,923,706,026</td>\n",
       "    </tr>\n",
       "  </tbody>\n",
       "</table>\n"
      ],
      "text/plain": [
       "<pandas.io.formats.style.Styler at 0x34e265c40>"
      ]
     },
     "execution_count": 35,
     "metadata": {},
     "output_type": "execute_result"
    }
   ],
   "source": [
    "movie[['budget', 'budget_wiki', 'budget_synthetic', 'revenue', 'revenue_mojo', 'revenue_wiki','revenue_synthetic']].describe().drop('count').style.format({\n",
    "    'budget': \"${:,.0f}\",\n",
    "    'budget_wiki': \"${:,.0f}\",\n",
    "    'budget_synthetic': \"${:,.0f}\",\n",
    "    'revenue': \"${:,.0f}\",\n",
    "    'revenue_mojo': \"${:,.0f}\",\n",
    "    'revenue_wiki': \"${:,.0f}\",\n",
    "    'revenue_synthetic': \"${:,.0f}\"\n",
    "})"
   ]
  },
  {
   "cell_type": "code",
   "execution_count": 44,
   "metadata": {},
   "outputs": [],
   "source": [
    "movie['synthetic_ratio'] = movie['revenue_synthetic'] / movie['budget_synthetic']"
   ]
  },
  {
   "cell_type": "code",
   "execution_count": 45,
   "metadata": {},
   "outputs": [
    {
     "data": {
      "text/html": [
       "<div>\n",
       "<style scoped>\n",
       "    .dataframe tbody tr th:only-of-type {\n",
       "        vertical-align: middle;\n",
       "    }\n",
       "\n",
       "    .dataframe tbody tr th {\n",
       "        vertical-align: top;\n",
       "    }\n",
       "\n",
       "    .dataframe thead th {\n",
       "        text-align: right;\n",
       "    }\n",
       "</style>\n",
       "<table border=\"1\" class=\"dataframe\">\n",
       "  <thead>\n",
       "    <tr style=\"text-align: right;\">\n",
       "      <th></th>\n",
       "      <th>movie_id</th>\n",
       "      <th>title</th>\n",
       "      <th>original_title</th>\n",
       "      <th>original_language</th>\n",
       "      <th>overview</th>\n",
       "      <th>tagline</th>\n",
       "      <th>release_date</th>\n",
       "      <th>runtime</th>\n",
       "      <th>budget</th>\n",
       "      <th>revenue</th>\n",
       "      <th>poster_path</th>\n",
       "      <th>imdb_id</th>\n",
       "      <th>facebook_id</th>\n",
       "      <th>instagram_id</th>\n",
       "      <th>twitter_id</th>\n",
       "      <th>wikidata_id</th>\n",
       "      <th>revenue_mojo</th>\n",
       "      <th>error</th>\n",
       "      <th>budget_wiki</th>\n",
       "      <th>revenue_wiki</th>\n",
       "      <th>url_wiki</th>\n",
       "      <th>revenue_fix</th>\n",
       "      <th>budget_fix</th>\n",
       "      <th>budget_synthetic</th>\n",
       "      <th>revenue_synthetic</th>\n",
       "      <th>synthetic_ratio</th>\n",
       "    </tr>\n",
       "  </thead>\n",
       "  <tbody>\n",
       "    <tr>\n",
       "      <th>6</th>\n",
       "      <td>55895</td>\n",
       "      <td>Monogamy</td>\n",
       "      <td>Monogamy</td>\n",
       "      <td>en</td>\n",
       "      <td>Exhibitionism, voyeurism, jealousy, lust. Broo...</td>\n",
       "      <td>NaN</td>\n",
       "      <td>2010-04-24</td>\n",
       "      <td>94</td>\n",
       "      <td>1000000</td>\n",
       "      <td>0</td>\n",
       "      <td>/7NmXl4GbSJW1kbcZ1OPKt0UC6E7.jpg</td>\n",
       "      <td>tt1502714</td>\n",
       "      <td>NaN</td>\n",
       "      <td>NaN</td>\n",
       "      <td>NaN</td>\n",
       "      <td>NaN</td>\n",
       "      <td>21527.0</td>\n",
       "      <td>NaN</td>\n",
       "      <td>1000000</td>\n",
       "      <td>0</td>\n",
       "      <td>https://en.wikipedia.org/wiki/Monogamy_(film)</td>\n",
       "      <td>0</td>\n",
       "      <td>0</td>\n",
       "      <td>1000000</td>\n",
       "      <td>21527</td>\n",
       "      <td>0.021527</td>\n",
       "    </tr>\n",
       "    <tr>\n",
       "      <th>25</th>\n",
       "      <td>14854</td>\n",
       "      <td>Lone Wolf McQuade</td>\n",
       "      <td>Lone Wolf McQuade</td>\n",
       "      <td>en</td>\n",
       "      <td>The archetypical renegade Texas Ranger wages w...</td>\n",
       "      <td>The 'Mad Dog' Criminal... The 'Lone Wolf' Lawm...</td>\n",
       "      <td>1983-04-15</td>\n",
       "      <td>107</td>\n",
       "      <td>5000000</td>\n",
       "      <td>12232628</td>\n",
       "      <td>/dTUTDPilI2Ozi5GeoBRczidQTaZ.jpg</td>\n",
       "      <td>tt0085862</td>\n",
       "      <td>NaN</td>\n",
       "      <td>NaN</td>\n",
       "      <td>NaN</td>\n",
       "      <td>NaN</td>\n",
       "      <td>12232628.0</td>\n",
       "      <td>NaN</td>\n",
       "      <td>5000000</td>\n",
       "      <td>13616314</td>\n",
       "      <td>https://en.wikipedia.org/wiki/Lone_Wolf_McQuade</td>\n",
       "      <td>0</td>\n",
       "      <td>0</td>\n",
       "      <td>5000000</td>\n",
       "      <td>12232628</td>\n",
       "      <td>2.446526</td>\n",
       "    </tr>\n",
       "    <tr>\n",
       "      <th>35</th>\n",
       "      <td>296690</td>\n",
       "      <td>Kill Dil</td>\n",
       "      <td>किल दिल</td>\n",
       "      <td>hi</td>\n",
       "      <td>Once upon a time in North India, two killers –...</td>\n",
       "      <td>NaN</td>\n",
       "      <td>2014-11-13</td>\n",
       "      <td>127</td>\n",
       "      <td>0</td>\n",
       "      <td>0</td>\n",
       "      <td>/rs93Rh0oeJ4eYCpfn0GvkrtpSbQ.jpg</td>\n",
       "      <td>tt3380264</td>\n",
       "      <td>NaN</td>\n",
       "      <td>NaN</td>\n",
       "      <td>NaN</td>\n",
       "      <td>NaN</td>\n",
       "      <td>27256.0</td>\n",
       "      <td>NaN</td>\n",
       "      <td>6431385</td>\n",
       "      <td>8376879</td>\n",
       "      <td>https://en.wikipedia.org/wiki/Kill_Dil</td>\n",
       "      <td>0</td>\n",
       "      <td>0</td>\n",
       "      <td>6431385</td>\n",
       "      <td>27256</td>\n",
       "      <td>0.004238</td>\n",
       "    </tr>\n",
       "    <tr>\n",
       "      <th>39</th>\n",
       "      <td>55903</td>\n",
       "      <td>Betty Fisher and Other Stories</td>\n",
       "      <td>Betty Fisher et autres histoires</td>\n",
       "      <td>fr</td>\n",
       "      <td>When bestselling novelist Betty Fisher loses h...</td>\n",
       "      <td>Crimes of passion are not always between lovers.</td>\n",
       "      <td>2001-09-01</td>\n",
       "      <td>103</td>\n",
       "      <td>0</td>\n",
       "      <td>0</td>\n",
       "      <td>/hYMsIPY8APyppmc1wHztD3zLR0g.jpg</td>\n",
       "      <td>tt0269329</td>\n",
       "      <td>NaN</td>\n",
       "      <td>NaN</td>\n",
       "      <td>NaN</td>\n",
       "      <td>NaN</td>\n",
       "      <td>676239.0</td>\n",
       "      <td>NaN</td>\n",
       "      <td>9000000</td>\n",
       "      <td>468</td>\n",
       "      <td>https://en.wikipedia.org/wiki/Alias_Betty</td>\n",
       "      <td>0</td>\n",
       "      <td>0</td>\n",
       "      <td>9000000</td>\n",
       "      <td>676239</td>\n",
       "      <td>0.075138</td>\n",
       "    </tr>\n",
       "    <tr>\n",
       "      <th>43</th>\n",
       "      <td>34544</td>\n",
       "      <td>The A-Team</td>\n",
       "      <td>The A-Team</td>\n",
       "      <td>en</td>\n",
       "      <td>A man who loves when a plan comes together, Co...</td>\n",
       "      <td>There is no plan B.</td>\n",
       "      <td>2010-06-09</td>\n",
       "      <td>117</td>\n",
       "      <td>110000000</td>\n",
       "      <td>177238796</td>\n",
       "      <td>/k3mKy2zYfzqGg9o5JeDyzSEPPHO.jpg</td>\n",
       "      <td>tt0429493</td>\n",
       "      <td>officialateammovie</td>\n",
       "      <td>NaN</td>\n",
       "      <td>NaN</td>\n",
       "      <td>Q471746</td>\n",
       "      <td>177238796.0</td>\n",
       "      <td>NaN</td>\n",
       "      <td>55000050</td>\n",
       "      <td>177200000</td>\n",
       "      <td>https://en.wikipedia.org/wiki/The_A-Team_(film)</td>\n",
       "      <td>0</td>\n",
       "      <td>0</td>\n",
       "      <td>110000000</td>\n",
       "      <td>177238796</td>\n",
       "      <td>1.611262</td>\n",
       "    </tr>\n",
       "    <tr>\n",
       "      <th>...</th>\n",
       "      <td>...</td>\n",
       "      <td>...</td>\n",
       "      <td>...</td>\n",
       "      <td>...</td>\n",
       "      <td>...</td>\n",
       "      <td>...</td>\n",
       "      <td>...</td>\n",
       "      <td>...</td>\n",
       "      <td>...</td>\n",
       "      <td>...</td>\n",
       "      <td>...</td>\n",
       "      <td>...</td>\n",
       "      <td>...</td>\n",
       "      <td>...</td>\n",
       "      <td>...</td>\n",
       "      <td>...</td>\n",
       "      <td>...</td>\n",
       "      <td>...</td>\n",
       "      <td>...</td>\n",
       "      <td>...</td>\n",
       "      <td>...</td>\n",
       "      <td>...</td>\n",
       "      <td>...</td>\n",
       "      <td>...</td>\n",
       "      <td>...</td>\n",
       "      <td>...</td>\n",
       "    </tr>\n",
       "    <tr>\n",
       "      <th>67530</th>\n",
       "      <td>55890</td>\n",
       "      <td>Bereavement</td>\n",
       "      <td>Bereavement</td>\n",
       "      <td>en</td>\n",
       "      <td>In 1989, six year old Martin Bristoll was kidn...</td>\n",
       "      <td>There are some evils...so unspeakable...they w...</td>\n",
       "      <td>2010-07-16</td>\n",
       "      <td>103</td>\n",
       "      <td>2000000</td>\n",
       "      <td>10000000</td>\n",
       "      <td>/5Zd0NzvT3x8EhuE5lYMJz5ShcH1.jpg</td>\n",
       "      <td>tt1100051</td>\n",
       "      <td>NaN</td>\n",
       "      <td>NaN</td>\n",
       "      <td>NaN</td>\n",
       "      <td>NaN</td>\n",
       "      <td>43712.0</td>\n",
       "      <td>NaN</td>\n",
       "      <td>2000000</td>\n",
       "      <td>10000000</td>\n",
       "      <td>https://en.wikipedia.org/wiki/Bereavement_(film)</td>\n",
       "      <td>0</td>\n",
       "      <td>0</td>\n",
       "      <td>2000000</td>\n",
       "      <td>43712</td>\n",
       "      <td>0.021856</td>\n",
       "    </tr>\n",
       "    <tr>\n",
       "      <th>67532</th>\n",
       "      <td>34491</td>\n",
       "      <td>The Wedding Game</td>\n",
       "      <td>大囍事</td>\n",
       "      <td>zh</td>\n",
       "      <td>A black comedy centered on a recently engaged ...</td>\n",
       "      <td>NaN</td>\n",
       "      <td>2009-01-25</td>\n",
       "      <td>103</td>\n",
       "      <td>1000000</td>\n",
       "      <td>0</td>\n",
       "      <td>/igeZ2mn1IjlbhKPbaxHU5cNw4rX.jpg</td>\n",
       "      <td>tt1314659</td>\n",
       "      <td>NaN</td>\n",
       "      <td>NaN</td>\n",
       "      <td>NaN</td>\n",
       "      <td>NaN</td>\n",
       "      <td>1949614.0</td>\n",
       "      <td>NaN</td>\n",
       "      <td>1500000</td>\n",
       "      <td>0</td>\n",
       "      <td>https://en.wikipedia.org/wiki/The_Wedding_Game</td>\n",
       "      <td>0</td>\n",
       "      <td>0</td>\n",
       "      <td>1000000</td>\n",
       "      <td>1949614</td>\n",
       "      <td>1.949614</td>\n",
       "    </tr>\n",
       "    <tr>\n",
       "      <th>67533</th>\n",
       "      <td>14839</td>\n",
       "      <td>Blue Collar</td>\n",
       "      <td>Blue Collar</td>\n",
       "      <td>en</td>\n",
       "      <td>Fed up with mistreatment at the hands of both ...</td>\n",
       "      <td>\"Blue Collar\" is the American Dream. If you're...</td>\n",
       "      <td>1978-02-10</td>\n",
       "      <td>114</td>\n",
       "      <td>1700000</td>\n",
       "      <td>6521083</td>\n",
       "      <td>/7WBBcgzESyX1qEq9x7tg22dlORL.jpg</td>\n",
       "      <td>tt0077248</td>\n",
       "      <td>NaN</td>\n",
       "      <td>NaN</td>\n",
       "      <td>NaN</td>\n",
       "      <td>Q885666</td>\n",
       "      <td>6521083.0</td>\n",
       "      <td>NaN</td>\n",
       "      <td>1700000</td>\n",
       "      <td>6500000</td>\n",
       "      <td>https://en.wikipedia.org/wiki/Blue_Collar_(film)</td>\n",
       "      <td>0</td>\n",
       "      <td>0</td>\n",
       "      <td>1700000</td>\n",
       "      <td>6521083</td>\n",
       "      <td>3.835931</td>\n",
       "    </tr>\n",
       "    <tr>\n",
       "      <th>67546</th>\n",
       "      <td>14846</td>\n",
       "      <td>Little Black Book</td>\n",
       "      <td>Little Black Book</td>\n",
       "      <td>en</td>\n",
       "      <td>Determined to learn about her boyfriend's past...</td>\n",
       "      <td>Have you ever been tempted to look inside his...</td>\n",
       "      <td>2004-08-06</td>\n",
       "      <td>111</td>\n",
       "      <td>35000000</td>\n",
       "      <td>22035509</td>\n",
       "      <td>/votbcPlp3UO7JS7gRa86VDYLWL1.jpg</td>\n",
       "      <td>tt0361841</td>\n",
       "      <td>NaN</td>\n",
       "      <td>NaN</td>\n",
       "      <td>NaN</td>\n",
       "      <td>NaN</td>\n",
       "      <td>22035509.0</td>\n",
       "      <td>NaN</td>\n",
       "      <td>35000000</td>\n",
       "      <td>22000000</td>\n",
       "      <td>https://en.wikipedia.org/wiki/Little_Black_Boo...</td>\n",
       "      <td>0</td>\n",
       "      <td>0</td>\n",
       "      <td>35000000</td>\n",
       "      <td>22035509</td>\n",
       "      <td>0.629586</td>\n",
       "    </tr>\n",
       "    <tr>\n",
       "      <th>67558</th>\n",
       "      <td>374720</td>\n",
       "      <td>Dunkirk</td>\n",
       "      <td>Dunkirk</td>\n",
       "      <td>en</td>\n",
       "      <td>The story of the miraculous evacuation of Alli...</td>\n",
       "      <td>When 400,000 men couldn't get home, home came ...</td>\n",
       "      <td>2017-07-19</td>\n",
       "      <td>107</td>\n",
       "      <td>150000000</td>\n",
       "      <td>527000000</td>\n",
       "      <td>/b4Oe15CGLL61Ped0RAS9JpqdmCt.jpg</td>\n",
       "      <td>tt5013056</td>\n",
       "      <td>Dunkirkmovie</td>\n",
       "      <td>dunkirkmovie</td>\n",
       "      <td>dunkirkmovie</td>\n",
       "      <td>Q21935651</td>\n",
       "      <td>530432122.0</td>\n",
       "      <td>NaN</td>\n",
       "      <td>100000000</td>\n",
       "      <td>530400000</td>\n",
       "      <td>https://en.wikipedia.org/wiki/Dunkirk_(2017_film)</td>\n",
       "      <td>0</td>\n",
       "      <td>0</td>\n",
       "      <td>150000000</td>\n",
       "      <td>530432122</td>\n",
       "      <td>3.536214</td>\n",
       "    </tr>\n",
       "  </tbody>\n",
       "</table>\n",
       "<p>12183 rows × 26 columns</p>\n",
       "</div>"
      ],
      "text/plain": [
       "       movie_id                           title  \\\n",
       "6         55895                        Monogamy   \n",
       "25        14854               Lone Wolf McQuade   \n",
       "35       296690                        Kill Dil   \n",
       "39        55903  Betty Fisher and Other Stories   \n",
       "43        34544                      The A-Team   \n",
       "...         ...                             ...   \n",
       "67530     55890                     Bereavement   \n",
       "67532     34491                The Wedding Game   \n",
       "67533     14839                     Blue Collar   \n",
       "67546     14846               Little Black Book   \n",
       "67558    374720                         Dunkirk   \n",
       "\n",
       "                         original_title original_language  \\\n",
       "6                              Monogamy                en   \n",
       "25                    Lone Wolf McQuade                en   \n",
       "35                              किल दिल                hi   \n",
       "39     Betty Fisher et autres histoires                fr   \n",
       "43                           The A-Team                en   \n",
       "...                                 ...               ...   \n",
       "67530                       Bereavement                en   \n",
       "67532                               大囍事                zh   \n",
       "67533                       Blue Collar                en   \n",
       "67546                 Little Black Book                en   \n",
       "67558                           Dunkirk                en   \n",
       "\n",
       "                                                overview  \\\n",
       "6      Exhibitionism, voyeurism, jealousy, lust. Broo...   \n",
       "25     The archetypical renegade Texas Ranger wages w...   \n",
       "35     Once upon a time in North India, two killers –...   \n",
       "39     When bestselling novelist Betty Fisher loses h...   \n",
       "43     A man who loves when a plan comes together, Co...   \n",
       "...                                                  ...   \n",
       "67530  In 1989, six year old Martin Bristoll was kidn...   \n",
       "67532  A black comedy centered on a recently engaged ...   \n",
       "67533  Fed up with mistreatment at the hands of both ...   \n",
       "67546  Determined to learn about her boyfriend's past...   \n",
       "67558  The story of the miraculous evacuation of Alli...   \n",
       "\n",
       "                                                 tagline release_date  \\\n",
       "6                                                    NaN   2010-04-24   \n",
       "25     The 'Mad Dog' Criminal... The 'Lone Wolf' Lawm...   1983-04-15   \n",
       "35                                                   NaN   2014-11-13   \n",
       "39      Crimes of passion are not always between lovers.   2001-09-01   \n",
       "43                                   There is no plan B.   2010-06-09   \n",
       "...                                                  ...          ...   \n",
       "67530  There are some evils...so unspeakable...they w...   2010-07-16   \n",
       "67532                                                NaN   2009-01-25   \n",
       "67533  \"Blue Collar\" is the American Dream. If you're...   1978-02-10   \n",
       "67546   Have you ever been tempted to look inside his...   2004-08-06   \n",
       "67558  When 400,000 men couldn't get home, home came ...   2017-07-19   \n",
       "\n",
       "       runtime     budget    revenue                       poster_path  \\\n",
       "6           94    1000000          0  /7NmXl4GbSJW1kbcZ1OPKt0UC6E7.jpg   \n",
       "25         107    5000000   12232628  /dTUTDPilI2Ozi5GeoBRczidQTaZ.jpg   \n",
       "35         127          0          0  /rs93Rh0oeJ4eYCpfn0GvkrtpSbQ.jpg   \n",
       "39         103          0          0  /hYMsIPY8APyppmc1wHztD3zLR0g.jpg   \n",
       "43         117  110000000  177238796  /k3mKy2zYfzqGg9o5JeDyzSEPPHO.jpg   \n",
       "...        ...        ...        ...                               ...   \n",
       "67530      103    2000000   10000000  /5Zd0NzvT3x8EhuE5lYMJz5ShcH1.jpg   \n",
       "67532      103    1000000          0  /igeZ2mn1IjlbhKPbaxHU5cNw4rX.jpg   \n",
       "67533      114    1700000    6521083  /7WBBcgzESyX1qEq9x7tg22dlORL.jpg   \n",
       "67546      111   35000000   22035509  /votbcPlp3UO7JS7gRa86VDYLWL1.jpg   \n",
       "67558      107  150000000  527000000  /b4Oe15CGLL61Ped0RAS9JpqdmCt.jpg   \n",
       "\n",
       "         imdb_id         facebook_id  instagram_id    twitter_id wikidata_id  \\\n",
       "6      tt1502714                 NaN           NaN           NaN         NaN   \n",
       "25     tt0085862                 NaN           NaN           NaN         NaN   \n",
       "35     tt3380264                 NaN           NaN           NaN         NaN   \n",
       "39     tt0269329                 NaN           NaN           NaN         NaN   \n",
       "43     tt0429493  officialateammovie           NaN           NaN     Q471746   \n",
       "...          ...                 ...           ...           ...         ...   \n",
       "67530  tt1100051                 NaN           NaN           NaN         NaN   \n",
       "67532  tt1314659                 NaN           NaN           NaN         NaN   \n",
       "67533  tt0077248                 NaN           NaN           NaN     Q885666   \n",
       "67546  tt0361841                 NaN           NaN           NaN         NaN   \n",
       "67558  tt5013056        Dunkirkmovie  dunkirkmovie  dunkirkmovie   Q21935651   \n",
       "\n",
       "       revenue_mojo error  budget_wiki  revenue_wiki  \\\n",
       "6           21527.0   NaN      1000000             0   \n",
       "25       12232628.0   NaN      5000000      13616314   \n",
       "35          27256.0   NaN      6431385       8376879   \n",
       "39         676239.0   NaN      9000000           468   \n",
       "43      177238796.0   NaN     55000050     177200000   \n",
       "...             ...   ...          ...           ...   \n",
       "67530       43712.0   NaN      2000000      10000000   \n",
       "67532     1949614.0   NaN      1500000             0   \n",
       "67533     6521083.0   NaN      1700000       6500000   \n",
       "67546    22035509.0   NaN     35000000      22000000   \n",
       "67558   530432122.0   NaN    100000000     530400000   \n",
       "\n",
       "                                                url_wiki  revenue_fix  \\\n",
       "6          https://en.wikipedia.org/wiki/Monogamy_(film)            0   \n",
       "25       https://en.wikipedia.org/wiki/Lone_Wolf_McQuade            0   \n",
       "35                https://en.wikipedia.org/wiki/Kill_Dil            0   \n",
       "39             https://en.wikipedia.org/wiki/Alias_Betty            0   \n",
       "43       https://en.wikipedia.org/wiki/The_A-Team_(film)            0   \n",
       "...                                                  ...          ...   \n",
       "67530   https://en.wikipedia.org/wiki/Bereavement_(film)            0   \n",
       "67532     https://en.wikipedia.org/wiki/The_Wedding_Game            0   \n",
       "67533   https://en.wikipedia.org/wiki/Blue_Collar_(film)            0   \n",
       "67546  https://en.wikipedia.org/wiki/Little_Black_Boo...            0   \n",
       "67558  https://en.wikipedia.org/wiki/Dunkirk_(2017_film)            0   \n",
       "\n",
       "       budget_fix  budget_synthetic  revenue_synthetic  synthetic_ratio  \n",
       "6               0           1000000              21527         0.021527  \n",
       "25              0           5000000           12232628         2.446526  \n",
       "35              0           6431385              27256         0.004238  \n",
       "39              0           9000000             676239         0.075138  \n",
       "43              0         110000000          177238796         1.611262  \n",
       "...           ...               ...                ...              ...  \n",
       "67530           0           2000000              43712         0.021856  \n",
       "67532           0           1000000            1949614         1.949614  \n",
       "67533           0           1700000            6521083         3.835931  \n",
       "67546           0          35000000           22035509         0.629586  \n",
       "67558           0         150000000          530432122         3.536214  \n",
       "\n",
       "[12183 rows x 26 columns]"
      ]
     },
     "execution_count": 45,
     "metadata": {},
     "output_type": "execute_result"
    }
   ],
   "source": [
    "movie"
   ]
  },
  {
   "cell_type": "code",
   "execution_count": 46,
   "metadata": {},
   "outputs": [],
   "source": [
    "movie[['movie_id','title','url_wiki','original_language','revenue', 'revenue_wiki', 'revenue_mojo', 'revenue_synthetic','budget', 'budget_wiki', 'budget_synthetic','synthetic_ratio']].sort_values(by='synthetic_ratio', ascending=False).to_clipboard()"
   ]
  },
  {
   "cell_type": "code",
   "execution_count": 47,
   "metadata": {},
   "outputs": [
    {
     "data": {
      "text/html": [
       "<style type=\"text/css\">\n",
       "#T_46741_row0_col0, #T_46741_row1_col1, #T_46741_row2_col2 {\n",
       "  background-color: #b40426;\n",
       "  color: #f1f1f1;\n",
       "}\n",
       "#T_46741_row0_col1, #T_46741_row1_col0, #T_46741_row1_col2 {\n",
       "  background-color: #3b4cc0;\n",
       "  color: #f1f1f1;\n",
       "}\n",
       "#T_46741_row0_col2 {\n",
       "  background-color: #f6a385;\n",
       "  color: #000000;\n",
       "}\n",
       "#T_46741_row2_col0 {\n",
       "  background-color: #f08a6c;\n",
       "  color: #f1f1f1;\n",
       "}\n",
       "#T_46741_row2_col1 {\n",
       "  background-color: #84a7fc;\n",
       "  color: #f1f1f1;\n",
       "}\n",
       "</style>\n",
       "<table id=\"T_46741\">\n",
       "  <thead>\n",
       "    <tr>\n",
       "      <th class=\"blank level0\" >&nbsp;</th>\n",
       "      <th id=\"T_46741_level0_col0\" class=\"col_heading level0 col0\" >budget</th>\n",
       "      <th id=\"T_46741_level0_col1\" class=\"col_heading level0 col1\" >budget_wiki</th>\n",
       "      <th id=\"T_46741_level0_col2\" class=\"col_heading level0 col2\" >budget_synthetic</th>\n",
       "    </tr>\n",
       "  </thead>\n",
       "  <tbody>\n",
       "    <tr>\n",
       "      <th id=\"T_46741_level0_row0\" class=\"row_heading level0 row0\" >budget</th>\n",
       "      <td id=\"T_46741_row0_col0\" class=\"data row0 col0\" >1.00</td>\n",
       "      <td id=\"T_46741_row0_col1\" class=\"data row0 col1\" >0.78</td>\n",
       "      <td id=\"T_46741_row0_col2\" class=\"data row0 col2\" >0.95</td>\n",
       "    </tr>\n",
       "    <tr>\n",
       "      <th id=\"T_46741_level0_row1\" class=\"row_heading level0 row1\" >budget_wiki</th>\n",
       "      <td id=\"T_46741_row1_col0\" class=\"data row1 col0\" >0.78</td>\n",
       "      <td id=\"T_46741_row1_col1\" class=\"data row1 col1\" >1.00</td>\n",
       "      <td id=\"T_46741_row1_col2\" class=\"data row1 col2\" >0.83</td>\n",
       "    </tr>\n",
       "    <tr>\n",
       "      <th id=\"T_46741_level0_row2\" class=\"row_heading level0 row2\" >budget_synthetic</th>\n",
       "      <td id=\"T_46741_row2_col0\" class=\"data row2 col0\" >0.95</td>\n",
       "      <td id=\"T_46741_row2_col1\" class=\"data row2 col1\" >0.83</td>\n",
       "      <td id=\"T_46741_row2_col2\" class=\"data row2 col2\" >1.00</td>\n",
       "    </tr>\n",
       "  </tbody>\n",
       "</table>\n"
      ],
      "text/plain": [
       "<pandas.io.formats.style.Styler at 0x34e27a600>"
      ]
     },
     "execution_count": 47,
     "metadata": {},
     "output_type": "execute_result"
    }
   ],
   "source": [
    "movie[['budget', 'budget_wiki','budget_synthetic']].corr().style.format(\"{:.2f}\").background_gradient(cmap='coolwarm')"
   ]
  },
  {
   "cell_type": "code",
   "execution_count": 48,
   "metadata": {},
   "outputs": [
    {
     "data": {
      "text/html": [
       "<style type=\"text/css\">\n",
       "#T_d781f_row0_col0, #T_d781f_row1_col1, #T_d781f_row2_col2, #T_d781f_row3_col3 {\n",
       "  background-color: #b40426;\n",
       "  color: #f1f1f1;\n",
       "}\n",
       "#T_d781f_row0_col1 {\n",
       "  background-color: #4055c8;\n",
       "  color: #f1f1f1;\n",
       "}\n",
       "#T_d781f_row0_col2 {\n",
       "  background-color: #d0473d;\n",
       "  color: #f1f1f1;\n",
       "}\n",
       "#T_d781f_row0_col3, #T_d781f_row3_col0 {\n",
       "  background-color: #b70d28;\n",
       "  color: #f1f1f1;\n",
       "}\n",
       "#T_d781f_row1_col0, #T_d781f_row1_col2, #T_d781f_row1_col3, #T_d781f_row2_col1 {\n",
       "  background-color: #3b4cc0;\n",
       "  color: #f1f1f1;\n",
       "}\n",
       "#T_d781f_row2_col0 {\n",
       "  background-color: #d1493f;\n",
       "  color: #f1f1f1;\n",
       "}\n",
       "#T_d781f_row2_col3 {\n",
       "  background-color: #cf453c;\n",
       "  color: #f1f1f1;\n",
       "}\n",
       "#T_d781f_row3_col1 {\n",
       "  background-color: #445acc;\n",
       "  color: #f1f1f1;\n",
       "}\n",
       "#T_d781f_row3_col2 {\n",
       "  background-color: #cd423b;\n",
       "  color: #f1f1f1;\n",
       "}\n",
       "</style>\n",
       "<table id=\"T_d781f\">\n",
       "  <thead>\n",
       "    <tr>\n",
       "      <th class=\"blank level0\" >&nbsp;</th>\n",
       "      <th id=\"T_d781f_level0_col0\" class=\"col_heading level0 col0\" >revenue</th>\n",
       "      <th id=\"T_d781f_level0_col1\" class=\"col_heading level0 col1\" >revenue_mojo</th>\n",
       "      <th id=\"T_d781f_level0_col2\" class=\"col_heading level0 col2\" >revenue_wiki</th>\n",
       "      <th id=\"T_d781f_level0_col3\" class=\"col_heading level0 col3\" >revenue_synthetic</th>\n",
       "    </tr>\n",
       "  </thead>\n",
       "  <tbody>\n",
       "    <tr>\n",
       "      <th id=\"T_d781f_level0_row0\" class=\"row_heading level0 row0\" >revenue</th>\n",
       "      <td id=\"T_d781f_row0_col0\" class=\"data row0 col0\" >1.00</td>\n",
       "      <td id=\"T_d781f_row0_col1\" class=\"data row0 col1\" >0.49</td>\n",
       "      <td id=\"T_d781f_row0_col2\" class=\"data row0 col2\" >0.96</td>\n",
       "      <td id=\"T_d781f_row0_col3\" class=\"data row0 col3\" >0.99</td>\n",
       "    </tr>\n",
       "    <tr>\n",
       "      <th id=\"T_d781f_level0_row1\" class=\"row_heading level0 row1\" >revenue_mojo</th>\n",
       "      <td id=\"T_d781f_row1_col0\" class=\"data row1 col0\" >0.49</td>\n",
       "      <td id=\"T_d781f_row1_col1\" class=\"data row1 col1\" >1.00</td>\n",
       "      <td id=\"T_d781f_row1_col2\" class=\"data row1 col2\" >0.48</td>\n",
       "      <td id=\"T_d781f_row1_col3\" class=\"data row1 col3\" >0.50</td>\n",
       "    </tr>\n",
       "    <tr>\n",
       "      <th id=\"T_d781f_level0_row2\" class=\"row_heading level0 row2\" >revenue_wiki</th>\n",
       "      <td id=\"T_d781f_row2_col0\" class=\"data row2 col0\" >0.96</td>\n",
       "      <td id=\"T_d781f_row2_col1\" class=\"data row2 col1\" >0.48</td>\n",
       "      <td id=\"T_d781f_row2_col2\" class=\"data row2 col2\" >1.00</td>\n",
       "      <td id=\"T_d781f_row2_col3\" class=\"data row2 col3\" >0.96</td>\n",
       "    </tr>\n",
       "    <tr>\n",
       "      <th id=\"T_d781f_level0_row3\" class=\"row_heading level0 row3\" >revenue_synthetic</th>\n",
       "      <td id=\"T_d781f_row3_col0\" class=\"data row3 col0\" >0.99</td>\n",
       "      <td id=\"T_d781f_row3_col1\" class=\"data row3 col1\" >0.50</td>\n",
       "      <td id=\"T_d781f_row3_col2\" class=\"data row3 col2\" >0.96</td>\n",
       "      <td id=\"T_d781f_row3_col3\" class=\"data row3 col3\" >1.00</td>\n",
       "    </tr>\n",
       "  </tbody>\n",
       "</table>\n"
      ],
      "text/plain": [
       "<pandas.io.formats.style.Styler at 0x332d16240>"
      ]
     },
     "execution_count": 48,
     "metadata": {},
     "output_type": "execute_result"
    }
   ],
   "source": [
    "movie[['revenue', 'revenue_mojo', 'revenue_wiki','revenue_synthetic']].corr().style.format(\"{:.2f}\").background_gradient(cmap='coolwarm')"
   ]
  },
  {
   "cell_type": "code",
   "execution_count": 49,
   "metadata": {},
   "outputs": [
    {
     "data": {
      "text/html": [
       "<style type=\"text/css\">\n",
       "</style>\n",
       "<table id=\"T_49b8e\">\n",
       "  <thead>\n",
       "    <tr>\n",
       "      <th class=\"blank level0\" >&nbsp;</th>\n",
       "      <th id=\"T_49b8e_level0_col0\" class=\"col_heading level0 col0\" >runtime</th>\n",
       "      <th id=\"T_49b8e_level0_col1\" class=\"col_heading level0 col1\" >budget</th>\n",
       "      <th id=\"T_49b8e_level0_col2\" class=\"col_heading level0 col2\" >revenue</th>\n",
       "    </tr>\n",
       "  </thead>\n",
       "  <tbody>\n",
       "    <tr>\n",
       "      <th id=\"T_49b8e_level0_row0\" class=\"row_heading level0 row0\" >mean</th>\n",
       "      <td id=\"T_49b8e_row0_col0\" class=\"data row0 col0\" >109</td>\n",
       "      <td id=\"T_49b8e_row0_col1\" class=\"data row0 col1\" >$15,765,264</td>\n",
       "      <td id=\"T_49b8e_row0_col2\" class=\"data row0 col2\" >$41,711,358</td>\n",
       "    </tr>\n",
       "    <tr>\n",
       "      <th id=\"T_49b8e_level0_row1\" class=\"row_heading level0 row1\" >std</th>\n",
       "      <td id=\"T_49b8e_row1_col0\" class=\"data row1 col0\" >21</td>\n",
       "      <td id=\"T_49b8e_row1_col1\" class=\"data row1 col1\" >$29,279,919</td>\n",
       "      <td id=\"T_49b8e_row1_col2\" class=\"data row1 col2\" >$118,984,042</td>\n",
       "    </tr>\n",
       "    <tr>\n",
       "      <th id=\"T_49b8e_level0_row2\" class=\"row_heading level0 row2\" >min</th>\n",
       "      <td id=\"T_49b8e_row2_col0\" class=\"data row2 col0\" >0</td>\n",
       "      <td id=\"T_49b8e_row2_col1\" class=\"data row2 col1\" >$0</td>\n",
       "      <td id=\"T_49b8e_row2_col2\" class=\"data row2 col2\" >$0</td>\n",
       "    </tr>\n",
       "    <tr>\n",
       "      <th id=\"T_49b8e_level0_row3\" class=\"row_heading level0 row3\" >25%</th>\n",
       "      <td id=\"T_49b8e_row3_col0\" class=\"data row3 col0\" >94</td>\n",
       "      <td id=\"T_49b8e_row3_col1\" class=\"data row3 col1\" >$0</td>\n",
       "      <td id=\"T_49b8e_row3_col2\" class=\"data row3 col2\" >$0</td>\n",
       "    </tr>\n",
       "    <tr>\n",
       "      <th id=\"T_49b8e_level0_row4\" class=\"row_heading level0 row4\" >50%</th>\n",
       "      <td id=\"T_49b8e_row4_col0\" class=\"data row4 col0\" >104</td>\n",
       "      <td id=\"T_49b8e_row4_col1\" class=\"data row4 col1\" >$5,000,000</td>\n",
       "      <td id=\"T_49b8e_row4_col2\" class=\"data row4 col2\" >$3,764,219</td>\n",
       "    </tr>\n",
       "    <tr>\n",
       "      <th id=\"T_49b8e_level0_row5\" class=\"row_heading level0 row5\" >75%</th>\n",
       "      <td id=\"T_49b8e_row5_col0\" class=\"data row5 col0\" >118</td>\n",
       "      <td id=\"T_49b8e_row5_col1\" class=\"data row5 col1\" >$19,000,000</td>\n",
       "      <td id=\"T_49b8e_row5_col2\" class=\"data row5 col2\" >$30,673,624</td>\n",
       "    </tr>\n",
       "    <tr>\n",
       "      <th id=\"T_49b8e_level0_row6\" class=\"row_heading level0 row6\" >max</th>\n",
       "      <td id=\"T_49b8e_row6_col0\" class=\"data row6 col0\" >360</td>\n",
       "      <td id=\"T_49b8e_row6_col1\" class=\"data row6 col1\" >$379,000,000</td>\n",
       "      <td id=\"T_49b8e_row6_col2\" class=\"data row6 col2\" >$2,923,706,026</td>\n",
       "    </tr>\n",
       "  </tbody>\n",
       "</table>\n"
      ],
      "text/plain": [
       "<pandas.io.formats.style.Styler at 0x34cf47950>"
      ]
     },
     "execution_count": 49,
     "metadata": {},
     "output_type": "execute_result"
    }
   ],
   "source": [
    "movie[['runtime', 'budget', 'revenue']].describe().drop('count').style.format({\n",
    "    'runtime': \"{:.0f}\",\n",
    "    'budget': \"${:,.0f}\",\n",
    "    'revenue': \"${:,.0f}\"\n",
    "})"
   ]
  },
  {
   "cell_type": "code",
   "execution_count": 50,
   "metadata": {},
   "outputs": [
    {
     "ename": "CatalogException",
     "evalue": "Catalog Error: Table with name production_mapping does not exist!\nDid you mean \"pg_am\"?",
     "output_type": "error",
     "traceback": [
      "\u001b[0;31m---------------------------------------------------------------------------\u001b[0m",
      "\u001b[0;31mCatalogException\u001b[0m                          Traceback (most recent call last)",
      "Cell \u001b[0;32mIn[50], line 1\u001b[0m\n\u001b[0;32m----> 1\u001b[0m mapped_companies \u001b[38;5;241m=\u001b[39m  \u001b[43mduckdb\u001b[49m\u001b[38;5;241;43m.\u001b[39;49m\u001b[43msql\u001b[49m\u001b[43m(\u001b[49m\u001b[38;5;124;43m'\u001b[39;49m\u001b[38;5;124;43mSELECT * FROM production_mapping LEFT JOIN production using(company_id)\u001b[39;49m\u001b[38;5;124;43m'\u001b[39;49m\u001b[43m)\u001b[49m\u001b[38;5;241m.\u001b[39mto_df()\n\u001b[1;32m      2\u001b[0m plot_and_export_categorical_distribution(mapped_companies, \u001b[38;5;124m'\u001b[39m\u001b[38;5;124mcompany_name\u001b[39m\u001b[38;5;124m'\u001b[39m, \u001b[38;5;241m100\u001b[39m)\n",
      "File \u001b[0;32m~/Documents/GitHub/box-office-prediction/bop/lib/python3.12/site-packages/duckdb/__init__.py:457\u001b[0m, in \u001b[0;36msql\u001b[0;34m(query, **kwargs)\u001b[0m\n\u001b[1;32m    455\u001b[0m \u001b[38;5;28;01melse\u001b[39;00m:\n\u001b[1;32m    456\u001b[0m     conn \u001b[38;5;241m=\u001b[39m duckdb\u001b[38;5;241m.\u001b[39mconnect(\u001b[38;5;124m\"\u001b[39m\u001b[38;5;124m:default:\u001b[39m\u001b[38;5;124m\"\u001b[39m)\n\u001b[0;32m--> 457\u001b[0m \u001b[38;5;28;01mreturn\u001b[39;00m \u001b[43mconn\u001b[49m\u001b[38;5;241;43m.\u001b[39;49m\u001b[43msql\u001b[49m\u001b[43m(\u001b[49m\u001b[43mquery\u001b[49m\u001b[43m,\u001b[49m\u001b[43m \u001b[49m\u001b[38;5;241;43m*\u001b[39;49m\u001b[38;5;241;43m*\u001b[39;49m\u001b[43mkwargs\u001b[49m\u001b[43m)\u001b[49m\n",
      "\u001b[0;31mCatalogException\u001b[0m: Catalog Error: Table with name production_mapping does not exist!\nDid you mean \"pg_am\"?"
     ]
    }
   ],
   "source": [
    "mapped_companies =  duckdb.sql('SELECT * FROM production_mapping LEFT JOIN production using(company_id)').to_df()\n",
    "plot_and_export_categorical_distribution(mapped_companies, 'company_name', 100)"
   ]
  },
  {
   "cell_type": "code",
   "execution_count": 51,
   "metadata": {},
   "outputs": [
    {
     "ename": "CatalogException",
     "evalue": "Catalog Error: Table with name keyword_mapping does not exist!\nDid you mean \"pg_am\"?",
     "output_type": "error",
     "traceback": [
      "\u001b[0;31m---------------------------------------------------------------------------\u001b[0m",
      "\u001b[0;31mCatalogException\u001b[0m                          Traceback (most recent call last)",
      "Cell \u001b[0;32mIn[51], line 1\u001b[0m\n\u001b[0;32m----> 1\u001b[0m keyword_stats \u001b[38;5;241m=\u001b[39m \u001b[43mduckdb\u001b[49m\u001b[38;5;241;43m.\u001b[39;49m\u001b[43msql\u001b[49m\u001b[43m(\u001b[49m\u001b[38;5;124;43m'\u001b[39;49m\u001b[38;5;124;43mSELECT * FROM keyword_mapping LEFT JOIN keyword_d USING(keyword_id)\u001b[39;49m\u001b[38;5;124;43m'\u001b[39;49m\u001b[43m)\u001b[49m\u001b[38;5;241m.\u001b[39mto_df()\n\u001b[1;32m      2\u001b[0m plot_and_export_categorical_distribution(keyword_stats, \u001b[38;5;124m'\u001b[39m\u001b[38;5;124mkeyword_name\u001b[39m\u001b[38;5;124m'\u001b[39m, \u001b[38;5;241m150\u001b[39m)\n",
      "File \u001b[0;32m~/Documents/GitHub/box-office-prediction/bop/lib/python3.12/site-packages/duckdb/__init__.py:457\u001b[0m, in \u001b[0;36msql\u001b[0;34m(query, **kwargs)\u001b[0m\n\u001b[1;32m    455\u001b[0m \u001b[38;5;28;01melse\u001b[39;00m:\n\u001b[1;32m    456\u001b[0m     conn \u001b[38;5;241m=\u001b[39m duckdb\u001b[38;5;241m.\u001b[39mconnect(\u001b[38;5;124m\"\u001b[39m\u001b[38;5;124m:default:\u001b[39m\u001b[38;5;124m\"\u001b[39m)\n\u001b[0;32m--> 457\u001b[0m \u001b[38;5;28;01mreturn\u001b[39;00m \u001b[43mconn\u001b[49m\u001b[38;5;241;43m.\u001b[39;49m\u001b[43msql\u001b[49m\u001b[43m(\u001b[49m\u001b[43mquery\u001b[49m\u001b[43m,\u001b[49m\u001b[43m \u001b[49m\u001b[38;5;241;43m*\u001b[39;49m\u001b[38;5;241;43m*\u001b[39;49m\u001b[43mkwargs\u001b[49m\u001b[43m)\u001b[49m\n",
      "\u001b[0;31mCatalogException\u001b[0m: Catalog Error: Table with name keyword_mapping does not exist!\nDid you mean \"pg_am\"?"
     ]
    }
   ],
   "source": [
    "keyword_stats = duckdb.sql('SELECT * FROM keyword_mapping LEFT JOIN keyword_d USING(keyword_id)').to_df()\n",
    "plot_and_export_categorical_distribution(keyword_stats, 'keyword_name', 150)"
   ]
  },
  {
   "cell_type": "code",
   "execution_count": 52,
   "metadata": {},
   "outputs": [
    {
     "ename": "CatalogException",
     "evalue": "Catalog Error: Table with name genre_mapping does not exist!\nDid you mean \"pg_am\"?",
     "output_type": "error",
     "traceback": [
      "\u001b[0;31m---------------------------------------------------------------------------\u001b[0m",
      "\u001b[0;31mCatalogException\u001b[0m                          Traceback (most recent call last)",
      "Cell \u001b[0;32mIn[52], line 1\u001b[0m\n\u001b[0;32m----> 1\u001b[0m \u001b[43mduckdb\u001b[49m\u001b[38;5;241;43m.\u001b[39;49m\u001b[43msql\u001b[49m\u001b[43m(\u001b[49m\u001b[38;5;124;43m'\u001b[39;49m\u001b[38;5;124;43mSELECT COUNT(DISTINCT genre_id) FROM genre_mapping LIMIT 5\u001b[39;49m\u001b[38;5;124;43m'\u001b[39;49m\u001b[43m)\u001b[49m\n",
      "File \u001b[0;32m~/Documents/GitHub/box-office-prediction/bop/lib/python3.12/site-packages/duckdb/__init__.py:457\u001b[0m, in \u001b[0;36msql\u001b[0;34m(query, **kwargs)\u001b[0m\n\u001b[1;32m    455\u001b[0m \u001b[38;5;28;01melse\u001b[39;00m:\n\u001b[1;32m    456\u001b[0m     conn \u001b[38;5;241m=\u001b[39m duckdb\u001b[38;5;241m.\u001b[39mconnect(\u001b[38;5;124m\"\u001b[39m\u001b[38;5;124m:default:\u001b[39m\u001b[38;5;124m\"\u001b[39m)\n\u001b[0;32m--> 457\u001b[0m \u001b[38;5;28;01mreturn\u001b[39;00m \u001b[43mconn\u001b[49m\u001b[38;5;241;43m.\u001b[39;49m\u001b[43msql\u001b[49m\u001b[43m(\u001b[49m\u001b[43mquery\u001b[49m\u001b[43m,\u001b[49m\u001b[43m \u001b[49m\u001b[38;5;241;43m*\u001b[39;49m\u001b[38;5;241;43m*\u001b[39;49m\u001b[43mkwargs\u001b[49m\u001b[43m)\u001b[49m\n",
      "\u001b[0;31mCatalogException\u001b[0m: Catalog Error: Table with name genre_mapping does not exist!\nDid you mean \"pg_am\"?"
     ]
    }
   ],
   "source": [
    "duckdb.sql('SELECT COUNT(DISTINCT genre_id) FROM genre_mapping LIMIT 5')"
   ]
  },
  {
   "cell_type": "code",
   "execution_count": 53,
   "metadata": {},
   "outputs": [
    {
     "ename": "CatalogException",
     "evalue": "Catalog Error: Table with name genre_mapping does not exist!\nDid you mean \"pg_am\"?",
     "output_type": "error",
     "traceback": [
      "\u001b[0;31m---------------------------------------------------------------------------\u001b[0m",
      "\u001b[0;31mCatalogException\u001b[0m                          Traceback (most recent call last)",
      "Cell \u001b[0;32mIn[53], line 1\u001b[0m\n\u001b[0;32m----> 1\u001b[0m genre_stats \u001b[38;5;241m=\u001b[39m \u001b[43mduckdb\u001b[49m\u001b[38;5;241;43m.\u001b[39;49m\u001b[43msql\u001b[49m\u001b[43m(\u001b[49m\u001b[38;5;124;43m'\u001b[39;49m\u001b[38;5;124;43mSELECT * FROM genre_mapping LEFT JOIN genre USING(genre_id)\u001b[39;49m\u001b[38;5;124;43m'\u001b[39;49m\u001b[43m)\u001b[49m\u001b[38;5;241m.\u001b[39mto_df()\n\u001b[1;32m      2\u001b[0m plot_and_export_categorical_distribution(genre_stats, \u001b[38;5;124m'\u001b[39m\u001b[38;5;124mname\u001b[39m\u001b[38;5;124m'\u001b[39m, \u001b[38;5;241m100\u001b[39m)\n",
      "File \u001b[0;32m~/Documents/GitHub/box-office-prediction/bop/lib/python3.12/site-packages/duckdb/__init__.py:457\u001b[0m, in \u001b[0;36msql\u001b[0;34m(query, **kwargs)\u001b[0m\n\u001b[1;32m    455\u001b[0m \u001b[38;5;28;01melse\u001b[39;00m:\n\u001b[1;32m    456\u001b[0m     conn \u001b[38;5;241m=\u001b[39m duckdb\u001b[38;5;241m.\u001b[39mconnect(\u001b[38;5;124m\"\u001b[39m\u001b[38;5;124m:default:\u001b[39m\u001b[38;5;124m\"\u001b[39m)\n\u001b[0;32m--> 457\u001b[0m \u001b[38;5;28;01mreturn\u001b[39;00m \u001b[43mconn\u001b[49m\u001b[38;5;241;43m.\u001b[39;49m\u001b[43msql\u001b[49m\u001b[43m(\u001b[49m\u001b[43mquery\u001b[49m\u001b[43m,\u001b[49m\u001b[43m \u001b[49m\u001b[38;5;241;43m*\u001b[39;49m\u001b[38;5;241;43m*\u001b[39;49m\u001b[43mkwargs\u001b[49m\u001b[43m)\u001b[49m\n",
      "\u001b[0;31mCatalogException\u001b[0m: Catalog Error: Table with name genre_mapping does not exist!\nDid you mean \"pg_am\"?"
     ]
    }
   ],
   "source": [
    "genre_stats = duckdb.sql('SELECT * FROM genre_mapping LEFT JOIN genre USING(genre_id)').to_df()\n",
    "plot_and_export_categorical_distribution(genre_stats, 'name', 100)"
   ]
  },
  {
   "cell_type": "code",
   "execution_count": 54,
   "metadata": {},
   "outputs": [
    {
     "data": {
      "application/vnd.plotly.v1+json": {
       "config": {
        "plotlyServerURL": "https://plot.ly"
       },
       "data": [
        {
         "alignmentgroup": "True",
         "hovertemplate": "original_language=%{x}<br>Number of Movies=%{text}<extra></extra>",
         "legendgroup": "en",
         "marker": {
          "color": "rgba(56, 166, 165, 1)",
          "pattern": {
           "shape": ""
          }
         },
         "name": "en",
         "offsetgroup": "en",
         "orientation": "v",
         "showlegend": true,
         "text": [
          8457
         ],
         "textposition": "outside",
         "texttemplate": "%{text:.2s}",
         "type": "bar",
         "x": [
          "en"
         ],
         "xaxis": "x",
         "y": [
          8457
         ],
         "yaxis": "y"
        },
        {
         "alignmentgroup": "True",
         "hovertemplate": "original_language=%{x}<br>Number of Movies=%{text}<extra></extra>",
         "legendgroup": "fr",
         "marker": {
          "color": "rgba(56, 166, 165, 1)",
          "pattern": {
           "shape": ""
          }
         },
         "name": "fr",
         "offsetgroup": "fr",
         "orientation": "v",
         "showlegend": true,
         "text": [
          1115
         ],
         "textposition": "outside",
         "texttemplate": "%{text:.2s}",
         "type": "bar",
         "x": [
          "fr"
         ],
         "xaxis": "x",
         "y": [
          1115
         ],
         "yaxis": "y"
        },
        {
         "alignmentgroup": "True",
         "hovertemplate": "original_language=%{x}<br>Number of Movies=%{text}<extra></extra>",
         "legendgroup": "hi",
         "marker": {
          "color": "rgba(56, 166, 165, 1)",
          "pattern": {
           "shape": ""
          }
         },
         "name": "hi",
         "offsetgroup": "hi",
         "orientation": "v",
         "showlegend": true,
         "text": [
          633
         ],
         "textposition": "outside",
         "texttemplate": "%{text:.2s}",
         "type": "bar",
         "x": [
          "hi"
         ],
         "xaxis": "x",
         "y": [
          633
         ],
         "yaxis": "y"
        },
        {
         "alignmentgroup": "True",
         "hovertemplate": "original_language=%{x}<br>Number of Movies=%{text}<extra></extra>",
         "legendgroup": "Other",
         "marker": {
          "color": "rgba(204, 80, 62, 1)",
          "pattern": {
           "shape": ""
          }
         },
         "name": "Other",
         "offsetgroup": "Other",
         "orientation": "v",
         "showlegend": true,
         "text": [
          518
         ],
         "textposition": "outside",
         "texttemplate": "%{text:.2s}",
         "type": "bar",
         "x": [
          "Other"
         ],
         "xaxis": "x",
         "y": [
          518
         ],
         "yaxis": "y"
        },
        {
         "alignmentgroup": "True",
         "hovertemplate": "original_language=%{x}<br>Number of Movies=%{text}<extra></extra>",
         "legendgroup": "ru",
         "marker": {
          "color": "rgba(56, 166, 165, 1)",
          "pattern": {
           "shape": ""
          }
         },
         "name": "ru",
         "offsetgroup": "ru",
         "orientation": "v",
         "showlegend": true,
         "text": [
          229
         ],
         "textposition": "outside",
         "texttemplate": "%{text:.2s}",
         "type": "bar",
         "x": [
          "ru"
         ],
         "xaxis": "x",
         "y": [
          229
         ],
         "yaxis": "y"
        },
        {
         "alignmentgroup": "True",
         "hovertemplate": "original_language=%{x}<br>Number of Movies=%{text}<extra></extra>",
         "legendgroup": "es",
         "marker": {
          "color": "rgba(56, 166, 165, 1)",
          "pattern": {
           "shape": ""
          }
         },
         "name": "es",
         "offsetgroup": "es",
         "orientation": "v",
         "showlegend": true,
         "text": [
          221
         ],
         "textposition": "outside",
         "texttemplate": "%{text:.2s}",
         "type": "bar",
         "x": [
          "es"
         ],
         "xaxis": "x",
         "y": [
          221
         ],
         "yaxis": "y"
        },
        {
         "alignmentgroup": "True",
         "hovertemplate": "original_language=%{x}<br>Number of Movies=%{text}<extra></extra>",
         "legendgroup": "ko",
         "marker": {
          "color": "rgba(56, 166, 165, 1)",
          "pattern": {
           "shape": ""
          }
         },
         "name": "ko",
         "offsetgroup": "ko",
         "orientation": "v",
         "showlegend": true,
         "text": [
          189
         ],
         "textposition": "outside",
         "texttemplate": "%{text:.2s}",
         "type": "bar",
         "x": [
          "ko"
         ],
         "xaxis": "x",
         "y": [
          189
         ],
         "yaxis": "y"
        },
        {
         "alignmentgroup": "True",
         "hovertemplate": "original_language=%{x}<br>Number of Movies=%{text}<extra></extra>",
         "legendgroup": "zh",
         "marker": {
          "color": "rgba(56, 166, 165, 1)",
          "pattern": {
           "shape": ""
          }
         },
         "name": "zh",
         "offsetgroup": "zh",
         "orientation": "v",
         "showlegend": true,
         "text": [
          168
         ],
         "textposition": "outside",
         "texttemplate": "%{text:.2s}",
         "type": "bar",
         "x": [
          "zh"
         ],
         "xaxis": "x",
         "y": [
          168
         ],
         "yaxis": "y"
        },
        {
         "alignmentgroup": "True",
         "hovertemplate": "original_language=%{x}<br>Number of Movies=%{text}<extra></extra>",
         "legendgroup": "it",
         "marker": {
          "color": "rgba(56, 166, 165, 1)",
          "pattern": {
           "shape": ""
          }
         },
         "name": "it",
         "offsetgroup": "it",
         "orientation": "v",
         "showlegend": true,
         "text": [
          118
         ],
         "textposition": "outside",
         "texttemplate": "%{text:.2s}",
         "type": "bar",
         "x": [
          "it"
         ],
         "xaxis": "x",
         "y": [
          118
         ],
         "yaxis": "y"
        },
        {
         "alignmentgroup": "True",
         "hovertemplate": "original_language=%{x}<br>Number of Movies=%{text}<extra></extra>",
         "legendgroup": "pt",
         "marker": {
          "color": "rgba(56, 166, 165, 1)",
          "pattern": {
           "shape": ""
          }
         },
         "name": "pt",
         "offsetgroup": "pt",
         "orientation": "v",
         "showlegend": true,
         "text": [
          110
         ],
         "textposition": "outside",
         "texttemplate": "%{text:.2s}",
         "type": "bar",
         "x": [
          "pt"
         ],
         "xaxis": "x",
         "y": [
          110
         ],
         "yaxis": "y"
        },
        {
         "alignmentgroup": "True",
         "hovertemplate": "original_language=%{x}<br>Number of Movies=%{text}<extra></extra>",
         "legendgroup": "cn",
         "marker": {
          "color": "rgba(56, 166, 165, 1)",
          "pattern": {
           "shape": ""
          }
         },
         "name": "cn",
         "offsetgroup": "cn",
         "orientation": "v",
         "showlegend": true,
         "text": [
          106
         ],
         "textposition": "outside",
         "texttemplate": "%{text:.2s}",
         "type": "bar",
         "x": [
          "cn"
         ],
         "xaxis": "x",
         "y": [
          106
         ],
         "yaxis": "y"
        },
        {
         "alignmentgroup": "True",
         "hovertemplate": "original_language=%{x}<br>Number of Movies=%{text}<extra></extra>",
         "legendgroup": "ja",
         "marker": {
          "color": "rgba(56, 166, 165, 1)",
          "pattern": {
           "shape": ""
          }
         },
         "name": "ja",
         "offsetgroup": "ja",
         "orientation": "v",
         "showlegend": true,
         "text": [
          102
         ],
         "textposition": "outside",
         "texttemplate": "%{text:.2s}",
         "type": "bar",
         "x": [
          "ja"
         ],
         "xaxis": "x",
         "y": [
          102
         ],
         "yaxis": "y"
        },
        {
         "alignmentgroup": "True",
         "hovertemplate": "original_language=%{x}<br>Number of Movies=%{text}<extra></extra>",
         "legendgroup": "de",
         "marker": {
          "color": "rgba(56, 166, 165, 1)",
          "pattern": {
           "shape": ""
          }
         },
         "name": "de",
         "offsetgroup": "de",
         "orientation": "v",
         "showlegend": true,
         "text": [
          79
         ],
         "textposition": "outside",
         "texttemplate": "%{text:.2s}",
         "type": "bar",
         "x": [
          "de"
         ],
         "xaxis": "x",
         "y": [
          79
         ],
         "yaxis": "y"
        },
        {
         "alignmentgroup": "True",
         "hovertemplate": "original_language=%{x}<br>Number of Movies=%{text}<extra></extra>",
         "legendgroup": "te",
         "marker": {
          "color": "rgba(56, 166, 165, 1)",
          "pattern": {
           "shape": ""
          }
         },
         "name": "te",
         "offsetgroup": "te",
         "orientation": "v",
         "showlegend": true,
         "text": [
          72
         ],
         "textposition": "outside",
         "texttemplate": "%{text:.2s}",
         "type": "bar",
         "x": [
          "te"
         ],
         "xaxis": "x",
         "y": [
          72
         ],
         "yaxis": "y"
        },
        {
         "alignmentgroup": "True",
         "hovertemplate": "original_language=%{x}<br>Number of Movies=%{text}<extra></extra>",
         "legendgroup": "ta",
         "marker": {
          "color": "rgba(56, 166, 165, 1)",
          "pattern": {
           "shape": ""
          }
         },
         "name": "ta",
         "offsetgroup": "ta",
         "orientation": "v",
         "showlegend": true,
         "text": [
          66
         ],
         "textposition": "outside",
         "texttemplate": "%{text:.2s}",
         "type": "bar",
         "x": [
          "ta"
         ],
         "xaxis": "x",
         "y": [
          66
         ],
         "yaxis": "y"
        }
       ],
       "layout": {
        "barmode": "relative",
        "height": 600,
        "legend": {
         "title": {
          "text": "original_language"
         },
         "tracegroupgap": 0
        },
        "showlegend": false,
        "template": {
         "data": {
          "bar": [
           {
            "error_x": {
             "color": "#2a3f5f"
            },
            "error_y": {
             "color": "#2a3f5f"
            },
            "marker": {
             "line": {
              "color": "#E5ECF6",
              "width": 0.5
             },
             "pattern": {
              "fillmode": "overlay",
              "size": 10,
              "solidity": 0.2
             }
            },
            "type": "bar"
           }
          ],
          "barpolar": [
           {
            "marker": {
             "line": {
              "color": "#E5ECF6",
              "width": 0.5
             },
             "pattern": {
              "fillmode": "overlay",
              "size": 10,
              "solidity": 0.2
             }
            },
            "type": "barpolar"
           }
          ],
          "carpet": [
           {
            "aaxis": {
             "endlinecolor": "#2a3f5f",
             "gridcolor": "white",
             "linecolor": "white",
             "minorgridcolor": "white",
             "startlinecolor": "#2a3f5f"
            },
            "baxis": {
             "endlinecolor": "#2a3f5f",
             "gridcolor": "white",
             "linecolor": "white",
             "minorgridcolor": "white",
             "startlinecolor": "#2a3f5f"
            },
            "type": "carpet"
           }
          ],
          "choropleth": [
           {
            "colorbar": {
             "outlinewidth": 0,
             "ticks": ""
            },
            "type": "choropleth"
           }
          ],
          "contour": [
           {
            "colorbar": {
             "outlinewidth": 0,
             "ticks": ""
            },
            "colorscale": [
             [
              0,
              "#0d0887"
             ],
             [
              0.1111111111111111,
              "#46039f"
             ],
             [
              0.2222222222222222,
              "#7201a8"
             ],
             [
              0.3333333333333333,
              "#9c179e"
             ],
             [
              0.4444444444444444,
              "#bd3786"
             ],
             [
              0.5555555555555556,
              "#d8576b"
             ],
             [
              0.6666666666666666,
              "#ed7953"
             ],
             [
              0.7777777777777778,
              "#fb9f3a"
             ],
             [
              0.8888888888888888,
              "#fdca26"
             ],
             [
              1,
              "#f0f921"
             ]
            ],
            "type": "contour"
           }
          ],
          "contourcarpet": [
           {
            "colorbar": {
             "outlinewidth": 0,
             "ticks": ""
            },
            "type": "contourcarpet"
           }
          ],
          "heatmap": [
           {
            "colorbar": {
             "outlinewidth": 0,
             "ticks": ""
            },
            "colorscale": [
             [
              0,
              "#0d0887"
             ],
             [
              0.1111111111111111,
              "#46039f"
             ],
             [
              0.2222222222222222,
              "#7201a8"
             ],
             [
              0.3333333333333333,
              "#9c179e"
             ],
             [
              0.4444444444444444,
              "#bd3786"
             ],
             [
              0.5555555555555556,
              "#d8576b"
             ],
             [
              0.6666666666666666,
              "#ed7953"
             ],
             [
              0.7777777777777778,
              "#fb9f3a"
             ],
             [
              0.8888888888888888,
              "#fdca26"
             ],
             [
              1,
              "#f0f921"
             ]
            ],
            "type": "heatmap"
           }
          ],
          "heatmapgl": [
           {
            "colorbar": {
             "outlinewidth": 0,
             "ticks": ""
            },
            "colorscale": [
             [
              0,
              "#0d0887"
             ],
             [
              0.1111111111111111,
              "#46039f"
             ],
             [
              0.2222222222222222,
              "#7201a8"
             ],
             [
              0.3333333333333333,
              "#9c179e"
             ],
             [
              0.4444444444444444,
              "#bd3786"
             ],
             [
              0.5555555555555556,
              "#d8576b"
             ],
             [
              0.6666666666666666,
              "#ed7953"
             ],
             [
              0.7777777777777778,
              "#fb9f3a"
             ],
             [
              0.8888888888888888,
              "#fdca26"
             ],
             [
              1,
              "#f0f921"
             ]
            ],
            "type": "heatmapgl"
           }
          ],
          "histogram": [
           {
            "marker": {
             "pattern": {
              "fillmode": "overlay",
              "size": 10,
              "solidity": 0.2
             }
            },
            "type": "histogram"
           }
          ],
          "histogram2d": [
           {
            "colorbar": {
             "outlinewidth": 0,
             "ticks": ""
            },
            "colorscale": [
             [
              0,
              "#0d0887"
             ],
             [
              0.1111111111111111,
              "#46039f"
             ],
             [
              0.2222222222222222,
              "#7201a8"
             ],
             [
              0.3333333333333333,
              "#9c179e"
             ],
             [
              0.4444444444444444,
              "#bd3786"
             ],
             [
              0.5555555555555556,
              "#d8576b"
             ],
             [
              0.6666666666666666,
              "#ed7953"
             ],
             [
              0.7777777777777778,
              "#fb9f3a"
             ],
             [
              0.8888888888888888,
              "#fdca26"
             ],
             [
              1,
              "#f0f921"
             ]
            ],
            "type": "histogram2d"
           }
          ],
          "histogram2dcontour": [
           {
            "colorbar": {
             "outlinewidth": 0,
             "ticks": ""
            },
            "colorscale": [
             [
              0,
              "#0d0887"
             ],
             [
              0.1111111111111111,
              "#46039f"
             ],
             [
              0.2222222222222222,
              "#7201a8"
             ],
             [
              0.3333333333333333,
              "#9c179e"
             ],
             [
              0.4444444444444444,
              "#bd3786"
             ],
             [
              0.5555555555555556,
              "#d8576b"
             ],
             [
              0.6666666666666666,
              "#ed7953"
             ],
             [
              0.7777777777777778,
              "#fb9f3a"
             ],
             [
              0.8888888888888888,
              "#fdca26"
             ],
             [
              1,
              "#f0f921"
             ]
            ],
            "type": "histogram2dcontour"
           }
          ],
          "mesh3d": [
           {
            "colorbar": {
             "outlinewidth": 0,
             "ticks": ""
            },
            "type": "mesh3d"
           }
          ],
          "parcoords": [
           {
            "line": {
             "colorbar": {
              "outlinewidth": 0,
              "ticks": ""
             }
            },
            "type": "parcoords"
           }
          ],
          "pie": [
           {
            "automargin": true,
            "type": "pie"
           }
          ],
          "scatter": [
           {
            "fillpattern": {
             "fillmode": "overlay",
             "size": 10,
             "solidity": 0.2
            },
            "type": "scatter"
           }
          ],
          "scatter3d": [
           {
            "line": {
             "colorbar": {
              "outlinewidth": 0,
              "ticks": ""
             }
            },
            "marker": {
             "colorbar": {
              "outlinewidth": 0,
              "ticks": ""
             }
            },
            "type": "scatter3d"
           }
          ],
          "scattercarpet": [
           {
            "marker": {
             "colorbar": {
              "outlinewidth": 0,
              "ticks": ""
             }
            },
            "type": "scattercarpet"
           }
          ],
          "scattergeo": [
           {
            "marker": {
             "colorbar": {
              "outlinewidth": 0,
              "ticks": ""
             }
            },
            "type": "scattergeo"
           }
          ],
          "scattergl": [
           {
            "marker": {
             "colorbar": {
              "outlinewidth": 0,
              "ticks": ""
             }
            },
            "type": "scattergl"
           }
          ],
          "scattermapbox": [
           {
            "marker": {
             "colorbar": {
              "outlinewidth": 0,
              "ticks": ""
             }
            },
            "type": "scattermapbox"
           }
          ],
          "scatterpolar": [
           {
            "marker": {
             "colorbar": {
              "outlinewidth": 0,
              "ticks": ""
             }
            },
            "type": "scatterpolar"
           }
          ],
          "scatterpolargl": [
           {
            "marker": {
             "colorbar": {
              "outlinewidth": 0,
              "ticks": ""
             }
            },
            "type": "scatterpolargl"
           }
          ],
          "scatterternary": [
           {
            "marker": {
             "colorbar": {
              "outlinewidth": 0,
              "ticks": ""
             }
            },
            "type": "scatterternary"
           }
          ],
          "surface": [
           {
            "colorbar": {
             "outlinewidth": 0,
             "ticks": ""
            },
            "colorscale": [
             [
              0,
              "#0d0887"
             ],
             [
              0.1111111111111111,
              "#46039f"
             ],
             [
              0.2222222222222222,
              "#7201a8"
             ],
             [
              0.3333333333333333,
              "#9c179e"
             ],
             [
              0.4444444444444444,
              "#bd3786"
             ],
             [
              0.5555555555555556,
              "#d8576b"
             ],
             [
              0.6666666666666666,
              "#ed7953"
             ],
             [
              0.7777777777777778,
              "#fb9f3a"
             ],
             [
              0.8888888888888888,
              "#fdca26"
             ],
             [
              1,
              "#f0f921"
             ]
            ],
            "type": "surface"
           }
          ],
          "table": [
           {
            "cells": {
             "fill": {
              "color": "#EBF0F8"
             },
             "line": {
              "color": "white"
             }
            },
            "header": {
             "fill": {
              "color": "#C8D4E3"
             },
             "line": {
              "color": "white"
             }
            },
            "type": "table"
           }
          ]
         },
         "layout": {
          "annotationdefaults": {
           "arrowcolor": "#2a3f5f",
           "arrowhead": 0,
           "arrowwidth": 1
          },
          "autotypenumbers": "strict",
          "coloraxis": {
           "colorbar": {
            "outlinewidth": 0,
            "ticks": ""
           }
          },
          "colorscale": {
           "diverging": [
            [
             0,
             "#8e0152"
            ],
            [
             0.1,
             "#c51b7d"
            ],
            [
             0.2,
             "#de77ae"
            ],
            [
             0.3,
             "#f1b6da"
            ],
            [
             0.4,
             "#fde0ef"
            ],
            [
             0.5,
             "#f7f7f7"
            ],
            [
             0.6,
             "#e6f5d0"
            ],
            [
             0.7,
             "#b8e186"
            ],
            [
             0.8,
             "#7fbc41"
            ],
            [
             0.9,
             "#4d9221"
            ],
            [
             1,
             "#276419"
            ]
           ],
           "sequential": [
            [
             0,
             "#0d0887"
            ],
            [
             0.1111111111111111,
             "#46039f"
            ],
            [
             0.2222222222222222,
             "#7201a8"
            ],
            [
             0.3333333333333333,
             "#9c179e"
            ],
            [
             0.4444444444444444,
             "#bd3786"
            ],
            [
             0.5555555555555556,
             "#d8576b"
            ],
            [
             0.6666666666666666,
             "#ed7953"
            ],
            [
             0.7777777777777778,
             "#fb9f3a"
            ],
            [
             0.8888888888888888,
             "#fdca26"
            ],
            [
             1,
             "#f0f921"
            ]
           ],
           "sequentialminus": [
            [
             0,
             "#0d0887"
            ],
            [
             0.1111111111111111,
             "#46039f"
            ],
            [
             0.2222222222222222,
             "#7201a8"
            ],
            [
             0.3333333333333333,
             "#9c179e"
            ],
            [
             0.4444444444444444,
             "#bd3786"
            ],
            [
             0.5555555555555556,
             "#d8576b"
            ],
            [
             0.6666666666666666,
             "#ed7953"
            ],
            [
             0.7777777777777778,
             "#fb9f3a"
            ],
            [
             0.8888888888888888,
             "#fdca26"
            ],
            [
             1,
             "#f0f921"
            ]
           ]
          },
          "colorway": [
           "#636efa",
           "#EF553B",
           "#00cc96",
           "#ab63fa",
           "#FFA15A",
           "#19d3f3",
           "#FF6692",
           "#B6E880",
           "#FF97FF",
           "#FECB52"
          ],
          "font": {
           "color": "#2a3f5f"
          },
          "geo": {
           "bgcolor": "white",
           "lakecolor": "white",
           "landcolor": "#E5ECF6",
           "showlakes": true,
           "showland": true,
           "subunitcolor": "white"
          },
          "hoverlabel": {
           "align": "left"
          },
          "hovermode": "closest",
          "mapbox": {
           "style": "light"
          },
          "paper_bgcolor": "white",
          "plot_bgcolor": "#E5ECF6",
          "polar": {
           "angularaxis": {
            "gridcolor": "white",
            "linecolor": "white",
            "ticks": ""
           },
           "bgcolor": "#E5ECF6",
           "radialaxis": {
            "gridcolor": "white",
            "linecolor": "white",
            "ticks": ""
           }
          },
          "scene": {
           "xaxis": {
            "backgroundcolor": "#E5ECF6",
            "gridcolor": "white",
            "gridwidth": 2,
            "linecolor": "white",
            "showbackground": true,
            "ticks": "",
            "zerolinecolor": "white"
           },
           "yaxis": {
            "backgroundcolor": "#E5ECF6",
            "gridcolor": "white",
            "gridwidth": 2,
            "linecolor": "white",
            "showbackground": true,
            "ticks": "",
            "zerolinecolor": "white"
           },
           "zaxis": {
            "backgroundcolor": "#E5ECF6",
            "gridcolor": "white",
            "gridwidth": 2,
            "linecolor": "white",
            "showbackground": true,
            "ticks": "",
            "zerolinecolor": "white"
           }
          },
          "shapedefaults": {
           "line": {
            "color": "#2a3f5f"
           }
          },
          "ternary": {
           "aaxis": {
            "gridcolor": "white",
            "linecolor": "white",
            "ticks": ""
           },
           "baxis": {
            "gridcolor": "white",
            "linecolor": "white",
            "ticks": ""
           },
           "bgcolor": "#E5ECF6",
           "caxis": {
            "gridcolor": "white",
            "linecolor": "white",
            "ticks": ""
           }
          },
          "title": {
           "x": 0.05
          },
          "xaxis": {
           "automargin": true,
           "gridcolor": "white",
           "linecolor": "white",
           "ticks": "",
           "title": {
            "standoff": 15
           },
           "zerolinecolor": "white",
           "zerolinewidth": 2
          },
          "yaxis": {
           "automargin": true,
           "gridcolor": "white",
           "linecolor": "white",
           "ticks": "",
           "title": {
            "standoff": 15
           },
           "zerolinecolor": "white",
           "zerolinewidth": 2
          }
         }
        },
        "title": {
         "text": "Count of Movies by original_language"
        },
        "xaxis": {
         "anchor": "y",
         "categoryarray": [
          "en",
          "fr",
          "hi",
          "Other",
          "ru",
          "es",
          "ko",
          "zh",
          "it",
          "pt",
          "cn",
          "ja",
          "de",
          "te",
          "ta"
         ],
         "categoryorder": "array",
         "domain": [
          0,
          1
         ],
         "tickangle": -45,
         "tickfont": {
          "size": 12
         },
         "title": {
          "text": "original_language"
         }
        },
        "yaxis": {
         "anchor": "x",
         "domain": [
          0,
          1
         ],
         "tickfont": {
          "size": 12
         },
         "title": {
          "text": "Number of Movies"
         },
         "type": "log"
        }
       }
      }
     },
     "metadata": {},
     "output_type": "display_data"
    },
    {
     "data": {
      "text/html": [
       "<div>\n",
       "<style scoped>\n",
       "    .dataframe tbody tr th:only-of-type {\n",
       "        vertical-align: middle;\n",
       "    }\n",
       "\n",
       "    .dataframe tbody tr th {\n",
       "        vertical-align: top;\n",
       "    }\n",
       "\n",
       "    .dataframe thead th {\n",
       "        text-align: right;\n",
       "    }\n",
       "</style>\n",
       "<table border=\"1\" class=\"dataframe\">\n",
       "  <thead>\n",
       "    <tr style=\"text-align: right;\">\n",
       "      <th></th>\n",
       "      <th>grouped</th>\n",
       "      <th>total</th>\n",
       "    </tr>\n",
       "  </thead>\n",
       "  <tbody>\n",
       "    <tr>\n",
       "      <th>0</th>\n",
       "      <td>en</td>\n",
       "      <td>8457</td>\n",
       "    </tr>\n",
       "    <tr>\n",
       "      <th>1</th>\n",
       "      <td>fr</td>\n",
       "      <td>1115</td>\n",
       "    </tr>\n",
       "    <tr>\n",
       "      <th>2</th>\n",
       "      <td>hi</td>\n",
       "      <td>633</td>\n",
       "    </tr>\n",
       "    <tr>\n",
       "      <th>3</th>\n",
       "      <td>Other</td>\n",
       "      <td>518</td>\n",
       "    </tr>\n",
       "    <tr>\n",
       "      <th>4</th>\n",
       "      <td>ru</td>\n",
       "      <td>229</td>\n",
       "    </tr>\n",
       "    <tr>\n",
       "      <th>5</th>\n",
       "      <td>es</td>\n",
       "      <td>221</td>\n",
       "    </tr>\n",
       "    <tr>\n",
       "      <th>6</th>\n",
       "      <td>ko</td>\n",
       "      <td>189</td>\n",
       "    </tr>\n",
       "    <tr>\n",
       "      <th>7</th>\n",
       "      <td>zh</td>\n",
       "      <td>168</td>\n",
       "    </tr>\n",
       "    <tr>\n",
       "      <th>8</th>\n",
       "      <td>it</td>\n",
       "      <td>118</td>\n",
       "    </tr>\n",
       "    <tr>\n",
       "      <th>9</th>\n",
       "      <td>pt</td>\n",
       "      <td>110</td>\n",
       "    </tr>\n",
       "    <tr>\n",
       "      <th>10</th>\n",
       "      <td>cn</td>\n",
       "      <td>106</td>\n",
       "    </tr>\n",
       "    <tr>\n",
       "      <th>11</th>\n",
       "      <td>ja</td>\n",
       "      <td>102</td>\n",
       "    </tr>\n",
       "    <tr>\n",
       "      <th>12</th>\n",
       "      <td>de</td>\n",
       "      <td>79</td>\n",
       "    </tr>\n",
       "    <tr>\n",
       "      <th>13</th>\n",
       "      <td>te</td>\n",
       "      <td>72</td>\n",
       "    </tr>\n",
       "    <tr>\n",
       "      <th>14</th>\n",
       "      <td>ta</td>\n",
       "      <td>66</td>\n",
       "    </tr>\n",
       "  </tbody>\n",
       "</table>\n",
       "</div>"
      ],
      "text/plain": [
       "   grouped  total\n",
       "0       en   8457\n",
       "1       fr   1115\n",
       "2       hi    633\n",
       "3    Other    518\n",
       "4       ru    229\n",
       "5       es    221\n",
       "6       ko    189\n",
       "7       zh    168\n",
       "8       it    118\n",
       "9       pt    110\n",
       "10      cn    106\n",
       "11      ja    102\n",
       "12      de     79\n",
       "13      te     72\n",
       "14      ta     66"
      ]
     },
     "execution_count": 54,
     "metadata": {},
     "output_type": "execute_result"
    }
   ],
   "source": [
    "plot_and_export_categorical_distribution(movie, 'original_language', 60)"
   ]
  },
  {
   "cell_type": "code",
   "execution_count": 55,
   "metadata": {},
   "outputs": [
    {
     "ename": "KeyError",
     "evalue": "'ageCert'",
     "output_type": "error",
     "traceback": [
      "\u001b[0;31m---------------------------------------------------------------------------\u001b[0m",
      "\u001b[0;31mKeyError\u001b[0m                                  Traceback (most recent call last)",
      "File \u001b[0;32m~/Documents/GitHub/box-office-prediction/bop/lib/python3.12/site-packages/pandas/core/indexes/base.py:3805\u001b[0m, in \u001b[0;36mIndex.get_loc\u001b[0;34m(self, key)\u001b[0m\n\u001b[1;32m   3804\u001b[0m \u001b[38;5;28;01mtry\u001b[39;00m:\n\u001b[0;32m-> 3805\u001b[0m     \u001b[38;5;28;01mreturn\u001b[39;00m \u001b[38;5;28;43mself\u001b[39;49m\u001b[38;5;241;43m.\u001b[39;49m\u001b[43m_engine\u001b[49m\u001b[38;5;241;43m.\u001b[39;49m\u001b[43mget_loc\u001b[49m\u001b[43m(\u001b[49m\u001b[43mcasted_key\u001b[49m\u001b[43m)\u001b[49m\n\u001b[1;32m   3806\u001b[0m \u001b[38;5;28;01mexcept\u001b[39;00m \u001b[38;5;167;01mKeyError\u001b[39;00m \u001b[38;5;28;01mas\u001b[39;00m err:\n",
      "File \u001b[0;32mindex.pyx:167\u001b[0m, in \u001b[0;36mpandas._libs.index.IndexEngine.get_loc\u001b[0;34m()\u001b[0m\n",
      "File \u001b[0;32mindex.pyx:196\u001b[0m, in \u001b[0;36mpandas._libs.index.IndexEngine.get_loc\u001b[0;34m()\u001b[0m\n",
      "File \u001b[0;32mpandas/_libs/hashtable_class_helper.pxi:7081\u001b[0m, in \u001b[0;36mpandas._libs.hashtable.PyObjectHashTable.get_item\u001b[0;34m()\u001b[0m\n",
      "File \u001b[0;32mpandas/_libs/hashtable_class_helper.pxi:7089\u001b[0m, in \u001b[0;36mpandas._libs.hashtable.PyObjectHashTable.get_item\u001b[0;34m()\u001b[0m\n",
      "\u001b[0;31mKeyError\u001b[0m: 'ageCert'",
      "\nThe above exception was the direct cause of the following exception:\n",
      "\u001b[0;31mKeyError\u001b[0m                                  Traceback (most recent call last)",
      "Cell \u001b[0;32mIn[55], line 1\u001b[0m\n\u001b[0;32m----> 1\u001b[0m \u001b[43mplot_and_export_categorical_distribution\u001b[49m\u001b[43m(\u001b[49m\u001b[43mmovie\u001b[49m\u001b[43m,\u001b[49m\u001b[43m \u001b[49m\u001b[38;5;124;43m'\u001b[39;49m\u001b[38;5;124;43mageCert\u001b[39;49m\u001b[38;5;124;43m'\u001b[39;49m\u001b[43m,\u001b[49m\u001b[43m \u001b[49m\u001b[38;5;241;43m60\u001b[39;49m\u001b[43m)\u001b[49m\n",
      "File \u001b[0;32m~/Documents/GitHub/box-office-prediction/Code/eda_support_functions.py:119\u001b[0m, in \u001b[0;36mplot_and_export_categorical_distribution\u001b[0;34m(df, agg_column, other_threshold, axis_type, sort_by_value)\u001b[0m\n\u001b[1;32m    118\u001b[0m \u001b[38;5;28;01mdef\u001b[39;00m \u001b[38;5;21mplot_and_export_categorical_distribution\u001b[39m(df, agg_column, other_threshold, axis_type \u001b[38;5;241m=\u001b[39m \u001b[38;5;124m'\u001b[39m\u001b[38;5;124mlog\u001b[39m\u001b[38;5;124m'\u001b[39m, sort_by_value\u001b[38;5;241m=\u001b[39m\u001b[38;5;28;01mTrue\u001b[39;00m):\n\u001b[0;32m--> 119\u001b[0m     counts \u001b[38;5;241m=\u001b[39m \u001b[43mdf\u001b[49m\u001b[43m[\u001b[49m\u001b[43magg_column\u001b[49m\u001b[43m]\u001b[49m\u001b[38;5;241m.\u001b[39mvalue_counts()\u001b[38;5;241m.\u001b[39mreset_index()\n\u001b[1;32m    120\u001b[0m     counts\u001b[38;5;241m.\u001b[39mcolumns \u001b[38;5;241m=\u001b[39m [agg_column, \u001b[38;5;124m'\u001b[39m\u001b[38;5;124mcount\u001b[39m\u001b[38;5;124m'\u001b[39m]\n\u001b[1;32m    122\u001b[0m     counts[\u001b[38;5;124m'\u001b[39m\u001b[38;5;124mgrouped\u001b[39m\u001b[38;5;124m'\u001b[39m] \u001b[38;5;241m=\u001b[39m counts\u001b[38;5;241m.\u001b[39mapply(\u001b[38;5;28;01mlambda\u001b[39;00m x: \u001b[38;5;124m'\u001b[39m\u001b[38;5;124mOther\u001b[39m\u001b[38;5;124m'\u001b[39m \u001b[38;5;28;01mif\u001b[39;00m x[\u001b[38;5;124m'\u001b[39m\u001b[38;5;124mcount\u001b[39m\u001b[38;5;124m'\u001b[39m] \u001b[38;5;241m<\u001b[39m other_threshold \u001b[38;5;28;01melse\u001b[39;00m x[agg_column], axis\u001b[38;5;241m=\u001b[39m\u001b[38;5;241m1\u001b[39m)\n",
      "File \u001b[0;32m~/Documents/GitHub/box-office-prediction/bop/lib/python3.12/site-packages/pandas/core/frame.py:4102\u001b[0m, in \u001b[0;36mDataFrame.__getitem__\u001b[0;34m(self, key)\u001b[0m\n\u001b[1;32m   4100\u001b[0m \u001b[38;5;28;01mif\u001b[39;00m \u001b[38;5;28mself\u001b[39m\u001b[38;5;241m.\u001b[39mcolumns\u001b[38;5;241m.\u001b[39mnlevels \u001b[38;5;241m>\u001b[39m \u001b[38;5;241m1\u001b[39m:\n\u001b[1;32m   4101\u001b[0m     \u001b[38;5;28;01mreturn\u001b[39;00m \u001b[38;5;28mself\u001b[39m\u001b[38;5;241m.\u001b[39m_getitem_multilevel(key)\n\u001b[0;32m-> 4102\u001b[0m indexer \u001b[38;5;241m=\u001b[39m \u001b[38;5;28;43mself\u001b[39;49m\u001b[38;5;241;43m.\u001b[39;49m\u001b[43mcolumns\u001b[49m\u001b[38;5;241;43m.\u001b[39;49m\u001b[43mget_loc\u001b[49m\u001b[43m(\u001b[49m\u001b[43mkey\u001b[49m\u001b[43m)\u001b[49m\n\u001b[1;32m   4103\u001b[0m \u001b[38;5;28;01mif\u001b[39;00m is_integer(indexer):\n\u001b[1;32m   4104\u001b[0m     indexer \u001b[38;5;241m=\u001b[39m [indexer]\n",
      "File \u001b[0;32m~/Documents/GitHub/box-office-prediction/bop/lib/python3.12/site-packages/pandas/core/indexes/base.py:3812\u001b[0m, in \u001b[0;36mIndex.get_loc\u001b[0;34m(self, key)\u001b[0m\n\u001b[1;32m   3807\u001b[0m     \u001b[38;5;28;01mif\u001b[39;00m \u001b[38;5;28misinstance\u001b[39m(casted_key, \u001b[38;5;28mslice\u001b[39m) \u001b[38;5;129;01mor\u001b[39;00m (\n\u001b[1;32m   3808\u001b[0m         \u001b[38;5;28misinstance\u001b[39m(casted_key, abc\u001b[38;5;241m.\u001b[39mIterable)\n\u001b[1;32m   3809\u001b[0m         \u001b[38;5;129;01mand\u001b[39;00m \u001b[38;5;28many\u001b[39m(\u001b[38;5;28misinstance\u001b[39m(x, \u001b[38;5;28mslice\u001b[39m) \u001b[38;5;28;01mfor\u001b[39;00m x \u001b[38;5;129;01min\u001b[39;00m casted_key)\n\u001b[1;32m   3810\u001b[0m     ):\n\u001b[1;32m   3811\u001b[0m         \u001b[38;5;28;01mraise\u001b[39;00m InvalidIndexError(key)\n\u001b[0;32m-> 3812\u001b[0m     \u001b[38;5;28;01mraise\u001b[39;00m \u001b[38;5;167;01mKeyError\u001b[39;00m(key) \u001b[38;5;28;01mfrom\u001b[39;00m \u001b[38;5;21;01merr\u001b[39;00m\n\u001b[1;32m   3813\u001b[0m \u001b[38;5;28;01mexcept\u001b[39;00m \u001b[38;5;167;01mTypeError\u001b[39;00m:\n\u001b[1;32m   3814\u001b[0m     \u001b[38;5;66;03m# If we have a listlike key, _check_indexing_error will raise\u001b[39;00m\n\u001b[1;32m   3815\u001b[0m     \u001b[38;5;66;03m#  InvalidIndexError. Otherwise we fall through and re-raise\u001b[39;00m\n\u001b[1;32m   3816\u001b[0m     \u001b[38;5;66;03m#  the TypeError.\u001b[39;00m\n\u001b[1;32m   3817\u001b[0m     \u001b[38;5;28mself\u001b[39m\u001b[38;5;241m.\u001b[39m_check_indexing_error(key)\n",
      "\u001b[0;31mKeyError\u001b[0m: 'ageCert'"
     ]
    }
   ],
   "source": [
    "plot_and_export_categorical_distribution(movie, 'ageCert', 60)"
   ]
  },
  {
   "cell_type": "code",
   "execution_count": null,
   "metadata": {},
   "outputs": [],
   "source": []
  },
  {
   "cell_type": "code",
   "execution_count": null,
   "metadata": {},
   "outputs": [],
   "source": []
  },
  {
   "cell_type": "code",
   "execution_count": null,
   "metadata": {},
   "outputs": [],
   "source": []
  },
  {
   "cell_type": "code",
   "execution_count": null,
   "metadata": {},
   "outputs": [],
   "source": []
  },
  {
   "cell_type": "code",
   "execution_count": null,
   "metadata": {},
   "outputs": [],
   "source": []
  },
  {
   "cell_type": "code",
   "execution_count": null,
   "metadata": {},
   "outputs": [],
   "source": []
  },
  {
   "cell_type": "code",
   "execution_count": null,
   "metadata": {},
   "outputs": [],
   "source": []
  }
 ],
 "metadata": {
  "kernelspec": {
   "display_name": "thesis",
   "language": "python",
   "name": "python3"
  },
  "language_info": {
   "codemirror_mode": {
    "name": "ipython",
    "version": 3
   },
   "file_extension": ".py",
   "mimetype": "text/x-python",
   "name": "python",
   "nbconvert_exporter": "python",
   "pygments_lexer": "ipython3",
   "version": "3.12.3"
  }
 },
 "nbformat": 4,
 "nbformat_minor": 2
}
