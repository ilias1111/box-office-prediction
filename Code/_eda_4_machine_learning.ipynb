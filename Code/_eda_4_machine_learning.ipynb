{
 "cells": [
  {
   "cell_type": "code",
   "execution_count": 22,
   "metadata": {},
   "outputs": [],
   "source": [
    "import pandas as pd\n",
    "from eda_support_functions import *"
   ]
  },
  {
   "cell_type": "code",
   "execution_count": 23,
   "metadata": {},
   "outputs": [],
   "source": [
    "pd.set_option('display.max_columns', None)\n",
    "pd.set_option('display.max_info_columns', 1000)"
   ]
  },
  {
   "cell_type": "code",
   "execution_count": 24,
   "metadata": {},
   "outputs": [],
   "source": [
    "RUNS_IDS = ['20240806_230924']"
   ]
  },
  {
   "cell_type": "code",
   "execution_count": 25,
   "metadata": {},
   "outputs": [],
   "source": [
    "parameters_df = load_metadata('parameters', '/Users/iliasx/Documents/GitHub/box-office-prediction/metadata')\n",
    "experiment_df = load_metadata('metrics', '/Users/iliasx/Documents/GitHub/box-office-prediction/metadata')"
   ]
  },
  {
   "cell_type": "code",
   "execution_count": 26,
   "metadata": {},
   "outputs": [
    {
     "data": {
      "text/html": [
       "<div>\n",
       "<style scoped>\n",
       "    .dataframe tbody tr th:only-of-type {\n",
       "        vertical-align: middle;\n",
       "    }\n",
       "\n",
       "    .dataframe tbody tr th {\n",
       "        vertical-align: top;\n",
       "    }\n",
       "\n",
       "    .dataframe thead th {\n",
       "        text-align: right;\n",
       "    }\n",
       "</style>\n",
       "<table border=\"1\" class=\"dataframe\">\n",
       "  <thead>\n",
       "    <tr style=\"text-align: right;\">\n",
       "      <th></th>\n",
       "      <th>run_id</th>\n",
       "      <th>timestamp</th>\n",
       "      <th>model_type</th>\n",
       "      <th>problem_type</th>\n",
       "      <th>dataset_name</th>\n",
       "      <th>grid_type</th>\n",
       "      <th>has_outliers_removed</th>\n",
       "      <th>feature_engineering</th>\n",
       "      <th>scaler</th>\n",
       "      <th>variance_threshold</th>\n",
       "      <th>duration</th>\n",
       "      <th>number_of_combinations</th>\n",
       "      <th>Accuracy</th>\n",
       "      <th>Precision</th>\n",
       "      <th>Recall</th>\n",
       "      <th>F1 Score</th>\n",
       "      <th>MSE</th>\n",
       "      <th>MAPE</th>\n",
       "      <th>MAE</th>\n",
       "      <th>RMSE</th>\n",
       "      <th>RMSLE</th>\n",
       "      <th>MSLE</th>\n",
       "      <th>R2</th>\n",
       "      <th>Threshold Probability Accuracy</th>\n",
       "      <th>Threshold MAPE</th>\n",
       "      <th>Threshold MAPE (25%)</th>\n",
       "      <th>ROC AUC Score</th>\n",
       "    </tr>\n",
       "  </thead>\n",
       "  <tbody>\n",
       "    <tr>\n",
       "      <th>0</th>\n",
       "      <td>20240802_224457</td>\n",
       "      <td>2024-08-02 23:24:31</td>\n",
       "      <td>decision_tree_classifier</td>\n",
       "      <td>multi_class_classification</td>\n",
       "      <td>full</td>\n",
       "      <td>random_search</td>\n",
       "      <td>True</td>\n",
       "      <td>none</td>\n",
       "      <td>MinMaxScaler</td>\n",
       "      <td>0.011282</td>\n",
       "      <td>0.115336</td>\n",
       "      <td>None</td>\n",
       "      <td>0.498124</td>\n",
       "      <td>0.426014</td>\n",
       "      <td>0.498124</td>\n",
       "      <td>0.452741</td>\n",
       "      <td>NaN</td>\n",
       "      <td>NaN</td>\n",
       "      <td>NaN</td>\n",
       "      <td>NaN</td>\n",
       "      <td>NaN</td>\n",
       "      <td>NaN</td>\n",
       "      <td>NaN</td>\n",
       "      <td>NaN</td>\n",
       "      <td>NaN</td>\n",
       "      <td>NaN</td>\n",
       "      <td>NaN</td>\n",
       "    </tr>\n",
       "    <tr>\n",
       "      <th>1</th>\n",
       "      <td>20240802_224457</td>\n",
       "      <td>2024-08-02 23:36:14</td>\n",
       "      <td>lightgbm_regressor</td>\n",
       "      <td>regression</td>\n",
       "      <td>full</td>\n",
       "      <td>random_search</td>\n",
       "      <td>True</td>\n",
       "      <td>complex</td>\n",
       "      <td>RobustScaler</td>\n",
       "      <td>0.019995</td>\n",
       "      <td>20.893485</td>\n",
       "      <td>None</td>\n",
       "      <td>NaN</td>\n",
       "      <td>NaN</td>\n",
       "      <td>NaN</td>\n",
       "      <td>NaN</td>\n",
       "      <td>1.372573e+16</td>\n",
       "      <td>1.364065</td>\n",
       "      <td>6.213266e+07</td>\n",
       "      <td>1.171569e+08</td>\n",
       "      <td>1.022013</td>\n",
       "      <td>1.044510</td>\n",
       "      <td>0.656524</td>\n",
       "      <td>0.162289</td>\n",
       "      <td>1.472104</td>\n",
       "      <td>1.679541</td>\n",
       "      <td>NaN</td>\n",
       "    </tr>\n",
       "    <tr>\n",
       "      <th>2</th>\n",
       "      <td>20240731_163830</td>\n",
       "      <td>2024-07-31 16:55:05</td>\n",
       "      <td>random_forest_regressor</td>\n",
       "      <td>regression</td>\n",
       "      <td>full</td>\n",
       "      <td>random_search</td>\n",
       "      <td>True</td>\n",
       "      <td>complex</td>\n",
       "      <td>StandardScaler</td>\n",
       "      <td>0.002653</td>\n",
       "      <td>993.781275</td>\n",
       "      <td>None</td>\n",
       "      <td>NaN</td>\n",
       "      <td>NaN</td>\n",
       "      <td>NaN</td>\n",
       "      <td>NaN</td>\n",
       "      <td>2.453859e+16</td>\n",
       "      <td>1.673388</td>\n",
       "      <td>6.192644e+07</td>\n",
       "      <td>1.566480e+08</td>\n",
       "      <td>1.108347</td>\n",
       "      <td>1.228433</td>\n",
       "      <td>0.529389</td>\n",
       "      <td>0.156367</td>\n",
       "      <td>1.819095</td>\n",
       "      <td>2.066391</td>\n",
       "      <td>NaN</td>\n",
       "    </tr>\n",
       "    <tr>\n",
       "      <th>3</th>\n",
       "      <td>20240719_214914</td>\n",
       "      <td>2024-07-19 22:31:22</td>\n",
       "      <td>decision_tree_classifier</td>\n",
       "      <td>binary_classification</td>\n",
       "      <td>small_productions</td>\n",
       "      <td>random_search</td>\n",
       "      <td>True</td>\n",
       "      <td>none</td>\n",
       "      <td>RobustScaler</td>\n",
       "      <td>0.104955</td>\n",
       "      <td>0.044046</td>\n",
       "      <td>None</td>\n",
       "      <td>0.571429</td>\n",
       "      <td>0.653061</td>\n",
       "      <td>0.561404</td>\n",
       "      <td>0.603774</td>\n",
       "      <td>NaN</td>\n",
       "      <td>NaN</td>\n",
       "      <td>NaN</td>\n",
       "      <td>NaN</td>\n",
       "      <td>NaN</td>\n",
       "      <td>NaN</td>\n",
       "      <td>NaN</td>\n",
       "      <td>NaN</td>\n",
       "      <td>NaN</td>\n",
       "      <td>NaN</td>\n",
       "      <td>0.573385</td>\n",
       "    </tr>\n",
       "    <tr>\n",
       "      <th>4</th>\n",
       "      <td>20240724_210133</td>\n",
       "      <td>2024-07-24 21:03:13</td>\n",
       "      <td>decision_tree_regressor</td>\n",
       "      <td>regression</td>\n",
       "      <td>small_productions</td>\n",
       "      <td>random_search</td>\n",
       "      <td>False</td>\n",
       "      <td>none</td>\n",
       "      <td>StandardScaler</td>\n",
       "      <td>0.155938</td>\n",
       "      <td>0.713206</td>\n",
       "      <td>None</td>\n",
       "      <td>NaN</td>\n",
       "      <td>NaN</td>\n",
       "      <td>NaN</td>\n",
       "      <td>NaN</td>\n",
       "      <td>2.595991e+15</td>\n",
       "      <td>27.918844</td>\n",
       "      <td>1.471929e+07</td>\n",
       "      <td>5.095086e+07</td>\n",
       "      <td>2.341491</td>\n",
       "      <td>5.482579</td>\n",
       "      <td>0.035311</td>\n",
       "      <td>0.098639</td>\n",
       "      <td>29.208188</td>\n",
       "      <td>31.796131</td>\n",
       "      <td>NaN</td>\n",
       "    </tr>\n",
       "    <tr>\n",
       "      <th>...</th>\n",
       "      <td>...</td>\n",
       "      <td>...</td>\n",
       "      <td>...</td>\n",
       "      <td>...</td>\n",
       "      <td>...</td>\n",
       "      <td>...</td>\n",
       "      <td>...</td>\n",
       "      <td>...</td>\n",
       "      <td>...</td>\n",
       "      <td>...</td>\n",
       "      <td>...</td>\n",
       "      <td>...</td>\n",
       "      <td>...</td>\n",
       "      <td>...</td>\n",
       "      <td>...</td>\n",
       "      <td>...</td>\n",
       "      <td>...</td>\n",
       "      <td>...</td>\n",
       "      <td>...</td>\n",
       "      <td>...</td>\n",
       "      <td>...</td>\n",
       "      <td>...</td>\n",
       "      <td>...</td>\n",
       "      <td>...</td>\n",
       "      <td>...</td>\n",
       "      <td>...</td>\n",
       "      <td>...</td>\n",
       "    </tr>\n",
       "    <tr>\n",
       "      <th>3153</th>\n",
       "      <td>20240729_230303</td>\n",
       "      <td>2024-07-30 00:12:45</td>\n",
       "      <td>dummy_classifier</td>\n",
       "      <td>binary_classification</td>\n",
       "      <td>medium_productions</td>\n",
       "      <td>random_search</td>\n",
       "      <td>True</td>\n",
       "      <td>none</td>\n",
       "      <td>RobustScaler</td>\n",
       "      <td>0.127511</td>\n",
       "      <td>0.401243</td>\n",
       "      <td>None</td>\n",
       "      <td>0.524116</td>\n",
       "      <td>0.476489</td>\n",
       "      <td>0.540925</td>\n",
       "      <td>0.506667</td>\n",
       "      <td>NaN</td>\n",
       "      <td>NaN</td>\n",
       "      <td>NaN</td>\n",
       "      <td>NaN</td>\n",
       "      <td>NaN</td>\n",
       "      <td>NaN</td>\n",
       "      <td>NaN</td>\n",
       "      <td>NaN</td>\n",
       "      <td>NaN</td>\n",
       "      <td>NaN</td>\n",
       "      <td>0.525595</td>\n",
       "    </tr>\n",
       "    <tr>\n",
       "      <th>3154</th>\n",
       "      <td>20240806_230924</td>\n",
       "      <td>2024-08-06 23:21:52</td>\n",
       "      <td>xgboost_classifier</td>\n",
       "      <td>multi_class_classification</td>\n",
       "      <td>small_productions</td>\n",
       "      <td>random_search</td>\n",
       "      <td>False</td>\n",
       "      <td>complex</td>\n",
       "      <td>RobustScaler</td>\n",
       "      <td>0.018735</td>\n",
       "      <td>387.845553</td>\n",
       "      <td>None</td>\n",
       "      <td>0.615894</td>\n",
       "      <td>0.552778</td>\n",
       "      <td>0.615894</td>\n",
       "      <td>0.577467</td>\n",
       "      <td>NaN</td>\n",
       "      <td>NaN</td>\n",
       "      <td>NaN</td>\n",
       "      <td>NaN</td>\n",
       "      <td>NaN</td>\n",
       "      <td>NaN</td>\n",
       "      <td>NaN</td>\n",
       "      <td>NaN</td>\n",
       "      <td>NaN</td>\n",
       "      <td>NaN</td>\n",
       "      <td>NaN</td>\n",
       "    </tr>\n",
       "    <tr>\n",
       "      <th>3155</th>\n",
       "      <td>20240802_224457</td>\n",
       "      <td>2024-08-02 23:15:24</td>\n",
       "      <td>logistic_regression</td>\n",
       "      <td>multi_class_classification</td>\n",
       "      <td>small_productions</td>\n",
       "      <td>random_search</td>\n",
       "      <td>False</td>\n",
       "      <td>none</td>\n",
       "      <td>RobustScaler</td>\n",
       "      <td>0.019995</td>\n",
       "      <td>0.156260</td>\n",
       "      <td>None</td>\n",
       "      <td>0.587189</td>\n",
       "      <td>0.491697</td>\n",
       "      <td>0.587189</td>\n",
       "      <td>0.533433</td>\n",
       "      <td>NaN</td>\n",
       "      <td>NaN</td>\n",
       "      <td>NaN</td>\n",
       "      <td>NaN</td>\n",
       "      <td>NaN</td>\n",
       "      <td>NaN</td>\n",
       "      <td>NaN</td>\n",
       "      <td>NaN</td>\n",
       "      <td>NaN</td>\n",
       "      <td>NaN</td>\n",
       "      <td>NaN</td>\n",
       "    </tr>\n",
       "    <tr>\n",
       "      <th>3156</th>\n",
       "      <td>20240724_210133</td>\n",
       "      <td>2024-07-24 21:20:18</td>\n",
       "      <td>decision_tree_classifier</td>\n",
       "      <td>multi_class_classification</td>\n",
       "      <td>medium_productions</td>\n",
       "      <td>random_search</td>\n",
       "      <td>False</td>\n",
       "      <td>none</td>\n",
       "      <td>StandardScaler</td>\n",
       "      <td>0.155938</td>\n",
       "      <td>0.783357</td>\n",
       "      <td>None</td>\n",
       "      <td>0.335726</td>\n",
       "      <td>0.475243</td>\n",
       "      <td>0.335726</td>\n",
       "      <td>0.381156</td>\n",
       "      <td>NaN</td>\n",
       "      <td>NaN</td>\n",
       "      <td>NaN</td>\n",
       "      <td>NaN</td>\n",
       "      <td>NaN</td>\n",
       "      <td>NaN</td>\n",
       "      <td>NaN</td>\n",
       "      <td>NaN</td>\n",
       "      <td>NaN</td>\n",
       "      <td>NaN</td>\n",
       "      <td>NaN</td>\n",
       "    </tr>\n",
       "    <tr>\n",
       "      <th>3157</th>\n",
       "      <td>20240719_214914</td>\n",
       "      <td>2024-07-19 22:11:33</td>\n",
       "      <td>lightgbm_classifier</td>\n",
       "      <td>binary_classification</td>\n",
       "      <td>large_productions</td>\n",
       "      <td>random_search</td>\n",
       "      <td>True</td>\n",
       "      <td>none</td>\n",
       "      <td>StandardScaler</td>\n",
       "      <td>0.042468</td>\n",
       "      <td>8.073748</td>\n",
       "      <td>None</td>\n",
       "      <td>0.616052</td>\n",
       "      <td>0.582569</td>\n",
       "      <td>0.596244</td>\n",
       "      <td>0.589327</td>\n",
       "      <td>NaN</td>\n",
       "      <td>NaN</td>\n",
       "      <td>NaN</td>\n",
       "      <td>NaN</td>\n",
       "      <td>NaN</td>\n",
       "      <td>NaN</td>\n",
       "      <td>NaN</td>\n",
       "      <td>NaN</td>\n",
       "      <td>NaN</td>\n",
       "      <td>NaN</td>\n",
       "      <td>0.614654</td>\n",
       "    </tr>\n",
       "  </tbody>\n",
       "</table>\n",
       "<p>3158 rows × 27 columns</p>\n",
       "</div>"
      ],
      "text/plain": [
       "               run_id           timestamp                model_type  \\\n",
       "0     20240802_224457 2024-08-02 23:24:31  decision_tree_classifier   \n",
       "1     20240802_224457 2024-08-02 23:36:14        lightgbm_regressor   \n",
       "2     20240731_163830 2024-07-31 16:55:05   random_forest_regressor   \n",
       "3     20240719_214914 2024-07-19 22:31:22  decision_tree_classifier   \n",
       "4     20240724_210133 2024-07-24 21:03:13   decision_tree_regressor   \n",
       "...               ...                 ...                       ...   \n",
       "3153  20240729_230303 2024-07-30 00:12:45          dummy_classifier   \n",
       "3154  20240806_230924 2024-08-06 23:21:52        xgboost_classifier   \n",
       "3155  20240802_224457 2024-08-02 23:15:24       logistic_regression   \n",
       "3156  20240724_210133 2024-07-24 21:20:18  decision_tree_classifier   \n",
       "3157  20240719_214914 2024-07-19 22:11:33       lightgbm_classifier   \n",
       "\n",
       "                    problem_type        dataset_name      grid_type  \\\n",
       "0     multi_class_classification                full  random_search   \n",
       "1                     regression                full  random_search   \n",
       "2                     regression                full  random_search   \n",
       "3          binary_classification   small_productions  random_search   \n",
       "4                     regression   small_productions  random_search   \n",
       "...                          ...                 ...            ...   \n",
       "3153       binary_classification  medium_productions  random_search   \n",
       "3154  multi_class_classification   small_productions  random_search   \n",
       "3155  multi_class_classification   small_productions  random_search   \n",
       "3156  multi_class_classification  medium_productions  random_search   \n",
       "3157       binary_classification   large_productions  random_search   \n",
       "\n",
       "      has_outliers_removed feature_engineering          scaler  \\\n",
       "0                     True                none    MinMaxScaler   \n",
       "1                     True             complex    RobustScaler   \n",
       "2                     True             complex  StandardScaler   \n",
       "3                     True                none    RobustScaler   \n",
       "4                    False                none  StandardScaler   \n",
       "...                    ...                 ...             ...   \n",
       "3153                  True                none    RobustScaler   \n",
       "3154                 False             complex    RobustScaler   \n",
       "3155                 False                none    RobustScaler   \n",
       "3156                 False                none  StandardScaler   \n",
       "3157                  True                none  StandardScaler   \n",
       "\n",
       "      variance_threshold    duration number_of_combinations  Accuracy  \\\n",
       "0               0.011282    0.115336                   None  0.498124   \n",
       "1               0.019995   20.893485                   None       NaN   \n",
       "2               0.002653  993.781275                   None       NaN   \n",
       "3               0.104955    0.044046                   None  0.571429   \n",
       "4               0.155938    0.713206                   None       NaN   \n",
       "...                  ...         ...                    ...       ...   \n",
       "3153            0.127511    0.401243                   None  0.524116   \n",
       "3154            0.018735  387.845553                   None  0.615894   \n",
       "3155            0.019995    0.156260                   None  0.587189   \n",
       "3156            0.155938    0.783357                   None  0.335726   \n",
       "3157            0.042468    8.073748                   None  0.616052   \n",
       "\n",
       "      Precision    Recall  F1 Score           MSE       MAPE           MAE  \\\n",
       "0      0.426014  0.498124  0.452741           NaN        NaN           NaN   \n",
       "1           NaN       NaN       NaN  1.372573e+16   1.364065  6.213266e+07   \n",
       "2           NaN       NaN       NaN  2.453859e+16   1.673388  6.192644e+07   \n",
       "3      0.653061  0.561404  0.603774           NaN        NaN           NaN   \n",
       "4           NaN       NaN       NaN  2.595991e+15  27.918844  1.471929e+07   \n",
       "...         ...       ...       ...           ...        ...           ...   \n",
       "3153   0.476489  0.540925  0.506667           NaN        NaN           NaN   \n",
       "3154   0.552778  0.615894  0.577467           NaN        NaN           NaN   \n",
       "3155   0.491697  0.587189  0.533433           NaN        NaN           NaN   \n",
       "3156   0.475243  0.335726  0.381156           NaN        NaN           NaN   \n",
       "3157   0.582569  0.596244  0.589327           NaN        NaN           NaN   \n",
       "\n",
       "              RMSE     RMSLE      MSLE        R2  \\\n",
       "0              NaN       NaN       NaN       NaN   \n",
       "1     1.171569e+08  1.022013  1.044510  0.656524   \n",
       "2     1.566480e+08  1.108347  1.228433  0.529389   \n",
       "3              NaN       NaN       NaN       NaN   \n",
       "4     5.095086e+07  2.341491  5.482579  0.035311   \n",
       "...            ...       ...       ...       ...   \n",
       "3153           NaN       NaN       NaN       NaN   \n",
       "3154           NaN       NaN       NaN       NaN   \n",
       "3155           NaN       NaN       NaN       NaN   \n",
       "3156           NaN       NaN       NaN       NaN   \n",
       "3157           NaN       NaN       NaN       NaN   \n",
       "\n",
       "      Threshold Probability Accuracy  Threshold MAPE  Threshold MAPE (25%)  \\\n",
       "0                                NaN             NaN                   NaN   \n",
       "1                           0.162289        1.472104              1.679541   \n",
       "2                           0.156367        1.819095              2.066391   \n",
       "3                                NaN             NaN                   NaN   \n",
       "4                           0.098639       29.208188             31.796131   \n",
       "...                              ...             ...                   ...   \n",
       "3153                             NaN             NaN                   NaN   \n",
       "3154                             NaN             NaN                   NaN   \n",
       "3155                             NaN             NaN                   NaN   \n",
       "3156                             NaN             NaN                   NaN   \n",
       "3157                             NaN             NaN                   NaN   \n",
       "\n",
       "      ROC AUC Score  \n",
       "0               NaN  \n",
       "1               NaN  \n",
       "2               NaN  \n",
       "3          0.573385  \n",
       "4               NaN  \n",
       "...             ...  \n",
       "3153       0.525595  \n",
       "3154            NaN  \n",
       "3155            NaN  \n",
       "3156            NaN  \n",
       "3157       0.614654  \n",
       "\n",
       "[3158 rows x 27 columns]"
      ]
     },
     "execution_count": 26,
     "metadata": {},
     "output_type": "execute_result"
    }
   ],
   "source": [
    "experiment_df"
   ]
  },
  {
   "cell_type": "code",
   "execution_count": 27,
   "metadata": {},
   "outputs": [
    {
     "data": {
      "text/html": [
       "<div>\n",
       "<style scoped>\n",
       "    .dataframe tbody tr th:only-of-type {\n",
       "        vertical-align: middle;\n",
       "    }\n",
       "\n",
       "    .dataframe tbody tr th {\n",
       "        vertical-align: top;\n",
       "    }\n",
       "\n",
       "    .dataframe thead th {\n",
       "        text-align: right;\n",
       "    }\n",
       "</style>\n",
       "<table border=\"1\" class=\"dataframe\">\n",
       "  <thead>\n",
       "    <tr style=\"text-align: right;\">\n",
       "      <th></th>\n",
       "      <th>count</th>\n",
       "      <th>dataset_name</th>\n",
       "      <th>model_type</th>\n",
       "      <th>timestamp</th>\n",
       "    </tr>\n",
       "    <tr>\n",
       "      <th>run_id</th>\n",
       "      <th></th>\n",
       "      <th></th>\n",
       "      <th></th>\n",
       "      <th></th>\n",
       "    </tr>\n",
       "  </thead>\n",
       "  <tbody>\n",
       "    <tr>\n",
       "      <th>20240806_230924</th>\n",
       "      <td>67</td>\n",
       "      <td>4</td>\n",
       "      <td>11</td>\n",
       "      <td>2024-08-07 09:49:47</td>\n",
       "    </tr>\n",
       "    <tr>\n",
       "      <th>20240806_193816</th>\n",
       "      <td>96</td>\n",
       "      <td>4</td>\n",
       "      <td>6</td>\n",
       "      <td>2024-08-06 22:18:17</td>\n",
       "    </tr>\n",
       "    <tr>\n",
       "      <th>20240806_184222</th>\n",
       "      <td>4</td>\n",
       "      <td>4</td>\n",
       "      <td>1</td>\n",
       "      <td>2024-08-06 19:22:57</td>\n",
       "    </tr>\n",
       "    <tr>\n",
       "      <th>20240806_120055</th>\n",
       "      <td>2</td>\n",
       "      <td>2</td>\n",
       "      <td>1</td>\n",
       "      <td>2024-08-06 13:36:40</td>\n",
       "    </tr>\n",
       "    <tr>\n",
       "      <th>20240805_182129</th>\n",
       "      <td>2</td>\n",
       "      <td>2</td>\n",
       "      <td>1</td>\n",
       "      <td>2024-08-05 19:39:19</td>\n",
       "    </tr>\n",
       "    <tr>\n",
       "      <th>...</th>\n",
       "      <td>...</td>\n",
       "      <td>...</td>\n",
       "      <td>...</td>\n",
       "      <td>...</td>\n",
       "    </tr>\n",
       "    <tr>\n",
       "      <th>20240719_231427</th>\n",
       "      <td>12</td>\n",
       "      <td>2</td>\n",
       "      <td>6</td>\n",
       "      <td>2024-07-19 23:15:42</td>\n",
       "    </tr>\n",
       "    <tr>\n",
       "      <th>20240719_225631</th>\n",
       "      <td>2</td>\n",
       "      <td>2</td>\n",
       "      <td>1</td>\n",
       "      <td>2024-07-19 22:58:14</td>\n",
       "    </tr>\n",
       "    <tr>\n",
       "      <th>20240719_214914</th>\n",
       "      <td>272</td>\n",
       "      <td>4</td>\n",
       "      <td>11</td>\n",
       "      <td>2024-07-19 22:31:25</td>\n",
       "    </tr>\n",
       "    <tr>\n",
       "      <th>20240719_214632</th>\n",
       "      <td>6</td>\n",
       "      <td>1</td>\n",
       "      <td>6</td>\n",
       "      <td>2024-07-19 21:47:09</td>\n",
       "    </tr>\n",
       "    <tr>\n",
       "      <th>20240719_170554</th>\n",
       "      <td>272</td>\n",
       "      <td>4</td>\n",
       "      <td>11</td>\n",
       "      <td>2024-07-19 21:41:48</td>\n",
       "    </tr>\n",
       "  </tbody>\n",
       "</table>\n",
       "<p>78 rows × 4 columns</p>\n",
       "</div>"
      ],
      "text/plain": [
       "                 count  dataset_name  model_type           timestamp\n",
       "run_id                                                              \n",
       "20240806_230924     67             4          11 2024-08-07 09:49:47\n",
       "20240806_193816     96             4           6 2024-08-06 22:18:17\n",
       "20240806_184222      4             4           1 2024-08-06 19:22:57\n",
       "20240806_120055      2             2           1 2024-08-06 13:36:40\n",
       "20240805_182129      2             2           1 2024-08-05 19:39:19\n",
       "...                ...           ...         ...                 ...\n",
       "20240719_231427     12             2           6 2024-07-19 23:15:42\n",
       "20240719_225631      2             2           1 2024-07-19 22:58:14\n",
       "20240719_214914    272             4          11 2024-07-19 22:31:25\n",
       "20240719_214632      6             1           6 2024-07-19 21:47:09\n",
       "20240719_170554    272             4          11 2024-07-19 21:41:48\n",
       "\n",
       "[78 rows x 4 columns]"
      ]
     },
     "execution_count": 27,
     "metadata": {},
     "output_type": "execute_result"
    }
   ],
   "source": [
    "experiment_df.groupby('run_id').aggregate({'run_id': 'count',\n",
    "                                          'dataset_name' : 'nunique',\n",
    "                                          'model_type' : 'nunique',\n",
    "                                          'timestamp' : 'max'}\n",
    "                                          ).rename(columns={'run_id': 'count'}).sort_values('timestamp', ascending=False)"
   ]
  },
  {
   "cell_type": "code",
   "execution_count": 28,
   "metadata": {},
   "outputs": [],
   "source": [
    "parameters_df = parameters_df[parameters_df['run_id'].isin(RUNS_IDS)]\n",
    "experiment_df = experiment_df[experiment_df['run_id'].isin(RUNS_IDS)]"
   ]
  },
  {
   "cell_type": "code",
   "execution_count": 29,
   "metadata": {},
   "outputs": [],
   "source": [
    "# parameters_df[['problem_type', 'dataset_name', 'has_outliers_removed', 'feature_engineering', 'model_type', 'model__units', 'model__num_layers', 'model__dropout', 'epochs','variance_threshold','class_weight']].sort_values(by=['problem_type','dataset_name','has_outliers_removed'])"
   ]
  },
  {
   "cell_type": "code",
   "execution_count": 30,
   "metadata": {},
   "outputs": [
    {
     "data": {
      "text/html": [
       "<div>\n",
       "<style scoped>\n",
       "    .dataframe tbody tr th:only-of-type {\n",
       "        vertical-align: middle;\n",
       "    }\n",
       "\n",
       "    .dataframe tbody tr th {\n",
       "        vertical-align: top;\n",
       "    }\n",
       "\n",
       "    .dataframe thead th {\n",
       "        text-align: right;\n",
       "    }\n",
       "</style>\n",
       "<table border=\"1\" class=\"dataframe\">\n",
       "  <thead>\n",
       "    <tr style=\"text-align: right;\">\n",
       "      <th></th>\n",
       "      <th>problem_type</th>\n",
       "      <th>dataset_name</th>\n",
       "      <th>has_outliers_removed</th>\n",
       "      <th>feature_engineering</th>\n",
       "      <th>model_type</th>\n",
       "      <th>scaler</th>\n",
       "      <th>variance_threshold</th>\n",
       "      <th>class_weight</th>\n",
       "      <th>C</th>\n",
       "      <th>min_child_samples</th>\n",
       "      <th>solver</th>\n",
       "      <th>num_leaves</th>\n",
       "      <th>n_estimators</th>\n",
       "    </tr>\n",
       "  </thead>\n",
       "  <tbody>\n",
       "    <tr>\n",
       "      <th>578</th>\n",
       "      <td>binary_classification</td>\n",
       "      <td>full</td>\n",
       "      <td>True</td>\n",
       "      <td>none</td>\n",
       "      <td>decision_tree_classifier</td>\n",
       "      <td>RobustScaler</td>\n",
       "      <td>0.074404</td>\n",
       "      <td>balanced</td>\n",
       "      <td>NaN</td>\n",
       "      <td>NaN</td>\n",
       "      <td>NaN</td>\n",
       "      <td>NaN</td>\n",
       "      <td>NaN</td>\n",
       "    </tr>\n",
       "    <tr>\n",
       "      <th>2654</th>\n",
       "      <td>binary_classification</td>\n",
       "      <td>full</td>\n",
       "      <td>True</td>\n",
       "      <td>complex</td>\n",
       "      <td>decision_tree_classifier</td>\n",
       "      <td>MinMaxScaler</td>\n",
       "      <td>0.083302</td>\n",
       "      <td>balanced</td>\n",
       "      <td>NaN</td>\n",
       "      <td>NaN</td>\n",
       "      <td>NaN</td>\n",
       "      <td>NaN</td>\n",
       "      <td>NaN</td>\n",
       "    </tr>\n",
       "    <tr>\n",
       "      <th>1392</th>\n",
       "      <td>binary_classification</td>\n",
       "      <td>large_productions</td>\n",
       "      <td>False</td>\n",
       "      <td>complex</td>\n",
       "      <td>decision_tree_classifier</td>\n",
       "      <td>MinMaxScaler</td>\n",
       "      <td>0.011639</td>\n",
       "      <td>balanced</td>\n",
       "      <td>NaN</td>\n",
       "      <td>NaN</td>\n",
       "      <td>NaN</td>\n",
       "      <td>NaN</td>\n",
       "      <td>NaN</td>\n",
       "    </tr>\n",
       "    <tr>\n",
       "      <th>2093</th>\n",
       "      <td>binary_classification</td>\n",
       "      <td>large_productions</td>\n",
       "      <td>False</td>\n",
       "      <td>none</td>\n",
       "      <td>decision_tree_classifier</td>\n",
       "      <td>RobustScaler</td>\n",
       "      <td>0.074404</td>\n",
       "      <td>balanced</td>\n",
       "      <td>NaN</td>\n",
       "      <td>NaN</td>\n",
       "      <td>NaN</td>\n",
       "      <td>NaN</td>\n",
       "      <td>NaN</td>\n",
       "    </tr>\n",
       "    <tr>\n",
       "      <th>272</th>\n",
       "      <td>binary_classification</td>\n",
       "      <td>medium_productions</td>\n",
       "      <td>True</td>\n",
       "      <td>complex</td>\n",
       "      <td>decision_tree_classifier</td>\n",
       "      <td>RobustScaler</td>\n",
       "      <td>0.079764</td>\n",
       "      <td>None</td>\n",
       "      <td>NaN</td>\n",
       "      <td>NaN</td>\n",
       "      <td>NaN</td>\n",
       "      <td>NaN</td>\n",
       "      <td>NaN</td>\n",
       "    </tr>\n",
       "    <tr>\n",
       "      <th>...</th>\n",
       "      <td>...</td>\n",
       "      <td>...</td>\n",
       "      <td>...</td>\n",
       "      <td>...</td>\n",
       "      <td>...</td>\n",
       "      <td>...</td>\n",
       "      <td>...</td>\n",
       "      <td>...</td>\n",
       "      <td>...</td>\n",
       "      <td>...</td>\n",
       "      <td>...</td>\n",
       "      <td>...</td>\n",
       "      <td>...</td>\n",
       "    </tr>\n",
       "    <tr>\n",
       "      <th>38</th>\n",
       "      <td>multi_class_classification</td>\n",
       "      <td>large_productions</td>\n",
       "      <td>True</td>\n",
       "      <td>complex</td>\n",
       "      <td>xgboost_classifier</td>\n",
       "      <td>RobustScaler</td>\n",
       "      <td>0.066180</td>\n",
       "      <td>None</td>\n",
       "      <td>NaN</td>\n",
       "      <td>NaN</td>\n",
       "      <td>NaN</td>\n",
       "      <td>NaN</td>\n",
       "      <td>829.0</td>\n",
       "    </tr>\n",
       "    <tr>\n",
       "      <th>3154</th>\n",
       "      <td>multi_class_classification</td>\n",
       "      <td>small_productions</td>\n",
       "      <td>False</td>\n",
       "      <td>complex</td>\n",
       "      <td>xgboost_classifier</td>\n",
       "      <td>RobustScaler</td>\n",
       "      <td>0.018735</td>\n",
       "      <td>NaN</td>\n",
       "      <td>NaN</td>\n",
       "      <td>NaN</td>\n",
       "      <td>NaN</td>\n",
       "      <td>NaN</td>\n",
       "      <td>737.0</td>\n",
       "    </tr>\n",
       "    <tr>\n",
       "      <th>2130</th>\n",
       "      <td>regression</td>\n",
       "      <td>large_productions</td>\n",
       "      <td>False</td>\n",
       "      <td>complex</td>\n",
       "      <td>xgboost_regressor</td>\n",
       "      <td>RobustScaler</td>\n",
       "      <td>0.027866</td>\n",
       "      <td>NaN</td>\n",
       "      <td>NaN</td>\n",
       "      <td>NaN</td>\n",
       "      <td>NaN</td>\n",
       "      <td>NaN</td>\n",
       "      <td>1807.0</td>\n",
       "    </tr>\n",
       "    <tr>\n",
       "      <th>2887</th>\n",
       "      <td>regression</td>\n",
       "      <td>small_productions</td>\n",
       "      <td>False</td>\n",
       "      <td>none</td>\n",
       "      <td>xgboost_regressor</td>\n",
       "      <td>MinMaxScaler</td>\n",
       "      <td>0.081791</td>\n",
       "      <td>NaN</td>\n",
       "      <td>NaN</td>\n",
       "      <td>NaN</td>\n",
       "      <td>NaN</td>\n",
       "      <td>NaN</td>\n",
       "      <td>1981.0</td>\n",
       "    </tr>\n",
       "    <tr>\n",
       "      <th>2682</th>\n",
       "      <td>regression</td>\n",
       "      <td>small_productions</td>\n",
       "      <td>True</td>\n",
       "      <td>none</td>\n",
       "      <td>xgboost_regressor</td>\n",
       "      <td>StandardScaler</td>\n",
       "      <td>0.169734</td>\n",
       "      <td>NaN</td>\n",
       "      <td>NaN</td>\n",
       "      <td>NaN</td>\n",
       "      <td>NaN</td>\n",
       "      <td>NaN</td>\n",
       "      <td>834.0</td>\n",
       "    </tr>\n",
       "  </tbody>\n",
       "</table>\n",
       "<p>67 rows × 13 columns</p>\n",
       "</div>"
      ],
      "text/plain": [
       "                    problem_type        dataset_name  has_outliers_removed  \\\n",
       "578        binary_classification                full                  True   \n",
       "2654       binary_classification                full                  True   \n",
       "1392       binary_classification   large_productions                 False   \n",
       "2093       binary_classification   large_productions                 False   \n",
       "272        binary_classification  medium_productions                  True   \n",
       "...                          ...                 ...                   ...   \n",
       "38    multi_class_classification   large_productions                  True   \n",
       "3154  multi_class_classification   small_productions                 False   \n",
       "2130                  regression   large_productions                 False   \n",
       "2887                  regression   small_productions                 False   \n",
       "2682                  regression   small_productions                  True   \n",
       "\n",
       "     feature_engineering                model_type          scaler  \\\n",
       "578                 none  decision_tree_classifier    RobustScaler   \n",
       "2654             complex  decision_tree_classifier    MinMaxScaler   \n",
       "1392             complex  decision_tree_classifier    MinMaxScaler   \n",
       "2093                none  decision_tree_classifier    RobustScaler   \n",
       "272              complex  decision_tree_classifier    RobustScaler   \n",
       "...                  ...                       ...             ...   \n",
       "38               complex        xgboost_classifier    RobustScaler   \n",
       "3154             complex        xgboost_classifier    RobustScaler   \n",
       "2130             complex         xgboost_regressor    RobustScaler   \n",
       "2887                none         xgboost_regressor    MinMaxScaler   \n",
       "2682                none         xgboost_regressor  StandardScaler   \n",
       "\n",
       "      variance_threshold class_weight   C  min_child_samples solver  \\\n",
       "578             0.074404     balanced NaN                NaN    NaN   \n",
       "2654            0.083302     balanced NaN                NaN    NaN   \n",
       "1392            0.011639     balanced NaN                NaN    NaN   \n",
       "2093            0.074404     balanced NaN                NaN    NaN   \n",
       "272             0.079764         None NaN                NaN    NaN   \n",
       "...                  ...          ...  ..                ...    ...   \n",
       "38              0.066180         None NaN                NaN    NaN   \n",
       "3154            0.018735          NaN NaN                NaN    NaN   \n",
       "2130            0.027866          NaN NaN                NaN    NaN   \n",
       "2887            0.081791          NaN NaN                NaN    NaN   \n",
       "2682            0.169734          NaN NaN                NaN    NaN   \n",
       "\n",
       "      num_leaves  n_estimators  \n",
       "578          NaN           NaN  \n",
       "2654         NaN           NaN  \n",
       "1392         NaN           NaN  \n",
       "2093         NaN           NaN  \n",
       "272          NaN           NaN  \n",
       "...          ...           ...  \n",
       "38           NaN         829.0  \n",
       "3154         NaN         737.0  \n",
       "2130         NaN        1807.0  \n",
       "2887         NaN        1981.0  \n",
       "2682         NaN         834.0  \n",
       "\n",
       "[67 rows x 13 columns]"
      ]
     },
     "execution_count": 30,
     "metadata": {},
     "output_type": "execute_result"
    }
   ],
   "source": [
    "parameters_df[['problem_type', 'dataset_name', 'has_outliers_removed', 'feature_engineering', 'model_type', 'scaler','variance_threshold','class_weight','C','min_child_samples','solver','num_leaves','n_estimators']].sort_values(by=['model_type','problem_type','dataset_name','has_outliers_removed'])"
   ]
  },
  {
   "cell_type": "code",
   "execution_count": 31,
   "metadata": {},
   "outputs": [
    {
     "data": {
      "text/html": [
       "<div>\n",
       "<style scoped>\n",
       "    .dataframe tbody tr th:only-of-type {\n",
       "        vertical-align: middle;\n",
       "    }\n",
       "\n",
       "    .dataframe tbody tr th {\n",
       "        vertical-align: top;\n",
       "    }\n",
       "\n",
       "    .dataframe thead th {\n",
       "        text-align: right;\n",
       "    }\n",
       "</style>\n",
       "<table border=\"1\" class=\"dataframe\">\n",
       "  <thead>\n",
       "    <tr style=\"text-align: right;\">\n",
       "      <th></th>\n",
       "      <th>timestamp</th>\n",
       "      <th>problem_type</th>\n",
       "      <th>dataset_name</th>\n",
       "      <th>has_outliers_removed</th>\n",
       "      <th>feature_engineering</th>\n",
       "      <th>model_type</th>\n",
       "      <th>scaler</th>\n",
       "      <th>variance_threshold</th>\n",
       "      <th>n_estimators</th>\n",
       "      <th>max_depth</th>\n",
       "      <th>learning_rate</th>\n",
       "      <th>num_leaves</th>\n",
       "      <th>min_child_samples</th>\n",
       "    </tr>\n",
       "  </thead>\n",
       "  <tbody>\n",
       "    <tr>\n",
       "      <th>2130</th>\n",
       "      <td>2024-08-07 03:05:29</td>\n",
       "      <td>regression</td>\n",
       "      <td>large_productions</td>\n",
       "      <td>False</td>\n",
       "      <td>complex</td>\n",
       "      <td>xgboost_regressor</td>\n",
       "      <td>RobustScaler</td>\n",
       "      <td>0.027866</td>\n",
       "      <td>1807.0</td>\n",
       "      <td>5.0</td>\n",
       "      <td>0.063871</td>\n",
       "      <td>NaN</td>\n",
       "      <td>NaN</td>\n",
       "    </tr>\n",
       "    <tr>\n",
       "      <th>2682</th>\n",
       "      <td>2024-08-07 07:06:05</td>\n",
       "      <td>regression</td>\n",
       "      <td>small_productions</td>\n",
       "      <td>True</td>\n",
       "      <td>none</td>\n",
       "      <td>xgboost_regressor</td>\n",
       "      <td>StandardScaler</td>\n",
       "      <td>0.169734</td>\n",
       "      <td>834.0</td>\n",
       "      <td>27.0</td>\n",
       "      <td>0.060058</td>\n",
       "      <td>NaN</td>\n",
       "      <td>NaN</td>\n",
       "    </tr>\n",
       "    <tr>\n",
       "      <th>2887</th>\n",
       "      <td>2024-08-07 01:07:58</td>\n",
       "      <td>regression</td>\n",
       "      <td>small_productions</td>\n",
       "      <td>False</td>\n",
       "      <td>none</td>\n",
       "      <td>xgboost_regressor</td>\n",
       "      <td>MinMaxScaler</td>\n",
       "      <td>0.081791</td>\n",
       "      <td>1981.0</td>\n",
       "      <td>10.0</td>\n",
       "      <td>0.017175</td>\n",
       "      <td>NaN</td>\n",
       "      <td>NaN</td>\n",
       "    </tr>\n",
       "  </tbody>\n",
       "</table>\n",
       "</div>"
      ],
      "text/plain": [
       "               timestamp problem_type       dataset_name  \\\n",
       "2130 2024-08-07 03:05:29   regression  large_productions   \n",
       "2682 2024-08-07 07:06:05   regression  small_productions   \n",
       "2887 2024-08-07 01:07:58   regression  small_productions   \n",
       "\n",
       "      has_outliers_removed feature_engineering         model_type  \\\n",
       "2130                 False             complex  xgboost_regressor   \n",
       "2682                  True                none  xgboost_regressor   \n",
       "2887                 False                none  xgboost_regressor   \n",
       "\n",
       "              scaler  variance_threshold  n_estimators  max_depth  \\\n",
       "2130    RobustScaler            0.027866        1807.0        5.0   \n",
       "2682  StandardScaler            0.169734         834.0       27.0   \n",
       "2887    MinMaxScaler            0.081791        1981.0       10.0   \n",
       "\n",
       "      learning_rate  num_leaves  min_child_samples  \n",
       "2130       0.063871         NaN                NaN  \n",
       "2682       0.060058         NaN                NaN  \n",
       "2887       0.017175         NaN                NaN  "
      ]
     },
     "execution_count": 31,
     "metadata": {},
     "output_type": "execute_result"
    }
   ],
   "source": [
    "parameters_df[parameters_df['model_type'] == 'xgboost_regressor'][['timestamp','problem_type', 'dataset_name', 'has_outliers_removed', 'feature_engineering', 'model_type', 'scaler','variance_threshold', 'n_estimators', 'max_depth', 'learning_rate', 'num_leaves', 'min_child_samples']]"
   ]
  },
  {
   "cell_type": "code",
   "execution_count": 32,
   "metadata": {},
   "outputs": [
    {
     "data": {
      "text/html": [
       "<div>\n",
       "<style scoped>\n",
       "    .dataframe tbody tr th:only-of-type {\n",
       "        vertical-align: middle;\n",
       "    }\n",
       "\n",
       "    .dataframe tbody tr th {\n",
       "        vertical-align: top;\n",
       "    }\n",
       "\n",
       "    .dataframe thead th {\n",
       "        text-align: right;\n",
       "    }\n",
       "</style>\n",
       "<table border=\"1\" class=\"dataframe\">\n",
       "  <thead>\n",
       "    <tr style=\"text-align: right;\">\n",
       "      <th></th>\n",
       "      <th>timestamp</th>\n",
       "      <th>problem_type</th>\n",
       "      <th>dataset_name</th>\n",
       "      <th>has_outliers_removed</th>\n",
       "      <th>feature_engineering</th>\n",
       "      <th>model_type</th>\n",
       "      <th>scaler</th>\n",
       "      <th>variance_threshold</th>\n",
       "      <th>n_estimators</th>\n",
       "      <th>max_depth</th>\n",
       "      <th>learning_rate</th>\n",
       "      <th>num_leaves</th>\n",
       "      <th>min_child_samples</th>\n",
       "    </tr>\n",
       "  </thead>\n",
       "  <tbody>\n",
       "    <tr>\n",
       "      <th>1169</th>\n",
       "      <td>2024-08-07 01:59:40</td>\n",
       "      <td>regression</td>\n",
       "      <td>small_productions</td>\n",
       "      <td>False</td>\n",
       "      <td>none</td>\n",
       "      <td>lightgbm_regressor</td>\n",
       "      <td>MinMaxScaler</td>\n",
       "      <td>0.126461</td>\n",
       "      <td>329.0</td>\n",
       "      <td>7.0</td>\n",
       "      <td>0.049432</td>\n",
       "      <td>84.0</td>\n",
       "      <td>20.0</td>\n",
       "    </tr>\n",
       "    <tr>\n",
       "      <th>1840</th>\n",
       "      <td>2024-08-07 03:50:28</td>\n",
       "      <td>regression</td>\n",
       "      <td>large_productions</td>\n",
       "      <td>False</td>\n",
       "      <td>complex</td>\n",
       "      <td>lightgbm_regressor</td>\n",
       "      <td>MinMaxScaler</td>\n",
       "      <td>0.006878</td>\n",
       "      <td>558.0</td>\n",
       "      <td>13.0</td>\n",
       "      <td>0.137653</td>\n",
       "      <td>23.0</td>\n",
       "      <td>20.0</td>\n",
       "    </tr>\n",
       "    <tr>\n",
       "      <th>2045</th>\n",
       "      <td>2024-08-07 07:34:10</td>\n",
       "      <td>regression</td>\n",
       "      <td>small_productions</td>\n",
       "      <td>True</td>\n",
       "      <td>none</td>\n",
       "      <td>lightgbm_regressor</td>\n",
       "      <td>MinMaxScaler</td>\n",
       "      <td>0.122371</td>\n",
       "      <td>1634.0</td>\n",
       "      <td>26.0</td>\n",
       "      <td>0.002413</td>\n",
       "      <td>234.0</td>\n",
       "      <td>20.0</td>\n",
       "    </tr>\n",
       "  </tbody>\n",
       "</table>\n",
       "</div>"
      ],
      "text/plain": [
       "               timestamp problem_type       dataset_name  \\\n",
       "1169 2024-08-07 01:59:40   regression  small_productions   \n",
       "1840 2024-08-07 03:50:28   regression  large_productions   \n",
       "2045 2024-08-07 07:34:10   regression  small_productions   \n",
       "\n",
       "      has_outliers_removed feature_engineering          model_type  \\\n",
       "1169                 False                none  lightgbm_regressor   \n",
       "1840                 False             complex  lightgbm_regressor   \n",
       "2045                  True                none  lightgbm_regressor   \n",
       "\n",
       "            scaler  variance_threshold  n_estimators  max_depth  \\\n",
       "1169  MinMaxScaler            0.126461         329.0        7.0   \n",
       "1840  MinMaxScaler            0.006878         558.0       13.0   \n",
       "2045  MinMaxScaler            0.122371        1634.0       26.0   \n",
       "\n",
       "      learning_rate  num_leaves  min_child_samples  \n",
       "1169       0.049432        84.0               20.0  \n",
       "1840       0.137653        23.0               20.0  \n",
       "2045       0.002413       234.0               20.0  "
      ]
     },
     "execution_count": 32,
     "metadata": {},
     "output_type": "execute_result"
    }
   ],
   "source": [
    "parameters_df[parameters_df['model_type'] == 'lightgbm_regressor'][['timestamp','problem_type', 'dataset_name', 'has_outliers_removed', 'feature_engineering', 'model_type', 'scaler','variance_threshold', 'n_estimators', 'max_depth', 'learning_rate', 'num_leaves', 'min_child_samples']]"
   ]
  },
  {
   "cell_type": "code",
   "execution_count": 33,
   "metadata": {},
   "outputs": [
    {
     "data": {
      "text/html": [
       "<div>\n",
       "<style scoped>\n",
       "    .dataframe tbody tr th:only-of-type {\n",
       "        vertical-align: middle;\n",
       "    }\n",
       "\n",
       "    .dataframe tbody tr th {\n",
       "        vertical-align: top;\n",
       "    }\n",
       "\n",
       "    .dataframe thead th {\n",
       "        text-align: right;\n",
       "    }\n",
       "</style>\n",
       "<table border=\"1\" class=\"dataframe\">\n",
       "  <thead>\n",
       "    <tr style=\"text-align: right;\">\n",
       "      <th></th>\n",
       "      <th>problem_type</th>\n",
       "      <th>dataset_name</th>\n",
       "      <th>has_outliers_removed</th>\n",
       "      <th>feature_engineering</th>\n",
       "      <th>n_estimators</th>\n",
       "      <th>max_depth</th>\n",
       "      <th>learning_rate</th>\n",
       "      <th>variance_threshold</th>\n",
       "      <th>class_weight</th>\n",
       "    </tr>\n",
       "  </thead>\n",
       "  <tbody>\n",
       "    <tr>\n",
       "      <th>138</th>\n",
       "      <td>binary_classification</td>\n",
       "      <td>full</td>\n",
       "      <td>True</td>\n",
       "      <td>complex</td>\n",
       "      <td>385.0</td>\n",
       "      <td>25.0</td>\n",
       "      <td>0.033587</td>\n",
       "      <td>0.005302</td>\n",
       "      <td>balanced</td>\n",
       "    </tr>\n",
       "    <tr>\n",
       "      <th>153</th>\n",
       "      <td>binary_classification</td>\n",
       "      <td>full</td>\n",
       "      <td>True</td>\n",
       "      <td>complex</td>\n",
       "      <td>NaN</td>\n",
       "      <td>NaN</td>\n",
       "      <td>NaN</td>\n",
       "      <td>0.045710</td>\n",
       "      <td>NaN</td>\n",
       "    </tr>\n",
       "    <tr>\n",
       "      <th>323</th>\n",
       "      <td>binary_classification</td>\n",
       "      <td>full</td>\n",
       "      <td>True</td>\n",
       "      <td>none</td>\n",
       "      <td>251.0</td>\n",
       "      <td>3.0</td>\n",
       "      <td>0.156027</td>\n",
       "      <td>0.178965</td>\n",
       "      <td>None</td>\n",
       "    </tr>\n",
       "    <tr>\n",
       "      <th>578</th>\n",
       "      <td>binary_classification</td>\n",
       "      <td>full</td>\n",
       "      <td>True</td>\n",
       "      <td>none</td>\n",
       "      <td>NaN</td>\n",
       "      <td>4.0</td>\n",
       "      <td>NaN</td>\n",
       "      <td>0.074404</td>\n",
       "      <td>balanced</td>\n",
       "    </tr>\n",
       "    <tr>\n",
       "      <th>626</th>\n",
       "      <td>binary_classification</td>\n",
       "      <td>full</td>\n",
       "      <td>True</td>\n",
       "      <td>complex</td>\n",
       "      <td>NaN</td>\n",
       "      <td>NaN</td>\n",
       "      <td>NaN</td>\n",
       "      <td>0.047197</td>\n",
       "      <td>balanced</td>\n",
       "    </tr>\n",
       "    <tr>\n",
       "      <th>...</th>\n",
       "      <td>...</td>\n",
       "      <td>...</td>\n",
       "      <td>...</td>\n",
       "      <td>...</td>\n",
       "      <td>...</td>\n",
       "      <td>...</td>\n",
       "      <td>...</td>\n",
       "      <td>...</td>\n",
       "      <td>...</td>\n",
       "    </tr>\n",
       "    <tr>\n",
       "      <th>1540</th>\n",
       "      <td>regression</td>\n",
       "      <td>small_productions</td>\n",
       "      <td>True</td>\n",
       "      <td>none</td>\n",
       "      <td>1837.0</td>\n",
       "      <td>4.0</td>\n",
       "      <td>NaN</td>\n",
       "      <td>0.034991</td>\n",
       "      <td>NaN</td>\n",
       "    </tr>\n",
       "    <tr>\n",
       "      <th>2045</th>\n",
       "      <td>regression</td>\n",
       "      <td>small_productions</td>\n",
       "      <td>True</td>\n",
       "      <td>none</td>\n",
       "      <td>1634.0</td>\n",
       "      <td>26.0</td>\n",
       "      <td>0.002413</td>\n",
       "      <td>0.122371</td>\n",
       "      <td>None</td>\n",
       "    </tr>\n",
       "    <tr>\n",
       "      <th>2192</th>\n",
       "      <td>regression</td>\n",
       "      <td>small_productions</td>\n",
       "      <td>True</td>\n",
       "      <td>none</td>\n",
       "      <td>NaN</td>\n",
       "      <td>NaN</td>\n",
       "      <td>NaN</td>\n",
       "      <td>0.159309</td>\n",
       "      <td>NaN</td>\n",
       "    </tr>\n",
       "    <tr>\n",
       "      <th>2682</th>\n",
       "      <td>regression</td>\n",
       "      <td>small_productions</td>\n",
       "      <td>True</td>\n",
       "      <td>none</td>\n",
       "      <td>834.0</td>\n",
       "      <td>27.0</td>\n",
       "      <td>0.060058</td>\n",
       "      <td>0.169734</td>\n",
       "      <td>NaN</td>\n",
       "    </tr>\n",
       "    <tr>\n",
       "      <th>2899</th>\n",
       "      <td>regression</td>\n",
       "      <td>small_productions</td>\n",
       "      <td>True</td>\n",
       "      <td>none</td>\n",
       "      <td>NaN</td>\n",
       "      <td>18.0</td>\n",
       "      <td>NaN</td>\n",
       "      <td>0.093989</td>\n",
       "      <td>NaN</td>\n",
       "    </tr>\n",
       "  </tbody>\n",
       "</table>\n",
       "<p>67 rows × 9 columns</p>\n",
       "</div>"
      ],
      "text/plain": [
       "               problem_type       dataset_name  has_outliers_removed  \\\n",
       "138   binary_classification               full                  True   \n",
       "153   binary_classification               full                  True   \n",
       "323   binary_classification               full                  True   \n",
       "578   binary_classification               full                  True   \n",
       "626   binary_classification               full                  True   \n",
       "...                     ...                ...                   ...   \n",
       "1540             regression  small_productions                  True   \n",
       "2045             regression  small_productions                  True   \n",
       "2192             regression  small_productions                  True   \n",
       "2682             regression  small_productions                  True   \n",
       "2899             regression  small_productions                  True   \n",
       "\n",
       "     feature_engineering  n_estimators  max_depth  learning_rate  \\\n",
       "138              complex         385.0       25.0       0.033587   \n",
       "153              complex           NaN        NaN            NaN   \n",
       "323                 none         251.0        3.0       0.156027   \n",
       "578                 none           NaN        4.0            NaN   \n",
       "626              complex           NaN        NaN            NaN   \n",
       "...                  ...           ...        ...            ...   \n",
       "1540                none        1837.0        4.0            NaN   \n",
       "2045                none        1634.0       26.0       0.002413   \n",
       "2192                none           NaN        NaN            NaN   \n",
       "2682                none         834.0       27.0       0.060058   \n",
       "2899                none           NaN       18.0            NaN   \n",
       "\n",
       "      variance_threshold class_weight  \n",
       "138             0.005302     balanced  \n",
       "153             0.045710          NaN  \n",
       "323             0.178965         None  \n",
       "578             0.074404     balanced  \n",
       "626             0.047197     balanced  \n",
       "...                  ...          ...  \n",
       "1540            0.034991          NaN  \n",
       "2045            0.122371         None  \n",
       "2192            0.159309          NaN  \n",
       "2682            0.169734          NaN  \n",
       "2899            0.093989          NaN  \n",
       "\n",
       "[67 rows x 9 columns]"
      ]
     },
     "execution_count": 33,
     "metadata": {},
     "output_type": "execute_result"
    }
   ],
   "source": [
    "parameters_df[['problem_type', 'dataset_name', 'has_outliers_removed', 'feature_engineering', 'n_estimators', 'max_depth', 'learning_rate', 'variance_threshold','class_weight']].sort_values(by=['problem_type','dataset_name','has_outliers_removed'])"
   ]
  },
  {
   "cell_type": "code",
   "execution_count": 34,
   "metadata": {},
   "outputs": [],
   "source": [
    "problem_types = ['regression', 'binary_classification']\n",
    "groupby_columns = ['dataset_name', 'has_outliers_removed', 'feature_engineering']\n",
    "metrics = {\n",
    "    'regression': {'metric': 'MAPE', 'operation': 'min'},\n",
    "    'binary_classification': {'metric': 'F1 Score', 'operation': 'max'}\n",
    "}\n",
    "display_columns = {\n",
    "    'regression': ['model_type', 'scaler', 'MAPE', 'Threshold Probability Accuracy', 'R2'],\n",
    "    'binary_classification': ['model_type', 'scaler', 'F1 Score']\n",
    "}\n",
    "\n",
    "best_models = select_best_models(\n",
    "    experiment_df,\n",
    "    problem_types,\n",
    "    groupby_columns,\n",
    "    metrics,\n",
    "    display_columns\n",
    ")\n",
    "\n",
    "# Access results\n",
    "result_reg = best_models['regression']\n",
    "result_class = best_models['binary_classification']"
   ]
  },
  {
   "cell_type": "code",
   "execution_count": 35,
   "metadata": {},
   "outputs": [
    {
     "name": "stdout",
     "output_type": "stream",
     "text": [
      "problem_type    dataset_name    has_outliers_removed feature_engineering        model_type           scaler       MAPE   Threshold Probability Accuracy  R2 \n",
      " regression  large_productions         False               complex       decision_tree_regressor   MinMaxScaler    1.97               0.21              0.49\n",
      " regression  small_productions         False                  none            lightgbm_regressor   MinMaxScaler 1034.07               0.11              0.28\n",
      " regression  small_productions          True                  none       random_forest_regressor StandardScaler    1.82               0.09              0.13\n",
      "     problem_type        dataset_name     has_outliers_removed feature_engineering        model_type            scaler      F1 Score\n",
      "binary_classification               full          True               complex            lightgbm_classifier   RobustScaler    0.66  \n",
      "binary_classification               full          True                  none            lightgbm_classifier StandardScaler    0.64  \n",
      "binary_classification  large_productions         False               complex            logistic_regression   MinMaxScaler    0.67  \n",
      "binary_classification  large_productions         False                  none       random_forest_classifier   MinMaxScaler    0.64  \n",
      "binary_classification medium_productions          True               complex            logistic_regression   MinMaxScaler    0.62  \n",
      "binary_classification medium_productions          True                  none             xgboost_classifier   MinMaxScaler    0.59  \n"
     ]
    }
   ],
   "source": [
    "print(result_reg.to_string(index=False, justify='center', float_format='%.2f', decimal='.'))\n",
    "print(result_class.to_string(index=False, justify='center', float_format='%.2f', decimal='.'))"
   ]
  },
  {
   "cell_type": "code",
   "execution_count": 36,
   "metadata": {},
   "outputs": [
    {
     "data": {
      "application/vnd.plotly.v1+json": {
       "config": {
        "plotlyServerURL": "https://plot.ly"
       },
       "data": [
        {
         "alignmentgroup": "True",
         "hovertemplate": "Outliers Removed=True<br>Feature Engineering Type=%{x}<br>F1 Score Value=%{text}<extra></extra>",
         "legendgroup": "True",
         "marker": {
          "color": "#FC8D62",
          "pattern": {
           "shape": ""
          }
         },
         "name": "True",
         "offsetgroup": "True",
         "orientation": "v",
         "showlegend": true,
         "text": [
          0.6633165829145728,
          0.6361829025844931
         ],
         "textposition": "outside",
         "texttemplate": "%{text:.2s}",
         "type": "bar",
         "x": [
          "complex",
          "none"
         ],
         "xaxis": "x",
         "y": [
          0.6633165829145728,
          0.6361829025844931
         ],
         "yaxis": "y"
        }
       ],
       "layout": {
        "bargap": 0.15,
        "barmode": "group",
        "font": {
         "color": "#333333",
         "family": "Arial",
         "size": 12
        },
        "legend": {
         "orientation": "h",
         "title": {
          "text": "Outliers Removed"
         },
         "tracegroupgap": 0,
         "x": 1,
         "xanchor": "right",
         "y": 1.02,
         "yanchor": "bottom"
        },
        "margin": {
         "b": 50,
         "l": 60,
         "r": 30,
         "t": 80
        },
        "plot_bgcolor": "white",
        "showlegend": true,
        "template": {
         "data": {
          "bar": [
           {
            "error_x": {
             "color": "#2a3f5f"
            },
            "error_y": {
             "color": "#2a3f5f"
            },
            "marker": {
             "line": {
              "color": "#E5ECF6",
              "width": 0.5
             },
             "pattern": {
              "fillmode": "overlay",
              "size": 10,
              "solidity": 0.2
             }
            },
            "type": "bar"
           }
          ],
          "barpolar": [
           {
            "marker": {
             "line": {
              "color": "#E5ECF6",
              "width": 0.5
             },
             "pattern": {
              "fillmode": "overlay",
              "size": 10,
              "solidity": 0.2
             }
            },
            "type": "barpolar"
           }
          ],
          "carpet": [
           {
            "aaxis": {
             "endlinecolor": "#2a3f5f",
             "gridcolor": "white",
             "linecolor": "white",
             "minorgridcolor": "white",
             "startlinecolor": "#2a3f5f"
            },
            "baxis": {
             "endlinecolor": "#2a3f5f",
             "gridcolor": "white",
             "linecolor": "white",
             "minorgridcolor": "white",
             "startlinecolor": "#2a3f5f"
            },
            "type": "carpet"
           }
          ],
          "choropleth": [
           {
            "colorbar": {
             "outlinewidth": 0,
             "ticks": ""
            },
            "type": "choropleth"
           }
          ],
          "contour": [
           {
            "colorbar": {
             "outlinewidth": 0,
             "ticks": ""
            },
            "colorscale": [
             [
              0,
              "#0d0887"
             ],
             [
              0.1111111111111111,
              "#46039f"
             ],
             [
              0.2222222222222222,
              "#7201a8"
             ],
             [
              0.3333333333333333,
              "#9c179e"
             ],
             [
              0.4444444444444444,
              "#bd3786"
             ],
             [
              0.5555555555555556,
              "#d8576b"
             ],
             [
              0.6666666666666666,
              "#ed7953"
             ],
             [
              0.7777777777777778,
              "#fb9f3a"
             ],
             [
              0.8888888888888888,
              "#fdca26"
             ],
             [
              1,
              "#f0f921"
             ]
            ],
            "type": "contour"
           }
          ],
          "contourcarpet": [
           {
            "colorbar": {
             "outlinewidth": 0,
             "ticks": ""
            },
            "type": "contourcarpet"
           }
          ],
          "heatmap": [
           {
            "colorbar": {
             "outlinewidth": 0,
             "ticks": ""
            },
            "colorscale": [
             [
              0,
              "#0d0887"
             ],
             [
              0.1111111111111111,
              "#46039f"
             ],
             [
              0.2222222222222222,
              "#7201a8"
             ],
             [
              0.3333333333333333,
              "#9c179e"
             ],
             [
              0.4444444444444444,
              "#bd3786"
             ],
             [
              0.5555555555555556,
              "#d8576b"
             ],
             [
              0.6666666666666666,
              "#ed7953"
             ],
             [
              0.7777777777777778,
              "#fb9f3a"
             ],
             [
              0.8888888888888888,
              "#fdca26"
             ],
             [
              1,
              "#f0f921"
             ]
            ],
            "type": "heatmap"
           }
          ],
          "heatmapgl": [
           {
            "colorbar": {
             "outlinewidth": 0,
             "ticks": ""
            },
            "colorscale": [
             [
              0,
              "#0d0887"
             ],
             [
              0.1111111111111111,
              "#46039f"
             ],
             [
              0.2222222222222222,
              "#7201a8"
             ],
             [
              0.3333333333333333,
              "#9c179e"
             ],
             [
              0.4444444444444444,
              "#bd3786"
             ],
             [
              0.5555555555555556,
              "#d8576b"
             ],
             [
              0.6666666666666666,
              "#ed7953"
             ],
             [
              0.7777777777777778,
              "#fb9f3a"
             ],
             [
              0.8888888888888888,
              "#fdca26"
             ],
             [
              1,
              "#f0f921"
             ]
            ],
            "type": "heatmapgl"
           }
          ],
          "histogram": [
           {
            "marker": {
             "pattern": {
              "fillmode": "overlay",
              "size": 10,
              "solidity": 0.2
             }
            },
            "type": "histogram"
           }
          ],
          "histogram2d": [
           {
            "colorbar": {
             "outlinewidth": 0,
             "ticks": ""
            },
            "colorscale": [
             [
              0,
              "#0d0887"
             ],
             [
              0.1111111111111111,
              "#46039f"
             ],
             [
              0.2222222222222222,
              "#7201a8"
             ],
             [
              0.3333333333333333,
              "#9c179e"
             ],
             [
              0.4444444444444444,
              "#bd3786"
             ],
             [
              0.5555555555555556,
              "#d8576b"
             ],
             [
              0.6666666666666666,
              "#ed7953"
             ],
             [
              0.7777777777777778,
              "#fb9f3a"
             ],
             [
              0.8888888888888888,
              "#fdca26"
             ],
             [
              1,
              "#f0f921"
             ]
            ],
            "type": "histogram2d"
           }
          ],
          "histogram2dcontour": [
           {
            "colorbar": {
             "outlinewidth": 0,
             "ticks": ""
            },
            "colorscale": [
             [
              0,
              "#0d0887"
             ],
             [
              0.1111111111111111,
              "#46039f"
             ],
             [
              0.2222222222222222,
              "#7201a8"
             ],
             [
              0.3333333333333333,
              "#9c179e"
             ],
             [
              0.4444444444444444,
              "#bd3786"
             ],
             [
              0.5555555555555556,
              "#d8576b"
             ],
             [
              0.6666666666666666,
              "#ed7953"
             ],
             [
              0.7777777777777778,
              "#fb9f3a"
             ],
             [
              0.8888888888888888,
              "#fdca26"
             ],
             [
              1,
              "#f0f921"
             ]
            ],
            "type": "histogram2dcontour"
           }
          ],
          "mesh3d": [
           {
            "colorbar": {
             "outlinewidth": 0,
             "ticks": ""
            },
            "type": "mesh3d"
           }
          ],
          "parcoords": [
           {
            "line": {
             "colorbar": {
              "outlinewidth": 0,
              "ticks": ""
             }
            },
            "type": "parcoords"
           }
          ],
          "pie": [
           {
            "automargin": true,
            "type": "pie"
           }
          ],
          "scatter": [
           {
            "fillpattern": {
             "fillmode": "overlay",
             "size": 10,
             "solidity": 0.2
            },
            "type": "scatter"
           }
          ],
          "scatter3d": [
           {
            "line": {
             "colorbar": {
              "outlinewidth": 0,
              "ticks": ""
             }
            },
            "marker": {
             "colorbar": {
              "outlinewidth": 0,
              "ticks": ""
             }
            },
            "type": "scatter3d"
           }
          ],
          "scattercarpet": [
           {
            "marker": {
             "colorbar": {
              "outlinewidth": 0,
              "ticks": ""
             }
            },
            "type": "scattercarpet"
           }
          ],
          "scattergeo": [
           {
            "marker": {
             "colorbar": {
              "outlinewidth": 0,
              "ticks": ""
             }
            },
            "type": "scattergeo"
           }
          ],
          "scattergl": [
           {
            "marker": {
             "colorbar": {
              "outlinewidth": 0,
              "ticks": ""
             }
            },
            "type": "scattergl"
           }
          ],
          "scattermapbox": [
           {
            "marker": {
             "colorbar": {
              "outlinewidth": 0,
              "ticks": ""
             }
            },
            "type": "scattermapbox"
           }
          ],
          "scatterpolar": [
           {
            "marker": {
             "colorbar": {
              "outlinewidth": 0,
              "ticks": ""
             }
            },
            "type": "scatterpolar"
           }
          ],
          "scatterpolargl": [
           {
            "marker": {
             "colorbar": {
              "outlinewidth": 0,
              "ticks": ""
             }
            },
            "type": "scatterpolargl"
           }
          ],
          "scatterternary": [
           {
            "marker": {
             "colorbar": {
              "outlinewidth": 0,
              "ticks": ""
             }
            },
            "type": "scatterternary"
           }
          ],
          "surface": [
           {
            "colorbar": {
             "outlinewidth": 0,
             "ticks": ""
            },
            "colorscale": [
             [
              0,
              "#0d0887"
             ],
             [
              0.1111111111111111,
              "#46039f"
             ],
             [
              0.2222222222222222,
              "#7201a8"
             ],
             [
              0.3333333333333333,
              "#9c179e"
             ],
             [
              0.4444444444444444,
              "#bd3786"
             ],
             [
              0.5555555555555556,
              "#d8576b"
             ],
             [
              0.6666666666666666,
              "#ed7953"
             ],
             [
              0.7777777777777778,
              "#fb9f3a"
             ],
             [
              0.8888888888888888,
              "#fdca26"
             ],
             [
              1,
              "#f0f921"
             ]
            ],
            "type": "surface"
           }
          ],
          "table": [
           {
            "cells": {
             "fill": {
              "color": "#EBF0F8"
             },
             "line": {
              "color": "white"
             }
            },
            "header": {
             "fill": {
              "color": "#C8D4E3"
             },
             "line": {
              "color": "white"
             }
            },
            "type": "table"
           }
          ]
         },
         "layout": {
          "annotationdefaults": {
           "arrowcolor": "#2a3f5f",
           "arrowhead": 0,
           "arrowwidth": 1
          },
          "autotypenumbers": "strict",
          "coloraxis": {
           "colorbar": {
            "outlinewidth": 0,
            "ticks": ""
           }
          },
          "colorscale": {
           "diverging": [
            [
             0,
             "#8e0152"
            ],
            [
             0.1,
             "#c51b7d"
            ],
            [
             0.2,
             "#de77ae"
            ],
            [
             0.3,
             "#f1b6da"
            ],
            [
             0.4,
             "#fde0ef"
            ],
            [
             0.5,
             "#f7f7f7"
            ],
            [
             0.6,
             "#e6f5d0"
            ],
            [
             0.7,
             "#b8e186"
            ],
            [
             0.8,
             "#7fbc41"
            ],
            [
             0.9,
             "#4d9221"
            ],
            [
             1,
             "#276419"
            ]
           ],
           "sequential": [
            [
             0,
             "#0d0887"
            ],
            [
             0.1111111111111111,
             "#46039f"
            ],
            [
             0.2222222222222222,
             "#7201a8"
            ],
            [
             0.3333333333333333,
             "#9c179e"
            ],
            [
             0.4444444444444444,
             "#bd3786"
            ],
            [
             0.5555555555555556,
             "#d8576b"
            ],
            [
             0.6666666666666666,
             "#ed7953"
            ],
            [
             0.7777777777777778,
             "#fb9f3a"
            ],
            [
             0.8888888888888888,
             "#fdca26"
            ],
            [
             1,
             "#f0f921"
            ]
           ],
           "sequentialminus": [
            [
             0,
             "#0d0887"
            ],
            [
             0.1111111111111111,
             "#46039f"
            ],
            [
             0.2222222222222222,
             "#7201a8"
            ],
            [
             0.3333333333333333,
             "#9c179e"
            ],
            [
             0.4444444444444444,
             "#bd3786"
            ],
            [
             0.5555555555555556,
             "#d8576b"
            ],
            [
             0.6666666666666666,
             "#ed7953"
            ],
            [
             0.7777777777777778,
             "#fb9f3a"
            ],
            [
             0.8888888888888888,
             "#fdca26"
            ],
            [
             1,
             "#f0f921"
            ]
           ]
          },
          "colorway": [
           "#636efa",
           "#EF553B",
           "#00cc96",
           "#ab63fa",
           "#FFA15A",
           "#19d3f3",
           "#FF6692",
           "#B6E880",
           "#FF97FF",
           "#FECB52"
          ],
          "font": {
           "color": "#2a3f5f"
          },
          "geo": {
           "bgcolor": "white",
           "lakecolor": "white",
           "landcolor": "#E5ECF6",
           "showlakes": true,
           "showland": true,
           "subunitcolor": "white"
          },
          "hoverlabel": {
           "align": "left"
          },
          "hovermode": "closest",
          "mapbox": {
           "style": "light"
          },
          "paper_bgcolor": "white",
          "plot_bgcolor": "#E5ECF6",
          "polar": {
           "angularaxis": {
            "gridcolor": "white",
            "linecolor": "white",
            "ticks": ""
           },
           "bgcolor": "#E5ECF6",
           "radialaxis": {
            "gridcolor": "white",
            "linecolor": "white",
            "ticks": ""
           }
          },
          "scene": {
           "xaxis": {
            "backgroundcolor": "#E5ECF6",
            "gridcolor": "white",
            "gridwidth": 2,
            "linecolor": "white",
            "showbackground": true,
            "ticks": "",
            "zerolinecolor": "white"
           },
           "yaxis": {
            "backgroundcolor": "#E5ECF6",
            "gridcolor": "white",
            "gridwidth": 2,
            "linecolor": "white",
            "showbackground": true,
            "ticks": "",
            "zerolinecolor": "white"
           },
           "zaxis": {
            "backgroundcolor": "#E5ECF6",
            "gridcolor": "white",
            "gridwidth": 2,
            "linecolor": "white",
            "showbackground": true,
            "ticks": "",
            "zerolinecolor": "white"
           }
          },
          "shapedefaults": {
           "line": {
            "color": "#2a3f5f"
           }
          },
          "ternary": {
           "aaxis": {
            "gridcolor": "white",
            "linecolor": "white",
            "ticks": ""
           },
           "baxis": {
            "gridcolor": "white",
            "linecolor": "white",
            "ticks": ""
           },
           "bgcolor": "#E5ECF6",
           "caxis": {
            "gridcolor": "white",
            "linecolor": "white",
            "ticks": ""
           }
          },
          "title": {
           "x": 0.05
          },
          "xaxis": {
           "automargin": true,
           "gridcolor": "white",
           "linecolor": "white",
           "ticks": "",
           "title": {
            "standoff": 15
           },
           "zerolinecolor": "white",
           "zerolinewidth": 2
          },
          "yaxis": {
           "automargin": true,
           "gridcolor": "white",
           "linecolor": "white",
           "ticks": "",
           "title": {
            "standoff": 15
           },
           "zerolinecolor": "white",
           "zerolinewidth": 2
          }
         }
        },
        "title": {
         "font": {
          "color": "#333333",
          "size": 20
         },
         "text": "F1 Score for full",
         "x": 0.5,
         "xanchor": "center",
         "y": 0.95,
         "yanchor": "top"
        },
        "xaxis": {
         "anchor": "y",
         "categoryarray": [
          "none",
          "complex"
         ],
         "categoryorder": "array",
         "domain": [
          0,
          1
         ],
         "gridcolor": "#E5E5E5",
         "showgrid": true,
         "tickangle": 0,
         "tickfont": {
          "size": 10
         },
         "title": {
          "text": "Feature Engineering Type"
         }
        },
        "yaxis": {
         "anchor": "x",
         "domain": [
          0,
          1
         ],
         "gridcolor": "#E5E5E5",
         "showgrid": true,
         "tickfont": {
          "size": 10
         },
         "title": {
          "text": "F1 Score Value"
         },
         "type": "linear",
         "zeroline": true,
         "zerolinecolor": "#E5E5E5"
        }
       }
      }
     },
     "metadata": {},
     "output_type": "display_data"
    },
    {
     "data": {
      "application/vnd.plotly.v1+json": {
       "config": {
        "plotlyServerURL": "https://plot.ly"
       },
       "data": [
        {
         "alignmentgroup": "True",
         "hovertemplate": "Outliers Removed=False<br>Feature Engineering Type=%{x}<br>F1 Score Value=%{text}<extra></extra>",
         "legendgroup": "False",
         "marker": {
          "color": "#66C2A5",
          "pattern": {
           "shape": ""
          }
         },
         "name": "False",
         "offsetgroup": "False",
         "orientation": "v",
         "showlegend": true,
         "text": [
          0.671875,
          0.642570281124498
         ],
         "textposition": "outside",
         "texttemplate": "%{text:.2s}",
         "type": "bar",
         "x": [
          "complex",
          "none"
         ],
         "xaxis": "x",
         "y": [
          0.671875,
          0.642570281124498
         ],
         "yaxis": "y"
        }
       ],
       "layout": {
        "bargap": 0.15,
        "barmode": "group",
        "font": {
         "color": "#333333",
         "family": "Arial",
         "size": 12
        },
        "legend": {
         "orientation": "h",
         "title": {
          "text": "Outliers Removed"
         },
         "tracegroupgap": 0,
         "x": 1,
         "xanchor": "right",
         "y": 1.02,
         "yanchor": "bottom"
        },
        "margin": {
         "b": 50,
         "l": 60,
         "r": 30,
         "t": 80
        },
        "plot_bgcolor": "white",
        "showlegend": true,
        "template": {
         "data": {
          "bar": [
           {
            "error_x": {
             "color": "#2a3f5f"
            },
            "error_y": {
             "color": "#2a3f5f"
            },
            "marker": {
             "line": {
              "color": "#E5ECF6",
              "width": 0.5
             },
             "pattern": {
              "fillmode": "overlay",
              "size": 10,
              "solidity": 0.2
             }
            },
            "type": "bar"
           }
          ],
          "barpolar": [
           {
            "marker": {
             "line": {
              "color": "#E5ECF6",
              "width": 0.5
             },
             "pattern": {
              "fillmode": "overlay",
              "size": 10,
              "solidity": 0.2
             }
            },
            "type": "barpolar"
           }
          ],
          "carpet": [
           {
            "aaxis": {
             "endlinecolor": "#2a3f5f",
             "gridcolor": "white",
             "linecolor": "white",
             "minorgridcolor": "white",
             "startlinecolor": "#2a3f5f"
            },
            "baxis": {
             "endlinecolor": "#2a3f5f",
             "gridcolor": "white",
             "linecolor": "white",
             "minorgridcolor": "white",
             "startlinecolor": "#2a3f5f"
            },
            "type": "carpet"
           }
          ],
          "choropleth": [
           {
            "colorbar": {
             "outlinewidth": 0,
             "ticks": ""
            },
            "type": "choropleth"
           }
          ],
          "contour": [
           {
            "colorbar": {
             "outlinewidth": 0,
             "ticks": ""
            },
            "colorscale": [
             [
              0,
              "#0d0887"
             ],
             [
              0.1111111111111111,
              "#46039f"
             ],
             [
              0.2222222222222222,
              "#7201a8"
             ],
             [
              0.3333333333333333,
              "#9c179e"
             ],
             [
              0.4444444444444444,
              "#bd3786"
             ],
             [
              0.5555555555555556,
              "#d8576b"
             ],
             [
              0.6666666666666666,
              "#ed7953"
             ],
             [
              0.7777777777777778,
              "#fb9f3a"
             ],
             [
              0.8888888888888888,
              "#fdca26"
             ],
             [
              1,
              "#f0f921"
             ]
            ],
            "type": "contour"
           }
          ],
          "contourcarpet": [
           {
            "colorbar": {
             "outlinewidth": 0,
             "ticks": ""
            },
            "type": "contourcarpet"
           }
          ],
          "heatmap": [
           {
            "colorbar": {
             "outlinewidth": 0,
             "ticks": ""
            },
            "colorscale": [
             [
              0,
              "#0d0887"
             ],
             [
              0.1111111111111111,
              "#46039f"
             ],
             [
              0.2222222222222222,
              "#7201a8"
             ],
             [
              0.3333333333333333,
              "#9c179e"
             ],
             [
              0.4444444444444444,
              "#bd3786"
             ],
             [
              0.5555555555555556,
              "#d8576b"
             ],
             [
              0.6666666666666666,
              "#ed7953"
             ],
             [
              0.7777777777777778,
              "#fb9f3a"
             ],
             [
              0.8888888888888888,
              "#fdca26"
             ],
             [
              1,
              "#f0f921"
             ]
            ],
            "type": "heatmap"
           }
          ],
          "heatmapgl": [
           {
            "colorbar": {
             "outlinewidth": 0,
             "ticks": ""
            },
            "colorscale": [
             [
              0,
              "#0d0887"
             ],
             [
              0.1111111111111111,
              "#46039f"
             ],
             [
              0.2222222222222222,
              "#7201a8"
             ],
             [
              0.3333333333333333,
              "#9c179e"
             ],
             [
              0.4444444444444444,
              "#bd3786"
             ],
             [
              0.5555555555555556,
              "#d8576b"
             ],
             [
              0.6666666666666666,
              "#ed7953"
             ],
             [
              0.7777777777777778,
              "#fb9f3a"
             ],
             [
              0.8888888888888888,
              "#fdca26"
             ],
             [
              1,
              "#f0f921"
             ]
            ],
            "type": "heatmapgl"
           }
          ],
          "histogram": [
           {
            "marker": {
             "pattern": {
              "fillmode": "overlay",
              "size": 10,
              "solidity": 0.2
             }
            },
            "type": "histogram"
           }
          ],
          "histogram2d": [
           {
            "colorbar": {
             "outlinewidth": 0,
             "ticks": ""
            },
            "colorscale": [
             [
              0,
              "#0d0887"
             ],
             [
              0.1111111111111111,
              "#46039f"
             ],
             [
              0.2222222222222222,
              "#7201a8"
             ],
             [
              0.3333333333333333,
              "#9c179e"
             ],
             [
              0.4444444444444444,
              "#bd3786"
             ],
             [
              0.5555555555555556,
              "#d8576b"
             ],
             [
              0.6666666666666666,
              "#ed7953"
             ],
             [
              0.7777777777777778,
              "#fb9f3a"
             ],
             [
              0.8888888888888888,
              "#fdca26"
             ],
             [
              1,
              "#f0f921"
             ]
            ],
            "type": "histogram2d"
           }
          ],
          "histogram2dcontour": [
           {
            "colorbar": {
             "outlinewidth": 0,
             "ticks": ""
            },
            "colorscale": [
             [
              0,
              "#0d0887"
             ],
             [
              0.1111111111111111,
              "#46039f"
             ],
             [
              0.2222222222222222,
              "#7201a8"
             ],
             [
              0.3333333333333333,
              "#9c179e"
             ],
             [
              0.4444444444444444,
              "#bd3786"
             ],
             [
              0.5555555555555556,
              "#d8576b"
             ],
             [
              0.6666666666666666,
              "#ed7953"
             ],
             [
              0.7777777777777778,
              "#fb9f3a"
             ],
             [
              0.8888888888888888,
              "#fdca26"
             ],
             [
              1,
              "#f0f921"
             ]
            ],
            "type": "histogram2dcontour"
           }
          ],
          "mesh3d": [
           {
            "colorbar": {
             "outlinewidth": 0,
             "ticks": ""
            },
            "type": "mesh3d"
           }
          ],
          "parcoords": [
           {
            "line": {
             "colorbar": {
              "outlinewidth": 0,
              "ticks": ""
             }
            },
            "type": "parcoords"
           }
          ],
          "pie": [
           {
            "automargin": true,
            "type": "pie"
           }
          ],
          "scatter": [
           {
            "fillpattern": {
             "fillmode": "overlay",
             "size": 10,
             "solidity": 0.2
            },
            "type": "scatter"
           }
          ],
          "scatter3d": [
           {
            "line": {
             "colorbar": {
              "outlinewidth": 0,
              "ticks": ""
             }
            },
            "marker": {
             "colorbar": {
              "outlinewidth": 0,
              "ticks": ""
             }
            },
            "type": "scatter3d"
           }
          ],
          "scattercarpet": [
           {
            "marker": {
             "colorbar": {
              "outlinewidth": 0,
              "ticks": ""
             }
            },
            "type": "scattercarpet"
           }
          ],
          "scattergeo": [
           {
            "marker": {
             "colorbar": {
              "outlinewidth": 0,
              "ticks": ""
             }
            },
            "type": "scattergeo"
           }
          ],
          "scattergl": [
           {
            "marker": {
             "colorbar": {
              "outlinewidth": 0,
              "ticks": ""
             }
            },
            "type": "scattergl"
           }
          ],
          "scattermapbox": [
           {
            "marker": {
             "colorbar": {
              "outlinewidth": 0,
              "ticks": ""
             }
            },
            "type": "scattermapbox"
           }
          ],
          "scatterpolar": [
           {
            "marker": {
             "colorbar": {
              "outlinewidth": 0,
              "ticks": ""
             }
            },
            "type": "scatterpolar"
           }
          ],
          "scatterpolargl": [
           {
            "marker": {
             "colorbar": {
              "outlinewidth": 0,
              "ticks": ""
             }
            },
            "type": "scatterpolargl"
           }
          ],
          "scatterternary": [
           {
            "marker": {
             "colorbar": {
              "outlinewidth": 0,
              "ticks": ""
             }
            },
            "type": "scatterternary"
           }
          ],
          "surface": [
           {
            "colorbar": {
             "outlinewidth": 0,
             "ticks": ""
            },
            "colorscale": [
             [
              0,
              "#0d0887"
             ],
             [
              0.1111111111111111,
              "#46039f"
             ],
             [
              0.2222222222222222,
              "#7201a8"
             ],
             [
              0.3333333333333333,
              "#9c179e"
             ],
             [
              0.4444444444444444,
              "#bd3786"
             ],
             [
              0.5555555555555556,
              "#d8576b"
             ],
             [
              0.6666666666666666,
              "#ed7953"
             ],
             [
              0.7777777777777778,
              "#fb9f3a"
             ],
             [
              0.8888888888888888,
              "#fdca26"
             ],
             [
              1,
              "#f0f921"
             ]
            ],
            "type": "surface"
           }
          ],
          "table": [
           {
            "cells": {
             "fill": {
              "color": "#EBF0F8"
             },
             "line": {
              "color": "white"
             }
            },
            "header": {
             "fill": {
              "color": "#C8D4E3"
             },
             "line": {
              "color": "white"
             }
            },
            "type": "table"
           }
          ]
         },
         "layout": {
          "annotationdefaults": {
           "arrowcolor": "#2a3f5f",
           "arrowhead": 0,
           "arrowwidth": 1
          },
          "autotypenumbers": "strict",
          "coloraxis": {
           "colorbar": {
            "outlinewidth": 0,
            "ticks": ""
           }
          },
          "colorscale": {
           "diverging": [
            [
             0,
             "#8e0152"
            ],
            [
             0.1,
             "#c51b7d"
            ],
            [
             0.2,
             "#de77ae"
            ],
            [
             0.3,
             "#f1b6da"
            ],
            [
             0.4,
             "#fde0ef"
            ],
            [
             0.5,
             "#f7f7f7"
            ],
            [
             0.6,
             "#e6f5d0"
            ],
            [
             0.7,
             "#b8e186"
            ],
            [
             0.8,
             "#7fbc41"
            ],
            [
             0.9,
             "#4d9221"
            ],
            [
             1,
             "#276419"
            ]
           ],
           "sequential": [
            [
             0,
             "#0d0887"
            ],
            [
             0.1111111111111111,
             "#46039f"
            ],
            [
             0.2222222222222222,
             "#7201a8"
            ],
            [
             0.3333333333333333,
             "#9c179e"
            ],
            [
             0.4444444444444444,
             "#bd3786"
            ],
            [
             0.5555555555555556,
             "#d8576b"
            ],
            [
             0.6666666666666666,
             "#ed7953"
            ],
            [
             0.7777777777777778,
             "#fb9f3a"
            ],
            [
             0.8888888888888888,
             "#fdca26"
            ],
            [
             1,
             "#f0f921"
            ]
           ],
           "sequentialminus": [
            [
             0,
             "#0d0887"
            ],
            [
             0.1111111111111111,
             "#46039f"
            ],
            [
             0.2222222222222222,
             "#7201a8"
            ],
            [
             0.3333333333333333,
             "#9c179e"
            ],
            [
             0.4444444444444444,
             "#bd3786"
            ],
            [
             0.5555555555555556,
             "#d8576b"
            ],
            [
             0.6666666666666666,
             "#ed7953"
            ],
            [
             0.7777777777777778,
             "#fb9f3a"
            ],
            [
             0.8888888888888888,
             "#fdca26"
            ],
            [
             1,
             "#f0f921"
            ]
           ]
          },
          "colorway": [
           "#636efa",
           "#EF553B",
           "#00cc96",
           "#ab63fa",
           "#FFA15A",
           "#19d3f3",
           "#FF6692",
           "#B6E880",
           "#FF97FF",
           "#FECB52"
          ],
          "font": {
           "color": "#2a3f5f"
          },
          "geo": {
           "bgcolor": "white",
           "lakecolor": "white",
           "landcolor": "#E5ECF6",
           "showlakes": true,
           "showland": true,
           "subunitcolor": "white"
          },
          "hoverlabel": {
           "align": "left"
          },
          "hovermode": "closest",
          "mapbox": {
           "style": "light"
          },
          "paper_bgcolor": "white",
          "plot_bgcolor": "#E5ECF6",
          "polar": {
           "angularaxis": {
            "gridcolor": "white",
            "linecolor": "white",
            "ticks": ""
           },
           "bgcolor": "#E5ECF6",
           "radialaxis": {
            "gridcolor": "white",
            "linecolor": "white",
            "ticks": ""
           }
          },
          "scene": {
           "xaxis": {
            "backgroundcolor": "#E5ECF6",
            "gridcolor": "white",
            "gridwidth": 2,
            "linecolor": "white",
            "showbackground": true,
            "ticks": "",
            "zerolinecolor": "white"
           },
           "yaxis": {
            "backgroundcolor": "#E5ECF6",
            "gridcolor": "white",
            "gridwidth": 2,
            "linecolor": "white",
            "showbackground": true,
            "ticks": "",
            "zerolinecolor": "white"
           },
           "zaxis": {
            "backgroundcolor": "#E5ECF6",
            "gridcolor": "white",
            "gridwidth": 2,
            "linecolor": "white",
            "showbackground": true,
            "ticks": "",
            "zerolinecolor": "white"
           }
          },
          "shapedefaults": {
           "line": {
            "color": "#2a3f5f"
           }
          },
          "ternary": {
           "aaxis": {
            "gridcolor": "white",
            "linecolor": "white",
            "ticks": ""
           },
           "baxis": {
            "gridcolor": "white",
            "linecolor": "white",
            "ticks": ""
           },
           "bgcolor": "#E5ECF6",
           "caxis": {
            "gridcolor": "white",
            "linecolor": "white",
            "ticks": ""
           }
          },
          "title": {
           "x": 0.05
          },
          "xaxis": {
           "automargin": true,
           "gridcolor": "white",
           "linecolor": "white",
           "ticks": "",
           "title": {
            "standoff": 15
           },
           "zerolinecolor": "white",
           "zerolinewidth": 2
          },
          "yaxis": {
           "automargin": true,
           "gridcolor": "white",
           "linecolor": "white",
           "ticks": "",
           "title": {
            "standoff": 15
           },
           "zerolinecolor": "white",
           "zerolinewidth": 2
          }
         }
        },
        "title": {
         "font": {
          "color": "#333333",
          "size": 20
         },
         "text": "F1 Score for large_productions",
         "x": 0.5,
         "xanchor": "center",
         "y": 0.95,
         "yanchor": "top"
        },
        "xaxis": {
         "anchor": "y",
         "categoryarray": [
          "none",
          "complex"
         ],
         "categoryorder": "array",
         "domain": [
          0,
          1
         ],
         "gridcolor": "#E5E5E5",
         "showgrid": true,
         "tickangle": 0,
         "tickfont": {
          "size": 10
         },
         "title": {
          "text": "Feature Engineering Type"
         }
        },
        "yaxis": {
         "anchor": "x",
         "domain": [
          0,
          1
         ],
         "gridcolor": "#E5E5E5",
         "showgrid": true,
         "tickfont": {
          "size": 10
         },
         "title": {
          "text": "F1 Score Value"
         },
         "type": "linear",
         "zeroline": true,
         "zerolinecolor": "#E5E5E5"
        }
       }
      }
     },
     "metadata": {},
     "output_type": "display_data"
    },
    {
     "data": {
      "application/vnd.plotly.v1+json": {
       "config": {
        "plotlyServerURL": "https://plot.ly"
       },
       "data": [
        {
         "alignmentgroup": "True",
         "hovertemplate": "Outliers Removed=True<br>Feature Engineering Type=%{x}<br>F1 Score Value=%{text}<extra></extra>",
         "legendgroup": "True",
         "marker": {
          "color": "#FC8D62",
          "pattern": {
           "shape": ""
          }
         },
         "name": "True",
         "offsetgroup": "True",
         "orientation": "v",
         "showlegend": true,
         "text": [
          0.6206896551724138,
          0.5901639344262295
         ],
         "textposition": "outside",
         "texttemplate": "%{text:.2s}",
         "type": "bar",
         "x": [
          "complex",
          "none"
         ],
         "xaxis": "x",
         "y": [
          0.6206896551724138,
          0.5901639344262295
         ],
         "yaxis": "y"
        }
       ],
       "layout": {
        "bargap": 0.15,
        "barmode": "group",
        "font": {
         "color": "#333333",
         "family": "Arial",
         "size": 12
        },
        "legend": {
         "orientation": "h",
         "title": {
          "text": "Outliers Removed"
         },
         "tracegroupgap": 0,
         "x": 1,
         "xanchor": "right",
         "y": 1.02,
         "yanchor": "bottom"
        },
        "margin": {
         "b": 50,
         "l": 60,
         "r": 30,
         "t": 80
        },
        "plot_bgcolor": "white",
        "showlegend": true,
        "template": {
         "data": {
          "bar": [
           {
            "error_x": {
             "color": "#2a3f5f"
            },
            "error_y": {
             "color": "#2a3f5f"
            },
            "marker": {
             "line": {
              "color": "#E5ECF6",
              "width": 0.5
             },
             "pattern": {
              "fillmode": "overlay",
              "size": 10,
              "solidity": 0.2
             }
            },
            "type": "bar"
           }
          ],
          "barpolar": [
           {
            "marker": {
             "line": {
              "color": "#E5ECF6",
              "width": 0.5
             },
             "pattern": {
              "fillmode": "overlay",
              "size": 10,
              "solidity": 0.2
             }
            },
            "type": "barpolar"
           }
          ],
          "carpet": [
           {
            "aaxis": {
             "endlinecolor": "#2a3f5f",
             "gridcolor": "white",
             "linecolor": "white",
             "minorgridcolor": "white",
             "startlinecolor": "#2a3f5f"
            },
            "baxis": {
             "endlinecolor": "#2a3f5f",
             "gridcolor": "white",
             "linecolor": "white",
             "minorgridcolor": "white",
             "startlinecolor": "#2a3f5f"
            },
            "type": "carpet"
           }
          ],
          "choropleth": [
           {
            "colorbar": {
             "outlinewidth": 0,
             "ticks": ""
            },
            "type": "choropleth"
           }
          ],
          "contour": [
           {
            "colorbar": {
             "outlinewidth": 0,
             "ticks": ""
            },
            "colorscale": [
             [
              0,
              "#0d0887"
             ],
             [
              0.1111111111111111,
              "#46039f"
             ],
             [
              0.2222222222222222,
              "#7201a8"
             ],
             [
              0.3333333333333333,
              "#9c179e"
             ],
             [
              0.4444444444444444,
              "#bd3786"
             ],
             [
              0.5555555555555556,
              "#d8576b"
             ],
             [
              0.6666666666666666,
              "#ed7953"
             ],
             [
              0.7777777777777778,
              "#fb9f3a"
             ],
             [
              0.8888888888888888,
              "#fdca26"
             ],
             [
              1,
              "#f0f921"
             ]
            ],
            "type": "contour"
           }
          ],
          "contourcarpet": [
           {
            "colorbar": {
             "outlinewidth": 0,
             "ticks": ""
            },
            "type": "contourcarpet"
           }
          ],
          "heatmap": [
           {
            "colorbar": {
             "outlinewidth": 0,
             "ticks": ""
            },
            "colorscale": [
             [
              0,
              "#0d0887"
             ],
             [
              0.1111111111111111,
              "#46039f"
             ],
             [
              0.2222222222222222,
              "#7201a8"
             ],
             [
              0.3333333333333333,
              "#9c179e"
             ],
             [
              0.4444444444444444,
              "#bd3786"
             ],
             [
              0.5555555555555556,
              "#d8576b"
             ],
             [
              0.6666666666666666,
              "#ed7953"
             ],
             [
              0.7777777777777778,
              "#fb9f3a"
             ],
             [
              0.8888888888888888,
              "#fdca26"
             ],
             [
              1,
              "#f0f921"
             ]
            ],
            "type": "heatmap"
           }
          ],
          "heatmapgl": [
           {
            "colorbar": {
             "outlinewidth": 0,
             "ticks": ""
            },
            "colorscale": [
             [
              0,
              "#0d0887"
             ],
             [
              0.1111111111111111,
              "#46039f"
             ],
             [
              0.2222222222222222,
              "#7201a8"
             ],
             [
              0.3333333333333333,
              "#9c179e"
             ],
             [
              0.4444444444444444,
              "#bd3786"
             ],
             [
              0.5555555555555556,
              "#d8576b"
             ],
             [
              0.6666666666666666,
              "#ed7953"
             ],
             [
              0.7777777777777778,
              "#fb9f3a"
             ],
             [
              0.8888888888888888,
              "#fdca26"
             ],
             [
              1,
              "#f0f921"
             ]
            ],
            "type": "heatmapgl"
           }
          ],
          "histogram": [
           {
            "marker": {
             "pattern": {
              "fillmode": "overlay",
              "size": 10,
              "solidity": 0.2
             }
            },
            "type": "histogram"
           }
          ],
          "histogram2d": [
           {
            "colorbar": {
             "outlinewidth": 0,
             "ticks": ""
            },
            "colorscale": [
             [
              0,
              "#0d0887"
             ],
             [
              0.1111111111111111,
              "#46039f"
             ],
             [
              0.2222222222222222,
              "#7201a8"
             ],
             [
              0.3333333333333333,
              "#9c179e"
             ],
             [
              0.4444444444444444,
              "#bd3786"
             ],
             [
              0.5555555555555556,
              "#d8576b"
             ],
             [
              0.6666666666666666,
              "#ed7953"
             ],
             [
              0.7777777777777778,
              "#fb9f3a"
             ],
             [
              0.8888888888888888,
              "#fdca26"
             ],
             [
              1,
              "#f0f921"
             ]
            ],
            "type": "histogram2d"
           }
          ],
          "histogram2dcontour": [
           {
            "colorbar": {
             "outlinewidth": 0,
             "ticks": ""
            },
            "colorscale": [
             [
              0,
              "#0d0887"
             ],
             [
              0.1111111111111111,
              "#46039f"
             ],
             [
              0.2222222222222222,
              "#7201a8"
             ],
             [
              0.3333333333333333,
              "#9c179e"
             ],
             [
              0.4444444444444444,
              "#bd3786"
             ],
             [
              0.5555555555555556,
              "#d8576b"
             ],
             [
              0.6666666666666666,
              "#ed7953"
             ],
             [
              0.7777777777777778,
              "#fb9f3a"
             ],
             [
              0.8888888888888888,
              "#fdca26"
             ],
             [
              1,
              "#f0f921"
             ]
            ],
            "type": "histogram2dcontour"
           }
          ],
          "mesh3d": [
           {
            "colorbar": {
             "outlinewidth": 0,
             "ticks": ""
            },
            "type": "mesh3d"
           }
          ],
          "parcoords": [
           {
            "line": {
             "colorbar": {
              "outlinewidth": 0,
              "ticks": ""
             }
            },
            "type": "parcoords"
           }
          ],
          "pie": [
           {
            "automargin": true,
            "type": "pie"
           }
          ],
          "scatter": [
           {
            "fillpattern": {
             "fillmode": "overlay",
             "size": 10,
             "solidity": 0.2
            },
            "type": "scatter"
           }
          ],
          "scatter3d": [
           {
            "line": {
             "colorbar": {
              "outlinewidth": 0,
              "ticks": ""
             }
            },
            "marker": {
             "colorbar": {
              "outlinewidth": 0,
              "ticks": ""
             }
            },
            "type": "scatter3d"
           }
          ],
          "scattercarpet": [
           {
            "marker": {
             "colorbar": {
              "outlinewidth": 0,
              "ticks": ""
             }
            },
            "type": "scattercarpet"
           }
          ],
          "scattergeo": [
           {
            "marker": {
             "colorbar": {
              "outlinewidth": 0,
              "ticks": ""
             }
            },
            "type": "scattergeo"
           }
          ],
          "scattergl": [
           {
            "marker": {
             "colorbar": {
              "outlinewidth": 0,
              "ticks": ""
             }
            },
            "type": "scattergl"
           }
          ],
          "scattermapbox": [
           {
            "marker": {
             "colorbar": {
              "outlinewidth": 0,
              "ticks": ""
             }
            },
            "type": "scattermapbox"
           }
          ],
          "scatterpolar": [
           {
            "marker": {
             "colorbar": {
              "outlinewidth": 0,
              "ticks": ""
             }
            },
            "type": "scatterpolar"
           }
          ],
          "scatterpolargl": [
           {
            "marker": {
             "colorbar": {
              "outlinewidth": 0,
              "ticks": ""
             }
            },
            "type": "scatterpolargl"
           }
          ],
          "scatterternary": [
           {
            "marker": {
             "colorbar": {
              "outlinewidth": 0,
              "ticks": ""
             }
            },
            "type": "scatterternary"
           }
          ],
          "surface": [
           {
            "colorbar": {
             "outlinewidth": 0,
             "ticks": ""
            },
            "colorscale": [
             [
              0,
              "#0d0887"
             ],
             [
              0.1111111111111111,
              "#46039f"
             ],
             [
              0.2222222222222222,
              "#7201a8"
             ],
             [
              0.3333333333333333,
              "#9c179e"
             ],
             [
              0.4444444444444444,
              "#bd3786"
             ],
             [
              0.5555555555555556,
              "#d8576b"
             ],
             [
              0.6666666666666666,
              "#ed7953"
             ],
             [
              0.7777777777777778,
              "#fb9f3a"
             ],
             [
              0.8888888888888888,
              "#fdca26"
             ],
             [
              1,
              "#f0f921"
             ]
            ],
            "type": "surface"
           }
          ],
          "table": [
           {
            "cells": {
             "fill": {
              "color": "#EBF0F8"
             },
             "line": {
              "color": "white"
             }
            },
            "header": {
             "fill": {
              "color": "#C8D4E3"
             },
             "line": {
              "color": "white"
             }
            },
            "type": "table"
           }
          ]
         },
         "layout": {
          "annotationdefaults": {
           "arrowcolor": "#2a3f5f",
           "arrowhead": 0,
           "arrowwidth": 1
          },
          "autotypenumbers": "strict",
          "coloraxis": {
           "colorbar": {
            "outlinewidth": 0,
            "ticks": ""
           }
          },
          "colorscale": {
           "diverging": [
            [
             0,
             "#8e0152"
            ],
            [
             0.1,
             "#c51b7d"
            ],
            [
             0.2,
             "#de77ae"
            ],
            [
             0.3,
             "#f1b6da"
            ],
            [
             0.4,
             "#fde0ef"
            ],
            [
             0.5,
             "#f7f7f7"
            ],
            [
             0.6,
             "#e6f5d0"
            ],
            [
             0.7,
             "#b8e186"
            ],
            [
             0.8,
             "#7fbc41"
            ],
            [
             0.9,
             "#4d9221"
            ],
            [
             1,
             "#276419"
            ]
           ],
           "sequential": [
            [
             0,
             "#0d0887"
            ],
            [
             0.1111111111111111,
             "#46039f"
            ],
            [
             0.2222222222222222,
             "#7201a8"
            ],
            [
             0.3333333333333333,
             "#9c179e"
            ],
            [
             0.4444444444444444,
             "#bd3786"
            ],
            [
             0.5555555555555556,
             "#d8576b"
            ],
            [
             0.6666666666666666,
             "#ed7953"
            ],
            [
             0.7777777777777778,
             "#fb9f3a"
            ],
            [
             0.8888888888888888,
             "#fdca26"
            ],
            [
             1,
             "#f0f921"
            ]
           ],
           "sequentialminus": [
            [
             0,
             "#0d0887"
            ],
            [
             0.1111111111111111,
             "#46039f"
            ],
            [
             0.2222222222222222,
             "#7201a8"
            ],
            [
             0.3333333333333333,
             "#9c179e"
            ],
            [
             0.4444444444444444,
             "#bd3786"
            ],
            [
             0.5555555555555556,
             "#d8576b"
            ],
            [
             0.6666666666666666,
             "#ed7953"
            ],
            [
             0.7777777777777778,
             "#fb9f3a"
            ],
            [
             0.8888888888888888,
             "#fdca26"
            ],
            [
             1,
             "#f0f921"
            ]
           ]
          },
          "colorway": [
           "#636efa",
           "#EF553B",
           "#00cc96",
           "#ab63fa",
           "#FFA15A",
           "#19d3f3",
           "#FF6692",
           "#B6E880",
           "#FF97FF",
           "#FECB52"
          ],
          "font": {
           "color": "#2a3f5f"
          },
          "geo": {
           "bgcolor": "white",
           "lakecolor": "white",
           "landcolor": "#E5ECF6",
           "showlakes": true,
           "showland": true,
           "subunitcolor": "white"
          },
          "hoverlabel": {
           "align": "left"
          },
          "hovermode": "closest",
          "mapbox": {
           "style": "light"
          },
          "paper_bgcolor": "white",
          "plot_bgcolor": "#E5ECF6",
          "polar": {
           "angularaxis": {
            "gridcolor": "white",
            "linecolor": "white",
            "ticks": ""
           },
           "bgcolor": "#E5ECF6",
           "radialaxis": {
            "gridcolor": "white",
            "linecolor": "white",
            "ticks": ""
           }
          },
          "scene": {
           "xaxis": {
            "backgroundcolor": "#E5ECF6",
            "gridcolor": "white",
            "gridwidth": 2,
            "linecolor": "white",
            "showbackground": true,
            "ticks": "",
            "zerolinecolor": "white"
           },
           "yaxis": {
            "backgroundcolor": "#E5ECF6",
            "gridcolor": "white",
            "gridwidth": 2,
            "linecolor": "white",
            "showbackground": true,
            "ticks": "",
            "zerolinecolor": "white"
           },
           "zaxis": {
            "backgroundcolor": "#E5ECF6",
            "gridcolor": "white",
            "gridwidth": 2,
            "linecolor": "white",
            "showbackground": true,
            "ticks": "",
            "zerolinecolor": "white"
           }
          },
          "shapedefaults": {
           "line": {
            "color": "#2a3f5f"
           }
          },
          "ternary": {
           "aaxis": {
            "gridcolor": "white",
            "linecolor": "white",
            "ticks": ""
           },
           "baxis": {
            "gridcolor": "white",
            "linecolor": "white",
            "ticks": ""
           },
           "bgcolor": "#E5ECF6",
           "caxis": {
            "gridcolor": "white",
            "linecolor": "white",
            "ticks": ""
           }
          },
          "title": {
           "x": 0.05
          },
          "xaxis": {
           "automargin": true,
           "gridcolor": "white",
           "linecolor": "white",
           "ticks": "",
           "title": {
            "standoff": 15
           },
           "zerolinecolor": "white",
           "zerolinewidth": 2
          },
          "yaxis": {
           "automargin": true,
           "gridcolor": "white",
           "linecolor": "white",
           "ticks": "",
           "title": {
            "standoff": 15
           },
           "zerolinecolor": "white",
           "zerolinewidth": 2
          }
         }
        },
        "title": {
         "font": {
          "color": "#333333",
          "size": 20
         },
         "text": "F1 Score for medium_productions",
         "x": 0.5,
         "xanchor": "center",
         "y": 0.95,
         "yanchor": "top"
        },
        "xaxis": {
         "anchor": "y",
         "categoryarray": [
          "none",
          "complex"
         ],
         "categoryorder": "array",
         "domain": [
          0,
          1
         ],
         "gridcolor": "#E5E5E5",
         "showgrid": true,
         "tickangle": 0,
         "tickfont": {
          "size": 10
         },
         "title": {
          "text": "Feature Engineering Type"
         }
        },
        "yaxis": {
         "anchor": "x",
         "domain": [
          0,
          1
         ],
         "gridcolor": "#E5E5E5",
         "showgrid": true,
         "tickfont": {
          "size": 10
         },
         "title": {
          "text": "F1 Score Value"
         },
         "type": "linear",
         "zeroline": true,
         "zerolinecolor": "#E5E5E5"
        }
       }
      }
     },
     "metadata": {},
     "output_type": "display_data"
    },
    {
     "data": {
      "text/html": [
       "<div>\n",
       "<style scoped>\n",
       "    .dataframe tbody tr th:only-of-type {\n",
       "        vertical-align: middle;\n",
       "    }\n",
       "\n",
       "    .dataframe tbody tr th {\n",
       "        vertical-align: top;\n",
       "    }\n",
       "\n",
       "    .dataframe thead th {\n",
       "        text-align: right;\n",
       "    }\n",
       "</style>\n",
       "<table border=\"1\" class=\"dataframe\">\n",
       "  <thead>\n",
       "    <tr style=\"text-align: right;\">\n",
       "      <th></th>\n",
       "      <th>run_id</th>\n",
       "      <th>timestamp</th>\n",
       "      <th>model_type</th>\n",
       "      <th>problem_type</th>\n",
       "      <th>dataset_name</th>\n",
       "      <th>grid_type</th>\n",
       "      <th>has_outliers_removed</th>\n",
       "      <th>feature_engineering</th>\n",
       "      <th>scaler</th>\n",
       "      <th>variance_threshold</th>\n",
       "      <th>duration</th>\n",
       "      <th>number_of_combinations</th>\n",
       "      <th>Accuracy</th>\n",
       "      <th>Precision</th>\n",
       "      <th>Recall</th>\n",
       "      <th>F1 Score</th>\n",
       "      <th>MSE</th>\n",
       "      <th>MAPE</th>\n",
       "      <th>MAE</th>\n",
       "      <th>RMSE</th>\n",
       "      <th>RMSLE</th>\n",
       "      <th>MSLE</th>\n",
       "      <th>R2</th>\n",
       "      <th>Threshold Probability Accuracy</th>\n",
       "      <th>Threshold MAPE</th>\n",
       "      <th>Threshold MAPE (25%)</th>\n",
       "      <th>ROC AUC Score</th>\n",
       "    </tr>\n",
       "  </thead>\n",
       "  <tbody>\n",
       "    <tr>\n",
       "      <th>138</th>\n",
       "      <td>20240806_230924</td>\n",
       "      <td>2024-08-07 07:04:15</td>\n",
       "      <td>lightgbm_classifier</td>\n",
       "      <td>binary_classification</td>\n",
       "      <td>full</td>\n",
       "      <td>random_search</td>\n",
       "      <td>True</td>\n",
       "      <td>complex</td>\n",
       "      <td>RobustScaler</td>\n",
       "      <td>0.005302</td>\n",
       "      <td>2905.855017</td>\n",
       "      <td>None</td>\n",
       "      <td>0.683962</td>\n",
       "      <td>0.630975</td>\n",
       "      <td>0.699153</td>\n",
       "      <td>0.663317</td>\n",
       "      <td>NaN</td>\n",
       "      <td>NaN</td>\n",
       "      <td>NaN</td>\n",
       "      <td>NaN</td>\n",
       "      <td>NaN</td>\n",
       "      <td>NaN</td>\n",
       "      <td>NaN</td>\n",
       "      <td>NaN</td>\n",
       "      <td>NaN</td>\n",
       "      <td>NaN</td>\n",
       "      <td>0.685461</td>\n",
       "    </tr>\n",
       "    <tr>\n",
       "      <th>139</th>\n",
       "      <td>20240806_230924</td>\n",
       "      <td>2024-08-07 04:56:49</td>\n",
       "      <td>random_forest_classifier</td>\n",
       "      <td>binary_classification</td>\n",
       "      <td>large_productions</td>\n",
       "      <td>random_search</td>\n",
       "      <td>False</td>\n",
       "      <td>none</td>\n",
       "      <td>MinMaxScaler</td>\n",
       "      <td>0.091307</td>\n",
       "      <td>95.522064</td>\n",
       "      <td>None</td>\n",
       "      <td>0.683837</td>\n",
       "      <td>0.632411</td>\n",
       "      <td>0.653061</td>\n",
       "      <td>0.642570</td>\n",
       "      <td>NaN</td>\n",
       "      <td>NaN</td>\n",
       "      <td>NaN</td>\n",
       "      <td>NaN</td>\n",
       "      <td>NaN</td>\n",
       "      <td>NaN</td>\n",
       "      <td>NaN</td>\n",
       "      <td>NaN</td>\n",
       "      <td>NaN</td>\n",
       "      <td>NaN</td>\n",
       "      <td>0.680304</td>\n",
       "    </tr>\n",
       "    <tr>\n",
       "      <th>153</th>\n",
       "      <td>20240806_230924</td>\n",
       "      <td>2024-08-07 06:03:49</td>\n",
       "      <td>dummy_classifier</td>\n",
       "      <td>binary_classification</td>\n",
       "      <td>full</td>\n",
       "      <td>random_search</td>\n",
       "      <td>True</td>\n",
       "      <td>complex</td>\n",
       "      <td>MinMaxScaler</td>\n",
       "      <td>0.045710</td>\n",
       "      <td>32.167884</td>\n",
       "      <td>None</td>\n",
       "      <td>0.512264</td>\n",
       "      <td>0.453416</td>\n",
       "      <td>0.463983</td>\n",
       "      <td>0.458639</td>\n",
       "      <td>NaN</td>\n",
       "      <td>NaN</td>\n",
       "      <td>NaN</td>\n",
       "      <td>NaN</td>\n",
       "      <td>NaN</td>\n",
       "      <td>NaN</td>\n",
       "      <td>NaN</td>\n",
       "      <td>NaN</td>\n",
       "      <td>NaN</td>\n",
       "      <td>NaN</td>\n",
       "      <td>0.507502</td>\n",
       "    </tr>\n",
       "    <tr>\n",
       "      <th>169</th>\n",
       "      <td>20240806_230924</td>\n",
       "      <td>2024-08-07 02:00:06</td>\n",
       "      <td>dummy_classifier</td>\n",
       "      <td>binary_classification</td>\n",
       "      <td>large_productions</td>\n",
       "      <td>random_search</td>\n",
       "      <td>False</td>\n",
       "      <td>complex</td>\n",
       "      <td>MinMaxScaler</td>\n",
       "      <td>0.122371</td>\n",
       "      <td>24.920379</td>\n",
       "      <td>None</td>\n",
       "      <td>0.523979</td>\n",
       "      <td>0.456274</td>\n",
       "      <td>0.489796</td>\n",
       "      <td>0.472441</td>\n",
       "      <td>NaN</td>\n",
       "      <td>NaN</td>\n",
       "      <td>NaN</td>\n",
       "      <td>NaN</td>\n",
       "      <td>NaN</td>\n",
       "      <td>NaN</td>\n",
       "      <td>NaN</td>\n",
       "      <td>NaN</td>\n",
       "      <td>NaN</td>\n",
       "      <td>NaN</td>\n",
       "      <td>0.520055</td>\n",
       "    </tr>\n",
       "    <tr>\n",
       "      <th>272</th>\n",
       "      <td>20240806_230924</td>\n",
       "      <td>2024-08-07 07:37:37</td>\n",
       "      <td>decision_tree_classifier</td>\n",
       "      <td>binary_classification</td>\n",
       "      <td>medium_productions</td>\n",
       "      <td>random_search</td>\n",
       "      <td>True</td>\n",
       "      <td>complex</td>\n",
       "      <td>RobustScaler</td>\n",
       "      <td>0.079764</td>\n",
       "      <td>21.878734</td>\n",
       "      <td>None</td>\n",
       "      <td>0.584507</td>\n",
       "      <td>0.534483</td>\n",
       "      <td>0.492063</td>\n",
       "      <td>0.512397</td>\n",
       "      <td>NaN</td>\n",
       "      <td>NaN</td>\n",
       "      <td>NaN</td>\n",
       "      <td>NaN</td>\n",
       "      <td>NaN</td>\n",
       "      <td>NaN</td>\n",
       "      <td>NaN</td>\n",
       "      <td>NaN</td>\n",
       "      <td>NaN</td>\n",
       "      <td>NaN</td>\n",
       "      <td>0.575146</td>\n",
       "    </tr>\n",
       "    <tr>\n",
       "      <th>323</th>\n",
       "      <td>20240806_230924</td>\n",
       "      <td>2024-08-07 03:53:15</td>\n",
       "      <td>xgboost_classifier</td>\n",
       "      <td>binary_classification</td>\n",
       "      <td>full</td>\n",
       "      <td>random_search</td>\n",
       "      <td>True</td>\n",
       "      <td>none</td>\n",
       "      <td>MinMaxScaler</td>\n",
       "      <td>0.178965</td>\n",
       "      <td>39.227496</td>\n",
       "      <td>None</td>\n",
       "      <td>0.645283</td>\n",
       "      <td>0.604348</td>\n",
       "      <td>0.588983</td>\n",
       "      <td>0.596567</td>\n",
       "      <td>NaN</td>\n",
       "      <td>NaN</td>\n",
       "      <td>NaN</td>\n",
       "      <td>NaN</td>\n",
       "      <td>NaN</td>\n",
       "      <td>NaN</td>\n",
       "      <td>NaN</td>\n",
       "      <td>NaN</td>\n",
       "      <td>NaN</td>\n",
       "      <td>NaN</td>\n",
       "      <td>0.639730</td>\n",
       "    </tr>\n",
       "    <tr>\n",
       "      <th>578</th>\n",
       "      <td>20240806_230924</td>\n",
       "      <td>2024-08-07 03:52:36</td>\n",
       "      <td>decision_tree_classifier</td>\n",
       "      <td>binary_classification</td>\n",
       "      <td>full</td>\n",
       "      <td>random_search</td>\n",
       "      <td>True</td>\n",
       "      <td>none</td>\n",
       "      <td>RobustScaler</td>\n",
       "      <td>0.074404</td>\n",
       "      <td>1.355146</td>\n",
       "      <td>None</td>\n",
       "      <td>0.629245</td>\n",
       "      <td>0.582463</td>\n",
       "      <td>0.591102</td>\n",
       "      <td>0.586751</td>\n",
       "      <td>NaN</td>\n",
       "      <td>NaN</td>\n",
       "      <td>NaN</td>\n",
       "      <td>NaN</td>\n",
       "      <td>NaN</td>\n",
       "      <td>NaN</td>\n",
       "      <td>NaN</td>\n",
       "      <td>NaN</td>\n",
       "      <td>NaN</td>\n",
       "      <td>NaN</td>\n",
       "      <td>0.625483</td>\n",
       "    </tr>\n",
       "    <tr>\n",
       "      <th>626</th>\n",
       "      <td>20240806_230924</td>\n",
       "      <td>2024-08-07 06:05:09</td>\n",
       "      <td>logistic_regression</td>\n",
       "      <td>binary_classification</td>\n",
       "      <td>full</td>\n",
       "      <td>random_search</td>\n",
       "      <td>True</td>\n",
       "      <td>complex</td>\n",
       "      <td>MinMaxScaler</td>\n",
       "      <td>0.047197</td>\n",
       "      <td>79.547780</td>\n",
       "      <td>None</td>\n",
       "      <td>0.655660</td>\n",
       "      <td>0.607646</td>\n",
       "      <td>0.639831</td>\n",
       "      <td>0.623323</td>\n",
       "      <td>NaN</td>\n",
       "      <td>NaN</td>\n",
       "      <td>NaN</td>\n",
       "      <td>NaN</td>\n",
       "      <td>NaN</td>\n",
       "      <td>NaN</td>\n",
       "      <td>NaN</td>\n",
       "      <td>NaN</td>\n",
       "      <td>NaN</td>\n",
       "      <td>NaN</td>\n",
       "      <td>0.654099</td>\n",
       "    </tr>\n",
       "    <tr>\n",
       "      <th>642</th>\n",
       "      <td>20240806_230924</td>\n",
       "      <td>2024-08-07 04:55:10</td>\n",
       "      <td>dummy_classifier</td>\n",
       "      <td>binary_classification</td>\n",
       "      <td>large_productions</td>\n",
       "      <td>random_search</td>\n",
       "      <td>False</td>\n",
       "      <td>none</td>\n",
       "      <td>RobustScaler</td>\n",
       "      <td>0.181653</td>\n",
       "      <td>0.833733</td>\n",
       "      <td>None</td>\n",
       "      <td>0.493783</td>\n",
       "      <td>0.429078</td>\n",
       "      <td>0.493878</td>\n",
       "      <td>0.459203</td>\n",
       "      <td>NaN</td>\n",
       "      <td>NaN</td>\n",
       "      <td>NaN</td>\n",
       "      <td>NaN</td>\n",
       "      <td>NaN</td>\n",
       "      <td>NaN</td>\n",
       "      <td>NaN</td>\n",
       "      <td>NaN</td>\n",
       "      <td>NaN</td>\n",
       "      <td>NaN</td>\n",
       "      <td>0.493794</td>\n",
       "    </tr>\n",
       "    <tr>\n",
       "      <th>788</th>\n",
       "      <td>20240806_230924</td>\n",
       "      <td>2024-08-07 03:50:33</td>\n",
       "      <td>logistic_regression</td>\n",
       "      <td>binary_classification</td>\n",
       "      <td>full</td>\n",
       "      <td>random_search</td>\n",
       "      <td>True</td>\n",
       "      <td>none</td>\n",
       "      <td>StandardScaler</td>\n",
       "      <td>0.029617</td>\n",
       "      <td>3.723865</td>\n",
       "      <td>None</td>\n",
       "      <td>0.630189</td>\n",
       "      <td>0.576628</td>\n",
       "      <td>0.637712</td>\n",
       "      <td>0.605634</td>\n",
       "      <td>NaN</td>\n",
       "      <td>NaN</td>\n",
       "      <td>NaN</td>\n",
       "      <td>NaN</td>\n",
       "      <td>NaN</td>\n",
       "      <td>NaN</td>\n",
       "      <td>NaN</td>\n",
       "      <td>NaN</td>\n",
       "      <td>NaN</td>\n",
       "      <td>NaN</td>\n",
       "      <td>0.630931</td>\n",
       "    </tr>\n",
       "    <tr>\n",
       "      <th>808</th>\n",
       "      <td>20240806_230924</td>\n",
       "      <td>2024-08-07 04:55:14</td>\n",
       "      <td>logistic_regression</td>\n",
       "      <td>binary_classification</td>\n",
       "      <td>large_productions</td>\n",
       "      <td>random_search</td>\n",
       "      <td>False</td>\n",
       "      <td>none</td>\n",
       "      <td>RobustScaler</td>\n",
       "      <td>0.073294</td>\n",
       "      <td>3.136091</td>\n",
       "      <td>None</td>\n",
       "      <td>0.655417</td>\n",
       "      <td>0.596958</td>\n",
       "      <td>0.640816</td>\n",
       "      <td>0.618110</td>\n",
       "      <td>NaN</td>\n",
       "      <td>NaN</td>\n",
       "      <td>NaN</td>\n",
       "      <td>NaN</td>\n",
       "      <td>NaN</td>\n",
       "      <td>NaN</td>\n",
       "      <td>NaN</td>\n",
       "      <td>NaN</td>\n",
       "      <td>NaN</td>\n",
       "      <td>NaN</td>\n",
       "      <td>0.653741</td>\n",
       "    </tr>\n",
       "    <tr>\n",
       "      <th>814</th>\n",
       "      <td>20240806_230924</td>\n",
       "      <td>2024-08-07 07:56:17</td>\n",
       "      <td>lightgbm_classifier</td>\n",
       "      <td>binary_classification</td>\n",
       "      <td>medium_productions</td>\n",
       "      <td>random_search</td>\n",
       "      <td>True</td>\n",
       "      <td>complex</td>\n",
       "      <td>MinMaxScaler</td>\n",
       "      <td>0.116137</td>\n",
       "      <td>1041.456089</td>\n",
       "      <td>None</td>\n",
       "      <td>0.637324</td>\n",
       "      <td>0.585185</td>\n",
       "      <td>0.626984</td>\n",
       "      <td>0.605364</td>\n",
       "      <td>NaN</td>\n",
       "      <td>NaN</td>\n",
       "      <td>NaN</td>\n",
       "      <td>NaN</td>\n",
       "      <td>NaN</td>\n",
       "      <td>NaN</td>\n",
       "      <td>NaN</td>\n",
       "      <td>NaN</td>\n",
       "      <td>NaN</td>\n",
       "      <td>NaN</td>\n",
       "      <td>0.636277</td>\n",
       "    </tr>\n",
       "    <tr>\n",
       "      <th>1071</th>\n",
       "      <td>20240806_230924</td>\n",
       "      <td>2024-08-07 06:15:49</td>\n",
       "      <td>xgboost_classifier</td>\n",
       "      <td>binary_classification</td>\n",
       "      <td>full</td>\n",
       "      <td>random_search</td>\n",
       "      <td>True</td>\n",
       "      <td>complex</td>\n",
       "      <td>RobustScaler</td>\n",
       "      <td>0.036971</td>\n",
       "      <td>229.217930</td>\n",
       "      <td>None</td>\n",
       "      <td>0.687736</td>\n",
       "      <td>0.654945</td>\n",
       "      <td>0.631356</td>\n",
       "      <td>0.642934</td>\n",
       "      <td>NaN</td>\n",
       "      <td>NaN</td>\n",
       "      <td>NaN</td>\n",
       "      <td>NaN</td>\n",
       "      <td>NaN</td>\n",
       "      <td>NaN</td>\n",
       "      <td>NaN</td>\n",
       "      <td>NaN</td>\n",
       "      <td>NaN</td>\n",
       "      <td>NaN</td>\n",
       "      <td>0.682175</td>\n",
       "    </tr>\n",
       "    <tr>\n",
       "      <th>1154</th>\n",
       "      <td>20240806_230924</td>\n",
       "      <td>2024-08-07 02:00:57</td>\n",
       "      <td>logistic_regression</td>\n",
       "      <td>binary_classification</td>\n",
       "      <td>large_productions</td>\n",
       "      <td>random_search</td>\n",
       "      <td>False</td>\n",
       "      <td>complex</td>\n",
       "      <td>MinMaxScaler</td>\n",
       "      <td>0.047197</td>\n",
       "      <td>51.048116</td>\n",
       "      <td>None</td>\n",
       "      <td>0.701599</td>\n",
       "      <td>0.644195</td>\n",
       "      <td>0.702041</td>\n",
       "      <td>0.671875</td>\n",
       "      <td>NaN</td>\n",
       "      <td>NaN</td>\n",
       "      <td>NaN</td>\n",
       "      <td>NaN</td>\n",
       "      <td>NaN</td>\n",
       "      <td>NaN</td>\n",
       "      <td>NaN</td>\n",
       "      <td>NaN</td>\n",
       "      <td>NaN</td>\n",
       "      <td>NaN</td>\n",
       "      <td>0.701649</td>\n",
       "    </tr>\n",
       "    <tr>\n",
       "      <th>1204</th>\n",
       "      <td>20240806_230924</td>\n",
       "      <td>2024-08-07 07:38:55</td>\n",
       "      <td>xgboost_classifier</td>\n",
       "      <td>binary_classification</td>\n",
       "      <td>medium_productions</td>\n",
       "      <td>random_search</td>\n",
       "      <td>True</td>\n",
       "      <td>complex</td>\n",
       "      <td>StandardScaler</td>\n",
       "      <td>0.017069</td>\n",
       "      <td>78.270829</td>\n",
       "      <td>None</td>\n",
       "      <td>0.630282</td>\n",
       "      <td>0.581395</td>\n",
       "      <td>0.595238</td>\n",
       "      <td>0.588235</td>\n",
       "      <td>NaN</td>\n",
       "      <td>NaN</td>\n",
       "      <td>NaN</td>\n",
       "      <td>NaN</td>\n",
       "      <td>NaN</td>\n",
       "      <td>NaN</td>\n",
       "      <td>NaN</td>\n",
       "      <td>NaN</td>\n",
       "      <td>NaN</td>\n",
       "      <td>NaN</td>\n",
       "      <td>0.626733</td>\n",
       "    </tr>\n",
       "    <tr>\n",
       "      <th>1240</th>\n",
       "      <td>20240806_230924</td>\n",
       "      <td>2024-08-07 02:37:31</td>\n",
       "      <td>lightgbm_classifier</td>\n",
       "      <td>binary_classification</td>\n",
       "      <td>large_productions</td>\n",
       "      <td>random_search</td>\n",
       "      <td>False</td>\n",
       "      <td>complex</td>\n",
       "      <td>MinMaxScaler</td>\n",
       "      <td>0.044048</td>\n",
       "      <td>1806.319508</td>\n",
       "      <td>None</td>\n",
       "      <td>0.708703</td>\n",
       "      <td>0.673820</td>\n",
       "      <td>0.640816</td>\n",
       "      <td>0.656904</td>\n",
       "      <td>NaN</td>\n",
       "      <td>NaN</td>\n",
       "      <td>NaN</td>\n",
       "      <td>NaN</td>\n",
       "      <td>NaN</td>\n",
       "      <td>NaN</td>\n",
       "      <td>NaN</td>\n",
       "      <td>NaN</td>\n",
       "      <td>NaN</td>\n",
       "      <td>NaN</td>\n",
       "      <td>0.700911</td>\n",
       "    </tr>\n",
       "    <tr>\n",
       "      <th>1358</th>\n",
       "      <td>20240806_230924</td>\n",
       "      <td>2024-08-07 04:57:15</td>\n",
       "      <td>xgboost_classifier</td>\n",
       "      <td>binary_classification</td>\n",
       "      <td>large_productions</td>\n",
       "      <td>random_search</td>\n",
       "      <td>False</td>\n",
       "      <td>none</td>\n",
       "      <td>RobustScaler</td>\n",
       "      <td>0.079765</td>\n",
       "      <td>24.403921</td>\n",
       "      <td>None</td>\n",
       "      <td>0.660746</td>\n",
       "      <td>0.603846</td>\n",
       "      <td>0.640816</td>\n",
       "      <td>0.621782</td>\n",
       "      <td>NaN</td>\n",
       "      <td>NaN</td>\n",
       "      <td>NaN</td>\n",
       "      <td>NaN</td>\n",
       "      <td>NaN</td>\n",
       "      <td>NaN</td>\n",
       "      <td>NaN</td>\n",
       "      <td>NaN</td>\n",
       "      <td>NaN</td>\n",
       "      <td>NaN</td>\n",
       "      <td>0.658458</td>\n",
       "    </tr>\n",
       "    <tr>\n",
       "      <th>1380</th>\n",
       "      <td>20240806_230924</td>\n",
       "      <td>2024-08-07 02:07:24</td>\n",
       "      <td>xgboost_classifier</td>\n",
       "      <td>binary_classification</td>\n",
       "      <td>large_productions</td>\n",
       "      <td>random_search</td>\n",
       "      <td>False</td>\n",
       "      <td>complex</td>\n",
       "      <td>RobustScaler</td>\n",
       "      <td>0.046037</td>\n",
       "      <td>143.035868</td>\n",
       "      <td>None</td>\n",
       "      <td>0.701599</td>\n",
       "      <td>0.658436</td>\n",
       "      <td>0.653061</td>\n",
       "      <td>0.655738</td>\n",
       "      <td>NaN</td>\n",
       "      <td>NaN</td>\n",
       "      <td>NaN</td>\n",
       "      <td>NaN</td>\n",
       "      <td>NaN</td>\n",
       "      <td>NaN</td>\n",
       "      <td>NaN</td>\n",
       "      <td>NaN</td>\n",
       "      <td>NaN</td>\n",
       "      <td>NaN</td>\n",
       "      <td>0.696027</td>\n",
       "    </tr>\n",
       "    <tr>\n",
       "      <th>1392</th>\n",
       "      <td>20240806_230924</td>\n",
       "      <td>2024-08-07 02:05:01</td>\n",
       "      <td>decision_tree_classifier</td>\n",
       "      <td>binary_classification</td>\n",
       "      <td>large_productions</td>\n",
       "      <td>random_search</td>\n",
       "      <td>False</td>\n",
       "      <td>complex</td>\n",
       "      <td>MinMaxScaler</td>\n",
       "      <td>0.011639</td>\n",
       "      <td>26.616882</td>\n",
       "      <td>None</td>\n",
       "      <td>0.635879</td>\n",
       "      <td>0.569930</td>\n",
       "      <td>0.665306</td>\n",
       "      <td>0.613936</td>\n",
       "      <td>NaN</td>\n",
       "      <td>NaN</td>\n",
       "      <td>NaN</td>\n",
       "      <td>NaN</td>\n",
       "      <td>NaN</td>\n",
       "      <td>NaN</td>\n",
       "      <td>NaN</td>\n",
       "      <td>NaN</td>\n",
       "      <td>NaN</td>\n",
       "      <td>NaN</td>\n",
       "      <td>0.639257</td>\n",
       "    </tr>\n",
       "    <tr>\n",
       "      <th>1441</th>\n",
       "      <td>20240806_230924</td>\n",
       "      <td>2024-08-07 05:38:41</td>\n",
       "      <td>random_forest_classifier</td>\n",
       "      <td>binary_classification</td>\n",
       "      <td>medium_productions</td>\n",
       "      <td>random_search</td>\n",
       "      <td>True</td>\n",
       "      <td>none</td>\n",
       "      <td>StandardScaler</td>\n",
       "      <td>0.172081</td>\n",
       "      <td>76.768763</td>\n",
       "      <td>None</td>\n",
       "      <td>0.633803</td>\n",
       "      <td>0.601852</td>\n",
       "      <td>0.515873</td>\n",
       "      <td>0.555556</td>\n",
       "      <td>NaN</td>\n",
       "      <td>NaN</td>\n",
       "      <td>NaN</td>\n",
       "      <td>NaN</td>\n",
       "      <td>NaN</td>\n",
       "      <td>NaN</td>\n",
       "      <td>NaN</td>\n",
       "      <td>NaN</td>\n",
       "      <td>NaN</td>\n",
       "      <td>NaN</td>\n",
       "      <td>0.621861</td>\n",
       "    </tr>\n",
       "    <tr>\n",
       "      <th>1464</th>\n",
       "      <td>20240806_230924</td>\n",
       "      <td>2024-08-07 04:55:09</td>\n",
       "      <td>lightgbm_classifier</td>\n",
       "      <td>binary_classification</td>\n",
       "      <td>full</td>\n",
       "      <td>random_search</td>\n",
       "      <td>True</td>\n",
       "      <td>none</td>\n",
       "      <td>StandardScaler</td>\n",
       "      <td>0.136141</td>\n",
       "      <td>3713.962981</td>\n",
       "      <td>None</td>\n",
       "      <td>0.654717</td>\n",
       "      <td>0.599251</td>\n",
       "      <td>0.677966</td>\n",
       "      <td>0.636183</td>\n",
       "      <td>NaN</td>\n",
       "      <td>NaN</td>\n",
       "      <td>NaN</td>\n",
       "      <td>NaN</td>\n",
       "      <td>NaN</td>\n",
       "      <td>NaN</td>\n",
       "      <td>NaN</td>\n",
       "      <td>NaN</td>\n",
       "      <td>NaN</td>\n",
       "      <td>NaN</td>\n",
       "      <td>0.657010</td>\n",
       "    </tr>\n",
       "    <tr>\n",
       "      <th>1482</th>\n",
       "      <td>20240806_230924</td>\n",
       "      <td>2024-08-07 05:37:21</td>\n",
       "      <td>lightgbm_classifier</td>\n",
       "      <td>binary_classification</td>\n",
       "      <td>large_productions</td>\n",
       "      <td>random_search</td>\n",
       "      <td>False</td>\n",
       "      <td>none</td>\n",
       "      <td>RobustScaler</td>\n",
       "      <td>0.001390</td>\n",
       "      <td>2406.209833</td>\n",
       "      <td>None</td>\n",
       "      <td>0.673179</td>\n",
       "      <td>0.616858</td>\n",
       "      <td>0.657143</td>\n",
       "      <td>0.636364</td>\n",
       "      <td>NaN</td>\n",
       "      <td>NaN</td>\n",
       "      <td>NaN</td>\n",
       "      <td>NaN</td>\n",
       "      <td>NaN</td>\n",
       "      <td>NaN</td>\n",
       "      <td>NaN</td>\n",
       "      <td>NaN</td>\n",
       "      <td>NaN</td>\n",
       "      <td>NaN</td>\n",
       "      <td>0.671339</td>\n",
       "    </tr>\n",
       "    <tr>\n",
       "      <th>1492</th>\n",
       "      <td>20240806_230924</td>\n",
       "      <td>2024-08-07 07:35:04</td>\n",
       "      <td>logistic_regression</td>\n",
       "      <td>binary_classification</td>\n",
       "      <td>medium_productions</td>\n",
       "      <td>random_search</td>\n",
       "      <td>True</td>\n",
       "      <td>complex</td>\n",
       "      <td>MinMaxScaler</td>\n",
       "      <td>0.047197</td>\n",
       "      <td>32.338481</td>\n",
       "      <td>None</td>\n",
       "      <td>0.651408</td>\n",
       "      <td>0.600000</td>\n",
       "      <td>0.642857</td>\n",
       "      <td>0.620690</td>\n",
       "      <td>NaN</td>\n",
       "      <td>NaN</td>\n",
       "      <td>NaN</td>\n",
       "      <td>NaN</td>\n",
       "      <td>NaN</td>\n",
       "      <td>NaN</td>\n",
       "      <td>NaN</td>\n",
       "      <td>NaN</td>\n",
       "      <td>NaN</td>\n",
       "      <td>NaN</td>\n",
       "      <td>0.650542</td>\n",
       "    </tr>\n",
       "    <tr>\n",
       "      <th>1518</th>\n",
       "      <td>20240806_230924</td>\n",
       "      <td>2024-08-07 06:11:26</td>\n",
       "      <td>random_forest_classifier</td>\n",
       "      <td>binary_classification</td>\n",
       "      <td>full</td>\n",
       "      <td>random_search</td>\n",
       "      <td>True</td>\n",
       "      <td>complex</td>\n",
       "      <td>RobustScaler</td>\n",
       "      <td>0.014910</td>\n",
       "      <td>376.271620</td>\n",
       "      <td>None</td>\n",
       "      <td>0.662264</td>\n",
       "      <td>0.625551</td>\n",
       "      <td>0.601695</td>\n",
       "      <td>0.613391</td>\n",
       "      <td>NaN</td>\n",
       "      <td>NaN</td>\n",
       "      <td>NaN</td>\n",
       "      <td>NaN</td>\n",
       "      <td>NaN</td>\n",
       "      <td>NaN</td>\n",
       "      <td>NaN</td>\n",
       "      <td>NaN</td>\n",
       "      <td>NaN</td>\n",
       "      <td>NaN</td>\n",
       "      <td>0.656290</td>\n",
       "    </tr>\n",
       "    <tr>\n",
       "      <th>1684</th>\n",
       "      <td>20240806_230924</td>\n",
       "      <td>2024-08-07 06:03:16</td>\n",
       "      <td>lightgbm_classifier</td>\n",
       "      <td>binary_classification</td>\n",
       "      <td>medium_productions</td>\n",
       "      <td>random_search</td>\n",
       "      <td>True</td>\n",
       "      <td>none</td>\n",
       "      <td>MinMaxScaler</td>\n",
       "      <td>0.099207</td>\n",
       "      <td>1460.720049</td>\n",
       "      <td>None</td>\n",
       "      <td>0.637324</td>\n",
       "      <td>0.611650</td>\n",
       "      <td>0.500000</td>\n",
       "      <td>0.550218</td>\n",
       "      <td>NaN</td>\n",
       "      <td>NaN</td>\n",
       "      <td>NaN</td>\n",
       "      <td>NaN</td>\n",
       "      <td>NaN</td>\n",
       "      <td>NaN</td>\n",
       "      <td>NaN</td>\n",
       "      <td>NaN</td>\n",
       "      <td>NaN</td>\n",
       "      <td>NaN</td>\n",
       "      <td>0.623418</td>\n",
       "    </tr>\n",
       "    <tr>\n",
       "      <th>1718</th>\n",
       "      <td>20240806_230924</td>\n",
       "      <td>2024-08-07 03:52:35</td>\n",
       "      <td>random_forest_classifier</td>\n",
       "      <td>binary_classification</td>\n",
       "      <td>full</td>\n",
       "      <td>random_search</td>\n",
       "      <td>True</td>\n",
       "      <td>none</td>\n",
       "      <td>StandardScaler</td>\n",
       "      <td>0.005070</td>\n",
       "      <td>121.356685</td>\n",
       "      <td>None</td>\n",
       "      <td>0.649057</td>\n",
       "      <td>0.593633</td>\n",
       "      <td>0.671610</td>\n",
       "      <td>0.630219</td>\n",
       "      <td>NaN</td>\n",
       "      <td>NaN</td>\n",
       "      <td>NaN</td>\n",
       "      <td>NaN</td>\n",
       "      <td>NaN</td>\n",
       "      <td>NaN</td>\n",
       "      <td>NaN</td>\n",
       "      <td>NaN</td>\n",
       "      <td>NaN</td>\n",
       "      <td>NaN</td>\n",
       "      <td>0.651281</td>\n",
       "    </tr>\n",
       "    <tr>\n",
       "      <th>2093</th>\n",
       "      <td>20240806_230924</td>\n",
       "      <td>2024-08-07 04:56:50</td>\n",
       "      <td>decision_tree_classifier</td>\n",
       "      <td>binary_classification</td>\n",
       "      <td>large_productions</td>\n",
       "      <td>random_search</td>\n",
       "      <td>False</td>\n",
       "      <td>none</td>\n",
       "      <td>RobustScaler</td>\n",
       "      <td>0.074404</td>\n",
       "      <td>1.032950</td>\n",
       "      <td>None</td>\n",
       "      <td>0.650089</td>\n",
       "      <td>0.593023</td>\n",
       "      <td>0.624490</td>\n",
       "      <td>0.608350</td>\n",
       "      <td>NaN</td>\n",
       "      <td>NaN</td>\n",
       "      <td>NaN</td>\n",
       "      <td>NaN</td>\n",
       "      <td>NaN</td>\n",
       "      <td>NaN</td>\n",
       "      <td>NaN</td>\n",
       "      <td>NaN</td>\n",
       "      <td>NaN</td>\n",
       "      <td>NaN</td>\n",
       "      <td>0.647151</td>\n",
       "    </tr>\n",
       "    <tr>\n",
       "      <th>2199</th>\n",
       "      <td>20240806_230924</td>\n",
       "      <td>2024-08-07 05:37:24</td>\n",
       "      <td>logistic_regression</td>\n",
       "      <td>binary_classification</td>\n",
       "      <td>medium_productions</td>\n",
       "      <td>random_search</td>\n",
       "      <td>True</td>\n",
       "      <td>none</td>\n",
       "      <td>RobustScaler</td>\n",
       "      <td>0.159037</td>\n",
       "      <td>1.898033</td>\n",
       "      <td>None</td>\n",
       "      <td>0.612676</td>\n",
       "      <td>0.572727</td>\n",
       "      <td>0.500000</td>\n",
       "      <td>0.533898</td>\n",
       "      <td>NaN</td>\n",
       "      <td>NaN</td>\n",
       "      <td>NaN</td>\n",
       "      <td>NaN</td>\n",
       "      <td>NaN</td>\n",
       "      <td>NaN</td>\n",
       "      <td>NaN</td>\n",
       "      <td>NaN</td>\n",
       "      <td>NaN</td>\n",
       "      <td>NaN</td>\n",
       "      <td>0.601266</td>\n",
       "    </tr>\n",
       "    <tr>\n",
       "      <th>2246</th>\n",
       "      <td>20240806_230924</td>\n",
       "      <td>2024-08-07 07:37:15</td>\n",
       "      <td>random_forest_classifier</td>\n",
       "      <td>binary_classification</td>\n",
       "      <td>medium_productions</td>\n",
       "      <td>random_search</td>\n",
       "      <td>True</td>\n",
       "      <td>complex</td>\n",
       "      <td>MinMaxScaler</td>\n",
       "      <td>0.075117</td>\n",
       "      <td>130.257853</td>\n",
       "      <td>None</td>\n",
       "      <td>0.658451</td>\n",
       "      <td>0.633028</td>\n",
       "      <td>0.547619</td>\n",
       "      <td>0.587234</td>\n",
       "      <td>NaN</td>\n",
       "      <td>NaN</td>\n",
       "      <td>NaN</td>\n",
       "      <td>NaN</td>\n",
       "      <td>NaN</td>\n",
       "      <td>NaN</td>\n",
       "      <td>NaN</td>\n",
       "      <td>NaN</td>\n",
       "      <td>NaN</td>\n",
       "      <td>NaN</td>\n",
       "      <td>0.647227</td>\n",
       "    </tr>\n",
       "    <tr>\n",
       "      <th>2597</th>\n",
       "      <td>20240806_230924</td>\n",
       "      <td>2024-08-07 05:38:41</td>\n",
       "      <td>decision_tree_classifier</td>\n",
       "      <td>binary_classification</td>\n",
       "      <td>medium_productions</td>\n",
       "      <td>random_search</td>\n",
       "      <td>True</td>\n",
       "      <td>none</td>\n",
       "      <td>MinMaxScaler</td>\n",
       "      <td>0.047197</td>\n",
       "      <td>0.831582</td>\n",
       "      <td>None</td>\n",
       "      <td>0.595070</td>\n",
       "      <td>0.538462</td>\n",
       "      <td>0.611111</td>\n",
       "      <td>0.572491</td>\n",
       "      <td>NaN</td>\n",
       "      <td>NaN</td>\n",
       "      <td>NaN</td>\n",
       "      <td>NaN</td>\n",
       "      <td>NaN</td>\n",
       "      <td>NaN</td>\n",
       "      <td>NaN</td>\n",
       "      <td>NaN</td>\n",
       "      <td>NaN</td>\n",
       "      <td>NaN</td>\n",
       "      <td>0.596695</td>\n",
       "    </tr>\n",
       "    <tr>\n",
       "      <th>2637</th>\n",
       "      <td>20240806_230924</td>\n",
       "      <td>2024-08-07 02:04:34</td>\n",
       "      <td>random_forest_classifier</td>\n",
       "      <td>binary_classification</td>\n",
       "      <td>large_productions</td>\n",
       "      <td>random_search</td>\n",
       "      <td>False</td>\n",
       "      <td>complex</td>\n",
       "      <td>RobustScaler</td>\n",
       "      <td>0.045760</td>\n",
       "      <td>217.194873</td>\n",
       "      <td>None</td>\n",
       "      <td>0.685613</td>\n",
       "      <td>0.646552</td>\n",
       "      <td>0.612245</td>\n",
       "      <td>0.628931</td>\n",
       "      <td>NaN</td>\n",
       "      <td>NaN</td>\n",
       "      <td>NaN</td>\n",
       "      <td>NaN</td>\n",
       "      <td>NaN</td>\n",
       "      <td>NaN</td>\n",
       "      <td>NaN</td>\n",
       "      <td>NaN</td>\n",
       "      <td>NaN</td>\n",
       "      <td>NaN</td>\n",
       "      <td>0.677192</td>\n",
       "    </tr>\n",
       "    <tr>\n",
       "      <th>2654</th>\n",
       "      <td>20240806_230924</td>\n",
       "      <td>2024-08-07 06:12:00</td>\n",
       "      <td>decision_tree_classifier</td>\n",
       "      <td>binary_classification</td>\n",
       "      <td>full</td>\n",
       "      <td>random_search</td>\n",
       "      <td>True</td>\n",
       "      <td>complex</td>\n",
       "      <td>MinMaxScaler</td>\n",
       "      <td>0.083302</td>\n",
       "      <td>33.580103</td>\n",
       "      <td>None</td>\n",
       "      <td>0.633962</td>\n",
       "      <td>0.576642</td>\n",
       "      <td>0.669492</td>\n",
       "      <td>0.619608</td>\n",
       "      <td>NaN</td>\n",
       "      <td>NaN</td>\n",
       "      <td>NaN</td>\n",
       "      <td>NaN</td>\n",
       "      <td>NaN</td>\n",
       "      <td>NaN</td>\n",
       "      <td>NaN</td>\n",
       "      <td>NaN</td>\n",
       "      <td>NaN</td>\n",
       "      <td>NaN</td>\n",
       "      <td>0.637467</td>\n",
       "    </tr>\n",
       "    <tr>\n",
       "      <th>2822</th>\n",
       "      <td>20240806_230924</td>\n",
       "      <td>2024-08-07 05:38:55</td>\n",
       "      <td>xgboost_classifier</td>\n",
       "      <td>binary_classification</td>\n",
       "      <td>medium_productions</td>\n",
       "      <td>random_search</td>\n",
       "      <td>True</td>\n",
       "      <td>none</td>\n",
       "      <td>MinMaxScaler</td>\n",
       "      <td>0.194733</td>\n",
       "      <td>13.800433</td>\n",
       "      <td>None</td>\n",
       "      <td>0.647887</td>\n",
       "      <td>0.610169</td>\n",
       "      <td>0.571429</td>\n",
       "      <td>0.590164</td>\n",
       "      <td>NaN</td>\n",
       "      <td>NaN</td>\n",
       "      <td>NaN</td>\n",
       "      <td>NaN</td>\n",
       "      <td>NaN</td>\n",
       "      <td>NaN</td>\n",
       "      <td>NaN</td>\n",
       "      <td>NaN</td>\n",
       "      <td>NaN</td>\n",
       "      <td>NaN</td>\n",
       "      <td>0.640145</td>\n",
       "    </tr>\n",
       "    <tr>\n",
       "      <th>2965</th>\n",
       "      <td>20240806_230924</td>\n",
       "      <td>2024-08-07 05:37:22</td>\n",
       "      <td>dummy_classifier</td>\n",
       "      <td>binary_classification</td>\n",
       "      <td>medium_productions</td>\n",
       "      <td>random_search</td>\n",
       "      <td>True</td>\n",
       "      <td>none</td>\n",
       "      <td>MinMaxScaler</td>\n",
       "      <td>0.194733</td>\n",
       "      <td>0.742147</td>\n",
       "      <td>None</td>\n",
       "      <td>0.482394</td>\n",
       "      <td>0.421053</td>\n",
       "      <td>0.444444</td>\n",
       "      <td>0.432432</td>\n",
       "      <td>NaN</td>\n",
       "      <td>NaN</td>\n",
       "      <td>NaN</td>\n",
       "      <td>NaN</td>\n",
       "      <td>NaN</td>\n",
       "      <td>NaN</td>\n",
       "      <td>NaN</td>\n",
       "      <td>NaN</td>\n",
       "      <td>NaN</td>\n",
       "      <td>NaN</td>\n",
       "      <td>0.478551</td>\n",
       "    </tr>\n",
       "    <tr>\n",
       "      <th>3015</th>\n",
       "      <td>20240806_230924</td>\n",
       "      <td>2024-08-07 03:50:29</td>\n",
       "      <td>dummy_classifier</td>\n",
       "      <td>binary_classification</td>\n",
       "      <td>full</td>\n",
       "      <td>random_search</td>\n",
       "      <td>True</td>\n",
       "      <td>none</td>\n",
       "      <td>MinMaxScaler</td>\n",
       "      <td>0.045710</td>\n",
       "      <td>1.016705</td>\n",
       "      <td>None</td>\n",
       "      <td>0.501887</td>\n",
       "      <td>0.442149</td>\n",
       "      <td>0.453390</td>\n",
       "      <td>0.447699</td>\n",
       "      <td>NaN</td>\n",
       "      <td>NaN</td>\n",
       "      <td>NaN</td>\n",
       "      <td>NaN</td>\n",
       "      <td>NaN</td>\n",
       "      <td>NaN</td>\n",
       "      <td>NaN</td>\n",
       "      <td>NaN</td>\n",
       "      <td>NaN</td>\n",
       "      <td>NaN</td>\n",
       "      <td>0.497103</td>\n",
       "    </tr>\n",
       "    <tr>\n",
       "      <th>3127</th>\n",
       "      <td>20240806_230924</td>\n",
       "      <td>2024-08-07 07:34:32</td>\n",
       "      <td>dummy_classifier</td>\n",
       "      <td>binary_classification</td>\n",
       "      <td>medium_productions</td>\n",
       "      <td>random_search</td>\n",
       "      <td>True</td>\n",
       "      <td>complex</td>\n",
       "      <td>MinMaxScaler</td>\n",
       "      <td>0.194733</td>\n",
       "      <td>21.284198</td>\n",
       "      <td>None</td>\n",
       "      <td>0.524648</td>\n",
       "      <td>0.466165</td>\n",
       "      <td>0.492063</td>\n",
       "      <td>0.478764</td>\n",
       "      <td>NaN</td>\n",
       "      <td>NaN</td>\n",
       "      <td>NaN</td>\n",
       "      <td>NaN</td>\n",
       "      <td>NaN</td>\n",
       "      <td>NaN</td>\n",
       "      <td>NaN</td>\n",
       "      <td>NaN</td>\n",
       "      <td>NaN</td>\n",
       "      <td>NaN</td>\n",
       "      <td>0.521348</td>\n",
       "    </tr>\n",
       "  </tbody>\n",
       "</table>\n",
       "</div>"
      ],
      "text/plain": [
       "               run_id           timestamp                model_type  \\\n",
       "138   20240806_230924 2024-08-07 07:04:15       lightgbm_classifier   \n",
       "139   20240806_230924 2024-08-07 04:56:49  random_forest_classifier   \n",
       "153   20240806_230924 2024-08-07 06:03:49          dummy_classifier   \n",
       "169   20240806_230924 2024-08-07 02:00:06          dummy_classifier   \n",
       "272   20240806_230924 2024-08-07 07:37:37  decision_tree_classifier   \n",
       "323   20240806_230924 2024-08-07 03:53:15        xgboost_classifier   \n",
       "578   20240806_230924 2024-08-07 03:52:36  decision_tree_classifier   \n",
       "626   20240806_230924 2024-08-07 06:05:09       logistic_regression   \n",
       "642   20240806_230924 2024-08-07 04:55:10          dummy_classifier   \n",
       "788   20240806_230924 2024-08-07 03:50:33       logistic_regression   \n",
       "808   20240806_230924 2024-08-07 04:55:14       logistic_regression   \n",
       "814   20240806_230924 2024-08-07 07:56:17       lightgbm_classifier   \n",
       "1071  20240806_230924 2024-08-07 06:15:49        xgboost_classifier   \n",
       "1154  20240806_230924 2024-08-07 02:00:57       logistic_regression   \n",
       "1204  20240806_230924 2024-08-07 07:38:55        xgboost_classifier   \n",
       "1240  20240806_230924 2024-08-07 02:37:31       lightgbm_classifier   \n",
       "1358  20240806_230924 2024-08-07 04:57:15        xgboost_classifier   \n",
       "1380  20240806_230924 2024-08-07 02:07:24        xgboost_classifier   \n",
       "1392  20240806_230924 2024-08-07 02:05:01  decision_tree_classifier   \n",
       "1441  20240806_230924 2024-08-07 05:38:41  random_forest_classifier   \n",
       "1464  20240806_230924 2024-08-07 04:55:09       lightgbm_classifier   \n",
       "1482  20240806_230924 2024-08-07 05:37:21       lightgbm_classifier   \n",
       "1492  20240806_230924 2024-08-07 07:35:04       logistic_regression   \n",
       "1518  20240806_230924 2024-08-07 06:11:26  random_forest_classifier   \n",
       "1684  20240806_230924 2024-08-07 06:03:16       lightgbm_classifier   \n",
       "1718  20240806_230924 2024-08-07 03:52:35  random_forest_classifier   \n",
       "2093  20240806_230924 2024-08-07 04:56:50  decision_tree_classifier   \n",
       "2199  20240806_230924 2024-08-07 05:37:24       logistic_regression   \n",
       "2246  20240806_230924 2024-08-07 07:37:15  random_forest_classifier   \n",
       "2597  20240806_230924 2024-08-07 05:38:41  decision_tree_classifier   \n",
       "2637  20240806_230924 2024-08-07 02:04:34  random_forest_classifier   \n",
       "2654  20240806_230924 2024-08-07 06:12:00  decision_tree_classifier   \n",
       "2822  20240806_230924 2024-08-07 05:38:55        xgboost_classifier   \n",
       "2965  20240806_230924 2024-08-07 05:37:22          dummy_classifier   \n",
       "3015  20240806_230924 2024-08-07 03:50:29          dummy_classifier   \n",
       "3127  20240806_230924 2024-08-07 07:34:32          dummy_classifier   \n",
       "\n",
       "               problem_type        dataset_name      grid_type  \\\n",
       "138   binary_classification                full  random_search   \n",
       "139   binary_classification   large_productions  random_search   \n",
       "153   binary_classification                full  random_search   \n",
       "169   binary_classification   large_productions  random_search   \n",
       "272   binary_classification  medium_productions  random_search   \n",
       "323   binary_classification                full  random_search   \n",
       "578   binary_classification                full  random_search   \n",
       "626   binary_classification                full  random_search   \n",
       "642   binary_classification   large_productions  random_search   \n",
       "788   binary_classification                full  random_search   \n",
       "808   binary_classification   large_productions  random_search   \n",
       "814   binary_classification  medium_productions  random_search   \n",
       "1071  binary_classification                full  random_search   \n",
       "1154  binary_classification   large_productions  random_search   \n",
       "1204  binary_classification  medium_productions  random_search   \n",
       "1240  binary_classification   large_productions  random_search   \n",
       "1358  binary_classification   large_productions  random_search   \n",
       "1380  binary_classification   large_productions  random_search   \n",
       "1392  binary_classification   large_productions  random_search   \n",
       "1441  binary_classification  medium_productions  random_search   \n",
       "1464  binary_classification                full  random_search   \n",
       "1482  binary_classification   large_productions  random_search   \n",
       "1492  binary_classification  medium_productions  random_search   \n",
       "1518  binary_classification                full  random_search   \n",
       "1684  binary_classification  medium_productions  random_search   \n",
       "1718  binary_classification                full  random_search   \n",
       "2093  binary_classification   large_productions  random_search   \n",
       "2199  binary_classification  medium_productions  random_search   \n",
       "2246  binary_classification  medium_productions  random_search   \n",
       "2597  binary_classification  medium_productions  random_search   \n",
       "2637  binary_classification   large_productions  random_search   \n",
       "2654  binary_classification                full  random_search   \n",
       "2822  binary_classification  medium_productions  random_search   \n",
       "2965  binary_classification  medium_productions  random_search   \n",
       "3015  binary_classification                full  random_search   \n",
       "3127  binary_classification  medium_productions  random_search   \n",
       "\n",
       "      has_outliers_removed feature_engineering          scaler  \\\n",
       "138                   True             complex    RobustScaler   \n",
       "139                  False                none    MinMaxScaler   \n",
       "153                   True             complex    MinMaxScaler   \n",
       "169                  False             complex    MinMaxScaler   \n",
       "272                   True             complex    RobustScaler   \n",
       "323                   True                none    MinMaxScaler   \n",
       "578                   True                none    RobustScaler   \n",
       "626                   True             complex    MinMaxScaler   \n",
       "642                  False                none    RobustScaler   \n",
       "788                   True                none  StandardScaler   \n",
       "808                  False                none    RobustScaler   \n",
       "814                   True             complex    MinMaxScaler   \n",
       "1071                  True             complex    RobustScaler   \n",
       "1154                 False             complex    MinMaxScaler   \n",
       "1204                  True             complex  StandardScaler   \n",
       "1240                 False             complex    MinMaxScaler   \n",
       "1358                 False                none    RobustScaler   \n",
       "1380                 False             complex    RobustScaler   \n",
       "1392                 False             complex    MinMaxScaler   \n",
       "1441                  True                none  StandardScaler   \n",
       "1464                  True                none  StandardScaler   \n",
       "1482                 False                none    RobustScaler   \n",
       "1492                  True             complex    MinMaxScaler   \n",
       "1518                  True             complex    RobustScaler   \n",
       "1684                  True                none    MinMaxScaler   \n",
       "1718                  True                none  StandardScaler   \n",
       "2093                 False                none    RobustScaler   \n",
       "2199                  True                none    RobustScaler   \n",
       "2246                  True             complex    MinMaxScaler   \n",
       "2597                  True                none    MinMaxScaler   \n",
       "2637                 False             complex    RobustScaler   \n",
       "2654                  True             complex    MinMaxScaler   \n",
       "2822                  True                none    MinMaxScaler   \n",
       "2965                  True                none    MinMaxScaler   \n",
       "3015                  True                none    MinMaxScaler   \n",
       "3127                  True             complex    MinMaxScaler   \n",
       "\n",
       "      variance_threshold     duration number_of_combinations  Accuracy  \\\n",
       "138             0.005302  2905.855017                   None  0.683962   \n",
       "139             0.091307    95.522064                   None  0.683837   \n",
       "153             0.045710    32.167884                   None  0.512264   \n",
       "169             0.122371    24.920379                   None  0.523979   \n",
       "272             0.079764    21.878734                   None  0.584507   \n",
       "323             0.178965    39.227496                   None  0.645283   \n",
       "578             0.074404     1.355146                   None  0.629245   \n",
       "626             0.047197    79.547780                   None  0.655660   \n",
       "642             0.181653     0.833733                   None  0.493783   \n",
       "788             0.029617     3.723865                   None  0.630189   \n",
       "808             0.073294     3.136091                   None  0.655417   \n",
       "814             0.116137  1041.456089                   None  0.637324   \n",
       "1071            0.036971   229.217930                   None  0.687736   \n",
       "1154            0.047197    51.048116                   None  0.701599   \n",
       "1204            0.017069    78.270829                   None  0.630282   \n",
       "1240            0.044048  1806.319508                   None  0.708703   \n",
       "1358            0.079765    24.403921                   None  0.660746   \n",
       "1380            0.046037   143.035868                   None  0.701599   \n",
       "1392            0.011639    26.616882                   None  0.635879   \n",
       "1441            0.172081    76.768763                   None  0.633803   \n",
       "1464            0.136141  3713.962981                   None  0.654717   \n",
       "1482            0.001390  2406.209833                   None  0.673179   \n",
       "1492            0.047197    32.338481                   None  0.651408   \n",
       "1518            0.014910   376.271620                   None  0.662264   \n",
       "1684            0.099207  1460.720049                   None  0.637324   \n",
       "1718            0.005070   121.356685                   None  0.649057   \n",
       "2093            0.074404     1.032950                   None  0.650089   \n",
       "2199            0.159037     1.898033                   None  0.612676   \n",
       "2246            0.075117   130.257853                   None  0.658451   \n",
       "2597            0.047197     0.831582                   None  0.595070   \n",
       "2637            0.045760   217.194873                   None  0.685613   \n",
       "2654            0.083302    33.580103                   None  0.633962   \n",
       "2822            0.194733    13.800433                   None  0.647887   \n",
       "2965            0.194733     0.742147                   None  0.482394   \n",
       "3015            0.045710     1.016705                   None  0.501887   \n",
       "3127            0.194733    21.284198                   None  0.524648   \n",
       "\n",
       "      Precision    Recall  F1 Score  MSE  MAPE  MAE  RMSE  RMSLE  MSLE  R2  \\\n",
       "138    0.630975  0.699153  0.663317  NaN   NaN  NaN   NaN    NaN   NaN NaN   \n",
       "139    0.632411  0.653061  0.642570  NaN   NaN  NaN   NaN    NaN   NaN NaN   \n",
       "153    0.453416  0.463983  0.458639  NaN   NaN  NaN   NaN    NaN   NaN NaN   \n",
       "169    0.456274  0.489796  0.472441  NaN   NaN  NaN   NaN    NaN   NaN NaN   \n",
       "272    0.534483  0.492063  0.512397  NaN   NaN  NaN   NaN    NaN   NaN NaN   \n",
       "323    0.604348  0.588983  0.596567  NaN   NaN  NaN   NaN    NaN   NaN NaN   \n",
       "578    0.582463  0.591102  0.586751  NaN   NaN  NaN   NaN    NaN   NaN NaN   \n",
       "626    0.607646  0.639831  0.623323  NaN   NaN  NaN   NaN    NaN   NaN NaN   \n",
       "642    0.429078  0.493878  0.459203  NaN   NaN  NaN   NaN    NaN   NaN NaN   \n",
       "788    0.576628  0.637712  0.605634  NaN   NaN  NaN   NaN    NaN   NaN NaN   \n",
       "808    0.596958  0.640816  0.618110  NaN   NaN  NaN   NaN    NaN   NaN NaN   \n",
       "814    0.585185  0.626984  0.605364  NaN   NaN  NaN   NaN    NaN   NaN NaN   \n",
       "1071   0.654945  0.631356  0.642934  NaN   NaN  NaN   NaN    NaN   NaN NaN   \n",
       "1154   0.644195  0.702041  0.671875  NaN   NaN  NaN   NaN    NaN   NaN NaN   \n",
       "1204   0.581395  0.595238  0.588235  NaN   NaN  NaN   NaN    NaN   NaN NaN   \n",
       "1240   0.673820  0.640816  0.656904  NaN   NaN  NaN   NaN    NaN   NaN NaN   \n",
       "1358   0.603846  0.640816  0.621782  NaN   NaN  NaN   NaN    NaN   NaN NaN   \n",
       "1380   0.658436  0.653061  0.655738  NaN   NaN  NaN   NaN    NaN   NaN NaN   \n",
       "1392   0.569930  0.665306  0.613936  NaN   NaN  NaN   NaN    NaN   NaN NaN   \n",
       "1441   0.601852  0.515873  0.555556  NaN   NaN  NaN   NaN    NaN   NaN NaN   \n",
       "1464   0.599251  0.677966  0.636183  NaN   NaN  NaN   NaN    NaN   NaN NaN   \n",
       "1482   0.616858  0.657143  0.636364  NaN   NaN  NaN   NaN    NaN   NaN NaN   \n",
       "1492   0.600000  0.642857  0.620690  NaN   NaN  NaN   NaN    NaN   NaN NaN   \n",
       "1518   0.625551  0.601695  0.613391  NaN   NaN  NaN   NaN    NaN   NaN NaN   \n",
       "1684   0.611650  0.500000  0.550218  NaN   NaN  NaN   NaN    NaN   NaN NaN   \n",
       "1718   0.593633  0.671610  0.630219  NaN   NaN  NaN   NaN    NaN   NaN NaN   \n",
       "2093   0.593023  0.624490  0.608350  NaN   NaN  NaN   NaN    NaN   NaN NaN   \n",
       "2199   0.572727  0.500000  0.533898  NaN   NaN  NaN   NaN    NaN   NaN NaN   \n",
       "2246   0.633028  0.547619  0.587234  NaN   NaN  NaN   NaN    NaN   NaN NaN   \n",
       "2597   0.538462  0.611111  0.572491  NaN   NaN  NaN   NaN    NaN   NaN NaN   \n",
       "2637   0.646552  0.612245  0.628931  NaN   NaN  NaN   NaN    NaN   NaN NaN   \n",
       "2654   0.576642  0.669492  0.619608  NaN   NaN  NaN   NaN    NaN   NaN NaN   \n",
       "2822   0.610169  0.571429  0.590164  NaN   NaN  NaN   NaN    NaN   NaN NaN   \n",
       "2965   0.421053  0.444444  0.432432  NaN   NaN  NaN   NaN    NaN   NaN NaN   \n",
       "3015   0.442149  0.453390  0.447699  NaN   NaN  NaN   NaN    NaN   NaN NaN   \n",
       "3127   0.466165  0.492063  0.478764  NaN   NaN  NaN   NaN    NaN   NaN NaN   \n",
       "\n",
       "      Threshold Probability Accuracy  Threshold MAPE  Threshold MAPE (25%)  \\\n",
       "138                              NaN             NaN                   NaN   \n",
       "139                              NaN             NaN                   NaN   \n",
       "153                              NaN             NaN                   NaN   \n",
       "169                              NaN             NaN                   NaN   \n",
       "272                              NaN             NaN                   NaN   \n",
       "323                              NaN             NaN                   NaN   \n",
       "578                              NaN             NaN                   NaN   \n",
       "626                              NaN             NaN                   NaN   \n",
       "642                              NaN             NaN                   NaN   \n",
       "788                              NaN             NaN                   NaN   \n",
       "808                              NaN             NaN                   NaN   \n",
       "814                              NaN             NaN                   NaN   \n",
       "1071                             NaN             NaN                   NaN   \n",
       "1154                             NaN             NaN                   NaN   \n",
       "1204                             NaN             NaN                   NaN   \n",
       "1240                             NaN             NaN                   NaN   \n",
       "1358                             NaN             NaN                   NaN   \n",
       "1380                             NaN             NaN                   NaN   \n",
       "1392                             NaN             NaN                   NaN   \n",
       "1441                             NaN             NaN                   NaN   \n",
       "1464                             NaN             NaN                   NaN   \n",
       "1482                             NaN             NaN                   NaN   \n",
       "1492                             NaN             NaN                   NaN   \n",
       "1518                             NaN             NaN                   NaN   \n",
       "1684                             NaN             NaN                   NaN   \n",
       "1718                             NaN             NaN                   NaN   \n",
       "2093                             NaN             NaN                   NaN   \n",
       "2199                             NaN             NaN                   NaN   \n",
       "2246                             NaN             NaN                   NaN   \n",
       "2597                             NaN             NaN                   NaN   \n",
       "2637                             NaN             NaN                   NaN   \n",
       "2654                             NaN             NaN                   NaN   \n",
       "2822                             NaN             NaN                   NaN   \n",
       "2965                             NaN             NaN                   NaN   \n",
       "3015                             NaN             NaN                   NaN   \n",
       "3127                             NaN             NaN                   NaN   \n",
       "\n",
       "      ROC AUC Score  \n",
       "138        0.685461  \n",
       "139        0.680304  \n",
       "153        0.507502  \n",
       "169        0.520055  \n",
       "272        0.575146  \n",
       "323        0.639730  \n",
       "578        0.625483  \n",
       "626        0.654099  \n",
       "642        0.493794  \n",
       "788        0.630931  \n",
       "808        0.653741  \n",
       "814        0.636277  \n",
       "1071       0.682175  \n",
       "1154       0.701649  \n",
       "1204       0.626733  \n",
       "1240       0.700911  \n",
       "1358       0.658458  \n",
       "1380       0.696027  \n",
       "1392       0.639257  \n",
       "1441       0.621861  \n",
       "1464       0.657010  \n",
       "1482       0.671339  \n",
       "1492       0.650542  \n",
       "1518       0.656290  \n",
       "1684       0.623418  \n",
       "1718       0.651281  \n",
       "2093       0.647151  \n",
       "2199       0.601266  \n",
       "2246       0.647227  \n",
       "2597       0.596695  \n",
       "2637       0.677192  \n",
       "2654       0.637467  \n",
       "2822       0.640145  \n",
       "2965       0.478551  \n",
       "3015       0.497103  \n",
       "3127       0.521348  "
      ]
     },
     "execution_count": 36,
     "metadata": {},
     "output_type": "execute_result"
    }
   ],
   "source": [
    "plot_one_metric_of_different_datasets_per_feature_engineering_outliers_with_plotly(experiment_df, problem_type='binary_classification', metric='F1 Score', metric_agg='max')\n"
   ]
  },
  {
   "cell_type": "code",
   "execution_count": 37,
   "metadata": {},
   "outputs": [
    {
     "data": {
      "application/vnd.plotly.v1+json": {
       "config": {
        "plotlyServerURL": "https://plot.ly"
       },
       "data": [
        {
         "alignmentgroup": "True",
         "hovertemplate": "Outliers Removed=False<br>Feature Engineering Type=%{x}<br>F1 Score Value=%{text}<extra></extra>",
         "legendgroup": "False",
         "marker": {
          "color": "#66C2A5",
          "pattern": {
           "shape": ""
          }
         },
         "name": "False",
         "offsetgroup": "False",
         "orientation": "v",
         "showlegend": true,
         "text": [
          0.5070856901841209
         ],
         "textposition": "outside",
         "texttemplate": "%{text:.2s}",
         "type": "bar",
         "x": [
          "complex"
         ],
         "xaxis": "x",
         "y": [
          0.5070856901841209
         ],
         "yaxis": "y"
        }
       ],
       "layout": {
        "bargap": 0.15,
        "barmode": "group",
        "font": {
         "color": "#333333",
         "family": "Arial",
         "size": 12
        },
        "legend": {
         "orientation": "h",
         "title": {
          "text": "Outliers Removed"
         },
         "tracegroupgap": 0,
         "x": 1,
         "xanchor": "right",
         "y": 1.02,
         "yanchor": "bottom"
        },
        "margin": {
         "b": 50,
         "l": 60,
         "r": 30,
         "t": 80
        },
        "plot_bgcolor": "white",
        "showlegend": true,
        "template": {
         "data": {
          "bar": [
           {
            "error_x": {
             "color": "#2a3f5f"
            },
            "error_y": {
             "color": "#2a3f5f"
            },
            "marker": {
             "line": {
              "color": "#E5ECF6",
              "width": 0.5
             },
             "pattern": {
              "fillmode": "overlay",
              "size": 10,
              "solidity": 0.2
             }
            },
            "type": "bar"
           }
          ],
          "barpolar": [
           {
            "marker": {
             "line": {
              "color": "#E5ECF6",
              "width": 0.5
             },
             "pattern": {
              "fillmode": "overlay",
              "size": 10,
              "solidity": 0.2
             }
            },
            "type": "barpolar"
           }
          ],
          "carpet": [
           {
            "aaxis": {
             "endlinecolor": "#2a3f5f",
             "gridcolor": "white",
             "linecolor": "white",
             "minorgridcolor": "white",
             "startlinecolor": "#2a3f5f"
            },
            "baxis": {
             "endlinecolor": "#2a3f5f",
             "gridcolor": "white",
             "linecolor": "white",
             "minorgridcolor": "white",
             "startlinecolor": "#2a3f5f"
            },
            "type": "carpet"
           }
          ],
          "choropleth": [
           {
            "colorbar": {
             "outlinewidth": 0,
             "ticks": ""
            },
            "type": "choropleth"
           }
          ],
          "contour": [
           {
            "colorbar": {
             "outlinewidth": 0,
             "ticks": ""
            },
            "colorscale": [
             [
              0,
              "#0d0887"
             ],
             [
              0.1111111111111111,
              "#46039f"
             ],
             [
              0.2222222222222222,
              "#7201a8"
             ],
             [
              0.3333333333333333,
              "#9c179e"
             ],
             [
              0.4444444444444444,
              "#bd3786"
             ],
             [
              0.5555555555555556,
              "#d8576b"
             ],
             [
              0.6666666666666666,
              "#ed7953"
             ],
             [
              0.7777777777777778,
              "#fb9f3a"
             ],
             [
              0.8888888888888888,
              "#fdca26"
             ],
             [
              1,
              "#f0f921"
             ]
            ],
            "type": "contour"
           }
          ],
          "contourcarpet": [
           {
            "colorbar": {
             "outlinewidth": 0,
             "ticks": ""
            },
            "type": "contourcarpet"
           }
          ],
          "heatmap": [
           {
            "colorbar": {
             "outlinewidth": 0,
             "ticks": ""
            },
            "colorscale": [
             [
              0,
              "#0d0887"
             ],
             [
              0.1111111111111111,
              "#46039f"
             ],
             [
              0.2222222222222222,
              "#7201a8"
             ],
             [
              0.3333333333333333,
              "#9c179e"
             ],
             [
              0.4444444444444444,
              "#bd3786"
             ],
             [
              0.5555555555555556,
              "#d8576b"
             ],
             [
              0.6666666666666666,
              "#ed7953"
             ],
             [
              0.7777777777777778,
              "#fb9f3a"
             ],
             [
              0.8888888888888888,
              "#fdca26"
             ],
             [
              1,
              "#f0f921"
             ]
            ],
            "type": "heatmap"
           }
          ],
          "heatmapgl": [
           {
            "colorbar": {
             "outlinewidth": 0,
             "ticks": ""
            },
            "colorscale": [
             [
              0,
              "#0d0887"
             ],
             [
              0.1111111111111111,
              "#46039f"
             ],
             [
              0.2222222222222222,
              "#7201a8"
             ],
             [
              0.3333333333333333,
              "#9c179e"
             ],
             [
              0.4444444444444444,
              "#bd3786"
             ],
             [
              0.5555555555555556,
              "#d8576b"
             ],
             [
              0.6666666666666666,
              "#ed7953"
             ],
             [
              0.7777777777777778,
              "#fb9f3a"
             ],
             [
              0.8888888888888888,
              "#fdca26"
             ],
             [
              1,
              "#f0f921"
             ]
            ],
            "type": "heatmapgl"
           }
          ],
          "histogram": [
           {
            "marker": {
             "pattern": {
              "fillmode": "overlay",
              "size": 10,
              "solidity": 0.2
             }
            },
            "type": "histogram"
           }
          ],
          "histogram2d": [
           {
            "colorbar": {
             "outlinewidth": 0,
             "ticks": ""
            },
            "colorscale": [
             [
              0,
              "#0d0887"
             ],
             [
              0.1111111111111111,
              "#46039f"
             ],
             [
              0.2222222222222222,
              "#7201a8"
             ],
             [
              0.3333333333333333,
              "#9c179e"
             ],
             [
              0.4444444444444444,
              "#bd3786"
             ],
             [
              0.5555555555555556,
              "#d8576b"
             ],
             [
              0.6666666666666666,
              "#ed7953"
             ],
             [
              0.7777777777777778,
              "#fb9f3a"
             ],
             [
              0.8888888888888888,
              "#fdca26"
             ],
             [
              1,
              "#f0f921"
             ]
            ],
            "type": "histogram2d"
           }
          ],
          "histogram2dcontour": [
           {
            "colorbar": {
             "outlinewidth": 0,
             "ticks": ""
            },
            "colorscale": [
             [
              0,
              "#0d0887"
             ],
             [
              0.1111111111111111,
              "#46039f"
             ],
             [
              0.2222222222222222,
              "#7201a8"
             ],
             [
              0.3333333333333333,
              "#9c179e"
             ],
             [
              0.4444444444444444,
              "#bd3786"
             ],
             [
              0.5555555555555556,
              "#d8576b"
             ],
             [
              0.6666666666666666,
              "#ed7953"
             ],
             [
              0.7777777777777778,
              "#fb9f3a"
             ],
             [
              0.8888888888888888,
              "#fdca26"
             ],
             [
              1,
              "#f0f921"
             ]
            ],
            "type": "histogram2dcontour"
           }
          ],
          "mesh3d": [
           {
            "colorbar": {
             "outlinewidth": 0,
             "ticks": ""
            },
            "type": "mesh3d"
           }
          ],
          "parcoords": [
           {
            "line": {
             "colorbar": {
              "outlinewidth": 0,
              "ticks": ""
             }
            },
            "type": "parcoords"
           }
          ],
          "pie": [
           {
            "automargin": true,
            "type": "pie"
           }
          ],
          "scatter": [
           {
            "fillpattern": {
             "fillmode": "overlay",
             "size": 10,
             "solidity": 0.2
            },
            "type": "scatter"
           }
          ],
          "scatter3d": [
           {
            "line": {
             "colorbar": {
              "outlinewidth": 0,
              "ticks": ""
             }
            },
            "marker": {
             "colorbar": {
              "outlinewidth": 0,
              "ticks": ""
             }
            },
            "type": "scatter3d"
           }
          ],
          "scattercarpet": [
           {
            "marker": {
             "colorbar": {
              "outlinewidth": 0,
              "ticks": ""
             }
            },
            "type": "scattercarpet"
           }
          ],
          "scattergeo": [
           {
            "marker": {
             "colorbar": {
              "outlinewidth": 0,
              "ticks": ""
             }
            },
            "type": "scattergeo"
           }
          ],
          "scattergl": [
           {
            "marker": {
             "colorbar": {
              "outlinewidth": 0,
              "ticks": ""
             }
            },
            "type": "scattergl"
           }
          ],
          "scattermapbox": [
           {
            "marker": {
             "colorbar": {
              "outlinewidth": 0,
              "ticks": ""
             }
            },
            "type": "scattermapbox"
           }
          ],
          "scatterpolar": [
           {
            "marker": {
             "colorbar": {
              "outlinewidth": 0,
              "ticks": ""
             }
            },
            "type": "scatterpolar"
           }
          ],
          "scatterpolargl": [
           {
            "marker": {
             "colorbar": {
              "outlinewidth": 0,
              "ticks": ""
             }
            },
            "type": "scatterpolargl"
           }
          ],
          "scatterternary": [
           {
            "marker": {
             "colorbar": {
              "outlinewidth": 0,
              "ticks": ""
             }
            },
            "type": "scatterternary"
           }
          ],
          "surface": [
           {
            "colorbar": {
             "outlinewidth": 0,
             "ticks": ""
            },
            "colorscale": [
             [
              0,
              "#0d0887"
             ],
             [
              0.1111111111111111,
              "#46039f"
             ],
             [
              0.2222222222222222,
              "#7201a8"
             ],
             [
              0.3333333333333333,
              "#9c179e"
             ],
             [
              0.4444444444444444,
              "#bd3786"
             ],
             [
              0.5555555555555556,
              "#d8576b"
             ],
             [
              0.6666666666666666,
              "#ed7953"
             ],
             [
              0.7777777777777778,
              "#fb9f3a"
             ],
             [
              0.8888888888888888,
              "#fdca26"
             ],
             [
              1,
              "#f0f921"
             ]
            ],
            "type": "surface"
           }
          ],
          "table": [
           {
            "cells": {
             "fill": {
              "color": "#EBF0F8"
             },
             "line": {
              "color": "white"
             }
            },
            "header": {
             "fill": {
              "color": "#C8D4E3"
             },
             "line": {
              "color": "white"
             }
            },
            "type": "table"
           }
          ]
         },
         "layout": {
          "annotationdefaults": {
           "arrowcolor": "#2a3f5f",
           "arrowhead": 0,
           "arrowwidth": 1
          },
          "autotypenumbers": "strict",
          "coloraxis": {
           "colorbar": {
            "outlinewidth": 0,
            "ticks": ""
           }
          },
          "colorscale": {
           "diverging": [
            [
             0,
             "#8e0152"
            ],
            [
             0.1,
             "#c51b7d"
            ],
            [
             0.2,
             "#de77ae"
            ],
            [
             0.3,
             "#f1b6da"
            ],
            [
             0.4,
             "#fde0ef"
            ],
            [
             0.5,
             "#f7f7f7"
            ],
            [
             0.6,
             "#e6f5d0"
            ],
            [
             0.7,
             "#b8e186"
            ],
            [
             0.8,
             "#7fbc41"
            ],
            [
             0.9,
             "#4d9221"
            ],
            [
             1,
             "#276419"
            ]
           ],
           "sequential": [
            [
             0,
             "#0d0887"
            ],
            [
             0.1111111111111111,
             "#46039f"
            ],
            [
             0.2222222222222222,
             "#7201a8"
            ],
            [
             0.3333333333333333,
             "#9c179e"
            ],
            [
             0.4444444444444444,
             "#bd3786"
            ],
            [
             0.5555555555555556,
             "#d8576b"
            ],
            [
             0.6666666666666666,
             "#ed7953"
            ],
            [
             0.7777777777777778,
             "#fb9f3a"
            ],
            [
             0.8888888888888888,
             "#fdca26"
            ],
            [
             1,
             "#f0f921"
            ]
           ],
           "sequentialminus": [
            [
             0,
             "#0d0887"
            ],
            [
             0.1111111111111111,
             "#46039f"
            ],
            [
             0.2222222222222222,
             "#7201a8"
            ],
            [
             0.3333333333333333,
             "#9c179e"
            ],
            [
             0.4444444444444444,
             "#bd3786"
            ],
            [
             0.5555555555555556,
             "#d8576b"
            ],
            [
             0.6666666666666666,
             "#ed7953"
            ],
            [
             0.7777777777777778,
             "#fb9f3a"
            ],
            [
             0.8888888888888888,
             "#fdca26"
            ],
            [
             1,
             "#f0f921"
            ]
           ]
          },
          "colorway": [
           "#636efa",
           "#EF553B",
           "#00cc96",
           "#ab63fa",
           "#FFA15A",
           "#19d3f3",
           "#FF6692",
           "#B6E880",
           "#FF97FF",
           "#FECB52"
          ],
          "font": {
           "color": "#2a3f5f"
          },
          "geo": {
           "bgcolor": "white",
           "lakecolor": "white",
           "landcolor": "#E5ECF6",
           "showlakes": true,
           "showland": true,
           "subunitcolor": "white"
          },
          "hoverlabel": {
           "align": "left"
          },
          "hovermode": "closest",
          "mapbox": {
           "style": "light"
          },
          "paper_bgcolor": "white",
          "plot_bgcolor": "#E5ECF6",
          "polar": {
           "angularaxis": {
            "gridcolor": "white",
            "linecolor": "white",
            "ticks": ""
           },
           "bgcolor": "#E5ECF6",
           "radialaxis": {
            "gridcolor": "white",
            "linecolor": "white",
            "ticks": ""
           }
          },
          "scene": {
           "xaxis": {
            "backgroundcolor": "#E5ECF6",
            "gridcolor": "white",
            "gridwidth": 2,
            "linecolor": "white",
            "showbackground": true,
            "ticks": "",
            "zerolinecolor": "white"
           },
           "yaxis": {
            "backgroundcolor": "#E5ECF6",
            "gridcolor": "white",
            "gridwidth": 2,
            "linecolor": "white",
            "showbackground": true,
            "ticks": "",
            "zerolinecolor": "white"
           },
           "zaxis": {
            "backgroundcolor": "#E5ECF6",
            "gridcolor": "white",
            "gridwidth": 2,
            "linecolor": "white",
            "showbackground": true,
            "ticks": "",
            "zerolinecolor": "white"
           }
          },
          "shapedefaults": {
           "line": {
            "color": "#2a3f5f"
           }
          },
          "ternary": {
           "aaxis": {
            "gridcolor": "white",
            "linecolor": "white",
            "ticks": ""
           },
           "baxis": {
            "gridcolor": "white",
            "linecolor": "white",
            "ticks": ""
           },
           "bgcolor": "#E5ECF6",
           "caxis": {
            "gridcolor": "white",
            "linecolor": "white",
            "ticks": ""
           }
          },
          "title": {
           "x": 0.05
          },
          "xaxis": {
           "automargin": true,
           "gridcolor": "white",
           "linecolor": "white",
           "ticks": "",
           "title": {
            "standoff": 15
           },
           "zerolinecolor": "white",
           "zerolinewidth": 2
          },
          "yaxis": {
           "automargin": true,
           "gridcolor": "white",
           "linecolor": "white",
           "ticks": "",
           "title": {
            "standoff": 15
           },
           "zerolinecolor": "white",
           "zerolinewidth": 2
          }
         }
        },
        "title": {
         "font": {
          "color": "#333333",
          "size": 20
         },
         "text": "F1 Score for full",
         "x": 0.5,
         "xanchor": "center",
         "y": 0.95,
         "yanchor": "top"
        },
        "xaxis": {
         "anchor": "y",
         "categoryarray": [
          "none",
          "complex"
         ],
         "categoryorder": "array",
         "domain": [
          0,
          1
         ],
         "gridcolor": "#E5E5E5",
         "showgrid": true,
         "tickangle": 0,
         "tickfont": {
          "size": 10
         },
         "title": {
          "text": "Feature Engineering Type"
         }
        },
        "yaxis": {
         "anchor": "x",
         "domain": [
          0,
          1
         ],
         "gridcolor": "#E5E5E5",
         "showgrid": true,
         "tickfont": {
          "size": 10
         },
         "title": {
          "text": "F1 Score Value"
         },
         "type": "linear",
         "zeroline": true,
         "zerolinecolor": "#E5E5E5"
        }
       }
      }
     },
     "metadata": {},
     "output_type": "display_data"
    },
    {
     "data": {
      "application/vnd.plotly.v1+json": {
       "config": {
        "plotlyServerURL": "https://plot.ly"
       },
       "data": [
        {
         "alignmentgroup": "True",
         "hovertemplate": "Outliers Removed=True<br>Feature Engineering Type=%{x}<br>F1 Score Value=%{text}<extra></extra>",
         "legendgroup": "True",
         "marker": {
          "color": "#FC8D62",
          "pattern": {
           "shape": ""
          }
         },
         "name": "True",
         "offsetgroup": "True",
         "orientation": "v",
         "showlegend": true,
         "text": [
          0.5152124577849952
         ],
         "textposition": "outside",
         "texttemplate": "%{text:.2s}",
         "type": "bar",
         "x": [
          "complex"
         ],
         "xaxis": "x",
         "y": [
          0.5152124577849952
         ],
         "yaxis": "y"
        }
       ],
       "layout": {
        "bargap": 0.15,
        "barmode": "group",
        "font": {
         "color": "#333333",
         "family": "Arial",
         "size": 12
        },
        "legend": {
         "orientation": "h",
         "title": {
          "text": "Outliers Removed"
         },
         "tracegroupgap": 0,
         "x": 1,
         "xanchor": "right",
         "y": 1.02,
         "yanchor": "bottom"
        },
        "margin": {
         "b": 50,
         "l": 60,
         "r": 30,
         "t": 80
        },
        "plot_bgcolor": "white",
        "showlegend": true,
        "template": {
         "data": {
          "bar": [
           {
            "error_x": {
             "color": "#2a3f5f"
            },
            "error_y": {
             "color": "#2a3f5f"
            },
            "marker": {
             "line": {
              "color": "#E5ECF6",
              "width": 0.5
             },
             "pattern": {
              "fillmode": "overlay",
              "size": 10,
              "solidity": 0.2
             }
            },
            "type": "bar"
           }
          ],
          "barpolar": [
           {
            "marker": {
             "line": {
              "color": "#E5ECF6",
              "width": 0.5
             },
             "pattern": {
              "fillmode": "overlay",
              "size": 10,
              "solidity": 0.2
             }
            },
            "type": "barpolar"
           }
          ],
          "carpet": [
           {
            "aaxis": {
             "endlinecolor": "#2a3f5f",
             "gridcolor": "white",
             "linecolor": "white",
             "minorgridcolor": "white",
             "startlinecolor": "#2a3f5f"
            },
            "baxis": {
             "endlinecolor": "#2a3f5f",
             "gridcolor": "white",
             "linecolor": "white",
             "minorgridcolor": "white",
             "startlinecolor": "#2a3f5f"
            },
            "type": "carpet"
           }
          ],
          "choropleth": [
           {
            "colorbar": {
             "outlinewidth": 0,
             "ticks": ""
            },
            "type": "choropleth"
           }
          ],
          "contour": [
           {
            "colorbar": {
             "outlinewidth": 0,
             "ticks": ""
            },
            "colorscale": [
             [
              0,
              "#0d0887"
             ],
             [
              0.1111111111111111,
              "#46039f"
             ],
             [
              0.2222222222222222,
              "#7201a8"
             ],
             [
              0.3333333333333333,
              "#9c179e"
             ],
             [
              0.4444444444444444,
              "#bd3786"
             ],
             [
              0.5555555555555556,
              "#d8576b"
             ],
             [
              0.6666666666666666,
              "#ed7953"
             ],
             [
              0.7777777777777778,
              "#fb9f3a"
             ],
             [
              0.8888888888888888,
              "#fdca26"
             ],
             [
              1,
              "#f0f921"
             ]
            ],
            "type": "contour"
           }
          ],
          "contourcarpet": [
           {
            "colorbar": {
             "outlinewidth": 0,
             "ticks": ""
            },
            "type": "contourcarpet"
           }
          ],
          "heatmap": [
           {
            "colorbar": {
             "outlinewidth": 0,
             "ticks": ""
            },
            "colorscale": [
             [
              0,
              "#0d0887"
             ],
             [
              0.1111111111111111,
              "#46039f"
             ],
             [
              0.2222222222222222,
              "#7201a8"
             ],
             [
              0.3333333333333333,
              "#9c179e"
             ],
             [
              0.4444444444444444,
              "#bd3786"
             ],
             [
              0.5555555555555556,
              "#d8576b"
             ],
             [
              0.6666666666666666,
              "#ed7953"
             ],
             [
              0.7777777777777778,
              "#fb9f3a"
             ],
             [
              0.8888888888888888,
              "#fdca26"
             ],
             [
              1,
              "#f0f921"
             ]
            ],
            "type": "heatmap"
           }
          ],
          "heatmapgl": [
           {
            "colorbar": {
             "outlinewidth": 0,
             "ticks": ""
            },
            "colorscale": [
             [
              0,
              "#0d0887"
             ],
             [
              0.1111111111111111,
              "#46039f"
             ],
             [
              0.2222222222222222,
              "#7201a8"
             ],
             [
              0.3333333333333333,
              "#9c179e"
             ],
             [
              0.4444444444444444,
              "#bd3786"
             ],
             [
              0.5555555555555556,
              "#d8576b"
             ],
             [
              0.6666666666666666,
              "#ed7953"
             ],
             [
              0.7777777777777778,
              "#fb9f3a"
             ],
             [
              0.8888888888888888,
              "#fdca26"
             ],
             [
              1,
              "#f0f921"
             ]
            ],
            "type": "heatmapgl"
           }
          ],
          "histogram": [
           {
            "marker": {
             "pattern": {
              "fillmode": "overlay",
              "size": 10,
              "solidity": 0.2
             }
            },
            "type": "histogram"
           }
          ],
          "histogram2d": [
           {
            "colorbar": {
             "outlinewidth": 0,
             "ticks": ""
            },
            "colorscale": [
             [
              0,
              "#0d0887"
             ],
             [
              0.1111111111111111,
              "#46039f"
             ],
             [
              0.2222222222222222,
              "#7201a8"
             ],
             [
              0.3333333333333333,
              "#9c179e"
             ],
             [
              0.4444444444444444,
              "#bd3786"
             ],
             [
              0.5555555555555556,
              "#d8576b"
             ],
             [
              0.6666666666666666,
              "#ed7953"
             ],
             [
              0.7777777777777778,
              "#fb9f3a"
             ],
             [
              0.8888888888888888,
              "#fdca26"
             ],
             [
              1,
              "#f0f921"
             ]
            ],
            "type": "histogram2d"
           }
          ],
          "histogram2dcontour": [
           {
            "colorbar": {
             "outlinewidth": 0,
             "ticks": ""
            },
            "colorscale": [
             [
              0,
              "#0d0887"
             ],
             [
              0.1111111111111111,
              "#46039f"
             ],
             [
              0.2222222222222222,
              "#7201a8"
             ],
             [
              0.3333333333333333,
              "#9c179e"
             ],
             [
              0.4444444444444444,
              "#bd3786"
             ],
             [
              0.5555555555555556,
              "#d8576b"
             ],
             [
              0.6666666666666666,
              "#ed7953"
             ],
             [
              0.7777777777777778,
              "#fb9f3a"
             ],
             [
              0.8888888888888888,
              "#fdca26"
             ],
             [
              1,
              "#f0f921"
             ]
            ],
            "type": "histogram2dcontour"
           }
          ],
          "mesh3d": [
           {
            "colorbar": {
             "outlinewidth": 0,
             "ticks": ""
            },
            "type": "mesh3d"
           }
          ],
          "parcoords": [
           {
            "line": {
             "colorbar": {
              "outlinewidth": 0,
              "ticks": ""
             }
            },
            "type": "parcoords"
           }
          ],
          "pie": [
           {
            "automargin": true,
            "type": "pie"
           }
          ],
          "scatter": [
           {
            "fillpattern": {
             "fillmode": "overlay",
             "size": 10,
             "solidity": 0.2
            },
            "type": "scatter"
           }
          ],
          "scatter3d": [
           {
            "line": {
             "colorbar": {
              "outlinewidth": 0,
              "ticks": ""
             }
            },
            "marker": {
             "colorbar": {
              "outlinewidth": 0,
              "ticks": ""
             }
            },
            "type": "scatter3d"
           }
          ],
          "scattercarpet": [
           {
            "marker": {
             "colorbar": {
              "outlinewidth": 0,
              "ticks": ""
             }
            },
            "type": "scattercarpet"
           }
          ],
          "scattergeo": [
           {
            "marker": {
             "colorbar": {
              "outlinewidth": 0,
              "ticks": ""
             }
            },
            "type": "scattergeo"
           }
          ],
          "scattergl": [
           {
            "marker": {
             "colorbar": {
              "outlinewidth": 0,
              "ticks": ""
             }
            },
            "type": "scattergl"
           }
          ],
          "scattermapbox": [
           {
            "marker": {
             "colorbar": {
              "outlinewidth": 0,
              "ticks": ""
             }
            },
            "type": "scattermapbox"
           }
          ],
          "scatterpolar": [
           {
            "marker": {
             "colorbar": {
              "outlinewidth": 0,
              "ticks": ""
             }
            },
            "type": "scatterpolar"
           }
          ],
          "scatterpolargl": [
           {
            "marker": {
             "colorbar": {
              "outlinewidth": 0,
              "ticks": ""
             }
            },
            "type": "scatterpolargl"
           }
          ],
          "scatterternary": [
           {
            "marker": {
             "colorbar": {
              "outlinewidth": 0,
              "ticks": ""
             }
            },
            "type": "scatterternary"
           }
          ],
          "surface": [
           {
            "colorbar": {
             "outlinewidth": 0,
             "ticks": ""
            },
            "colorscale": [
             [
              0,
              "#0d0887"
             ],
             [
              0.1111111111111111,
              "#46039f"
             ],
             [
              0.2222222222222222,
              "#7201a8"
             ],
             [
              0.3333333333333333,
              "#9c179e"
             ],
             [
              0.4444444444444444,
              "#bd3786"
             ],
             [
              0.5555555555555556,
              "#d8576b"
             ],
             [
              0.6666666666666666,
              "#ed7953"
             ],
             [
              0.7777777777777778,
              "#fb9f3a"
             ],
             [
              0.8888888888888888,
              "#fdca26"
             ],
             [
              1,
              "#f0f921"
             ]
            ],
            "type": "surface"
           }
          ],
          "table": [
           {
            "cells": {
             "fill": {
              "color": "#EBF0F8"
             },
             "line": {
              "color": "white"
             }
            },
            "header": {
             "fill": {
              "color": "#C8D4E3"
             },
             "line": {
              "color": "white"
             }
            },
            "type": "table"
           }
          ]
         },
         "layout": {
          "annotationdefaults": {
           "arrowcolor": "#2a3f5f",
           "arrowhead": 0,
           "arrowwidth": 1
          },
          "autotypenumbers": "strict",
          "coloraxis": {
           "colorbar": {
            "outlinewidth": 0,
            "ticks": ""
           }
          },
          "colorscale": {
           "diverging": [
            [
             0,
             "#8e0152"
            ],
            [
             0.1,
             "#c51b7d"
            ],
            [
             0.2,
             "#de77ae"
            ],
            [
             0.3,
             "#f1b6da"
            ],
            [
             0.4,
             "#fde0ef"
            ],
            [
             0.5,
             "#f7f7f7"
            ],
            [
             0.6,
             "#e6f5d0"
            ],
            [
             0.7,
             "#b8e186"
            ],
            [
             0.8,
             "#7fbc41"
            ],
            [
             0.9,
             "#4d9221"
            ],
            [
             1,
             "#276419"
            ]
           ],
           "sequential": [
            [
             0,
             "#0d0887"
            ],
            [
             0.1111111111111111,
             "#46039f"
            ],
            [
             0.2222222222222222,
             "#7201a8"
            ],
            [
             0.3333333333333333,
             "#9c179e"
            ],
            [
             0.4444444444444444,
             "#bd3786"
            ],
            [
             0.5555555555555556,
             "#d8576b"
            ],
            [
             0.6666666666666666,
             "#ed7953"
            ],
            [
             0.7777777777777778,
             "#fb9f3a"
            ],
            [
             0.8888888888888888,
             "#fdca26"
            ],
            [
             1,
             "#f0f921"
            ]
           ],
           "sequentialminus": [
            [
             0,
             "#0d0887"
            ],
            [
             0.1111111111111111,
             "#46039f"
            ],
            [
             0.2222222222222222,
             "#7201a8"
            ],
            [
             0.3333333333333333,
             "#9c179e"
            ],
            [
             0.4444444444444444,
             "#bd3786"
            ],
            [
             0.5555555555555556,
             "#d8576b"
            ],
            [
             0.6666666666666666,
             "#ed7953"
            ],
            [
             0.7777777777777778,
             "#fb9f3a"
            ],
            [
             0.8888888888888888,
             "#fdca26"
            ],
            [
             1,
             "#f0f921"
            ]
           ]
          },
          "colorway": [
           "#636efa",
           "#EF553B",
           "#00cc96",
           "#ab63fa",
           "#FFA15A",
           "#19d3f3",
           "#FF6692",
           "#B6E880",
           "#FF97FF",
           "#FECB52"
          ],
          "font": {
           "color": "#2a3f5f"
          },
          "geo": {
           "bgcolor": "white",
           "lakecolor": "white",
           "landcolor": "#E5ECF6",
           "showlakes": true,
           "showland": true,
           "subunitcolor": "white"
          },
          "hoverlabel": {
           "align": "left"
          },
          "hovermode": "closest",
          "mapbox": {
           "style": "light"
          },
          "paper_bgcolor": "white",
          "plot_bgcolor": "#E5ECF6",
          "polar": {
           "angularaxis": {
            "gridcolor": "white",
            "linecolor": "white",
            "ticks": ""
           },
           "bgcolor": "#E5ECF6",
           "radialaxis": {
            "gridcolor": "white",
            "linecolor": "white",
            "ticks": ""
           }
          },
          "scene": {
           "xaxis": {
            "backgroundcolor": "#E5ECF6",
            "gridcolor": "white",
            "gridwidth": 2,
            "linecolor": "white",
            "showbackground": true,
            "ticks": "",
            "zerolinecolor": "white"
           },
           "yaxis": {
            "backgroundcolor": "#E5ECF6",
            "gridcolor": "white",
            "gridwidth": 2,
            "linecolor": "white",
            "showbackground": true,
            "ticks": "",
            "zerolinecolor": "white"
           },
           "zaxis": {
            "backgroundcolor": "#E5ECF6",
            "gridcolor": "white",
            "gridwidth": 2,
            "linecolor": "white",
            "showbackground": true,
            "ticks": "",
            "zerolinecolor": "white"
           }
          },
          "shapedefaults": {
           "line": {
            "color": "#2a3f5f"
           }
          },
          "ternary": {
           "aaxis": {
            "gridcolor": "white",
            "linecolor": "white",
            "ticks": ""
           },
           "baxis": {
            "gridcolor": "white",
            "linecolor": "white",
            "ticks": ""
           },
           "bgcolor": "#E5ECF6",
           "caxis": {
            "gridcolor": "white",
            "linecolor": "white",
            "ticks": ""
           }
          },
          "title": {
           "x": 0.05
          },
          "xaxis": {
           "automargin": true,
           "gridcolor": "white",
           "linecolor": "white",
           "ticks": "",
           "title": {
            "standoff": 15
           },
           "zerolinecolor": "white",
           "zerolinewidth": 2
          },
          "yaxis": {
           "automargin": true,
           "gridcolor": "white",
           "linecolor": "white",
           "ticks": "",
           "title": {
            "standoff": 15
           },
           "zerolinecolor": "white",
           "zerolinewidth": 2
          }
         }
        },
        "title": {
         "font": {
          "color": "#333333",
          "size": 20
         },
         "text": "F1 Score for large_productions",
         "x": 0.5,
         "xanchor": "center",
         "y": 0.95,
         "yanchor": "top"
        },
        "xaxis": {
         "anchor": "y",
         "categoryarray": [
          "none",
          "complex"
         ],
         "categoryorder": "array",
         "domain": [
          0,
          1
         ],
         "gridcolor": "#E5E5E5",
         "showgrid": true,
         "tickangle": 0,
         "tickfont": {
          "size": 10
         },
         "title": {
          "text": "Feature Engineering Type"
         }
        },
        "yaxis": {
         "anchor": "x",
         "domain": [
          0,
          1
         ],
         "gridcolor": "#E5E5E5",
         "showgrid": true,
         "tickfont": {
          "size": 10
         },
         "title": {
          "text": "F1 Score Value"
         },
         "type": "linear",
         "zeroline": true,
         "zerolinecolor": "#E5E5E5"
        }
       }
      }
     },
     "metadata": {},
     "output_type": "display_data"
    },
    {
     "data": {
      "application/vnd.plotly.v1+json": {
       "config": {
        "plotlyServerURL": "https://plot.ly"
       },
       "data": [
        {
         "alignmentgroup": "True",
         "hovertemplate": "Outliers Removed=False<br>Feature Engineering Type=%{x}<br>F1 Score Value=%{text}<extra></extra>",
         "legendgroup": "False",
         "marker": {
          "color": "#66C2A5",
          "pattern": {
           "shape": ""
          }
         },
         "name": "False",
         "offsetgroup": "False",
         "orientation": "v",
         "showlegend": true,
         "text": [
          0.5862571657273897
         ],
         "textposition": "outside",
         "texttemplate": "%{text:.2s}",
         "type": "bar",
         "x": [
          "complex"
         ],
         "xaxis": "x",
         "y": [
          0.5862571657273897
         ],
         "yaxis": "y"
        }
       ],
       "layout": {
        "bargap": 0.15,
        "barmode": "group",
        "font": {
         "color": "#333333",
         "family": "Arial",
         "size": 12
        },
        "legend": {
         "orientation": "h",
         "title": {
          "text": "Outliers Removed"
         },
         "tracegroupgap": 0,
         "x": 1,
         "xanchor": "right",
         "y": 1.02,
         "yanchor": "bottom"
        },
        "margin": {
         "b": 50,
         "l": 60,
         "r": 30,
         "t": 80
        },
        "plot_bgcolor": "white",
        "showlegend": true,
        "template": {
         "data": {
          "bar": [
           {
            "error_x": {
             "color": "#2a3f5f"
            },
            "error_y": {
             "color": "#2a3f5f"
            },
            "marker": {
             "line": {
              "color": "#E5ECF6",
              "width": 0.5
             },
             "pattern": {
              "fillmode": "overlay",
              "size": 10,
              "solidity": 0.2
             }
            },
            "type": "bar"
           }
          ],
          "barpolar": [
           {
            "marker": {
             "line": {
              "color": "#E5ECF6",
              "width": 0.5
             },
             "pattern": {
              "fillmode": "overlay",
              "size": 10,
              "solidity": 0.2
             }
            },
            "type": "barpolar"
           }
          ],
          "carpet": [
           {
            "aaxis": {
             "endlinecolor": "#2a3f5f",
             "gridcolor": "white",
             "linecolor": "white",
             "minorgridcolor": "white",
             "startlinecolor": "#2a3f5f"
            },
            "baxis": {
             "endlinecolor": "#2a3f5f",
             "gridcolor": "white",
             "linecolor": "white",
             "minorgridcolor": "white",
             "startlinecolor": "#2a3f5f"
            },
            "type": "carpet"
           }
          ],
          "choropleth": [
           {
            "colorbar": {
             "outlinewidth": 0,
             "ticks": ""
            },
            "type": "choropleth"
           }
          ],
          "contour": [
           {
            "colorbar": {
             "outlinewidth": 0,
             "ticks": ""
            },
            "colorscale": [
             [
              0,
              "#0d0887"
             ],
             [
              0.1111111111111111,
              "#46039f"
             ],
             [
              0.2222222222222222,
              "#7201a8"
             ],
             [
              0.3333333333333333,
              "#9c179e"
             ],
             [
              0.4444444444444444,
              "#bd3786"
             ],
             [
              0.5555555555555556,
              "#d8576b"
             ],
             [
              0.6666666666666666,
              "#ed7953"
             ],
             [
              0.7777777777777778,
              "#fb9f3a"
             ],
             [
              0.8888888888888888,
              "#fdca26"
             ],
             [
              1,
              "#f0f921"
             ]
            ],
            "type": "contour"
           }
          ],
          "contourcarpet": [
           {
            "colorbar": {
             "outlinewidth": 0,
             "ticks": ""
            },
            "type": "contourcarpet"
           }
          ],
          "heatmap": [
           {
            "colorbar": {
             "outlinewidth": 0,
             "ticks": ""
            },
            "colorscale": [
             [
              0,
              "#0d0887"
             ],
             [
              0.1111111111111111,
              "#46039f"
             ],
             [
              0.2222222222222222,
              "#7201a8"
             ],
             [
              0.3333333333333333,
              "#9c179e"
             ],
             [
              0.4444444444444444,
              "#bd3786"
             ],
             [
              0.5555555555555556,
              "#d8576b"
             ],
             [
              0.6666666666666666,
              "#ed7953"
             ],
             [
              0.7777777777777778,
              "#fb9f3a"
             ],
             [
              0.8888888888888888,
              "#fdca26"
             ],
             [
              1,
              "#f0f921"
             ]
            ],
            "type": "heatmap"
           }
          ],
          "heatmapgl": [
           {
            "colorbar": {
             "outlinewidth": 0,
             "ticks": ""
            },
            "colorscale": [
             [
              0,
              "#0d0887"
             ],
             [
              0.1111111111111111,
              "#46039f"
             ],
             [
              0.2222222222222222,
              "#7201a8"
             ],
             [
              0.3333333333333333,
              "#9c179e"
             ],
             [
              0.4444444444444444,
              "#bd3786"
             ],
             [
              0.5555555555555556,
              "#d8576b"
             ],
             [
              0.6666666666666666,
              "#ed7953"
             ],
             [
              0.7777777777777778,
              "#fb9f3a"
             ],
             [
              0.8888888888888888,
              "#fdca26"
             ],
             [
              1,
              "#f0f921"
             ]
            ],
            "type": "heatmapgl"
           }
          ],
          "histogram": [
           {
            "marker": {
             "pattern": {
              "fillmode": "overlay",
              "size": 10,
              "solidity": 0.2
             }
            },
            "type": "histogram"
           }
          ],
          "histogram2d": [
           {
            "colorbar": {
             "outlinewidth": 0,
             "ticks": ""
            },
            "colorscale": [
             [
              0,
              "#0d0887"
             ],
             [
              0.1111111111111111,
              "#46039f"
             ],
             [
              0.2222222222222222,
              "#7201a8"
             ],
             [
              0.3333333333333333,
              "#9c179e"
             ],
             [
              0.4444444444444444,
              "#bd3786"
             ],
             [
              0.5555555555555556,
              "#d8576b"
             ],
             [
              0.6666666666666666,
              "#ed7953"
             ],
             [
              0.7777777777777778,
              "#fb9f3a"
             ],
             [
              0.8888888888888888,
              "#fdca26"
             ],
             [
              1,
              "#f0f921"
             ]
            ],
            "type": "histogram2d"
           }
          ],
          "histogram2dcontour": [
           {
            "colorbar": {
             "outlinewidth": 0,
             "ticks": ""
            },
            "colorscale": [
             [
              0,
              "#0d0887"
             ],
             [
              0.1111111111111111,
              "#46039f"
             ],
             [
              0.2222222222222222,
              "#7201a8"
             ],
             [
              0.3333333333333333,
              "#9c179e"
             ],
             [
              0.4444444444444444,
              "#bd3786"
             ],
             [
              0.5555555555555556,
              "#d8576b"
             ],
             [
              0.6666666666666666,
              "#ed7953"
             ],
             [
              0.7777777777777778,
              "#fb9f3a"
             ],
             [
              0.8888888888888888,
              "#fdca26"
             ],
             [
              1,
              "#f0f921"
             ]
            ],
            "type": "histogram2dcontour"
           }
          ],
          "mesh3d": [
           {
            "colorbar": {
             "outlinewidth": 0,
             "ticks": ""
            },
            "type": "mesh3d"
           }
          ],
          "parcoords": [
           {
            "line": {
             "colorbar": {
              "outlinewidth": 0,
              "ticks": ""
             }
            },
            "type": "parcoords"
           }
          ],
          "pie": [
           {
            "automargin": true,
            "type": "pie"
           }
          ],
          "scatter": [
           {
            "fillpattern": {
             "fillmode": "overlay",
             "size": 10,
             "solidity": 0.2
            },
            "type": "scatter"
           }
          ],
          "scatter3d": [
           {
            "line": {
             "colorbar": {
              "outlinewidth": 0,
              "ticks": ""
             }
            },
            "marker": {
             "colorbar": {
              "outlinewidth": 0,
              "ticks": ""
             }
            },
            "type": "scatter3d"
           }
          ],
          "scattercarpet": [
           {
            "marker": {
             "colorbar": {
              "outlinewidth": 0,
              "ticks": ""
             }
            },
            "type": "scattercarpet"
           }
          ],
          "scattergeo": [
           {
            "marker": {
             "colorbar": {
              "outlinewidth": 0,
              "ticks": ""
             }
            },
            "type": "scattergeo"
           }
          ],
          "scattergl": [
           {
            "marker": {
             "colorbar": {
              "outlinewidth": 0,
              "ticks": ""
             }
            },
            "type": "scattergl"
           }
          ],
          "scattermapbox": [
           {
            "marker": {
             "colorbar": {
              "outlinewidth": 0,
              "ticks": ""
             }
            },
            "type": "scattermapbox"
           }
          ],
          "scatterpolar": [
           {
            "marker": {
             "colorbar": {
              "outlinewidth": 0,
              "ticks": ""
             }
            },
            "type": "scatterpolar"
           }
          ],
          "scatterpolargl": [
           {
            "marker": {
             "colorbar": {
              "outlinewidth": 0,
              "ticks": ""
             }
            },
            "type": "scatterpolargl"
           }
          ],
          "scatterternary": [
           {
            "marker": {
             "colorbar": {
              "outlinewidth": 0,
              "ticks": ""
             }
            },
            "type": "scatterternary"
           }
          ],
          "surface": [
           {
            "colorbar": {
             "outlinewidth": 0,
             "ticks": ""
            },
            "colorscale": [
             [
              0,
              "#0d0887"
             ],
             [
              0.1111111111111111,
              "#46039f"
             ],
             [
              0.2222222222222222,
              "#7201a8"
             ],
             [
              0.3333333333333333,
              "#9c179e"
             ],
             [
              0.4444444444444444,
              "#bd3786"
             ],
             [
              0.5555555555555556,
              "#d8576b"
             ],
             [
              0.6666666666666666,
              "#ed7953"
             ],
             [
              0.7777777777777778,
              "#fb9f3a"
             ],
             [
              0.8888888888888888,
              "#fdca26"
             ],
             [
              1,
              "#f0f921"
             ]
            ],
            "type": "surface"
           }
          ],
          "table": [
           {
            "cells": {
             "fill": {
              "color": "#EBF0F8"
             },
             "line": {
              "color": "white"
             }
            },
            "header": {
             "fill": {
              "color": "#C8D4E3"
             },
             "line": {
              "color": "white"
             }
            },
            "type": "table"
           }
          ]
         },
         "layout": {
          "annotationdefaults": {
           "arrowcolor": "#2a3f5f",
           "arrowhead": 0,
           "arrowwidth": 1
          },
          "autotypenumbers": "strict",
          "coloraxis": {
           "colorbar": {
            "outlinewidth": 0,
            "ticks": ""
           }
          },
          "colorscale": {
           "diverging": [
            [
             0,
             "#8e0152"
            ],
            [
             0.1,
             "#c51b7d"
            ],
            [
             0.2,
             "#de77ae"
            ],
            [
             0.3,
             "#f1b6da"
            ],
            [
             0.4,
             "#fde0ef"
            ],
            [
             0.5,
             "#f7f7f7"
            ],
            [
             0.6,
             "#e6f5d0"
            ],
            [
             0.7,
             "#b8e186"
            ],
            [
             0.8,
             "#7fbc41"
            ],
            [
             0.9,
             "#4d9221"
            ],
            [
             1,
             "#276419"
            ]
           ],
           "sequential": [
            [
             0,
             "#0d0887"
            ],
            [
             0.1111111111111111,
             "#46039f"
            ],
            [
             0.2222222222222222,
             "#7201a8"
            ],
            [
             0.3333333333333333,
             "#9c179e"
            ],
            [
             0.4444444444444444,
             "#bd3786"
            ],
            [
             0.5555555555555556,
             "#d8576b"
            ],
            [
             0.6666666666666666,
             "#ed7953"
            ],
            [
             0.7777777777777778,
             "#fb9f3a"
            ],
            [
             0.8888888888888888,
             "#fdca26"
            ],
            [
             1,
             "#f0f921"
            ]
           ],
           "sequentialminus": [
            [
             0,
             "#0d0887"
            ],
            [
             0.1111111111111111,
             "#46039f"
            ],
            [
             0.2222222222222222,
             "#7201a8"
            ],
            [
             0.3333333333333333,
             "#9c179e"
            ],
            [
             0.4444444444444444,
             "#bd3786"
            ],
            [
             0.5555555555555556,
             "#d8576b"
            ],
            [
             0.6666666666666666,
             "#ed7953"
            ],
            [
             0.7777777777777778,
             "#fb9f3a"
            ],
            [
             0.8888888888888888,
             "#fdca26"
            ],
            [
             1,
             "#f0f921"
            ]
           ]
          },
          "colorway": [
           "#636efa",
           "#EF553B",
           "#00cc96",
           "#ab63fa",
           "#FFA15A",
           "#19d3f3",
           "#FF6692",
           "#B6E880",
           "#FF97FF",
           "#FECB52"
          ],
          "font": {
           "color": "#2a3f5f"
          },
          "geo": {
           "bgcolor": "white",
           "lakecolor": "white",
           "landcolor": "#E5ECF6",
           "showlakes": true,
           "showland": true,
           "subunitcolor": "white"
          },
          "hoverlabel": {
           "align": "left"
          },
          "hovermode": "closest",
          "mapbox": {
           "style": "light"
          },
          "paper_bgcolor": "white",
          "plot_bgcolor": "#E5ECF6",
          "polar": {
           "angularaxis": {
            "gridcolor": "white",
            "linecolor": "white",
            "ticks": ""
           },
           "bgcolor": "#E5ECF6",
           "radialaxis": {
            "gridcolor": "white",
            "linecolor": "white",
            "ticks": ""
           }
          },
          "scene": {
           "xaxis": {
            "backgroundcolor": "#E5ECF6",
            "gridcolor": "white",
            "gridwidth": 2,
            "linecolor": "white",
            "showbackground": true,
            "ticks": "",
            "zerolinecolor": "white"
           },
           "yaxis": {
            "backgroundcolor": "#E5ECF6",
            "gridcolor": "white",
            "gridwidth": 2,
            "linecolor": "white",
            "showbackground": true,
            "ticks": "",
            "zerolinecolor": "white"
           },
           "zaxis": {
            "backgroundcolor": "#E5ECF6",
            "gridcolor": "white",
            "gridwidth": 2,
            "linecolor": "white",
            "showbackground": true,
            "ticks": "",
            "zerolinecolor": "white"
           }
          },
          "shapedefaults": {
           "line": {
            "color": "#2a3f5f"
           }
          },
          "ternary": {
           "aaxis": {
            "gridcolor": "white",
            "linecolor": "white",
            "ticks": ""
           },
           "baxis": {
            "gridcolor": "white",
            "linecolor": "white",
            "ticks": ""
           },
           "bgcolor": "#E5ECF6",
           "caxis": {
            "gridcolor": "white",
            "linecolor": "white",
            "ticks": ""
           }
          },
          "title": {
           "x": 0.05
          },
          "xaxis": {
           "automargin": true,
           "gridcolor": "white",
           "linecolor": "white",
           "ticks": "",
           "title": {
            "standoff": 15
           },
           "zerolinecolor": "white",
           "zerolinewidth": 2
          },
          "yaxis": {
           "automargin": true,
           "gridcolor": "white",
           "linecolor": "white",
           "ticks": "",
           "title": {
            "standoff": 15
           },
           "zerolinecolor": "white",
           "zerolinewidth": 2
          }
         }
        },
        "title": {
         "font": {
          "color": "#333333",
          "size": 20
         },
         "text": "F1 Score for small_productions",
         "x": 0.5,
         "xanchor": "center",
         "y": 0.95,
         "yanchor": "top"
        },
        "xaxis": {
         "anchor": "y",
         "categoryarray": [
          "none",
          "complex"
         ],
         "categoryorder": "array",
         "domain": [
          0,
          1
         ],
         "gridcolor": "#E5E5E5",
         "showgrid": true,
         "tickangle": 0,
         "tickfont": {
          "size": 10
         },
         "title": {
          "text": "Feature Engineering Type"
         }
        },
        "yaxis": {
         "anchor": "x",
         "domain": [
          0,
          1
         ],
         "gridcolor": "#E5E5E5",
         "showgrid": true,
         "tickfont": {
          "size": 10
         },
         "title": {
          "text": "F1 Score Value"
         },
         "type": "linear",
         "zeroline": true,
         "zerolinecolor": "#E5E5E5"
        }
       }
      }
     },
     "metadata": {},
     "output_type": "display_data"
    },
    {
     "data": {
      "text/html": [
       "<div>\n",
       "<style scoped>\n",
       "    .dataframe tbody tr th:only-of-type {\n",
       "        vertical-align: middle;\n",
       "    }\n",
       "\n",
       "    .dataframe tbody tr th {\n",
       "        vertical-align: top;\n",
       "    }\n",
       "\n",
       "    .dataframe thead th {\n",
       "        text-align: right;\n",
       "    }\n",
       "</style>\n",
       "<table border=\"1\" class=\"dataframe\">\n",
       "  <thead>\n",
       "    <tr style=\"text-align: right;\">\n",
       "      <th></th>\n",
       "      <th>run_id</th>\n",
       "      <th>timestamp</th>\n",
       "      <th>model_type</th>\n",
       "      <th>problem_type</th>\n",
       "      <th>dataset_name</th>\n",
       "      <th>grid_type</th>\n",
       "      <th>has_outliers_removed</th>\n",
       "      <th>feature_engineering</th>\n",
       "      <th>scaler</th>\n",
       "      <th>variance_threshold</th>\n",
       "      <th>duration</th>\n",
       "      <th>number_of_combinations</th>\n",
       "      <th>Accuracy</th>\n",
       "      <th>Precision</th>\n",
       "      <th>Recall</th>\n",
       "      <th>F1 Score</th>\n",
       "      <th>MSE</th>\n",
       "      <th>MAPE</th>\n",
       "      <th>MAE</th>\n",
       "      <th>RMSE</th>\n",
       "      <th>RMSLE</th>\n",
       "      <th>MSLE</th>\n",
       "      <th>R2</th>\n",
       "      <th>Threshold Probability Accuracy</th>\n",
       "      <th>Threshold MAPE</th>\n",
       "      <th>Threshold MAPE (25%)</th>\n",
       "      <th>ROC AUC Score</th>\n",
       "    </tr>\n",
       "  </thead>\n",
       "  <tbody>\n",
       "    <tr>\n",
       "      <th>36</th>\n",
       "      <td>20240806_230924</td>\n",
       "      <td>2024-08-07 09:35:41</td>\n",
       "      <td>dummy_classifier</td>\n",
       "      <td>multi_class_classification</td>\n",
       "      <td>full</td>\n",
       "      <td>random_search</td>\n",
       "      <td>False</td>\n",
       "      <td>complex</td>\n",
       "      <td>StandardScaler</td>\n",
       "      <td>0.155938</td>\n",
       "      <td>40.723095</td>\n",
       "      <td>None</td>\n",
       "      <td>0.346632</td>\n",
       "      <td>0.341858</td>\n",
       "      <td>0.346632</td>\n",
       "      <td>0.344075</td>\n",
       "      <td>NaN</td>\n",
       "      <td>NaN</td>\n",
       "      <td>NaN</td>\n",
       "      <td>NaN</td>\n",
       "      <td>NaN</td>\n",
       "      <td>NaN</td>\n",
       "      <td>NaN</td>\n",
       "      <td>NaN</td>\n",
       "      <td>NaN</td>\n",
       "      <td>NaN</td>\n",
       "      <td>NaN</td>\n",
       "    </tr>\n",
       "    <tr>\n",
       "      <th>38</th>\n",
       "      <td>20240806_230924</td>\n",
       "      <td>2024-08-07 08:09:25</td>\n",
       "      <td>xgboost_classifier</td>\n",
       "      <td>multi_class_classification</td>\n",
       "      <td>large_productions</td>\n",
       "      <td>random_search</td>\n",
       "      <td>True</td>\n",
       "      <td>complex</td>\n",
       "      <td>RobustScaler</td>\n",
       "      <td>0.066180</td>\n",
       "      <td>439.344465</td>\n",
       "      <td>None</td>\n",
       "      <td>0.530815</td>\n",
       "      <td>0.445009</td>\n",
       "      <td>0.530815</td>\n",
       "      <td>0.468214</td>\n",
       "      <td>NaN</td>\n",
       "      <td>NaN</td>\n",
       "      <td>NaN</td>\n",
       "      <td>NaN</td>\n",
       "      <td>NaN</td>\n",
       "      <td>NaN</td>\n",
       "      <td>NaN</td>\n",
       "      <td>NaN</td>\n",
       "      <td>NaN</td>\n",
       "      <td>NaN</td>\n",
       "      <td>NaN</td>\n",
       "    </tr>\n",
       "    <tr>\n",
       "      <th>56</th>\n",
       "      <td>20240806_230924</td>\n",
       "      <td>2024-08-07 07:58:08</td>\n",
       "      <td>logistic_regression</td>\n",
       "      <td>multi_class_classification</td>\n",
       "      <td>large_productions</td>\n",
       "      <td>random_search</td>\n",
       "      <td>True</td>\n",
       "      <td>complex</td>\n",
       "      <td>MinMaxScaler</td>\n",
       "      <td>0.026549</td>\n",
       "      <td>85.620896</td>\n",
       "      <td>None</td>\n",
       "      <td>0.548708</td>\n",
       "      <td>0.466414</td>\n",
       "      <td>0.548708</td>\n",
       "      <td>0.480908</td>\n",
       "      <td>NaN</td>\n",
       "      <td>NaN</td>\n",
       "      <td>NaN</td>\n",
       "      <td>NaN</td>\n",
       "      <td>NaN</td>\n",
       "      <td>NaN</td>\n",
       "      <td>NaN</td>\n",
       "      <td>NaN</td>\n",
       "      <td>NaN</td>\n",
       "      <td>NaN</td>\n",
       "      <td>NaN</td>\n",
       "    </tr>\n",
       "    <tr>\n",
       "      <th>70</th>\n",
       "      <td>20240806_230924</td>\n",
       "      <td>2024-08-06 23:11:45</td>\n",
       "      <td>logistic_regression</td>\n",
       "      <td>multi_class_classification</td>\n",
       "      <td>small_productions</td>\n",
       "      <td>random_search</td>\n",
       "      <td>False</td>\n",
       "      <td>complex</td>\n",
       "      <td>StandardScaler</td>\n",
       "      <td>0.013010</td>\n",
       "      <td>112.640552</td>\n",
       "      <td>None</td>\n",
       "      <td>0.582781</td>\n",
       "      <td>0.503448</td>\n",
       "      <td>0.582781</td>\n",
       "      <td>0.532265</td>\n",
       "      <td>NaN</td>\n",
       "      <td>NaN</td>\n",
       "      <td>NaN</td>\n",
       "      <td>NaN</td>\n",
       "      <td>NaN</td>\n",
       "      <td>NaN</td>\n",
       "      <td>NaN</td>\n",
       "      <td>NaN</td>\n",
       "      <td>NaN</td>\n",
       "      <td>NaN</td>\n",
       "      <td>NaN</td>\n",
       "    </tr>\n",
       "    <tr>\n",
       "      <th>315</th>\n",
       "      <td>20240806_230924</td>\n",
       "      <td>2024-08-07 08:01:40</td>\n",
       "      <td>random_forest_classifier</td>\n",
       "      <td>multi_class_classification</td>\n",
       "      <td>large_productions</td>\n",
       "      <td>random_search</td>\n",
       "      <td>True</td>\n",
       "      <td>complex</td>\n",
       "      <td>StandardScaler</td>\n",
       "      <td>0.043164</td>\n",
       "      <td>211.814038</td>\n",
       "      <td>None</td>\n",
       "      <td>0.520875</td>\n",
       "      <td>0.449969</td>\n",
       "      <td>0.520875</td>\n",
       "      <td>0.472618</td>\n",
       "      <td>NaN</td>\n",
       "      <td>NaN</td>\n",
       "      <td>NaN</td>\n",
       "      <td>NaN</td>\n",
       "      <td>NaN</td>\n",
       "      <td>NaN</td>\n",
       "      <td>NaN</td>\n",
       "      <td>NaN</td>\n",
       "      <td>NaN</td>\n",
       "      <td>NaN</td>\n",
       "      <td>NaN</td>\n",
       "    </tr>\n",
       "    <tr>\n",
       "      <th>748</th>\n",
       "      <td>20240806_230924</td>\n",
       "      <td>2024-08-07 09:34:59</td>\n",
       "      <td>lightgbm_classifier</td>\n",
       "      <td>multi_class_classification</td>\n",
       "      <td>large_productions</td>\n",
       "      <td>random_search</td>\n",
       "      <td>True</td>\n",
       "      <td>complex</td>\n",
       "      <td>StandardScaler</td>\n",
       "      <td>0.004863</td>\n",
       "      <td>5133.485016</td>\n",
       "      <td>None</td>\n",
       "      <td>0.558648</td>\n",
       "      <td>0.493411</td>\n",
       "      <td>0.558648</td>\n",
       "      <td>0.515212</td>\n",
       "      <td>NaN</td>\n",
       "      <td>NaN</td>\n",
       "      <td>NaN</td>\n",
       "      <td>NaN</td>\n",
       "      <td>NaN</td>\n",
       "      <td>NaN</td>\n",
       "      <td>NaN</td>\n",
       "      <td>NaN</td>\n",
       "      <td>NaN</td>\n",
       "      <td>NaN</td>\n",
       "      <td>NaN</td>\n",
       "    </tr>\n",
       "    <tr>\n",
       "      <th>765</th>\n",
       "      <td>20240806_230924</td>\n",
       "      <td>2024-08-07 09:49:47</td>\n",
       "      <td>decision_tree_classifier</td>\n",
       "      <td>multi_class_classification</td>\n",
       "      <td>full</td>\n",
       "      <td>random_search</td>\n",
       "      <td>False</td>\n",
       "      <td>complex</td>\n",
       "      <td>MinMaxScaler</td>\n",
       "      <td>0.077083</td>\n",
       "      <td>43.842928</td>\n",
       "      <td>None</td>\n",
       "      <td>0.533028</td>\n",
       "      <td>0.416590</td>\n",
       "      <td>0.533028</td>\n",
       "      <td>0.467079</td>\n",
       "      <td>NaN</td>\n",
       "      <td>NaN</td>\n",
       "      <td>NaN</td>\n",
       "      <td>NaN</td>\n",
       "      <td>NaN</td>\n",
       "      <td>NaN</td>\n",
       "      <td>NaN</td>\n",
       "      <td>NaN</td>\n",
       "      <td>NaN</td>\n",
       "      <td>NaN</td>\n",
       "      <td>NaN</td>\n",
       "    </tr>\n",
       "    <tr>\n",
       "      <th>769</th>\n",
       "      <td>20240806_230924</td>\n",
       "      <td>2024-08-07 01:04:19</td>\n",
       "      <td>lightgbm_classifier</td>\n",
       "      <td>multi_class_classification</td>\n",
       "      <td>small_productions</td>\n",
       "      <td>random_search</td>\n",
       "      <td>False</td>\n",
       "      <td>complex</td>\n",
       "      <td>MinMaxScaler</td>\n",
       "      <td>0.003432</td>\n",
       "      <td>6146.989130</td>\n",
       "      <td>None</td>\n",
       "      <td>0.629139</td>\n",
       "      <td>0.568863</td>\n",
       "      <td>0.629139</td>\n",
       "      <td>0.586257</td>\n",
       "      <td>NaN</td>\n",
       "      <td>NaN</td>\n",
       "      <td>NaN</td>\n",
       "      <td>NaN</td>\n",
       "      <td>NaN</td>\n",
       "      <td>NaN</td>\n",
       "      <td>NaN</td>\n",
       "      <td>NaN</td>\n",
       "      <td>NaN</td>\n",
       "      <td>NaN</td>\n",
       "      <td>NaN</td>\n",
       "    </tr>\n",
       "    <tr>\n",
       "      <th>930</th>\n",
       "      <td>20240806_230924</td>\n",
       "      <td>2024-08-06 23:15:24</td>\n",
       "      <td>decision_tree_classifier</td>\n",
       "      <td>multi_class_classification</td>\n",
       "      <td>small_productions</td>\n",
       "      <td>random_search</td>\n",
       "      <td>False</td>\n",
       "      <td>complex</td>\n",
       "      <td>StandardScaler</td>\n",
       "      <td>0.042468</td>\n",
       "      <td>26.665997</td>\n",
       "      <td>None</td>\n",
       "      <td>0.562914</td>\n",
       "      <td>0.464881</td>\n",
       "      <td>0.562914</td>\n",
       "      <td>0.508063</td>\n",
       "      <td>NaN</td>\n",
       "      <td>NaN</td>\n",
       "      <td>NaN</td>\n",
       "      <td>NaN</td>\n",
       "      <td>NaN</td>\n",
       "      <td>NaN</td>\n",
       "      <td>NaN</td>\n",
       "      <td>NaN</td>\n",
       "      <td>NaN</td>\n",
       "      <td>NaN</td>\n",
       "      <td>NaN</td>\n",
       "    </tr>\n",
       "    <tr>\n",
       "      <th>1640</th>\n",
       "      <td>20240806_230924</td>\n",
       "      <td>2024-08-07 07:56:42</td>\n",
       "      <td>dummy_classifier</td>\n",
       "      <td>multi_class_classification</td>\n",
       "      <td>large_productions</td>\n",
       "      <td>random_search</td>\n",
       "      <td>True</td>\n",
       "      <td>complex</td>\n",
       "      <td>StandardScaler</td>\n",
       "      <td>0.074457</td>\n",
       "      <td>24.265600</td>\n",
       "      <td>None</td>\n",
       "      <td>0.347913</td>\n",
       "      <td>0.352211</td>\n",
       "      <td>0.347913</td>\n",
       "      <td>0.349945</td>\n",
       "      <td>NaN</td>\n",
       "      <td>NaN</td>\n",
       "      <td>NaN</td>\n",
       "      <td>NaN</td>\n",
       "      <td>NaN</td>\n",
       "      <td>NaN</td>\n",
       "      <td>NaN</td>\n",
       "      <td>NaN</td>\n",
       "      <td>NaN</td>\n",
       "      <td>NaN</td>\n",
       "      <td>NaN</td>\n",
       "    </tr>\n",
       "    <tr>\n",
       "      <th>1917</th>\n",
       "      <td>20240806_230924</td>\n",
       "      <td>2024-08-07 09:49:03</td>\n",
       "      <td>random_forest_classifier</td>\n",
       "      <td>multi_class_classification</td>\n",
       "      <td>full</td>\n",
       "      <td>random_search</td>\n",
       "      <td>False</td>\n",
       "      <td>complex</td>\n",
       "      <td>RobustScaler</td>\n",
       "      <td>0.008214</td>\n",
       "      <td>553.119249</td>\n",
       "      <td>None</td>\n",
       "      <td>0.579464</td>\n",
       "      <td>0.451681</td>\n",
       "      <td>0.579464</td>\n",
       "      <td>0.507086</td>\n",
       "      <td>NaN</td>\n",
       "      <td>NaN</td>\n",
       "      <td>NaN</td>\n",
       "      <td>NaN</td>\n",
       "      <td>NaN</td>\n",
       "      <td>NaN</td>\n",
       "      <td>NaN</td>\n",
       "      <td>NaN</td>\n",
       "      <td>NaN</td>\n",
       "      <td>NaN</td>\n",
       "      <td>NaN</td>\n",
       "    </tr>\n",
       "    <tr>\n",
       "      <th>1977</th>\n",
       "      <td>20240806_230924</td>\n",
       "      <td>2024-08-07 09:39:49</td>\n",
       "      <td>logistic_regression</td>\n",
       "      <td>multi_class_classification</td>\n",
       "      <td>full</td>\n",
       "      <td>random_search</td>\n",
       "      <td>False</td>\n",
       "      <td>complex</td>\n",
       "      <td>StandardScaler</td>\n",
       "      <td>0.024418</td>\n",
       "      <td>247.277875</td>\n",
       "      <td>None</td>\n",
       "      <td>0.560497</td>\n",
       "      <td>0.503582</td>\n",
       "      <td>0.560497</td>\n",
       "      <td>0.497396</td>\n",
       "      <td>NaN</td>\n",
       "      <td>NaN</td>\n",
       "      <td>NaN</td>\n",
       "      <td>NaN</td>\n",
       "      <td>NaN</td>\n",
       "      <td>NaN</td>\n",
       "      <td>NaN</td>\n",
       "      <td>NaN</td>\n",
       "      <td>NaN</td>\n",
       "      <td>NaN</td>\n",
       "      <td>NaN</td>\n",
       "    </tr>\n",
       "    <tr>\n",
       "      <th>2350</th>\n",
       "      <td>20240806_230924</td>\n",
       "      <td>2024-08-07 08:02:06</td>\n",
       "      <td>decision_tree_classifier</td>\n",
       "      <td>multi_class_classification</td>\n",
       "      <td>large_productions</td>\n",
       "      <td>random_search</td>\n",
       "      <td>True</td>\n",
       "      <td>complex</td>\n",
       "      <td>StandardScaler</td>\n",
       "      <td>0.100208</td>\n",
       "      <td>25.733549</td>\n",
       "      <td>None</td>\n",
       "      <td>0.477137</td>\n",
       "      <td>0.403229</td>\n",
       "      <td>0.477137</td>\n",
       "      <td>0.424461</td>\n",
       "      <td>NaN</td>\n",
       "      <td>NaN</td>\n",
       "      <td>NaN</td>\n",
       "      <td>NaN</td>\n",
       "      <td>NaN</td>\n",
       "      <td>NaN</td>\n",
       "      <td>NaN</td>\n",
       "      <td>NaN</td>\n",
       "      <td>NaN</td>\n",
       "      <td>NaN</td>\n",
       "      <td>NaN</td>\n",
       "    </tr>\n",
       "    <tr>\n",
       "      <th>2903</th>\n",
       "      <td>20240806_230924</td>\n",
       "      <td>2024-08-06 23:14:57</td>\n",
       "      <td>random_forest_classifier</td>\n",
       "      <td>multi_class_classification</td>\n",
       "      <td>small_productions</td>\n",
       "      <td>random_search</td>\n",
       "      <td>False</td>\n",
       "      <td>complex</td>\n",
       "      <td>MinMaxScaler</td>\n",
       "      <td>0.061073</td>\n",
       "      <td>191.216685</td>\n",
       "      <td>None</td>\n",
       "      <td>0.602649</td>\n",
       "      <td>0.497043</td>\n",
       "      <td>0.602649</td>\n",
       "      <td>0.544062</td>\n",
       "      <td>NaN</td>\n",
       "      <td>NaN</td>\n",
       "      <td>NaN</td>\n",
       "      <td>NaN</td>\n",
       "      <td>NaN</td>\n",
       "      <td>NaN</td>\n",
       "      <td>NaN</td>\n",
       "      <td>NaN</td>\n",
       "      <td>NaN</td>\n",
       "      <td>NaN</td>\n",
       "      <td>NaN</td>\n",
       "    </tr>\n",
       "    <tr>\n",
       "      <th>2907</th>\n",
       "      <td>20240806_230924</td>\n",
       "      <td>2024-08-06 23:09:52</td>\n",
       "      <td>dummy_classifier</td>\n",
       "      <td>multi_class_classification</td>\n",
       "      <td>small_productions</td>\n",
       "      <td>random_search</td>\n",
       "      <td>False</td>\n",
       "      <td>complex</td>\n",
       "      <td>MinMaxScaler</td>\n",
       "      <td>0.194733</td>\n",
       "      <td>27.112956</td>\n",
       "      <td>None</td>\n",
       "      <td>0.344371</td>\n",
       "      <td>0.349981</td>\n",
       "      <td>0.344371</td>\n",
       "      <td>0.344903</td>\n",
       "      <td>NaN</td>\n",
       "      <td>NaN</td>\n",
       "      <td>NaN</td>\n",
       "      <td>NaN</td>\n",
       "      <td>NaN</td>\n",
       "      <td>NaN</td>\n",
       "      <td>NaN</td>\n",
       "      <td>NaN</td>\n",
       "      <td>NaN</td>\n",
       "      <td>NaN</td>\n",
       "      <td>NaN</td>\n",
       "    </tr>\n",
       "    <tr>\n",
       "      <th>3154</th>\n",
       "      <td>20240806_230924</td>\n",
       "      <td>2024-08-06 23:21:52</td>\n",
       "      <td>xgboost_classifier</td>\n",
       "      <td>multi_class_classification</td>\n",
       "      <td>small_productions</td>\n",
       "      <td>random_search</td>\n",
       "      <td>False</td>\n",
       "      <td>complex</td>\n",
       "      <td>RobustScaler</td>\n",
       "      <td>0.018735</td>\n",
       "      <td>387.845553</td>\n",
       "      <td>None</td>\n",
       "      <td>0.615894</td>\n",
       "      <td>0.552778</td>\n",
       "      <td>0.615894</td>\n",
       "      <td>0.577467</td>\n",
       "      <td>NaN</td>\n",
       "      <td>NaN</td>\n",
       "      <td>NaN</td>\n",
       "      <td>NaN</td>\n",
       "      <td>NaN</td>\n",
       "      <td>NaN</td>\n",
       "      <td>NaN</td>\n",
       "      <td>NaN</td>\n",
       "      <td>NaN</td>\n",
       "      <td>NaN</td>\n",
       "      <td>NaN</td>\n",
       "    </tr>\n",
       "  </tbody>\n",
       "</table>\n",
       "</div>"
      ],
      "text/plain": [
       "               run_id           timestamp                model_type  \\\n",
       "36    20240806_230924 2024-08-07 09:35:41          dummy_classifier   \n",
       "38    20240806_230924 2024-08-07 08:09:25        xgboost_classifier   \n",
       "56    20240806_230924 2024-08-07 07:58:08       logistic_regression   \n",
       "70    20240806_230924 2024-08-06 23:11:45       logistic_regression   \n",
       "315   20240806_230924 2024-08-07 08:01:40  random_forest_classifier   \n",
       "748   20240806_230924 2024-08-07 09:34:59       lightgbm_classifier   \n",
       "765   20240806_230924 2024-08-07 09:49:47  decision_tree_classifier   \n",
       "769   20240806_230924 2024-08-07 01:04:19       lightgbm_classifier   \n",
       "930   20240806_230924 2024-08-06 23:15:24  decision_tree_classifier   \n",
       "1640  20240806_230924 2024-08-07 07:56:42          dummy_classifier   \n",
       "1917  20240806_230924 2024-08-07 09:49:03  random_forest_classifier   \n",
       "1977  20240806_230924 2024-08-07 09:39:49       logistic_regression   \n",
       "2350  20240806_230924 2024-08-07 08:02:06  decision_tree_classifier   \n",
       "2903  20240806_230924 2024-08-06 23:14:57  random_forest_classifier   \n",
       "2907  20240806_230924 2024-08-06 23:09:52          dummy_classifier   \n",
       "3154  20240806_230924 2024-08-06 23:21:52        xgboost_classifier   \n",
       "\n",
       "                    problem_type       dataset_name      grid_type  \\\n",
       "36    multi_class_classification               full  random_search   \n",
       "38    multi_class_classification  large_productions  random_search   \n",
       "56    multi_class_classification  large_productions  random_search   \n",
       "70    multi_class_classification  small_productions  random_search   \n",
       "315   multi_class_classification  large_productions  random_search   \n",
       "748   multi_class_classification  large_productions  random_search   \n",
       "765   multi_class_classification               full  random_search   \n",
       "769   multi_class_classification  small_productions  random_search   \n",
       "930   multi_class_classification  small_productions  random_search   \n",
       "1640  multi_class_classification  large_productions  random_search   \n",
       "1917  multi_class_classification               full  random_search   \n",
       "1977  multi_class_classification               full  random_search   \n",
       "2350  multi_class_classification  large_productions  random_search   \n",
       "2903  multi_class_classification  small_productions  random_search   \n",
       "2907  multi_class_classification  small_productions  random_search   \n",
       "3154  multi_class_classification  small_productions  random_search   \n",
       "\n",
       "      has_outliers_removed feature_engineering          scaler  \\\n",
       "36                   False             complex  StandardScaler   \n",
       "38                    True             complex    RobustScaler   \n",
       "56                    True             complex    MinMaxScaler   \n",
       "70                   False             complex  StandardScaler   \n",
       "315                   True             complex  StandardScaler   \n",
       "748                   True             complex  StandardScaler   \n",
       "765                  False             complex    MinMaxScaler   \n",
       "769                  False             complex    MinMaxScaler   \n",
       "930                  False             complex  StandardScaler   \n",
       "1640                  True             complex  StandardScaler   \n",
       "1917                 False             complex    RobustScaler   \n",
       "1977                 False             complex  StandardScaler   \n",
       "2350                  True             complex  StandardScaler   \n",
       "2903                 False             complex    MinMaxScaler   \n",
       "2907                 False             complex    MinMaxScaler   \n",
       "3154                 False             complex    RobustScaler   \n",
       "\n",
       "      variance_threshold     duration number_of_combinations  Accuracy  \\\n",
       "36              0.155938    40.723095                   None  0.346632   \n",
       "38              0.066180   439.344465                   None  0.530815   \n",
       "56              0.026549    85.620896                   None  0.548708   \n",
       "70              0.013010   112.640552                   None  0.582781   \n",
       "315             0.043164   211.814038                   None  0.520875   \n",
       "748             0.004863  5133.485016                   None  0.558648   \n",
       "765             0.077083    43.842928                   None  0.533028   \n",
       "769             0.003432  6146.989130                   None  0.629139   \n",
       "930             0.042468    26.665997                   None  0.562914   \n",
       "1640            0.074457    24.265600                   None  0.347913   \n",
       "1917            0.008214   553.119249                   None  0.579464   \n",
       "1977            0.024418   247.277875                   None  0.560497   \n",
       "2350            0.100208    25.733549                   None  0.477137   \n",
       "2903            0.061073   191.216685                   None  0.602649   \n",
       "2907            0.194733    27.112956                   None  0.344371   \n",
       "3154            0.018735   387.845553                   None  0.615894   \n",
       "\n",
       "      Precision    Recall  F1 Score  MSE  MAPE  MAE  RMSE  RMSLE  MSLE  R2  \\\n",
       "36     0.341858  0.346632  0.344075  NaN   NaN  NaN   NaN    NaN   NaN NaN   \n",
       "38     0.445009  0.530815  0.468214  NaN   NaN  NaN   NaN    NaN   NaN NaN   \n",
       "56     0.466414  0.548708  0.480908  NaN   NaN  NaN   NaN    NaN   NaN NaN   \n",
       "70     0.503448  0.582781  0.532265  NaN   NaN  NaN   NaN    NaN   NaN NaN   \n",
       "315    0.449969  0.520875  0.472618  NaN   NaN  NaN   NaN    NaN   NaN NaN   \n",
       "748    0.493411  0.558648  0.515212  NaN   NaN  NaN   NaN    NaN   NaN NaN   \n",
       "765    0.416590  0.533028  0.467079  NaN   NaN  NaN   NaN    NaN   NaN NaN   \n",
       "769    0.568863  0.629139  0.586257  NaN   NaN  NaN   NaN    NaN   NaN NaN   \n",
       "930    0.464881  0.562914  0.508063  NaN   NaN  NaN   NaN    NaN   NaN NaN   \n",
       "1640   0.352211  0.347913  0.349945  NaN   NaN  NaN   NaN    NaN   NaN NaN   \n",
       "1917   0.451681  0.579464  0.507086  NaN   NaN  NaN   NaN    NaN   NaN NaN   \n",
       "1977   0.503582  0.560497  0.497396  NaN   NaN  NaN   NaN    NaN   NaN NaN   \n",
       "2350   0.403229  0.477137  0.424461  NaN   NaN  NaN   NaN    NaN   NaN NaN   \n",
       "2903   0.497043  0.602649  0.544062  NaN   NaN  NaN   NaN    NaN   NaN NaN   \n",
       "2907   0.349981  0.344371  0.344903  NaN   NaN  NaN   NaN    NaN   NaN NaN   \n",
       "3154   0.552778  0.615894  0.577467  NaN   NaN  NaN   NaN    NaN   NaN NaN   \n",
       "\n",
       "      Threshold Probability Accuracy  Threshold MAPE  Threshold MAPE (25%)  \\\n",
       "36                               NaN             NaN                   NaN   \n",
       "38                               NaN             NaN                   NaN   \n",
       "56                               NaN             NaN                   NaN   \n",
       "70                               NaN             NaN                   NaN   \n",
       "315                              NaN             NaN                   NaN   \n",
       "748                              NaN             NaN                   NaN   \n",
       "765                              NaN             NaN                   NaN   \n",
       "769                              NaN             NaN                   NaN   \n",
       "930                              NaN             NaN                   NaN   \n",
       "1640                             NaN             NaN                   NaN   \n",
       "1917                             NaN             NaN                   NaN   \n",
       "1977                             NaN             NaN                   NaN   \n",
       "2350                             NaN             NaN                   NaN   \n",
       "2903                             NaN             NaN                   NaN   \n",
       "2907                             NaN             NaN                   NaN   \n",
       "3154                             NaN             NaN                   NaN   \n",
       "\n",
       "      ROC AUC Score  \n",
       "36              NaN  \n",
       "38              NaN  \n",
       "56              NaN  \n",
       "70              NaN  \n",
       "315             NaN  \n",
       "748             NaN  \n",
       "765             NaN  \n",
       "769             NaN  \n",
       "930             NaN  \n",
       "1640            NaN  \n",
       "1917            NaN  \n",
       "1977            NaN  \n",
       "2350            NaN  \n",
       "2903            NaN  \n",
       "2907            NaN  \n",
       "3154            NaN  "
      ]
     },
     "execution_count": 37,
     "metadata": {},
     "output_type": "execute_result"
    }
   ],
   "source": [
    "plot_one_metric_of_different_datasets_per_feature_engineering_outliers_with_plotly(experiment_df, problem_type='multi_class_classification', metric='F1 Score', metric_agg='max')"
   ]
  },
  {
   "cell_type": "code",
   "execution_count": 38,
   "metadata": {},
   "outputs": [
    {
     "data": {
      "application/vnd.plotly.v1+json": {
       "config": {
        "plotlyServerURL": "https://plot.ly"
       },
       "data": [
        {
         "alignmentgroup": "True",
         "hovertemplate": "Outliers Removed=False<br>Feature Engineering Type=%{x}<br>MAPE Value=%{text}<extra></extra>",
         "legendgroup": "False",
         "marker": {
          "color": "#66C2A5",
          "pattern": {
           "shape": ""
          }
         },
         "name": "False",
         "offsetgroup": "False",
         "orientation": "v",
         "showlegend": true,
         "text": [
          1.9653043833583423
         ],
         "textposition": "outside",
         "texttemplate": "%{text:.2s}",
         "type": "bar",
         "x": [
          "complex"
         ],
         "xaxis": "x",
         "y": [
          1.9653043833583423
         ],
         "yaxis": "y"
        }
       ],
       "layout": {
        "bargap": 0.15,
        "barmode": "group",
        "font": {
         "color": "#333333",
         "family": "Arial",
         "size": 12
        },
        "legend": {
         "orientation": "h",
         "title": {
          "text": "Outliers Removed"
         },
         "tracegroupgap": 0,
         "x": 1,
         "xanchor": "right",
         "y": 1.02,
         "yanchor": "bottom"
        },
        "margin": {
         "b": 50,
         "l": 60,
         "r": 30,
         "t": 80
        },
        "plot_bgcolor": "white",
        "showlegend": true,
        "template": {
         "data": {
          "bar": [
           {
            "error_x": {
             "color": "#2a3f5f"
            },
            "error_y": {
             "color": "#2a3f5f"
            },
            "marker": {
             "line": {
              "color": "#E5ECF6",
              "width": 0.5
             },
             "pattern": {
              "fillmode": "overlay",
              "size": 10,
              "solidity": 0.2
             }
            },
            "type": "bar"
           }
          ],
          "barpolar": [
           {
            "marker": {
             "line": {
              "color": "#E5ECF6",
              "width": 0.5
             },
             "pattern": {
              "fillmode": "overlay",
              "size": 10,
              "solidity": 0.2
             }
            },
            "type": "barpolar"
           }
          ],
          "carpet": [
           {
            "aaxis": {
             "endlinecolor": "#2a3f5f",
             "gridcolor": "white",
             "linecolor": "white",
             "minorgridcolor": "white",
             "startlinecolor": "#2a3f5f"
            },
            "baxis": {
             "endlinecolor": "#2a3f5f",
             "gridcolor": "white",
             "linecolor": "white",
             "minorgridcolor": "white",
             "startlinecolor": "#2a3f5f"
            },
            "type": "carpet"
           }
          ],
          "choropleth": [
           {
            "colorbar": {
             "outlinewidth": 0,
             "ticks": ""
            },
            "type": "choropleth"
           }
          ],
          "contour": [
           {
            "colorbar": {
             "outlinewidth": 0,
             "ticks": ""
            },
            "colorscale": [
             [
              0,
              "#0d0887"
             ],
             [
              0.1111111111111111,
              "#46039f"
             ],
             [
              0.2222222222222222,
              "#7201a8"
             ],
             [
              0.3333333333333333,
              "#9c179e"
             ],
             [
              0.4444444444444444,
              "#bd3786"
             ],
             [
              0.5555555555555556,
              "#d8576b"
             ],
             [
              0.6666666666666666,
              "#ed7953"
             ],
             [
              0.7777777777777778,
              "#fb9f3a"
             ],
             [
              0.8888888888888888,
              "#fdca26"
             ],
             [
              1,
              "#f0f921"
             ]
            ],
            "type": "contour"
           }
          ],
          "contourcarpet": [
           {
            "colorbar": {
             "outlinewidth": 0,
             "ticks": ""
            },
            "type": "contourcarpet"
           }
          ],
          "heatmap": [
           {
            "colorbar": {
             "outlinewidth": 0,
             "ticks": ""
            },
            "colorscale": [
             [
              0,
              "#0d0887"
             ],
             [
              0.1111111111111111,
              "#46039f"
             ],
             [
              0.2222222222222222,
              "#7201a8"
             ],
             [
              0.3333333333333333,
              "#9c179e"
             ],
             [
              0.4444444444444444,
              "#bd3786"
             ],
             [
              0.5555555555555556,
              "#d8576b"
             ],
             [
              0.6666666666666666,
              "#ed7953"
             ],
             [
              0.7777777777777778,
              "#fb9f3a"
             ],
             [
              0.8888888888888888,
              "#fdca26"
             ],
             [
              1,
              "#f0f921"
             ]
            ],
            "type": "heatmap"
           }
          ],
          "heatmapgl": [
           {
            "colorbar": {
             "outlinewidth": 0,
             "ticks": ""
            },
            "colorscale": [
             [
              0,
              "#0d0887"
             ],
             [
              0.1111111111111111,
              "#46039f"
             ],
             [
              0.2222222222222222,
              "#7201a8"
             ],
             [
              0.3333333333333333,
              "#9c179e"
             ],
             [
              0.4444444444444444,
              "#bd3786"
             ],
             [
              0.5555555555555556,
              "#d8576b"
             ],
             [
              0.6666666666666666,
              "#ed7953"
             ],
             [
              0.7777777777777778,
              "#fb9f3a"
             ],
             [
              0.8888888888888888,
              "#fdca26"
             ],
             [
              1,
              "#f0f921"
             ]
            ],
            "type": "heatmapgl"
           }
          ],
          "histogram": [
           {
            "marker": {
             "pattern": {
              "fillmode": "overlay",
              "size": 10,
              "solidity": 0.2
             }
            },
            "type": "histogram"
           }
          ],
          "histogram2d": [
           {
            "colorbar": {
             "outlinewidth": 0,
             "ticks": ""
            },
            "colorscale": [
             [
              0,
              "#0d0887"
             ],
             [
              0.1111111111111111,
              "#46039f"
             ],
             [
              0.2222222222222222,
              "#7201a8"
             ],
             [
              0.3333333333333333,
              "#9c179e"
             ],
             [
              0.4444444444444444,
              "#bd3786"
             ],
             [
              0.5555555555555556,
              "#d8576b"
             ],
             [
              0.6666666666666666,
              "#ed7953"
             ],
             [
              0.7777777777777778,
              "#fb9f3a"
             ],
             [
              0.8888888888888888,
              "#fdca26"
             ],
             [
              1,
              "#f0f921"
             ]
            ],
            "type": "histogram2d"
           }
          ],
          "histogram2dcontour": [
           {
            "colorbar": {
             "outlinewidth": 0,
             "ticks": ""
            },
            "colorscale": [
             [
              0,
              "#0d0887"
             ],
             [
              0.1111111111111111,
              "#46039f"
             ],
             [
              0.2222222222222222,
              "#7201a8"
             ],
             [
              0.3333333333333333,
              "#9c179e"
             ],
             [
              0.4444444444444444,
              "#bd3786"
             ],
             [
              0.5555555555555556,
              "#d8576b"
             ],
             [
              0.6666666666666666,
              "#ed7953"
             ],
             [
              0.7777777777777778,
              "#fb9f3a"
             ],
             [
              0.8888888888888888,
              "#fdca26"
             ],
             [
              1,
              "#f0f921"
             ]
            ],
            "type": "histogram2dcontour"
           }
          ],
          "mesh3d": [
           {
            "colorbar": {
             "outlinewidth": 0,
             "ticks": ""
            },
            "type": "mesh3d"
           }
          ],
          "parcoords": [
           {
            "line": {
             "colorbar": {
              "outlinewidth": 0,
              "ticks": ""
             }
            },
            "type": "parcoords"
           }
          ],
          "pie": [
           {
            "automargin": true,
            "type": "pie"
           }
          ],
          "scatter": [
           {
            "fillpattern": {
             "fillmode": "overlay",
             "size": 10,
             "solidity": 0.2
            },
            "type": "scatter"
           }
          ],
          "scatter3d": [
           {
            "line": {
             "colorbar": {
              "outlinewidth": 0,
              "ticks": ""
             }
            },
            "marker": {
             "colorbar": {
              "outlinewidth": 0,
              "ticks": ""
             }
            },
            "type": "scatter3d"
           }
          ],
          "scattercarpet": [
           {
            "marker": {
             "colorbar": {
              "outlinewidth": 0,
              "ticks": ""
             }
            },
            "type": "scattercarpet"
           }
          ],
          "scattergeo": [
           {
            "marker": {
             "colorbar": {
              "outlinewidth": 0,
              "ticks": ""
             }
            },
            "type": "scattergeo"
           }
          ],
          "scattergl": [
           {
            "marker": {
             "colorbar": {
              "outlinewidth": 0,
              "ticks": ""
             }
            },
            "type": "scattergl"
           }
          ],
          "scattermapbox": [
           {
            "marker": {
             "colorbar": {
              "outlinewidth": 0,
              "ticks": ""
             }
            },
            "type": "scattermapbox"
           }
          ],
          "scatterpolar": [
           {
            "marker": {
             "colorbar": {
              "outlinewidth": 0,
              "ticks": ""
             }
            },
            "type": "scatterpolar"
           }
          ],
          "scatterpolargl": [
           {
            "marker": {
             "colorbar": {
              "outlinewidth": 0,
              "ticks": ""
             }
            },
            "type": "scatterpolargl"
           }
          ],
          "scatterternary": [
           {
            "marker": {
             "colorbar": {
              "outlinewidth": 0,
              "ticks": ""
             }
            },
            "type": "scatterternary"
           }
          ],
          "surface": [
           {
            "colorbar": {
             "outlinewidth": 0,
             "ticks": ""
            },
            "colorscale": [
             [
              0,
              "#0d0887"
             ],
             [
              0.1111111111111111,
              "#46039f"
             ],
             [
              0.2222222222222222,
              "#7201a8"
             ],
             [
              0.3333333333333333,
              "#9c179e"
             ],
             [
              0.4444444444444444,
              "#bd3786"
             ],
             [
              0.5555555555555556,
              "#d8576b"
             ],
             [
              0.6666666666666666,
              "#ed7953"
             ],
             [
              0.7777777777777778,
              "#fb9f3a"
             ],
             [
              0.8888888888888888,
              "#fdca26"
             ],
             [
              1,
              "#f0f921"
             ]
            ],
            "type": "surface"
           }
          ],
          "table": [
           {
            "cells": {
             "fill": {
              "color": "#EBF0F8"
             },
             "line": {
              "color": "white"
             }
            },
            "header": {
             "fill": {
              "color": "#C8D4E3"
             },
             "line": {
              "color": "white"
             }
            },
            "type": "table"
           }
          ]
         },
         "layout": {
          "annotationdefaults": {
           "arrowcolor": "#2a3f5f",
           "arrowhead": 0,
           "arrowwidth": 1
          },
          "autotypenumbers": "strict",
          "coloraxis": {
           "colorbar": {
            "outlinewidth": 0,
            "ticks": ""
           }
          },
          "colorscale": {
           "diverging": [
            [
             0,
             "#8e0152"
            ],
            [
             0.1,
             "#c51b7d"
            ],
            [
             0.2,
             "#de77ae"
            ],
            [
             0.3,
             "#f1b6da"
            ],
            [
             0.4,
             "#fde0ef"
            ],
            [
             0.5,
             "#f7f7f7"
            ],
            [
             0.6,
             "#e6f5d0"
            ],
            [
             0.7,
             "#b8e186"
            ],
            [
             0.8,
             "#7fbc41"
            ],
            [
             0.9,
             "#4d9221"
            ],
            [
             1,
             "#276419"
            ]
           ],
           "sequential": [
            [
             0,
             "#0d0887"
            ],
            [
             0.1111111111111111,
             "#46039f"
            ],
            [
             0.2222222222222222,
             "#7201a8"
            ],
            [
             0.3333333333333333,
             "#9c179e"
            ],
            [
             0.4444444444444444,
             "#bd3786"
            ],
            [
             0.5555555555555556,
             "#d8576b"
            ],
            [
             0.6666666666666666,
             "#ed7953"
            ],
            [
             0.7777777777777778,
             "#fb9f3a"
            ],
            [
             0.8888888888888888,
             "#fdca26"
            ],
            [
             1,
             "#f0f921"
            ]
           ],
           "sequentialminus": [
            [
             0,
             "#0d0887"
            ],
            [
             0.1111111111111111,
             "#46039f"
            ],
            [
             0.2222222222222222,
             "#7201a8"
            ],
            [
             0.3333333333333333,
             "#9c179e"
            ],
            [
             0.4444444444444444,
             "#bd3786"
            ],
            [
             0.5555555555555556,
             "#d8576b"
            ],
            [
             0.6666666666666666,
             "#ed7953"
            ],
            [
             0.7777777777777778,
             "#fb9f3a"
            ],
            [
             0.8888888888888888,
             "#fdca26"
            ],
            [
             1,
             "#f0f921"
            ]
           ]
          },
          "colorway": [
           "#636efa",
           "#EF553B",
           "#00cc96",
           "#ab63fa",
           "#FFA15A",
           "#19d3f3",
           "#FF6692",
           "#B6E880",
           "#FF97FF",
           "#FECB52"
          ],
          "font": {
           "color": "#2a3f5f"
          },
          "geo": {
           "bgcolor": "white",
           "lakecolor": "white",
           "landcolor": "#E5ECF6",
           "showlakes": true,
           "showland": true,
           "subunitcolor": "white"
          },
          "hoverlabel": {
           "align": "left"
          },
          "hovermode": "closest",
          "mapbox": {
           "style": "light"
          },
          "paper_bgcolor": "white",
          "plot_bgcolor": "#E5ECF6",
          "polar": {
           "angularaxis": {
            "gridcolor": "white",
            "linecolor": "white",
            "ticks": ""
           },
           "bgcolor": "#E5ECF6",
           "radialaxis": {
            "gridcolor": "white",
            "linecolor": "white",
            "ticks": ""
           }
          },
          "scene": {
           "xaxis": {
            "backgroundcolor": "#E5ECF6",
            "gridcolor": "white",
            "gridwidth": 2,
            "linecolor": "white",
            "showbackground": true,
            "ticks": "",
            "zerolinecolor": "white"
           },
           "yaxis": {
            "backgroundcolor": "#E5ECF6",
            "gridcolor": "white",
            "gridwidth": 2,
            "linecolor": "white",
            "showbackground": true,
            "ticks": "",
            "zerolinecolor": "white"
           },
           "zaxis": {
            "backgroundcolor": "#E5ECF6",
            "gridcolor": "white",
            "gridwidth": 2,
            "linecolor": "white",
            "showbackground": true,
            "ticks": "",
            "zerolinecolor": "white"
           }
          },
          "shapedefaults": {
           "line": {
            "color": "#2a3f5f"
           }
          },
          "ternary": {
           "aaxis": {
            "gridcolor": "white",
            "linecolor": "white",
            "ticks": ""
           },
           "baxis": {
            "gridcolor": "white",
            "linecolor": "white",
            "ticks": ""
           },
           "bgcolor": "#E5ECF6",
           "caxis": {
            "gridcolor": "white",
            "linecolor": "white",
            "ticks": ""
           }
          },
          "title": {
           "x": 0.05
          },
          "xaxis": {
           "automargin": true,
           "gridcolor": "white",
           "linecolor": "white",
           "ticks": "",
           "title": {
            "standoff": 15
           },
           "zerolinecolor": "white",
           "zerolinewidth": 2
          },
          "yaxis": {
           "automargin": true,
           "gridcolor": "white",
           "linecolor": "white",
           "ticks": "",
           "title": {
            "standoff": 15
           },
           "zerolinecolor": "white",
           "zerolinewidth": 2
          }
         }
        },
        "title": {
         "font": {
          "color": "#333333",
          "size": 20
         },
         "text": "MAPE for large_productions",
         "x": 0.5,
         "xanchor": "center",
         "y": 0.95,
         "yanchor": "top"
        },
        "xaxis": {
         "anchor": "y",
         "categoryarray": [
          "none",
          "complex"
         ],
         "categoryorder": "array",
         "domain": [
          0,
          1
         ],
         "gridcolor": "#E5E5E5",
         "showgrid": true,
         "tickangle": 0,
         "tickfont": {
          "size": 10
         },
         "title": {
          "text": "Feature Engineering Type"
         }
        },
        "yaxis": {
         "anchor": "x",
         "domain": [
          0,
          1
         ],
         "gridcolor": "#E5E5E5",
         "showgrid": true,
         "tickfont": {
          "size": 10
         },
         "title": {
          "text": "MAPE Value"
         },
         "type": "linear",
         "zeroline": true,
         "zerolinecolor": "#E5E5E5"
        }
       }
      }
     },
     "metadata": {},
     "output_type": "display_data"
    },
    {
     "data": {
      "application/vnd.plotly.v1+json": {
       "config": {
        "plotlyServerURL": "https://plot.ly"
       },
       "data": [
        {
         "alignmentgroup": "True",
         "hovertemplate": "Outliers Removed=False<br>Feature Engineering Type=%{x}<br>MAPE Value=%{text}<extra></extra>",
         "legendgroup": "False",
         "marker": {
          "color": "#66C2A5",
          "pattern": {
           "shape": ""
          }
         },
         "name": "False",
         "offsetgroup": "False",
         "orientation": "v",
         "showlegend": true,
         "text": [
          1034.07452899667
         ],
         "textposition": "outside",
         "texttemplate": "%{text:.2s}",
         "type": "bar",
         "x": [
          "none"
         ],
         "xaxis": "x",
         "y": [
          1034.07452899667
         ],
         "yaxis": "y"
        },
        {
         "alignmentgroup": "True",
         "hovertemplate": "Outliers Removed=True<br>Feature Engineering Type=%{x}<br>MAPE Value=%{text}<extra></extra>",
         "legendgroup": "True",
         "marker": {
          "color": "#FC8D62",
          "pattern": {
           "shape": ""
          }
         },
         "name": "True",
         "offsetgroup": "True",
         "orientation": "v",
         "showlegend": true,
         "text": [
          1.8197421048017395
         ],
         "textposition": "outside",
         "texttemplate": "%{text:.2s}",
         "type": "bar",
         "x": [
          "none"
         ],
         "xaxis": "x",
         "y": [
          1.8197421048017395
         ],
         "yaxis": "y"
        }
       ],
       "layout": {
        "bargap": 0.15,
        "barmode": "group",
        "font": {
         "color": "#333333",
         "family": "Arial",
         "size": 12
        },
        "legend": {
         "orientation": "h",
         "title": {
          "text": "Outliers Removed"
         },
         "tracegroupgap": 0,
         "x": 1,
         "xanchor": "right",
         "y": 1.02,
         "yanchor": "bottom"
        },
        "margin": {
         "b": 50,
         "l": 60,
         "r": 30,
         "t": 80
        },
        "plot_bgcolor": "white",
        "showlegend": true,
        "template": {
         "data": {
          "bar": [
           {
            "error_x": {
             "color": "#2a3f5f"
            },
            "error_y": {
             "color": "#2a3f5f"
            },
            "marker": {
             "line": {
              "color": "#E5ECF6",
              "width": 0.5
             },
             "pattern": {
              "fillmode": "overlay",
              "size": 10,
              "solidity": 0.2
             }
            },
            "type": "bar"
           }
          ],
          "barpolar": [
           {
            "marker": {
             "line": {
              "color": "#E5ECF6",
              "width": 0.5
             },
             "pattern": {
              "fillmode": "overlay",
              "size": 10,
              "solidity": 0.2
             }
            },
            "type": "barpolar"
           }
          ],
          "carpet": [
           {
            "aaxis": {
             "endlinecolor": "#2a3f5f",
             "gridcolor": "white",
             "linecolor": "white",
             "minorgridcolor": "white",
             "startlinecolor": "#2a3f5f"
            },
            "baxis": {
             "endlinecolor": "#2a3f5f",
             "gridcolor": "white",
             "linecolor": "white",
             "minorgridcolor": "white",
             "startlinecolor": "#2a3f5f"
            },
            "type": "carpet"
           }
          ],
          "choropleth": [
           {
            "colorbar": {
             "outlinewidth": 0,
             "ticks": ""
            },
            "type": "choropleth"
           }
          ],
          "contour": [
           {
            "colorbar": {
             "outlinewidth": 0,
             "ticks": ""
            },
            "colorscale": [
             [
              0,
              "#0d0887"
             ],
             [
              0.1111111111111111,
              "#46039f"
             ],
             [
              0.2222222222222222,
              "#7201a8"
             ],
             [
              0.3333333333333333,
              "#9c179e"
             ],
             [
              0.4444444444444444,
              "#bd3786"
             ],
             [
              0.5555555555555556,
              "#d8576b"
             ],
             [
              0.6666666666666666,
              "#ed7953"
             ],
             [
              0.7777777777777778,
              "#fb9f3a"
             ],
             [
              0.8888888888888888,
              "#fdca26"
             ],
             [
              1,
              "#f0f921"
             ]
            ],
            "type": "contour"
           }
          ],
          "contourcarpet": [
           {
            "colorbar": {
             "outlinewidth": 0,
             "ticks": ""
            },
            "type": "contourcarpet"
           }
          ],
          "heatmap": [
           {
            "colorbar": {
             "outlinewidth": 0,
             "ticks": ""
            },
            "colorscale": [
             [
              0,
              "#0d0887"
             ],
             [
              0.1111111111111111,
              "#46039f"
             ],
             [
              0.2222222222222222,
              "#7201a8"
             ],
             [
              0.3333333333333333,
              "#9c179e"
             ],
             [
              0.4444444444444444,
              "#bd3786"
             ],
             [
              0.5555555555555556,
              "#d8576b"
             ],
             [
              0.6666666666666666,
              "#ed7953"
             ],
             [
              0.7777777777777778,
              "#fb9f3a"
             ],
             [
              0.8888888888888888,
              "#fdca26"
             ],
             [
              1,
              "#f0f921"
             ]
            ],
            "type": "heatmap"
           }
          ],
          "heatmapgl": [
           {
            "colorbar": {
             "outlinewidth": 0,
             "ticks": ""
            },
            "colorscale": [
             [
              0,
              "#0d0887"
             ],
             [
              0.1111111111111111,
              "#46039f"
             ],
             [
              0.2222222222222222,
              "#7201a8"
             ],
             [
              0.3333333333333333,
              "#9c179e"
             ],
             [
              0.4444444444444444,
              "#bd3786"
             ],
             [
              0.5555555555555556,
              "#d8576b"
             ],
             [
              0.6666666666666666,
              "#ed7953"
             ],
             [
              0.7777777777777778,
              "#fb9f3a"
             ],
             [
              0.8888888888888888,
              "#fdca26"
             ],
             [
              1,
              "#f0f921"
             ]
            ],
            "type": "heatmapgl"
           }
          ],
          "histogram": [
           {
            "marker": {
             "pattern": {
              "fillmode": "overlay",
              "size": 10,
              "solidity": 0.2
             }
            },
            "type": "histogram"
           }
          ],
          "histogram2d": [
           {
            "colorbar": {
             "outlinewidth": 0,
             "ticks": ""
            },
            "colorscale": [
             [
              0,
              "#0d0887"
             ],
             [
              0.1111111111111111,
              "#46039f"
             ],
             [
              0.2222222222222222,
              "#7201a8"
             ],
             [
              0.3333333333333333,
              "#9c179e"
             ],
             [
              0.4444444444444444,
              "#bd3786"
             ],
             [
              0.5555555555555556,
              "#d8576b"
             ],
             [
              0.6666666666666666,
              "#ed7953"
             ],
             [
              0.7777777777777778,
              "#fb9f3a"
             ],
             [
              0.8888888888888888,
              "#fdca26"
             ],
             [
              1,
              "#f0f921"
             ]
            ],
            "type": "histogram2d"
           }
          ],
          "histogram2dcontour": [
           {
            "colorbar": {
             "outlinewidth": 0,
             "ticks": ""
            },
            "colorscale": [
             [
              0,
              "#0d0887"
             ],
             [
              0.1111111111111111,
              "#46039f"
             ],
             [
              0.2222222222222222,
              "#7201a8"
             ],
             [
              0.3333333333333333,
              "#9c179e"
             ],
             [
              0.4444444444444444,
              "#bd3786"
             ],
             [
              0.5555555555555556,
              "#d8576b"
             ],
             [
              0.6666666666666666,
              "#ed7953"
             ],
             [
              0.7777777777777778,
              "#fb9f3a"
             ],
             [
              0.8888888888888888,
              "#fdca26"
             ],
             [
              1,
              "#f0f921"
             ]
            ],
            "type": "histogram2dcontour"
           }
          ],
          "mesh3d": [
           {
            "colorbar": {
             "outlinewidth": 0,
             "ticks": ""
            },
            "type": "mesh3d"
           }
          ],
          "parcoords": [
           {
            "line": {
             "colorbar": {
              "outlinewidth": 0,
              "ticks": ""
             }
            },
            "type": "parcoords"
           }
          ],
          "pie": [
           {
            "automargin": true,
            "type": "pie"
           }
          ],
          "scatter": [
           {
            "fillpattern": {
             "fillmode": "overlay",
             "size": 10,
             "solidity": 0.2
            },
            "type": "scatter"
           }
          ],
          "scatter3d": [
           {
            "line": {
             "colorbar": {
              "outlinewidth": 0,
              "ticks": ""
             }
            },
            "marker": {
             "colorbar": {
              "outlinewidth": 0,
              "ticks": ""
             }
            },
            "type": "scatter3d"
           }
          ],
          "scattercarpet": [
           {
            "marker": {
             "colorbar": {
              "outlinewidth": 0,
              "ticks": ""
             }
            },
            "type": "scattercarpet"
           }
          ],
          "scattergeo": [
           {
            "marker": {
             "colorbar": {
              "outlinewidth": 0,
              "ticks": ""
             }
            },
            "type": "scattergeo"
           }
          ],
          "scattergl": [
           {
            "marker": {
             "colorbar": {
              "outlinewidth": 0,
              "ticks": ""
             }
            },
            "type": "scattergl"
           }
          ],
          "scattermapbox": [
           {
            "marker": {
             "colorbar": {
              "outlinewidth": 0,
              "ticks": ""
             }
            },
            "type": "scattermapbox"
           }
          ],
          "scatterpolar": [
           {
            "marker": {
             "colorbar": {
              "outlinewidth": 0,
              "ticks": ""
             }
            },
            "type": "scatterpolar"
           }
          ],
          "scatterpolargl": [
           {
            "marker": {
             "colorbar": {
              "outlinewidth": 0,
              "ticks": ""
             }
            },
            "type": "scatterpolargl"
           }
          ],
          "scatterternary": [
           {
            "marker": {
             "colorbar": {
              "outlinewidth": 0,
              "ticks": ""
             }
            },
            "type": "scatterternary"
           }
          ],
          "surface": [
           {
            "colorbar": {
             "outlinewidth": 0,
             "ticks": ""
            },
            "colorscale": [
             [
              0,
              "#0d0887"
             ],
             [
              0.1111111111111111,
              "#46039f"
             ],
             [
              0.2222222222222222,
              "#7201a8"
             ],
             [
              0.3333333333333333,
              "#9c179e"
             ],
             [
              0.4444444444444444,
              "#bd3786"
             ],
             [
              0.5555555555555556,
              "#d8576b"
             ],
             [
              0.6666666666666666,
              "#ed7953"
             ],
             [
              0.7777777777777778,
              "#fb9f3a"
             ],
             [
              0.8888888888888888,
              "#fdca26"
             ],
             [
              1,
              "#f0f921"
             ]
            ],
            "type": "surface"
           }
          ],
          "table": [
           {
            "cells": {
             "fill": {
              "color": "#EBF0F8"
             },
             "line": {
              "color": "white"
             }
            },
            "header": {
             "fill": {
              "color": "#C8D4E3"
             },
             "line": {
              "color": "white"
             }
            },
            "type": "table"
           }
          ]
         },
         "layout": {
          "annotationdefaults": {
           "arrowcolor": "#2a3f5f",
           "arrowhead": 0,
           "arrowwidth": 1
          },
          "autotypenumbers": "strict",
          "coloraxis": {
           "colorbar": {
            "outlinewidth": 0,
            "ticks": ""
           }
          },
          "colorscale": {
           "diverging": [
            [
             0,
             "#8e0152"
            ],
            [
             0.1,
             "#c51b7d"
            ],
            [
             0.2,
             "#de77ae"
            ],
            [
             0.3,
             "#f1b6da"
            ],
            [
             0.4,
             "#fde0ef"
            ],
            [
             0.5,
             "#f7f7f7"
            ],
            [
             0.6,
             "#e6f5d0"
            ],
            [
             0.7,
             "#b8e186"
            ],
            [
             0.8,
             "#7fbc41"
            ],
            [
             0.9,
             "#4d9221"
            ],
            [
             1,
             "#276419"
            ]
           ],
           "sequential": [
            [
             0,
             "#0d0887"
            ],
            [
             0.1111111111111111,
             "#46039f"
            ],
            [
             0.2222222222222222,
             "#7201a8"
            ],
            [
             0.3333333333333333,
             "#9c179e"
            ],
            [
             0.4444444444444444,
             "#bd3786"
            ],
            [
             0.5555555555555556,
             "#d8576b"
            ],
            [
             0.6666666666666666,
             "#ed7953"
            ],
            [
             0.7777777777777778,
             "#fb9f3a"
            ],
            [
             0.8888888888888888,
             "#fdca26"
            ],
            [
             1,
             "#f0f921"
            ]
           ],
           "sequentialminus": [
            [
             0,
             "#0d0887"
            ],
            [
             0.1111111111111111,
             "#46039f"
            ],
            [
             0.2222222222222222,
             "#7201a8"
            ],
            [
             0.3333333333333333,
             "#9c179e"
            ],
            [
             0.4444444444444444,
             "#bd3786"
            ],
            [
             0.5555555555555556,
             "#d8576b"
            ],
            [
             0.6666666666666666,
             "#ed7953"
            ],
            [
             0.7777777777777778,
             "#fb9f3a"
            ],
            [
             0.8888888888888888,
             "#fdca26"
            ],
            [
             1,
             "#f0f921"
            ]
           ]
          },
          "colorway": [
           "#636efa",
           "#EF553B",
           "#00cc96",
           "#ab63fa",
           "#FFA15A",
           "#19d3f3",
           "#FF6692",
           "#B6E880",
           "#FF97FF",
           "#FECB52"
          ],
          "font": {
           "color": "#2a3f5f"
          },
          "geo": {
           "bgcolor": "white",
           "lakecolor": "white",
           "landcolor": "#E5ECF6",
           "showlakes": true,
           "showland": true,
           "subunitcolor": "white"
          },
          "hoverlabel": {
           "align": "left"
          },
          "hovermode": "closest",
          "mapbox": {
           "style": "light"
          },
          "paper_bgcolor": "white",
          "plot_bgcolor": "#E5ECF6",
          "polar": {
           "angularaxis": {
            "gridcolor": "white",
            "linecolor": "white",
            "ticks": ""
           },
           "bgcolor": "#E5ECF6",
           "radialaxis": {
            "gridcolor": "white",
            "linecolor": "white",
            "ticks": ""
           }
          },
          "scene": {
           "xaxis": {
            "backgroundcolor": "#E5ECF6",
            "gridcolor": "white",
            "gridwidth": 2,
            "linecolor": "white",
            "showbackground": true,
            "ticks": "",
            "zerolinecolor": "white"
           },
           "yaxis": {
            "backgroundcolor": "#E5ECF6",
            "gridcolor": "white",
            "gridwidth": 2,
            "linecolor": "white",
            "showbackground": true,
            "ticks": "",
            "zerolinecolor": "white"
           },
           "zaxis": {
            "backgroundcolor": "#E5ECF6",
            "gridcolor": "white",
            "gridwidth": 2,
            "linecolor": "white",
            "showbackground": true,
            "ticks": "",
            "zerolinecolor": "white"
           }
          },
          "shapedefaults": {
           "line": {
            "color": "#2a3f5f"
           }
          },
          "ternary": {
           "aaxis": {
            "gridcolor": "white",
            "linecolor": "white",
            "ticks": ""
           },
           "baxis": {
            "gridcolor": "white",
            "linecolor": "white",
            "ticks": ""
           },
           "bgcolor": "#E5ECF6",
           "caxis": {
            "gridcolor": "white",
            "linecolor": "white",
            "ticks": ""
           }
          },
          "title": {
           "x": 0.05
          },
          "xaxis": {
           "automargin": true,
           "gridcolor": "white",
           "linecolor": "white",
           "ticks": "",
           "title": {
            "standoff": 15
           },
           "zerolinecolor": "white",
           "zerolinewidth": 2
          },
          "yaxis": {
           "automargin": true,
           "gridcolor": "white",
           "linecolor": "white",
           "ticks": "",
           "title": {
            "standoff": 15
           },
           "zerolinecolor": "white",
           "zerolinewidth": 2
          }
         }
        },
        "title": {
         "font": {
          "color": "#333333",
          "size": 20
         },
         "text": "MAPE for small_productions",
         "x": 0.5,
         "xanchor": "center",
         "y": 0.95,
         "yanchor": "top"
        },
        "xaxis": {
         "anchor": "y",
         "categoryarray": [
          "none",
          "complex"
         ],
         "categoryorder": "array",
         "domain": [
          0,
          1
         ],
         "gridcolor": "#E5E5E5",
         "showgrid": true,
         "tickangle": 0,
         "tickfont": {
          "size": 10
         },
         "title": {
          "text": "Feature Engineering Type"
         }
        },
        "yaxis": {
         "anchor": "x",
         "domain": [
          0,
          1
         ],
         "gridcolor": "#E5E5E5",
         "showgrid": true,
         "tickfont": {
          "size": 10
         },
         "title": {
          "text": "MAPE Value"
         },
         "type": "log",
         "zeroline": true,
         "zerolinecolor": "#E5E5E5"
        }
       }
      }
     },
     "metadata": {},
     "output_type": "display_data"
    },
    {
     "data": {
      "text/html": [
       "<div>\n",
       "<style scoped>\n",
       "    .dataframe tbody tr th:only-of-type {\n",
       "        vertical-align: middle;\n",
       "    }\n",
       "\n",
       "    .dataframe tbody tr th {\n",
       "        vertical-align: top;\n",
       "    }\n",
       "\n",
       "    .dataframe thead th {\n",
       "        text-align: right;\n",
       "    }\n",
       "</style>\n",
       "<table border=\"1\" class=\"dataframe\">\n",
       "  <thead>\n",
       "    <tr style=\"text-align: right;\">\n",
       "      <th></th>\n",
       "      <th>run_id</th>\n",
       "      <th>timestamp</th>\n",
       "      <th>model_type</th>\n",
       "      <th>problem_type</th>\n",
       "      <th>dataset_name</th>\n",
       "      <th>grid_type</th>\n",
       "      <th>has_outliers_removed</th>\n",
       "      <th>feature_engineering</th>\n",
       "      <th>scaler</th>\n",
       "      <th>variance_threshold</th>\n",
       "      <th>duration</th>\n",
       "      <th>number_of_combinations</th>\n",
       "      <th>Accuracy</th>\n",
       "      <th>Precision</th>\n",
       "      <th>Recall</th>\n",
       "      <th>F1 Score</th>\n",
       "      <th>MSE</th>\n",
       "      <th>MAPE</th>\n",
       "      <th>MAE</th>\n",
       "      <th>RMSE</th>\n",
       "      <th>RMSLE</th>\n",
       "      <th>MSLE</th>\n",
       "      <th>R2</th>\n",
       "      <th>Threshold Probability Accuracy</th>\n",
       "      <th>Threshold MAPE</th>\n",
       "      <th>Threshold MAPE (25%)</th>\n",
       "      <th>ROC AUC Score</th>\n",
       "    </tr>\n",
       "  </thead>\n",
       "  <tbody>\n",
       "    <tr>\n",
       "      <th>566</th>\n",
       "      <td>20240806_230924</td>\n",
       "      <td>2024-08-07 02:57:31</td>\n",
       "      <td>decision_tree_regressor</td>\n",
       "      <td>regression</td>\n",
       "      <td>large_productions</td>\n",
       "      <td>random_search</td>\n",
       "      <td>False</td>\n",
       "      <td>complex</td>\n",
       "      <td>MinMaxScaler</td>\n",
       "      <td>0.052179</td>\n",
       "      <td>30.404493</td>\n",
       "      <td>None</td>\n",
       "      <td>NaN</td>\n",
       "      <td>NaN</td>\n",
       "      <td>NaN</td>\n",
       "      <td>NaN</td>\n",
       "      <td>4.200325e+16</td>\n",
       "      <td>1.965304</td>\n",
       "      <td>1.124303e+08</td>\n",
       "      <td>2.049469e+08</td>\n",
       "      <td>1.098849</td>\n",
       "      <td>1.207470</td>\n",
       "      <td>0.492879</td>\n",
       "      <td>0.206039</td>\n",
       "      <td>2.176849</td>\n",
       "      <td>2.614239</td>\n",
       "      <td>NaN</td>\n",
       "    </tr>\n",
       "    <tr>\n",
       "      <th>1128</th>\n",
       "      <td>20240806_230924</td>\n",
       "      <td>2024-08-07 01:06:59</td>\n",
       "      <td>decision_tree_regressor</td>\n",
       "      <td>regression</td>\n",
       "      <td>small_productions</td>\n",
       "      <td>random_search</td>\n",
       "      <td>False</td>\n",
       "      <td>none</td>\n",
       "      <td>MinMaxScaler</td>\n",
       "      <td>0.038855</td>\n",
       "      <td>1.417774</td>\n",
       "      <td>None</td>\n",
       "      <td>NaN</td>\n",
       "      <td>NaN</td>\n",
       "      <td>NaN</td>\n",
       "      <td>NaN</td>\n",
       "      <td>2.806414e+15</td>\n",
       "      <td>3716.256048</td>\n",
       "      <td>1.657437e+07</td>\n",
       "      <td>5.297560e+07</td>\n",
       "      <td>2.058231</td>\n",
       "      <td>4.236316</td>\n",
       "      <td>0.253129</td>\n",
       "      <td>0.104305</td>\n",
       "      <td>3951.790194</td>\n",
       "      <td>4283.604647</td>\n",
       "      <td>NaN</td>\n",
       "    </tr>\n",
       "    <tr>\n",
       "      <th>1169</th>\n",
       "      <td>20240806_230924</td>\n",
       "      <td>2024-08-07 01:59:40</td>\n",
       "      <td>lightgbm_regressor</td>\n",
       "      <td>regression</td>\n",
       "      <td>small_productions</td>\n",
       "      <td>random_search</td>\n",
       "      <td>False</td>\n",
       "      <td>none</td>\n",
       "      <td>MinMaxScaler</td>\n",
       "      <td>0.126461</td>\n",
       "      <td>3102.059649</td>\n",
       "      <td>None</td>\n",
       "      <td>NaN</td>\n",
       "      <td>NaN</td>\n",
       "      <td>NaN</td>\n",
       "      <td>NaN</td>\n",
       "      <td>2.715088e+15</td>\n",
       "      <td>1034.074529</td>\n",
       "      <td>1.618450e+07</td>\n",
       "      <td>5.210650e+07</td>\n",
       "      <td>1.901545</td>\n",
       "      <td>3.615872</td>\n",
       "      <td>0.277433</td>\n",
       "      <td>0.105960</td>\n",
       "      <td>1088.117787</td>\n",
       "      <td>1194.206955</td>\n",
       "      <td>NaN</td>\n",
       "    </tr>\n",
       "    <tr>\n",
       "      <th>1540</th>\n",
       "      <td>20240806_230924</td>\n",
       "      <td>2024-08-07 07:05:39</td>\n",
       "      <td>random_forest_regressor</td>\n",
       "      <td>regression</td>\n",
       "      <td>small_productions</td>\n",
       "      <td>random_search</td>\n",
       "      <td>True</td>\n",
       "      <td>none</td>\n",
       "      <td>StandardScaler</td>\n",
       "      <td>0.034991</td>\n",
       "      <td>82.666126</td>\n",
       "      <td>None</td>\n",
       "      <td>NaN</td>\n",
       "      <td>NaN</td>\n",
       "      <td>NaN</td>\n",
       "      <td>NaN</td>\n",
       "      <td>5.250786e+14</td>\n",
       "      <td>1.819742</td>\n",
       "      <td>1.410932e+07</td>\n",
       "      <td>2.291459e+07</td>\n",
       "      <td>1.253378</td>\n",
       "      <td>1.570957</td>\n",
       "      <td>0.127607</td>\n",
       "      <td>0.091241</td>\n",
       "      <td>1.908518</td>\n",
       "      <td>2.059519</td>\n",
       "      <td>NaN</td>\n",
       "    </tr>\n",
       "    <tr>\n",
       "      <th>1737</th>\n",
       "      <td>20240806_230924</td>\n",
       "      <td>2024-08-07 02:37:56</td>\n",
       "      <td>dummy_regressor</td>\n",
       "      <td>regression</td>\n",
       "      <td>large_productions</td>\n",
       "      <td>random_search</td>\n",
       "      <td>False</td>\n",
       "      <td>complex</td>\n",
       "      <td>RobustScaler</td>\n",
       "      <td>0.028573</td>\n",
       "      <td>25.045260</td>\n",
       "      <td>None</td>\n",
       "      <td>NaN</td>\n",
       "      <td>NaN</td>\n",
       "      <td>NaN</td>\n",
       "      <td>NaN</td>\n",
       "      <td>9.061588e+16</td>\n",
       "      <td>24.565887</td>\n",
       "      <td>1.588650e+08</td>\n",
       "      <td>3.010247e+08</td>\n",
       "      <td>1.464467</td>\n",
       "      <td>2.144663</td>\n",
       "      <td>-0.094040</td>\n",
       "      <td>0.140320</td>\n",
       "      <td>26.290476</td>\n",
       "      <td>29.716493</td>\n",
       "      <td>NaN</td>\n",
       "    </tr>\n",
       "    <tr>\n",
       "      <th>1840</th>\n",
       "      <td>20240806_230924</td>\n",
       "      <td>2024-08-07 03:50:28</td>\n",
       "      <td>lightgbm_regressor</td>\n",
       "      <td>regression</td>\n",
       "      <td>large_productions</td>\n",
       "      <td>random_search</td>\n",
       "      <td>False</td>\n",
       "      <td>complex</td>\n",
       "      <td>MinMaxScaler</td>\n",
       "      <td>0.006878</td>\n",
       "      <td>2699.246889</td>\n",
       "      <td>None</td>\n",
       "      <td>NaN</td>\n",
       "      <td>NaN</td>\n",
       "      <td>NaN</td>\n",
       "      <td>NaN</td>\n",
       "      <td>4.284176e+16</td>\n",
       "      <td>4.328473</td>\n",
       "      <td>1.084042e+08</td>\n",
       "      <td>2.069825e+08</td>\n",
       "      <td>1.014492</td>\n",
       "      <td>1.029194</td>\n",
       "      <td>0.482755</td>\n",
       "      <td>0.223801</td>\n",
       "      <td>4.848679</td>\n",
       "      <td>5.829596</td>\n",
       "      <td>NaN</td>\n",
       "    </tr>\n",
       "    <tr>\n",
       "      <th>2045</th>\n",
       "      <td>20240806_230924</td>\n",
       "      <td>2024-08-07 07:34:10</td>\n",
       "      <td>lightgbm_regressor</td>\n",
       "      <td>regression</td>\n",
       "      <td>small_productions</td>\n",
       "      <td>random_search</td>\n",
       "      <td>True</td>\n",
       "      <td>none</td>\n",
       "      <td>MinMaxScaler</td>\n",
       "      <td>0.122371</td>\n",
       "      <td>1684.474341</td>\n",
       "      <td>None</td>\n",
       "      <td>NaN</td>\n",
       "      <td>NaN</td>\n",
       "      <td>NaN</td>\n",
       "      <td>NaN</td>\n",
       "      <td>4.955639e+14</td>\n",
       "      <td>1.945183</td>\n",
       "      <td>1.389599e+07</td>\n",
       "      <td>2.226126e+07</td>\n",
       "      <td>1.277452</td>\n",
       "      <td>1.631884</td>\n",
       "      <td>0.176644</td>\n",
       "      <td>0.105839</td>\n",
       "      <td>2.055481</td>\n",
       "      <td>2.205204</td>\n",
       "      <td>NaN</td>\n",
       "    </tr>\n",
       "    <tr>\n",
       "      <th>2130</th>\n",
       "      <td>20240806_230924</td>\n",
       "      <td>2024-08-07 03:05:29</td>\n",
       "      <td>xgboost_regressor</td>\n",
       "      <td>regression</td>\n",
       "      <td>large_productions</td>\n",
       "      <td>random_search</td>\n",
       "      <td>False</td>\n",
       "      <td>complex</td>\n",
       "      <td>RobustScaler</td>\n",
       "      <td>0.027866</td>\n",
       "      <td>477.792208</td>\n",
       "      <td>None</td>\n",
       "      <td>NaN</td>\n",
       "      <td>NaN</td>\n",
       "      <td>NaN</td>\n",
       "      <td>NaN</td>\n",
       "      <td>4.281868e+16</td>\n",
       "      <td>4.367213</td>\n",
       "      <td>1.059003e+08</td>\n",
       "      <td>2.069268e+08</td>\n",
       "      <td>1.029646</td>\n",
       "      <td>1.060172</td>\n",
       "      <td>0.483034</td>\n",
       "      <td>0.216696</td>\n",
       "      <td>4.854143</td>\n",
       "      <td>5.949208</td>\n",
       "      <td>NaN</td>\n",
       "    </tr>\n",
       "    <tr>\n",
       "      <th>2192</th>\n",
       "      <td>20240806_230924</td>\n",
       "      <td>2024-08-07 07:04:16</td>\n",
       "      <td>dummy_regressor</td>\n",
       "      <td>regression</td>\n",
       "      <td>small_productions</td>\n",
       "      <td>random_search</td>\n",
       "      <td>True</td>\n",
       "      <td>none</td>\n",
       "      <td>RobustScaler</td>\n",
       "      <td>0.159309</td>\n",
       "      <td>0.704337</td>\n",
       "      <td>None</td>\n",
       "      <td>NaN</td>\n",
       "      <td>NaN</td>\n",
       "      <td>NaN</td>\n",
       "      <td>NaN</td>\n",
       "      <td>7.406959e+14</td>\n",
       "      <td>3.826276</td>\n",
       "      <td>1.647679e+07</td>\n",
       "      <td>2.721573e+07</td>\n",
       "      <td>1.592469</td>\n",
       "      <td>2.535959</td>\n",
       "      <td>-0.230631</td>\n",
       "      <td>0.069343</td>\n",
       "      <td>3.954502</td>\n",
       "      <td>4.165196</td>\n",
       "      <td>NaN</td>\n",
       "    </tr>\n",
       "    <tr>\n",
       "      <th>2300</th>\n",
       "      <td>20240806_230924</td>\n",
       "      <td>2024-08-07 02:57:00</td>\n",
       "      <td>random_forest_regressor</td>\n",
       "      <td>regression</td>\n",
       "      <td>large_productions</td>\n",
       "      <td>random_search</td>\n",
       "      <td>False</td>\n",
       "      <td>complex</td>\n",
       "      <td>StandardScaler</td>\n",
       "      <td>0.037304</td>\n",
       "      <td>1143.638252</td>\n",
       "      <td>None</td>\n",
       "      <td>NaN</td>\n",
       "      <td>NaN</td>\n",
       "      <td>NaN</td>\n",
       "      <td>NaN</td>\n",
       "      <td>4.095737e+16</td>\n",
       "      <td>2.622140</td>\n",
       "      <td>1.044580e+08</td>\n",
       "      <td>2.023793e+08</td>\n",
       "      <td>1.018054</td>\n",
       "      <td>1.036433</td>\n",
       "      <td>0.505506</td>\n",
       "      <td>0.220249</td>\n",
       "      <td>3.029718</td>\n",
       "      <td>3.525503</td>\n",
       "      <td>NaN</td>\n",
       "    </tr>\n",
       "    <tr>\n",
       "      <th>2475</th>\n",
       "      <td>20240806_230924</td>\n",
       "      <td>2024-08-07 01:06:57</td>\n",
       "      <td>random_forest_regressor</td>\n",
       "      <td>regression</td>\n",
       "      <td>small_productions</td>\n",
       "      <td>random_search</td>\n",
       "      <td>False</td>\n",
       "      <td>none</td>\n",
       "      <td>StandardScaler</td>\n",
       "      <td>0.169734</td>\n",
       "      <td>157.194483</td>\n",
       "      <td>None</td>\n",
       "      <td>NaN</td>\n",
       "      <td>NaN</td>\n",
       "      <td>NaN</td>\n",
       "      <td>NaN</td>\n",
       "      <td>2.671700e+15</td>\n",
       "      <td>1629.522790</td>\n",
       "      <td>1.549534e+07</td>\n",
       "      <td>5.168849e+07</td>\n",
       "      <td>1.858385</td>\n",
       "      <td>3.453593</td>\n",
       "      <td>0.288980</td>\n",
       "      <td>0.089404</td>\n",
       "      <td>1694.028623</td>\n",
       "      <td>1850.041335</td>\n",
       "      <td>NaN</td>\n",
       "    </tr>\n",
       "    <tr>\n",
       "      <th>2502</th>\n",
       "      <td>20240806_230924</td>\n",
       "      <td>2024-08-07 01:04:20</td>\n",
       "      <td>dummy_regressor</td>\n",
       "      <td>regression</td>\n",
       "      <td>small_productions</td>\n",
       "      <td>random_search</td>\n",
       "      <td>False</td>\n",
       "      <td>none</td>\n",
       "      <td>RobustScaler</td>\n",
       "      <td>0.028573</td>\n",
       "      <td>0.883237</td>\n",
       "      <td>None</td>\n",
       "      <td>NaN</td>\n",
       "      <td>NaN</td>\n",
       "      <td>NaN</td>\n",
       "      <td>NaN</td>\n",
       "      <td>4.029149e+15</td>\n",
       "      <td>88321.586502</td>\n",
       "      <td>2.113590e+07</td>\n",
       "      <td>6.347558e+07</td>\n",
       "      <td>3.074882</td>\n",
       "      <td>9.454899</td>\n",
       "      <td>-0.072278</td>\n",
       "      <td>0.077815</td>\n",
       "      <td>92776.063321</td>\n",
       "      <td>98424.779017</td>\n",
       "      <td>NaN</td>\n",
       "    </tr>\n",
       "    <tr>\n",
       "      <th>2682</th>\n",
       "      <td>20240806_230924</td>\n",
       "      <td>2024-08-07 07:06:05</td>\n",
       "      <td>xgboost_regressor</td>\n",
       "      <td>regression</td>\n",
       "      <td>small_productions</td>\n",
       "      <td>random_search</td>\n",
       "      <td>True</td>\n",
       "      <td>none</td>\n",
       "      <td>StandardScaler</td>\n",
       "      <td>0.169734</td>\n",
       "      <td>25.620338</td>\n",
       "      <td>None</td>\n",
       "      <td>NaN</td>\n",
       "      <td>NaN</td>\n",
       "      <td>NaN</td>\n",
       "      <td>NaN</td>\n",
       "      <td>4.937757e+14</td>\n",
       "      <td>2.121351</td>\n",
       "      <td>1.426493e+07</td>\n",
       "      <td>2.222106e+07</td>\n",
       "      <td>1.332020</td>\n",
       "      <td>1.774277</td>\n",
       "      <td>0.179615</td>\n",
       "      <td>0.120438</td>\n",
       "      <td>2.267055</td>\n",
       "      <td>2.463546</td>\n",
       "      <td>NaN</td>\n",
       "    </tr>\n",
       "    <tr>\n",
       "      <th>2887</th>\n",
       "      <td>20240806_230924</td>\n",
       "      <td>2024-08-07 01:07:58</td>\n",
       "      <td>xgboost_regressor</td>\n",
       "      <td>regression</td>\n",
       "      <td>small_productions</td>\n",
       "      <td>random_search</td>\n",
       "      <td>False</td>\n",
       "      <td>none</td>\n",
       "      <td>MinMaxScaler</td>\n",
       "      <td>0.081791</td>\n",
       "      <td>58.838922</td>\n",
       "      <td>None</td>\n",
       "      <td>NaN</td>\n",
       "      <td>NaN</td>\n",
       "      <td>NaN</td>\n",
       "      <td>NaN</td>\n",
       "      <td>2.568911e+15</td>\n",
       "      <td>5961.204966</td>\n",
       "      <td>1.624560e+07</td>\n",
       "      <td>5.068443e+07</td>\n",
       "      <td>1.936908</td>\n",
       "      <td>3.751614</td>\n",
       "      <td>0.316336</td>\n",
       "      <td>0.119205</td>\n",
       "      <td>6395.321360</td>\n",
       "      <td>7087.708295</td>\n",
       "      <td>NaN</td>\n",
       "    </tr>\n",
       "    <tr>\n",
       "      <th>2899</th>\n",
       "      <td>20240806_230924</td>\n",
       "      <td>2024-08-07 07:05:40</td>\n",
       "      <td>decision_tree_regressor</td>\n",
       "      <td>regression</td>\n",
       "      <td>small_productions</td>\n",
       "      <td>random_search</td>\n",
       "      <td>True</td>\n",
       "      <td>none</td>\n",
       "      <td>MinMaxScaler</td>\n",
       "      <td>0.093989</td>\n",
       "      <td>0.856859</td>\n",
       "      <td>None</td>\n",
       "      <td>NaN</td>\n",
       "      <td>NaN</td>\n",
       "      <td>NaN</td>\n",
       "      <td>NaN</td>\n",
       "      <td>5.230749e+14</td>\n",
       "      <td>1.858029</td>\n",
       "      <td>1.437206e+07</td>\n",
       "      <td>2.287083e+07</td>\n",
       "      <td>1.341286</td>\n",
       "      <td>1.799048</td>\n",
       "      <td>0.130936</td>\n",
       "      <td>0.109489</td>\n",
       "      <td>1.940824</td>\n",
       "      <td>2.160223</td>\n",
       "      <td>NaN</td>\n",
       "    </tr>\n",
       "  </tbody>\n",
       "</table>\n",
       "</div>"
      ],
      "text/plain": [
       "               run_id           timestamp               model_type  \\\n",
       "566   20240806_230924 2024-08-07 02:57:31  decision_tree_regressor   \n",
       "1128  20240806_230924 2024-08-07 01:06:59  decision_tree_regressor   \n",
       "1169  20240806_230924 2024-08-07 01:59:40       lightgbm_regressor   \n",
       "1540  20240806_230924 2024-08-07 07:05:39  random_forest_regressor   \n",
       "1737  20240806_230924 2024-08-07 02:37:56          dummy_regressor   \n",
       "1840  20240806_230924 2024-08-07 03:50:28       lightgbm_regressor   \n",
       "2045  20240806_230924 2024-08-07 07:34:10       lightgbm_regressor   \n",
       "2130  20240806_230924 2024-08-07 03:05:29        xgboost_regressor   \n",
       "2192  20240806_230924 2024-08-07 07:04:16          dummy_regressor   \n",
       "2300  20240806_230924 2024-08-07 02:57:00  random_forest_regressor   \n",
       "2475  20240806_230924 2024-08-07 01:06:57  random_forest_regressor   \n",
       "2502  20240806_230924 2024-08-07 01:04:20          dummy_regressor   \n",
       "2682  20240806_230924 2024-08-07 07:06:05        xgboost_regressor   \n",
       "2887  20240806_230924 2024-08-07 01:07:58        xgboost_regressor   \n",
       "2899  20240806_230924 2024-08-07 07:05:40  decision_tree_regressor   \n",
       "\n",
       "     problem_type       dataset_name      grid_type  has_outliers_removed  \\\n",
       "566    regression  large_productions  random_search                 False   \n",
       "1128   regression  small_productions  random_search                 False   \n",
       "1169   regression  small_productions  random_search                 False   \n",
       "1540   regression  small_productions  random_search                  True   \n",
       "1737   regression  large_productions  random_search                 False   \n",
       "1840   regression  large_productions  random_search                 False   \n",
       "2045   regression  small_productions  random_search                  True   \n",
       "2130   regression  large_productions  random_search                 False   \n",
       "2192   regression  small_productions  random_search                  True   \n",
       "2300   regression  large_productions  random_search                 False   \n",
       "2475   regression  small_productions  random_search                 False   \n",
       "2502   regression  small_productions  random_search                 False   \n",
       "2682   regression  small_productions  random_search                  True   \n",
       "2887   regression  small_productions  random_search                 False   \n",
       "2899   regression  small_productions  random_search                  True   \n",
       "\n",
       "     feature_engineering          scaler  variance_threshold     duration  \\\n",
       "566              complex    MinMaxScaler            0.052179    30.404493   \n",
       "1128                none    MinMaxScaler            0.038855     1.417774   \n",
       "1169                none    MinMaxScaler            0.126461  3102.059649   \n",
       "1540                none  StandardScaler            0.034991    82.666126   \n",
       "1737             complex    RobustScaler            0.028573    25.045260   \n",
       "1840             complex    MinMaxScaler            0.006878  2699.246889   \n",
       "2045                none    MinMaxScaler            0.122371  1684.474341   \n",
       "2130             complex    RobustScaler            0.027866   477.792208   \n",
       "2192                none    RobustScaler            0.159309     0.704337   \n",
       "2300             complex  StandardScaler            0.037304  1143.638252   \n",
       "2475                none  StandardScaler            0.169734   157.194483   \n",
       "2502                none    RobustScaler            0.028573     0.883237   \n",
       "2682                none  StandardScaler            0.169734    25.620338   \n",
       "2887                none    MinMaxScaler            0.081791    58.838922   \n",
       "2899                none    MinMaxScaler            0.093989     0.856859   \n",
       "\n",
       "     number_of_combinations  Accuracy  Precision  Recall  F1 Score  \\\n",
       "566                    None       NaN        NaN     NaN       NaN   \n",
       "1128                   None       NaN        NaN     NaN       NaN   \n",
       "1169                   None       NaN        NaN     NaN       NaN   \n",
       "1540                   None       NaN        NaN     NaN       NaN   \n",
       "1737                   None       NaN        NaN     NaN       NaN   \n",
       "1840                   None       NaN        NaN     NaN       NaN   \n",
       "2045                   None       NaN        NaN     NaN       NaN   \n",
       "2130                   None       NaN        NaN     NaN       NaN   \n",
       "2192                   None       NaN        NaN     NaN       NaN   \n",
       "2300                   None       NaN        NaN     NaN       NaN   \n",
       "2475                   None       NaN        NaN     NaN       NaN   \n",
       "2502                   None       NaN        NaN     NaN       NaN   \n",
       "2682                   None       NaN        NaN     NaN       NaN   \n",
       "2887                   None       NaN        NaN     NaN       NaN   \n",
       "2899                   None       NaN        NaN     NaN       NaN   \n",
       "\n",
       "               MSE          MAPE           MAE          RMSE     RMSLE  \\\n",
       "566   4.200325e+16      1.965304  1.124303e+08  2.049469e+08  1.098849   \n",
       "1128  2.806414e+15   3716.256048  1.657437e+07  5.297560e+07  2.058231   \n",
       "1169  2.715088e+15   1034.074529  1.618450e+07  5.210650e+07  1.901545   \n",
       "1540  5.250786e+14      1.819742  1.410932e+07  2.291459e+07  1.253378   \n",
       "1737  9.061588e+16     24.565887  1.588650e+08  3.010247e+08  1.464467   \n",
       "1840  4.284176e+16      4.328473  1.084042e+08  2.069825e+08  1.014492   \n",
       "2045  4.955639e+14      1.945183  1.389599e+07  2.226126e+07  1.277452   \n",
       "2130  4.281868e+16      4.367213  1.059003e+08  2.069268e+08  1.029646   \n",
       "2192  7.406959e+14      3.826276  1.647679e+07  2.721573e+07  1.592469   \n",
       "2300  4.095737e+16      2.622140  1.044580e+08  2.023793e+08  1.018054   \n",
       "2475  2.671700e+15   1629.522790  1.549534e+07  5.168849e+07  1.858385   \n",
       "2502  4.029149e+15  88321.586502  2.113590e+07  6.347558e+07  3.074882   \n",
       "2682  4.937757e+14      2.121351  1.426493e+07  2.222106e+07  1.332020   \n",
       "2887  2.568911e+15   5961.204966  1.624560e+07  5.068443e+07  1.936908   \n",
       "2899  5.230749e+14      1.858029  1.437206e+07  2.287083e+07  1.341286   \n",
       "\n",
       "          MSLE        R2  Threshold Probability Accuracy  Threshold MAPE  \\\n",
       "566   1.207470  0.492879                        0.206039        2.176849   \n",
       "1128  4.236316  0.253129                        0.104305     3951.790194   \n",
       "1169  3.615872  0.277433                        0.105960     1088.117787   \n",
       "1540  1.570957  0.127607                        0.091241        1.908518   \n",
       "1737  2.144663 -0.094040                        0.140320       26.290476   \n",
       "1840  1.029194  0.482755                        0.223801        4.848679   \n",
       "2045  1.631884  0.176644                        0.105839        2.055481   \n",
       "2130  1.060172  0.483034                        0.216696        4.854143   \n",
       "2192  2.535959 -0.230631                        0.069343        3.954502   \n",
       "2300  1.036433  0.505506                        0.220249        3.029718   \n",
       "2475  3.453593  0.288980                        0.089404     1694.028623   \n",
       "2502  9.454899 -0.072278                        0.077815    92776.063321   \n",
       "2682  1.774277  0.179615                        0.120438        2.267055   \n",
       "2887  3.751614  0.316336                        0.119205     6395.321360   \n",
       "2899  1.799048  0.130936                        0.109489        1.940824   \n",
       "\n",
       "      Threshold MAPE (25%)  ROC AUC Score  \n",
       "566               2.614239            NaN  \n",
       "1128           4283.604647            NaN  \n",
       "1169           1194.206955            NaN  \n",
       "1540              2.059519            NaN  \n",
       "1737             29.716493            NaN  \n",
       "1840              5.829596            NaN  \n",
       "2045              2.205204            NaN  \n",
       "2130              5.949208            NaN  \n",
       "2192              4.165196            NaN  \n",
       "2300              3.525503            NaN  \n",
       "2475           1850.041335            NaN  \n",
       "2502          98424.779017            NaN  \n",
       "2682              2.463546            NaN  \n",
       "2887           7087.708295            NaN  \n",
       "2899              2.160223            NaN  "
      ]
     },
     "execution_count": 38,
     "metadata": {},
     "output_type": "execute_result"
    }
   ],
   "source": [
    "plot_one_metric_of_different_datasets_per_feature_engineering_outliers_with_plotly(experiment_df, problem_type='regression', metric='MAPE', metric_agg='min')"
   ]
  },
  {
   "cell_type": "code",
   "execution_count": 39,
   "metadata": {},
   "outputs": [
    {
     "data": {
      "application/vnd.plotly.v1+json": {
       "config": {
        "plotlyServerURL": "https://plot.ly"
       },
       "data": [
        {
         "alignmentgroup": "True",
         "hovertemplate": "Outliers Removed=False<br>Feature Engineering Type=%{x}<br>Threshold Probability Accuracy Value=%{text}<extra></extra>",
         "legendgroup": "False",
         "marker": {
          "color": "#66C2A5",
          "pattern": {
           "shape": ""
          }
         },
         "name": "False",
         "offsetgroup": "False",
         "orientation": "v",
         "showlegend": true,
         "text": [
          0.22380106571936056
         ],
         "textposition": "outside",
         "texttemplate": "%{text:.2s}",
         "type": "bar",
         "x": [
          "complex"
         ],
         "xaxis": "x",
         "y": [
          0.22380106571936056
         ],
         "yaxis": "y"
        }
       ],
       "layout": {
        "bargap": 0.15,
        "barmode": "group",
        "font": {
         "color": "#333333",
         "family": "Arial",
         "size": 12
        },
        "legend": {
         "orientation": "h",
         "title": {
          "text": "Outliers Removed"
         },
         "tracegroupgap": 0,
         "x": 1,
         "xanchor": "right",
         "y": 1.02,
         "yanchor": "bottom"
        },
        "margin": {
         "b": 50,
         "l": 60,
         "r": 30,
         "t": 80
        },
        "plot_bgcolor": "white",
        "showlegend": true,
        "template": {
         "data": {
          "bar": [
           {
            "error_x": {
             "color": "#2a3f5f"
            },
            "error_y": {
             "color": "#2a3f5f"
            },
            "marker": {
             "line": {
              "color": "#E5ECF6",
              "width": 0.5
             },
             "pattern": {
              "fillmode": "overlay",
              "size": 10,
              "solidity": 0.2
             }
            },
            "type": "bar"
           }
          ],
          "barpolar": [
           {
            "marker": {
             "line": {
              "color": "#E5ECF6",
              "width": 0.5
             },
             "pattern": {
              "fillmode": "overlay",
              "size": 10,
              "solidity": 0.2
             }
            },
            "type": "barpolar"
           }
          ],
          "carpet": [
           {
            "aaxis": {
             "endlinecolor": "#2a3f5f",
             "gridcolor": "white",
             "linecolor": "white",
             "minorgridcolor": "white",
             "startlinecolor": "#2a3f5f"
            },
            "baxis": {
             "endlinecolor": "#2a3f5f",
             "gridcolor": "white",
             "linecolor": "white",
             "minorgridcolor": "white",
             "startlinecolor": "#2a3f5f"
            },
            "type": "carpet"
           }
          ],
          "choropleth": [
           {
            "colorbar": {
             "outlinewidth": 0,
             "ticks": ""
            },
            "type": "choropleth"
           }
          ],
          "contour": [
           {
            "colorbar": {
             "outlinewidth": 0,
             "ticks": ""
            },
            "colorscale": [
             [
              0,
              "#0d0887"
             ],
             [
              0.1111111111111111,
              "#46039f"
             ],
             [
              0.2222222222222222,
              "#7201a8"
             ],
             [
              0.3333333333333333,
              "#9c179e"
             ],
             [
              0.4444444444444444,
              "#bd3786"
             ],
             [
              0.5555555555555556,
              "#d8576b"
             ],
             [
              0.6666666666666666,
              "#ed7953"
             ],
             [
              0.7777777777777778,
              "#fb9f3a"
             ],
             [
              0.8888888888888888,
              "#fdca26"
             ],
             [
              1,
              "#f0f921"
             ]
            ],
            "type": "contour"
           }
          ],
          "contourcarpet": [
           {
            "colorbar": {
             "outlinewidth": 0,
             "ticks": ""
            },
            "type": "contourcarpet"
           }
          ],
          "heatmap": [
           {
            "colorbar": {
             "outlinewidth": 0,
             "ticks": ""
            },
            "colorscale": [
             [
              0,
              "#0d0887"
             ],
             [
              0.1111111111111111,
              "#46039f"
             ],
             [
              0.2222222222222222,
              "#7201a8"
             ],
             [
              0.3333333333333333,
              "#9c179e"
             ],
             [
              0.4444444444444444,
              "#bd3786"
             ],
             [
              0.5555555555555556,
              "#d8576b"
             ],
             [
              0.6666666666666666,
              "#ed7953"
             ],
             [
              0.7777777777777778,
              "#fb9f3a"
             ],
             [
              0.8888888888888888,
              "#fdca26"
             ],
             [
              1,
              "#f0f921"
             ]
            ],
            "type": "heatmap"
           }
          ],
          "heatmapgl": [
           {
            "colorbar": {
             "outlinewidth": 0,
             "ticks": ""
            },
            "colorscale": [
             [
              0,
              "#0d0887"
             ],
             [
              0.1111111111111111,
              "#46039f"
             ],
             [
              0.2222222222222222,
              "#7201a8"
             ],
             [
              0.3333333333333333,
              "#9c179e"
             ],
             [
              0.4444444444444444,
              "#bd3786"
             ],
             [
              0.5555555555555556,
              "#d8576b"
             ],
             [
              0.6666666666666666,
              "#ed7953"
             ],
             [
              0.7777777777777778,
              "#fb9f3a"
             ],
             [
              0.8888888888888888,
              "#fdca26"
             ],
             [
              1,
              "#f0f921"
             ]
            ],
            "type": "heatmapgl"
           }
          ],
          "histogram": [
           {
            "marker": {
             "pattern": {
              "fillmode": "overlay",
              "size": 10,
              "solidity": 0.2
             }
            },
            "type": "histogram"
           }
          ],
          "histogram2d": [
           {
            "colorbar": {
             "outlinewidth": 0,
             "ticks": ""
            },
            "colorscale": [
             [
              0,
              "#0d0887"
             ],
             [
              0.1111111111111111,
              "#46039f"
             ],
             [
              0.2222222222222222,
              "#7201a8"
             ],
             [
              0.3333333333333333,
              "#9c179e"
             ],
             [
              0.4444444444444444,
              "#bd3786"
             ],
             [
              0.5555555555555556,
              "#d8576b"
             ],
             [
              0.6666666666666666,
              "#ed7953"
             ],
             [
              0.7777777777777778,
              "#fb9f3a"
             ],
             [
              0.8888888888888888,
              "#fdca26"
             ],
             [
              1,
              "#f0f921"
             ]
            ],
            "type": "histogram2d"
           }
          ],
          "histogram2dcontour": [
           {
            "colorbar": {
             "outlinewidth": 0,
             "ticks": ""
            },
            "colorscale": [
             [
              0,
              "#0d0887"
             ],
             [
              0.1111111111111111,
              "#46039f"
             ],
             [
              0.2222222222222222,
              "#7201a8"
             ],
             [
              0.3333333333333333,
              "#9c179e"
             ],
             [
              0.4444444444444444,
              "#bd3786"
             ],
             [
              0.5555555555555556,
              "#d8576b"
             ],
             [
              0.6666666666666666,
              "#ed7953"
             ],
             [
              0.7777777777777778,
              "#fb9f3a"
             ],
             [
              0.8888888888888888,
              "#fdca26"
             ],
             [
              1,
              "#f0f921"
             ]
            ],
            "type": "histogram2dcontour"
           }
          ],
          "mesh3d": [
           {
            "colorbar": {
             "outlinewidth": 0,
             "ticks": ""
            },
            "type": "mesh3d"
           }
          ],
          "parcoords": [
           {
            "line": {
             "colorbar": {
              "outlinewidth": 0,
              "ticks": ""
             }
            },
            "type": "parcoords"
           }
          ],
          "pie": [
           {
            "automargin": true,
            "type": "pie"
           }
          ],
          "scatter": [
           {
            "fillpattern": {
             "fillmode": "overlay",
             "size": 10,
             "solidity": 0.2
            },
            "type": "scatter"
           }
          ],
          "scatter3d": [
           {
            "line": {
             "colorbar": {
              "outlinewidth": 0,
              "ticks": ""
             }
            },
            "marker": {
             "colorbar": {
              "outlinewidth": 0,
              "ticks": ""
             }
            },
            "type": "scatter3d"
           }
          ],
          "scattercarpet": [
           {
            "marker": {
             "colorbar": {
              "outlinewidth": 0,
              "ticks": ""
             }
            },
            "type": "scattercarpet"
           }
          ],
          "scattergeo": [
           {
            "marker": {
             "colorbar": {
              "outlinewidth": 0,
              "ticks": ""
             }
            },
            "type": "scattergeo"
           }
          ],
          "scattergl": [
           {
            "marker": {
             "colorbar": {
              "outlinewidth": 0,
              "ticks": ""
             }
            },
            "type": "scattergl"
           }
          ],
          "scattermapbox": [
           {
            "marker": {
             "colorbar": {
              "outlinewidth": 0,
              "ticks": ""
             }
            },
            "type": "scattermapbox"
           }
          ],
          "scatterpolar": [
           {
            "marker": {
             "colorbar": {
              "outlinewidth": 0,
              "ticks": ""
             }
            },
            "type": "scatterpolar"
           }
          ],
          "scatterpolargl": [
           {
            "marker": {
             "colorbar": {
              "outlinewidth": 0,
              "ticks": ""
             }
            },
            "type": "scatterpolargl"
           }
          ],
          "scatterternary": [
           {
            "marker": {
             "colorbar": {
              "outlinewidth": 0,
              "ticks": ""
             }
            },
            "type": "scatterternary"
           }
          ],
          "surface": [
           {
            "colorbar": {
             "outlinewidth": 0,
             "ticks": ""
            },
            "colorscale": [
             [
              0,
              "#0d0887"
             ],
             [
              0.1111111111111111,
              "#46039f"
             ],
             [
              0.2222222222222222,
              "#7201a8"
             ],
             [
              0.3333333333333333,
              "#9c179e"
             ],
             [
              0.4444444444444444,
              "#bd3786"
             ],
             [
              0.5555555555555556,
              "#d8576b"
             ],
             [
              0.6666666666666666,
              "#ed7953"
             ],
             [
              0.7777777777777778,
              "#fb9f3a"
             ],
             [
              0.8888888888888888,
              "#fdca26"
             ],
             [
              1,
              "#f0f921"
             ]
            ],
            "type": "surface"
           }
          ],
          "table": [
           {
            "cells": {
             "fill": {
              "color": "#EBF0F8"
             },
             "line": {
              "color": "white"
             }
            },
            "header": {
             "fill": {
              "color": "#C8D4E3"
             },
             "line": {
              "color": "white"
             }
            },
            "type": "table"
           }
          ]
         },
         "layout": {
          "annotationdefaults": {
           "arrowcolor": "#2a3f5f",
           "arrowhead": 0,
           "arrowwidth": 1
          },
          "autotypenumbers": "strict",
          "coloraxis": {
           "colorbar": {
            "outlinewidth": 0,
            "ticks": ""
           }
          },
          "colorscale": {
           "diverging": [
            [
             0,
             "#8e0152"
            ],
            [
             0.1,
             "#c51b7d"
            ],
            [
             0.2,
             "#de77ae"
            ],
            [
             0.3,
             "#f1b6da"
            ],
            [
             0.4,
             "#fde0ef"
            ],
            [
             0.5,
             "#f7f7f7"
            ],
            [
             0.6,
             "#e6f5d0"
            ],
            [
             0.7,
             "#b8e186"
            ],
            [
             0.8,
             "#7fbc41"
            ],
            [
             0.9,
             "#4d9221"
            ],
            [
             1,
             "#276419"
            ]
           ],
           "sequential": [
            [
             0,
             "#0d0887"
            ],
            [
             0.1111111111111111,
             "#46039f"
            ],
            [
             0.2222222222222222,
             "#7201a8"
            ],
            [
             0.3333333333333333,
             "#9c179e"
            ],
            [
             0.4444444444444444,
             "#bd3786"
            ],
            [
             0.5555555555555556,
             "#d8576b"
            ],
            [
             0.6666666666666666,
             "#ed7953"
            ],
            [
             0.7777777777777778,
             "#fb9f3a"
            ],
            [
             0.8888888888888888,
             "#fdca26"
            ],
            [
             1,
             "#f0f921"
            ]
           ],
           "sequentialminus": [
            [
             0,
             "#0d0887"
            ],
            [
             0.1111111111111111,
             "#46039f"
            ],
            [
             0.2222222222222222,
             "#7201a8"
            ],
            [
             0.3333333333333333,
             "#9c179e"
            ],
            [
             0.4444444444444444,
             "#bd3786"
            ],
            [
             0.5555555555555556,
             "#d8576b"
            ],
            [
             0.6666666666666666,
             "#ed7953"
            ],
            [
             0.7777777777777778,
             "#fb9f3a"
            ],
            [
             0.8888888888888888,
             "#fdca26"
            ],
            [
             1,
             "#f0f921"
            ]
           ]
          },
          "colorway": [
           "#636efa",
           "#EF553B",
           "#00cc96",
           "#ab63fa",
           "#FFA15A",
           "#19d3f3",
           "#FF6692",
           "#B6E880",
           "#FF97FF",
           "#FECB52"
          ],
          "font": {
           "color": "#2a3f5f"
          },
          "geo": {
           "bgcolor": "white",
           "lakecolor": "white",
           "landcolor": "#E5ECF6",
           "showlakes": true,
           "showland": true,
           "subunitcolor": "white"
          },
          "hoverlabel": {
           "align": "left"
          },
          "hovermode": "closest",
          "mapbox": {
           "style": "light"
          },
          "paper_bgcolor": "white",
          "plot_bgcolor": "#E5ECF6",
          "polar": {
           "angularaxis": {
            "gridcolor": "white",
            "linecolor": "white",
            "ticks": ""
           },
           "bgcolor": "#E5ECF6",
           "radialaxis": {
            "gridcolor": "white",
            "linecolor": "white",
            "ticks": ""
           }
          },
          "scene": {
           "xaxis": {
            "backgroundcolor": "#E5ECF6",
            "gridcolor": "white",
            "gridwidth": 2,
            "linecolor": "white",
            "showbackground": true,
            "ticks": "",
            "zerolinecolor": "white"
           },
           "yaxis": {
            "backgroundcolor": "#E5ECF6",
            "gridcolor": "white",
            "gridwidth": 2,
            "linecolor": "white",
            "showbackground": true,
            "ticks": "",
            "zerolinecolor": "white"
           },
           "zaxis": {
            "backgroundcolor": "#E5ECF6",
            "gridcolor": "white",
            "gridwidth": 2,
            "linecolor": "white",
            "showbackground": true,
            "ticks": "",
            "zerolinecolor": "white"
           }
          },
          "shapedefaults": {
           "line": {
            "color": "#2a3f5f"
           }
          },
          "ternary": {
           "aaxis": {
            "gridcolor": "white",
            "linecolor": "white",
            "ticks": ""
           },
           "baxis": {
            "gridcolor": "white",
            "linecolor": "white",
            "ticks": ""
           },
           "bgcolor": "#E5ECF6",
           "caxis": {
            "gridcolor": "white",
            "linecolor": "white",
            "ticks": ""
           }
          },
          "title": {
           "x": 0.05
          },
          "xaxis": {
           "automargin": true,
           "gridcolor": "white",
           "linecolor": "white",
           "ticks": "",
           "title": {
            "standoff": 15
           },
           "zerolinecolor": "white",
           "zerolinewidth": 2
          },
          "yaxis": {
           "automargin": true,
           "gridcolor": "white",
           "linecolor": "white",
           "ticks": "",
           "title": {
            "standoff": 15
           },
           "zerolinecolor": "white",
           "zerolinewidth": 2
          }
         }
        },
        "title": {
         "font": {
          "color": "#333333",
          "size": 20
         },
         "text": "Threshold Probability Accuracy for large_productions",
         "x": 0.5,
         "xanchor": "center",
         "y": 0.95,
         "yanchor": "top"
        },
        "xaxis": {
         "anchor": "y",
         "categoryarray": [
          "none",
          "complex"
         ],
         "categoryorder": "array",
         "domain": [
          0,
          1
         ],
         "gridcolor": "#E5E5E5",
         "showgrid": true,
         "tickangle": 0,
         "tickfont": {
          "size": 10
         },
         "title": {
          "text": "Feature Engineering Type"
         }
        },
        "yaxis": {
         "anchor": "x",
         "domain": [
          0,
          1
         ],
         "gridcolor": "#E5E5E5",
         "showgrid": true,
         "tickfont": {
          "size": 10
         },
         "title": {
          "text": "Threshold Probability Accuracy Value"
         },
         "type": "linear",
         "zeroline": true,
         "zerolinecolor": "#E5E5E5"
        }
       }
      }
     },
     "metadata": {},
     "output_type": "display_data"
    },
    {
     "data": {
      "application/vnd.plotly.v1+json": {
       "config": {
        "plotlyServerURL": "https://plot.ly"
       },
       "data": [
        {
         "alignmentgroup": "True",
         "hovertemplate": "Outliers Removed=False<br>Feature Engineering Type=%{x}<br>Threshold Probability Accuracy Value=%{text}<extra></extra>",
         "legendgroup": "False",
         "marker": {
          "color": "#66C2A5",
          "pattern": {
           "shape": ""
          }
         },
         "name": "False",
         "offsetgroup": "False",
         "orientation": "v",
         "showlegend": true,
         "text": [
          0.11920529801324503
         ],
         "textposition": "outside",
         "texttemplate": "%{text:.2s}",
         "type": "bar",
         "x": [
          "none"
         ],
         "xaxis": "x",
         "y": [
          0.11920529801324503
         ],
         "yaxis": "y"
        },
        {
         "alignmentgroup": "True",
         "hovertemplate": "Outliers Removed=True<br>Feature Engineering Type=%{x}<br>Threshold Probability Accuracy Value=%{text}<extra></extra>",
         "legendgroup": "True",
         "marker": {
          "color": "#FC8D62",
          "pattern": {
           "shape": ""
          }
         },
         "name": "True",
         "offsetgroup": "True",
         "orientation": "v",
         "showlegend": true,
         "text": [
          0.12043795620437957
         ],
         "textposition": "outside",
         "texttemplate": "%{text:.2s}",
         "type": "bar",
         "x": [
          "none"
         ],
         "xaxis": "x",
         "y": [
          0.12043795620437957
         ],
         "yaxis": "y"
        }
       ],
       "layout": {
        "bargap": 0.15,
        "barmode": "group",
        "font": {
         "color": "#333333",
         "family": "Arial",
         "size": 12
        },
        "legend": {
         "orientation": "h",
         "title": {
          "text": "Outliers Removed"
         },
         "tracegroupgap": 0,
         "x": 1,
         "xanchor": "right",
         "y": 1.02,
         "yanchor": "bottom"
        },
        "margin": {
         "b": 50,
         "l": 60,
         "r": 30,
         "t": 80
        },
        "plot_bgcolor": "white",
        "showlegend": true,
        "template": {
         "data": {
          "bar": [
           {
            "error_x": {
             "color": "#2a3f5f"
            },
            "error_y": {
             "color": "#2a3f5f"
            },
            "marker": {
             "line": {
              "color": "#E5ECF6",
              "width": 0.5
             },
             "pattern": {
              "fillmode": "overlay",
              "size": 10,
              "solidity": 0.2
             }
            },
            "type": "bar"
           }
          ],
          "barpolar": [
           {
            "marker": {
             "line": {
              "color": "#E5ECF6",
              "width": 0.5
             },
             "pattern": {
              "fillmode": "overlay",
              "size": 10,
              "solidity": 0.2
             }
            },
            "type": "barpolar"
           }
          ],
          "carpet": [
           {
            "aaxis": {
             "endlinecolor": "#2a3f5f",
             "gridcolor": "white",
             "linecolor": "white",
             "minorgridcolor": "white",
             "startlinecolor": "#2a3f5f"
            },
            "baxis": {
             "endlinecolor": "#2a3f5f",
             "gridcolor": "white",
             "linecolor": "white",
             "minorgridcolor": "white",
             "startlinecolor": "#2a3f5f"
            },
            "type": "carpet"
           }
          ],
          "choropleth": [
           {
            "colorbar": {
             "outlinewidth": 0,
             "ticks": ""
            },
            "type": "choropleth"
           }
          ],
          "contour": [
           {
            "colorbar": {
             "outlinewidth": 0,
             "ticks": ""
            },
            "colorscale": [
             [
              0,
              "#0d0887"
             ],
             [
              0.1111111111111111,
              "#46039f"
             ],
             [
              0.2222222222222222,
              "#7201a8"
             ],
             [
              0.3333333333333333,
              "#9c179e"
             ],
             [
              0.4444444444444444,
              "#bd3786"
             ],
             [
              0.5555555555555556,
              "#d8576b"
             ],
             [
              0.6666666666666666,
              "#ed7953"
             ],
             [
              0.7777777777777778,
              "#fb9f3a"
             ],
             [
              0.8888888888888888,
              "#fdca26"
             ],
             [
              1,
              "#f0f921"
             ]
            ],
            "type": "contour"
           }
          ],
          "contourcarpet": [
           {
            "colorbar": {
             "outlinewidth": 0,
             "ticks": ""
            },
            "type": "contourcarpet"
           }
          ],
          "heatmap": [
           {
            "colorbar": {
             "outlinewidth": 0,
             "ticks": ""
            },
            "colorscale": [
             [
              0,
              "#0d0887"
             ],
             [
              0.1111111111111111,
              "#46039f"
             ],
             [
              0.2222222222222222,
              "#7201a8"
             ],
             [
              0.3333333333333333,
              "#9c179e"
             ],
             [
              0.4444444444444444,
              "#bd3786"
             ],
             [
              0.5555555555555556,
              "#d8576b"
             ],
             [
              0.6666666666666666,
              "#ed7953"
             ],
             [
              0.7777777777777778,
              "#fb9f3a"
             ],
             [
              0.8888888888888888,
              "#fdca26"
             ],
             [
              1,
              "#f0f921"
             ]
            ],
            "type": "heatmap"
           }
          ],
          "heatmapgl": [
           {
            "colorbar": {
             "outlinewidth": 0,
             "ticks": ""
            },
            "colorscale": [
             [
              0,
              "#0d0887"
             ],
             [
              0.1111111111111111,
              "#46039f"
             ],
             [
              0.2222222222222222,
              "#7201a8"
             ],
             [
              0.3333333333333333,
              "#9c179e"
             ],
             [
              0.4444444444444444,
              "#bd3786"
             ],
             [
              0.5555555555555556,
              "#d8576b"
             ],
             [
              0.6666666666666666,
              "#ed7953"
             ],
             [
              0.7777777777777778,
              "#fb9f3a"
             ],
             [
              0.8888888888888888,
              "#fdca26"
             ],
             [
              1,
              "#f0f921"
             ]
            ],
            "type": "heatmapgl"
           }
          ],
          "histogram": [
           {
            "marker": {
             "pattern": {
              "fillmode": "overlay",
              "size": 10,
              "solidity": 0.2
             }
            },
            "type": "histogram"
           }
          ],
          "histogram2d": [
           {
            "colorbar": {
             "outlinewidth": 0,
             "ticks": ""
            },
            "colorscale": [
             [
              0,
              "#0d0887"
             ],
             [
              0.1111111111111111,
              "#46039f"
             ],
             [
              0.2222222222222222,
              "#7201a8"
             ],
             [
              0.3333333333333333,
              "#9c179e"
             ],
             [
              0.4444444444444444,
              "#bd3786"
             ],
             [
              0.5555555555555556,
              "#d8576b"
             ],
             [
              0.6666666666666666,
              "#ed7953"
             ],
             [
              0.7777777777777778,
              "#fb9f3a"
             ],
             [
              0.8888888888888888,
              "#fdca26"
             ],
             [
              1,
              "#f0f921"
             ]
            ],
            "type": "histogram2d"
           }
          ],
          "histogram2dcontour": [
           {
            "colorbar": {
             "outlinewidth": 0,
             "ticks": ""
            },
            "colorscale": [
             [
              0,
              "#0d0887"
             ],
             [
              0.1111111111111111,
              "#46039f"
             ],
             [
              0.2222222222222222,
              "#7201a8"
             ],
             [
              0.3333333333333333,
              "#9c179e"
             ],
             [
              0.4444444444444444,
              "#bd3786"
             ],
             [
              0.5555555555555556,
              "#d8576b"
             ],
             [
              0.6666666666666666,
              "#ed7953"
             ],
             [
              0.7777777777777778,
              "#fb9f3a"
             ],
             [
              0.8888888888888888,
              "#fdca26"
             ],
             [
              1,
              "#f0f921"
             ]
            ],
            "type": "histogram2dcontour"
           }
          ],
          "mesh3d": [
           {
            "colorbar": {
             "outlinewidth": 0,
             "ticks": ""
            },
            "type": "mesh3d"
           }
          ],
          "parcoords": [
           {
            "line": {
             "colorbar": {
              "outlinewidth": 0,
              "ticks": ""
             }
            },
            "type": "parcoords"
           }
          ],
          "pie": [
           {
            "automargin": true,
            "type": "pie"
           }
          ],
          "scatter": [
           {
            "fillpattern": {
             "fillmode": "overlay",
             "size": 10,
             "solidity": 0.2
            },
            "type": "scatter"
           }
          ],
          "scatter3d": [
           {
            "line": {
             "colorbar": {
              "outlinewidth": 0,
              "ticks": ""
             }
            },
            "marker": {
             "colorbar": {
              "outlinewidth": 0,
              "ticks": ""
             }
            },
            "type": "scatter3d"
           }
          ],
          "scattercarpet": [
           {
            "marker": {
             "colorbar": {
              "outlinewidth": 0,
              "ticks": ""
             }
            },
            "type": "scattercarpet"
           }
          ],
          "scattergeo": [
           {
            "marker": {
             "colorbar": {
              "outlinewidth": 0,
              "ticks": ""
             }
            },
            "type": "scattergeo"
           }
          ],
          "scattergl": [
           {
            "marker": {
             "colorbar": {
              "outlinewidth": 0,
              "ticks": ""
             }
            },
            "type": "scattergl"
           }
          ],
          "scattermapbox": [
           {
            "marker": {
             "colorbar": {
              "outlinewidth": 0,
              "ticks": ""
             }
            },
            "type": "scattermapbox"
           }
          ],
          "scatterpolar": [
           {
            "marker": {
             "colorbar": {
              "outlinewidth": 0,
              "ticks": ""
             }
            },
            "type": "scatterpolar"
           }
          ],
          "scatterpolargl": [
           {
            "marker": {
             "colorbar": {
              "outlinewidth": 0,
              "ticks": ""
             }
            },
            "type": "scatterpolargl"
           }
          ],
          "scatterternary": [
           {
            "marker": {
             "colorbar": {
              "outlinewidth": 0,
              "ticks": ""
             }
            },
            "type": "scatterternary"
           }
          ],
          "surface": [
           {
            "colorbar": {
             "outlinewidth": 0,
             "ticks": ""
            },
            "colorscale": [
             [
              0,
              "#0d0887"
             ],
             [
              0.1111111111111111,
              "#46039f"
             ],
             [
              0.2222222222222222,
              "#7201a8"
             ],
             [
              0.3333333333333333,
              "#9c179e"
             ],
             [
              0.4444444444444444,
              "#bd3786"
             ],
             [
              0.5555555555555556,
              "#d8576b"
             ],
             [
              0.6666666666666666,
              "#ed7953"
             ],
             [
              0.7777777777777778,
              "#fb9f3a"
             ],
             [
              0.8888888888888888,
              "#fdca26"
             ],
             [
              1,
              "#f0f921"
             ]
            ],
            "type": "surface"
           }
          ],
          "table": [
           {
            "cells": {
             "fill": {
              "color": "#EBF0F8"
             },
             "line": {
              "color": "white"
             }
            },
            "header": {
             "fill": {
              "color": "#C8D4E3"
             },
             "line": {
              "color": "white"
             }
            },
            "type": "table"
           }
          ]
         },
         "layout": {
          "annotationdefaults": {
           "arrowcolor": "#2a3f5f",
           "arrowhead": 0,
           "arrowwidth": 1
          },
          "autotypenumbers": "strict",
          "coloraxis": {
           "colorbar": {
            "outlinewidth": 0,
            "ticks": ""
           }
          },
          "colorscale": {
           "diverging": [
            [
             0,
             "#8e0152"
            ],
            [
             0.1,
             "#c51b7d"
            ],
            [
             0.2,
             "#de77ae"
            ],
            [
             0.3,
             "#f1b6da"
            ],
            [
             0.4,
             "#fde0ef"
            ],
            [
             0.5,
             "#f7f7f7"
            ],
            [
             0.6,
             "#e6f5d0"
            ],
            [
             0.7,
             "#b8e186"
            ],
            [
             0.8,
             "#7fbc41"
            ],
            [
             0.9,
             "#4d9221"
            ],
            [
             1,
             "#276419"
            ]
           ],
           "sequential": [
            [
             0,
             "#0d0887"
            ],
            [
             0.1111111111111111,
             "#46039f"
            ],
            [
             0.2222222222222222,
             "#7201a8"
            ],
            [
             0.3333333333333333,
             "#9c179e"
            ],
            [
             0.4444444444444444,
             "#bd3786"
            ],
            [
             0.5555555555555556,
             "#d8576b"
            ],
            [
             0.6666666666666666,
             "#ed7953"
            ],
            [
             0.7777777777777778,
             "#fb9f3a"
            ],
            [
             0.8888888888888888,
             "#fdca26"
            ],
            [
             1,
             "#f0f921"
            ]
           ],
           "sequentialminus": [
            [
             0,
             "#0d0887"
            ],
            [
             0.1111111111111111,
             "#46039f"
            ],
            [
             0.2222222222222222,
             "#7201a8"
            ],
            [
             0.3333333333333333,
             "#9c179e"
            ],
            [
             0.4444444444444444,
             "#bd3786"
            ],
            [
             0.5555555555555556,
             "#d8576b"
            ],
            [
             0.6666666666666666,
             "#ed7953"
            ],
            [
             0.7777777777777778,
             "#fb9f3a"
            ],
            [
             0.8888888888888888,
             "#fdca26"
            ],
            [
             1,
             "#f0f921"
            ]
           ]
          },
          "colorway": [
           "#636efa",
           "#EF553B",
           "#00cc96",
           "#ab63fa",
           "#FFA15A",
           "#19d3f3",
           "#FF6692",
           "#B6E880",
           "#FF97FF",
           "#FECB52"
          ],
          "font": {
           "color": "#2a3f5f"
          },
          "geo": {
           "bgcolor": "white",
           "lakecolor": "white",
           "landcolor": "#E5ECF6",
           "showlakes": true,
           "showland": true,
           "subunitcolor": "white"
          },
          "hoverlabel": {
           "align": "left"
          },
          "hovermode": "closest",
          "mapbox": {
           "style": "light"
          },
          "paper_bgcolor": "white",
          "plot_bgcolor": "#E5ECF6",
          "polar": {
           "angularaxis": {
            "gridcolor": "white",
            "linecolor": "white",
            "ticks": ""
           },
           "bgcolor": "#E5ECF6",
           "radialaxis": {
            "gridcolor": "white",
            "linecolor": "white",
            "ticks": ""
           }
          },
          "scene": {
           "xaxis": {
            "backgroundcolor": "#E5ECF6",
            "gridcolor": "white",
            "gridwidth": 2,
            "linecolor": "white",
            "showbackground": true,
            "ticks": "",
            "zerolinecolor": "white"
           },
           "yaxis": {
            "backgroundcolor": "#E5ECF6",
            "gridcolor": "white",
            "gridwidth": 2,
            "linecolor": "white",
            "showbackground": true,
            "ticks": "",
            "zerolinecolor": "white"
           },
           "zaxis": {
            "backgroundcolor": "#E5ECF6",
            "gridcolor": "white",
            "gridwidth": 2,
            "linecolor": "white",
            "showbackground": true,
            "ticks": "",
            "zerolinecolor": "white"
           }
          },
          "shapedefaults": {
           "line": {
            "color": "#2a3f5f"
           }
          },
          "ternary": {
           "aaxis": {
            "gridcolor": "white",
            "linecolor": "white",
            "ticks": ""
           },
           "baxis": {
            "gridcolor": "white",
            "linecolor": "white",
            "ticks": ""
           },
           "bgcolor": "#E5ECF6",
           "caxis": {
            "gridcolor": "white",
            "linecolor": "white",
            "ticks": ""
           }
          },
          "title": {
           "x": 0.05
          },
          "xaxis": {
           "automargin": true,
           "gridcolor": "white",
           "linecolor": "white",
           "ticks": "",
           "title": {
            "standoff": 15
           },
           "zerolinecolor": "white",
           "zerolinewidth": 2
          },
          "yaxis": {
           "automargin": true,
           "gridcolor": "white",
           "linecolor": "white",
           "ticks": "",
           "title": {
            "standoff": 15
           },
           "zerolinecolor": "white",
           "zerolinewidth": 2
          }
         }
        },
        "title": {
         "font": {
          "color": "#333333",
          "size": 20
         },
         "text": "Threshold Probability Accuracy for small_productions",
         "x": 0.5,
         "xanchor": "center",
         "y": 0.95,
         "yanchor": "top"
        },
        "xaxis": {
         "anchor": "y",
         "categoryarray": [
          "none",
          "complex"
         ],
         "categoryorder": "array",
         "domain": [
          0,
          1
         ],
         "gridcolor": "#E5E5E5",
         "showgrid": true,
         "tickangle": 0,
         "tickfont": {
          "size": 10
         },
         "title": {
          "text": "Feature Engineering Type"
         }
        },
        "yaxis": {
         "anchor": "x",
         "domain": [
          0,
          1
         ],
         "gridcolor": "#E5E5E5",
         "showgrid": true,
         "tickfont": {
          "size": 10
         },
         "title": {
          "text": "Threshold Probability Accuracy Value"
         },
         "type": "linear",
         "zeroline": true,
         "zerolinecolor": "#E5E5E5"
        }
       }
      }
     },
     "metadata": {},
     "output_type": "display_data"
    },
    {
     "data": {
      "text/html": [
       "<div>\n",
       "<style scoped>\n",
       "    .dataframe tbody tr th:only-of-type {\n",
       "        vertical-align: middle;\n",
       "    }\n",
       "\n",
       "    .dataframe tbody tr th {\n",
       "        vertical-align: top;\n",
       "    }\n",
       "\n",
       "    .dataframe thead th {\n",
       "        text-align: right;\n",
       "    }\n",
       "</style>\n",
       "<table border=\"1\" class=\"dataframe\">\n",
       "  <thead>\n",
       "    <tr style=\"text-align: right;\">\n",
       "      <th></th>\n",
       "      <th>run_id</th>\n",
       "      <th>timestamp</th>\n",
       "      <th>model_type</th>\n",
       "      <th>problem_type</th>\n",
       "      <th>dataset_name</th>\n",
       "      <th>grid_type</th>\n",
       "      <th>has_outliers_removed</th>\n",
       "      <th>feature_engineering</th>\n",
       "      <th>scaler</th>\n",
       "      <th>variance_threshold</th>\n",
       "      <th>duration</th>\n",
       "      <th>number_of_combinations</th>\n",
       "      <th>Accuracy</th>\n",
       "      <th>Precision</th>\n",
       "      <th>Recall</th>\n",
       "      <th>F1 Score</th>\n",
       "      <th>MSE</th>\n",
       "      <th>MAPE</th>\n",
       "      <th>MAE</th>\n",
       "      <th>RMSE</th>\n",
       "      <th>RMSLE</th>\n",
       "      <th>MSLE</th>\n",
       "      <th>R2</th>\n",
       "      <th>Threshold Probability Accuracy</th>\n",
       "      <th>Threshold MAPE</th>\n",
       "      <th>Threshold MAPE (25%)</th>\n",
       "      <th>ROC AUC Score</th>\n",
       "    </tr>\n",
       "  </thead>\n",
       "  <tbody>\n",
       "    <tr>\n",
       "      <th>566</th>\n",
       "      <td>20240806_230924</td>\n",
       "      <td>2024-08-07 02:57:31</td>\n",
       "      <td>decision_tree_regressor</td>\n",
       "      <td>regression</td>\n",
       "      <td>large_productions</td>\n",
       "      <td>random_search</td>\n",
       "      <td>False</td>\n",
       "      <td>complex</td>\n",
       "      <td>MinMaxScaler</td>\n",
       "      <td>0.052179</td>\n",
       "      <td>30.404493</td>\n",
       "      <td>None</td>\n",
       "      <td>NaN</td>\n",
       "      <td>NaN</td>\n",
       "      <td>NaN</td>\n",
       "      <td>NaN</td>\n",
       "      <td>4.200325e+16</td>\n",
       "      <td>1.965304</td>\n",
       "      <td>1.124303e+08</td>\n",
       "      <td>2.049469e+08</td>\n",
       "      <td>1.098849</td>\n",
       "      <td>1.207470</td>\n",
       "      <td>0.492879</td>\n",
       "      <td>0.206039</td>\n",
       "      <td>2.176849</td>\n",
       "      <td>2.614239</td>\n",
       "      <td>NaN</td>\n",
       "    </tr>\n",
       "    <tr>\n",
       "      <th>1128</th>\n",
       "      <td>20240806_230924</td>\n",
       "      <td>2024-08-07 01:06:59</td>\n",
       "      <td>decision_tree_regressor</td>\n",
       "      <td>regression</td>\n",
       "      <td>small_productions</td>\n",
       "      <td>random_search</td>\n",
       "      <td>False</td>\n",
       "      <td>none</td>\n",
       "      <td>MinMaxScaler</td>\n",
       "      <td>0.038855</td>\n",
       "      <td>1.417774</td>\n",
       "      <td>None</td>\n",
       "      <td>NaN</td>\n",
       "      <td>NaN</td>\n",
       "      <td>NaN</td>\n",
       "      <td>NaN</td>\n",
       "      <td>2.806414e+15</td>\n",
       "      <td>3716.256048</td>\n",
       "      <td>1.657437e+07</td>\n",
       "      <td>5.297560e+07</td>\n",
       "      <td>2.058231</td>\n",
       "      <td>4.236316</td>\n",
       "      <td>0.253129</td>\n",
       "      <td>0.104305</td>\n",
       "      <td>3951.790194</td>\n",
       "      <td>4283.604647</td>\n",
       "      <td>NaN</td>\n",
       "    </tr>\n",
       "    <tr>\n",
       "      <th>1169</th>\n",
       "      <td>20240806_230924</td>\n",
       "      <td>2024-08-07 01:59:40</td>\n",
       "      <td>lightgbm_regressor</td>\n",
       "      <td>regression</td>\n",
       "      <td>small_productions</td>\n",
       "      <td>random_search</td>\n",
       "      <td>False</td>\n",
       "      <td>none</td>\n",
       "      <td>MinMaxScaler</td>\n",
       "      <td>0.126461</td>\n",
       "      <td>3102.059649</td>\n",
       "      <td>None</td>\n",
       "      <td>NaN</td>\n",
       "      <td>NaN</td>\n",
       "      <td>NaN</td>\n",
       "      <td>NaN</td>\n",
       "      <td>2.715088e+15</td>\n",
       "      <td>1034.074529</td>\n",
       "      <td>1.618450e+07</td>\n",
       "      <td>5.210650e+07</td>\n",
       "      <td>1.901545</td>\n",
       "      <td>3.615872</td>\n",
       "      <td>0.277433</td>\n",
       "      <td>0.105960</td>\n",
       "      <td>1088.117787</td>\n",
       "      <td>1194.206955</td>\n",
       "      <td>NaN</td>\n",
       "    </tr>\n",
       "    <tr>\n",
       "      <th>1540</th>\n",
       "      <td>20240806_230924</td>\n",
       "      <td>2024-08-07 07:05:39</td>\n",
       "      <td>random_forest_regressor</td>\n",
       "      <td>regression</td>\n",
       "      <td>small_productions</td>\n",
       "      <td>random_search</td>\n",
       "      <td>True</td>\n",
       "      <td>none</td>\n",
       "      <td>StandardScaler</td>\n",
       "      <td>0.034991</td>\n",
       "      <td>82.666126</td>\n",
       "      <td>None</td>\n",
       "      <td>NaN</td>\n",
       "      <td>NaN</td>\n",
       "      <td>NaN</td>\n",
       "      <td>NaN</td>\n",
       "      <td>5.250786e+14</td>\n",
       "      <td>1.819742</td>\n",
       "      <td>1.410932e+07</td>\n",
       "      <td>2.291459e+07</td>\n",
       "      <td>1.253378</td>\n",
       "      <td>1.570957</td>\n",
       "      <td>0.127607</td>\n",
       "      <td>0.091241</td>\n",
       "      <td>1.908518</td>\n",
       "      <td>2.059519</td>\n",
       "      <td>NaN</td>\n",
       "    </tr>\n",
       "    <tr>\n",
       "      <th>1737</th>\n",
       "      <td>20240806_230924</td>\n",
       "      <td>2024-08-07 02:37:56</td>\n",
       "      <td>dummy_regressor</td>\n",
       "      <td>regression</td>\n",
       "      <td>large_productions</td>\n",
       "      <td>random_search</td>\n",
       "      <td>False</td>\n",
       "      <td>complex</td>\n",
       "      <td>RobustScaler</td>\n",
       "      <td>0.028573</td>\n",
       "      <td>25.045260</td>\n",
       "      <td>None</td>\n",
       "      <td>NaN</td>\n",
       "      <td>NaN</td>\n",
       "      <td>NaN</td>\n",
       "      <td>NaN</td>\n",
       "      <td>9.061588e+16</td>\n",
       "      <td>24.565887</td>\n",
       "      <td>1.588650e+08</td>\n",
       "      <td>3.010247e+08</td>\n",
       "      <td>1.464467</td>\n",
       "      <td>2.144663</td>\n",
       "      <td>-0.094040</td>\n",
       "      <td>0.140320</td>\n",
       "      <td>26.290476</td>\n",
       "      <td>29.716493</td>\n",
       "      <td>NaN</td>\n",
       "    </tr>\n",
       "    <tr>\n",
       "      <th>1840</th>\n",
       "      <td>20240806_230924</td>\n",
       "      <td>2024-08-07 03:50:28</td>\n",
       "      <td>lightgbm_regressor</td>\n",
       "      <td>regression</td>\n",
       "      <td>large_productions</td>\n",
       "      <td>random_search</td>\n",
       "      <td>False</td>\n",
       "      <td>complex</td>\n",
       "      <td>MinMaxScaler</td>\n",
       "      <td>0.006878</td>\n",
       "      <td>2699.246889</td>\n",
       "      <td>None</td>\n",
       "      <td>NaN</td>\n",
       "      <td>NaN</td>\n",
       "      <td>NaN</td>\n",
       "      <td>NaN</td>\n",
       "      <td>4.284176e+16</td>\n",
       "      <td>4.328473</td>\n",
       "      <td>1.084042e+08</td>\n",
       "      <td>2.069825e+08</td>\n",
       "      <td>1.014492</td>\n",
       "      <td>1.029194</td>\n",
       "      <td>0.482755</td>\n",
       "      <td>0.223801</td>\n",
       "      <td>4.848679</td>\n",
       "      <td>5.829596</td>\n",
       "      <td>NaN</td>\n",
       "    </tr>\n",
       "    <tr>\n",
       "      <th>2045</th>\n",
       "      <td>20240806_230924</td>\n",
       "      <td>2024-08-07 07:34:10</td>\n",
       "      <td>lightgbm_regressor</td>\n",
       "      <td>regression</td>\n",
       "      <td>small_productions</td>\n",
       "      <td>random_search</td>\n",
       "      <td>True</td>\n",
       "      <td>none</td>\n",
       "      <td>MinMaxScaler</td>\n",
       "      <td>0.122371</td>\n",
       "      <td>1684.474341</td>\n",
       "      <td>None</td>\n",
       "      <td>NaN</td>\n",
       "      <td>NaN</td>\n",
       "      <td>NaN</td>\n",
       "      <td>NaN</td>\n",
       "      <td>4.955639e+14</td>\n",
       "      <td>1.945183</td>\n",
       "      <td>1.389599e+07</td>\n",
       "      <td>2.226126e+07</td>\n",
       "      <td>1.277452</td>\n",
       "      <td>1.631884</td>\n",
       "      <td>0.176644</td>\n",
       "      <td>0.105839</td>\n",
       "      <td>2.055481</td>\n",
       "      <td>2.205204</td>\n",
       "      <td>NaN</td>\n",
       "    </tr>\n",
       "    <tr>\n",
       "      <th>2130</th>\n",
       "      <td>20240806_230924</td>\n",
       "      <td>2024-08-07 03:05:29</td>\n",
       "      <td>xgboost_regressor</td>\n",
       "      <td>regression</td>\n",
       "      <td>large_productions</td>\n",
       "      <td>random_search</td>\n",
       "      <td>False</td>\n",
       "      <td>complex</td>\n",
       "      <td>RobustScaler</td>\n",
       "      <td>0.027866</td>\n",
       "      <td>477.792208</td>\n",
       "      <td>None</td>\n",
       "      <td>NaN</td>\n",
       "      <td>NaN</td>\n",
       "      <td>NaN</td>\n",
       "      <td>NaN</td>\n",
       "      <td>4.281868e+16</td>\n",
       "      <td>4.367213</td>\n",
       "      <td>1.059003e+08</td>\n",
       "      <td>2.069268e+08</td>\n",
       "      <td>1.029646</td>\n",
       "      <td>1.060172</td>\n",
       "      <td>0.483034</td>\n",
       "      <td>0.216696</td>\n",
       "      <td>4.854143</td>\n",
       "      <td>5.949208</td>\n",
       "      <td>NaN</td>\n",
       "    </tr>\n",
       "    <tr>\n",
       "      <th>2192</th>\n",
       "      <td>20240806_230924</td>\n",
       "      <td>2024-08-07 07:04:16</td>\n",
       "      <td>dummy_regressor</td>\n",
       "      <td>regression</td>\n",
       "      <td>small_productions</td>\n",
       "      <td>random_search</td>\n",
       "      <td>True</td>\n",
       "      <td>none</td>\n",
       "      <td>RobustScaler</td>\n",
       "      <td>0.159309</td>\n",
       "      <td>0.704337</td>\n",
       "      <td>None</td>\n",
       "      <td>NaN</td>\n",
       "      <td>NaN</td>\n",
       "      <td>NaN</td>\n",
       "      <td>NaN</td>\n",
       "      <td>7.406959e+14</td>\n",
       "      <td>3.826276</td>\n",
       "      <td>1.647679e+07</td>\n",
       "      <td>2.721573e+07</td>\n",
       "      <td>1.592469</td>\n",
       "      <td>2.535959</td>\n",
       "      <td>-0.230631</td>\n",
       "      <td>0.069343</td>\n",
       "      <td>3.954502</td>\n",
       "      <td>4.165196</td>\n",
       "      <td>NaN</td>\n",
       "    </tr>\n",
       "    <tr>\n",
       "      <th>2300</th>\n",
       "      <td>20240806_230924</td>\n",
       "      <td>2024-08-07 02:57:00</td>\n",
       "      <td>random_forest_regressor</td>\n",
       "      <td>regression</td>\n",
       "      <td>large_productions</td>\n",
       "      <td>random_search</td>\n",
       "      <td>False</td>\n",
       "      <td>complex</td>\n",
       "      <td>StandardScaler</td>\n",
       "      <td>0.037304</td>\n",
       "      <td>1143.638252</td>\n",
       "      <td>None</td>\n",
       "      <td>NaN</td>\n",
       "      <td>NaN</td>\n",
       "      <td>NaN</td>\n",
       "      <td>NaN</td>\n",
       "      <td>4.095737e+16</td>\n",
       "      <td>2.622140</td>\n",
       "      <td>1.044580e+08</td>\n",
       "      <td>2.023793e+08</td>\n",
       "      <td>1.018054</td>\n",
       "      <td>1.036433</td>\n",
       "      <td>0.505506</td>\n",
       "      <td>0.220249</td>\n",
       "      <td>3.029718</td>\n",
       "      <td>3.525503</td>\n",
       "      <td>NaN</td>\n",
       "    </tr>\n",
       "    <tr>\n",
       "      <th>2475</th>\n",
       "      <td>20240806_230924</td>\n",
       "      <td>2024-08-07 01:06:57</td>\n",
       "      <td>random_forest_regressor</td>\n",
       "      <td>regression</td>\n",
       "      <td>small_productions</td>\n",
       "      <td>random_search</td>\n",
       "      <td>False</td>\n",
       "      <td>none</td>\n",
       "      <td>StandardScaler</td>\n",
       "      <td>0.169734</td>\n",
       "      <td>157.194483</td>\n",
       "      <td>None</td>\n",
       "      <td>NaN</td>\n",
       "      <td>NaN</td>\n",
       "      <td>NaN</td>\n",
       "      <td>NaN</td>\n",
       "      <td>2.671700e+15</td>\n",
       "      <td>1629.522790</td>\n",
       "      <td>1.549534e+07</td>\n",
       "      <td>5.168849e+07</td>\n",
       "      <td>1.858385</td>\n",
       "      <td>3.453593</td>\n",
       "      <td>0.288980</td>\n",
       "      <td>0.089404</td>\n",
       "      <td>1694.028623</td>\n",
       "      <td>1850.041335</td>\n",
       "      <td>NaN</td>\n",
       "    </tr>\n",
       "    <tr>\n",
       "      <th>2502</th>\n",
       "      <td>20240806_230924</td>\n",
       "      <td>2024-08-07 01:04:20</td>\n",
       "      <td>dummy_regressor</td>\n",
       "      <td>regression</td>\n",
       "      <td>small_productions</td>\n",
       "      <td>random_search</td>\n",
       "      <td>False</td>\n",
       "      <td>none</td>\n",
       "      <td>RobustScaler</td>\n",
       "      <td>0.028573</td>\n",
       "      <td>0.883237</td>\n",
       "      <td>None</td>\n",
       "      <td>NaN</td>\n",
       "      <td>NaN</td>\n",
       "      <td>NaN</td>\n",
       "      <td>NaN</td>\n",
       "      <td>4.029149e+15</td>\n",
       "      <td>88321.586502</td>\n",
       "      <td>2.113590e+07</td>\n",
       "      <td>6.347558e+07</td>\n",
       "      <td>3.074882</td>\n",
       "      <td>9.454899</td>\n",
       "      <td>-0.072278</td>\n",
       "      <td>0.077815</td>\n",
       "      <td>92776.063321</td>\n",
       "      <td>98424.779017</td>\n",
       "      <td>NaN</td>\n",
       "    </tr>\n",
       "    <tr>\n",
       "      <th>2682</th>\n",
       "      <td>20240806_230924</td>\n",
       "      <td>2024-08-07 07:06:05</td>\n",
       "      <td>xgboost_regressor</td>\n",
       "      <td>regression</td>\n",
       "      <td>small_productions</td>\n",
       "      <td>random_search</td>\n",
       "      <td>True</td>\n",
       "      <td>none</td>\n",
       "      <td>StandardScaler</td>\n",
       "      <td>0.169734</td>\n",
       "      <td>25.620338</td>\n",
       "      <td>None</td>\n",
       "      <td>NaN</td>\n",
       "      <td>NaN</td>\n",
       "      <td>NaN</td>\n",
       "      <td>NaN</td>\n",
       "      <td>4.937757e+14</td>\n",
       "      <td>2.121351</td>\n",
       "      <td>1.426493e+07</td>\n",
       "      <td>2.222106e+07</td>\n",
       "      <td>1.332020</td>\n",
       "      <td>1.774277</td>\n",
       "      <td>0.179615</td>\n",
       "      <td>0.120438</td>\n",
       "      <td>2.267055</td>\n",
       "      <td>2.463546</td>\n",
       "      <td>NaN</td>\n",
       "    </tr>\n",
       "    <tr>\n",
       "      <th>2887</th>\n",
       "      <td>20240806_230924</td>\n",
       "      <td>2024-08-07 01:07:58</td>\n",
       "      <td>xgboost_regressor</td>\n",
       "      <td>regression</td>\n",
       "      <td>small_productions</td>\n",
       "      <td>random_search</td>\n",
       "      <td>False</td>\n",
       "      <td>none</td>\n",
       "      <td>MinMaxScaler</td>\n",
       "      <td>0.081791</td>\n",
       "      <td>58.838922</td>\n",
       "      <td>None</td>\n",
       "      <td>NaN</td>\n",
       "      <td>NaN</td>\n",
       "      <td>NaN</td>\n",
       "      <td>NaN</td>\n",
       "      <td>2.568911e+15</td>\n",
       "      <td>5961.204966</td>\n",
       "      <td>1.624560e+07</td>\n",
       "      <td>5.068443e+07</td>\n",
       "      <td>1.936908</td>\n",
       "      <td>3.751614</td>\n",
       "      <td>0.316336</td>\n",
       "      <td>0.119205</td>\n",
       "      <td>6395.321360</td>\n",
       "      <td>7087.708295</td>\n",
       "      <td>NaN</td>\n",
       "    </tr>\n",
       "    <tr>\n",
       "      <th>2899</th>\n",
       "      <td>20240806_230924</td>\n",
       "      <td>2024-08-07 07:05:40</td>\n",
       "      <td>decision_tree_regressor</td>\n",
       "      <td>regression</td>\n",
       "      <td>small_productions</td>\n",
       "      <td>random_search</td>\n",
       "      <td>True</td>\n",
       "      <td>none</td>\n",
       "      <td>MinMaxScaler</td>\n",
       "      <td>0.093989</td>\n",
       "      <td>0.856859</td>\n",
       "      <td>None</td>\n",
       "      <td>NaN</td>\n",
       "      <td>NaN</td>\n",
       "      <td>NaN</td>\n",
       "      <td>NaN</td>\n",
       "      <td>5.230749e+14</td>\n",
       "      <td>1.858029</td>\n",
       "      <td>1.437206e+07</td>\n",
       "      <td>2.287083e+07</td>\n",
       "      <td>1.341286</td>\n",
       "      <td>1.799048</td>\n",
       "      <td>0.130936</td>\n",
       "      <td>0.109489</td>\n",
       "      <td>1.940824</td>\n",
       "      <td>2.160223</td>\n",
       "      <td>NaN</td>\n",
       "    </tr>\n",
       "  </tbody>\n",
       "</table>\n",
       "</div>"
      ],
      "text/plain": [
       "               run_id           timestamp               model_type  \\\n",
       "566   20240806_230924 2024-08-07 02:57:31  decision_tree_regressor   \n",
       "1128  20240806_230924 2024-08-07 01:06:59  decision_tree_regressor   \n",
       "1169  20240806_230924 2024-08-07 01:59:40       lightgbm_regressor   \n",
       "1540  20240806_230924 2024-08-07 07:05:39  random_forest_regressor   \n",
       "1737  20240806_230924 2024-08-07 02:37:56          dummy_regressor   \n",
       "1840  20240806_230924 2024-08-07 03:50:28       lightgbm_regressor   \n",
       "2045  20240806_230924 2024-08-07 07:34:10       lightgbm_regressor   \n",
       "2130  20240806_230924 2024-08-07 03:05:29        xgboost_regressor   \n",
       "2192  20240806_230924 2024-08-07 07:04:16          dummy_regressor   \n",
       "2300  20240806_230924 2024-08-07 02:57:00  random_forest_regressor   \n",
       "2475  20240806_230924 2024-08-07 01:06:57  random_forest_regressor   \n",
       "2502  20240806_230924 2024-08-07 01:04:20          dummy_regressor   \n",
       "2682  20240806_230924 2024-08-07 07:06:05        xgboost_regressor   \n",
       "2887  20240806_230924 2024-08-07 01:07:58        xgboost_regressor   \n",
       "2899  20240806_230924 2024-08-07 07:05:40  decision_tree_regressor   \n",
       "\n",
       "     problem_type       dataset_name      grid_type  has_outliers_removed  \\\n",
       "566    regression  large_productions  random_search                 False   \n",
       "1128   regression  small_productions  random_search                 False   \n",
       "1169   regression  small_productions  random_search                 False   \n",
       "1540   regression  small_productions  random_search                  True   \n",
       "1737   regression  large_productions  random_search                 False   \n",
       "1840   regression  large_productions  random_search                 False   \n",
       "2045   regression  small_productions  random_search                  True   \n",
       "2130   regression  large_productions  random_search                 False   \n",
       "2192   regression  small_productions  random_search                  True   \n",
       "2300   regression  large_productions  random_search                 False   \n",
       "2475   regression  small_productions  random_search                 False   \n",
       "2502   regression  small_productions  random_search                 False   \n",
       "2682   regression  small_productions  random_search                  True   \n",
       "2887   regression  small_productions  random_search                 False   \n",
       "2899   regression  small_productions  random_search                  True   \n",
       "\n",
       "     feature_engineering          scaler  variance_threshold     duration  \\\n",
       "566              complex    MinMaxScaler            0.052179    30.404493   \n",
       "1128                none    MinMaxScaler            0.038855     1.417774   \n",
       "1169                none    MinMaxScaler            0.126461  3102.059649   \n",
       "1540                none  StandardScaler            0.034991    82.666126   \n",
       "1737             complex    RobustScaler            0.028573    25.045260   \n",
       "1840             complex    MinMaxScaler            0.006878  2699.246889   \n",
       "2045                none    MinMaxScaler            0.122371  1684.474341   \n",
       "2130             complex    RobustScaler            0.027866   477.792208   \n",
       "2192                none    RobustScaler            0.159309     0.704337   \n",
       "2300             complex  StandardScaler            0.037304  1143.638252   \n",
       "2475                none  StandardScaler            0.169734   157.194483   \n",
       "2502                none    RobustScaler            0.028573     0.883237   \n",
       "2682                none  StandardScaler            0.169734    25.620338   \n",
       "2887                none    MinMaxScaler            0.081791    58.838922   \n",
       "2899                none    MinMaxScaler            0.093989     0.856859   \n",
       "\n",
       "     number_of_combinations  Accuracy  Precision  Recall  F1 Score  \\\n",
       "566                    None       NaN        NaN     NaN       NaN   \n",
       "1128                   None       NaN        NaN     NaN       NaN   \n",
       "1169                   None       NaN        NaN     NaN       NaN   \n",
       "1540                   None       NaN        NaN     NaN       NaN   \n",
       "1737                   None       NaN        NaN     NaN       NaN   \n",
       "1840                   None       NaN        NaN     NaN       NaN   \n",
       "2045                   None       NaN        NaN     NaN       NaN   \n",
       "2130                   None       NaN        NaN     NaN       NaN   \n",
       "2192                   None       NaN        NaN     NaN       NaN   \n",
       "2300                   None       NaN        NaN     NaN       NaN   \n",
       "2475                   None       NaN        NaN     NaN       NaN   \n",
       "2502                   None       NaN        NaN     NaN       NaN   \n",
       "2682                   None       NaN        NaN     NaN       NaN   \n",
       "2887                   None       NaN        NaN     NaN       NaN   \n",
       "2899                   None       NaN        NaN     NaN       NaN   \n",
       "\n",
       "               MSE          MAPE           MAE          RMSE     RMSLE  \\\n",
       "566   4.200325e+16      1.965304  1.124303e+08  2.049469e+08  1.098849   \n",
       "1128  2.806414e+15   3716.256048  1.657437e+07  5.297560e+07  2.058231   \n",
       "1169  2.715088e+15   1034.074529  1.618450e+07  5.210650e+07  1.901545   \n",
       "1540  5.250786e+14      1.819742  1.410932e+07  2.291459e+07  1.253378   \n",
       "1737  9.061588e+16     24.565887  1.588650e+08  3.010247e+08  1.464467   \n",
       "1840  4.284176e+16      4.328473  1.084042e+08  2.069825e+08  1.014492   \n",
       "2045  4.955639e+14      1.945183  1.389599e+07  2.226126e+07  1.277452   \n",
       "2130  4.281868e+16      4.367213  1.059003e+08  2.069268e+08  1.029646   \n",
       "2192  7.406959e+14      3.826276  1.647679e+07  2.721573e+07  1.592469   \n",
       "2300  4.095737e+16      2.622140  1.044580e+08  2.023793e+08  1.018054   \n",
       "2475  2.671700e+15   1629.522790  1.549534e+07  5.168849e+07  1.858385   \n",
       "2502  4.029149e+15  88321.586502  2.113590e+07  6.347558e+07  3.074882   \n",
       "2682  4.937757e+14      2.121351  1.426493e+07  2.222106e+07  1.332020   \n",
       "2887  2.568911e+15   5961.204966  1.624560e+07  5.068443e+07  1.936908   \n",
       "2899  5.230749e+14      1.858029  1.437206e+07  2.287083e+07  1.341286   \n",
       "\n",
       "          MSLE        R2  Threshold Probability Accuracy  Threshold MAPE  \\\n",
       "566   1.207470  0.492879                        0.206039        2.176849   \n",
       "1128  4.236316  0.253129                        0.104305     3951.790194   \n",
       "1169  3.615872  0.277433                        0.105960     1088.117787   \n",
       "1540  1.570957  0.127607                        0.091241        1.908518   \n",
       "1737  2.144663 -0.094040                        0.140320       26.290476   \n",
       "1840  1.029194  0.482755                        0.223801        4.848679   \n",
       "2045  1.631884  0.176644                        0.105839        2.055481   \n",
       "2130  1.060172  0.483034                        0.216696        4.854143   \n",
       "2192  2.535959 -0.230631                        0.069343        3.954502   \n",
       "2300  1.036433  0.505506                        0.220249        3.029718   \n",
       "2475  3.453593  0.288980                        0.089404     1694.028623   \n",
       "2502  9.454899 -0.072278                        0.077815    92776.063321   \n",
       "2682  1.774277  0.179615                        0.120438        2.267055   \n",
       "2887  3.751614  0.316336                        0.119205     6395.321360   \n",
       "2899  1.799048  0.130936                        0.109489        1.940824   \n",
       "\n",
       "      Threshold MAPE (25%)  ROC AUC Score  \n",
       "566               2.614239            NaN  \n",
       "1128           4283.604647            NaN  \n",
       "1169           1194.206955            NaN  \n",
       "1540              2.059519            NaN  \n",
       "1737             29.716493            NaN  \n",
       "1840              5.829596            NaN  \n",
       "2045              2.205204            NaN  \n",
       "2130              5.949208            NaN  \n",
       "2192              4.165196            NaN  \n",
       "2300              3.525503            NaN  \n",
       "2475           1850.041335            NaN  \n",
       "2502          98424.779017            NaN  \n",
       "2682              2.463546            NaN  \n",
       "2887           7087.708295            NaN  \n",
       "2899              2.160223            NaN  "
      ]
     },
     "execution_count": 39,
     "metadata": {},
     "output_type": "execute_result"
    }
   ],
   "source": [
    "plot_one_metric_of_different_datasets_per_feature_engineering_outliers_with_plotly(experiment_df, problem_type='regression', metric='Threshold Probability Accuracy', metric_agg='max')"
   ]
  },
  {
   "cell_type": "code",
   "execution_count": 40,
   "metadata": {},
   "outputs": [
    {
     "data": {
      "application/vnd.plotly.v1+json": {
       "config": {
        "plotlyServerURL": "https://plot.ly"
       },
       "data": [
        {
         "alignmentgroup": "True",
         "hovertemplate": "Outliers Removed=False<br>Feature Engineering Type=%{x}<br>R2 Value=%{text}<extra></extra>",
         "legendgroup": "False",
         "marker": {
          "color": "#66C2A5",
          "pattern": {
           "shape": ""
          }
         },
         "name": "False",
         "offsetgroup": "False",
         "orientation": "v",
         "showlegend": true,
         "text": [
          0.5055059558267452
         ],
         "textposition": "outside",
         "texttemplate": "%{text:.2s}",
         "type": "bar",
         "x": [
          "complex"
         ],
         "xaxis": "x",
         "y": [
          0.5055059558267452
         ],
         "yaxis": "y"
        }
       ],
       "layout": {
        "bargap": 0.15,
        "barmode": "group",
        "font": {
         "color": "#333333",
         "family": "Arial",
         "size": 12
        },
        "legend": {
         "orientation": "h",
         "title": {
          "text": "Outliers Removed"
         },
         "tracegroupgap": 0,
         "x": 1,
         "xanchor": "right",
         "y": 1.02,
         "yanchor": "bottom"
        },
        "margin": {
         "b": 50,
         "l": 60,
         "r": 30,
         "t": 80
        },
        "plot_bgcolor": "white",
        "showlegend": true,
        "template": {
         "data": {
          "bar": [
           {
            "error_x": {
             "color": "#2a3f5f"
            },
            "error_y": {
             "color": "#2a3f5f"
            },
            "marker": {
             "line": {
              "color": "#E5ECF6",
              "width": 0.5
             },
             "pattern": {
              "fillmode": "overlay",
              "size": 10,
              "solidity": 0.2
             }
            },
            "type": "bar"
           }
          ],
          "barpolar": [
           {
            "marker": {
             "line": {
              "color": "#E5ECF6",
              "width": 0.5
             },
             "pattern": {
              "fillmode": "overlay",
              "size": 10,
              "solidity": 0.2
             }
            },
            "type": "barpolar"
           }
          ],
          "carpet": [
           {
            "aaxis": {
             "endlinecolor": "#2a3f5f",
             "gridcolor": "white",
             "linecolor": "white",
             "minorgridcolor": "white",
             "startlinecolor": "#2a3f5f"
            },
            "baxis": {
             "endlinecolor": "#2a3f5f",
             "gridcolor": "white",
             "linecolor": "white",
             "minorgridcolor": "white",
             "startlinecolor": "#2a3f5f"
            },
            "type": "carpet"
           }
          ],
          "choropleth": [
           {
            "colorbar": {
             "outlinewidth": 0,
             "ticks": ""
            },
            "type": "choropleth"
           }
          ],
          "contour": [
           {
            "colorbar": {
             "outlinewidth": 0,
             "ticks": ""
            },
            "colorscale": [
             [
              0,
              "#0d0887"
             ],
             [
              0.1111111111111111,
              "#46039f"
             ],
             [
              0.2222222222222222,
              "#7201a8"
             ],
             [
              0.3333333333333333,
              "#9c179e"
             ],
             [
              0.4444444444444444,
              "#bd3786"
             ],
             [
              0.5555555555555556,
              "#d8576b"
             ],
             [
              0.6666666666666666,
              "#ed7953"
             ],
             [
              0.7777777777777778,
              "#fb9f3a"
             ],
             [
              0.8888888888888888,
              "#fdca26"
             ],
             [
              1,
              "#f0f921"
             ]
            ],
            "type": "contour"
           }
          ],
          "contourcarpet": [
           {
            "colorbar": {
             "outlinewidth": 0,
             "ticks": ""
            },
            "type": "contourcarpet"
           }
          ],
          "heatmap": [
           {
            "colorbar": {
             "outlinewidth": 0,
             "ticks": ""
            },
            "colorscale": [
             [
              0,
              "#0d0887"
             ],
             [
              0.1111111111111111,
              "#46039f"
             ],
             [
              0.2222222222222222,
              "#7201a8"
             ],
             [
              0.3333333333333333,
              "#9c179e"
             ],
             [
              0.4444444444444444,
              "#bd3786"
             ],
             [
              0.5555555555555556,
              "#d8576b"
             ],
             [
              0.6666666666666666,
              "#ed7953"
             ],
             [
              0.7777777777777778,
              "#fb9f3a"
             ],
             [
              0.8888888888888888,
              "#fdca26"
             ],
             [
              1,
              "#f0f921"
             ]
            ],
            "type": "heatmap"
           }
          ],
          "heatmapgl": [
           {
            "colorbar": {
             "outlinewidth": 0,
             "ticks": ""
            },
            "colorscale": [
             [
              0,
              "#0d0887"
             ],
             [
              0.1111111111111111,
              "#46039f"
             ],
             [
              0.2222222222222222,
              "#7201a8"
             ],
             [
              0.3333333333333333,
              "#9c179e"
             ],
             [
              0.4444444444444444,
              "#bd3786"
             ],
             [
              0.5555555555555556,
              "#d8576b"
             ],
             [
              0.6666666666666666,
              "#ed7953"
             ],
             [
              0.7777777777777778,
              "#fb9f3a"
             ],
             [
              0.8888888888888888,
              "#fdca26"
             ],
             [
              1,
              "#f0f921"
             ]
            ],
            "type": "heatmapgl"
           }
          ],
          "histogram": [
           {
            "marker": {
             "pattern": {
              "fillmode": "overlay",
              "size": 10,
              "solidity": 0.2
             }
            },
            "type": "histogram"
           }
          ],
          "histogram2d": [
           {
            "colorbar": {
             "outlinewidth": 0,
             "ticks": ""
            },
            "colorscale": [
             [
              0,
              "#0d0887"
             ],
             [
              0.1111111111111111,
              "#46039f"
             ],
             [
              0.2222222222222222,
              "#7201a8"
             ],
             [
              0.3333333333333333,
              "#9c179e"
             ],
             [
              0.4444444444444444,
              "#bd3786"
             ],
             [
              0.5555555555555556,
              "#d8576b"
             ],
             [
              0.6666666666666666,
              "#ed7953"
             ],
             [
              0.7777777777777778,
              "#fb9f3a"
             ],
             [
              0.8888888888888888,
              "#fdca26"
             ],
             [
              1,
              "#f0f921"
             ]
            ],
            "type": "histogram2d"
           }
          ],
          "histogram2dcontour": [
           {
            "colorbar": {
             "outlinewidth": 0,
             "ticks": ""
            },
            "colorscale": [
             [
              0,
              "#0d0887"
             ],
             [
              0.1111111111111111,
              "#46039f"
             ],
             [
              0.2222222222222222,
              "#7201a8"
             ],
             [
              0.3333333333333333,
              "#9c179e"
             ],
             [
              0.4444444444444444,
              "#bd3786"
             ],
             [
              0.5555555555555556,
              "#d8576b"
             ],
             [
              0.6666666666666666,
              "#ed7953"
             ],
             [
              0.7777777777777778,
              "#fb9f3a"
             ],
             [
              0.8888888888888888,
              "#fdca26"
             ],
             [
              1,
              "#f0f921"
             ]
            ],
            "type": "histogram2dcontour"
           }
          ],
          "mesh3d": [
           {
            "colorbar": {
             "outlinewidth": 0,
             "ticks": ""
            },
            "type": "mesh3d"
           }
          ],
          "parcoords": [
           {
            "line": {
             "colorbar": {
              "outlinewidth": 0,
              "ticks": ""
             }
            },
            "type": "parcoords"
           }
          ],
          "pie": [
           {
            "automargin": true,
            "type": "pie"
           }
          ],
          "scatter": [
           {
            "fillpattern": {
             "fillmode": "overlay",
             "size": 10,
             "solidity": 0.2
            },
            "type": "scatter"
           }
          ],
          "scatter3d": [
           {
            "line": {
             "colorbar": {
              "outlinewidth": 0,
              "ticks": ""
             }
            },
            "marker": {
             "colorbar": {
              "outlinewidth": 0,
              "ticks": ""
             }
            },
            "type": "scatter3d"
           }
          ],
          "scattercarpet": [
           {
            "marker": {
             "colorbar": {
              "outlinewidth": 0,
              "ticks": ""
             }
            },
            "type": "scattercarpet"
           }
          ],
          "scattergeo": [
           {
            "marker": {
             "colorbar": {
              "outlinewidth": 0,
              "ticks": ""
             }
            },
            "type": "scattergeo"
           }
          ],
          "scattergl": [
           {
            "marker": {
             "colorbar": {
              "outlinewidth": 0,
              "ticks": ""
             }
            },
            "type": "scattergl"
           }
          ],
          "scattermapbox": [
           {
            "marker": {
             "colorbar": {
              "outlinewidth": 0,
              "ticks": ""
             }
            },
            "type": "scattermapbox"
           }
          ],
          "scatterpolar": [
           {
            "marker": {
             "colorbar": {
              "outlinewidth": 0,
              "ticks": ""
             }
            },
            "type": "scatterpolar"
           }
          ],
          "scatterpolargl": [
           {
            "marker": {
             "colorbar": {
              "outlinewidth": 0,
              "ticks": ""
             }
            },
            "type": "scatterpolargl"
           }
          ],
          "scatterternary": [
           {
            "marker": {
             "colorbar": {
              "outlinewidth": 0,
              "ticks": ""
             }
            },
            "type": "scatterternary"
           }
          ],
          "surface": [
           {
            "colorbar": {
             "outlinewidth": 0,
             "ticks": ""
            },
            "colorscale": [
             [
              0,
              "#0d0887"
             ],
             [
              0.1111111111111111,
              "#46039f"
             ],
             [
              0.2222222222222222,
              "#7201a8"
             ],
             [
              0.3333333333333333,
              "#9c179e"
             ],
             [
              0.4444444444444444,
              "#bd3786"
             ],
             [
              0.5555555555555556,
              "#d8576b"
             ],
             [
              0.6666666666666666,
              "#ed7953"
             ],
             [
              0.7777777777777778,
              "#fb9f3a"
             ],
             [
              0.8888888888888888,
              "#fdca26"
             ],
             [
              1,
              "#f0f921"
             ]
            ],
            "type": "surface"
           }
          ],
          "table": [
           {
            "cells": {
             "fill": {
              "color": "#EBF0F8"
             },
             "line": {
              "color": "white"
             }
            },
            "header": {
             "fill": {
              "color": "#C8D4E3"
             },
             "line": {
              "color": "white"
             }
            },
            "type": "table"
           }
          ]
         },
         "layout": {
          "annotationdefaults": {
           "arrowcolor": "#2a3f5f",
           "arrowhead": 0,
           "arrowwidth": 1
          },
          "autotypenumbers": "strict",
          "coloraxis": {
           "colorbar": {
            "outlinewidth": 0,
            "ticks": ""
           }
          },
          "colorscale": {
           "diverging": [
            [
             0,
             "#8e0152"
            ],
            [
             0.1,
             "#c51b7d"
            ],
            [
             0.2,
             "#de77ae"
            ],
            [
             0.3,
             "#f1b6da"
            ],
            [
             0.4,
             "#fde0ef"
            ],
            [
             0.5,
             "#f7f7f7"
            ],
            [
             0.6,
             "#e6f5d0"
            ],
            [
             0.7,
             "#b8e186"
            ],
            [
             0.8,
             "#7fbc41"
            ],
            [
             0.9,
             "#4d9221"
            ],
            [
             1,
             "#276419"
            ]
           ],
           "sequential": [
            [
             0,
             "#0d0887"
            ],
            [
             0.1111111111111111,
             "#46039f"
            ],
            [
             0.2222222222222222,
             "#7201a8"
            ],
            [
             0.3333333333333333,
             "#9c179e"
            ],
            [
             0.4444444444444444,
             "#bd3786"
            ],
            [
             0.5555555555555556,
             "#d8576b"
            ],
            [
             0.6666666666666666,
             "#ed7953"
            ],
            [
             0.7777777777777778,
             "#fb9f3a"
            ],
            [
             0.8888888888888888,
             "#fdca26"
            ],
            [
             1,
             "#f0f921"
            ]
           ],
           "sequentialminus": [
            [
             0,
             "#0d0887"
            ],
            [
             0.1111111111111111,
             "#46039f"
            ],
            [
             0.2222222222222222,
             "#7201a8"
            ],
            [
             0.3333333333333333,
             "#9c179e"
            ],
            [
             0.4444444444444444,
             "#bd3786"
            ],
            [
             0.5555555555555556,
             "#d8576b"
            ],
            [
             0.6666666666666666,
             "#ed7953"
            ],
            [
             0.7777777777777778,
             "#fb9f3a"
            ],
            [
             0.8888888888888888,
             "#fdca26"
            ],
            [
             1,
             "#f0f921"
            ]
           ]
          },
          "colorway": [
           "#636efa",
           "#EF553B",
           "#00cc96",
           "#ab63fa",
           "#FFA15A",
           "#19d3f3",
           "#FF6692",
           "#B6E880",
           "#FF97FF",
           "#FECB52"
          ],
          "font": {
           "color": "#2a3f5f"
          },
          "geo": {
           "bgcolor": "white",
           "lakecolor": "white",
           "landcolor": "#E5ECF6",
           "showlakes": true,
           "showland": true,
           "subunitcolor": "white"
          },
          "hoverlabel": {
           "align": "left"
          },
          "hovermode": "closest",
          "mapbox": {
           "style": "light"
          },
          "paper_bgcolor": "white",
          "plot_bgcolor": "#E5ECF6",
          "polar": {
           "angularaxis": {
            "gridcolor": "white",
            "linecolor": "white",
            "ticks": ""
           },
           "bgcolor": "#E5ECF6",
           "radialaxis": {
            "gridcolor": "white",
            "linecolor": "white",
            "ticks": ""
           }
          },
          "scene": {
           "xaxis": {
            "backgroundcolor": "#E5ECF6",
            "gridcolor": "white",
            "gridwidth": 2,
            "linecolor": "white",
            "showbackground": true,
            "ticks": "",
            "zerolinecolor": "white"
           },
           "yaxis": {
            "backgroundcolor": "#E5ECF6",
            "gridcolor": "white",
            "gridwidth": 2,
            "linecolor": "white",
            "showbackground": true,
            "ticks": "",
            "zerolinecolor": "white"
           },
           "zaxis": {
            "backgroundcolor": "#E5ECF6",
            "gridcolor": "white",
            "gridwidth": 2,
            "linecolor": "white",
            "showbackground": true,
            "ticks": "",
            "zerolinecolor": "white"
           }
          },
          "shapedefaults": {
           "line": {
            "color": "#2a3f5f"
           }
          },
          "ternary": {
           "aaxis": {
            "gridcolor": "white",
            "linecolor": "white",
            "ticks": ""
           },
           "baxis": {
            "gridcolor": "white",
            "linecolor": "white",
            "ticks": ""
           },
           "bgcolor": "#E5ECF6",
           "caxis": {
            "gridcolor": "white",
            "linecolor": "white",
            "ticks": ""
           }
          },
          "title": {
           "x": 0.05
          },
          "xaxis": {
           "automargin": true,
           "gridcolor": "white",
           "linecolor": "white",
           "ticks": "",
           "title": {
            "standoff": 15
           },
           "zerolinecolor": "white",
           "zerolinewidth": 2
          },
          "yaxis": {
           "automargin": true,
           "gridcolor": "white",
           "linecolor": "white",
           "ticks": "",
           "title": {
            "standoff": 15
           },
           "zerolinecolor": "white",
           "zerolinewidth": 2
          }
         }
        },
        "title": {
         "font": {
          "color": "#333333",
          "size": 20
         },
         "text": "R2 for large_productions",
         "x": 0.5,
         "xanchor": "center",
         "y": 0.95,
         "yanchor": "top"
        },
        "xaxis": {
         "anchor": "y",
         "categoryarray": [
          "none",
          "complex"
         ],
         "categoryorder": "array",
         "domain": [
          0,
          1
         ],
         "gridcolor": "#E5E5E5",
         "showgrid": true,
         "tickangle": 0,
         "tickfont": {
          "size": 10
         },
         "title": {
          "text": "Feature Engineering Type"
         }
        },
        "yaxis": {
         "anchor": "x",
         "domain": [
          0,
          1
         ],
         "gridcolor": "#E5E5E5",
         "showgrid": true,
         "tickfont": {
          "size": 10
         },
         "title": {
          "text": "R2 Value"
         },
         "type": "linear",
         "zeroline": true,
         "zerolinecolor": "#E5E5E5"
        }
       }
      }
     },
     "metadata": {},
     "output_type": "display_data"
    },
    {
     "data": {
      "application/vnd.plotly.v1+json": {
       "config": {
        "plotlyServerURL": "https://plot.ly"
       },
       "data": [
        {
         "alignmentgroup": "True",
         "hovertemplate": "Outliers Removed=False<br>Feature Engineering Type=%{x}<br>R2 Value=%{text}<extra></extra>",
         "legendgroup": "False",
         "marker": {
          "color": "#66C2A5",
          "pattern": {
           "shape": ""
          }
         },
         "name": "False",
         "offsetgroup": "False",
         "orientation": "v",
         "showlegend": true,
         "text": [
          0.3163355588912964
         ],
         "textposition": "outside",
         "texttemplate": "%{text:.2s}",
         "type": "bar",
         "x": [
          "none"
         ],
         "xaxis": "x",
         "y": [
          0.3163355588912964
         ],
         "yaxis": "y"
        },
        {
         "alignmentgroup": "True",
         "hovertemplate": "Outliers Removed=True<br>Feature Engineering Type=%{x}<br>R2 Value=%{text}<extra></extra>",
         "legendgroup": "True",
         "marker": {
          "color": "#FC8D62",
          "pattern": {
           "shape": ""
          }
         },
         "name": "True",
         "offsetgroup": "True",
         "orientation": "v",
         "showlegend": true,
         "text": [
          0.17961496114730835
         ],
         "textposition": "outside",
         "texttemplate": "%{text:.2s}",
         "type": "bar",
         "x": [
          "none"
         ],
         "xaxis": "x",
         "y": [
          0.17961496114730835
         ],
         "yaxis": "y"
        }
       ],
       "layout": {
        "bargap": 0.15,
        "barmode": "group",
        "font": {
         "color": "#333333",
         "family": "Arial",
         "size": 12
        },
        "legend": {
         "orientation": "h",
         "title": {
          "text": "Outliers Removed"
         },
         "tracegroupgap": 0,
         "x": 1,
         "xanchor": "right",
         "y": 1.02,
         "yanchor": "bottom"
        },
        "margin": {
         "b": 50,
         "l": 60,
         "r": 30,
         "t": 80
        },
        "plot_bgcolor": "white",
        "showlegend": true,
        "template": {
         "data": {
          "bar": [
           {
            "error_x": {
             "color": "#2a3f5f"
            },
            "error_y": {
             "color": "#2a3f5f"
            },
            "marker": {
             "line": {
              "color": "#E5ECF6",
              "width": 0.5
             },
             "pattern": {
              "fillmode": "overlay",
              "size": 10,
              "solidity": 0.2
             }
            },
            "type": "bar"
           }
          ],
          "barpolar": [
           {
            "marker": {
             "line": {
              "color": "#E5ECF6",
              "width": 0.5
             },
             "pattern": {
              "fillmode": "overlay",
              "size": 10,
              "solidity": 0.2
             }
            },
            "type": "barpolar"
           }
          ],
          "carpet": [
           {
            "aaxis": {
             "endlinecolor": "#2a3f5f",
             "gridcolor": "white",
             "linecolor": "white",
             "minorgridcolor": "white",
             "startlinecolor": "#2a3f5f"
            },
            "baxis": {
             "endlinecolor": "#2a3f5f",
             "gridcolor": "white",
             "linecolor": "white",
             "minorgridcolor": "white",
             "startlinecolor": "#2a3f5f"
            },
            "type": "carpet"
           }
          ],
          "choropleth": [
           {
            "colorbar": {
             "outlinewidth": 0,
             "ticks": ""
            },
            "type": "choropleth"
           }
          ],
          "contour": [
           {
            "colorbar": {
             "outlinewidth": 0,
             "ticks": ""
            },
            "colorscale": [
             [
              0,
              "#0d0887"
             ],
             [
              0.1111111111111111,
              "#46039f"
             ],
             [
              0.2222222222222222,
              "#7201a8"
             ],
             [
              0.3333333333333333,
              "#9c179e"
             ],
             [
              0.4444444444444444,
              "#bd3786"
             ],
             [
              0.5555555555555556,
              "#d8576b"
             ],
             [
              0.6666666666666666,
              "#ed7953"
             ],
             [
              0.7777777777777778,
              "#fb9f3a"
             ],
             [
              0.8888888888888888,
              "#fdca26"
             ],
             [
              1,
              "#f0f921"
             ]
            ],
            "type": "contour"
           }
          ],
          "contourcarpet": [
           {
            "colorbar": {
             "outlinewidth": 0,
             "ticks": ""
            },
            "type": "contourcarpet"
           }
          ],
          "heatmap": [
           {
            "colorbar": {
             "outlinewidth": 0,
             "ticks": ""
            },
            "colorscale": [
             [
              0,
              "#0d0887"
             ],
             [
              0.1111111111111111,
              "#46039f"
             ],
             [
              0.2222222222222222,
              "#7201a8"
             ],
             [
              0.3333333333333333,
              "#9c179e"
             ],
             [
              0.4444444444444444,
              "#bd3786"
             ],
             [
              0.5555555555555556,
              "#d8576b"
             ],
             [
              0.6666666666666666,
              "#ed7953"
             ],
             [
              0.7777777777777778,
              "#fb9f3a"
             ],
             [
              0.8888888888888888,
              "#fdca26"
             ],
             [
              1,
              "#f0f921"
             ]
            ],
            "type": "heatmap"
           }
          ],
          "heatmapgl": [
           {
            "colorbar": {
             "outlinewidth": 0,
             "ticks": ""
            },
            "colorscale": [
             [
              0,
              "#0d0887"
             ],
             [
              0.1111111111111111,
              "#46039f"
             ],
             [
              0.2222222222222222,
              "#7201a8"
             ],
             [
              0.3333333333333333,
              "#9c179e"
             ],
             [
              0.4444444444444444,
              "#bd3786"
             ],
             [
              0.5555555555555556,
              "#d8576b"
             ],
             [
              0.6666666666666666,
              "#ed7953"
             ],
             [
              0.7777777777777778,
              "#fb9f3a"
             ],
             [
              0.8888888888888888,
              "#fdca26"
             ],
             [
              1,
              "#f0f921"
             ]
            ],
            "type": "heatmapgl"
           }
          ],
          "histogram": [
           {
            "marker": {
             "pattern": {
              "fillmode": "overlay",
              "size": 10,
              "solidity": 0.2
             }
            },
            "type": "histogram"
           }
          ],
          "histogram2d": [
           {
            "colorbar": {
             "outlinewidth": 0,
             "ticks": ""
            },
            "colorscale": [
             [
              0,
              "#0d0887"
             ],
             [
              0.1111111111111111,
              "#46039f"
             ],
             [
              0.2222222222222222,
              "#7201a8"
             ],
             [
              0.3333333333333333,
              "#9c179e"
             ],
             [
              0.4444444444444444,
              "#bd3786"
             ],
             [
              0.5555555555555556,
              "#d8576b"
             ],
             [
              0.6666666666666666,
              "#ed7953"
             ],
             [
              0.7777777777777778,
              "#fb9f3a"
             ],
             [
              0.8888888888888888,
              "#fdca26"
             ],
             [
              1,
              "#f0f921"
             ]
            ],
            "type": "histogram2d"
           }
          ],
          "histogram2dcontour": [
           {
            "colorbar": {
             "outlinewidth": 0,
             "ticks": ""
            },
            "colorscale": [
             [
              0,
              "#0d0887"
             ],
             [
              0.1111111111111111,
              "#46039f"
             ],
             [
              0.2222222222222222,
              "#7201a8"
             ],
             [
              0.3333333333333333,
              "#9c179e"
             ],
             [
              0.4444444444444444,
              "#bd3786"
             ],
             [
              0.5555555555555556,
              "#d8576b"
             ],
             [
              0.6666666666666666,
              "#ed7953"
             ],
             [
              0.7777777777777778,
              "#fb9f3a"
             ],
             [
              0.8888888888888888,
              "#fdca26"
             ],
             [
              1,
              "#f0f921"
             ]
            ],
            "type": "histogram2dcontour"
           }
          ],
          "mesh3d": [
           {
            "colorbar": {
             "outlinewidth": 0,
             "ticks": ""
            },
            "type": "mesh3d"
           }
          ],
          "parcoords": [
           {
            "line": {
             "colorbar": {
              "outlinewidth": 0,
              "ticks": ""
             }
            },
            "type": "parcoords"
           }
          ],
          "pie": [
           {
            "automargin": true,
            "type": "pie"
           }
          ],
          "scatter": [
           {
            "fillpattern": {
             "fillmode": "overlay",
             "size": 10,
             "solidity": 0.2
            },
            "type": "scatter"
           }
          ],
          "scatter3d": [
           {
            "line": {
             "colorbar": {
              "outlinewidth": 0,
              "ticks": ""
             }
            },
            "marker": {
             "colorbar": {
              "outlinewidth": 0,
              "ticks": ""
             }
            },
            "type": "scatter3d"
           }
          ],
          "scattercarpet": [
           {
            "marker": {
             "colorbar": {
              "outlinewidth": 0,
              "ticks": ""
             }
            },
            "type": "scattercarpet"
           }
          ],
          "scattergeo": [
           {
            "marker": {
             "colorbar": {
              "outlinewidth": 0,
              "ticks": ""
             }
            },
            "type": "scattergeo"
           }
          ],
          "scattergl": [
           {
            "marker": {
             "colorbar": {
              "outlinewidth": 0,
              "ticks": ""
             }
            },
            "type": "scattergl"
           }
          ],
          "scattermapbox": [
           {
            "marker": {
             "colorbar": {
              "outlinewidth": 0,
              "ticks": ""
             }
            },
            "type": "scattermapbox"
           }
          ],
          "scatterpolar": [
           {
            "marker": {
             "colorbar": {
              "outlinewidth": 0,
              "ticks": ""
             }
            },
            "type": "scatterpolar"
           }
          ],
          "scatterpolargl": [
           {
            "marker": {
             "colorbar": {
              "outlinewidth": 0,
              "ticks": ""
             }
            },
            "type": "scatterpolargl"
           }
          ],
          "scatterternary": [
           {
            "marker": {
             "colorbar": {
              "outlinewidth": 0,
              "ticks": ""
             }
            },
            "type": "scatterternary"
           }
          ],
          "surface": [
           {
            "colorbar": {
             "outlinewidth": 0,
             "ticks": ""
            },
            "colorscale": [
             [
              0,
              "#0d0887"
             ],
             [
              0.1111111111111111,
              "#46039f"
             ],
             [
              0.2222222222222222,
              "#7201a8"
             ],
             [
              0.3333333333333333,
              "#9c179e"
             ],
             [
              0.4444444444444444,
              "#bd3786"
             ],
             [
              0.5555555555555556,
              "#d8576b"
             ],
             [
              0.6666666666666666,
              "#ed7953"
             ],
             [
              0.7777777777777778,
              "#fb9f3a"
             ],
             [
              0.8888888888888888,
              "#fdca26"
             ],
             [
              1,
              "#f0f921"
             ]
            ],
            "type": "surface"
           }
          ],
          "table": [
           {
            "cells": {
             "fill": {
              "color": "#EBF0F8"
             },
             "line": {
              "color": "white"
             }
            },
            "header": {
             "fill": {
              "color": "#C8D4E3"
             },
             "line": {
              "color": "white"
             }
            },
            "type": "table"
           }
          ]
         },
         "layout": {
          "annotationdefaults": {
           "arrowcolor": "#2a3f5f",
           "arrowhead": 0,
           "arrowwidth": 1
          },
          "autotypenumbers": "strict",
          "coloraxis": {
           "colorbar": {
            "outlinewidth": 0,
            "ticks": ""
           }
          },
          "colorscale": {
           "diverging": [
            [
             0,
             "#8e0152"
            ],
            [
             0.1,
             "#c51b7d"
            ],
            [
             0.2,
             "#de77ae"
            ],
            [
             0.3,
             "#f1b6da"
            ],
            [
             0.4,
             "#fde0ef"
            ],
            [
             0.5,
             "#f7f7f7"
            ],
            [
             0.6,
             "#e6f5d0"
            ],
            [
             0.7,
             "#b8e186"
            ],
            [
             0.8,
             "#7fbc41"
            ],
            [
             0.9,
             "#4d9221"
            ],
            [
             1,
             "#276419"
            ]
           ],
           "sequential": [
            [
             0,
             "#0d0887"
            ],
            [
             0.1111111111111111,
             "#46039f"
            ],
            [
             0.2222222222222222,
             "#7201a8"
            ],
            [
             0.3333333333333333,
             "#9c179e"
            ],
            [
             0.4444444444444444,
             "#bd3786"
            ],
            [
             0.5555555555555556,
             "#d8576b"
            ],
            [
             0.6666666666666666,
             "#ed7953"
            ],
            [
             0.7777777777777778,
             "#fb9f3a"
            ],
            [
             0.8888888888888888,
             "#fdca26"
            ],
            [
             1,
             "#f0f921"
            ]
           ],
           "sequentialminus": [
            [
             0,
             "#0d0887"
            ],
            [
             0.1111111111111111,
             "#46039f"
            ],
            [
             0.2222222222222222,
             "#7201a8"
            ],
            [
             0.3333333333333333,
             "#9c179e"
            ],
            [
             0.4444444444444444,
             "#bd3786"
            ],
            [
             0.5555555555555556,
             "#d8576b"
            ],
            [
             0.6666666666666666,
             "#ed7953"
            ],
            [
             0.7777777777777778,
             "#fb9f3a"
            ],
            [
             0.8888888888888888,
             "#fdca26"
            ],
            [
             1,
             "#f0f921"
            ]
           ]
          },
          "colorway": [
           "#636efa",
           "#EF553B",
           "#00cc96",
           "#ab63fa",
           "#FFA15A",
           "#19d3f3",
           "#FF6692",
           "#B6E880",
           "#FF97FF",
           "#FECB52"
          ],
          "font": {
           "color": "#2a3f5f"
          },
          "geo": {
           "bgcolor": "white",
           "lakecolor": "white",
           "landcolor": "#E5ECF6",
           "showlakes": true,
           "showland": true,
           "subunitcolor": "white"
          },
          "hoverlabel": {
           "align": "left"
          },
          "hovermode": "closest",
          "mapbox": {
           "style": "light"
          },
          "paper_bgcolor": "white",
          "plot_bgcolor": "#E5ECF6",
          "polar": {
           "angularaxis": {
            "gridcolor": "white",
            "linecolor": "white",
            "ticks": ""
           },
           "bgcolor": "#E5ECF6",
           "radialaxis": {
            "gridcolor": "white",
            "linecolor": "white",
            "ticks": ""
           }
          },
          "scene": {
           "xaxis": {
            "backgroundcolor": "#E5ECF6",
            "gridcolor": "white",
            "gridwidth": 2,
            "linecolor": "white",
            "showbackground": true,
            "ticks": "",
            "zerolinecolor": "white"
           },
           "yaxis": {
            "backgroundcolor": "#E5ECF6",
            "gridcolor": "white",
            "gridwidth": 2,
            "linecolor": "white",
            "showbackground": true,
            "ticks": "",
            "zerolinecolor": "white"
           },
           "zaxis": {
            "backgroundcolor": "#E5ECF6",
            "gridcolor": "white",
            "gridwidth": 2,
            "linecolor": "white",
            "showbackground": true,
            "ticks": "",
            "zerolinecolor": "white"
           }
          },
          "shapedefaults": {
           "line": {
            "color": "#2a3f5f"
           }
          },
          "ternary": {
           "aaxis": {
            "gridcolor": "white",
            "linecolor": "white",
            "ticks": ""
           },
           "baxis": {
            "gridcolor": "white",
            "linecolor": "white",
            "ticks": ""
           },
           "bgcolor": "#E5ECF6",
           "caxis": {
            "gridcolor": "white",
            "linecolor": "white",
            "ticks": ""
           }
          },
          "title": {
           "x": 0.05
          },
          "xaxis": {
           "automargin": true,
           "gridcolor": "white",
           "linecolor": "white",
           "ticks": "",
           "title": {
            "standoff": 15
           },
           "zerolinecolor": "white",
           "zerolinewidth": 2
          },
          "yaxis": {
           "automargin": true,
           "gridcolor": "white",
           "linecolor": "white",
           "ticks": "",
           "title": {
            "standoff": 15
           },
           "zerolinecolor": "white",
           "zerolinewidth": 2
          }
         }
        },
        "title": {
         "font": {
          "color": "#333333",
          "size": 20
         },
         "text": "R2 for small_productions",
         "x": 0.5,
         "xanchor": "center",
         "y": 0.95,
         "yanchor": "top"
        },
        "xaxis": {
         "anchor": "y",
         "categoryarray": [
          "none",
          "complex"
         ],
         "categoryorder": "array",
         "domain": [
          0,
          1
         ],
         "gridcolor": "#E5E5E5",
         "showgrid": true,
         "tickangle": 0,
         "tickfont": {
          "size": 10
         },
         "title": {
          "text": "Feature Engineering Type"
         }
        },
        "yaxis": {
         "anchor": "x",
         "domain": [
          0,
          1
         ],
         "gridcolor": "#E5E5E5",
         "showgrid": true,
         "tickfont": {
          "size": 10
         },
         "title": {
          "text": "R2 Value"
         },
         "type": "linear",
         "zeroline": true,
         "zerolinecolor": "#E5E5E5"
        }
       }
      }
     },
     "metadata": {},
     "output_type": "display_data"
    },
    {
     "data": {
      "text/html": [
       "<div>\n",
       "<style scoped>\n",
       "    .dataframe tbody tr th:only-of-type {\n",
       "        vertical-align: middle;\n",
       "    }\n",
       "\n",
       "    .dataframe tbody tr th {\n",
       "        vertical-align: top;\n",
       "    }\n",
       "\n",
       "    .dataframe thead th {\n",
       "        text-align: right;\n",
       "    }\n",
       "</style>\n",
       "<table border=\"1\" class=\"dataframe\">\n",
       "  <thead>\n",
       "    <tr style=\"text-align: right;\">\n",
       "      <th></th>\n",
       "      <th>run_id</th>\n",
       "      <th>timestamp</th>\n",
       "      <th>model_type</th>\n",
       "      <th>problem_type</th>\n",
       "      <th>dataset_name</th>\n",
       "      <th>grid_type</th>\n",
       "      <th>has_outliers_removed</th>\n",
       "      <th>feature_engineering</th>\n",
       "      <th>scaler</th>\n",
       "      <th>variance_threshold</th>\n",
       "      <th>duration</th>\n",
       "      <th>number_of_combinations</th>\n",
       "      <th>Accuracy</th>\n",
       "      <th>Precision</th>\n",
       "      <th>Recall</th>\n",
       "      <th>F1 Score</th>\n",
       "      <th>MSE</th>\n",
       "      <th>MAPE</th>\n",
       "      <th>MAE</th>\n",
       "      <th>RMSE</th>\n",
       "      <th>RMSLE</th>\n",
       "      <th>MSLE</th>\n",
       "      <th>R2</th>\n",
       "      <th>Threshold Probability Accuracy</th>\n",
       "      <th>Threshold MAPE</th>\n",
       "      <th>Threshold MAPE (25%)</th>\n",
       "      <th>ROC AUC Score</th>\n",
       "    </tr>\n",
       "  </thead>\n",
       "  <tbody>\n",
       "    <tr>\n",
       "      <th>566</th>\n",
       "      <td>20240806_230924</td>\n",
       "      <td>2024-08-07 02:57:31</td>\n",
       "      <td>decision_tree_regressor</td>\n",
       "      <td>regression</td>\n",
       "      <td>large_productions</td>\n",
       "      <td>random_search</td>\n",
       "      <td>False</td>\n",
       "      <td>complex</td>\n",
       "      <td>MinMaxScaler</td>\n",
       "      <td>0.052179</td>\n",
       "      <td>30.404493</td>\n",
       "      <td>None</td>\n",
       "      <td>NaN</td>\n",
       "      <td>NaN</td>\n",
       "      <td>NaN</td>\n",
       "      <td>NaN</td>\n",
       "      <td>4.200325e+16</td>\n",
       "      <td>1.965304</td>\n",
       "      <td>1.124303e+08</td>\n",
       "      <td>2.049469e+08</td>\n",
       "      <td>1.098849</td>\n",
       "      <td>1.207470</td>\n",
       "      <td>0.492879</td>\n",
       "      <td>0.206039</td>\n",
       "      <td>2.176849</td>\n",
       "      <td>2.614239</td>\n",
       "      <td>NaN</td>\n",
       "    </tr>\n",
       "    <tr>\n",
       "      <th>1128</th>\n",
       "      <td>20240806_230924</td>\n",
       "      <td>2024-08-07 01:06:59</td>\n",
       "      <td>decision_tree_regressor</td>\n",
       "      <td>regression</td>\n",
       "      <td>small_productions</td>\n",
       "      <td>random_search</td>\n",
       "      <td>False</td>\n",
       "      <td>none</td>\n",
       "      <td>MinMaxScaler</td>\n",
       "      <td>0.038855</td>\n",
       "      <td>1.417774</td>\n",
       "      <td>None</td>\n",
       "      <td>NaN</td>\n",
       "      <td>NaN</td>\n",
       "      <td>NaN</td>\n",
       "      <td>NaN</td>\n",
       "      <td>2.806414e+15</td>\n",
       "      <td>3716.256048</td>\n",
       "      <td>1.657437e+07</td>\n",
       "      <td>5.297560e+07</td>\n",
       "      <td>2.058231</td>\n",
       "      <td>4.236316</td>\n",
       "      <td>0.253129</td>\n",
       "      <td>0.104305</td>\n",
       "      <td>3951.790194</td>\n",
       "      <td>4283.604647</td>\n",
       "      <td>NaN</td>\n",
       "    </tr>\n",
       "    <tr>\n",
       "      <th>1169</th>\n",
       "      <td>20240806_230924</td>\n",
       "      <td>2024-08-07 01:59:40</td>\n",
       "      <td>lightgbm_regressor</td>\n",
       "      <td>regression</td>\n",
       "      <td>small_productions</td>\n",
       "      <td>random_search</td>\n",
       "      <td>False</td>\n",
       "      <td>none</td>\n",
       "      <td>MinMaxScaler</td>\n",
       "      <td>0.126461</td>\n",
       "      <td>3102.059649</td>\n",
       "      <td>None</td>\n",
       "      <td>NaN</td>\n",
       "      <td>NaN</td>\n",
       "      <td>NaN</td>\n",
       "      <td>NaN</td>\n",
       "      <td>2.715088e+15</td>\n",
       "      <td>1034.074529</td>\n",
       "      <td>1.618450e+07</td>\n",
       "      <td>5.210650e+07</td>\n",
       "      <td>1.901545</td>\n",
       "      <td>3.615872</td>\n",
       "      <td>0.277433</td>\n",
       "      <td>0.105960</td>\n",
       "      <td>1088.117787</td>\n",
       "      <td>1194.206955</td>\n",
       "      <td>NaN</td>\n",
       "    </tr>\n",
       "    <tr>\n",
       "      <th>1540</th>\n",
       "      <td>20240806_230924</td>\n",
       "      <td>2024-08-07 07:05:39</td>\n",
       "      <td>random_forest_regressor</td>\n",
       "      <td>regression</td>\n",
       "      <td>small_productions</td>\n",
       "      <td>random_search</td>\n",
       "      <td>True</td>\n",
       "      <td>none</td>\n",
       "      <td>StandardScaler</td>\n",
       "      <td>0.034991</td>\n",
       "      <td>82.666126</td>\n",
       "      <td>None</td>\n",
       "      <td>NaN</td>\n",
       "      <td>NaN</td>\n",
       "      <td>NaN</td>\n",
       "      <td>NaN</td>\n",
       "      <td>5.250786e+14</td>\n",
       "      <td>1.819742</td>\n",
       "      <td>1.410932e+07</td>\n",
       "      <td>2.291459e+07</td>\n",
       "      <td>1.253378</td>\n",
       "      <td>1.570957</td>\n",
       "      <td>0.127607</td>\n",
       "      <td>0.091241</td>\n",
       "      <td>1.908518</td>\n",
       "      <td>2.059519</td>\n",
       "      <td>NaN</td>\n",
       "    </tr>\n",
       "    <tr>\n",
       "      <th>1737</th>\n",
       "      <td>20240806_230924</td>\n",
       "      <td>2024-08-07 02:37:56</td>\n",
       "      <td>dummy_regressor</td>\n",
       "      <td>regression</td>\n",
       "      <td>large_productions</td>\n",
       "      <td>random_search</td>\n",
       "      <td>False</td>\n",
       "      <td>complex</td>\n",
       "      <td>RobustScaler</td>\n",
       "      <td>0.028573</td>\n",
       "      <td>25.045260</td>\n",
       "      <td>None</td>\n",
       "      <td>NaN</td>\n",
       "      <td>NaN</td>\n",
       "      <td>NaN</td>\n",
       "      <td>NaN</td>\n",
       "      <td>9.061588e+16</td>\n",
       "      <td>24.565887</td>\n",
       "      <td>1.588650e+08</td>\n",
       "      <td>3.010247e+08</td>\n",
       "      <td>1.464467</td>\n",
       "      <td>2.144663</td>\n",
       "      <td>-0.094040</td>\n",
       "      <td>0.140320</td>\n",
       "      <td>26.290476</td>\n",
       "      <td>29.716493</td>\n",
       "      <td>NaN</td>\n",
       "    </tr>\n",
       "    <tr>\n",
       "      <th>1840</th>\n",
       "      <td>20240806_230924</td>\n",
       "      <td>2024-08-07 03:50:28</td>\n",
       "      <td>lightgbm_regressor</td>\n",
       "      <td>regression</td>\n",
       "      <td>large_productions</td>\n",
       "      <td>random_search</td>\n",
       "      <td>False</td>\n",
       "      <td>complex</td>\n",
       "      <td>MinMaxScaler</td>\n",
       "      <td>0.006878</td>\n",
       "      <td>2699.246889</td>\n",
       "      <td>None</td>\n",
       "      <td>NaN</td>\n",
       "      <td>NaN</td>\n",
       "      <td>NaN</td>\n",
       "      <td>NaN</td>\n",
       "      <td>4.284176e+16</td>\n",
       "      <td>4.328473</td>\n",
       "      <td>1.084042e+08</td>\n",
       "      <td>2.069825e+08</td>\n",
       "      <td>1.014492</td>\n",
       "      <td>1.029194</td>\n",
       "      <td>0.482755</td>\n",
       "      <td>0.223801</td>\n",
       "      <td>4.848679</td>\n",
       "      <td>5.829596</td>\n",
       "      <td>NaN</td>\n",
       "    </tr>\n",
       "    <tr>\n",
       "      <th>2045</th>\n",
       "      <td>20240806_230924</td>\n",
       "      <td>2024-08-07 07:34:10</td>\n",
       "      <td>lightgbm_regressor</td>\n",
       "      <td>regression</td>\n",
       "      <td>small_productions</td>\n",
       "      <td>random_search</td>\n",
       "      <td>True</td>\n",
       "      <td>none</td>\n",
       "      <td>MinMaxScaler</td>\n",
       "      <td>0.122371</td>\n",
       "      <td>1684.474341</td>\n",
       "      <td>None</td>\n",
       "      <td>NaN</td>\n",
       "      <td>NaN</td>\n",
       "      <td>NaN</td>\n",
       "      <td>NaN</td>\n",
       "      <td>4.955639e+14</td>\n",
       "      <td>1.945183</td>\n",
       "      <td>1.389599e+07</td>\n",
       "      <td>2.226126e+07</td>\n",
       "      <td>1.277452</td>\n",
       "      <td>1.631884</td>\n",
       "      <td>0.176644</td>\n",
       "      <td>0.105839</td>\n",
       "      <td>2.055481</td>\n",
       "      <td>2.205204</td>\n",
       "      <td>NaN</td>\n",
       "    </tr>\n",
       "    <tr>\n",
       "      <th>2130</th>\n",
       "      <td>20240806_230924</td>\n",
       "      <td>2024-08-07 03:05:29</td>\n",
       "      <td>xgboost_regressor</td>\n",
       "      <td>regression</td>\n",
       "      <td>large_productions</td>\n",
       "      <td>random_search</td>\n",
       "      <td>False</td>\n",
       "      <td>complex</td>\n",
       "      <td>RobustScaler</td>\n",
       "      <td>0.027866</td>\n",
       "      <td>477.792208</td>\n",
       "      <td>None</td>\n",
       "      <td>NaN</td>\n",
       "      <td>NaN</td>\n",
       "      <td>NaN</td>\n",
       "      <td>NaN</td>\n",
       "      <td>4.281868e+16</td>\n",
       "      <td>4.367213</td>\n",
       "      <td>1.059003e+08</td>\n",
       "      <td>2.069268e+08</td>\n",
       "      <td>1.029646</td>\n",
       "      <td>1.060172</td>\n",
       "      <td>0.483034</td>\n",
       "      <td>0.216696</td>\n",
       "      <td>4.854143</td>\n",
       "      <td>5.949208</td>\n",
       "      <td>NaN</td>\n",
       "    </tr>\n",
       "    <tr>\n",
       "      <th>2192</th>\n",
       "      <td>20240806_230924</td>\n",
       "      <td>2024-08-07 07:04:16</td>\n",
       "      <td>dummy_regressor</td>\n",
       "      <td>regression</td>\n",
       "      <td>small_productions</td>\n",
       "      <td>random_search</td>\n",
       "      <td>True</td>\n",
       "      <td>none</td>\n",
       "      <td>RobustScaler</td>\n",
       "      <td>0.159309</td>\n",
       "      <td>0.704337</td>\n",
       "      <td>None</td>\n",
       "      <td>NaN</td>\n",
       "      <td>NaN</td>\n",
       "      <td>NaN</td>\n",
       "      <td>NaN</td>\n",
       "      <td>7.406959e+14</td>\n",
       "      <td>3.826276</td>\n",
       "      <td>1.647679e+07</td>\n",
       "      <td>2.721573e+07</td>\n",
       "      <td>1.592469</td>\n",
       "      <td>2.535959</td>\n",
       "      <td>-0.230631</td>\n",
       "      <td>0.069343</td>\n",
       "      <td>3.954502</td>\n",
       "      <td>4.165196</td>\n",
       "      <td>NaN</td>\n",
       "    </tr>\n",
       "    <tr>\n",
       "      <th>2300</th>\n",
       "      <td>20240806_230924</td>\n",
       "      <td>2024-08-07 02:57:00</td>\n",
       "      <td>random_forest_regressor</td>\n",
       "      <td>regression</td>\n",
       "      <td>large_productions</td>\n",
       "      <td>random_search</td>\n",
       "      <td>False</td>\n",
       "      <td>complex</td>\n",
       "      <td>StandardScaler</td>\n",
       "      <td>0.037304</td>\n",
       "      <td>1143.638252</td>\n",
       "      <td>None</td>\n",
       "      <td>NaN</td>\n",
       "      <td>NaN</td>\n",
       "      <td>NaN</td>\n",
       "      <td>NaN</td>\n",
       "      <td>4.095737e+16</td>\n",
       "      <td>2.622140</td>\n",
       "      <td>1.044580e+08</td>\n",
       "      <td>2.023793e+08</td>\n",
       "      <td>1.018054</td>\n",
       "      <td>1.036433</td>\n",
       "      <td>0.505506</td>\n",
       "      <td>0.220249</td>\n",
       "      <td>3.029718</td>\n",
       "      <td>3.525503</td>\n",
       "      <td>NaN</td>\n",
       "    </tr>\n",
       "    <tr>\n",
       "      <th>2475</th>\n",
       "      <td>20240806_230924</td>\n",
       "      <td>2024-08-07 01:06:57</td>\n",
       "      <td>random_forest_regressor</td>\n",
       "      <td>regression</td>\n",
       "      <td>small_productions</td>\n",
       "      <td>random_search</td>\n",
       "      <td>False</td>\n",
       "      <td>none</td>\n",
       "      <td>StandardScaler</td>\n",
       "      <td>0.169734</td>\n",
       "      <td>157.194483</td>\n",
       "      <td>None</td>\n",
       "      <td>NaN</td>\n",
       "      <td>NaN</td>\n",
       "      <td>NaN</td>\n",
       "      <td>NaN</td>\n",
       "      <td>2.671700e+15</td>\n",
       "      <td>1629.522790</td>\n",
       "      <td>1.549534e+07</td>\n",
       "      <td>5.168849e+07</td>\n",
       "      <td>1.858385</td>\n",
       "      <td>3.453593</td>\n",
       "      <td>0.288980</td>\n",
       "      <td>0.089404</td>\n",
       "      <td>1694.028623</td>\n",
       "      <td>1850.041335</td>\n",
       "      <td>NaN</td>\n",
       "    </tr>\n",
       "    <tr>\n",
       "      <th>2502</th>\n",
       "      <td>20240806_230924</td>\n",
       "      <td>2024-08-07 01:04:20</td>\n",
       "      <td>dummy_regressor</td>\n",
       "      <td>regression</td>\n",
       "      <td>small_productions</td>\n",
       "      <td>random_search</td>\n",
       "      <td>False</td>\n",
       "      <td>none</td>\n",
       "      <td>RobustScaler</td>\n",
       "      <td>0.028573</td>\n",
       "      <td>0.883237</td>\n",
       "      <td>None</td>\n",
       "      <td>NaN</td>\n",
       "      <td>NaN</td>\n",
       "      <td>NaN</td>\n",
       "      <td>NaN</td>\n",
       "      <td>4.029149e+15</td>\n",
       "      <td>88321.586502</td>\n",
       "      <td>2.113590e+07</td>\n",
       "      <td>6.347558e+07</td>\n",
       "      <td>3.074882</td>\n",
       "      <td>9.454899</td>\n",
       "      <td>-0.072278</td>\n",
       "      <td>0.077815</td>\n",
       "      <td>92776.063321</td>\n",
       "      <td>98424.779017</td>\n",
       "      <td>NaN</td>\n",
       "    </tr>\n",
       "    <tr>\n",
       "      <th>2682</th>\n",
       "      <td>20240806_230924</td>\n",
       "      <td>2024-08-07 07:06:05</td>\n",
       "      <td>xgboost_regressor</td>\n",
       "      <td>regression</td>\n",
       "      <td>small_productions</td>\n",
       "      <td>random_search</td>\n",
       "      <td>True</td>\n",
       "      <td>none</td>\n",
       "      <td>StandardScaler</td>\n",
       "      <td>0.169734</td>\n",
       "      <td>25.620338</td>\n",
       "      <td>None</td>\n",
       "      <td>NaN</td>\n",
       "      <td>NaN</td>\n",
       "      <td>NaN</td>\n",
       "      <td>NaN</td>\n",
       "      <td>4.937757e+14</td>\n",
       "      <td>2.121351</td>\n",
       "      <td>1.426493e+07</td>\n",
       "      <td>2.222106e+07</td>\n",
       "      <td>1.332020</td>\n",
       "      <td>1.774277</td>\n",
       "      <td>0.179615</td>\n",
       "      <td>0.120438</td>\n",
       "      <td>2.267055</td>\n",
       "      <td>2.463546</td>\n",
       "      <td>NaN</td>\n",
       "    </tr>\n",
       "    <tr>\n",
       "      <th>2887</th>\n",
       "      <td>20240806_230924</td>\n",
       "      <td>2024-08-07 01:07:58</td>\n",
       "      <td>xgboost_regressor</td>\n",
       "      <td>regression</td>\n",
       "      <td>small_productions</td>\n",
       "      <td>random_search</td>\n",
       "      <td>False</td>\n",
       "      <td>none</td>\n",
       "      <td>MinMaxScaler</td>\n",
       "      <td>0.081791</td>\n",
       "      <td>58.838922</td>\n",
       "      <td>None</td>\n",
       "      <td>NaN</td>\n",
       "      <td>NaN</td>\n",
       "      <td>NaN</td>\n",
       "      <td>NaN</td>\n",
       "      <td>2.568911e+15</td>\n",
       "      <td>5961.204966</td>\n",
       "      <td>1.624560e+07</td>\n",
       "      <td>5.068443e+07</td>\n",
       "      <td>1.936908</td>\n",
       "      <td>3.751614</td>\n",
       "      <td>0.316336</td>\n",
       "      <td>0.119205</td>\n",
       "      <td>6395.321360</td>\n",
       "      <td>7087.708295</td>\n",
       "      <td>NaN</td>\n",
       "    </tr>\n",
       "    <tr>\n",
       "      <th>2899</th>\n",
       "      <td>20240806_230924</td>\n",
       "      <td>2024-08-07 07:05:40</td>\n",
       "      <td>decision_tree_regressor</td>\n",
       "      <td>regression</td>\n",
       "      <td>small_productions</td>\n",
       "      <td>random_search</td>\n",
       "      <td>True</td>\n",
       "      <td>none</td>\n",
       "      <td>MinMaxScaler</td>\n",
       "      <td>0.093989</td>\n",
       "      <td>0.856859</td>\n",
       "      <td>None</td>\n",
       "      <td>NaN</td>\n",
       "      <td>NaN</td>\n",
       "      <td>NaN</td>\n",
       "      <td>NaN</td>\n",
       "      <td>5.230749e+14</td>\n",
       "      <td>1.858029</td>\n",
       "      <td>1.437206e+07</td>\n",
       "      <td>2.287083e+07</td>\n",
       "      <td>1.341286</td>\n",
       "      <td>1.799048</td>\n",
       "      <td>0.130936</td>\n",
       "      <td>0.109489</td>\n",
       "      <td>1.940824</td>\n",
       "      <td>2.160223</td>\n",
       "      <td>NaN</td>\n",
       "    </tr>\n",
       "  </tbody>\n",
       "</table>\n",
       "</div>"
      ],
      "text/plain": [
       "               run_id           timestamp               model_type  \\\n",
       "566   20240806_230924 2024-08-07 02:57:31  decision_tree_regressor   \n",
       "1128  20240806_230924 2024-08-07 01:06:59  decision_tree_regressor   \n",
       "1169  20240806_230924 2024-08-07 01:59:40       lightgbm_regressor   \n",
       "1540  20240806_230924 2024-08-07 07:05:39  random_forest_regressor   \n",
       "1737  20240806_230924 2024-08-07 02:37:56          dummy_regressor   \n",
       "1840  20240806_230924 2024-08-07 03:50:28       lightgbm_regressor   \n",
       "2045  20240806_230924 2024-08-07 07:34:10       lightgbm_regressor   \n",
       "2130  20240806_230924 2024-08-07 03:05:29        xgboost_regressor   \n",
       "2192  20240806_230924 2024-08-07 07:04:16          dummy_regressor   \n",
       "2300  20240806_230924 2024-08-07 02:57:00  random_forest_regressor   \n",
       "2475  20240806_230924 2024-08-07 01:06:57  random_forest_regressor   \n",
       "2502  20240806_230924 2024-08-07 01:04:20          dummy_regressor   \n",
       "2682  20240806_230924 2024-08-07 07:06:05        xgboost_regressor   \n",
       "2887  20240806_230924 2024-08-07 01:07:58        xgboost_regressor   \n",
       "2899  20240806_230924 2024-08-07 07:05:40  decision_tree_regressor   \n",
       "\n",
       "     problem_type       dataset_name      grid_type  has_outliers_removed  \\\n",
       "566    regression  large_productions  random_search                 False   \n",
       "1128   regression  small_productions  random_search                 False   \n",
       "1169   regression  small_productions  random_search                 False   \n",
       "1540   regression  small_productions  random_search                  True   \n",
       "1737   regression  large_productions  random_search                 False   \n",
       "1840   regression  large_productions  random_search                 False   \n",
       "2045   regression  small_productions  random_search                  True   \n",
       "2130   regression  large_productions  random_search                 False   \n",
       "2192   regression  small_productions  random_search                  True   \n",
       "2300   regression  large_productions  random_search                 False   \n",
       "2475   regression  small_productions  random_search                 False   \n",
       "2502   regression  small_productions  random_search                 False   \n",
       "2682   regression  small_productions  random_search                  True   \n",
       "2887   regression  small_productions  random_search                 False   \n",
       "2899   regression  small_productions  random_search                  True   \n",
       "\n",
       "     feature_engineering          scaler  variance_threshold     duration  \\\n",
       "566              complex    MinMaxScaler            0.052179    30.404493   \n",
       "1128                none    MinMaxScaler            0.038855     1.417774   \n",
       "1169                none    MinMaxScaler            0.126461  3102.059649   \n",
       "1540                none  StandardScaler            0.034991    82.666126   \n",
       "1737             complex    RobustScaler            0.028573    25.045260   \n",
       "1840             complex    MinMaxScaler            0.006878  2699.246889   \n",
       "2045                none    MinMaxScaler            0.122371  1684.474341   \n",
       "2130             complex    RobustScaler            0.027866   477.792208   \n",
       "2192                none    RobustScaler            0.159309     0.704337   \n",
       "2300             complex  StandardScaler            0.037304  1143.638252   \n",
       "2475                none  StandardScaler            0.169734   157.194483   \n",
       "2502                none    RobustScaler            0.028573     0.883237   \n",
       "2682                none  StandardScaler            0.169734    25.620338   \n",
       "2887                none    MinMaxScaler            0.081791    58.838922   \n",
       "2899                none    MinMaxScaler            0.093989     0.856859   \n",
       "\n",
       "     number_of_combinations  Accuracy  Precision  Recall  F1 Score  \\\n",
       "566                    None       NaN        NaN     NaN       NaN   \n",
       "1128                   None       NaN        NaN     NaN       NaN   \n",
       "1169                   None       NaN        NaN     NaN       NaN   \n",
       "1540                   None       NaN        NaN     NaN       NaN   \n",
       "1737                   None       NaN        NaN     NaN       NaN   \n",
       "1840                   None       NaN        NaN     NaN       NaN   \n",
       "2045                   None       NaN        NaN     NaN       NaN   \n",
       "2130                   None       NaN        NaN     NaN       NaN   \n",
       "2192                   None       NaN        NaN     NaN       NaN   \n",
       "2300                   None       NaN        NaN     NaN       NaN   \n",
       "2475                   None       NaN        NaN     NaN       NaN   \n",
       "2502                   None       NaN        NaN     NaN       NaN   \n",
       "2682                   None       NaN        NaN     NaN       NaN   \n",
       "2887                   None       NaN        NaN     NaN       NaN   \n",
       "2899                   None       NaN        NaN     NaN       NaN   \n",
       "\n",
       "               MSE          MAPE           MAE          RMSE     RMSLE  \\\n",
       "566   4.200325e+16      1.965304  1.124303e+08  2.049469e+08  1.098849   \n",
       "1128  2.806414e+15   3716.256048  1.657437e+07  5.297560e+07  2.058231   \n",
       "1169  2.715088e+15   1034.074529  1.618450e+07  5.210650e+07  1.901545   \n",
       "1540  5.250786e+14      1.819742  1.410932e+07  2.291459e+07  1.253378   \n",
       "1737  9.061588e+16     24.565887  1.588650e+08  3.010247e+08  1.464467   \n",
       "1840  4.284176e+16      4.328473  1.084042e+08  2.069825e+08  1.014492   \n",
       "2045  4.955639e+14      1.945183  1.389599e+07  2.226126e+07  1.277452   \n",
       "2130  4.281868e+16      4.367213  1.059003e+08  2.069268e+08  1.029646   \n",
       "2192  7.406959e+14      3.826276  1.647679e+07  2.721573e+07  1.592469   \n",
       "2300  4.095737e+16      2.622140  1.044580e+08  2.023793e+08  1.018054   \n",
       "2475  2.671700e+15   1629.522790  1.549534e+07  5.168849e+07  1.858385   \n",
       "2502  4.029149e+15  88321.586502  2.113590e+07  6.347558e+07  3.074882   \n",
       "2682  4.937757e+14      2.121351  1.426493e+07  2.222106e+07  1.332020   \n",
       "2887  2.568911e+15   5961.204966  1.624560e+07  5.068443e+07  1.936908   \n",
       "2899  5.230749e+14      1.858029  1.437206e+07  2.287083e+07  1.341286   \n",
       "\n",
       "          MSLE        R2  Threshold Probability Accuracy  Threshold MAPE  \\\n",
       "566   1.207470  0.492879                        0.206039        2.176849   \n",
       "1128  4.236316  0.253129                        0.104305     3951.790194   \n",
       "1169  3.615872  0.277433                        0.105960     1088.117787   \n",
       "1540  1.570957  0.127607                        0.091241        1.908518   \n",
       "1737  2.144663 -0.094040                        0.140320       26.290476   \n",
       "1840  1.029194  0.482755                        0.223801        4.848679   \n",
       "2045  1.631884  0.176644                        0.105839        2.055481   \n",
       "2130  1.060172  0.483034                        0.216696        4.854143   \n",
       "2192  2.535959 -0.230631                        0.069343        3.954502   \n",
       "2300  1.036433  0.505506                        0.220249        3.029718   \n",
       "2475  3.453593  0.288980                        0.089404     1694.028623   \n",
       "2502  9.454899 -0.072278                        0.077815    92776.063321   \n",
       "2682  1.774277  0.179615                        0.120438        2.267055   \n",
       "2887  3.751614  0.316336                        0.119205     6395.321360   \n",
       "2899  1.799048  0.130936                        0.109489        1.940824   \n",
       "\n",
       "      Threshold MAPE (25%)  ROC AUC Score  \n",
       "566               2.614239            NaN  \n",
       "1128           4283.604647            NaN  \n",
       "1169           1194.206955            NaN  \n",
       "1540              2.059519            NaN  \n",
       "1737             29.716493            NaN  \n",
       "1840              5.829596            NaN  \n",
       "2045              2.205204            NaN  \n",
       "2130              5.949208            NaN  \n",
       "2192              4.165196            NaN  \n",
       "2300              3.525503            NaN  \n",
       "2475           1850.041335            NaN  \n",
       "2502          98424.779017            NaN  \n",
       "2682              2.463546            NaN  \n",
       "2887           7087.708295            NaN  \n",
       "2899              2.160223            NaN  "
      ]
     },
     "execution_count": 40,
     "metadata": {},
     "output_type": "execute_result"
    }
   ],
   "source": [
    "plot_one_metric_of_different_datasets_per_feature_engineering_outliers_with_plotly(experiment_df, problem_type='regression', metric='R2', metric_agg='max')"
   ]
  },
  {
   "cell_type": "code",
   "execution_count": 41,
   "metadata": {},
   "outputs": [
    {
     "data": {
      "application/vnd.plotly.v1+json": {
       "config": {
        "plotlyServerURL": "https://plot.ly"
       },
       "data": [
        {
         "marker": {
          "color": "#000000",
          "size": 12,
          "symbol": "diamond"
         },
         "mode": "markers+text",
         "name": "dummy_regressor (Benchmark)",
         "text": [
          24.57
         ],
         "textfont": {
          "color": "#000000",
          "size": 10
         },
         "textposition": "top center",
         "type": "scatter",
         "x": [
          "complex_False"
         ],
         "y": [
          24.56588694127126
         ]
        },
        {
         "marker": {
          "color": "#66C2A5"
         },
         "name": "decision_tree_regressor",
         "text": [
          null,
          1.97,
          null,
          null
         ],
         "textfont": {
          "size": 10
         },
         "textposition": "outside",
         "type": "bar",
         "x": [
          "none_False",
          "complex_False",
          "none_True",
          "complex_True"
         ],
         "y": [
          null,
          1.9653043833583423,
          null,
          null
         ]
        },
        {
         "marker": {
          "color": "#8DA0CB"
         },
         "name": "lightgbm_regressor",
         "text": [
          null,
          4.33,
          null,
          null
         ],
         "textfont": {
          "size": 10
         },
         "textposition": "outside",
         "type": "bar",
         "x": [
          "none_False",
          "complex_False",
          "none_True",
          "complex_True"
         ],
         "y": [
          null,
          4.328472699811527,
          null,
          null
         ]
        },
        {
         "marker": {
          "color": "#E78AC3"
         },
         "name": "random_forest_regressor",
         "text": [
          null,
          2.62,
          null,
          null
         ],
         "textfont": {
          "size": 10
         },
         "textposition": "outside",
         "type": "bar",
         "x": [
          "none_False",
          "complex_False",
          "none_True",
          "complex_True"
         ],
         "y": [
          null,
          2.6221397401083486,
          null,
          null
         ]
        },
        {
         "marker": {
          "color": "#A6D854"
         },
         "name": "xgboost_regressor",
         "text": [
          null,
          4.37,
          null,
          null
         ],
         "textfont": {
          "size": 10
         },
         "textposition": "outside",
         "type": "bar",
         "x": [
          "none_False",
          "complex_False",
          "none_True",
          "complex_True"
         ],
         "y": [
          null,
          4.367212727043226,
          null,
          null
         ]
        }
       ],
       "layout": {
        "bargap": 0.15,
        "font": {
         "color": "#333333",
         "family": "Arial",
         "size": 12
        },
        "legend": {
         "orientation": "h",
         "x": 1,
         "xanchor": "right",
         "y": 1.02,
         "yanchor": "bottom"
        },
        "margin": {
         "b": 50,
         "l": 60,
         "r": 30,
         "t": 80
        },
        "plot_bgcolor": "white",
        "showlegend": true,
        "template": {
         "data": {
          "bar": [
           {
            "error_x": {
             "color": "#2a3f5f"
            },
            "error_y": {
             "color": "#2a3f5f"
            },
            "marker": {
             "line": {
              "color": "#E5ECF6",
              "width": 0.5
             },
             "pattern": {
              "fillmode": "overlay",
              "size": 10,
              "solidity": 0.2
             }
            },
            "type": "bar"
           }
          ],
          "barpolar": [
           {
            "marker": {
             "line": {
              "color": "#E5ECF6",
              "width": 0.5
             },
             "pattern": {
              "fillmode": "overlay",
              "size": 10,
              "solidity": 0.2
             }
            },
            "type": "barpolar"
           }
          ],
          "carpet": [
           {
            "aaxis": {
             "endlinecolor": "#2a3f5f",
             "gridcolor": "white",
             "linecolor": "white",
             "minorgridcolor": "white",
             "startlinecolor": "#2a3f5f"
            },
            "baxis": {
             "endlinecolor": "#2a3f5f",
             "gridcolor": "white",
             "linecolor": "white",
             "minorgridcolor": "white",
             "startlinecolor": "#2a3f5f"
            },
            "type": "carpet"
           }
          ],
          "choropleth": [
           {
            "colorbar": {
             "outlinewidth": 0,
             "ticks": ""
            },
            "type": "choropleth"
           }
          ],
          "contour": [
           {
            "colorbar": {
             "outlinewidth": 0,
             "ticks": ""
            },
            "colorscale": [
             [
              0,
              "#0d0887"
             ],
             [
              0.1111111111111111,
              "#46039f"
             ],
             [
              0.2222222222222222,
              "#7201a8"
             ],
             [
              0.3333333333333333,
              "#9c179e"
             ],
             [
              0.4444444444444444,
              "#bd3786"
             ],
             [
              0.5555555555555556,
              "#d8576b"
             ],
             [
              0.6666666666666666,
              "#ed7953"
             ],
             [
              0.7777777777777778,
              "#fb9f3a"
             ],
             [
              0.8888888888888888,
              "#fdca26"
             ],
             [
              1,
              "#f0f921"
             ]
            ],
            "type": "contour"
           }
          ],
          "contourcarpet": [
           {
            "colorbar": {
             "outlinewidth": 0,
             "ticks": ""
            },
            "type": "contourcarpet"
           }
          ],
          "heatmap": [
           {
            "colorbar": {
             "outlinewidth": 0,
             "ticks": ""
            },
            "colorscale": [
             [
              0,
              "#0d0887"
             ],
             [
              0.1111111111111111,
              "#46039f"
             ],
             [
              0.2222222222222222,
              "#7201a8"
             ],
             [
              0.3333333333333333,
              "#9c179e"
             ],
             [
              0.4444444444444444,
              "#bd3786"
             ],
             [
              0.5555555555555556,
              "#d8576b"
             ],
             [
              0.6666666666666666,
              "#ed7953"
             ],
             [
              0.7777777777777778,
              "#fb9f3a"
             ],
             [
              0.8888888888888888,
              "#fdca26"
             ],
             [
              1,
              "#f0f921"
             ]
            ],
            "type": "heatmap"
           }
          ],
          "heatmapgl": [
           {
            "colorbar": {
             "outlinewidth": 0,
             "ticks": ""
            },
            "colorscale": [
             [
              0,
              "#0d0887"
             ],
             [
              0.1111111111111111,
              "#46039f"
             ],
             [
              0.2222222222222222,
              "#7201a8"
             ],
             [
              0.3333333333333333,
              "#9c179e"
             ],
             [
              0.4444444444444444,
              "#bd3786"
             ],
             [
              0.5555555555555556,
              "#d8576b"
             ],
             [
              0.6666666666666666,
              "#ed7953"
             ],
             [
              0.7777777777777778,
              "#fb9f3a"
             ],
             [
              0.8888888888888888,
              "#fdca26"
             ],
             [
              1,
              "#f0f921"
             ]
            ],
            "type": "heatmapgl"
           }
          ],
          "histogram": [
           {
            "marker": {
             "pattern": {
              "fillmode": "overlay",
              "size": 10,
              "solidity": 0.2
             }
            },
            "type": "histogram"
           }
          ],
          "histogram2d": [
           {
            "colorbar": {
             "outlinewidth": 0,
             "ticks": ""
            },
            "colorscale": [
             [
              0,
              "#0d0887"
             ],
             [
              0.1111111111111111,
              "#46039f"
             ],
             [
              0.2222222222222222,
              "#7201a8"
             ],
             [
              0.3333333333333333,
              "#9c179e"
             ],
             [
              0.4444444444444444,
              "#bd3786"
             ],
             [
              0.5555555555555556,
              "#d8576b"
             ],
             [
              0.6666666666666666,
              "#ed7953"
             ],
             [
              0.7777777777777778,
              "#fb9f3a"
             ],
             [
              0.8888888888888888,
              "#fdca26"
             ],
             [
              1,
              "#f0f921"
             ]
            ],
            "type": "histogram2d"
           }
          ],
          "histogram2dcontour": [
           {
            "colorbar": {
             "outlinewidth": 0,
             "ticks": ""
            },
            "colorscale": [
             [
              0,
              "#0d0887"
             ],
             [
              0.1111111111111111,
              "#46039f"
             ],
             [
              0.2222222222222222,
              "#7201a8"
             ],
             [
              0.3333333333333333,
              "#9c179e"
             ],
             [
              0.4444444444444444,
              "#bd3786"
             ],
             [
              0.5555555555555556,
              "#d8576b"
             ],
             [
              0.6666666666666666,
              "#ed7953"
             ],
             [
              0.7777777777777778,
              "#fb9f3a"
             ],
             [
              0.8888888888888888,
              "#fdca26"
             ],
             [
              1,
              "#f0f921"
             ]
            ],
            "type": "histogram2dcontour"
           }
          ],
          "mesh3d": [
           {
            "colorbar": {
             "outlinewidth": 0,
             "ticks": ""
            },
            "type": "mesh3d"
           }
          ],
          "parcoords": [
           {
            "line": {
             "colorbar": {
              "outlinewidth": 0,
              "ticks": ""
             }
            },
            "type": "parcoords"
           }
          ],
          "pie": [
           {
            "automargin": true,
            "type": "pie"
           }
          ],
          "scatter": [
           {
            "fillpattern": {
             "fillmode": "overlay",
             "size": 10,
             "solidity": 0.2
            },
            "type": "scatter"
           }
          ],
          "scatter3d": [
           {
            "line": {
             "colorbar": {
              "outlinewidth": 0,
              "ticks": ""
             }
            },
            "marker": {
             "colorbar": {
              "outlinewidth": 0,
              "ticks": ""
             }
            },
            "type": "scatter3d"
           }
          ],
          "scattercarpet": [
           {
            "marker": {
             "colorbar": {
              "outlinewidth": 0,
              "ticks": ""
             }
            },
            "type": "scattercarpet"
           }
          ],
          "scattergeo": [
           {
            "marker": {
             "colorbar": {
              "outlinewidth": 0,
              "ticks": ""
             }
            },
            "type": "scattergeo"
           }
          ],
          "scattergl": [
           {
            "marker": {
             "colorbar": {
              "outlinewidth": 0,
              "ticks": ""
             }
            },
            "type": "scattergl"
           }
          ],
          "scattermapbox": [
           {
            "marker": {
             "colorbar": {
              "outlinewidth": 0,
              "ticks": ""
             }
            },
            "type": "scattermapbox"
           }
          ],
          "scatterpolar": [
           {
            "marker": {
             "colorbar": {
              "outlinewidth": 0,
              "ticks": ""
             }
            },
            "type": "scatterpolar"
           }
          ],
          "scatterpolargl": [
           {
            "marker": {
             "colorbar": {
              "outlinewidth": 0,
              "ticks": ""
             }
            },
            "type": "scatterpolargl"
           }
          ],
          "scatterternary": [
           {
            "marker": {
             "colorbar": {
              "outlinewidth": 0,
              "ticks": ""
             }
            },
            "type": "scatterternary"
           }
          ],
          "surface": [
           {
            "colorbar": {
             "outlinewidth": 0,
             "ticks": ""
            },
            "colorscale": [
             [
              0,
              "#0d0887"
             ],
             [
              0.1111111111111111,
              "#46039f"
             ],
             [
              0.2222222222222222,
              "#7201a8"
             ],
             [
              0.3333333333333333,
              "#9c179e"
             ],
             [
              0.4444444444444444,
              "#bd3786"
             ],
             [
              0.5555555555555556,
              "#d8576b"
             ],
             [
              0.6666666666666666,
              "#ed7953"
             ],
             [
              0.7777777777777778,
              "#fb9f3a"
             ],
             [
              0.8888888888888888,
              "#fdca26"
             ],
             [
              1,
              "#f0f921"
             ]
            ],
            "type": "surface"
           }
          ],
          "table": [
           {
            "cells": {
             "fill": {
              "color": "#EBF0F8"
             },
             "line": {
              "color": "white"
             }
            },
            "header": {
             "fill": {
              "color": "#C8D4E3"
             },
             "line": {
              "color": "white"
             }
            },
            "type": "table"
           }
          ]
         },
         "layout": {
          "annotationdefaults": {
           "arrowcolor": "#2a3f5f",
           "arrowhead": 0,
           "arrowwidth": 1
          },
          "autotypenumbers": "strict",
          "coloraxis": {
           "colorbar": {
            "outlinewidth": 0,
            "ticks": ""
           }
          },
          "colorscale": {
           "diverging": [
            [
             0,
             "#8e0152"
            ],
            [
             0.1,
             "#c51b7d"
            ],
            [
             0.2,
             "#de77ae"
            ],
            [
             0.3,
             "#f1b6da"
            ],
            [
             0.4,
             "#fde0ef"
            ],
            [
             0.5,
             "#f7f7f7"
            ],
            [
             0.6,
             "#e6f5d0"
            ],
            [
             0.7,
             "#b8e186"
            ],
            [
             0.8,
             "#7fbc41"
            ],
            [
             0.9,
             "#4d9221"
            ],
            [
             1,
             "#276419"
            ]
           ],
           "sequential": [
            [
             0,
             "#0d0887"
            ],
            [
             0.1111111111111111,
             "#46039f"
            ],
            [
             0.2222222222222222,
             "#7201a8"
            ],
            [
             0.3333333333333333,
             "#9c179e"
            ],
            [
             0.4444444444444444,
             "#bd3786"
            ],
            [
             0.5555555555555556,
             "#d8576b"
            ],
            [
             0.6666666666666666,
             "#ed7953"
            ],
            [
             0.7777777777777778,
             "#fb9f3a"
            ],
            [
             0.8888888888888888,
             "#fdca26"
            ],
            [
             1,
             "#f0f921"
            ]
           ],
           "sequentialminus": [
            [
             0,
             "#0d0887"
            ],
            [
             0.1111111111111111,
             "#46039f"
            ],
            [
             0.2222222222222222,
             "#7201a8"
            ],
            [
             0.3333333333333333,
             "#9c179e"
            ],
            [
             0.4444444444444444,
             "#bd3786"
            ],
            [
             0.5555555555555556,
             "#d8576b"
            ],
            [
             0.6666666666666666,
             "#ed7953"
            ],
            [
             0.7777777777777778,
             "#fb9f3a"
            ],
            [
             0.8888888888888888,
             "#fdca26"
            ],
            [
             1,
             "#f0f921"
            ]
           ]
          },
          "colorway": [
           "#636efa",
           "#EF553B",
           "#00cc96",
           "#ab63fa",
           "#FFA15A",
           "#19d3f3",
           "#FF6692",
           "#B6E880",
           "#FF97FF",
           "#FECB52"
          ],
          "font": {
           "color": "#2a3f5f"
          },
          "geo": {
           "bgcolor": "white",
           "lakecolor": "white",
           "landcolor": "#E5ECF6",
           "showlakes": true,
           "showland": true,
           "subunitcolor": "white"
          },
          "hoverlabel": {
           "align": "left"
          },
          "hovermode": "closest",
          "mapbox": {
           "style": "light"
          },
          "paper_bgcolor": "white",
          "plot_bgcolor": "#E5ECF6",
          "polar": {
           "angularaxis": {
            "gridcolor": "white",
            "linecolor": "white",
            "ticks": ""
           },
           "bgcolor": "#E5ECF6",
           "radialaxis": {
            "gridcolor": "white",
            "linecolor": "white",
            "ticks": ""
           }
          },
          "scene": {
           "xaxis": {
            "backgroundcolor": "#E5ECF6",
            "gridcolor": "white",
            "gridwidth": 2,
            "linecolor": "white",
            "showbackground": true,
            "ticks": "",
            "zerolinecolor": "white"
           },
           "yaxis": {
            "backgroundcolor": "#E5ECF6",
            "gridcolor": "white",
            "gridwidth": 2,
            "linecolor": "white",
            "showbackground": true,
            "ticks": "",
            "zerolinecolor": "white"
           },
           "zaxis": {
            "backgroundcolor": "#E5ECF6",
            "gridcolor": "white",
            "gridwidth": 2,
            "linecolor": "white",
            "showbackground": true,
            "ticks": "",
            "zerolinecolor": "white"
           }
          },
          "shapedefaults": {
           "line": {
            "color": "#2a3f5f"
           }
          },
          "ternary": {
           "aaxis": {
            "gridcolor": "white",
            "linecolor": "white",
            "ticks": ""
           },
           "baxis": {
            "gridcolor": "white",
            "linecolor": "white",
            "ticks": ""
           },
           "bgcolor": "#E5ECF6",
           "caxis": {
            "gridcolor": "white",
            "linecolor": "white",
            "ticks": ""
           }
          },
          "title": {
           "x": 0.05
          },
          "xaxis": {
           "automargin": true,
           "gridcolor": "white",
           "linecolor": "white",
           "ticks": "",
           "title": {
            "standoff": 15
           },
           "zerolinecolor": "white",
           "zerolinewidth": 2
          },
          "yaxis": {
           "automargin": true,
           "gridcolor": "white",
           "linecolor": "white",
           "ticks": "",
           "title": {
            "standoff": 15
           },
           "zerolinecolor": "white",
           "zerolinewidth": 2
          }
         }
        },
        "title": {
         "font": {
          "color": "#333333",
          "size": 20
         },
         "text": "MAPE Comparison for large_productions",
         "x": 0.5,
         "xanchor": "center",
         "y": 0.95,
         "yanchor": "top"
        },
        "xaxis": {
         "gridcolor": "#E5E5E5",
         "showgrid": true,
         "tickangle": 0,
         "tickfont": {
          "size": 10
         },
         "ticktext": [
          "FE: none<br>With Outliers",
          "FE: none<br>No Outliers",
          "FE: complex<br>With Outliers",
          "FE: complex<br>No Outliers"
         ],
         "tickvals": [
          "none_False",
          "none_True",
          "complex_False",
          "complex_True"
         ],
         "title": {
          "text": "Feature Engineering and Outlier Removal"
         }
        },
        "yaxis": {
         "gridcolor": "#E5E5E5",
         "showgrid": true,
         "tickfont": {
          "size": 10
         },
         "title": {
          "text": "MAPE Value"
         },
         "type": "linear",
         "zeroline": true,
         "zerolinecolor": "#E5E5E5"
        }
       }
      }
     },
     "metadata": {},
     "output_type": "display_data"
    },
    {
     "data": {
      "application/vnd.plotly.v1+json": {
       "config": {
        "plotlyServerURL": "https://plot.ly"
       },
       "data": [
        {
         "marker": {
          "color": "#000000",
          "size": 12,
          "symbol": "diamond"
         },
         "mode": "markers+text",
         "name": "dummy_regressor (Benchmark)",
         "text": [
          88321.59,
          3.83
         ],
         "textfont": {
          "color": "#000000",
          "size": 10
         },
         "textposition": "top center",
         "type": "scatter",
         "x": [
          "none_False",
          "none_True"
         ],
         "y": [
          88321.58650205661,
          3.8262764439697654
         ]
        },
        {
         "marker": {
          "color": "#66C2A5"
         },
         "name": "decision_tree_regressor",
         "text": [
          3716.26,
          null,
          1.86,
          null
         ],
         "textfont": {
          "size": 10
         },
         "textposition": "outside",
         "type": "bar",
         "x": [
          "none_False",
          "complex_False",
          "none_True",
          "complex_True"
         ],
         "y": [
          3716.2560481123523,
          null,
          1.8580286799317023,
          null
         ]
        },
        {
         "marker": {
          "color": "#8DA0CB"
         },
         "name": "lightgbm_regressor",
         "text": [
          1034.07,
          null,
          1.95,
          null
         ],
         "textfont": {
          "size": 10
         },
         "textposition": "outside",
         "type": "bar",
         "x": [
          "none_False",
          "complex_False",
          "none_True",
          "complex_True"
         ],
         "y": [
          1034.07452899667,
          null,
          1.9451829940816665,
          null
         ]
        },
        {
         "marker": {
          "color": "#E78AC3"
         },
         "name": "random_forest_regressor",
         "text": [
          1629.52,
          null,
          1.82,
          null
         ],
         "textfont": {
          "size": 10
         },
         "textposition": "outside",
         "type": "bar",
         "x": [
          "none_False",
          "complex_False",
          "none_True",
          "complex_True"
         ],
         "y": [
          1629.522790420113,
          null,
          1.8197421048017395,
          null
         ]
        },
        {
         "marker": {
          "color": "#A6D854"
         },
         "name": "xgboost_regressor",
         "text": [
          5961.2,
          null,
          2.12,
          null
         ],
         "textfont": {
          "size": 10
         },
         "textposition": "outside",
         "type": "bar",
         "x": [
          "none_False",
          "complex_False",
          "none_True",
          "complex_True"
         ],
         "y": [
          5961.204966292373,
          null,
          2.1213506376872577,
          null
         ]
        }
       ],
       "layout": {
        "bargap": 0.15,
        "font": {
         "color": "#333333",
         "family": "Arial",
         "size": 12
        },
        "legend": {
         "orientation": "h",
         "x": 1,
         "xanchor": "right",
         "y": 1.02,
         "yanchor": "bottom"
        },
        "margin": {
         "b": 50,
         "l": 60,
         "r": 30,
         "t": 80
        },
        "plot_bgcolor": "white",
        "showlegend": true,
        "template": {
         "data": {
          "bar": [
           {
            "error_x": {
             "color": "#2a3f5f"
            },
            "error_y": {
             "color": "#2a3f5f"
            },
            "marker": {
             "line": {
              "color": "#E5ECF6",
              "width": 0.5
             },
             "pattern": {
              "fillmode": "overlay",
              "size": 10,
              "solidity": 0.2
             }
            },
            "type": "bar"
           }
          ],
          "barpolar": [
           {
            "marker": {
             "line": {
              "color": "#E5ECF6",
              "width": 0.5
             },
             "pattern": {
              "fillmode": "overlay",
              "size": 10,
              "solidity": 0.2
             }
            },
            "type": "barpolar"
           }
          ],
          "carpet": [
           {
            "aaxis": {
             "endlinecolor": "#2a3f5f",
             "gridcolor": "white",
             "linecolor": "white",
             "minorgridcolor": "white",
             "startlinecolor": "#2a3f5f"
            },
            "baxis": {
             "endlinecolor": "#2a3f5f",
             "gridcolor": "white",
             "linecolor": "white",
             "minorgridcolor": "white",
             "startlinecolor": "#2a3f5f"
            },
            "type": "carpet"
           }
          ],
          "choropleth": [
           {
            "colorbar": {
             "outlinewidth": 0,
             "ticks": ""
            },
            "type": "choropleth"
           }
          ],
          "contour": [
           {
            "colorbar": {
             "outlinewidth": 0,
             "ticks": ""
            },
            "colorscale": [
             [
              0,
              "#0d0887"
             ],
             [
              0.1111111111111111,
              "#46039f"
             ],
             [
              0.2222222222222222,
              "#7201a8"
             ],
             [
              0.3333333333333333,
              "#9c179e"
             ],
             [
              0.4444444444444444,
              "#bd3786"
             ],
             [
              0.5555555555555556,
              "#d8576b"
             ],
             [
              0.6666666666666666,
              "#ed7953"
             ],
             [
              0.7777777777777778,
              "#fb9f3a"
             ],
             [
              0.8888888888888888,
              "#fdca26"
             ],
             [
              1,
              "#f0f921"
             ]
            ],
            "type": "contour"
           }
          ],
          "contourcarpet": [
           {
            "colorbar": {
             "outlinewidth": 0,
             "ticks": ""
            },
            "type": "contourcarpet"
           }
          ],
          "heatmap": [
           {
            "colorbar": {
             "outlinewidth": 0,
             "ticks": ""
            },
            "colorscale": [
             [
              0,
              "#0d0887"
             ],
             [
              0.1111111111111111,
              "#46039f"
             ],
             [
              0.2222222222222222,
              "#7201a8"
             ],
             [
              0.3333333333333333,
              "#9c179e"
             ],
             [
              0.4444444444444444,
              "#bd3786"
             ],
             [
              0.5555555555555556,
              "#d8576b"
             ],
             [
              0.6666666666666666,
              "#ed7953"
             ],
             [
              0.7777777777777778,
              "#fb9f3a"
             ],
             [
              0.8888888888888888,
              "#fdca26"
             ],
             [
              1,
              "#f0f921"
             ]
            ],
            "type": "heatmap"
           }
          ],
          "heatmapgl": [
           {
            "colorbar": {
             "outlinewidth": 0,
             "ticks": ""
            },
            "colorscale": [
             [
              0,
              "#0d0887"
             ],
             [
              0.1111111111111111,
              "#46039f"
             ],
             [
              0.2222222222222222,
              "#7201a8"
             ],
             [
              0.3333333333333333,
              "#9c179e"
             ],
             [
              0.4444444444444444,
              "#bd3786"
             ],
             [
              0.5555555555555556,
              "#d8576b"
             ],
             [
              0.6666666666666666,
              "#ed7953"
             ],
             [
              0.7777777777777778,
              "#fb9f3a"
             ],
             [
              0.8888888888888888,
              "#fdca26"
             ],
             [
              1,
              "#f0f921"
             ]
            ],
            "type": "heatmapgl"
           }
          ],
          "histogram": [
           {
            "marker": {
             "pattern": {
              "fillmode": "overlay",
              "size": 10,
              "solidity": 0.2
             }
            },
            "type": "histogram"
           }
          ],
          "histogram2d": [
           {
            "colorbar": {
             "outlinewidth": 0,
             "ticks": ""
            },
            "colorscale": [
             [
              0,
              "#0d0887"
             ],
             [
              0.1111111111111111,
              "#46039f"
             ],
             [
              0.2222222222222222,
              "#7201a8"
             ],
             [
              0.3333333333333333,
              "#9c179e"
             ],
             [
              0.4444444444444444,
              "#bd3786"
             ],
             [
              0.5555555555555556,
              "#d8576b"
             ],
             [
              0.6666666666666666,
              "#ed7953"
             ],
             [
              0.7777777777777778,
              "#fb9f3a"
             ],
             [
              0.8888888888888888,
              "#fdca26"
             ],
             [
              1,
              "#f0f921"
             ]
            ],
            "type": "histogram2d"
           }
          ],
          "histogram2dcontour": [
           {
            "colorbar": {
             "outlinewidth": 0,
             "ticks": ""
            },
            "colorscale": [
             [
              0,
              "#0d0887"
             ],
             [
              0.1111111111111111,
              "#46039f"
             ],
             [
              0.2222222222222222,
              "#7201a8"
             ],
             [
              0.3333333333333333,
              "#9c179e"
             ],
             [
              0.4444444444444444,
              "#bd3786"
             ],
             [
              0.5555555555555556,
              "#d8576b"
             ],
             [
              0.6666666666666666,
              "#ed7953"
             ],
             [
              0.7777777777777778,
              "#fb9f3a"
             ],
             [
              0.8888888888888888,
              "#fdca26"
             ],
             [
              1,
              "#f0f921"
             ]
            ],
            "type": "histogram2dcontour"
           }
          ],
          "mesh3d": [
           {
            "colorbar": {
             "outlinewidth": 0,
             "ticks": ""
            },
            "type": "mesh3d"
           }
          ],
          "parcoords": [
           {
            "line": {
             "colorbar": {
              "outlinewidth": 0,
              "ticks": ""
             }
            },
            "type": "parcoords"
           }
          ],
          "pie": [
           {
            "automargin": true,
            "type": "pie"
           }
          ],
          "scatter": [
           {
            "fillpattern": {
             "fillmode": "overlay",
             "size": 10,
             "solidity": 0.2
            },
            "type": "scatter"
           }
          ],
          "scatter3d": [
           {
            "line": {
             "colorbar": {
              "outlinewidth": 0,
              "ticks": ""
             }
            },
            "marker": {
             "colorbar": {
              "outlinewidth": 0,
              "ticks": ""
             }
            },
            "type": "scatter3d"
           }
          ],
          "scattercarpet": [
           {
            "marker": {
             "colorbar": {
              "outlinewidth": 0,
              "ticks": ""
             }
            },
            "type": "scattercarpet"
           }
          ],
          "scattergeo": [
           {
            "marker": {
             "colorbar": {
              "outlinewidth": 0,
              "ticks": ""
             }
            },
            "type": "scattergeo"
           }
          ],
          "scattergl": [
           {
            "marker": {
             "colorbar": {
              "outlinewidth": 0,
              "ticks": ""
             }
            },
            "type": "scattergl"
           }
          ],
          "scattermapbox": [
           {
            "marker": {
             "colorbar": {
              "outlinewidth": 0,
              "ticks": ""
             }
            },
            "type": "scattermapbox"
           }
          ],
          "scatterpolar": [
           {
            "marker": {
             "colorbar": {
              "outlinewidth": 0,
              "ticks": ""
             }
            },
            "type": "scatterpolar"
           }
          ],
          "scatterpolargl": [
           {
            "marker": {
             "colorbar": {
              "outlinewidth": 0,
              "ticks": ""
             }
            },
            "type": "scatterpolargl"
           }
          ],
          "scatterternary": [
           {
            "marker": {
             "colorbar": {
              "outlinewidth": 0,
              "ticks": ""
             }
            },
            "type": "scatterternary"
           }
          ],
          "surface": [
           {
            "colorbar": {
             "outlinewidth": 0,
             "ticks": ""
            },
            "colorscale": [
             [
              0,
              "#0d0887"
             ],
             [
              0.1111111111111111,
              "#46039f"
             ],
             [
              0.2222222222222222,
              "#7201a8"
             ],
             [
              0.3333333333333333,
              "#9c179e"
             ],
             [
              0.4444444444444444,
              "#bd3786"
             ],
             [
              0.5555555555555556,
              "#d8576b"
             ],
             [
              0.6666666666666666,
              "#ed7953"
             ],
             [
              0.7777777777777778,
              "#fb9f3a"
             ],
             [
              0.8888888888888888,
              "#fdca26"
             ],
             [
              1,
              "#f0f921"
             ]
            ],
            "type": "surface"
           }
          ],
          "table": [
           {
            "cells": {
             "fill": {
              "color": "#EBF0F8"
             },
             "line": {
              "color": "white"
             }
            },
            "header": {
             "fill": {
              "color": "#C8D4E3"
             },
             "line": {
              "color": "white"
             }
            },
            "type": "table"
           }
          ]
         },
         "layout": {
          "annotationdefaults": {
           "arrowcolor": "#2a3f5f",
           "arrowhead": 0,
           "arrowwidth": 1
          },
          "autotypenumbers": "strict",
          "coloraxis": {
           "colorbar": {
            "outlinewidth": 0,
            "ticks": ""
           }
          },
          "colorscale": {
           "diverging": [
            [
             0,
             "#8e0152"
            ],
            [
             0.1,
             "#c51b7d"
            ],
            [
             0.2,
             "#de77ae"
            ],
            [
             0.3,
             "#f1b6da"
            ],
            [
             0.4,
             "#fde0ef"
            ],
            [
             0.5,
             "#f7f7f7"
            ],
            [
             0.6,
             "#e6f5d0"
            ],
            [
             0.7,
             "#b8e186"
            ],
            [
             0.8,
             "#7fbc41"
            ],
            [
             0.9,
             "#4d9221"
            ],
            [
             1,
             "#276419"
            ]
           ],
           "sequential": [
            [
             0,
             "#0d0887"
            ],
            [
             0.1111111111111111,
             "#46039f"
            ],
            [
             0.2222222222222222,
             "#7201a8"
            ],
            [
             0.3333333333333333,
             "#9c179e"
            ],
            [
             0.4444444444444444,
             "#bd3786"
            ],
            [
             0.5555555555555556,
             "#d8576b"
            ],
            [
             0.6666666666666666,
             "#ed7953"
            ],
            [
             0.7777777777777778,
             "#fb9f3a"
            ],
            [
             0.8888888888888888,
             "#fdca26"
            ],
            [
             1,
             "#f0f921"
            ]
           ],
           "sequentialminus": [
            [
             0,
             "#0d0887"
            ],
            [
             0.1111111111111111,
             "#46039f"
            ],
            [
             0.2222222222222222,
             "#7201a8"
            ],
            [
             0.3333333333333333,
             "#9c179e"
            ],
            [
             0.4444444444444444,
             "#bd3786"
            ],
            [
             0.5555555555555556,
             "#d8576b"
            ],
            [
             0.6666666666666666,
             "#ed7953"
            ],
            [
             0.7777777777777778,
             "#fb9f3a"
            ],
            [
             0.8888888888888888,
             "#fdca26"
            ],
            [
             1,
             "#f0f921"
            ]
           ]
          },
          "colorway": [
           "#636efa",
           "#EF553B",
           "#00cc96",
           "#ab63fa",
           "#FFA15A",
           "#19d3f3",
           "#FF6692",
           "#B6E880",
           "#FF97FF",
           "#FECB52"
          ],
          "font": {
           "color": "#2a3f5f"
          },
          "geo": {
           "bgcolor": "white",
           "lakecolor": "white",
           "landcolor": "#E5ECF6",
           "showlakes": true,
           "showland": true,
           "subunitcolor": "white"
          },
          "hoverlabel": {
           "align": "left"
          },
          "hovermode": "closest",
          "mapbox": {
           "style": "light"
          },
          "paper_bgcolor": "white",
          "plot_bgcolor": "#E5ECF6",
          "polar": {
           "angularaxis": {
            "gridcolor": "white",
            "linecolor": "white",
            "ticks": ""
           },
           "bgcolor": "#E5ECF6",
           "radialaxis": {
            "gridcolor": "white",
            "linecolor": "white",
            "ticks": ""
           }
          },
          "scene": {
           "xaxis": {
            "backgroundcolor": "#E5ECF6",
            "gridcolor": "white",
            "gridwidth": 2,
            "linecolor": "white",
            "showbackground": true,
            "ticks": "",
            "zerolinecolor": "white"
           },
           "yaxis": {
            "backgroundcolor": "#E5ECF6",
            "gridcolor": "white",
            "gridwidth": 2,
            "linecolor": "white",
            "showbackground": true,
            "ticks": "",
            "zerolinecolor": "white"
           },
           "zaxis": {
            "backgroundcolor": "#E5ECF6",
            "gridcolor": "white",
            "gridwidth": 2,
            "linecolor": "white",
            "showbackground": true,
            "ticks": "",
            "zerolinecolor": "white"
           }
          },
          "shapedefaults": {
           "line": {
            "color": "#2a3f5f"
           }
          },
          "ternary": {
           "aaxis": {
            "gridcolor": "white",
            "linecolor": "white",
            "ticks": ""
           },
           "baxis": {
            "gridcolor": "white",
            "linecolor": "white",
            "ticks": ""
           },
           "bgcolor": "#E5ECF6",
           "caxis": {
            "gridcolor": "white",
            "linecolor": "white",
            "ticks": ""
           }
          },
          "title": {
           "x": 0.05
          },
          "xaxis": {
           "automargin": true,
           "gridcolor": "white",
           "linecolor": "white",
           "ticks": "",
           "title": {
            "standoff": 15
           },
           "zerolinecolor": "white",
           "zerolinewidth": 2
          },
          "yaxis": {
           "automargin": true,
           "gridcolor": "white",
           "linecolor": "white",
           "ticks": "",
           "title": {
            "standoff": 15
           },
           "zerolinecolor": "white",
           "zerolinewidth": 2
          }
         }
        },
        "title": {
         "font": {
          "color": "#333333",
          "size": 20
         },
         "text": "MAPE Comparison for small_productions",
         "x": 0.5,
         "xanchor": "center",
         "y": 0.95,
         "yanchor": "top"
        },
        "xaxis": {
         "gridcolor": "#E5E5E5",
         "showgrid": true,
         "tickangle": 0,
         "tickfont": {
          "size": 10
         },
         "ticktext": [
          "FE: none<br>With Outliers",
          "FE: none<br>No Outliers",
          "FE: complex<br>With Outliers",
          "FE: complex<br>No Outliers"
         ],
         "tickvals": [
          "none_False",
          "none_True",
          "complex_False",
          "complex_True"
         ],
         "title": {
          "text": "Feature Engineering and Outlier Removal"
         }
        },
        "yaxis": {
         "gridcolor": "#E5E5E5",
         "showgrid": true,
         "tickfont": {
          "size": 10
         },
         "title": {
          "text": "MAPE Value"
         },
         "type": "log",
         "zeroline": true,
         "zerolinecolor": "#E5E5E5"
        }
       }
      }
     },
     "metadata": {},
     "output_type": "display_data"
    },
    {
     "data": {
      "text/html": [
       "<div>\n",
       "<style scoped>\n",
       "    .dataframe tbody tr th:only-of-type {\n",
       "        vertical-align: middle;\n",
       "    }\n",
       "\n",
       "    .dataframe tbody tr th {\n",
       "        vertical-align: top;\n",
       "    }\n",
       "\n",
       "    .dataframe thead th {\n",
       "        text-align: right;\n",
       "    }\n",
       "</style>\n",
       "<table border=\"1\" class=\"dataframe\">\n",
       "  <thead>\n",
       "    <tr style=\"text-align: right;\">\n",
       "      <th></th>\n",
       "      <th>run_id</th>\n",
       "      <th>timestamp</th>\n",
       "      <th>model_type</th>\n",
       "      <th>problem_type</th>\n",
       "      <th>dataset_name</th>\n",
       "      <th>grid_type</th>\n",
       "      <th>has_outliers_removed</th>\n",
       "      <th>feature_engineering</th>\n",
       "      <th>scaler</th>\n",
       "      <th>variance_threshold</th>\n",
       "      <th>duration</th>\n",
       "      <th>number_of_combinations</th>\n",
       "      <th>Accuracy</th>\n",
       "      <th>Precision</th>\n",
       "      <th>Recall</th>\n",
       "      <th>F1 Score</th>\n",
       "      <th>MSE</th>\n",
       "      <th>MAPE</th>\n",
       "      <th>MAE</th>\n",
       "      <th>RMSE</th>\n",
       "      <th>RMSLE</th>\n",
       "      <th>MSLE</th>\n",
       "      <th>R2</th>\n",
       "      <th>Threshold Probability Accuracy</th>\n",
       "      <th>Threshold MAPE</th>\n",
       "      <th>Threshold MAPE (25%)</th>\n",
       "      <th>ROC AUC Score</th>\n",
       "    </tr>\n",
       "  </thead>\n",
       "  <tbody>\n",
       "    <tr>\n",
       "      <th>566</th>\n",
       "      <td>20240806_230924</td>\n",
       "      <td>2024-08-07 02:57:31</td>\n",
       "      <td>decision_tree_regressor</td>\n",
       "      <td>regression</td>\n",
       "      <td>large_productions</td>\n",
       "      <td>random_search</td>\n",
       "      <td>False</td>\n",
       "      <td>complex</td>\n",
       "      <td>MinMaxScaler</td>\n",
       "      <td>0.052179</td>\n",
       "      <td>30.404493</td>\n",
       "      <td>None</td>\n",
       "      <td>NaN</td>\n",
       "      <td>NaN</td>\n",
       "      <td>NaN</td>\n",
       "      <td>NaN</td>\n",
       "      <td>4.200325e+16</td>\n",
       "      <td>1.965304</td>\n",
       "      <td>1.124303e+08</td>\n",
       "      <td>2.049469e+08</td>\n",
       "      <td>1.098849</td>\n",
       "      <td>1.207470</td>\n",
       "      <td>0.492879</td>\n",
       "      <td>0.206039</td>\n",
       "      <td>2.176849</td>\n",
       "      <td>2.614239</td>\n",
       "      <td>NaN</td>\n",
       "    </tr>\n",
       "    <tr>\n",
       "      <th>1128</th>\n",
       "      <td>20240806_230924</td>\n",
       "      <td>2024-08-07 01:06:59</td>\n",
       "      <td>decision_tree_regressor</td>\n",
       "      <td>regression</td>\n",
       "      <td>small_productions</td>\n",
       "      <td>random_search</td>\n",
       "      <td>False</td>\n",
       "      <td>none</td>\n",
       "      <td>MinMaxScaler</td>\n",
       "      <td>0.038855</td>\n",
       "      <td>1.417774</td>\n",
       "      <td>None</td>\n",
       "      <td>NaN</td>\n",
       "      <td>NaN</td>\n",
       "      <td>NaN</td>\n",
       "      <td>NaN</td>\n",
       "      <td>2.806414e+15</td>\n",
       "      <td>3716.256048</td>\n",
       "      <td>1.657437e+07</td>\n",
       "      <td>5.297560e+07</td>\n",
       "      <td>2.058231</td>\n",
       "      <td>4.236316</td>\n",
       "      <td>0.253129</td>\n",
       "      <td>0.104305</td>\n",
       "      <td>3951.790194</td>\n",
       "      <td>4283.604647</td>\n",
       "      <td>NaN</td>\n",
       "    </tr>\n",
       "    <tr>\n",
       "      <th>1169</th>\n",
       "      <td>20240806_230924</td>\n",
       "      <td>2024-08-07 01:59:40</td>\n",
       "      <td>lightgbm_regressor</td>\n",
       "      <td>regression</td>\n",
       "      <td>small_productions</td>\n",
       "      <td>random_search</td>\n",
       "      <td>False</td>\n",
       "      <td>none</td>\n",
       "      <td>MinMaxScaler</td>\n",
       "      <td>0.126461</td>\n",
       "      <td>3102.059649</td>\n",
       "      <td>None</td>\n",
       "      <td>NaN</td>\n",
       "      <td>NaN</td>\n",
       "      <td>NaN</td>\n",
       "      <td>NaN</td>\n",
       "      <td>2.715088e+15</td>\n",
       "      <td>1034.074529</td>\n",
       "      <td>1.618450e+07</td>\n",
       "      <td>5.210650e+07</td>\n",
       "      <td>1.901545</td>\n",
       "      <td>3.615872</td>\n",
       "      <td>0.277433</td>\n",
       "      <td>0.105960</td>\n",
       "      <td>1088.117787</td>\n",
       "      <td>1194.206955</td>\n",
       "      <td>NaN</td>\n",
       "    </tr>\n",
       "    <tr>\n",
       "      <th>1540</th>\n",
       "      <td>20240806_230924</td>\n",
       "      <td>2024-08-07 07:05:39</td>\n",
       "      <td>random_forest_regressor</td>\n",
       "      <td>regression</td>\n",
       "      <td>small_productions</td>\n",
       "      <td>random_search</td>\n",
       "      <td>True</td>\n",
       "      <td>none</td>\n",
       "      <td>StandardScaler</td>\n",
       "      <td>0.034991</td>\n",
       "      <td>82.666126</td>\n",
       "      <td>None</td>\n",
       "      <td>NaN</td>\n",
       "      <td>NaN</td>\n",
       "      <td>NaN</td>\n",
       "      <td>NaN</td>\n",
       "      <td>5.250786e+14</td>\n",
       "      <td>1.819742</td>\n",
       "      <td>1.410932e+07</td>\n",
       "      <td>2.291459e+07</td>\n",
       "      <td>1.253378</td>\n",
       "      <td>1.570957</td>\n",
       "      <td>0.127607</td>\n",
       "      <td>0.091241</td>\n",
       "      <td>1.908518</td>\n",
       "      <td>2.059519</td>\n",
       "      <td>NaN</td>\n",
       "    </tr>\n",
       "    <tr>\n",
       "      <th>1737</th>\n",
       "      <td>20240806_230924</td>\n",
       "      <td>2024-08-07 02:37:56</td>\n",
       "      <td>dummy_regressor</td>\n",
       "      <td>regression</td>\n",
       "      <td>large_productions</td>\n",
       "      <td>random_search</td>\n",
       "      <td>False</td>\n",
       "      <td>complex</td>\n",
       "      <td>RobustScaler</td>\n",
       "      <td>0.028573</td>\n",
       "      <td>25.045260</td>\n",
       "      <td>None</td>\n",
       "      <td>NaN</td>\n",
       "      <td>NaN</td>\n",
       "      <td>NaN</td>\n",
       "      <td>NaN</td>\n",
       "      <td>9.061588e+16</td>\n",
       "      <td>24.565887</td>\n",
       "      <td>1.588650e+08</td>\n",
       "      <td>3.010247e+08</td>\n",
       "      <td>1.464467</td>\n",
       "      <td>2.144663</td>\n",
       "      <td>-0.094040</td>\n",
       "      <td>0.140320</td>\n",
       "      <td>26.290476</td>\n",
       "      <td>29.716493</td>\n",
       "      <td>NaN</td>\n",
       "    </tr>\n",
       "    <tr>\n",
       "      <th>1840</th>\n",
       "      <td>20240806_230924</td>\n",
       "      <td>2024-08-07 03:50:28</td>\n",
       "      <td>lightgbm_regressor</td>\n",
       "      <td>regression</td>\n",
       "      <td>large_productions</td>\n",
       "      <td>random_search</td>\n",
       "      <td>False</td>\n",
       "      <td>complex</td>\n",
       "      <td>MinMaxScaler</td>\n",
       "      <td>0.006878</td>\n",
       "      <td>2699.246889</td>\n",
       "      <td>None</td>\n",
       "      <td>NaN</td>\n",
       "      <td>NaN</td>\n",
       "      <td>NaN</td>\n",
       "      <td>NaN</td>\n",
       "      <td>4.284176e+16</td>\n",
       "      <td>4.328473</td>\n",
       "      <td>1.084042e+08</td>\n",
       "      <td>2.069825e+08</td>\n",
       "      <td>1.014492</td>\n",
       "      <td>1.029194</td>\n",
       "      <td>0.482755</td>\n",
       "      <td>0.223801</td>\n",
       "      <td>4.848679</td>\n",
       "      <td>5.829596</td>\n",
       "      <td>NaN</td>\n",
       "    </tr>\n",
       "    <tr>\n",
       "      <th>2045</th>\n",
       "      <td>20240806_230924</td>\n",
       "      <td>2024-08-07 07:34:10</td>\n",
       "      <td>lightgbm_regressor</td>\n",
       "      <td>regression</td>\n",
       "      <td>small_productions</td>\n",
       "      <td>random_search</td>\n",
       "      <td>True</td>\n",
       "      <td>none</td>\n",
       "      <td>MinMaxScaler</td>\n",
       "      <td>0.122371</td>\n",
       "      <td>1684.474341</td>\n",
       "      <td>None</td>\n",
       "      <td>NaN</td>\n",
       "      <td>NaN</td>\n",
       "      <td>NaN</td>\n",
       "      <td>NaN</td>\n",
       "      <td>4.955639e+14</td>\n",
       "      <td>1.945183</td>\n",
       "      <td>1.389599e+07</td>\n",
       "      <td>2.226126e+07</td>\n",
       "      <td>1.277452</td>\n",
       "      <td>1.631884</td>\n",
       "      <td>0.176644</td>\n",
       "      <td>0.105839</td>\n",
       "      <td>2.055481</td>\n",
       "      <td>2.205204</td>\n",
       "      <td>NaN</td>\n",
       "    </tr>\n",
       "    <tr>\n",
       "      <th>2130</th>\n",
       "      <td>20240806_230924</td>\n",
       "      <td>2024-08-07 03:05:29</td>\n",
       "      <td>xgboost_regressor</td>\n",
       "      <td>regression</td>\n",
       "      <td>large_productions</td>\n",
       "      <td>random_search</td>\n",
       "      <td>False</td>\n",
       "      <td>complex</td>\n",
       "      <td>RobustScaler</td>\n",
       "      <td>0.027866</td>\n",
       "      <td>477.792208</td>\n",
       "      <td>None</td>\n",
       "      <td>NaN</td>\n",
       "      <td>NaN</td>\n",
       "      <td>NaN</td>\n",
       "      <td>NaN</td>\n",
       "      <td>4.281868e+16</td>\n",
       "      <td>4.367213</td>\n",
       "      <td>1.059003e+08</td>\n",
       "      <td>2.069268e+08</td>\n",
       "      <td>1.029646</td>\n",
       "      <td>1.060172</td>\n",
       "      <td>0.483034</td>\n",
       "      <td>0.216696</td>\n",
       "      <td>4.854143</td>\n",
       "      <td>5.949208</td>\n",
       "      <td>NaN</td>\n",
       "    </tr>\n",
       "    <tr>\n",
       "      <th>2192</th>\n",
       "      <td>20240806_230924</td>\n",
       "      <td>2024-08-07 07:04:16</td>\n",
       "      <td>dummy_regressor</td>\n",
       "      <td>regression</td>\n",
       "      <td>small_productions</td>\n",
       "      <td>random_search</td>\n",
       "      <td>True</td>\n",
       "      <td>none</td>\n",
       "      <td>RobustScaler</td>\n",
       "      <td>0.159309</td>\n",
       "      <td>0.704337</td>\n",
       "      <td>None</td>\n",
       "      <td>NaN</td>\n",
       "      <td>NaN</td>\n",
       "      <td>NaN</td>\n",
       "      <td>NaN</td>\n",
       "      <td>7.406959e+14</td>\n",
       "      <td>3.826276</td>\n",
       "      <td>1.647679e+07</td>\n",
       "      <td>2.721573e+07</td>\n",
       "      <td>1.592469</td>\n",
       "      <td>2.535959</td>\n",
       "      <td>-0.230631</td>\n",
       "      <td>0.069343</td>\n",
       "      <td>3.954502</td>\n",
       "      <td>4.165196</td>\n",
       "      <td>NaN</td>\n",
       "    </tr>\n",
       "    <tr>\n",
       "      <th>2300</th>\n",
       "      <td>20240806_230924</td>\n",
       "      <td>2024-08-07 02:57:00</td>\n",
       "      <td>random_forest_regressor</td>\n",
       "      <td>regression</td>\n",
       "      <td>large_productions</td>\n",
       "      <td>random_search</td>\n",
       "      <td>False</td>\n",
       "      <td>complex</td>\n",
       "      <td>StandardScaler</td>\n",
       "      <td>0.037304</td>\n",
       "      <td>1143.638252</td>\n",
       "      <td>None</td>\n",
       "      <td>NaN</td>\n",
       "      <td>NaN</td>\n",
       "      <td>NaN</td>\n",
       "      <td>NaN</td>\n",
       "      <td>4.095737e+16</td>\n",
       "      <td>2.622140</td>\n",
       "      <td>1.044580e+08</td>\n",
       "      <td>2.023793e+08</td>\n",
       "      <td>1.018054</td>\n",
       "      <td>1.036433</td>\n",
       "      <td>0.505506</td>\n",
       "      <td>0.220249</td>\n",
       "      <td>3.029718</td>\n",
       "      <td>3.525503</td>\n",
       "      <td>NaN</td>\n",
       "    </tr>\n",
       "    <tr>\n",
       "      <th>2475</th>\n",
       "      <td>20240806_230924</td>\n",
       "      <td>2024-08-07 01:06:57</td>\n",
       "      <td>random_forest_regressor</td>\n",
       "      <td>regression</td>\n",
       "      <td>small_productions</td>\n",
       "      <td>random_search</td>\n",
       "      <td>False</td>\n",
       "      <td>none</td>\n",
       "      <td>StandardScaler</td>\n",
       "      <td>0.169734</td>\n",
       "      <td>157.194483</td>\n",
       "      <td>None</td>\n",
       "      <td>NaN</td>\n",
       "      <td>NaN</td>\n",
       "      <td>NaN</td>\n",
       "      <td>NaN</td>\n",
       "      <td>2.671700e+15</td>\n",
       "      <td>1629.522790</td>\n",
       "      <td>1.549534e+07</td>\n",
       "      <td>5.168849e+07</td>\n",
       "      <td>1.858385</td>\n",
       "      <td>3.453593</td>\n",
       "      <td>0.288980</td>\n",
       "      <td>0.089404</td>\n",
       "      <td>1694.028623</td>\n",
       "      <td>1850.041335</td>\n",
       "      <td>NaN</td>\n",
       "    </tr>\n",
       "    <tr>\n",
       "      <th>2502</th>\n",
       "      <td>20240806_230924</td>\n",
       "      <td>2024-08-07 01:04:20</td>\n",
       "      <td>dummy_regressor</td>\n",
       "      <td>regression</td>\n",
       "      <td>small_productions</td>\n",
       "      <td>random_search</td>\n",
       "      <td>False</td>\n",
       "      <td>none</td>\n",
       "      <td>RobustScaler</td>\n",
       "      <td>0.028573</td>\n",
       "      <td>0.883237</td>\n",
       "      <td>None</td>\n",
       "      <td>NaN</td>\n",
       "      <td>NaN</td>\n",
       "      <td>NaN</td>\n",
       "      <td>NaN</td>\n",
       "      <td>4.029149e+15</td>\n",
       "      <td>88321.586502</td>\n",
       "      <td>2.113590e+07</td>\n",
       "      <td>6.347558e+07</td>\n",
       "      <td>3.074882</td>\n",
       "      <td>9.454899</td>\n",
       "      <td>-0.072278</td>\n",
       "      <td>0.077815</td>\n",
       "      <td>92776.063321</td>\n",
       "      <td>98424.779017</td>\n",
       "      <td>NaN</td>\n",
       "    </tr>\n",
       "    <tr>\n",
       "      <th>2682</th>\n",
       "      <td>20240806_230924</td>\n",
       "      <td>2024-08-07 07:06:05</td>\n",
       "      <td>xgboost_regressor</td>\n",
       "      <td>regression</td>\n",
       "      <td>small_productions</td>\n",
       "      <td>random_search</td>\n",
       "      <td>True</td>\n",
       "      <td>none</td>\n",
       "      <td>StandardScaler</td>\n",
       "      <td>0.169734</td>\n",
       "      <td>25.620338</td>\n",
       "      <td>None</td>\n",
       "      <td>NaN</td>\n",
       "      <td>NaN</td>\n",
       "      <td>NaN</td>\n",
       "      <td>NaN</td>\n",
       "      <td>4.937757e+14</td>\n",
       "      <td>2.121351</td>\n",
       "      <td>1.426493e+07</td>\n",
       "      <td>2.222106e+07</td>\n",
       "      <td>1.332020</td>\n",
       "      <td>1.774277</td>\n",
       "      <td>0.179615</td>\n",
       "      <td>0.120438</td>\n",
       "      <td>2.267055</td>\n",
       "      <td>2.463546</td>\n",
       "      <td>NaN</td>\n",
       "    </tr>\n",
       "    <tr>\n",
       "      <th>2887</th>\n",
       "      <td>20240806_230924</td>\n",
       "      <td>2024-08-07 01:07:58</td>\n",
       "      <td>xgboost_regressor</td>\n",
       "      <td>regression</td>\n",
       "      <td>small_productions</td>\n",
       "      <td>random_search</td>\n",
       "      <td>False</td>\n",
       "      <td>none</td>\n",
       "      <td>MinMaxScaler</td>\n",
       "      <td>0.081791</td>\n",
       "      <td>58.838922</td>\n",
       "      <td>None</td>\n",
       "      <td>NaN</td>\n",
       "      <td>NaN</td>\n",
       "      <td>NaN</td>\n",
       "      <td>NaN</td>\n",
       "      <td>2.568911e+15</td>\n",
       "      <td>5961.204966</td>\n",
       "      <td>1.624560e+07</td>\n",
       "      <td>5.068443e+07</td>\n",
       "      <td>1.936908</td>\n",
       "      <td>3.751614</td>\n",
       "      <td>0.316336</td>\n",
       "      <td>0.119205</td>\n",
       "      <td>6395.321360</td>\n",
       "      <td>7087.708295</td>\n",
       "      <td>NaN</td>\n",
       "    </tr>\n",
       "    <tr>\n",
       "      <th>2899</th>\n",
       "      <td>20240806_230924</td>\n",
       "      <td>2024-08-07 07:05:40</td>\n",
       "      <td>decision_tree_regressor</td>\n",
       "      <td>regression</td>\n",
       "      <td>small_productions</td>\n",
       "      <td>random_search</td>\n",
       "      <td>True</td>\n",
       "      <td>none</td>\n",
       "      <td>MinMaxScaler</td>\n",
       "      <td>0.093989</td>\n",
       "      <td>0.856859</td>\n",
       "      <td>None</td>\n",
       "      <td>NaN</td>\n",
       "      <td>NaN</td>\n",
       "      <td>NaN</td>\n",
       "      <td>NaN</td>\n",
       "      <td>5.230749e+14</td>\n",
       "      <td>1.858029</td>\n",
       "      <td>1.437206e+07</td>\n",
       "      <td>2.287083e+07</td>\n",
       "      <td>1.341286</td>\n",
       "      <td>1.799048</td>\n",
       "      <td>0.130936</td>\n",
       "      <td>0.109489</td>\n",
       "      <td>1.940824</td>\n",
       "      <td>2.160223</td>\n",
       "      <td>NaN</td>\n",
       "    </tr>\n",
       "  </tbody>\n",
       "</table>\n",
       "</div>"
      ],
      "text/plain": [
       "               run_id           timestamp               model_type  \\\n",
       "566   20240806_230924 2024-08-07 02:57:31  decision_tree_regressor   \n",
       "1128  20240806_230924 2024-08-07 01:06:59  decision_tree_regressor   \n",
       "1169  20240806_230924 2024-08-07 01:59:40       lightgbm_regressor   \n",
       "1540  20240806_230924 2024-08-07 07:05:39  random_forest_regressor   \n",
       "1737  20240806_230924 2024-08-07 02:37:56          dummy_regressor   \n",
       "1840  20240806_230924 2024-08-07 03:50:28       lightgbm_regressor   \n",
       "2045  20240806_230924 2024-08-07 07:34:10       lightgbm_regressor   \n",
       "2130  20240806_230924 2024-08-07 03:05:29        xgboost_regressor   \n",
       "2192  20240806_230924 2024-08-07 07:04:16          dummy_regressor   \n",
       "2300  20240806_230924 2024-08-07 02:57:00  random_forest_regressor   \n",
       "2475  20240806_230924 2024-08-07 01:06:57  random_forest_regressor   \n",
       "2502  20240806_230924 2024-08-07 01:04:20          dummy_regressor   \n",
       "2682  20240806_230924 2024-08-07 07:06:05        xgboost_regressor   \n",
       "2887  20240806_230924 2024-08-07 01:07:58        xgboost_regressor   \n",
       "2899  20240806_230924 2024-08-07 07:05:40  decision_tree_regressor   \n",
       "\n",
       "     problem_type       dataset_name      grid_type  has_outliers_removed  \\\n",
       "566    regression  large_productions  random_search                 False   \n",
       "1128   regression  small_productions  random_search                 False   \n",
       "1169   regression  small_productions  random_search                 False   \n",
       "1540   regression  small_productions  random_search                  True   \n",
       "1737   regression  large_productions  random_search                 False   \n",
       "1840   regression  large_productions  random_search                 False   \n",
       "2045   regression  small_productions  random_search                  True   \n",
       "2130   regression  large_productions  random_search                 False   \n",
       "2192   regression  small_productions  random_search                  True   \n",
       "2300   regression  large_productions  random_search                 False   \n",
       "2475   regression  small_productions  random_search                 False   \n",
       "2502   regression  small_productions  random_search                 False   \n",
       "2682   regression  small_productions  random_search                  True   \n",
       "2887   regression  small_productions  random_search                 False   \n",
       "2899   regression  small_productions  random_search                  True   \n",
       "\n",
       "     feature_engineering          scaler  variance_threshold     duration  \\\n",
       "566              complex    MinMaxScaler            0.052179    30.404493   \n",
       "1128                none    MinMaxScaler            0.038855     1.417774   \n",
       "1169                none    MinMaxScaler            0.126461  3102.059649   \n",
       "1540                none  StandardScaler            0.034991    82.666126   \n",
       "1737             complex    RobustScaler            0.028573    25.045260   \n",
       "1840             complex    MinMaxScaler            0.006878  2699.246889   \n",
       "2045                none    MinMaxScaler            0.122371  1684.474341   \n",
       "2130             complex    RobustScaler            0.027866   477.792208   \n",
       "2192                none    RobustScaler            0.159309     0.704337   \n",
       "2300             complex  StandardScaler            0.037304  1143.638252   \n",
       "2475                none  StandardScaler            0.169734   157.194483   \n",
       "2502                none    RobustScaler            0.028573     0.883237   \n",
       "2682                none  StandardScaler            0.169734    25.620338   \n",
       "2887                none    MinMaxScaler            0.081791    58.838922   \n",
       "2899                none    MinMaxScaler            0.093989     0.856859   \n",
       "\n",
       "     number_of_combinations  Accuracy  Precision  Recall  F1 Score  \\\n",
       "566                    None       NaN        NaN     NaN       NaN   \n",
       "1128                   None       NaN        NaN     NaN       NaN   \n",
       "1169                   None       NaN        NaN     NaN       NaN   \n",
       "1540                   None       NaN        NaN     NaN       NaN   \n",
       "1737                   None       NaN        NaN     NaN       NaN   \n",
       "1840                   None       NaN        NaN     NaN       NaN   \n",
       "2045                   None       NaN        NaN     NaN       NaN   \n",
       "2130                   None       NaN        NaN     NaN       NaN   \n",
       "2192                   None       NaN        NaN     NaN       NaN   \n",
       "2300                   None       NaN        NaN     NaN       NaN   \n",
       "2475                   None       NaN        NaN     NaN       NaN   \n",
       "2502                   None       NaN        NaN     NaN       NaN   \n",
       "2682                   None       NaN        NaN     NaN       NaN   \n",
       "2887                   None       NaN        NaN     NaN       NaN   \n",
       "2899                   None       NaN        NaN     NaN       NaN   \n",
       "\n",
       "               MSE          MAPE           MAE          RMSE     RMSLE  \\\n",
       "566   4.200325e+16      1.965304  1.124303e+08  2.049469e+08  1.098849   \n",
       "1128  2.806414e+15   3716.256048  1.657437e+07  5.297560e+07  2.058231   \n",
       "1169  2.715088e+15   1034.074529  1.618450e+07  5.210650e+07  1.901545   \n",
       "1540  5.250786e+14      1.819742  1.410932e+07  2.291459e+07  1.253378   \n",
       "1737  9.061588e+16     24.565887  1.588650e+08  3.010247e+08  1.464467   \n",
       "1840  4.284176e+16      4.328473  1.084042e+08  2.069825e+08  1.014492   \n",
       "2045  4.955639e+14      1.945183  1.389599e+07  2.226126e+07  1.277452   \n",
       "2130  4.281868e+16      4.367213  1.059003e+08  2.069268e+08  1.029646   \n",
       "2192  7.406959e+14      3.826276  1.647679e+07  2.721573e+07  1.592469   \n",
       "2300  4.095737e+16      2.622140  1.044580e+08  2.023793e+08  1.018054   \n",
       "2475  2.671700e+15   1629.522790  1.549534e+07  5.168849e+07  1.858385   \n",
       "2502  4.029149e+15  88321.586502  2.113590e+07  6.347558e+07  3.074882   \n",
       "2682  4.937757e+14      2.121351  1.426493e+07  2.222106e+07  1.332020   \n",
       "2887  2.568911e+15   5961.204966  1.624560e+07  5.068443e+07  1.936908   \n",
       "2899  5.230749e+14      1.858029  1.437206e+07  2.287083e+07  1.341286   \n",
       "\n",
       "          MSLE        R2  Threshold Probability Accuracy  Threshold MAPE  \\\n",
       "566   1.207470  0.492879                        0.206039        2.176849   \n",
       "1128  4.236316  0.253129                        0.104305     3951.790194   \n",
       "1169  3.615872  0.277433                        0.105960     1088.117787   \n",
       "1540  1.570957  0.127607                        0.091241        1.908518   \n",
       "1737  2.144663 -0.094040                        0.140320       26.290476   \n",
       "1840  1.029194  0.482755                        0.223801        4.848679   \n",
       "2045  1.631884  0.176644                        0.105839        2.055481   \n",
       "2130  1.060172  0.483034                        0.216696        4.854143   \n",
       "2192  2.535959 -0.230631                        0.069343        3.954502   \n",
       "2300  1.036433  0.505506                        0.220249        3.029718   \n",
       "2475  3.453593  0.288980                        0.089404     1694.028623   \n",
       "2502  9.454899 -0.072278                        0.077815    92776.063321   \n",
       "2682  1.774277  0.179615                        0.120438        2.267055   \n",
       "2887  3.751614  0.316336                        0.119205     6395.321360   \n",
       "2899  1.799048  0.130936                        0.109489        1.940824   \n",
       "\n",
       "      Threshold MAPE (25%)  ROC AUC Score  \n",
       "566               2.614239            NaN  \n",
       "1128           4283.604647            NaN  \n",
       "1169           1194.206955            NaN  \n",
       "1540              2.059519            NaN  \n",
       "1737             29.716493            NaN  \n",
       "1840              5.829596            NaN  \n",
       "2045              2.205204            NaN  \n",
       "2130              5.949208            NaN  \n",
       "2192              4.165196            NaN  \n",
       "2300              3.525503            NaN  \n",
       "2475           1850.041335            NaN  \n",
       "2502          98424.779017            NaN  \n",
       "2682              2.463546            NaN  \n",
       "2887           7087.708295            NaN  \n",
       "2899              2.160223            NaN  "
      ]
     },
     "execution_count": 41,
     "metadata": {},
     "output_type": "execute_result"
    }
   ],
   "source": [
    "plot_one_metric_of_different_models_per_dataset_with_plotly(experiment_df, problem_type='regression', metric='MAPE', metric_agg='min', benchmark_model='dummy_regressor')"
   ]
  },
  {
   "cell_type": "code",
   "execution_count": 42,
   "metadata": {},
   "outputs": [
    {
     "data": {
      "application/vnd.plotly.v1+json": {
       "config": {
        "plotlyServerURL": "https://plot.ly"
       },
       "data": [
        {
         "marker": {
          "color": "#000000",
          "size": 12,
          "symbol": "diamond"
         },
         "mode": "markers+text",
         "name": "dummy_classifier (Benchmark)",
         "text": [
          0.46,
          0.45
         ],
         "textfont": {
          "color": "#000000",
          "size": 10
         },
         "textposition": "top center",
         "type": "scatter",
         "x": [
          "complex_True",
          "none_True"
         ],
         "y": [
          0.4586387434554974,
          0.4476987447698745
         ]
        },
        {
         "marker": {
          "color": "#66C2A5"
         },
         "name": "decision_tree_classifier",
         "text": [
          null,
          null,
          0.59,
          0.62
         ],
         "textfont": {
          "size": 10
         },
         "textposition": "outside",
         "type": "bar",
         "x": [
          "none_False",
          "complex_False",
          "none_True",
          "complex_True"
         ],
         "y": [
          null,
          null,
          0.5867507886435331,
          0.6196078431372549
         ]
        },
        {
         "marker": {
          "color": "#8DA0CB"
         },
         "name": "lightgbm_classifier",
         "text": [
          null,
          null,
          0.64,
          0.66
         ],
         "textfont": {
          "size": 10
         },
         "textposition": "outside",
         "type": "bar",
         "x": [
          "none_False",
          "complex_False",
          "none_True",
          "complex_True"
         ],
         "y": [
          null,
          null,
          0.6361829025844931,
          0.6633165829145728
         ]
        },
        {
         "marker": {
          "color": "#E78AC3"
         },
         "name": "logistic_regression",
         "text": [
          null,
          null,
          0.61,
          0.62
         ],
         "textfont": {
          "size": 10
         },
         "textposition": "outside",
         "type": "bar",
         "x": [
          "none_False",
          "complex_False",
          "none_True",
          "complex_True"
         ],
         "y": [
          null,
          null,
          0.6056338028169014,
          0.6233230134158927
         ]
        },
        {
         "marker": {
          "color": "#A6D854"
         },
         "name": "random_forest_classifier",
         "text": [
          null,
          null,
          0.63,
          0.61
         ],
         "textfont": {
          "size": 10
         },
         "textposition": "outside",
         "type": "bar",
         "x": [
          "none_False",
          "complex_False",
          "none_True",
          "complex_True"
         ],
         "y": [
          null,
          null,
          0.6302186878727635,
          0.6133909287257019
         ]
        },
        {
         "marker": {
          "color": "#FFD92F"
         },
         "name": "xgboost_classifier",
         "text": [
          null,
          null,
          0.6,
          0.64
         ],
         "textfont": {
          "size": 10
         },
         "textposition": "outside",
         "type": "bar",
         "x": [
          "none_False",
          "complex_False",
          "none_True",
          "complex_True"
         ],
         "y": [
          null,
          null,
          0.5965665236051502,
          0.6429341963322546
         ]
        }
       ],
       "layout": {
        "bargap": 0.15,
        "font": {
         "color": "#333333",
         "family": "Arial",
         "size": 12
        },
        "legend": {
         "orientation": "h",
         "x": 1,
         "xanchor": "right",
         "y": 1.02,
         "yanchor": "bottom"
        },
        "margin": {
         "b": 50,
         "l": 60,
         "r": 30,
         "t": 80
        },
        "plot_bgcolor": "white",
        "showlegend": true,
        "template": {
         "data": {
          "bar": [
           {
            "error_x": {
             "color": "#2a3f5f"
            },
            "error_y": {
             "color": "#2a3f5f"
            },
            "marker": {
             "line": {
              "color": "#E5ECF6",
              "width": 0.5
             },
             "pattern": {
              "fillmode": "overlay",
              "size": 10,
              "solidity": 0.2
             }
            },
            "type": "bar"
           }
          ],
          "barpolar": [
           {
            "marker": {
             "line": {
              "color": "#E5ECF6",
              "width": 0.5
             },
             "pattern": {
              "fillmode": "overlay",
              "size": 10,
              "solidity": 0.2
             }
            },
            "type": "barpolar"
           }
          ],
          "carpet": [
           {
            "aaxis": {
             "endlinecolor": "#2a3f5f",
             "gridcolor": "white",
             "linecolor": "white",
             "minorgridcolor": "white",
             "startlinecolor": "#2a3f5f"
            },
            "baxis": {
             "endlinecolor": "#2a3f5f",
             "gridcolor": "white",
             "linecolor": "white",
             "minorgridcolor": "white",
             "startlinecolor": "#2a3f5f"
            },
            "type": "carpet"
           }
          ],
          "choropleth": [
           {
            "colorbar": {
             "outlinewidth": 0,
             "ticks": ""
            },
            "type": "choropleth"
           }
          ],
          "contour": [
           {
            "colorbar": {
             "outlinewidth": 0,
             "ticks": ""
            },
            "colorscale": [
             [
              0,
              "#0d0887"
             ],
             [
              0.1111111111111111,
              "#46039f"
             ],
             [
              0.2222222222222222,
              "#7201a8"
             ],
             [
              0.3333333333333333,
              "#9c179e"
             ],
             [
              0.4444444444444444,
              "#bd3786"
             ],
             [
              0.5555555555555556,
              "#d8576b"
             ],
             [
              0.6666666666666666,
              "#ed7953"
             ],
             [
              0.7777777777777778,
              "#fb9f3a"
             ],
             [
              0.8888888888888888,
              "#fdca26"
             ],
             [
              1,
              "#f0f921"
             ]
            ],
            "type": "contour"
           }
          ],
          "contourcarpet": [
           {
            "colorbar": {
             "outlinewidth": 0,
             "ticks": ""
            },
            "type": "contourcarpet"
           }
          ],
          "heatmap": [
           {
            "colorbar": {
             "outlinewidth": 0,
             "ticks": ""
            },
            "colorscale": [
             [
              0,
              "#0d0887"
             ],
             [
              0.1111111111111111,
              "#46039f"
             ],
             [
              0.2222222222222222,
              "#7201a8"
             ],
             [
              0.3333333333333333,
              "#9c179e"
             ],
             [
              0.4444444444444444,
              "#bd3786"
             ],
             [
              0.5555555555555556,
              "#d8576b"
             ],
             [
              0.6666666666666666,
              "#ed7953"
             ],
             [
              0.7777777777777778,
              "#fb9f3a"
             ],
             [
              0.8888888888888888,
              "#fdca26"
             ],
             [
              1,
              "#f0f921"
             ]
            ],
            "type": "heatmap"
           }
          ],
          "heatmapgl": [
           {
            "colorbar": {
             "outlinewidth": 0,
             "ticks": ""
            },
            "colorscale": [
             [
              0,
              "#0d0887"
             ],
             [
              0.1111111111111111,
              "#46039f"
             ],
             [
              0.2222222222222222,
              "#7201a8"
             ],
             [
              0.3333333333333333,
              "#9c179e"
             ],
             [
              0.4444444444444444,
              "#bd3786"
             ],
             [
              0.5555555555555556,
              "#d8576b"
             ],
             [
              0.6666666666666666,
              "#ed7953"
             ],
             [
              0.7777777777777778,
              "#fb9f3a"
             ],
             [
              0.8888888888888888,
              "#fdca26"
             ],
             [
              1,
              "#f0f921"
             ]
            ],
            "type": "heatmapgl"
           }
          ],
          "histogram": [
           {
            "marker": {
             "pattern": {
              "fillmode": "overlay",
              "size": 10,
              "solidity": 0.2
             }
            },
            "type": "histogram"
           }
          ],
          "histogram2d": [
           {
            "colorbar": {
             "outlinewidth": 0,
             "ticks": ""
            },
            "colorscale": [
             [
              0,
              "#0d0887"
             ],
             [
              0.1111111111111111,
              "#46039f"
             ],
             [
              0.2222222222222222,
              "#7201a8"
             ],
             [
              0.3333333333333333,
              "#9c179e"
             ],
             [
              0.4444444444444444,
              "#bd3786"
             ],
             [
              0.5555555555555556,
              "#d8576b"
             ],
             [
              0.6666666666666666,
              "#ed7953"
             ],
             [
              0.7777777777777778,
              "#fb9f3a"
             ],
             [
              0.8888888888888888,
              "#fdca26"
             ],
             [
              1,
              "#f0f921"
             ]
            ],
            "type": "histogram2d"
           }
          ],
          "histogram2dcontour": [
           {
            "colorbar": {
             "outlinewidth": 0,
             "ticks": ""
            },
            "colorscale": [
             [
              0,
              "#0d0887"
             ],
             [
              0.1111111111111111,
              "#46039f"
             ],
             [
              0.2222222222222222,
              "#7201a8"
             ],
             [
              0.3333333333333333,
              "#9c179e"
             ],
             [
              0.4444444444444444,
              "#bd3786"
             ],
             [
              0.5555555555555556,
              "#d8576b"
             ],
             [
              0.6666666666666666,
              "#ed7953"
             ],
             [
              0.7777777777777778,
              "#fb9f3a"
             ],
             [
              0.8888888888888888,
              "#fdca26"
             ],
             [
              1,
              "#f0f921"
             ]
            ],
            "type": "histogram2dcontour"
           }
          ],
          "mesh3d": [
           {
            "colorbar": {
             "outlinewidth": 0,
             "ticks": ""
            },
            "type": "mesh3d"
           }
          ],
          "parcoords": [
           {
            "line": {
             "colorbar": {
              "outlinewidth": 0,
              "ticks": ""
             }
            },
            "type": "parcoords"
           }
          ],
          "pie": [
           {
            "automargin": true,
            "type": "pie"
           }
          ],
          "scatter": [
           {
            "fillpattern": {
             "fillmode": "overlay",
             "size": 10,
             "solidity": 0.2
            },
            "type": "scatter"
           }
          ],
          "scatter3d": [
           {
            "line": {
             "colorbar": {
              "outlinewidth": 0,
              "ticks": ""
             }
            },
            "marker": {
             "colorbar": {
              "outlinewidth": 0,
              "ticks": ""
             }
            },
            "type": "scatter3d"
           }
          ],
          "scattercarpet": [
           {
            "marker": {
             "colorbar": {
              "outlinewidth": 0,
              "ticks": ""
             }
            },
            "type": "scattercarpet"
           }
          ],
          "scattergeo": [
           {
            "marker": {
             "colorbar": {
              "outlinewidth": 0,
              "ticks": ""
             }
            },
            "type": "scattergeo"
           }
          ],
          "scattergl": [
           {
            "marker": {
             "colorbar": {
              "outlinewidth": 0,
              "ticks": ""
             }
            },
            "type": "scattergl"
           }
          ],
          "scattermapbox": [
           {
            "marker": {
             "colorbar": {
              "outlinewidth": 0,
              "ticks": ""
             }
            },
            "type": "scattermapbox"
           }
          ],
          "scatterpolar": [
           {
            "marker": {
             "colorbar": {
              "outlinewidth": 0,
              "ticks": ""
             }
            },
            "type": "scatterpolar"
           }
          ],
          "scatterpolargl": [
           {
            "marker": {
             "colorbar": {
              "outlinewidth": 0,
              "ticks": ""
             }
            },
            "type": "scatterpolargl"
           }
          ],
          "scatterternary": [
           {
            "marker": {
             "colorbar": {
              "outlinewidth": 0,
              "ticks": ""
             }
            },
            "type": "scatterternary"
           }
          ],
          "surface": [
           {
            "colorbar": {
             "outlinewidth": 0,
             "ticks": ""
            },
            "colorscale": [
             [
              0,
              "#0d0887"
             ],
             [
              0.1111111111111111,
              "#46039f"
             ],
             [
              0.2222222222222222,
              "#7201a8"
             ],
             [
              0.3333333333333333,
              "#9c179e"
             ],
             [
              0.4444444444444444,
              "#bd3786"
             ],
             [
              0.5555555555555556,
              "#d8576b"
             ],
             [
              0.6666666666666666,
              "#ed7953"
             ],
             [
              0.7777777777777778,
              "#fb9f3a"
             ],
             [
              0.8888888888888888,
              "#fdca26"
             ],
             [
              1,
              "#f0f921"
             ]
            ],
            "type": "surface"
           }
          ],
          "table": [
           {
            "cells": {
             "fill": {
              "color": "#EBF0F8"
             },
             "line": {
              "color": "white"
             }
            },
            "header": {
             "fill": {
              "color": "#C8D4E3"
             },
             "line": {
              "color": "white"
             }
            },
            "type": "table"
           }
          ]
         },
         "layout": {
          "annotationdefaults": {
           "arrowcolor": "#2a3f5f",
           "arrowhead": 0,
           "arrowwidth": 1
          },
          "autotypenumbers": "strict",
          "coloraxis": {
           "colorbar": {
            "outlinewidth": 0,
            "ticks": ""
           }
          },
          "colorscale": {
           "diverging": [
            [
             0,
             "#8e0152"
            ],
            [
             0.1,
             "#c51b7d"
            ],
            [
             0.2,
             "#de77ae"
            ],
            [
             0.3,
             "#f1b6da"
            ],
            [
             0.4,
             "#fde0ef"
            ],
            [
             0.5,
             "#f7f7f7"
            ],
            [
             0.6,
             "#e6f5d0"
            ],
            [
             0.7,
             "#b8e186"
            ],
            [
             0.8,
             "#7fbc41"
            ],
            [
             0.9,
             "#4d9221"
            ],
            [
             1,
             "#276419"
            ]
           ],
           "sequential": [
            [
             0,
             "#0d0887"
            ],
            [
             0.1111111111111111,
             "#46039f"
            ],
            [
             0.2222222222222222,
             "#7201a8"
            ],
            [
             0.3333333333333333,
             "#9c179e"
            ],
            [
             0.4444444444444444,
             "#bd3786"
            ],
            [
             0.5555555555555556,
             "#d8576b"
            ],
            [
             0.6666666666666666,
             "#ed7953"
            ],
            [
             0.7777777777777778,
             "#fb9f3a"
            ],
            [
             0.8888888888888888,
             "#fdca26"
            ],
            [
             1,
             "#f0f921"
            ]
           ],
           "sequentialminus": [
            [
             0,
             "#0d0887"
            ],
            [
             0.1111111111111111,
             "#46039f"
            ],
            [
             0.2222222222222222,
             "#7201a8"
            ],
            [
             0.3333333333333333,
             "#9c179e"
            ],
            [
             0.4444444444444444,
             "#bd3786"
            ],
            [
             0.5555555555555556,
             "#d8576b"
            ],
            [
             0.6666666666666666,
             "#ed7953"
            ],
            [
             0.7777777777777778,
             "#fb9f3a"
            ],
            [
             0.8888888888888888,
             "#fdca26"
            ],
            [
             1,
             "#f0f921"
            ]
           ]
          },
          "colorway": [
           "#636efa",
           "#EF553B",
           "#00cc96",
           "#ab63fa",
           "#FFA15A",
           "#19d3f3",
           "#FF6692",
           "#B6E880",
           "#FF97FF",
           "#FECB52"
          ],
          "font": {
           "color": "#2a3f5f"
          },
          "geo": {
           "bgcolor": "white",
           "lakecolor": "white",
           "landcolor": "#E5ECF6",
           "showlakes": true,
           "showland": true,
           "subunitcolor": "white"
          },
          "hoverlabel": {
           "align": "left"
          },
          "hovermode": "closest",
          "mapbox": {
           "style": "light"
          },
          "paper_bgcolor": "white",
          "plot_bgcolor": "#E5ECF6",
          "polar": {
           "angularaxis": {
            "gridcolor": "white",
            "linecolor": "white",
            "ticks": ""
           },
           "bgcolor": "#E5ECF6",
           "radialaxis": {
            "gridcolor": "white",
            "linecolor": "white",
            "ticks": ""
           }
          },
          "scene": {
           "xaxis": {
            "backgroundcolor": "#E5ECF6",
            "gridcolor": "white",
            "gridwidth": 2,
            "linecolor": "white",
            "showbackground": true,
            "ticks": "",
            "zerolinecolor": "white"
           },
           "yaxis": {
            "backgroundcolor": "#E5ECF6",
            "gridcolor": "white",
            "gridwidth": 2,
            "linecolor": "white",
            "showbackground": true,
            "ticks": "",
            "zerolinecolor": "white"
           },
           "zaxis": {
            "backgroundcolor": "#E5ECF6",
            "gridcolor": "white",
            "gridwidth": 2,
            "linecolor": "white",
            "showbackground": true,
            "ticks": "",
            "zerolinecolor": "white"
           }
          },
          "shapedefaults": {
           "line": {
            "color": "#2a3f5f"
           }
          },
          "ternary": {
           "aaxis": {
            "gridcolor": "white",
            "linecolor": "white",
            "ticks": ""
           },
           "baxis": {
            "gridcolor": "white",
            "linecolor": "white",
            "ticks": ""
           },
           "bgcolor": "#E5ECF6",
           "caxis": {
            "gridcolor": "white",
            "linecolor": "white",
            "ticks": ""
           }
          },
          "title": {
           "x": 0.05
          },
          "xaxis": {
           "automargin": true,
           "gridcolor": "white",
           "linecolor": "white",
           "ticks": "",
           "title": {
            "standoff": 15
           },
           "zerolinecolor": "white",
           "zerolinewidth": 2
          },
          "yaxis": {
           "automargin": true,
           "gridcolor": "white",
           "linecolor": "white",
           "ticks": "",
           "title": {
            "standoff": 15
           },
           "zerolinecolor": "white",
           "zerolinewidth": 2
          }
         }
        },
        "title": {
         "font": {
          "color": "#333333",
          "size": 20
         },
         "text": "F1 Score Comparison for full",
         "x": 0.5,
         "xanchor": "center",
         "y": 0.95,
         "yanchor": "top"
        },
        "xaxis": {
         "gridcolor": "#E5E5E5",
         "showgrid": true,
         "tickangle": 0,
         "tickfont": {
          "size": 10
         },
         "ticktext": [
          "FE: none<br>With Outliers",
          "FE: none<br>No Outliers",
          "FE: complex<br>With Outliers",
          "FE: complex<br>No Outliers"
         ],
         "tickvals": [
          "none_False",
          "none_True",
          "complex_False",
          "complex_True"
         ],
         "title": {
          "text": "Feature Engineering and Outlier Removal"
         }
        },
        "yaxis": {
         "gridcolor": "#E5E5E5",
         "showgrid": true,
         "tickfont": {
          "size": 10
         },
         "title": {
          "text": "F1 Score Value"
         },
         "type": "linear",
         "zeroline": true,
         "zerolinecolor": "#E5E5E5"
        }
       }
      }
     },
     "metadata": {},
     "output_type": "display_data"
    },
    {
     "data": {
      "application/vnd.plotly.v1+json": {
       "config": {
        "plotlyServerURL": "https://plot.ly"
       },
       "data": [
        {
         "marker": {
          "color": "#000000",
          "size": 12,
          "symbol": "diamond"
         },
         "mode": "markers+text",
         "name": "dummy_classifier (Benchmark)",
         "text": [
          0.47,
          0.46
         ],
         "textfont": {
          "color": "#000000",
          "size": 10
         },
         "textposition": "top center",
         "type": "scatter",
         "x": [
          "complex_False",
          "none_False"
         ],
         "y": [
          0.47244094488188976,
          0.45920303605313095
         ]
        },
        {
         "marker": {
          "color": "#66C2A5"
         },
         "name": "decision_tree_classifier",
         "text": [
          0.61,
          0.61,
          null,
          null
         ],
         "textfont": {
          "size": 10
         },
         "textposition": "outside",
         "type": "bar",
         "x": [
          "none_False",
          "complex_False",
          "none_True",
          "complex_True"
         ],
         "y": [
          0.6083499005964215,
          0.6139359698681732,
          null,
          null
         ]
        },
        {
         "marker": {
          "color": "#8DA0CB"
         },
         "name": "lightgbm_classifier",
         "text": [
          0.64,
          0.66,
          null,
          null
         ],
         "textfont": {
          "size": 10
         },
         "textposition": "outside",
         "type": "bar",
         "x": [
          "none_False",
          "complex_False",
          "none_True",
          "complex_True"
         ],
         "y": [
          0.6363636363636364,
          0.6569037656903766,
          null,
          null
         ]
        },
        {
         "marker": {
          "color": "#E78AC3"
         },
         "name": "logistic_regression",
         "text": [
          0.62,
          0.67,
          null,
          null
         ],
         "textfont": {
          "size": 10
         },
         "textposition": "outside",
         "type": "bar",
         "x": [
          "none_False",
          "complex_False",
          "none_True",
          "complex_True"
         ],
         "y": [
          0.6181102362204725,
          0.671875,
          null,
          null
         ]
        },
        {
         "marker": {
          "color": "#A6D854"
         },
         "name": "random_forest_classifier",
         "text": [
          0.64,
          0.63,
          null,
          null
         ],
         "textfont": {
          "size": 10
         },
         "textposition": "outside",
         "type": "bar",
         "x": [
          "none_False",
          "complex_False",
          "none_True",
          "complex_True"
         ],
         "y": [
          0.642570281124498,
          0.6289308176100629,
          null,
          null
         ]
        },
        {
         "marker": {
          "color": "#FFD92F"
         },
         "name": "xgboost_classifier",
         "text": [
          0.62,
          0.66,
          null,
          null
         ],
         "textfont": {
          "size": 10
         },
         "textposition": "outside",
         "type": "bar",
         "x": [
          "none_False",
          "complex_False",
          "none_True",
          "complex_True"
         ],
         "y": [
          0.6217821782178218,
          0.6557377049180327,
          null,
          null
         ]
        }
       ],
       "layout": {
        "bargap": 0.15,
        "font": {
         "color": "#333333",
         "family": "Arial",
         "size": 12
        },
        "legend": {
         "orientation": "h",
         "x": 1,
         "xanchor": "right",
         "y": 1.02,
         "yanchor": "bottom"
        },
        "margin": {
         "b": 50,
         "l": 60,
         "r": 30,
         "t": 80
        },
        "plot_bgcolor": "white",
        "showlegend": true,
        "template": {
         "data": {
          "bar": [
           {
            "error_x": {
             "color": "#2a3f5f"
            },
            "error_y": {
             "color": "#2a3f5f"
            },
            "marker": {
             "line": {
              "color": "#E5ECF6",
              "width": 0.5
             },
             "pattern": {
              "fillmode": "overlay",
              "size": 10,
              "solidity": 0.2
             }
            },
            "type": "bar"
           }
          ],
          "barpolar": [
           {
            "marker": {
             "line": {
              "color": "#E5ECF6",
              "width": 0.5
             },
             "pattern": {
              "fillmode": "overlay",
              "size": 10,
              "solidity": 0.2
             }
            },
            "type": "barpolar"
           }
          ],
          "carpet": [
           {
            "aaxis": {
             "endlinecolor": "#2a3f5f",
             "gridcolor": "white",
             "linecolor": "white",
             "minorgridcolor": "white",
             "startlinecolor": "#2a3f5f"
            },
            "baxis": {
             "endlinecolor": "#2a3f5f",
             "gridcolor": "white",
             "linecolor": "white",
             "minorgridcolor": "white",
             "startlinecolor": "#2a3f5f"
            },
            "type": "carpet"
           }
          ],
          "choropleth": [
           {
            "colorbar": {
             "outlinewidth": 0,
             "ticks": ""
            },
            "type": "choropleth"
           }
          ],
          "contour": [
           {
            "colorbar": {
             "outlinewidth": 0,
             "ticks": ""
            },
            "colorscale": [
             [
              0,
              "#0d0887"
             ],
             [
              0.1111111111111111,
              "#46039f"
             ],
             [
              0.2222222222222222,
              "#7201a8"
             ],
             [
              0.3333333333333333,
              "#9c179e"
             ],
             [
              0.4444444444444444,
              "#bd3786"
             ],
             [
              0.5555555555555556,
              "#d8576b"
             ],
             [
              0.6666666666666666,
              "#ed7953"
             ],
             [
              0.7777777777777778,
              "#fb9f3a"
             ],
             [
              0.8888888888888888,
              "#fdca26"
             ],
             [
              1,
              "#f0f921"
             ]
            ],
            "type": "contour"
           }
          ],
          "contourcarpet": [
           {
            "colorbar": {
             "outlinewidth": 0,
             "ticks": ""
            },
            "type": "contourcarpet"
           }
          ],
          "heatmap": [
           {
            "colorbar": {
             "outlinewidth": 0,
             "ticks": ""
            },
            "colorscale": [
             [
              0,
              "#0d0887"
             ],
             [
              0.1111111111111111,
              "#46039f"
             ],
             [
              0.2222222222222222,
              "#7201a8"
             ],
             [
              0.3333333333333333,
              "#9c179e"
             ],
             [
              0.4444444444444444,
              "#bd3786"
             ],
             [
              0.5555555555555556,
              "#d8576b"
             ],
             [
              0.6666666666666666,
              "#ed7953"
             ],
             [
              0.7777777777777778,
              "#fb9f3a"
             ],
             [
              0.8888888888888888,
              "#fdca26"
             ],
             [
              1,
              "#f0f921"
             ]
            ],
            "type": "heatmap"
           }
          ],
          "heatmapgl": [
           {
            "colorbar": {
             "outlinewidth": 0,
             "ticks": ""
            },
            "colorscale": [
             [
              0,
              "#0d0887"
             ],
             [
              0.1111111111111111,
              "#46039f"
             ],
             [
              0.2222222222222222,
              "#7201a8"
             ],
             [
              0.3333333333333333,
              "#9c179e"
             ],
             [
              0.4444444444444444,
              "#bd3786"
             ],
             [
              0.5555555555555556,
              "#d8576b"
             ],
             [
              0.6666666666666666,
              "#ed7953"
             ],
             [
              0.7777777777777778,
              "#fb9f3a"
             ],
             [
              0.8888888888888888,
              "#fdca26"
             ],
             [
              1,
              "#f0f921"
             ]
            ],
            "type": "heatmapgl"
           }
          ],
          "histogram": [
           {
            "marker": {
             "pattern": {
              "fillmode": "overlay",
              "size": 10,
              "solidity": 0.2
             }
            },
            "type": "histogram"
           }
          ],
          "histogram2d": [
           {
            "colorbar": {
             "outlinewidth": 0,
             "ticks": ""
            },
            "colorscale": [
             [
              0,
              "#0d0887"
             ],
             [
              0.1111111111111111,
              "#46039f"
             ],
             [
              0.2222222222222222,
              "#7201a8"
             ],
             [
              0.3333333333333333,
              "#9c179e"
             ],
             [
              0.4444444444444444,
              "#bd3786"
             ],
             [
              0.5555555555555556,
              "#d8576b"
             ],
             [
              0.6666666666666666,
              "#ed7953"
             ],
             [
              0.7777777777777778,
              "#fb9f3a"
             ],
             [
              0.8888888888888888,
              "#fdca26"
             ],
             [
              1,
              "#f0f921"
             ]
            ],
            "type": "histogram2d"
           }
          ],
          "histogram2dcontour": [
           {
            "colorbar": {
             "outlinewidth": 0,
             "ticks": ""
            },
            "colorscale": [
             [
              0,
              "#0d0887"
             ],
             [
              0.1111111111111111,
              "#46039f"
             ],
             [
              0.2222222222222222,
              "#7201a8"
             ],
             [
              0.3333333333333333,
              "#9c179e"
             ],
             [
              0.4444444444444444,
              "#bd3786"
             ],
             [
              0.5555555555555556,
              "#d8576b"
             ],
             [
              0.6666666666666666,
              "#ed7953"
             ],
             [
              0.7777777777777778,
              "#fb9f3a"
             ],
             [
              0.8888888888888888,
              "#fdca26"
             ],
             [
              1,
              "#f0f921"
             ]
            ],
            "type": "histogram2dcontour"
           }
          ],
          "mesh3d": [
           {
            "colorbar": {
             "outlinewidth": 0,
             "ticks": ""
            },
            "type": "mesh3d"
           }
          ],
          "parcoords": [
           {
            "line": {
             "colorbar": {
              "outlinewidth": 0,
              "ticks": ""
             }
            },
            "type": "parcoords"
           }
          ],
          "pie": [
           {
            "automargin": true,
            "type": "pie"
           }
          ],
          "scatter": [
           {
            "fillpattern": {
             "fillmode": "overlay",
             "size": 10,
             "solidity": 0.2
            },
            "type": "scatter"
           }
          ],
          "scatter3d": [
           {
            "line": {
             "colorbar": {
              "outlinewidth": 0,
              "ticks": ""
             }
            },
            "marker": {
             "colorbar": {
              "outlinewidth": 0,
              "ticks": ""
             }
            },
            "type": "scatter3d"
           }
          ],
          "scattercarpet": [
           {
            "marker": {
             "colorbar": {
              "outlinewidth": 0,
              "ticks": ""
             }
            },
            "type": "scattercarpet"
           }
          ],
          "scattergeo": [
           {
            "marker": {
             "colorbar": {
              "outlinewidth": 0,
              "ticks": ""
             }
            },
            "type": "scattergeo"
           }
          ],
          "scattergl": [
           {
            "marker": {
             "colorbar": {
              "outlinewidth": 0,
              "ticks": ""
             }
            },
            "type": "scattergl"
           }
          ],
          "scattermapbox": [
           {
            "marker": {
             "colorbar": {
              "outlinewidth": 0,
              "ticks": ""
             }
            },
            "type": "scattermapbox"
           }
          ],
          "scatterpolar": [
           {
            "marker": {
             "colorbar": {
              "outlinewidth": 0,
              "ticks": ""
             }
            },
            "type": "scatterpolar"
           }
          ],
          "scatterpolargl": [
           {
            "marker": {
             "colorbar": {
              "outlinewidth": 0,
              "ticks": ""
             }
            },
            "type": "scatterpolargl"
           }
          ],
          "scatterternary": [
           {
            "marker": {
             "colorbar": {
              "outlinewidth": 0,
              "ticks": ""
             }
            },
            "type": "scatterternary"
           }
          ],
          "surface": [
           {
            "colorbar": {
             "outlinewidth": 0,
             "ticks": ""
            },
            "colorscale": [
             [
              0,
              "#0d0887"
             ],
             [
              0.1111111111111111,
              "#46039f"
             ],
             [
              0.2222222222222222,
              "#7201a8"
             ],
             [
              0.3333333333333333,
              "#9c179e"
             ],
             [
              0.4444444444444444,
              "#bd3786"
             ],
             [
              0.5555555555555556,
              "#d8576b"
             ],
             [
              0.6666666666666666,
              "#ed7953"
             ],
             [
              0.7777777777777778,
              "#fb9f3a"
             ],
             [
              0.8888888888888888,
              "#fdca26"
             ],
             [
              1,
              "#f0f921"
             ]
            ],
            "type": "surface"
           }
          ],
          "table": [
           {
            "cells": {
             "fill": {
              "color": "#EBF0F8"
             },
             "line": {
              "color": "white"
             }
            },
            "header": {
             "fill": {
              "color": "#C8D4E3"
             },
             "line": {
              "color": "white"
             }
            },
            "type": "table"
           }
          ]
         },
         "layout": {
          "annotationdefaults": {
           "arrowcolor": "#2a3f5f",
           "arrowhead": 0,
           "arrowwidth": 1
          },
          "autotypenumbers": "strict",
          "coloraxis": {
           "colorbar": {
            "outlinewidth": 0,
            "ticks": ""
           }
          },
          "colorscale": {
           "diverging": [
            [
             0,
             "#8e0152"
            ],
            [
             0.1,
             "#c51b7d"
            ],
            [
             0.2,
             "#de77ae"
            ],
            [
             0.3,
             "#f1b6da"
            ],
            [
             0.4,
             "#fde0ef"
            ],
            [
             0.5,
             "#f7f7f7"
            ],
            [
             0.6,
             "#e6f5d0"
            ],
            [
             0.7,
             "#b8e186"
            ],
            [
             0.8,
             "#7fbc41"
            ],
            [
             0.9,
             "#4d9221"
            ],
            [
             1,
             "#276419"
            ]
           ],
           "sequential": [
            [
             0,
             "#0d0887"
            ],
            [
             0.1111111111111111,
             "#46039f"
            ],
            [
             0.2222222222222222,
             "#7201a8"
            ],
            [
             0.3333333333333333,
             "#9c179e"
            ],
            [
             0.4444444444444444,
             "#bd3786"
            ],
            [
             0.5555555555555556,
             "#d8576b"
            ],
            [
             0.6666666666666666,
             "#ed7953"
            ],
            [
             0.7777777777777778,
             "#fb9f3a"
            ],
            [
             0.8888888888888888,
             "#fdca26"
            ],
            [
             1,
             "#f0f921"
            ]
           ],
           "sequentialminus": [
            [
             0,
             "#0d0887"
            ],
            [
             0.1111111111111111,
             "#46039f"
            ],
            [
             0.2222222222222222,
             "#7201a8"
            ],
            [
             0.3333333333333333,
             "#9c179e"
            ],
            [
             0.4444444444444444,
             "#bd3786"
            ],
            [
             0.5555555555555556,
             "#d8576b"
            ],
            [
             0.6666666666666666,
             "#ed7953"
            ],
            [
             0.7777777777777778,
             "#fb9f3a"
            ],
            [
             0.8888888888888888,
             "#fdca26"
            ],
            [
             1,
             "#f0f921"
            ]
           ]
          },
          "colorway": [
           "#636efa",
           "#EF553B",
           "#00cc96",
           "#ab63fa",
           "#FFA15A",
           "#19d3f3",
           "#FF6692",
           "#B6E880",
           "#FF97FF",
           "#FECB52"
          ],
          "font": {
           "color": "#2a3f5f"
          },
          "geo": {
           "bgcolor": "white",
           "lakecolor": "white",
           "landcolor": "#E5ECF6",
           "showlakes": true,
           "showland": true,
           "subunitcolor": "white"
          },
          "hoverlabel": {
           "align": "left"
          },
          "hovermode": "closest",
          "mapbox": {
           "style": "light"
          },
          "paper_bgcolor": "white",
          "plot_bgcolor": "#E5ECF6",
          "polar": {
           "angularaxis": {
            "gridcolor": "white",
            "linecolor": "white",
            "ticks": ""
           },
           "bgcolor": "#E5ECF6",
           "radialaxis": {
            "gridcolor": "white",
            "linecolor": "white",
            "ticks": ""
           }
          },
          "scene": {
           "xaxis": {
            "backgroundcolor": "#E5ECF6",
            "gridcolor": "white",
            "gridwidth": 2,
            "linecolor": "white",
            "showbackground": true,
            "ticks": "",
            "zerolinecolor": "white"
           },
           "yaxis": {
            "backgroundcolor": "#E5ECF6",
            "gridcolor": "white",
            "gridwidth": 2,
            "linecolor": "white",
            "showbackground": true,
            "ticks": "",
            "zerolinecolor": "white"
           },
           "zaxis": {
            "backgroundcolor": "#E5ECF6",
            "gridcolor": "white",
            "gridwidth": 2,
            "linecolor": "white",
            "showbackground": true,
            "ticks": "",
            "zerolinecolor": "white"
           }
          },
          "shapedefaults": {
           "line": {
            "color": "#2a3f5f"
           }
          },
          "ternary": {
           "aaxis": {
            "gridcolor": "white",
            "linecolor": "white",
            "ticks": ""
           },
           "baxis": {
            "gridcolor": "white",
            "linecolor": "white",
            "ticks": ""
           },
           "bgcolor": "#E5ECF6",
           "caxis": {
            "gridcolor": "white",
            "linecolor": "white",
            "ticks": ""
           }
          },
          "title": {
           "x": 0.05
          },
          "xaxis": {
           "automargin": true,
           "gridcolor": "white",
           "linecolor": "white",
           "ticks": "",
           "title": {
            "standoff": 15
           },
           "zerolinecolor": "white",
           "zerolinewidth": 2
          },
          "yaxis": {
           "automargin": true,
           "gridcolor": "white",
           "linecolor": "white",
           "ticks": "",
           "title": {
            "standoff": 15
           },
           "zerolinecolor": "white",
           "zerolinewidth": 2
          }
         }
        },
        "title": {
         "font": {
          "color": "#333333",
          "size": 20
         },
         "text": "F1 Score Comparison for large_productions",
         "x": 0.5,
         "xanchor": "center",
         "y": 0.95,
         "yanchor": "top"
        },
        "xaxis": {
         "gridcolor": "#E5E5E5",
         "showgrid": true,
         "tickangle": 0,
         "tickfont": {
          "size": 10
         },
         "ticktext": [
          "FE: none<br>With Outliers",
          "FE: none<br>No Outliers",
          "FE: complex<br>With Outliers",
          "FE: complex<br>No Outliers"
         ],
         "tickvals": [
          "none_False",
          "none_True",
          "complex_False",
          "complex_True"
         ],
         "title": {
          "text": "Feature Engineering and Outlier Removal"
         }
        },
        "yaxis": {
         "gridcolor": "#E5E5E5",
         "showgrid": true,
         "tickfont": {
          "size": 10
         },
         "title": {
          "text": "F1 Score Value"
         },
         "type": "linear",
         "zeroline": true,
         "zerolinecolor": "#E5E5E5"
        }
       }
      }
     },
     "metadata": {},
     "output_type": "display_data"
    },
    {
     "data": {
      "application/vnd.plotly.v1+json": {
       "config": {
        "plotlyServerURL": "https://plot.ly"
       },
       "data": [
        {
         "marker": {
          "color": "#000000",
          "size": 12,
          "symbol": "diamond"
         },
         "mode": "markers+text",
         "name": "dummy_classifier (Benchmark)",
         "text": [
          0.48,
          0.43
         ],
         "textfont": {
          "color": "#000000",
          "size": 10
         },
         "textposition": "top center",
         "type": "scatter",
         "x": [
          "complex_True",
          "none_True"
         ],
         "y": [
          0.47876447876447875,
          0.43243243243243246
         ]
        },
        {
         "marker": {
          "color": "#66C2A5"
         },
         "name": "decision_tree_classifier",
         "text": [
          null,
          null,
          0.57,
          0.51
         ],
         "textfont": {
          "size": 10
         },
         "textposition": "outside",
         "type": "bar",
         "x": [
          "none_False",
          "complex_False",
          "none_True",
          "complex_True"
         ],
         "y": [
          null,
          null,
          0.5724907063197026,
          0.512396694214876
         ]
        },
        {
         "marker": {
          "color": "#8DA0CB"
         },
         "name": "lightgbm_classifier",
         "text": [
          null,
          null,
          0.55,
          0.61
         ],
         "textfont": {
          "size": 10
         },
         "textposition": "outside",
         "type": "bar",
         "x": [
          "none_False",
          "complex_False",
          "none_True",
          "complex_True"
         ],
         "y": [
          null,
          null,
          0.5502183406113537,
          0.6053639846743295
         ]
        },
        {
         "marker": {
          "color": "#E78AC3"
         },
         "name": "logistic_regression",
         "text": [
          null,
          null,
          0.53,
          0.62
         ],
         "textfont": {
          "size": 10
         },
         "textposition": "outside",
         "type": "bar",
         "x": [
          "none_False",
          "complex_False",
          "none_True",
          "complex_True"
         ],
         "y": [
          null,
          null,
          0.5338983050847458,
          0.6206896551724138
         ]
        },
        {
         "marker": {
          "color": "#A6D854"
         },
         "name": "random_forest_classifier",
         "text": [
          null,
          null,
          0.56,
          0.59
         ],
         "textfont": {
          "size": 10
         },
         "textposition": "outside",
         "type": "bar",
         "x": [
          "none_False",
          "complex_False",
          "none_True",
          "complex_True"
         ],
         "y": [
          null,
          null,
          0.5555555555555556,
          0.5872340425531914
         ]
        },
        {
         "marker": {
          "color": "#FFD92F"
         },
         "name": "xgboost_classifier",
         "text": [
          null,
          null,
          0.59,
          0.59
         ],
         "textfont": {
          "size": 10
         },
         "textposition": "outside",
         "type": "bar",
         "x": [
          "none_False",
          "complex_False",
          "none_True",
          "complex_True"
         ],
         "y": [
          null,
          null,
          0.5901639344262295,
          0.5882352941176471
         ]
        }
       ],
       "layout": {
        "bargap": 0.15,
        "font": {
         "color": "#333333",
         "family": "Arial",
         "size": 12
        },
        "legend": {
         "orientation": "h",
         "x": 1,
         "xanchor": "right",
         "y": 1.02,
         "yanchor": "bottom"
        },
        "margin": {
         "b": 50,
         "l": 60,
         "r": 30,
         "t": 80
        },
        "plot_bgcolor": "white",
        "showlegend": true,
        "template": {
         "data": {
          "bar": [
           {
            "error_x": {
             "color": "#2a3f5f"
            },
            "error_y": {
             "color": "#2a3f5f"
            },
            "marker": {
             "line": {
              "color": "#E5ECF6",
              "width": 0.5
             },
             "pattern": {
              "fillmode": "overlay",
              "size": 10,
              "solidity": 0.2
             }
            },
            "type": "bar"
           }
          ],
          "barpolar": [
           {
            "marker": {
             "line": {
              "color": "#E5ECF6",
              "width": 0.5
             },
             "pattern": {
              "fillmode": "overlay",
              "size": 10,
              "solidity": 0.2
             }
            },
            "type": "barpolar"
           }
          ],
          "carpet": [
           {
            "aaxis": {
             "endlinecolor": "#2a3f5f",
             "gridcolor": "white",
             "linecolor": "white",
             "minorgridcolor": "white",
             "startlinecolor": "#2a3f5f"
            },
            "baxis": {
             "endlinecolor": "#2a3f5f",
             "gridcolor": "white",
             "linecolor": "white",
             "minorgridcolor": "white",
             "startlinecolor": "#2a3f5f"
            },
            "type": "carpet"
           }
          ],
          "choropleth": [
           {
            "colorbar": {
             "outlinewidth": 0,
             "ticks": ""
            },
            "type": "choropleth"
           }
          ],
          "contour": [
           {
            "colorbar": {
             "outlinewidth": 0,
             "ticks": ""
            },
            "colorscale": [
             [
              0,
              "#0d0887"
             ],
             [
              0.1111111111111111,
              "#46039f"
             ],
             [
              0.2222222222222222,
              "#7201a8"
             ],
             [
              0.3333333333333333,
              "#9c179e"
             ],
             [
              0.4444444444444444,
              "#bd3786"
             ],
             [
              0.5555555555555556,
              "#d8576b"
             ],
             [
              0.6666666666666666,
              "#ed7953"
             ],
             [
              0.7777777777777778,
              "#fb9f3a"
             ],
             [
              0.8888888888888888,
              "#fdca26"
             ],
             [
              1,
              "#f0f921"
             ]
            ],
            "type": "contour"
           }
          ],
          "contourcarpet": [
           {
            "colorbar": {
             "outlinewidth": 0,
             "ticks": ""
            },
            "type": "contourcarpet"
           }
          ],
          "heatmap": [
           {
            "colorbar": {
             "outlinewidth": 0,
             "ticks": ""
            },
            "colorscale": [
             [
              0,
              "#0d0887"
             ],
             [
              0.1111111111111111,
              "#46039f"
             ],
             [
              0.2222222222222222,
              "#7201a8"
             ],
             [
              0.3333333333333333,
              "#9c179e"
             ],
             [
              0.4444444444444444,
              "#bd3786"
             ],
             [
              0.5555555555555556,
              "#d8576b"
             ],
             [
              0.6666666666666666,
              "#ed7953"
             ],
             [
              0.7777777777777778,
              "#fb9f3a"
             ],
             [
              0.8888888888888888,
              "#fdca26"
             ],
             [
              1,
              "#f0f921"
             ]
            ],
            "type": "heatmap"
           }
          ],
          "heatmapgl": [
           {
            "colorbar": {
             "outlinewidth": 0,
             "ticks": ""
            },
            "colorscale": [
             [
              0,
              "#0d0887"
             ],
             [
              0.1111111111111111,
              "#46039f"
             ],
             [
              0.2222222222222222,
              "#7201a8"
             ],
             [
              0.3333333333333333,
              "#9c179e"
             ],
             [
              0.4444444444444444,
              "#bd3786"
             ],
             [
              0.5555555555555556,
              "#d8576b"
             ],
             [
              0.6666666666666666,
              "#ed7953"
             ],
             [
              0.7777777777777778,
              "#fb9f3a"
             ],
             [
              0.8888888888888888,
              "#fdca26"
             ],
             [
              1,
              "#f0f921"
             ]
            ],
            "type": "heatmapgl"
           }
          ],
          "histogram": [
           {
            "marker": {
             "pattern": {
              "fillmode": "overlay",
              "size": 10,
              "solidity": 0.2
             }
            },
            "type": "histogram"
           }
          ],
          "histogram2d": [
           {
            "colorbar": {
             "outlinewidth": 0,
             "ticks": ""
            },
            "colorscale": [
             [
              0,
              "#0d0887"
             ],
             [
              0.1111111111111111,
              "#46039f"
             ],
             [
              0.2222222222222222,
              "#7201a8"
             ],
             [
              0.3333333333333333,
              "#9c179e"
             ],
             [
              0.4444444444444444,
              "#bd3786"
             ],
             [
              0.5555555555555556,
              "#d8576b"
             ],
             [
              0.6666666666666666,
              "#ed7953"
             ],
             [
              0.7777777777777778,
              "#fb9f3a"
             ],
             [
              0.8888888888888888,
              "#fdca26"
             ],
             [
              1,
              "#f0f921"
             ]
            ],
            "type": "histogram2d"
           }
          ],
          "histogram2dcontour": [
           {
            "colorbar": {
             "outlinewidth": 0,
             "ticks": ""
            },
            "colorscale": [
             [
              0,
              "#0d0887"
             ],
             [
              0.1111111111111111,
              "#46039f"
             ],
             [
              0.2222222222222222,
              "#7201a8"
             ],
             [
              0.3333333333333333,
              "#9c179e"
             ],
             [
              0.4444444444444444,
              "#bd3786"
             ],
             [
              0.5555555555555556,
              "#d8576b"
             ],
             [
              0.6666666666666666,
              "#ed7953"
             ],
             [
              0.7777777777777778,
              "#fb9f3a"
             ],
             [
              0.8888888888888888,
              "#fdca26"
             ],
             [
              1,
              "#f0f921"
             ]
            ],
            "type": "histogram2dcontour"
           }
          ],
          "mesh3d": [
           {
            "colorbar": {
             "outlinewidth": 0,
             "ticks": ""
            },
            "type": "mesh3d"
           }
          ],
          "parcoords": [
           {
            "line": {
             "colorbar": {
              "outlinewidth": 0,
              "ticks": ""
             }
            },
            "type": "parcoords"
           }
          ],
          "pie": [
           {
            "automargin": true,
            "type": "pie"
           }
          ],
          "scatter": [
           {
            "fillpattern": {
             "fillmode": "overlay",
             "size": 10,
             "solidity": 0.2
            },
            "type": "scatter"
           }
          ],
          "scatter3d": [
           {
            "line": {
             "colorbar": {
              "outlinewidth": 0,
              "ticks": ""
             }
            },
            "marker": {
             "colorbar": {
              "outlinewidth": 0,
              "ticks": ""
             }
            },
            "type": "scatter3d"
           }
          ],
          "scattercarpet": [
           {
            "marker": {
             "colorbar": {
              "outlinewidth": 0,
              "ticks": ""
             }
            },
            "type": "scattercarpet"
           }
          ],
          "scattergeo": [
           {
            "marker": {
             "colorbar": {
              "outlinewidth": 0,
              "ticks": ""
             }
            },
            "type": "scattergeo"
           }
          ],
          "scattergl": [
           {
            "marker": {
             "colorbar": {
              "outlinewidth": 0,
              "ticks": ""
             }
            },
            "type": "scattergl"
           }
          ],
          "scattermapbox": [
           {
            "marker": {
             "colorbar": {
              "outlinewidth": 0,
              "ticks": ""
             }
            },
            "type": "scattermapbox"
           }
          ],
          "scatterpolar": [
           {
            "marker": {
             "colorbar": {
              "outlinewidth": 0,
              "ticks": ""
             }
            },
            "type": "scatterpolar"
           }
          ],
          "scatterpolargl": [
           {
            "marker": {
             "colorbar": {
              "outlinewidth": 0,
              "ticks": ""
             }
            },
            "type": "scatterpolargl"
           }
          ],
          "scatterternary": [
           {
            "marker": {
             "colorbar": {
              "outlinewidth": 0,
              "ticks": ""
             }
            },
            "type": "scatterternary"
           }
          ],
          "surface": [
           {
            "colorbar": {
             "outlinewidth": 0,
             "ticks": ""
            },
            "colorscale": [
             [
              0,
              "#0d0887"
             ],
             [
              0.1111111111111111,
              "#46039f"
             ],
             [
              0.2222222222222222,
              "#7201a8"
             ],
             [
              0.3333333333333333,
              "#9c179e"
             ],
             [
              0.4444444444444444,
              "#bd3786"
             ],
             [
              0.5555555555555556,
              "#d8576b"
             ],
             [
              0.6666666666666666,
              "#ed7953"
             ],
             [
              0.7777777777777778,
              "#fb9f3a"
             ],
             [
              0.8888888888888888,
              "#fdca26"
             ],
             [
              1,
              "#f0f921"
             ]
            ],
            "type": "surface"
           }
          ],
          "table": [
           {
            "cells": {
             "fill": {
              "color": "#EBF0F8"
             },
             "line": {
              "color": "white"
             }
            },
            "header": {
             "fill": {
              "color": "#C8D4E3"
             },
             "line": {
              "color": "white"
             }
            },
            "type": "table"
           }
          ]
         },
         "layout": {
          "annotationdefaults": {
           "arrowcolor": "#2a3f5f",
           "arrowhead": 0,
           "arrowwidth": 1
          },
          "autotypenumbers": "strict",
          "coloraxis": {
           "colorbar": {
            "outlinewidth": 0,
            "ticks": ""
           }
          },
          "colorscale": {
           "diverging": [
            [
             0,
             "#8e0152"
            ],
            [
             0.1,
             "#c51b7d"
            ],
            [
             0.2,
             "#de77ae"
            ],
            [
             0.3,
             "#f1b6da"
            ],
            [
             0.4,
             "#fde0ef"
            ],
            [
             0.5,
             "#f7f7f7"
            ],
            [
             0.6,
             "#e6f5d0"
            ],
            [
             0.7,
             "#b8e186"
            ],
            [
             0.8,
             "#7fbc41"
            ],
            [
             0.9,
             "#4d9221"
            ],
            [
             1,
             "#276419"
            ]
           ],
           "sequential": [
            [
             0,
             "#0d0887"
            ],
            [
             0.1111111111111111,
             "#46039f"
            ],
            [
             0.2222222222222222,
             "#7201a8"
            ],
            [
             0.3333333333333333,
             "#9c179e"
            ],
            [
             0.4444444444444444,
             "#bd3786"
            ],
            [
             0.5555555555555556,
             "#d8576b"
            ],
            [
             0.6666666666666666,
             "#ed7953"
            ],
            [
             0.7777777777777778,
             "#fb9f3a"
            ],
            [
             0.8888888888888888,
             "#fdca26"
            ],
            [
             1,
             "#f0f921"
            ]
           ],
           "sequentialminus": [
            [
             0,
             "#0d0887"
            ],
            [
             0.1111111111111111,
             "#46039f"
            ],
            [
             0.2222222222222222,
             "#7201a8"
            ],
            [
             0.3333333333333333,
             "#9c179e"
            ],
            [
             0.4444444444444444,
             "#bd3786"
            ],
            [
             0.5555555555555556,
             "#d8576b"
            ],
            [
             0.6666666666666666,
             "#ed7953"
            ],
            [
             0.7777777777777778,
             "#fb9f3a"
            ],
            [
             0.8888888888888888,
             "#fdca26"
            ],
            [
             1,
             "#f0f921"
            ]
           ]
          },
          "colorway": [
           "#636efa",
           "#EF553B",
           "#00cc96",
           "#ab63fa",
           "#FFA15A",
           "#19d3f3",
           "#FF6692",
           "#B6E880",
           "#FF97FF",
           "#FECB52"
          ],
          "font": {
           "color": "#2a3f5f"
          },
          "geo": {
           "bgcolor": "white",
           "lakecolor": "white",
           "landcolor": "#E5ECF6",
           "showlakes": true,
           "showland": true,
           "subunitcolor": "white"
          },
          "hoverlabel": {
           "align": "left"
          },
          "hovermode": "closest",
          "mapbox": {
           "style": "light"
          },
          "paper_bgcolor": "white",
          "plot_bgcolor": "#E5ECF6",
          "polar": {
           "angularaxis": {
            "gridcolor": "white",
            "linecolor": "white",
            "ticks": ""
           },
           "bgcolor": "#E5ECF6",
           "radialaxis": {
            "gridcolor": "white",
            "linecolor": "white",
            "ticks": ""
           }
          },
          "scene": {
           "xaxis": {
            "backgroundcolor": "#E5ECF6",
            "gridcolor": "white",
            "gridwidth": 2,
            "linecolor": "white",
            "showbackground": true,
            "ticks": "",
            "zerolinecolor": "white"
           },
           "yaxis": {
            "backgroundcolor": "#E5ECF6",
            "gridcolor": "white",
            "gridwidth": 2,
            "linecolor": "white",
            "showbackground": true,
            "ticks": "",
            "zerolinecolor": "white"
           },
           "zaxis": {
            "backgroundcolor": "#E5ECF6",
            "gridcolor": "white",
            "gridwidth": 2,
            "linecolor": "white",
            "showbackground": true,
            "ticks": "",
            "zerolinecolor": "white"
           }
          },
          "shapedefaults": {
           "line": {
            "color": "#2a3f5f"
           }
          },
          "ternary": {
           "aaxis": {
            "gridcolor": "white",
            "linecolor": "white",
            "ticks": ""
           },
           "baxis": {
            "gridcolor": "white",
            "linecolor": "white",
            "ticks": ""
           },
           "bgcolor": "#E5ECF6",
           "caxis": {
            "gridcolor": "white",
            "linecolor": "white",
            "ticks": ""
           }
          },
          "title": {
           "x": 0.05
          },
          "xaxis": {
           "automargin": true,
           "gridcolor": "white",
           "linecolor": "white",
           "ticks": "",
           "title": {
            "standoff": 15
           },
           "zerolinecolor": "white",
           "zerolinewidth": 2
          },
          "yaxis": {
           "automargin": true,
           "gridcolor": "white",
           "linecolor": "white",
           "ticks": "",
           "title": {
            "standoff": 15
           },
           "zerolinecolor": "white",
           "zerolinewidth": 2
          }
         }
        },
        "title": {
         "font": {
          "color": "#333333",
          "size": 20
         },
         "text": "F1 Score Comparison for medium_productions",
         "x": 0.5,
         "xanchor": "center",
         "y": 0.95,
         "yanchor": "top"
        },
        "xaxis": {
         "gridcolor": "#E5E5E5",
         "showgrid": true,
         "tickangle": 0,
         "tickfont": {
          "size": 10
         },
         "ticktext": [
          "FE: none<br>With Outliers",
          "FE: none<br>No Outliers",
          "FE: complex<br>With Outliers",
          "FE: complex<br>No Outliers"
         ],
         "tickvals": [
          "none_False",
          "none_True",
          "complex_False",
          "complex_True"
         ],
         "title": {
          "text": "Feature Engineering and Outlier Removal"
         }
        },
        "yaxis": {
         "gridcolor": "#E5E5E5",
         "showgrid": true,
         "tickfont": {
          "size": 10
         },
         "title": {
          "text": "F1 Score Value"
         },
         "type": "linear",
         "zeroline": true,
         "zerolinecolor": "#E5E5E5"
        }
       }
      }
     },
     "metadata": {},
     "output_type": "display_data"
    },
    {
     "data": {
      "text/html": [
       "<div>\n",
       "<style scoped>\n",
       "    .dataframe tbody tr th:only-of-type {\n",
       "        vertical-align: middle;\n",
       "    }\n",
       "\n",
       "    .dataframe tbody tr th {\n",
       "        vertical-align: top;\n",
       "    }\n",
       "\n",
       "    .dataframe thead th {\n",
       "        text-align: right;\n",
       "    }\n",
       "</style>\n",
       "<table border=\"1\" class=\"dataframe\">\n",
       "  <thead>\n",
       "    <tr style=\"text-align: right;\">\n",
       "      <th></th>\n",
       "      <th>run_id</th>\n",
       "      <th>timestamp</th>\n",
       "      <th>model_type</th>\n",
       "      <th>problem_type</th>\n",
       "      <th>dataset_name</th>\n",
       "      <th>grid_type</th>\n",
       "      <th>has_outliers_removed</th>\n",
       "      <th>feature_engineering</th>\n",
       "      <th>scaler</th>\n",
       "      <th>variance_threshold</th>\n",
       "      <th>duration</th>\n",
       "      <th>number_of_combinations</th>\n",
       "      <th>Accuracy</th>\n",
       "      <th>Precision</th>\n",
       "      <th>Recall</th>\n",
       "      <th>F1 Score</th>\n",
       "      <th>MSE</th>\n",
       "      <th>MAPE</th>\n",
       "      <th>MAE</th>\n",
       "      <th>RMSE</th>\n",
       "      <th>RMSLE</th>\n",
       "      <th>MSLE</th>\n",
       "      <th>R2</th>\n",
       "      <th>Threshold Probability Accuracy</th>\n",
       "      <th>Threshold MAPE</th>\n",
       "      <th>Threshold MAPE (25%)</th>\n",
       "      <th>ROC AUC Score</th>\n",
       "    </tr>\n",
       "  </thead>\n",
       "  <tbody>\n",
       "    <tr>\n",
       "      <th>138</th>\n",
       "      <td>20240806_230924</td>\n",
       "      <td>2024-08-07 07:04:15</td>\n",
       "      <td>lightgbm_classifier</td>\n",
       "      <td>binary_classification</td>\n",
       "      <td>full</td>\n",
       "      <td>random_search</td>\n",
       "      <td>True</td>\n",
       "      <td>complex</td>\n",
       "      <td>RobustScaler</td>\n",
       "      <td>0.005302</td>\n",
       "      <td>2905.855017</td>\n",
       "      <td>None</td>\n",
       "      <td>0.683962</td>\n",
       "      <td>0.630975</td>\n",
       "      <td>0.699153</td>\n",
       "      <td>0.663317</td>\n",
       "      <td>NaN</td>\n",
       "      <td>NaN</td>\n",
       "      <td>NaN</td>\n",
       "      <td>NaN</td>\n",
       "      <td>NaN</td>\n",
       "      <td>NaN</td>\n",
       "      <td>NaN</td>\n",
       "      <td>NaN</td>\n",
       "      <td>NaN</td>\n",
       "      <td>NaN</td>\n",
       "      <td>0.685461</td>\n",
       "    </tr>\n",
       "    <tr>\n",
       "      <th>139</th>\n",
       "      <td>20240806_230924</td>\n",
       "      <td>2024-08-07 04:56:49</td>\n",
       "      <td>random_forest_classifier</td>\n",
       "      <td>binary_classification</td>\n",
       "      <td>large_productions</td>\n",
       "      <td>random_search</td>\n",
       "      <td>False</td>\n",
       "      <td>none</td>\n",
       "      <td>MinMaxScaler</td>\n",
       "      <td>0.091307</td>\n",
       "      <td>95.522064</td>\n",
       "      <td>None</td>\n",
       "      <td>0.683837</td>\n",
       "      <td>0.632411</td>\n",
       "      <td>0.653061</td>\n",
       "      <td>0.642570</td>\n",
       "      <td>NaN</td>\n",
       "      <td>NaN</td>\n",
       "      <td>NaN</td>\n",
       "      <td>NaN</td>\n",
       "      <td>NaN</td>\n",
       "      <td>NaN</td>\n",
       "      <td>NaN</td>\n",
       "      <td>NaN</td>\n",
       "      <td>NaN</td>\n",
       "      <td>NaN</td>\n",
       "      <td>0.680304</td>\n",
       "    </tr>\n",
       "    <tr>\n",
       "      <th>153</th>\n",
       "      <td>20240806_230924</td>\n",
       "      <td>2024-08-07 06:03:49</td>\n",
       "      <td>dummy_classifier</td>\n",
       "      <td>binary_classification</td>\n",
       "      <td>full</td>\n",
       "      <td>random_search</td>\n",
       "      <td>True</td>\n",
       "      <td>complex</td>\n",
       "      <td>MinMaxScaler</td>\n",
       "      <td>0.045710</td>\n",
       "      <td>32.167884</td>\n",
       "      <td>None</td>\n",
       "      <td>0.512264</td>\n",
       "      <td>0.453416</td>\n",
       "      <td>0.463983</td>\n",
       "      <td>0.458639</td>\n",
       "      <td>NaN</td>\n",
       "      <td>NaN</td>\n",
       "      <td>NaN</td>\n",
       "      <td>NaN</td>\n",
       "      <td>NaN</td>\n",
       "      <td>NaN</td>\n",
       "      <td>NaN</td>\n",
       "      <td>NaN</td>\n",
       "      <td>NaN</td>\n",
       "      <td>NaN</td>\n",
       "      <td>0.507502</td>\n",
       "    </tr>\n",
       "    <tr>\n",
       "      <th>169</th>\n",
       "      <td>20240806_230924</td>\n",
       "      <td>2024-08-07 02:00:06</td>\n",
       "      <td>dummy_classifier</td>\n",
       "      <td>binary_classification</td>\n",
       "      <td>large_productions</td>\n",
       "      <td>random_search</td>\n",
       "      <td>False</td>\n",
       "      <td>complex</td>\n",
       "      <td>MinMaxScaler</td>\n",
       "      <td>0.122371</td>\n",
       "      <td>24.920379</td>\n",
       "      <td>None</td>\n",
       "      <td>0.523979</td>\n",
       "      <td>0.456274</td>\n",
       "      <td>0.489796</td>\n",
       "      <td>0.472441</td>\n",
       "      <td>NaN</td>\n",
       "      <td>NaN</td>\n",
       "      <td>NaN</td>\n",
       "      <td>NaN</td>\n",
       "      <td>NaN</td>\n",
       "      <td>NaN</td>\n",
       "      <td>NaN</td>\n",
       "      <td>NaN</td>\n",
       "      <td>NaN</td>\n",
       "      <td>NaN</td>\n",
       "      <td>0.520055</td>\n",
       "    </tr>\n",
       "    <tr>\n",
       "      <th>272</th>\n",
       "      <td>20240806_230924</td>\n",
       "      <td>2024-08-07 07:37:37</td>\n",
       "      <td>decision_tree_classifier</td>\n",
       "      <td>binary_classification</td>\n",
       "      <td>medium_productions</td>\n",
       "      <td>random_search</td>\n",
       "      <td>True</td>\n",
       "      <td>complex</td>\n",
       "      <td>RobustScaler</td>\n",
       "      <td>0.079764</td>\n",
       "      <td>21.878734</td>\n",
       "      <td>None</td>\n",
       "      <td>0.584507</td>\n",
       "      <td>0.534483</td>\n",
       "      <td>0.492063</td>\n",
       "      <td>0.512397</td>\n",
       "      <td>NaN</td>\n",
       "      <td>NaN</td>\n",
       "      <td>NaN</td>\n",
       "      <td>NaN</td>\n",
       "      <td>NaN</td>\n",
       "      <td>NaN</td>\n",
       "      <td>NaN</td>\n",
       "      <td>NaN</td>\n",
       "      <td>NaN</td>\n",
       "      <td>NaN</td>\n",
       "      <td>0.575146</td>\n",
       "    </tr>\n",
       "    <tr>\n",
       "      <th>323</th>\n",
       "      <td>20240806_230924</td>\n",
       "      <td>2024-08-07 03:53:15</td>\n",
       "      <td>xgboost_classifier</td>\n",
       "      <td>binary_classification</td>\n",
       "      <td>full</td>\n",
       "      <td>random_search</td>\n",
       "      <td>True</td>\n",
       "      <td>none</td>\n",
       "      <td>MinMaxScaler</td>\n",
       "      <td>0.178965</td>\n",
       "      <td>39.227496</td>\n",
       "      <td>None</td>\n",
       "      <td>0.645283</td>\n",
       "      <td>0.604348</td>\n",
       "      <td>0.588983</td>\n",
       "      <td>0.596567</td>\n",
       "      <td>NaN</td>\n",
       "      <td>NaN</td>\n",
       "      <td>NaN</td>\n",
       "      <td>NaN</td>\n",
       "      <td>NaN</td>\n",
       "      <td>NaN</td>\n",
       "      <td>NaN</td>\n",
       "      <td>NaN</td>\n",
       "      <td>NaN</td>\n",
       "      <td>NaN</td>\n",
       "      <td>0.639730</td>\n",
       "    </tr>\n",
       "    <tr>\n",
       "      <th>578</th>\n",
       "      <td>20240806_230924</td>\n",
       "      <td>2024-08-07 03:52:36</td>\n",
       "      <td>decision_tree_classifier</td>\n",
       "      <td>binary_classification</td>\n",
       "      <td>full</td>\n",
       "      <td>random_search</td>\n",
       "      <td>True</td>\n",
       "      <td>none</td>\n",
       "      <td>RobustScaler</td>\n",
       "      <td>0.074404</td>\n",
       "      <td>1.355146</td>\n",
       "      <td>None</td>\n",
       "      <td>0.629245</td>\n",
       "      <td>0.582463</td>\n",
       "      <td>0.591102</td>\n",
       "      <td>0.586751</td>\n",
       "      <td>NaN</td>\n",
       "      <td>NaN</td>\n",
       "      <td>NaN</td>\n",
       "      <td>NaN</td>\n",
       "      <td>NaN</td>\n",
       "      <td>NaN</td>\n",
       "      <td>NaN</td>\n",
       "      <td>NaN</td>\n",
       "      <td>NaN</td>\n",
       "      <td>NaN</td>\n",
       "      <td>0.625483</td>\n",
       "    </tr>\n",
       "    <tr>\n",
       "      <th>626</th>\n",
       "      <td>20240806_230924</td>\n",
       "      <td>2024-08-07 06:05:09</td>\n",
       "      <td>logistic_regression</td>\n",
       "      <td>binary_classification</td>\n",
       "      <td>full</td>\n",
       "      <td>random_search</td>\n",
       "      <td>True</td>\n",
       "      <td>complex</td>\n",
       "      <td>MinMaxScaler</td>\n",
       "      <td>0.047197</td>\n",
       "      <td>79.547780</td>\n",
       "      <td>None</td>\n",
       "      <td>0.655660</td>\n",
       "      <td>0.607646</td>\n",
       "      <td>0.639831</td>\n",
       "      <td>0.623323</td>\n",
       "      <td>NaN</td>\n",
       "      <td>NaN</td>\n",
       "      <td>NaN</td>\n",
       "      <td>NaN</td>\n",
       "      <td>NaN</td>\n",
       "      <td>NaN</td>\n",
       "      <td>NaN</td>\n",
       "      <td>NaN</td>\n",
       "      <td>NaN</td>\n",
       "      <td>NaN</td>\n",
       "      <td>0.654099</td>\n",
       "    </tr>\n",
       "    <tr>\n",
       "      <th>642</th>\n",
       "      <td>20240806_230924</td>\n",
       "      <td>2024-08-07 04:55:10</td>\n",
       "      <td>dummy_classifier</td>\n",
       "      <td>binary_classification</td>\n",
       "      <td>large_productions</td>\n",
       "      <td>random_search</td>\n",
       "      <td>False</td>\n",
       "      <td>none</td>\n",
       "      <td>RobustScaler</td>\n",
       "      <td>0.181653</td>\n",
       "      <td>0.833733</td>\n",
       "      <td>None</td>\n",
       "      <td>0.493783</td>\n",
       "      <td>0.429078</td>\n",
       "      <td>0.493878</td>\n",
       "      <td>0.459203</td>\n",
       "      <td>NaN</td>\n",
       "      <td>NaN</td>\n",
       "      <td>NaN</td>\n",
       "      <td>NaN</td>\n",
       "      <td>NaN</td>\n",
       "      <td>NaN</td>\n",
       "      <td>NaN</td>\n",
       "      <td>NaN</td>\n",
       "      <td>NaN</td>\n",
       "      <td>NaN</td>\n",
       "      <td>0.493794</td>\n",
       "    </tr>\n",
       "    <tr>\n",
       "      <th>788</th>\n",
       "      <td>20240806_230924</td>\n",
       "      <td>2024-08-07 03:50:33</td>\n",
       "      <td>logistic_regression</td>\n",
       "      <td>binary_classification</td>\n",
       "      <td>full</td>\n",
       "      <td>random_search</td>\n",
       "      <td>True</td>\n",
       "      <td>none</td>\n",
       "      <td>StandardScaler</td>\n",
       "      <td>0.029617</td>\n",
       "      <td>3.723865</td>\n",
       "      <td>None</td>\n",
       "      <td>0.630189</td>\n",
       "      <td>0.576628</td>\n",
       "      <td>0.637712</td>\n",
       "      <td>0.605634</td>\n",
       "      <td>NaN</td>\n",
       "      <td>NaN</td>\n",
       "      <td>NaN</td>\n",
       "      <td>NaN</td>\n",
       "      <td>NaN</td>\n",
       "      <td>NaN</td>\n",
       "      <td>NaN</td>\n",
       "      <td>NaN</td>\n",
       "      <td>NaN</td>\n",
       "      <td>NaN</td>\n",
       "      <td>0.630931</td>\n",
       "    </tr>\n",
       "    <tr>\n",
       "      <th>808</th>\n",
       "      <td>20240806_230924</td>\n",
       "      <td>2024-08-07 04:55:14</td>\n",
       "      <td>logistic_regression</td>\n",
       "      <td>binary_classification</td>\n",
       "      <td>large_productions</td>\n",
       "      <td>random_search</td>\n",
       "      <td>False</td>\n",
       "      <td>none</td>\n",
       "      <td>RobustScaler</td>\n",
       "      <td>0.073294</td>\n",
       "      <td>3.136091</td>\n",
       "      <td>None</td>\n",
       "      <td>0.655417</td>\n",
       "      <td>0.596958</td>\n",
       "      <td>0.640816</td>\n",
       "      <td>0.618110</td>\n",
       "      <td>NaN</td>\n",
       "      <td>NaN</td>\n",
       "      <td>NaN</td>\n",
       "      <td>NaN</td>\n",
       "      <td>NaN</td>\n",
       "      <td>NaN</td>\n",
       "      <td>NaN</td>\n",
       "      <td>NaN</td>\n",
       "      <td>NaN</td>\n",
       "      <td>NaN</td>\n",
       "      <td>0.653741</td>\n",
       "    </tr>\n",
       "    <tr>\n",
       "      <th>814</th>\n",
       "      <td>20240806_230924</td>\n",
       "      <td>2024-08-07 07:56:17</td>\n",
       "      <td>lightgbm_classifier</td>\n",
       "      <td>binary_classification</td>\n",
       "      <td>medium_productions</td>\n",
       "      <td>random_search</td>\n",
       "      <td>True</td>\n",
       "      <td>complex</td>\n",
       "      <td>MinMaxScaler</td>\n",
       "      <td>0.116137</td>\n",
       "      <td>1041.456089</td>\n",
       "      <td>None</td>\n",
       "      <td>0.637324</td>\n",
       "      <td>0.585185</td>\n",
       "      <td>0.626984</td>\n",
       "      <td>0.605364</td>\n",
       "      <td>NaN</td>\n",
       "      <td>NaN</td>\n",
       "      <td>NaN</td>\n",
       "      <td>NaN</td>\n",
       "      <td>NaN</td>\n",
       "      <td>NaN</td>\n",
       "      <td>NaN</td>\n",
       "      <td>NaN</td>\n",
       "      <td>NaN</td>\n",
       "      <td>NaN</td>\n",
       "      <td>0.636277</td>\n",
       "    </tr>\n",
       "    <tr>\n",
       "      <th>1071</th>\n",
       "      <td>20240806_230924</td>\n",
       "      <td>2024-08-07 06:15:49</td>\n",
       "      <td>xgboost_classifier</td>\n",
       "      <td>binary_classification</td>\n",
       "      <td>full</td>\n",
       "      <td>random_search</td>\n",
       "      <td>True</td>\n",
       "      <td>complex</td>\n",
       "      <td>RobustScaler</td>\n",
       "      <td>0.036971</td>\n",
       "      <td>229.217930</td>\n",
       "      <td>None</td>\n",
       "      <td>0.687736</td>\n",
       "      <td>0.654945</td>\n",
       "      <td>0.631356</td>\n",
       "      <td>0.642934</td>\n",
       "      <td>NaN</td>\n",
       "      <td>NaN</td>\n",
       "      <td>NaN</td>\n",
       "      <td>NaN</td>\n",
       "      <td>NaN</td>\n",
       "      <td>NaN</td>\n",
       "      <td>NaN</td>\n",
       "      <td>NaN</td>\n",
       "      <td>NaN</td>\n",
       "      <td>NaN</td>\n",
       "      <td>0.682175</td>\n",
       "    </tr>\n",
       "    <tr>\n",
       "      <th>1154</th>\n",
       "      <td>20240806_230924</td>\n",
       "      <td>2024-08-07 02:00:57</td>\n",
       "      <td>logistic_regression</td>\n",
       "      <td>binary_classification</td>\n",
       "      <td>large_productions</td>\n",
       "      <td>random_search</td>\n",
       "      <td>False</td>\n",
       "      <td>complex</td>\n",
       "      <td>MinMaxScaler</td>\n",
       "      <td>0.047197</td>\n",
       "      <td>51.048116</td>\n",
       "      <td>None</td>\n",
       "      <td>0.701599</td>\n",
       "      <td>0.644195</td>\n",
       "      <td>0.702041</td>\n",
       "      <td>0.671875</td>\n",
       "      <td>NaN</td>\n",
       "      <td>NaN</td>\n",
       "      <td>NaN</td>\n",
       "      <td>NaN</td>\n",
       "      <td>NaN</td>\n",
       "      <td>NaN</td>\n",
       "      <td>NaN</td>\n",
       "      <td>NaN</td>\n",
       "      <td>NaN</td>\n",
       "      <td>NaN</td>\n",
       "      <td>0.701649</td>\n",
       "    </tr>\n",
       "    <tr>\n",
       "      <th>1204</th>\n",
       "      <td>20240806_230924</td>\n",
       "      <td>2024-08-07 07:38:55</td>\n",
       "      <td>xgboost_classifier</td>\n",
       "      <td>binary_classification</td>\n",
       "      <td>medium_productions</td>\n",
       "      <td>random_search</td>\n",
       "      <td>True</td>\n",
       "      <td>complex</td>\n",
       "      <td>StandardScaler</td>\n",
       "      <td>0.017069</td>\n",
       "      <td>78.270829</td>\n",
       "      <td>None</td>\n",
       "      <td>0.630282</td>\n",
       "      <td>0.581395</td>\n",
       "      <td>0.595238</td>\n",
       "      <td>0.588235</td>\n",
       "      <td>NaN</td>\n",
       "      <td>NaN</td>\n",
       "      <td>NaN</td>\n",
       "      <td>NaN</td>\n",
       "      <td>NaN</td>\n",
       "      <td>NaN</td>\n",
       "      <td>NaN</td>\n",
       "      <td>NaN</td>\n",
       "      <td>NaN</td>\n",
       "      <td>NaN</td>\n",
       "      <td>0.626733</td>\n",
       "    </tr>\n",
       "    <tr>\n",
       "      <th>1240</th>\n",
       "      <td>20240806_230924</td>\n",
       "      <td>2024-08-07 02:37:31</td>\n",
       "      <td>lightgbm_classifier</td>\n",
       "      <td>binary_classification</td>\n",
       "      <td>large_productions</td>\n",
       "      <td>random_search</td>\n",
       "      <td>False</td>\n",
       "      <td>complex</td>\n",
       "      <td>MinMaxScaler</td>\n",
       "      <td>0.044048</td>\n",
       "      <td>1806.319508</td>\n",
       "      <td>None</td>\n",
       "      <td>0.708703</td>\n",
       "      <td>0.673820</td>\n",
       "      <td>0.640816</td>\n",
       "      <td>0.656904</td>\n",
       "      <td>NaN</td>\n",
       "      <td>NaN</td>\n",
       "      <td>NaN</td>\n",
       "      <td>NaN</td>\n",
       "      <td>NaN</td>\n",
       "      <td>NaN</td>\n",
       "      <td>NaN</td>\n",
       "      <td>NaN</td>\n",
       "      <td>NaN</td>\n",
       "      <td>NaN</td>\n",
       "      <td>0.700911</td>\n",
       "    </tr>\n",
       "    <tr>\n",
       "      <th>1358</th>\n",
       "      <td>20240806_230924</td>\n",
       "      <td>2024-08-07 04:57:15</td>\n",
       "      <td>xgboost_classifier</td>\n",
       "      <td>binary_classification</td>\n",
       "      <td>large_productions</td>\n",
       "      <td>random_search</td>\n",
       "      <td>False</td>\n",
       "      <td>none</td>\n",
       "      <td>RobustScaler</td>\n",
       "      <td>0.079765</td>\n",
       "      <td>24.403921</td>\n",
       "      <td>None</td>\n",
       "      <td>0.660746</td>\n",
       "      <td>0.603846</td>\n",
       "      <td>0.640816</td>\n",
       "      <td>0.621782</td>\n",
       "      <td>NaN</td>\n",
       "      <td>NaN</td>\n",
       "      <td>NaN</td>\n",
       "      <td>NaN</td>\n",
       "      <td>NaN</td>\n",
       "      <td>NaN</td>\n",
       "      <td>NaN</td>\n",
       "      <td>NaN</td>\n",
       "      <td>NaN</td>\n",
       "      <td>NaN</td>\n",
       "      <td>0.658458</td>\n",
       "    </tr>\n",
       "    <tr>\n",
       "      <th>1380</th>\n",
       "      <td>20240806_230924</td>\n",
       "      <td>2024-08-07 02:07:24</td>\n",
       "      <td>xgboost_classifier</td>\n",
       "      <td>binary_classification</td>\n",
       "      <td>large_productions</td>\n",
       "      <td>random_search</td>\n",
       "      <td>False</td>\n",
       "      <td>complex</td>\n",
       "      <td>RobustScaler</td>\n",
       "      <td>0.046037</td>\n",
       "      <td>143.035868</td>\n",
       "      <td>None</td>\n",
       "      <td>0.701599</td>\n",
       "      <td>0.658436</td>\n",
       "      <td>0.653061</td>\n",
       "      <td>0.655738</td>\n",
       "      <td>NaN</td>\n",
       "      <td>NaN</td>\n",
       "      <td>NaN</td>\n",
       "      <td>NaN</td>\n",
       "      <td>NaN</td>\n",
       "      <td>NaN</td>\n",
       "      <td>NaN</td>\n",
       "      <td>NaN</td>\n",
       "      <td>NaN</td>\n",
       "      <td>NaN</td>\n",
       "      <td>0.696027</td>\n",
       "    </tr>\n",
       "    <tr>\n",
       "      <th>1392</th>\n",
       "      <td>20240806_230924</td>\n",
       "      <td>2024-08-07 02:05:01</td>\n",
       "      <td>decision_tree_classifier</td>\n",
       "      <td>binary_classification</td>\n",
       "      <td>large_productions</td>\n",
       "      <td>random_search</td>\n",
       "      <td>False</td>\n",
       "      <td>complex</td>\n",
       "      <td>MinMaxScaler</td>\n",
       "      <td>0.011639</td>\n",
       "      <td>26.616882</td>\n",
       "      <td>None</td>\n",
       "      <td>0.635879</td>\n",
       "      <td>0.569930</td>\n",
       "      <td>0.665306</td>\n",
       "      <td>0.613936</td>\n",
       "      <td>NaN</td>\n",
       "      <td>NaN</td>\n",
       "      <td>NaN</td>\n",
       "      <td>NaN</td>\n",
       "      <td>NaN</td>\n",
       "      <td>NaN</td>\n",
       "      <td>NaN</td>\n",
       "      <td>NaN</td>\n",
       "      <td>NaN</td>\n",
       "      <td>NaN</td>\n",
       "      <td>0.639257</td>\n",
       "    </tr>\n",
       "    <tr>\n",
       "      <th>1441</th>\n",
       "      <td>20240806_230924</td>\n",
       "      <td>2024-08-07 05:38:41</td>\n",
       "      <td>random_forest_classifier</td>\n",
       "      <td>binary_classification</td>\n",
       "      <td>medium_productions</td>\n",
       "      <td>random_search</td>\n",
       "      <td>True</td>\n",
       "      <td>none</td>\n",
       "      <td>StandardScaler</td>\n",
       "      <td>0.172081</td>\n",
       "      <td>76.768763</td>\n",
       "      <td>None</td>\n",
       "      <td>0.633803</td>\n",
       "      <td>0.601852</td>\n",
       "      <td>0.515873</td>\n",
       "      <td>0.555556</td>\n",
       "      <td>NaN</td>\n",
       "      <td>NaN</td>\n",
       "      <td>NaN</td>\n",
       "      <td>NaN</td>\n",
       "      <td>NaN</td>\n",
       "      <td>NaN</td>\n",
       "      <td>NaN</td>\n",
       "      <td>NaN</td>\n",
       "      <td>NaN</td>\n",
       "      <td>NaN</td>\n",
       "      <td>0.621861</td>\n",
       "    </tr>\n",
       "    <tr>\n",
       "      <th>1464</th>\n",
       "      <td>20240806_230924</td>\n",
       "      <td>2024-08-07 04:55:09</td>\n",
       "      <td>lightgbm_classifier</td>\n",
       "      <td>binary_classification</td>\n",
       "      <td>full</td>\n",
       "      <td>random_search</td>\n",
       "      <td>True</td>\n",
       "      <td>none</td>\n",
       "      <td>StandardScaler</td>\n",
       "      <td>0.136141</td>\n",
       "      <td>3713.962981</td>\n",
       "      <td>None</td>\n",
       "      <td>0.654717</td>\n",
       "      <td>0.599251</td>\n",
       "      <td>0.677966</td>\n",
       "      <td>0.636183</td>\n",
       "      <td>NaN</td>\n",
       "      <td>NaN</td>\n",
       "      <td>NaN</td>\n",
       "      <td>NaN</td>\n",
       "      <td>NaN</td>\n",
       "      <td>NaN</td>\n",
       "      <td>NaN</td>\n",
       "      <td>NaN</td>\n",
       "      <td>NaN</td>\n",
       "      <td>NaN</td>\n",
       "      <td>0.657010</td>\n",
       "    </tr>\n",
       "    <tr>\n",
       "      <th>1482</th>\n",
       "      <td>20240806_230924</td>\n",
       "      <td>2024-08-07 05:37:21</td>\n",
       "      <td>lightgbm_classifier</td>\n",
       "      <td>binary_classification</td>\n",
       "      <td>large_productions</td>\n",
       "      <td>random_search</td>\n",
       "      <td>False</td>\n",
       "      <td>none</td>\n",
       "      <td>RobustScaler</td>\n",
       "      <td>0.001390</td>\n",
       "      <td>2406.209833</td>\n",
       "      <td>None</td>\n",
       "      <td>0.673179</td>\n",
       "      <td>0.616858</td>\n",
       "      <td>0.657143</td>\n",
       "      <td>0.636364</td>\n",
       "      <td>NaN</td>\n",
       "      <td>NaN</td>\n",
       "      <td>NaN</td>\n",
       "      <td>NaN</td>\n",
       "      <td>NaN</td>\n",
       "      <td>NaN</td>\n",
       "      <td>NaN</td>\n",
       "      <td>NaN</td>\n",
       "      <td>NaN</td>\n",
       "      <td>NaN</td>\n",
       "      <td>0.671339</td>\n",
       "    </tr>\n",
       "    <tr>\n",
       "      <th>1492</th>\n",
       "      <td>20240806_230924</td>\n",
       "      <td>2024-08-07 07:35:04</td>\n",
       "      <td>logistic_regression</td>\n",
       "      <td>binary_classification</td>\n",
       "      <td>medium_productions</td>\n",
       "      <td>random_search</td>\n",
       "      <td>True</td>\n",
       "      <td>complex</td>\n",
       "      <td>MinMaxScaler</td>\n",
       "      <td>0.047197</td>\n",
       "      <td>32.338481</td>\n",
       "      <td>None</td>\n",
       "      <td>0.651408</td>\n",
       "      <td>0.600000</td>\n",
       "      <td>0.642857</td>\n",
       "      <td>0.620690</td>\n",
       "      <td>NaN</td>\n",
       "      <td>NaN</td>\n",
       "      <td>NaN</td>\n",
       "      <td>NaN</td>\n",
       "      <td>NaN</td>\n",
       "      <td>NaN</td>\n",
       "      <td>NaN</td>\n",
       "      <td>NaN</td>\n",
       "      <td>NaN</td>\n",
       "      <td>NaN</td>\n",
       "      <td>0.650542</td>\n",
       "    </tr>\n",
       "    <tr>\n",
       "      <th>1518</th>\n",
       "      <td>20240806_230924</td>\n",
       "      <td>2024-08-07 06:11:26</td>\n",
       "      <td>random_forest_classifier</td>\n",
       "      <td>binary_classification</td>\n",
       "      <td>full</td>\n",
       "      <td>random_search</td>\n",
       "      <td>True</td>\n",
       "      <td>complex</td>\n",
       "      <td>RobustScaler</td>\n",
       "      <td>0.014910</td>\n",
       "      <td>376.271620</td>\n",
       "      <td>None</td>\n",
       "      <td>0.662264</td>\n",
       "      <td>0.625551</td>\n",
       "      <td>0.601695</td>\n",
       "      <td>0.613391</td>\n",
       "      <td>NaN</td>\n",
       "      <td>NaN</td>\n",
       "      <td>NaN</td>\n",
       "      <td>NaN</td>\n",
       "      <td>NaN</td>\n",
       "      <td>NaN</td>\n",
       "      <td>NaN</td>\n",
       "      <td>NaN</td>\n",
       "      <td>NaN</td>\n",
       "      <td>NaN</td>\n",
       "      <td>0.656290</td>\n",
       "    </tr>\n",
       "    <tr>\n",
       "      <th>1684</th>\n",
       "      <td>20240806_230924</td>\n",
       "      <td>2024-08-07 06:03:16</td>\n",
       "      <td>lightgbm_classifier</td>\n",
       "      <td>binary_classification</td>\n",
       "      <td>medium_productions</td>\n",
       "      <td>random_search</td>\n",
       "      <td>True</td>\n",
       "      <td>none</td>\n",
       "      <td>MinMaxScaler</td>\n",
       "      <td>0.099207</td>\n",
       "      <td>1460.720049</td>\n",
       "      <td>None</td>\n",
       "      <td>0.637324</td>\n",
       "      <td>0.611650</td>\n",
       "      <td>0.500000</td>\n",
       "      <td>0.550218</td>\n",
       "      <td>NaN</td>\n",
       "      <td>NaN</td>\n",
       "      <td>NaN</td>\n",
       "      <td>NaN</td>\n",
       "      <td>NaN</td>\n",
       "      <td>NaN</td>\n",
       "      <td>NaN</td>\n",
       "      <td>NaN</td>\n",
       "      <td>NaN</td>\n",
       "      <td>NaN</td>\n",
       "      <td>0.623418</td>\n",
       "    </tr>\n",
       "    <tr>\n",
       "      <th>1718</th>\n",
       "      <td>20240806_230924</td>\n",
       "      <td>2024-08-07 03:52:35</td>\n",
       "      <td>random_forest_classifier</td>\n",
       "      <td>binary_classification</td>\n",
       "      <td>full</td>\n",
       "      <td>random_search</td>\n",
       "      <td>True</td>\n",
       "      <td>none</td>\n",
       "      <td>StandardScaler</td>\n",
       "      <td>0.005070</td>\n",
       "      <td>121.356685</td>\n",
       "      <td>None</td>\n",
       "      <td>0.649057</td>\n",
       "      <td>0.593633</td>\n",
       "      <td>0.671610</td>\n",
       "      <td>0.630219</td>\n",
       "      <td>NaN</td>\n",
       "      <td>NaN</td>\n",
       "      <td>NaN</td>\n",
       "      <td>NaN</td>\n",
       "      <td>NaN</td>\n",
       "      <td>NaN</td>\n",
       "      <td>NaN</td>\n",
       "      <td>NaN</td>\n",
       "      <td>NaN</td>\n",
       "      <td>NaN</td>\n",
       "      <td>0.651281</td>\n",
       "    </tr>\n",
       "    <tr>\n",
       "      <th>2093</th>\n",
       "      <td>20240806_230924</td>\n",
       "      <td>2024-08-07 04:56:50</td>\n",
       "      <td>decision_tree_classifier</td>\n",
       "      <td>binary_classification</td>\n",
       "      <td>large_productions</td>\n",
       "      <td>random_search</td>\n",
       "      <td>False</td>\n",
       "      <td>none</td>\n",
       "      <td>RobustScaler</td>\n",
       "      <td>0.074404</td>\n",
       "      <td>1.032950</td>\n",
       "      <td>None</td>\n",
       "      <td>0.650089</td>\n",
       "      <td>0.593023</td>\n",
       "      <td>0.624490</td>\n",
       "      <td>0.608350</td>\n",
       "      <td>NaN</td>\n",
       "      <td>NaN</td>\n",
       "      <td>NaN</td>\n",
       "      <td>NaN</td>\n",
       "      <td>NaN</td>\n",
       "      <td>NaN</td>\n",
       "      <td>NaN</td>\n",
       "      <td>NaN</td>\n",
       "      <td>NaN</td>\n",
       "      <td>NaN</td>\n",
       "      <td>0.647151</td>\n",
       "    </tr>\n",
       "    <tr>\n",
       "      <th>2199</th>\n",
       "      <td>20240806_230924</td>\n",
       "      <td>2024-08-07 05:37:24</td>\n",
       "      <td>logistic_regression</td>\n",
       "      <td>binary_classification</td>\n",
       "      <td>medium_productions</td>\n",
       "      <td>random_search</td>\n",
       "      <td>True</td>\n",
       "      <td>none</td>\n",
       "      <td>RobustScaler</td>\n",
       "      <td>0.159037</td>\n",
       "      <td>1.898033</td>\n",
       "      <td>None</td>\n",
       "      <td>0.612676</td>\n",
       "      <td>0.572727</td>\n",
       "      <td>0.500000</td>\n",
       "      <td>0.533898</td>\n",
       "      <td>NaN</td>\n",
       "      <td>NaN</td>\n",
       "      <td>NaN</td>\n",
       "      <td>NaN</td>\n",
       "      <td>NaN</td>\n",
       "      <td>NaN</td>\n",
       "      <td>NaN</td>\n",
       "      <td>NaN</td>\n",
       "      <td>NaN</td>\n",
       "      <td>NaN</td>\n",
       "      <td>0.601266</td>\n",
       "    </tr>\n",
       "    <tr>\n",
       "      <th>2246</th>\n",
       "      <td>20240806_230924</td>\n",
       "      <td>2024-08-07 07:37:15</td>\n",
       "      <td>random_forest_classifier</td>\n",
       "      <td>binary_classification</td>\n",
       "      <td>medium_productions</td>\n",
       "      <td>random_search</td>\n",
       "      <td>True</td>\n",
       "      <td>complex</td>\n",
       "      <td>MinMaxScaler</td>\n",
       "      <td>0.075117</td>\n",
       "      <td>130.257853</td>\n",
       "      <td>None</td>\n",
       "      <td>0.658451</td>\n",
       "      <td>0.633028</td>\n",
       "      <td>0.547619</td>\n",
       "      <td>0.587234</td>\n",
       "      <td>NaN</td>\n",
       "      <td>NaN</td>\n",
       "      <td>NaN</td>\n",
       "      <td>NaN</td>\n",
       "      <td>NaN</td>\n",
       "      <td>NaN</td>\n",
       "      <td>NaN</td>\n",
       "      <td>NaN</td>\n",
       "      <td>NaN</td>\n",
       "      <td>NaN</td>\n",
       "      <td>0.647227</td>\n",
       "    </tr>\n",
       "    <tr>\n",
       "      <th>2597</th>\n",
       "      <td>20240806_230924</td>\n",
       "      <td>2024-08-07 05:38:41</td>\n",
       "      <td>decision_tree_classifier</td>\n",
       "      <td>binary_classification</td>\n",
       "      <td>medium_productions</td>\n",
       "      <td>random_search</td>\n",
       "      <td>True</td>\n",
       "      <td>none</td>\n",
       "      <td>MinMaxScaler</td>\n",
       "      <td>0.047197</td>\n",
       "      <td>0.831582</td>\n",
       "      <td>None</td>\n",
       "      <td>0.595070</td>\n",
       "      <td>0.538462</td>\n",
       "      <td>0.611111</td>\n",
       "      <td>0.572491</td>\n",
       "      <td>NaN</td>\n",
       "      <td>NaN</td>\n",
       "      <td>NaN</td>\n",
       "      <td>NaN</td>\n",
       "      <td>NaN</td>\n",
       "      <td>NaN</td>\n",
       "      <td>NaN</td>\n",
       "      <td>NaN</td>\n",
       "      <td>NaN</td>\n",
       "      <td>NaN</td>\n",
       "      <td>0.596695</td>\n",
       "    </tr>\n",
       "    <tr>\n",
       "      <th>2637</th>\n",
       "      <td>20240806_230924</td>\n",
       "      <td>2024-08-07 02:04:34</td>\n",
       "      <td>random_forest_classifier</td>\n",
       "      <td>binary_classification</td>\n",
       "      <td>large_productions</td>\n",
       "      <td>random_search</td>\n",
       "      <td>False</td>\n",
       "      <td>complex</td>\n",
       "      <td>RobustScaler</td>\n",
       "      <td>0.045760</td>\n",
       "      <td>217.194873</td>\n",
       "      <td>None</td>\n",
       "      <td>0.685613</td>\n",
       "      <td>0.646552</td>\n",
       "      <td>0.612245</td>\n",
       "      <td>0.628931</td>\n",
       "      <td>NaN</td>\n",
       "      <td>NaN</td>\n",
       "      <td>NaN</td>\n",
       "      <td>NaN</td>\n",
       "      <td>NaN</td>\n",
       "      <td>NaN</td>\n",
       "      <td>NaN</td>\n",
       "      <td>NaN</td>\n",
       "      <td>NaN</td>\n",
       "      <td>NaN</td>\n",
       "      <td>0.677192</td>\n",
       "    </tr>\n",
       "    <tr>\n",
       "      <th>2654</th>\n",
       "      <td>20240806_230924</td>\n",
       "      <td>2024-08-07 06:12:00</td>\n",
       "      <td>decision_tree_classifier</td>\n",
       "      <td>binary_classification</td>\n",
       "      <td>full</td>\n",
       "      <td>random_search</td>\n",
       "      <td>True</td>\n",
       "      <td>complex</td>\n",
       "      <td>MinMaxScaler</td>\n",
       "      <td>0.083302</td>\n",
       "      <td>33.580103</td>\n",
       "      <td>None</td>\n",
       "      <td>0.633962</td>\n",
       "      <td>0.576642</td>\n",
       "      <td>0.669492</td>\n",
       "      <td>0.619608</td>\n",
       "      <td>NaN</td>\n",
       "      <td>NaN</td>\n",
       "      <td>NaN</td>\n",
       "      <td>NaN</td>\n",
       "      <td>NaN</td>\n",
       "      <td>NaN</td>\n",
       "      <td>NaN</td>\n",
       "      <td>NaN</td>\n",
       "      <td>NaN</td>\n",
       "      <td>NaN</td>\n",
       "      <td>0.637467</td>\n",
       "    </tr>\n",
       "    <tr>\n",
       "      <th>2822</th>\n",
       "      <td>20240806_230924</td>\n",
       "      <td>2024-08-07 05:38:55</td>\n",
       "      <td>xgboost_classifier</td>\n",
       "      <td>binary_classification</td>\n",
       "      <td>medium_productions</td>\n",
       "      <td>random_search</td>\n",
       "      <td>True</td>\n",
       "      <td>none</td>\n",
       "      <td>MinMaxScaler</td>\n",
       "      <td>0.194733</td>\n",
       "      <td>13.800433</td>\n",
       "      <td>None</td>\n",
       "      <td>0.647887</td>\n",
       "      <td>0.610169</td>\n",
       "      <td>0.571429</td>\n",
       "      <td>0.590164</td>\n",
       "      <td>NaN</td>\n",
       "      <td>NaN</td>\n",
       "      <td>NaN</td>\n",
       "      <td>NaN</td>\n",
       "      <td>NaN</td>\n",
       "      <td>NaN</td>\n",
       "      <td>NaN</td>\n",
       "      <td>NaN</td>\n",
       "      <td>NaN</td>\n",
       "      <td>NaN</td>\n",
       "      <td>0.640145</td>\n",
       "    </tr>\n",
       "    <tr>\n",
       "      <th>2965</th>\n",
       "      <td>20240806_230924</td>\n",
       "      <td>2024-08-07 05:37:22</td>\n",
       "      <td>dummy_classifier</td>\n",
       "      <td>binary_classification</td>\n",
       "      <td>medium_productions</td>\n",
       "      <td>random_search</td>\n",
       "      <td>True</td>\n",
       "      <td>none</td>\n",
       "      <td>MinMaxScaler</td>\n",
       "      <td>0.194733</td>\n",
       "      <td>0.742147</td>\n",
       "      <td>None</td>\n",
       "      <td>0.482394</td>\n",
       "      <td>0.421053</td>\n",
       "      <td>0.444444</td>\n",
       "      <td>0.432432</td>\n",
       "      <td>NaN</td>\n",
       "      <td>NaN</td>\n",
       "      <td>NaN</td>\n",
       "      <td>NaN</td>\n",
       "      <td>NaN</td>\n",
       "      <td>NaN</td>\n",
       "      <td>NaN</td>\n",
       "      <td>NaN</td>\n",
       "      <td>NaN</td>\n",
       "      <td>NaN</td>\n",
       "      <td>0.478551</td>\n",
       "    </tr>\n",
       "    <tr>\n",
       "      <th>3015</th>\n",
       "      <td>20240806_230924</td>\n",
       "      <td>2024-08-07 03:50:29</td>\n",
       "      <td>dummy_classifier</td>\n",
       "      <td>binary_classification</td>\n",
       "      <td>full</td>\n",
       "      <td>random_search</td>\n",
       "      <td>True</td>\n",
       "      <td>none</td>\n",
       "      <td>MinMaxScaler</td>\n",
       "      <td>0.045710</td>\n",
       "      <td>1.016705</td>\n",
       "      <td>None</td>\n",
       "      <td>0.501887</td>\n",
       "      <td>0.442149</td>\n",
       "      <td>0.453390</td>\n",
       "      <td>0.447699</td>\n",
       "      <td>NaN</td>\n",
       "      <td>NaN</td>\n",
       "      <td>NaN</td>\n",
       "      <td>NaN</td>\n",
       "      <td>NaN</td>\n",
       "      <td>NaN</td>\n",
       "      <td>NaN</td>\n",
       "      <td>NaN</td>\n",
       "      <td>NaN</td>\n",
       "      <td>NaN</td>\n",
       "      <td>0.497103</td>\n",
       "    </tr>\n",
       "    <tr>\n",
       "      <th>3127</th>\n",
       "      <td>20240806_230924</td>\n",
       "      <td>2024-08-07 07:34:32</td>\n",
       "      <td>dummy_classifier</td>\n",
       "      <td>binary_classification</td>\n",
       "      <td>medium_productions</td>\n",
       "      <td>random_search</td>\n",
       "      <td>True</td>\n",
       "      <td>complex</td>\n",
       "      <td>MinMaxScaler</td>\n",
       "      <td>0.194733</td>\n",
       "      <td>21.284198</td>\n",
       "      <td>None</td>\n",
       "      <td>0.524648</td>\n",
       "      <td>0.466165</td>\n",
       "      <td>0.492063</td>\n",
       "      <td>0.478764</td>\n",
       "      <td>NaN</td>\n",
       "      <td>NaN</td>\n",
       "      <td>NaN</td>\n",
       "      <td>NaN</td>\n",
       "      <td>NaN</td>\n",
       "      <td>NaN</td>\n",
       "      <td>NaN</td>\n",
       "      <td>NaN</td>\n",
       "      <td>NaN</td>\n",
       "      <td>NaN</td>\n",
       "      <td>0.521348</td>\n",
       "    </tr>\n",
       "  </tbody>\n",
       "</table>\n",
       "</div>"
      ],
      "text/plain": [
       "               run_id           timestamp                model_type  \\\n",
       "138   20240806_230924 2024-08-07 07:04:15       lightgbm_classifier   \n",
       "139   20240806_230924 2024-08-07 04:56:49  random_forest_classifier   \n",
       "153   20240806_230924 2024-08-07 06:03:49          dummy_classifier   \n",
       "169   20240806_230924 2024-08-07 02:00:06          dummy_classifier   \n",
       "272   20240806_230924 2024-08-07 07:37:37  decision_tree_classifier   \n",
       "323   20240806_230924 2024-08-07 03:53:15        xgboost_classifier   \n",
       "578   20240806_230924 2024-08-07 03:52:36  decision_tree_classifier   \n",
       "626   20240806_230924 2024-08-07 06:05:09       logistic_regression   \n",
       "642   20240806_230924 2024-08-07 04:55:10          dummy_classifier   \n",
       "788   20240806_230924 2024-08-07 03:50:33       logistic_regression   \n",
       "808   20240806_230924 2024-08-07 04:55:14       logistic_regression   \n",
       "814   20240806_230924 2024-08-07 07:56:17       lightgbm_classifier   \n",
       "1071  20240806_230924 2024-08-07 06:15:49        xgboost_classifier   \n",
       "1154  20240806_230924 2024-08-07 02:00:57       logistic_regression   \n",
       "1204  20240806_230924 2024-08-07 07:38:55        xgboost_classifier   \n",
       "1240  20240806_230924 2024-08-07 02:37:31       lightgbm_classifier   \n",
       "1358  20240806_230924 2024-08-07 04:57:15        xgboost_classifier   \n",
       "1380  20240806_230924 2024-08-07 02:07:24        xgboost_classifier   \n",
       "1392  20240806_230924 2024-08-07 02:05:01  decision_tree_classifier   \n",
       "1441  20240806_230924 2024-08-07 05:38:41  random_forest_classifier   \n",
       "1464  20240806_230924 2024-08-07 04:55:09       lightgbm_classifier   \n",
       "1482  20240806_230924 2024-08-07 05:37:21       lightgbm_classifier   \n",
       "1492  20240806_230924 2024-08-07 07:35:04       logistic_regression   \n",
       "1518  20240806_230924 2024-08-07 06:11:26  random_forest_classifier   \n",
       "1684  20240806_230924 2024-08-07 06:03:16       lightgbm_classifier   \n",
       "1718  20240806_230924 2024-08-07 03:52:35  random_forest_classifier   \n",
       "2093  20240806_230924 2024-08-07 04:56:50  decision_tree_classifier   \n",
       "2199  20240806_230924 2024-08-07 05:37:24       logistic_regression   \n",
       "2246  20240806_230924 2024-08-07 07:37:15  random_forest_classifier   \n",
       "2597  20240806_230924 2024-08-07 05:38:41  decision_tree_classifier   \n",
       "2637  20240806_230924 2024-08-07 02:04:34  random_forest_classifier   \n",
       "2654  20240806_230924 2024-08-07 06:12:00  decision_tree_classifier   \n",
       "2822  20240806_230924 2024-08-07 05:38:55        xgboost_classifier   \n",
       "2965  20240806_230924 2024-08-07 05:37:22          dummy_classifier   \n",
       "3015  20240806_230924 2024-08-07 03:50:29          dummy_classifier   \n",
       "3127  20240806_230924 2024-08-07 07:34:32          dummy_classifier   \n",
       "\n",
       "               problem_type        dataset_name      grid_type  \\\n",
       "138   binary_classification                full  random_search   \n",
       "139   binary_classification   large_productions  random_search   \n",
       "153   binary_classification                full  random_search   \n",
       "169   binary_classification   large_productions  random_search   \n",
       "272   binary_classification  medium_productions  random_search   \n",
       "323   binary_classification                full  random_search   \n",
       "578   binary_classification                full  random_search   \n",
       "626   binary_classification                full  random_search   \n",
       "642   binary_classification   large_productions  random_search   \n",
       "788   binary_classification                full  random_search   \n",
       "808   binary_classification   large_productions  random_search   \n",
       "814   binary_classification  medium_productions  random_search   \n",
       "1071  binary_classification                full  random_search   \n",
       "1154  binary_classification   large_productions  random_search   \n",
       "1204  binary_classification  medium_productions  random_search   \n",
       "1240  binary_classification   large_productions  random_search   \n",
       "1358  binary_classification   large_productions  random_search   \n",
       "1380  binary_classification   large_productions  random_search   \n",
       "1392  binary_classification   large_productions  random_search   \n",
       "1441  binary_classification  medium_productions  random_search   \n",
       "1464  binary_classification                full  random_search   \n",
       "1482  binary_classification   large_productions  random_search   \n",
       "1492  binary_classification  medium_productions  random_search   \n",
       "1518  binary_classification                full  random_search   \n",
       "1684  binary_classification  medium_productions  random_search   \n",
       "1718  binary_classification                full  random_search   \n",
       "2093  binary_classification   large_productions  random_search   \n",
       "2199  binary_classification  medium_productions  random_search   \n",
       "2246  binary_classification  medium_productions  random_search   \n",
       "2597  binary_classification  medium_productions  random_search   \n",
       "2637  binary_classification   large_productions  random_search   \n",
       "2654  binary_classification                full  random_search   \n",
       "2822  binary_classification  medium_productions  random_search   \n",
       "2965  binary_classification  medium_productions  random_search   \n",
       "3015  binary_classification                full  random_search   \n",
       "3127  binary_classification  medium_productions  random_search   \n",
       "\n",
       "      has_outliers_removed feature_engineering          scaler  \\\n",
       "138                   True             complex    RobustScaler   \n",
       "139                  False                none    MinMaxScaler   \n",
       "153                   True             complex    MinMaxScaler   \n",
       "169                  False             complex    MinMaxScaler   \n",
       "272                   True             complex    RobustScaler   \n",
       "323                   True                none    MinMaxScaler   \n",
       "578                   True                none    RobustScaler   \n",
       "626                   True             complex    MinMaxScaler   \n",
       "642                  False                none    RobustScaler   \n",
       "788                   True                none  StandardScaler   \n",
       "808                  False                none    RobustScaler   \n",
       "814                   True             complex    MinMaxScaler   \n",
       "1071                  True             complex    RobustScaler   \n",
       "1154                 False             complex    MinMaxScaler   \n",
       "1204                  True             complex  StandardScaler   \n",
       "1240                 False             complex    MinMaxScaler   \n",
       "1358                 False                none    RobustScaler   \n",
       "1380                 False             complex    RobustScaler   \n",
       "1392                 False             complex    MinMaxScaler   \n",
       "1441                  True                none  StandardScaler   \n",
       "1464                  True                none  StandardScaler   \n",
       "1482                 False                none    RobustScaler   \n",
       "1492                  True             complex    MinMaxScaler   \n",
       "1518                  True             complex    RobustScaler   \n",
       "1684                  True                none    MinMaxScaler   \n",
       "1718                  True                none  StandardScaler   \n",
       "2093                 False                none    RobustScaler   \n",
       "2199                  True                none    RobustScaler   \n",
       "2246                  True             complex    MinMaxScaler   \n",
       "2597                  True                none    MinMaxScaler   \n",
       "2637                 False             complex    RobustScaler   \n",
       "2654                  True             complex    MinMaxScaler   \n",
       "2822                  True                none    MinMaxScaler   \n",
       "2965                  True                none    MinMaxScaler   \n",
       "3015                  True                none    MinMaxScaler   \n",
       "3127                  True             complex    MinMaxScaler   \n",
       "\n",
       "      variance_threshold     duration number_of_combinations  Accuracy  \\\n",
       "138             0.005302  2905.855017                   None  0.683962   \n",
       "139             0.091307    95.522064                   None  0.683837   \n",
       "153             0.045710    32.167884                   None  0.512264   \n",
       "169             0.122371    24.920379                   None  0.523979   \n",
       "272             0.079764    21.878734                   None  0.584507   \n",
       "323             0.178965    39.227496                   None  0.645283   \n",
       "578             0.074404     1.355146                   None  0.629245   \n",
       "626             0.047197    79.547780                   None  0.655660   \n",
       "642             0.181653     0.833733                   None  0.493783   \n",
       "788             0.029617     3.723865                   None  0.630189   \n",
       "808             0.073294     3.136091                   None  0.655417   \n",
       "814             0.116137  1041.456089                   None  0.637324   \n",
       "1071            0.036971   229.217930                   None  0.687736   \n",
       "1154            0.047197    51.048116                   None  0.701599   \n",
       "1204            0.017069    78.270829                   None  0.630282   \n",
       "1240            0.044048  1806.319508                   None  0.708703   \n",
       "1358            0.079765    24.403921                   None  0.660746   \n",
       "1380            0.046037   143.035868                   None  0.701599   \n",
       "1392            0.011639    26.616882                   None  0.635879   \n",
       "1441            0.172081    76.768763                   None  0.633803   \n",
       "1464            0.136141  3713.962981                   None  0.654717   \n",
       "1482            0.001390  2406.209833                   None  0.673179   \n",
       "1492            0.047197    32.338481                   None  0.651408   \n",
       "1518            0.014910   376.271620                   None  0.662264   \n",
       "1684            0.099207  1460.720049                   None  0.637324   \n",
       "1718            0.005070   121.356685                   None  0.649057   \n",
       "2093            0.074404     1.032950                   None  0.650089   \n",
       "2199            0.159037     1.898033                   None  0.612676   \n",
       "2246            0.075117   130.257853                   None  0.658451   \n",
       "2597            0.047197     0.831582                   None  0.595070   \n",
       "2637            0.045760   217.194873                   None  0.685613   \n",
       "2654            0.083302    33.580103                   None  0.633962   \n",
       "2822            0.194733    13.800433                   None  0.647887   \n",
       "2965            0.194733     0.742147                   None  0.482394   \n",
       "3015            0.045710     1.016705                   None  0.501887   \n",
       "3127            0.194733    21.284198                   None  0.524648   \n",
       "\n",
       "      Precision    Recall  F1 Score  MSE  MAPE  MAE  RMSE  RMSLE  MSLE  R2  \\\n",
       "138    0.630975  0.699153  0.663317  NaN   NaN  NaN   NaN    NaN   NaN NaN   \n",
       "139    0.632411  0.653061  0.642570  NaN   NaN  NaN   NaN    NaN   NaN NaN   \n",
       "153    0.453416  0.463983  0.458639  NaN   NaN  NaN   NaN    NaN   NaN NaN   \n",
       "169    0.456274  0.489796  0.472441  NaN   NaN  NaN   NaN    NaN   NaN NaN   \n",
       "272    0.534483  0.492063  0.512397  NaN   NaN  NaN   NaN    NaN   NaN NaN   \n",
       "323    0.604348  0.588983  0.596567  NaN   NaN  NaN   NaN    NaN   NaN NaN   \n",
       "578    0.582463  0.591102  0.586751  NaN   NaN  NaN   NaN    NaN   NaN NaN   \n",
       "626    0.607646  0.639831  0.623323  NaN   NaN  NaN   NaN    NaN   NaN NaN   \n",
       "642    0.429078  0.493878  0.459203  NaN   NaN  NaN   NaN    NaN   NaN NaN   \n",
       "788    0.576628  0.637712  0.605634  NaN   NaN  NaN   NaN    NaN   NaN NaN   \n",
       "808    0.596958  0.640816  0.618110  NaN   NaN  NaN   NaN    NaN   NaN NaN   \n",
       "814    0.585185  0.626984  0.605364  NaN   NaN  NaN   NaN    NaN   NaN NaN   \n",
       "1071   0.654945  0.631356  0.642934  NaN   NaN  NaN   NaN    NaN   NaN NaN   \n",
       "1154   0.644195  0.702041  0.671875  NaN   NaN  NaN   NaN    NaN   NaN NaN   \n",
       "1204   0.581395  0.595238  0.588235  NaN   NaN  NaN   NaN    NaN   NaN NaN   \n",
       "1240   0.673820  0.640816  0.656904  NaN   NaN  NaN   NaN    NaN   NaN NaN   \n",
       "1358   0.603846  0.640816  0.621782  NaN   NaN  NaN   NaN    NaN   NaN NaN   \n",
       "1380   0.658436  0.653061  0.655738  NaN   NaN  NaN   NaN    NaN   NaN NaN   \n",
       "1392   0.569930  0.665306  0.613936  NaN   NaN  NaN   NaN    NaN   NaN NaN   \n",
       "1441   0.601852  0.515873  0.555556  NaN   NaN  NaN   NaN    NaN   NaN NaN   \n",
       "1464   0.599251  0.677966  0.636183  NaN   NaN  NaN   NaN    NaN   NaN NaN   \n",
       "1482   0.616858  0.657143  0.636364  NaN   NaN  NaN   NaN    NaN   NaN NaN   \n",
       "1492   0.600000  0.642857  0.620690  NaN   NaN  NaN   NaN    NaN   NaN NaN   \n",
       "1518   0.625551  0.601695  0.613391  NaN   NaN  NaN   NaN    NaN   NaN NaN   \n",
       "1684   0.611650  0.500000  0.550218  NaN   NaN  NaN   NaN    NaN   NaN NaN   \n",
       "1718   0.593633  0.671610  0.630219  NaN   NaN  NaN   NaN    NaN   NaN NaN   \n",
       "2093   0.593023  0.624490  0.608350  NaN   NaN  NaN   NaN    NaN   NaN NaN   \n",
       "2199   0.572727  0.500000  0.533898  NaN   NaN  NaN   NaN    NaN   NaN NaN   \n",
       "2246   0.633028  0.547619  0.587234  NaN   NaN  NaN   NaN    NaN   NaN NaN   \n",
       "2597   0.538462  0.611111  0.572491  NaN   NaN  NaN   NaN    NaN   NaN NaN   \n",
       "2637   0.646552  0.612245  0.628931  NaN   NaN  NaN   NaN    NaN   NaN NaN   \n",
       "2654   0.576642  0.669492  0.619608  NaN   NaN  NaN   NaN    NaN   NaN NaN   \n",
       "2822   0.610169  0.571429  0.590164  NaN   NaN  NaN   NaN    NaN   NaN NaN   \n",
       "2965   0.421053  0.444444  0.432432  NaN   NaN  NaN   NaN    NaN   NaN NaN   \n",
       "3015   0.442149  0.453390  0.447699  NaN   NaN  NaN   NaN    NaN   NaN NaN   \n",
       "3127   0.466165  0.492063  0.478764  NaN   NaN  NaN   NaN    NaN   NaN NaN   \n",
       "\n",
       "      Threshold Probability Accuracy  Threshold MAPE  Threshold MAPE (25%)  \\\n",
       "138                              NaN             NaN                   NaN   \n",
       "139                              NaN             NaN                   NaN   \n",
       "153                              NaN             NaN                   NaN   \n",
       "169                              NaN             NaN                   NaN   \n",
       "272                              NaN             NaN                   NaN   \n",
       "323                              NaN             NaN                   NaN   \n",
       "578                              NaN             NaN                   NaN   \n",
       "626                              NaN             NaN                   NaN   \n",
       "642                              NaN             NaN                   NaN   \n",
       "788                              NaN             NaN                   NaN   \n",
       "808                              NaN             NaN                   NaN   \n",
       "814                              NaN             NaN                   NaN   \n",
       "1071                             NaN             NaN                   NaN   \n",
       "1154                             NaN             NaN                   NaN   \n",
       "1204                             NaN             NaN                   NaN   \n",
       "1240                             NaN             NaN                   NaN   \n",
       "1358                             NaN             NaN                   NaN   \n",
       "1380                             NaN             NaN                   NaN   \n",
       "1392                             NaN             NaN                   NaN   \n",
       "1441                             NaN             NaN                   NaN   \n",
       "1464                             NaN             NaN                   NaN   \n",
       "1482                             NaN             NaN                   NaN   \n",
       "1492                             NaN             NaN                   NaN   \n",
       "1518                             NaN             NaN                   NaN   \n",
       "1684                             NaN             NaN                   NaN   \n",
       "1718                             NaN             NaN                   NaN   \n",
       "2093                             NaN             NaN                   NaN   \n",
       "2199                             NaN             NaN                   NaN   \n",
       "2246                             NaN             NaN                   NaN   \n",
       "2597                             NaN             NaN                   NaN   \n",
       "2637                             NaN             NaN                   NaN   \n",
       "2654                             NaN             NaN                   NaN   \n",
       "2822                             NaN             NaN                   NaN   \n",
       "2965                             NaN             NaN                   NaN   \n",
       "3015                             NaN             NaN                   NaN   \n",
       "3127                             NaN             NaN                   NaN   \n",
       "\n",
       "      ROC AUC Score  \n",
       "138        0.685461  \n",
       "139        0.680304  \n",
       "153        0.507502  \n",
       "169        0.520055  \n",
       "272        0.575146  \n",
       "323        0.639730  \n",
       "578        0.625483  \n",
       "626        0.654099  \n",
       "642        0.493794  \n",
       "788        0.630931  \n",
       "808        0.653741  \n",
       "814        0.636277  \n",
       "1071       0.682175  \n",
       "1154       0.701649  \n",
       "1204       0.626733  \n",
       "1240       0.700911  \n",
       "1358       0.658458  \n",
       "1380       0.696027  \n",
       "1392       0.639257  \n",
       "1441       0.621861  \n",
       "1464       0.657010  \n",
       "1482       0.671339  \n",
       "1492       0.650542  \n",
       "1518       0.656290  \n",
       "1684       0.623418  \n",
       "1718       0.651281  \n",
       "2093       0.647151  \n",
       "2199       0.601266  \n",
       "2246       0.647227  \n",
       "2597       0.596695  \n",
       "2637       0.677192  \n",
       "2654       0.637467  \n",
       "2822       0.640145  \n",
       "2965       0.478551  \n",
       "3015       0.497103  \n",
       "3127       0.521348  "
      ]
     },
     "execution_count": 42,
     "metadata": {},
     "output_type": "execute_result"
    }
   ],
   "source": [
    "plot_one_metric_of_different_models_per_dataset_with_plotly(experiment_df, problem_type='binary_classification', metric='F1 Score', metric_agg='max', benchmark_model='dummy_classifier')"
   ]
  },
  {
   "cell_type": "code",
   "execution_count": null,
   "metadata": {},
   "outputs": [],
   "source": []
  },
  {
   "cell_type": "code",
   "execution_count": null,
   "metadata": {},
   "outputs": [],
   "source": []
  },
  {
   "cell_type": "code",
   "execution_count": null,
   "metadata": {},
   "outputs": [],
   "source": []
  },
  {
   "cell_type": "code",
   "execution_count": null,
   "metadata": {},
   "outputs": [],
   "source": []
  },
  {
   "cell_type": "code",
   "execution_count": null,
   "metadata": {},
   "outputs": [],
   "source": []
  },
  {
   "cell_type": "code",
   "execution_count": null,
   "metadata": {},
   "outputs": [],
   "source": []
  }
 ],
 "metadata": {
  "kernelspec": {
   "display_name": "bop",
   "language": "python",
   "name": "python3"
  },
  "language_info": {
   "codemirror_mode": {
    "name": "ipython",
    "version": 3
   },
   "file_extension": ".py",
   "mimetype": "text/x-python",
   "name": "python",
   "nbconvert_exporter": "python",
   "pygments_lexer": "ipython3",
   "version": "3.12.3"
  }
 },
 "nbformat": 4,
 "nbformat_minor": 2
}
