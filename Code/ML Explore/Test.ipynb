{
 "cells": [
  {
   "cell_type": "code",
   "execution_count": null,
   "outputs": [],
   "source": [
    "movie_id = ['movie_id']\n",
    "basic_features = ['original_language', \"runtime\", 'day', \"month\", \"year\"]\n",
    "revenue_budget = [\"revenue_usd_adj\", \"budget_usd_adj\"]\n",
    "revenue_budget_log = [\"revenue_usd_adj_log\", \"budget_usd_adj_log\"]\n",
    "eng_features = [\"month_cos\", 'month_sin', \"is_sequel_my\", \"ageCert\"]"
   ],
   "metadata": {
    "collapsed": false
   }
  },
  {
   "cell_type": "code",
   "execution_count": 2,
   "metadata": {
    "collapsed": true
   },
   "outputs": [],
   "source": [
    "import pandas as pd\n",
    "import numpy as np"
   ]
  },
  {
   "cell_type": "code",
   "execution_count": 5,
   "outputs": [],
   "source": [
    "df = pd.read_csv('/Users/iliasxenogiannis/Documents/GitHub/box-office-prediction/Code/Data Pipeline/ml_data_reg.csv')"
   ],
   "metadata": {
    "collapsed": false
   }
  },
  {
   "cell_type": "code",
   "execution_count": 6,
   "outputs": [
    {
     "data": {
      "text/plain": "   movie_id    imdb_id original_language               original_title  \\\n0     47652  tt0865925                en                 Off the Grid   \n1    127316  tt1017437                es           Gigantes de Valdés   \n2     80679  tt1217259                en        In/Significant Others   \n3     25149  tt0407814                en               Full Grown Men   \n4    212968  tt2276023                en  The United States of Autism   \n\n  release_date  runtime  revenue_dom  revenue_int  revenue_world  \\\n0   2006-09-01      110          NaN     218499.0         218499   \n1   2008-01-01      100          NaN      84495.0          84495   \n2   2010-05-14      100       3763.0          NaN           3763   \n3   2006-04-27       78      13716.0          NaN          13716   \n4   2013-04-05       93     100403.0          NaN         100403   \n\n   revenue_open  ...  cat_9880 cat_996701 cat_9979  cat_9994   keyword_max  \\\n0           NaN  ...         0          0        0         0  3.004750e+08   \n1           NaN  ...         0          0        0         0  0.000000e+00   \n2        1408.0  ...         0          0        0         0  0.000000e+00   \n3        3757.0  ...         0          0        0         0  1.033920e+09   \n4        3413.0  ...         0          0        0         0  0.000000e+00   \n\n    keyword_avg  keyword_count  collection_max  collection_avg  \\\n0  4.076013e+07          127.0             0.0             0.0   \n1  0.000000e+00            0.0             0.0             0.0   \n2  0.000000e+00            0.0             0.0             0.0   \n3  7.562242e+07           70.0             0.0             0.0   \n4  0.000000e+00            0.0             0.0             0.0   \n\n   collection_count  \n0               0.0  \n1               0.0  \n2               0.0  \n3               0.0  \n4               0.0  \n\n[5 rows x 2457 columns]",
      "text/html": "<div>\n<style scoped>\n    .dataframe tbody tr th:only-of-type {\n        vertical-align: middle;\n    }\n\n    .dataframe tbody tr th {\n        vertical-align: top;\n    }\n\n    .dataframe thead th {\n        text-align: right;\n    }\n</style>\n<table border=\"1\" class=\"dataframe\">\n  <thead>\n    <tr style=\"text-align: right;\">\n      <th></th>\n      <th>movie_id</th>\n      <th>imdb_id</th>\n      <th>original_language</th>\n      <th>original_title</th>\n      <th>release_date</th>\n      <th>runtime</th>\n      <th>revenue_dom</th>\n      <th>revenue_int</th>\n      <th>revenue_world</th>\n      <th>revenue_open</th>\n      <th>...</th>\n      <th>cat_9880</th>\n      <th>cat_996701</th>\n      <th>cat_9979</th>\n      <th>cat_9994</th>\n      <th>keyword_max</th>\n      <th>keyword_avg</th>\n      <th>keyword_count</th>\n      <th>collection_max</th>\n      <th>collection_avg</th>\n      <th>collection_count</th>\n    </tr>\n  </thead>\n  <tbody>\n    <tr>\n      <th>0</th>\n      <td>47652</td>\n      <td>tt0865925</td>\n      <td>en</td>\n      <td>Off the Grid</td>\n      <td>2006-09-01</td>\n      <td>110</td>\n      <td>NaN</td>\n      <td>218499.0</td>\n      <td>218499</td>\n      <td>NaN</td>\n      <td>...</td>\n      <td>0</td>\n      <td>0</td>\n      <td>0</td>\n      <td>0</td>\n      <td>3.004750e+08</td>\n      <td>4.076013e+07</td>\n      <td>127.0</td>\n      <td>0.0</td>\n      <td>0.0</td>\n      <td>0.0</td>\n    </tr>\n    <tr>\n      <th>1</th>\n      <td>127316</td>\n      <td>tt1017437</td>\n      <td>es</td>\n      <td>Gigantes de Valdés</td>\n      <td>2008-01-01</td>\n      <td>100</td>\n      <td>NaN</td>\n      <td>84495.0</td>\n      <td>84495</td>\n      <td>NaN</td>\n      <td>...</td>\n      <td>0</td>\n      <td>0</td>\n      <td>0</td>\n      <td>0</td>\n      <td>0.000000e+00</td>\n      <td>0.000000e+00</td>\n      <td>0.0</td>\n      <td>0.0</td>\n      <td>0.0</td>\n      <td>0.0</td>\n    </tr>\n    <tr>\n      <th>2</th>\n      <td>80679</td>\n      <td>tt1217259</td>\n      <td>en</td>\n      <td>In/Significant Others</td>\n      <td>2010-05-14</td>\n      <td>100</td>\n      <td>3763.0</td>\n      <td>NaN</td>\n      <td>3763</td>\n      <td>1408.0</td>\n      <td>...</td>\n      <td>0</td>\n      <td>0</td>\n      <td>0</td>\n      <td>0</td>\n      <td>0.000000e+00</td>\n      <td>0.000000e+00</td>\n      <td>0.0</td>\n      <td>0.0</td>\n      <td>0.0</td>\n      <td>0.0</td>\n    </tr>\n    <tr>\n      <th>3</th>\n      <td>25149</td>\n      <td>tt0407814</td>\n      <td>en</td>\n      <td>Full Grown Men</td>\n      <td>2006-04-27</td>\n      <td>78</td>\n      <td>13716.0</td>\n      <td>NaN</td>\n      <td>13716</td>\n      <td>3757.0</td>\n      <td>...</td>\n      <td>0</td>\n      <td>0</td>\n      <td>0</td>\n      <td>0</td>\n      <td>1.033920e+09</td>\n      <td>7.562242e+07</td>\n      <td>70.0</td>\n      <td>0.0</td>\n      <td>0.0</td>\n      <td>0.0</td>\n    </tr>\n    <tr>\n      <th>4</th>\n      <td>212968</td>\n      <td>tt2276023</td>\n      <td>en</td>\n      <td>The United States of Autism</td>\n      <td>2013-04-05</td>\n      <td>93</td>\n      <td>100403.0</td>\n      <td>NaN</td>\n      <td>100403</td>\n      <td>3413.0</td>\n      <td>...</td>\n      <td>0</td>\n      <td>0</td>\n      <td>0</td>\n      <td>0</td>\n      <td>0.000000e+00</td>\n      <td>0.000000e+00</td>\n      <td>0.0</td>\n      <td>0.0</td>\n      <td>0.0</td>\n      <td>0.0</td>\n    </tr>\n  </tbody>\n</table>\n<p>5 rows × 2457 columns</p>\n</div>"
     },
     "execution_count": 6,
     "metadata": {},
     "output_type": "execute_result"
    }
   ],
   "source": [
    "df.head()"
   ],
   "metadata": {
    "collapsed": false
   }
  },
  {
   "cell_type": "code",
   "execution_count": null,
   "outputs": [],
   "source": [],
   "metadata": {
    "collapsed": false
   }
  }
 ],
 "metadata": {
  "kernelspec": {
   "display_name": "Python 3",
   "language": "python",
   "name": "python3"
  },
  "language_info": {
   "codemirror_mode": {
    "name": "ipython",
    "version": 2
   },
   "file_extension": ".py",
   "mimetype": "text/x-python",
   "name": "python",
   "nbconvert_exporter": "python",
   "pygments_lexer": "ipython2",
   "version": "2.7.6"
  }
 },
 "nbformat": 4,
 "nbformat_minor": 0
}
